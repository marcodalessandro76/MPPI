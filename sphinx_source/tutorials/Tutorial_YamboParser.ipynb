{
 "cells": [
  {
   "cell_type": "code",
   "execution_count": 1,
   "metadata": {},
   "outputs": [],
   "source": [
    "# useful to autoreload the module without restarting the kernel\n",
    "%load_ext autoreload\n",
    "%autoreload 2"
   ]
  },
  {
   "cell_type": "code",
   "execution_count": 2,
   "metadata": {},
   "outputs": [],
   "source": [
    "from mppi import InputFiles as I, Calculators as C, Utilities as U, Parsers as P\n",
    "from mppi.Calculators import Tools\n",
    "import matplotlib.pyplot as plt\n",
    "## use ipyml for interactive plots\n",
    "%matplotlib inline  \n",
    "import numpy as np\n",
    "import os"
   ]
  },
  {
   "cell_type": "code",
   "execution_count": 3,
   "metadata": {},
   "outputs": [],
   "source": [
    "omp = 1\n",
    "mpi = 4"
   ]
  },
  {
   "cell_type": "markdown",
   "metadata": {},
   "source": [
    "# Tutorial of the YamboParser class"
   ]
  },
  {
   "cell_type": "markdown",
   "metadata": {},
   "source": [
    "This tutorial describes the usage of the YamboParser class. The parser contains instances \n",
    "of several classes, namely : \n",
    "* the YamboOutputParser that deals with the o- file(s) produced by a yambo computation\n",
    "* the YamboDipolesParser that parse the dipoles database created by Yambo\n",
    "* the YamboDftParser that extract lattice and electronic information (ad the dft level) from the\n",
    "  ns.db1 database written by Yambo in the SAVE folder\n",
    "\n",
    "The class is designed to deal with the output of the run method of YamboCalculator.\n",
    "\n",
    "Here we present a first example by performing a gw calculation:"
   ]
  },
  {
   "cell_type": "code",
   "execution_count": 5,
   "metadata": {},
   "outputs": [
    {
     "name": "stdout",
     "output_type": "stream",
     "text": [
      "Initialize a Yambo calculator with scheduler direct\n"
     ]
    }
   ],
   "source": [
    "rr = C.RunRules(mpi=mpi,omp_num_threads=omp)\n",
    "code = C.YamboCalculator(rr)"
   ]
  },
  {
   "cell_type": "code",
   "execution_count": 6,
   "metadata": {},
   "outputs": [],
   "source": [
    "input_dir = 'QeCalculator_test/outdir_nscf/bands_8.save'"
   ]
  },
  {
   "cell_type": "code",
   "execution_count": 7,
   "metadata": {},
   "outputs": [
    {
     "name": "stdout",
     "output_type": "stream",
     "text": [
      "SAVE folder YamboCalculator_test/SAVE already present. No operations performed.\n"
     ]
    }
   ],
   "source": [
    "run_dir = 'YamboCalculator_test'\n",
    "Tools.init_yambo_dir(yambo_dir=run_dir,input_dir=input_dir,overwrite_if_found=False)"
   ]
  },
  {
   "cell_type": "code",
   "execution_count": 8,
   "metadata": {},
   "outputs": [],
   "source": [
    "inp = I.YamboInput(args='yambo -d -k hartee -g n -p p -V qp',folder=run_dir)\n",
    "inp.set_kRange(1,2)\n",
    "#inp"
   ]
  },
  {
   "cell_type": "code",
   "execution_count": 37,
   "metadata": {},
   "outputs": [
    {
     "name": "stdout",
     "output_type": "stream",
     "text": [
      "Skip the run of qp_test1\n"
     ]
    },
    {
     "data": {
      "text/plain": [
       "{'output': {'qp': 'YamboCalculator_test/qp_test1/o-qp_test1.qp'},\n",
       " 'report': 'YamboCalculator_test/qp_test1/r-qp_test1_HF_and_locXC_gw0_dyson_em1d_ppa_el_el_corr',\n",
       " 'dft': 'YamboCalculator_test/SAVE/ns.db1',\n",
       " 'QP': 'YamboCalculator_test/qp_test1/ndb.QP',\n",
       " 'HF_and_locXC': 'YamboCalculator_test/qp_test1/ndb.HF_and_locXC',\n",
       " 'dipoles': 'YamboCalculator_test/qp_test1/ndb.dipoles',\n",
       " 'pp': 'YamboCalculator_test/qp_test1/ndb.pp'}"
      ]
     },
     "execution_count": 37,
     "metadata": {},
     "output_type": "execute_result"
    }
   ],
   "source": [
    "results = code.run(input = inp, run_dir = run_dir, name='qp_test1')\n",
    "results"
   ]
  },
  {
   "cell_type": "markdown",
   "metadata": {},
   "source": [
    "The calculator contain the references to the o- files and database with the output data.\n",
    "The parser extract the data from the files, as follows"
   ]
  },
  {
   "cell_type": "code",
   "execution_count": 38,
   "metadata": {},
   "outputs": [
    {
     "data": {
      "text/plain": [
       "\u001b[0;31mInit signature:\u001b[0m \u001b[0mP\u001b[0m\u001b[0;34m.\u001b[0m\u001b[0mYamboParser\u001b[0m\u001b[0;34m(\u001b[0m\u001b[0mresults\u001b[0m\u001b[0;34m,\u001b[0m \u001b[0mverbose\u001b[0m\u001b[0;34m=\u001b[0m\u001b[0;32mFalse\u001b[0m\u001b[0;34m,\u001b[0m \u001b[0mextendOut\u001b[0m\u001b[0;34m=\u001b[0m\u001b[0;32mTrue\u001b[0m\u001b[0;34m)\u001b[0m\u001b[0;34m\u001b[0m\u001b[0;34m\u001b[0m\u001b[0m\n",
       "\u001b[0;31mDocstring:\u001b[0m     \n",
       "Class that perform the parsing starting from the results :py:class:`dict` built\n",
       "by the :class:`YamboCalculator` class. In the actual implementation of the class the\n",
       "parser is able to deal with the o- files, the dipoles database, the ``ndb.RT_G_PAR``\n",
       "and the ``ns.db1`` database written in the SAVE folder.\n",
       "\n",
       "Args:\n",
       "    results (:py:class:`dict`): The dictionary of the results built by the\n",
       "        :class:`YamboCalculator` class\n",
       "    verbose (:py:class:`boolean`) : Determine the amount of information provided on terminal\n",
       "    extendOut (:py:class:`boolean`) : Determine which dictionary is used as reference for the\n",
       "                    names of the variables in the :class:`YamboOutputParser`\n",
       "\n",
       "Attributes:\n",
       "    data (:class:`YamboOutputParser`) : contains the instance of the :class:`YamboOutputParser`\n",
       "        class that manage the parsing of the ``o-* files``\n",
       "    dipoles (:class:`YamboDipolesParser`) : contains the instance of the :class:`YamboDipolesParser`\n",
       "        class that manages the parsing of the ``dipoles`` database\n",
       "    dft (:class:`YamboDftParser`) : contains the instance of the :class:`YamboDftParser` that\n",
       "        manages the parsing of the ``ns.db1`` database\n",
       "    qp (:class:`YamboQPParser`) : contains the instance of the :class:`YamboQPParser` that\n",
       "        manages the parsing of the ``ndb.QP`` database\n",
       "    RTCarriers (:class:`YamboRTCarriersParser`) : contains the instance of the\n",
       "        :class:`YamboRTCarriersParser` that manages the parsing of the `ndb.RT_carriers`\n",
       "        database\n",
       "    RTGreen (:class:`YamboRTGlesserParser`) : contains the instance of the\n",
       "        :class:`YamboRTGlesserParser` that manages the parsing of the `ndb.RT_G_PAR`\n",
       "        database\n",
       "\u001b[0;31mInit docstring:\u001b[0m Initialize the data member of the class.\n",
       "\u001b[0;31mFile:\u001b[0m           ~/Applications/MPPI/mppi/Parsers/YamboParser.py\n",
       "\u001b[0;31mType:\u001b[0m           type\n",
       "\u001b[0;31mSubclasses:\u001b[0m     \n"
      ]
     },
     "metadata": {},
     "output_type": "display_data"
    }
   ],
   "source": [
    "P.YamboParser?"
   ]
  },
  {
   "cell_type": "markdown",
   "metadata": {},
   "source": [
    "Note that the extendOut option has to chosen in agreement with the one the input, otherwise\n",
    "the parser atribute the name of the variables of the o- files in an erroneous way"
   ]
  },
  {
   "cell_type": "code",
   "execution_count": 39,
   "metadata": {},
   "outputs": [
    {
     "name": "stdout",
     "output_type": "stream",
     "text": [
      "Parse file YamboCalculator_test/qp_test1/o-qp_test1.qp\n",
      "Parse file : YamboCalculator_test/SAVE/ns.db1\n",
      "Parse file : YamboCalculator_test/qp_test1/ndb.QP\n",
      "Parse file : YamboCalculator_test/qp_test1/ndb.dipoles\n",
      "Spin dipoles not found in the ndb.dipoles\n"
     ]
    }
   ],
   "source": [
    "data = P.YamboParser(results,extendOut=False,verbose=True)"
   ]
  },
  {
   "cell_type": "markdown",
   "metadata": {},
   "source": [
    "Some information on the parsed data can be obtained using the get_info method of the class"
   ]
  },
  {
   "cell_type": "code",
   "execution_count": 40,
   "metadata": {},
   "outputs": [
    {
     "name": "stdout",
     "output_type": "stream",
     "text": [
      "YamboOutputParser variables structure\n",
      "suffix qp with dict_keys(['kpoint', 'band', 'E0', 'EmE0', 'sce0'])\n",
      " \n",
      "YamboDipolesParser variables structure\n",
      "dip_ir shape (32, 4, 4, 3, 2)\n",
      "dip_p shape (32, 4, 4, 3, 2)\n",
      "dip_v shape (32, 4, 4, 3, 2)\n",
      "dip_spin shape (1,)\n",
      " \n",
      "YamboDftParser variables structure\n",
      "number of k points 32\n",
      "number of bands 8\n",
      "spin degeneration 1\n",
      " \n",
      "YamboQPParser variables structure\n",
      "QP_table shape (16, 3)\n",
      "QP_kpts shape (32, 3)\n",
      "QP_E shape (16, 2)\n",
      "QP_Eo shape (16,)\n",
      "QP_Z shape (16, 2)\n",
      " \n"
     ]
    }
   ],
   "source": [
    "data.get_info()"
   ]
  },
  {
   "cell_type": "markdown",
   "metadata": {},
   "source": [
    "Data are encapsulated in the attributes of the class, for instance"
   ]
  },
  {
   "cell_type": "code",
   "execution_count": 23,
   "metadata": {},
   "outputs": [
    {
     "data": {
      "text/plain": [
       "{'qp': {'kpoint': array([1., 1., 1., 1., 1., 1., 1., 1., 2., 2., 2., 2., 2., 2., 2., 2.]),\n",
       "  'band': array([1., 2., 3., 4., 5., 6., 7., 8., 1., 2., 3., 4., 5., 6., 7., 8.]),\n",
       "  'E0': array([-1.189685e+01, -1.216440e-06,  0.000000e+00,  0.000000e+00,\n",
       "          2.565152e+00,  2.565152e+00,  2.565152e+00,  3.146653e+00,\n",
       "         -1.153855e+01, -2.375836e+00, -4.453420e-01, -4.453410e-01,\n",
       "          2.294498e+00,  3.205499e+00,  3.205499e+00,  5.284825e+00]),\n",
       "  'EmE0': array([-1.564291,  0.722413,  0.741914,  0.741673,  1.86755 ,  1.867259,\n",
       "          1.829724,  2.395583, -1.427122,  0.369035,  0.648066,  0.670303,\n",
       "          1.853613,  1.981288,  1.955341,  2.673125]),\n",
       "  'sce0': array([ 4.57619 ,  2.008809,  2.031459,  2.031144, -2.003587, -2.003874,\n",
       "         -2.046769, -1.926959,  4.600586,  2.457894,  2.028683,  2.054817,\n",
       "         -1.999774, -2.067204, -2.096922, -1.932993])}}"
      ]
     },
     "execution_count": 23,
     "metadata": {},
     "output_type": "execute_result"
    }
   ],
   "source": [
    "data.data"
   ]
  },
  {
   "cell_type": "code",
   "execution_count": 13,
   "metadata": {},
   "outputs": [
    {
     "data": {
      "text/plain": [
       "<mppi.Parsers.YamboDftParser.YamboDftParser at 0x7f4707cc38e0>"
      ]
     },
     "execution_count": 13,
     "metadata": {},
     "output_type": "execute_result"
    }
   ],
   "source": [
    "data.dft"
   ]
  },
  {
   "cell_type": "code",
   "execution_count": 14,
   "metadata": {},
   "outputs": [
    {
     "data": {
      "text/plain": [
       "<mppi.Parsers.YamboDipolesParser.YamboDipolesParser at 0x7f4707cc3250>"
      ]
     },
     "execution_count": 14,
     "metadata": {},
     "output_type": "execute_result"
    }
   ],
   "source": [
    "data.dipoles"
   ]
  },
  {
   "cell_type": "markdown",
   "metadata": {},
   "source": [
    "In what follows we describe the features of the various classes using dedicated examples"
   ]
  },
  {
   "cell_type": "markdown",
   "metadata": {},
   "source": [
    "A YamboParser object can be also instanciated directly using the name of the folders that contain the\n",
    "o-* files and the databases, for instance"
   ]
  },
  {
   "cell_type": "code",
   "execution_count": 52,
   "metadata": {},
   "outputs": [],
   "source": [
    "outputPath = 'YamboCalculator_test/qp_test1'"
   ]
  },
  {
   "cell_type": "code",
   "execution_count": 53,
   "metadata": {},
   "outputs": [
    {
     "name": "stdout",
     "output_type": "stream",
     "text": [
      "Parse file YamboCalculator_test/qp_test1/o-qp_test1.qp\n",
      "Parse file : YamboCalculator_test/SAVE/ns.db1\n",
      "Parse file : YamboCalculator_test/qp_test1/ndb.QP\n",
      "Parse file : YamboCalculator_test/qp_test1/ndb.dipoles\n",
      "Spin dipoles not found in the ndb.dipoles\n"
     ]
    }
   ],
   "source": [
    "data2 = P.YamboParser.from_path(run_dir=run_dir,outputPath=outputPath,verbose=True,extendOut=False)"
   ]
  },
  {
   "cell_type": "code",
   "execution_count": 54,
   "metadata": {},
   "outputs": [
    {
     "name": "stdout",
     "output_type": "stream",
     "text": [
      "YamboOutputParser variables structure\n",
      "suffix qp with dict_keys(['kpoint', 'band', 'E0', 'EmE0', 'sce0'])\n",
      " \n",
      "YamboDipolesParser variables structure\n",
      "dip_ir shape (32, 4, 4, 3, 2)\n",
      "dip_p shape (32, 4, 4, 3, 2)\n",
      "dip_v shape (32, 4, 4, 3, 2)\n",
      "dip_spin shape (1,)\n",
      " \n",
      "YamboDftParser variables structure\n",
      "number of k points 32\n",
      "number of bands 8\n",
      "spin degeneration 1\n",
      " \n",
      "YamboQPParser variables structure\n",
      "QP_table shape (16, 3)\n",
      "QP_kpts shape (32, 3)\n",
      "QP_E shape (16, 2)\n",
      "QP_Eo shape (16,)\n",
      "QP_Z shape (16, 2)\n",
      " \n"
     ]
    }
   ],
   "source": [
    "data2.get_info()"
   ]
  },
  {
   "cell_type": "markdown",
   "metadata": {},
   "source": [
    "## Analysis of the YamboOutputParser class"
   ]
  },
  {
   "cell_type": "markdown",
   "metadata": {},
   "source": [
    "The class is designed to deal with the list of o- files produced by Yambo\n",
    "We present some example:"
   ]
  },
  {
   "cell_type": "code",
   "execution_count": 25,
   "metadata": {},
   "outputs": [],
   "source": [
    "qp_output = {'qp' : 'YamboParser_test/qp_results/o-qp_test1.qp'}"
   ]
  },
  {
   "cell_type": "code",
   "execution_count": 26,
   "metadata": {},
   "outputs": [],
   "source": [
    "qp_output_extendOut = {'qp' : 'YamboCalculator_test/qp_test_ExtendOut/o-qp_test_ExtendOut.qp'}"
   ]
  },
  {
   "cell_type": "code",
   "execution_count": 37,
   "metadata": {},
   "outputs": [],
   "source": [
    "rt_output = {'carriers':'YamboParser_test/rt_results/o-NETime_1000-dephase_0.01-freq_1.55-pol_circular.carriers',\n",
    "             'spin_magnetization':'YamboParser_test/rt_results/o-NETime_1000-dephase_0.01-freq_1.55-pol_circular.spin_magnetization',\n",
    "             'external_field':'YamboParser_test/rt_results/o-NETime_1000-dephase_0.01-freq_1.55-pol_circular.external_field',\n",
    "             'polarization':'YamboParser_test/rt_results/o-NETime_1000-dephase_0.01-freq_1.55-pol_circular.polarization'}"
   ]
  },
  {
   "cell_type": "markdown",
   "metadata": {},
   "source": [
    "When the list of files is passed to the parser the extendOut option used to run the computation has to be provided,\n",
    "otherwise the parser could perform a wrong assignement of the names of the variables. "
   ]
  },
  {
   "cell_type": "code",
   "execution_count": 27,
   "metadata": {},
   "outputs": [
    {
     "data": {
      "text/plain": [
       "\u001b[0;31mInit signature:\u001b[0m \u001b[0mP\u001b[0m\u001b[0;34m.\u001b[0m\u001b[0mYamboOutputParser\u001b[0m\u001b[0;34m(\u001b[0m\u001b[0moutput\u001b[0m\u001b[0;34m,\u001b[0m \u001b[0mverbose\u001b[0m\u001b[0;34m=\u001b[0m\u001b[0;32mTrue\u001b[0m\u001b[0;34m,\u001b[0m \u001b[0mextendOut\u001b[0m\u001b[0;34m=\u001b[0m\u001b[0;32mTrue\u001b[0m\u001b[0;34m)\u001b[0m\u001b[0;34m\u001b[0m\u001b[0;34m\u001b[0m\u001b[0m\n",
       "\u001b[0;31mDocstring:\u001b[0m     \n",
       "Class that performs the parsing of a Yambo o- file(s). The class ineriths from :py:class:`dict`\n",
       "and the instance of the class is a dictionary with the data. The keys correspond to the extension\n",
       "of the parsed files.\n",
       "\n",
       "Args:\n",
       "    output (:py:class:`list`): Dictionary with the structure of the output of :py:meth:`get_output_files`\n",
       "        of the `YamboCalculator` module.\n",
       "    verbose (:py:class:`boolean`) : Determine the amount of information provided on terminal\n",
       "    extendOut (:py:class:`boolean`) : Determine which dictionary is used as reference for the\n",
       "                    names of the variables\n",
       "\u001b[0;31mInit docstring:\u001b[0m Initialize the data member of the class.\n",
       "\u001b[0;31mFile:\u001b[0m           ~/Applications/MPPI/mppi/Parsers/YamboOutputParser.py\n",
       "\u001b[0;31mType:\u001b[0m           type\n",
       "\u001b[0;31mSubclasses:\u001b[0m     \n"
      ]
     },
     "metadata": {},
     "output_type": "display_data"
    }
   ],
   "source": [
    "P.YamboOutputParser?"
   ]
  },
  {
   "cell_type": "code",
   "execution_count": 29,
   "metadata": {},
   "outputs": [
    {
     "name": "stdout",
     "output_type": "stream",
     "text": [
      "Parse file YamboParser_test/qp_results/o-qp_test1.qp\n"
     ]
    }
   ],
   "source": [
    "results = P.YamboOutputParser(output=qp_output,extendOut=False)"
   ]
  },
  {
   "cell_type": "markdown",
   "metadata": {},
   "source": [
    "results is a dictionary with the structure"
   ]
  },
  {
   "cell_type": "code",
   "execution_count": 30,
   "metadata": {},
   "outputs": [
    {
     "data": {
      "text/plain": [
       "{'qp': {'kpoint': array([1., 1., 1., 1., 1., 1., 1., 1., 2., 2., 2., 2., 2., 2., 2., 2.]),\n",
       "  'band': array([1., 2., 3., 4., 5., 6., 7., 8., 1., 2., 3., 4., 5., 6., 7., 8.]),\n",
       "  'E0': array([-1.190291e+01, -1.176000e-05, -1.176000e-05,  0.000000e+00,\n",
       "          2.551225e+00,  2.551230e+00,  2.551230e+00,  3.152071e+00,\n",
       "         -1.110872e+01, -3.914389e+00, -7.552550e-01, -7.552460e-01,\n",
       "          1.962407e+00,  3.490390e+00,  3.490396e+00,  6.757975e+00]),\n",
       "  'EmE0': array([-1.50691 ,  0.7861  ,  0.7914  ,  0.7771  ,  1.884047,  1.907533,\n",
       "          1.906476,  2.349819, -1.21027 ,  0.216875,  0.676644,  0.653277,\n",
       "          1.799721,  2.065016,  2.084261,  2.726886]),\n",
       "  'sce0': array([ 4.48108 ,  2.194   ,  2.201   ,  2.184061, -2.137494, -2.110904,\n",
       "         -2.112035, -2.203245,  4.52994 ,  2.934759,  2.263484,  2.236098,\n",
       "         -2.186759, -2.20382 , -2.182057, -2.267519])}}"
      ]
     },
     "execution_count": 30,
     "metadata": {},
     "output_type": "execute_result"
    }
   ],
   "source": [
    "results"
   ]
  },
  {
   "cell_type": "markdown",
   "metadata": {},
   "source": [
    "For several usages it can be useful to access to the results with the object.attribute sintax. \n",
    "In this case it is possible to use the AttributeDict class the perform this conversion"
   ]
  },
  {
   "cell_type": "code",
   "execution_count": 33,
   "metadata": {},
   "outputs": [],
   "source": [
    "obj = U.AttributeDict(**results)"
   ]
  },
  {
   "cell_type": "markdown",
   "metadata": {},
   "source": [
    "and we can access as"
   ]
  },
  {
   "cell_type": "code",
   "execution_count": 34,
   "metadata": {},
   "outputs": [
    {
     "data": {
      "text/plain": [
       "array([-1.190291e+01, -1.176000e-05, -1.176000e-05,  0.000000e+00,\n",
       "        2.551225e+00,  2.551230e+00,  2.551230e+00,  3.152071e+00,\n",
       "       -1.110872e+01, -3.914389e+00, -7.552550e-01, -7.552460e-01,\n",
       "        1.962407e+00,  3.490390e+00,  3.490396e+00,  6.757975e+00])"
      ]
     },
     "execution_count": 34,
     "metadata": {},
     "output_type": "execute_result"
    }
   ],
   "source": [
    "obj.qp.E0"
   ]
  },
  {
   "cell_type": "markdown",
   "metadata": {},
   "source": [
    "Test of a parsing with extendOut = True"
   ]
  },
  {
   "cell_type": "code",
   "execution_count": 35,
   "metadata": {},
   "outputs": [
    {
     "name": "stdout",
     "output_type": "stream",
     "text": [
      "Parse file YamboCalculator_test/qp_test_ExtendOut/o-qp_test_ExtendOut.qp\n"
     ]
    }
   ],
   "source": [
    "results = P.YamboOutputParser(output=qp_output_extendOut,extendOut=True)"
   ]
  },
  {
   "cell_type": "markdown",
   "metadata": {},
   "source": [
    "now all the variables are available, for instance"
   ]
  },
  {
   "cell_type": "code",
   "execution_count": 36,
   "metadata": {},
   "outputs": [
    {
     "data": {
      "text/plain": [
       "array([0.724502, 0.846966, 0.847311, 0.847307, 0.839802, 0.839785,\n",
       "       0.839137, 0.853679, 0.719236, 0.823056, 0.842047, 0.842398,\n",
       "       0.844161, 0.839568, 0.839091, 0.850125])"
      ]
     },
     "execution_count": 36,
     "metadata": {},
     "output_type": "execute_result"
    }
   ],
   "source": [
    "results['qp']['z_Re']"
   ]
  },
  {
   "cell_type": "markdown",
   "metadata": {},
   "source": [
    "Let's see a further example by parsing the typical files of a real-time computation"
   ]
  },
  {
   "cell_type": "code",
   "execution_count": 38,
   "metadata": {},
   "outputs": [
    {
     "name": "stdout",
     "output_type": "stream",
     "text": [
      "Parse file YamboParser_test/rt_results/o-NETime_1000-dephase_0.01-freq_1.55-pol_circular.carriers\n",
      "Parse file YamboParser_test/rt_results/o-NETime_1000-dephase_0.01-freq_1.55-pol_circular.spin_magnetization\n",
      "Parse file YamboParser_test/rt_results/o-NETime_1000-dephase_0.01-freq_1.55-pol_circular.external_field\n",
      "Parse file YamboParser_test/rt_results/o-NETime_1000-dephase_0.01-freq_1.55-pol_circular.polarization\n"
     ]
    }
   ],
   "source": [
    "results = P.YamboOutputParser(rt_output)"
   ]
  },
  {
   "cell_type": "markdown",
   "metadata": {},
   "source": [
    "In this case we have several files, so the dictionary has more than one key"
   ]
  },
  {
   "cell_type": "code",
   "execution_count": 39,
   "metadata": {},
   "outputs": [
    {
     "data": {
      "text/plain": [
       "dict_keys(['carriers', 'spin_magnetization', 'external_field', 'polarization'])"
      ]
     },
     "execution_count": 39,
     "metadata": {},
     "output_type": "execute_result"
    }
   ],
   "source": [
    "results.keys()"
   ]
  },
  {
   "cell_type": "markdown",
   "metadata": {},
   "source": [
    "We can easily perform some plots"
   ]
  },
  {
   "cell_type": "code",
   "execution_count": 40,
   "metadata": {},
   "outputs": [
    {
     "data": {
      "image/png": "[encoded data removed]",
      "text/plain": [
       "<Figure size 432x288 with 1 Axes>"
      ]
     },
     "metadata": {
      "needs_background": "light"
     },
     "output_type": "display_data"
    },
    {
     "data": {
      "text/plain": [
       "<matplotlib.legend.Legend at 0x7f9cad0ef5b0>"
      ]
     },
     "execution_count": 40,
     "metadata": {},
     "output_type": "execute_result"
    },
    {
     "data": {
      "image/png": "[encoded data removed]",
      "text/plain": [
       "<Figure size 432x288 with 1 Axes>"
      ]
     },
     "metadata": {
      "needs_background": "light"
     },
     "output_type": "display_data"
    }
   ],
   "source": [
    "time = results['carriers']['time']\n",
    "elec = results['carriers']['dne']\n",
    "field_int = results['external_field']['Intensity']\n",
    "pol = results['polarization']['Pol_x']\n",
    "\n",
    "ratio = max(field_int)/max(elec)\n",
    "\n",
    "plt.plot(time,ratio*elec,label='dne')\n",
    "plt.plot(time,field_int,label='field_int')\n",
    "plt.legend()\n",
    "plt.show()\n",
    "\n",
    "plt.plot(time,pol,label='Pol_x')\n",
    "plt.legend()"
   ]
  },
  {
   "cell_type": "markdown",
   "metadata": {},
   "source": [
    "Again we can access to the results using the attribute syntax. For instance if we are intersted to the spin_magnetization\n",
    "part of the resutls we can set"
   ]
  },
  {
   "cell_type": "code",
   "execution_count": 41,
   "metadata": {},
   "outputs": [],
   "source": [
    "spin_results = U.AttributeDict(**results['spin_magnetization'])"
   ]
  },
  {
   "cell_type": "code",
   "execution_count": 42,
   "metadata": {},
   "outputs": [
    {
     "data": {
      "text/plain": [
       "[<matplotlib.lines.Line2D at 0x7f9cacfaedf0>]"
      ]
     },
     "execution_count": 42,
     "metadata": {},
     "output_type": "execute_result"
    },
    {
     "data": {
      "image/png": "[encoded data removed]",
      "text/plain": [
       "<Figure size 432x288 with 1 Axes>"
      ]
     },
     "metadata": {
      "needs_background": "light"
     },
     "output_type": "display_data"
    }
   ],
   "source": [
    "plt.plot(spin_results.time,spin_results.Mc_z)\n",
    "plt.plot(spin_results.time,spin_results.Mv_z)"
   ]
  },
  {
   "cell_type": "markdown",
   "metadata": {},
   "source": [
    "###  YamboOutputParser for a ypp computation"
   ]
  },
  {
   "cell_type": "markdown",
   "metadata": {},
   "source": [
    "We test the functionality of the Parser to deal with the output of a ypp -s b computation for plotting the bands structure along a path"
   ]
  },
  {
   "cell_type": "code",
   "execution_count": 43,
   "metadata": {},
   "outputs": [],
   "source": [
    "bands_output = {'bands_interpolated':'YamboCalculator_test/bands_test1/o-bands_test1.bands_interpolated'}"
   ]
  },
  {
   "cell_type": "code",
   "execution_count": 44,
   "metadata": {},
   "outputs": [
    {
     "name": "stdout",
     "output_type": "stream",
     "text": [
      "Parse file YamboCalculator_test/bands_test1/o-bands_test1.bands_interpolated\n"
     ]
    }
   ],
   "source": [
    "results = P.YamboOutputParser(bands_output)"
   ]
  },
  {
   "cell_type": "markdown",
   "metadata": {},
   "source": [
    "For instance"
   ]
  },
  {
   "cell_type": "code",
   "execution_count": 45,
   "metadata": {},
   "outputs": [
    {
     "data": {
      "text/plain": [
       "array([0.        , 0.04593836, 0.09187671, 0.13781506, 0.18375342,\n",
       "       0.22969177, 0.27563013, 0.32156848, 0.36750684, 0.41344519,\n",
       "       0.45938355, 0.5053219 , 0.55126025, 0.59719861, 0.64313696,\n",
       "       0.68907532, 0.73501367, 0.78095203, 0.82689038, 0.87282874,\n",
       "       0.91876709, 0.96470544, 1.0106438 , 1.0565822 , 1.1017687 ,\n",
       "       1.1469552 , 1.19214171, 1.23732823, 1.28251474, 1.32770126,\n",
       "       1.37288778, 1.4180743 , 1.46326081, 1.50844733, 1.55363385,\n",
       "       1.59882037, 1.64400689, 1.6891934 , 1.73437992, 1.77956644,\n",
       "       1.82475296, 1.86993948, 1.91512599, 1.96031251, 2.005499  ,\n",
       "       2.05068555, 2.09587206, 2.14105858, 2.1862451 , 2.2314316 ,\n",
       "       2.2766181 , 2.3235426 , 2.3704671 , 2.41739152, 2.46431598,\n",
       "       2.51124044, 2.5581649 , 2.60508936, 2.65201382, 2.69893828,\n",
       "       2.74586274, 2.79278721, 2.83971167, 2.88663613, 2.93210418,\n",
       "       2.97757224, 3.0230403 , 3.06850835, 3.11397641, 3.15944447,\n",
       "       3.20491252, 3.25038058, 3.29584864, 3.34131669, 3.38678475,\n",
       "       3.43225281, 3.47772086, 3.52318892, 3.56865697, 3.61412503,\n",
       "       3.65959309, 3.70506114, 3.7505292 , 3.79599726, 3.84146531,\n",
       "       3.88693337, 3.93240143, 3.97786948, 4.02333754, 4.0688056 ,\n",
       "       4.11427365, 4.1597417 , 4.2052098 , 4.2506778 ])"
      ]
     },
     "execution_count": 45,
     "metadata": {},
     "output_type": "execute_result"
    }
   ],
   "source": [
    "results['bands_interpolated']['col0'] # kpath"
   ]
  },
  {
   "cell_type": "code",
   "execution_count": 46,
   "metadata": {},
   "outputs": [
    {
     "data": {
      "text/plain": [
       "array([-1.35540660e-06, -1.35540660e-06, -2.37583629e+00, -2.37583629e+00,\n",
       "       -2.37583629e+00, -2.37583629e+00, -5.30497690e+00, -5.30497690e+00,\n",
       "       -5.30497690e+00, -5.30497690e+00, -4.42422173e+00, -4.42422173e+00,\n",
       "       -2.05464056e+00, -2.05464056e+00, -5.30497690e+00, -5.30497690e+00,\n",
       "       -5.30497690e+00, -5.30497690e+00, -2.37583629e+00, -2.37583629e+00,\n",
       "       -2.37583629e+00, -2.37583629e+00, -1.35540660e-06, -1.35540660e-06,\n",
       "       -1.35540660e-06, -1.35540660e-06, -2.05464056e+00, -2.05464056e+00,\n",
       "       -2.05464056e+00, -2.05464056e+00, -5.00667257e+00, -5.00667257e+00,\n",
       "       -5.00667257e+00, -5.00667257e+00, -5.00667257e+00, -7.78724511e+00,\n",
       "       -7.78724511e+00, -7.78724511e+00, -7.78724511e+00, -5.00667257e+00,\n",
       "       -5.00667257e+00, -5.00667257e+00, -5.00667257e+00, -5.00667257e+00,\n",
       "       -1.35540660e-06, -2.05464056e+00, -2.05464056e+00, -2.05464056e+00,\n",
       "       -1.35540660e-06, -1.35540660e-06, -1.35540660e-06, -1.35540660e-06,\n",
       "       -1.35540660e-06, -2.05464056e+00, -2.05464056e+00, -2.05464056e+00,\n",
       "       -2.05464056e+00, -5.00667257e+00, -5.00667257e+00, -5.00667257e+00,\n",
       "       -5.00667257e+00, -7.78724511e+00, -7.78724511e+00, -7.78724511e+00,\n",
       "       -7.78724511e+00, -7.78724511e+00, -7.67094267e+00, -7.67094267e+00,\n",
       "       -6.74725642e+00, -5.63143757e+00, -5.63143757e+00, -6.74725642e+00,\n",
       "       -6.74725642e+00, -6.74725642e+00, -6.74725642e+00, -6.74725567e+00,\n",
       "       -7.67094267e+00, -7.67094267e+00, -6.74725567e+00, -7.67094267e+00,\n",
       "       -7.67094267e+00, -6.54702153e+00, -5.63143688e+00, -5.63143688e+00,\n",
       "       -5.63143688e+00, -5.63143688e+00, -3.71240251e+00, -4.42422154e+00,\n",
       "       -2.05464056e+00, -2.05464056e+00, -2.05464056e+00, -1.35540660e-06,\n",
       "       -1.35540660e-06, -1.35540660e-06])"
      ]
     },
     "execution_count": 46,
     "metadata": {},
     "output_type": "execute_result"
    }
   ],
   "source": [
    "results['bands_interpolated']['col1'] # energies of the first band included in the computation"
   ]
  },
  {
   "cell_type": "markdown",
   "metadata": {},
   "source": [
    "The parser cannot determine the names of the columns because the number of colums depend on the\n",
    "number of bands considered. The meaning of the columns can be identified by knowing the input used to \n",
    "perform the post processing. "
   ]
  },
  {
   "cell_type": "code",
   "execution_count": 47,
   "metadata": {},
   "outputs": [],
   "source": [
    "r = results['bands_interpolated']\n",
    "kpath = r['col0']\n",
    "band3 = r['col1']\n",
    "band4 = r['col2']\n",
    "band5 = r['col3']\n",
    "band6 = r['col4']"
   ]
  },
  {
   "cell_type": "code",
   "execution_count": 48,
   "metadata": {},
   "outputs": [
    {
     "data": {
      "text/plain": [
       "<matplotlib.legend.Legend at 0x7f9cacf895e0>"
      ]
     },
     "execution_count": 48,
     "metadata": {},
     "output_type": "execute_result"
    },
    {
     "data": {
      "image/png": "[encoded data removed]",
      "text/plain": [
       "<Figure size 432x288 with 1 Axes>"
      ]
     },
     "metadata": {
      "needs_background": "light"
     },
     "output_type": "display_data"
    }
   ],
   "source": [
    "plt.plot(kpath,band3,label='band3')\n",
    "plt.plot(kpath,band4,label='band4')\n",
    "plt.plot(kpath,band5,label='band5')\n",
    "plt.plot(kpath,band6,label='band6')\n",
    "plt.legend()"
   ]
  },
  {
   "cell_type": "markdown",
   "metadata": {},
   "source": [
    "## Analysis of the YamboDipolesParser class"
   ]
  },
  {
   "cell_type": "markdown",
   "metadata": {},
   "source": [
    "To analyze the YamboDipolesParser we build the dipoles using Yambo. We start from a nscf\n",
    "computation on GaAs on a regular grid with 12 bands (8 full and 4 empties, since the bands\n",
    "are spin splitted)"
   ]
  },
  {
   "cell_type": "code",
   "execution_count": null,
   "metadata": {},
   "outputs": [],
   "source": [
    "source_dir = 'Pw_bands/gaas_nscf_so.save'\n",
    "save_dir = Tools.make_p2y(source_dir,overwrite_if_found=False)"
   ]
  },
  {
   "cell_type": "code",
   "execution_count": 54,
   "metadata": {},
   "outputs": [
    {
     "name": "stdout",
     "output_type": "stream",
     "text": [
      "Create folder YamboParser_test/DipolesParser\n",
      "Executing command: cd Pw_bands/gaas_nscf_so.save; p2y\n",
      "Create a symlink of /home/marco/Applications/MPPI/sphinx_source/tutorials/Pw_bands/gaas_nscf_so.save/SAVE in YamboParser_test/DipolesParser\n",
      "Executing command: cd YamboParser_test/DipolesParser;OMP_NUM_THREADS=1 mpirun -np 1 yambo\n"
     ]
    }
   ],
   "source": [
    "run_dir = 'YamboParser_test/DipolesParser'\n",
    "Tools.init_yambo_run_dir(save_dir,run_dir,overwrite_if_found=False,make_link=True)"
   ]
  },
  {
   "cell_type": "code",
   "execution_count": 55,
   "metadata": {},
   "outputs": [
    {
     "data": {
      "text/plain": [
       "{'args': 'yambo -dipoles -V all',\n",
       " 'folder': 'YamboParser_test/DipolesParser',\n",
       " 'filename': 'yambo.in',\n",
       " 'arguments': ['DipBandsALL'],\n",
       " 'variables': {'StdoHash': [40.0, ''],\n",
       "  'Nelectro': [8.0, ''],\n",
       "  'ElecTemp': [0.0, 'eV'],\n",
       "  'BoseTemp': [-1.0, 'eV'],\n",
       "  'OccTresh': [1e-05, ''],\n",
       "  'NLogCPUs': [0.0, ''],\n",
       "  'MEM_tresh': [51200.0, 'Kb'],\n",
       "  'DIP_Threads': [0.0, ''],\n",
       "  'DipoleEtresh': [1e-05, 'eV'],\n",
       "  'DBsIOoff': 'none',\n",
       "  'DBsFRAGpm': 'none',\n",
       "  'PAR_def_mode': 'balanced',\n",
       "  'DipComputed': 'R P V Spin',\n",
       "  'DipBands': [[1, 12], '']}}"
      ]
     },
     "execution_count": 55,
     "metadata": {},
     "output_type": "execute_result"
    }
   ],
   "source": [
    "inp = I.YamboInput(args='yambo -dipoles -V all',folder=run_dir)\n",
    "inp['variables']['DipComputed'] = 'R P V Spin'\n",
    "inp['arguments'].append(\"DipBandsALL\")\n",
    "inp"
   ]
  },
  {
   "cell_type": "markdown",
   "metadata": {},
   "source": [
    "Note that the options ``DipBandsALL`` enables the computation of the dipoles elements among all the bands, and not\n",
    "only in for the full-empty couples"
   ]
  },
  {
   "cell_type": "code",
   "execution_count": 56,
   "metadata": {},
   "outputs": [
    {
     "name": "stdout",
     "output_type": "stream",
     "text": [
      "run command: mpirun -np 1 yambo -F dipoles.in -J dipoles -C dipoles\n",
      "computation dipoles is running...\n",
      "computation dipoles ended\n",
      "\n",
      "        There are no o-* files.\n",
      "        Maybe you have performed a ypp computation or wait_end_run and/or\n",
      "        the dry_run option are active.\n",
      "        Otherwise a possible error has occured during the computation\n",
      "        \n",
      "Run performed in 06s\n"
     ]
    },
    {
     "data": {
      "text/plain": [
       "{'output': {},\n",
       " 'report': 'YamboParser_test/DipolesParser/dipoles/r-dipoles_dipoles',\n",
       " 'dft': 'YamboParser_test/DipolesParser/SAVE/ns.db1',\n",
       " 'dipoles': 'YamboParser_test/DipolesParser/dipoles/ndb.dipoles'}"
      ]
     },
     "execution_count": 56,
     "metadata": {},
     "output_type": "execute_result"
    }
   ],
   "source": [
    "code.run(input=inp,run_dir=run_dir,name='dipoles',mpi=1,skip=False)"
   ]
  },
  {
   "cell_type": "markdown",
   "metadata": {},
   "source": [
    "Once that the computation is over, and the database is built by Yambo we parse it"
   ]
  },
  {
   "cell_type": "code",
   "execution_count": 57,
   "metadata": {},
   "outputs": [],
   "source": [
    "dipole_file = os.path.join(run_dir,'dipoles/ndb.dipoles')"
   ]
  },
  {
   "cell_type": "code",
   "execution_count": 58,
   "metadata": {},
   "outputs": [
    {
     "name": "stdout",
     "output_type": "stream",
     "text": [
      "Parse file : YamboParser_test/DipolesParser/dipoles/ndb.dipoles\n"
     ]
    }
   ],
   "source": [
    "dipoles = P.YamboDipolesParser(dipole_file)"
   ]
  },
  {
   "cell_type": "code",
   "execution_count": 59,
   "metadata": {},
   "outputs": [
    {
     "name": "stdout",
     "output_type": "stream",
     "text": [
      "YamboDipolesParser variables structure\n",
      "dip_ir shape (16, 12, 12, 3, 2)\n",
      "dip_p shape (16, 12, 12, 3, 2)\n",
      "dip_v shape (16, 12, 12, 3, 2)\n",
      "dip_spin shape (16, 12, 12, 3, 2)\n"
     ]
    }
   ],
   "source": [
    "dipoles.get_info()"
   ]
  },
  {
   "cell_type": "markdown",
   "metadata": {},
   "source": [
    "We consider the r dipole (x component) and look for the values of the valence->conduction\n",
    "elements"
   ]
  },
  {
   "cell_type": "code",
   "execution_count": 63,
   "metadata": {},
   "outputs": [
    {
     "name": "stdout",
     "output_type": "stream",
     "text": [
      "[[[ 0.00000000e+00+0.00000000e+00j -7.32989130e+00-1.04414460e+00j\n",
      "   -2.67618113e-04-2.73337086e-02j -8.31398256e-01-8.24659863e-01j\n",
      "    1.54225410e-02+5.53155198e-01j -8.47292442e-03-3.52913430e-02j\n",
      "    3.94122962e-02+4.51266933e-01j -3.50684921e-02-4.23464784e-02j\n",
      "   -3.27529949e-03+3.62501186e-03j  3.12675546e-02-8.78397798e-02j\n",
      "   -6.91983853e-03-5.34757557e-03j  5.07940800e-03-9.23038442e-02j]\n",
      "  [-7.32989130e+00+1.04414460e+00j  0.00000000e+00+0.00000000e+00j\n",
      "    8.01318921e-01+8.54408462e-01j -3.56489315e-02-9.21653706e-03j\n",
      "   -9.18567469e-03-1.86620892e-02j  5.51941446e-01+1.59714051e-03j\n",
      "   -8.44179368e-03-1.80563835e-02j -4.53646536e-01+2.62720464e-02j\n",
      "   -3.27381201e-02-8.40906364e-02j  2.53831680e-03-5.56781058e-03j\n",
      "    2.48079709e-02-9.19902074e-02j  5.51535117e-03+1.76623507e-03j]\n",
      "  [-2.67618113e-04+2.73337086e-02j  8.01318921e-01-8.54408462e-01j\n",
      "    0.00000000e+00+0.00000000e+00j  1.89030428e+00+4.66548965e-01j\n",
      "    5.79517535e-02+7.19914584e-02j  2.97413490e-01+5.37567659e-01j\n",
      "    3.39576600e-02+1.71525456e-02j  1.13901180e+00-2.80942908e-02j\n",
      "   -1.35458846e-01+8.48610027e-02j -5.79681904e-03-1.26648203e-02j\n",
      "   -8.71556302e-02-1.00831534e-01j -5.21431367e-03+1.90947218e-02j]\n",
      "  [-8.31398256e-01+8.24659863e-01j -3.56489315e-02+9.21653706e-03j\n",
      "    1.89030428e+00-4.66548965e-01j  0.00000000e+00+0.00000000e+00j\n",
      "    5.45636211e-01-3.35822521e-01j  1.14411805e-02-7.20224684e-02j\n",
      "    2.58112611e-02+1.15460258e+00j -1.03327761e-02+2.34740261e-03j\n",
      "   -9.08485260e-03+1.39249252e-02j  1.57530187e-01+1.64761717e-02j\n",
      "   -9.18993867e-03-6.50085470e-03j  1.11691402e-01+7.31907914e-02j]\n",
      "  [ 1.54225410e-02-5.53155198e-01j -9.18567469e-03+1.86620892e-02j\n",
      "    5.79517535e-02-7.19914584e-02j  5.45636211e-01+3.35822521e-01j\n",
      "    0.00000000e+00+0.00000000e+00j  2.11427743e-01-9.56134044e-01j\n",
      "    1.62831255e+00-7.55540099e-01j  6.61581637e-02+1.10979076e-01j\n",
      "   -9.25205611e-02+4.45597370e-02j  1.38243035e-01+2.87229424e-01j\n",
      "    4.08191950e-02-2.36504566e-04j  2.30604964e-01+2.95389137e-01j]\n",
      "  [-8.47292442e-03+3.52913430e-02j  5.51941446e-01-1.59714051e-03j\n",
      "    2.97413490e-01-5.37567659e-01j  1.14411805e-02+7.20224684e-02j\n",
      "    2.11427743e-01+9.56134044e-01j  0.00000000e+00+0.00000000e+00j\n",
      "   -5.85802578e-02-1.12608495e-01j -1.63776512e+00+7.00740450e-01j\n",
      "   -1.39602536e-01+3.03461916e-01j -5.13598540e-02+6.83745581e-02j\n",
      "   -3.35693039e-01+1.78584191e-01j -7.62539820e-03-1.13538619e-02j]\n",
      "  [ 3.94122962e-02-4.51266933e-01j -8.44179368e-03+1.80563835e-02j\n",
      "    3.39576600e-02-1.71525456e-02j  2.58112611e-02-1.15460258e+00j\n",
      "    1.62831255e+00+7.55540099e-01j -5.85802578e-02+1.12608495e-01j\n",
      "    0.00000000e+00+0.00000000e+00j -2.28599993e+01-4.96581405e+01j\n",
      "   -1.40120452e-03-3.13814570e-02j  3.07801000e+00-1.74927227e+00j\n",
      "   -8.07164003e-03-1.42328602e-02j -8.70404117e-01+5.57876659e-01j]\n",
      "  [-3.50684921e-02+4.23464784e-02j -4.53646536e-01-2.62720464e-02j\n",
      "    1.13901180e+00+2.80942908e-02j -1.03327761e-02-2.34740261e-03j\n",
      "    6.61581637e-02-1.10979076e-01j -1.63776512e+00-7.00740450e-01j\n",
      "   -2.28599993e+01+4.96581405e+01j  0.00000000e+00+0.00000000e+00j\n",
      "   -3.38338401e+00-1.12316434e+00j -8.75460474e-03-8.31172632e-04j\n",
      "    4.99613685e-01+9.46940754e-01j  8.01958247e-03-4.09287053e-02j]\n",
      "  [-3.27529949e-03-3.62501186e-03j -3.27381201e-02+8.40906364e-02j\n",
      "   -1.35458846e-01-8.48610027e-02j -9.08485260e-03-1.39249252e-02j\n",
      "   -9.25205611e-02-4.45597370e-02j -1.39602536e-01-3.03461916e-01j\n",
      "   -1.40120452e-03+3.13814570e-02j -3.38338401e+00+1.12316434e+00j\n",
      "    0.00000000e+00+0.00000000e+00j -1.38856218e+00-5.58888916e+00j\n",
      "   -2.31086113e+00+1.17762304e+00j -1.41328812e-01+1.49001606e-01j]\n",
      "  [ 3.12675546e-02+8.78397798e-02j  2.53831680e-03+5.56781058e-03j\n",
      "   -5.79681904e-03+1.26648203e-02j  1.57530187e-01-1.64761717e-02j\n",
      "    1.38243035e-01-2.87229424e-01j -5.13598540e-02-6.83745581e-02j\n",
      "    3.07801000e+00+1.74927227e+00j -8.75460474e-03+8.31172632e-04j\n",
      "   -1.38856218e+00+5.58888916e+00j  0.00000000e+00+0.00000000e+00j\n",
      "    2.52960030e-02-1.81659493e-01j -7.61363207e-01+2.53330306e+00j]\n",
      "  [-6.91983853e-03+5.34757557e-03j  2.48079709e-02+9.19902074e-02j\n",
      "   -8.71556302e-02+1.00831534e-01j -9.18993867e-03+6.50085470e-03j\n",
      "    4.08191950e-02+2.36504566e-04j -3.35693039e-01-1.78584191e-01j\n",
      "   -8.07164003e-03+1.42328602e-02j  4.99613685e-01-9.46940754e-01j\n",
      "   -2.31086113e+00-1.17762304e+00j  2.52960030e-02+1.81659493e-01j\n",
      "    0.00000000e+00+0.00000000e+00j -4.97362491e+00+1.64461368e+01j]\n",
      "  [ 5.07940800e-03+9.23038442e-02j  5.51535117e-03-1.76623507e-03j\n",
      "   -5.21431367e-03-1.90947218e-02j  1.11691402e-01-7.31907914e-02j\n",
      "    2.30604964e-01-2.95389137e-01j -7.62539820e-03+1.13538619e-02j\n",
      "   -8.70404117e-01-5.57876659e-01j  8.01958247e-03+4.09287053e-02j\n",
      "   -1.41328812e-01-1.49001606e-01j -7.61363207e-01-2.53330306e+00j\n",
      "   -4.97362491e+00-1.64461368e+01j  0.00000000e+00+0.00000000e+00j]]]\n",
      "[]\n"
     ]
    }
   ],
   "source": [
    "k = 0\n",
    "vb = 7\n",
    "cb = 8\n",
    "print(dipoles.r_dipole(k,vb,cb,0))\n",
    "print(dipoles.r_dipole(k,cb,vb,0))"
   ]
  },
  {
   "cell_type": "markdown",
   "metadata": {},
   "source": [
    "we observe that inverting the order of the bands changes sign to the imaginary part of the matrix\n",
    "element, as expected."
   ]
  },
  {
   "cell_type": "markdown",
   "metadata": {
    "tags": []
   },
   "source": [
    "## Analysis of the YamboDftParser class"
   ]
  },
  {
   "cell_type": "markdown",
   "metadata": {},
   "source": [
    "This database collects information about the lattice and electronic properties\n",
    "of the system.\n",
    "\n",
    "The information codified in this database are usually equivalent to the ones in the QuantumESPRESSO\n",
    "data-file-schema.xml and the YamboDftParser shares many common functions with the PwParser.\n",
    "\n",
    "To perform a comparison we consider the example of bulk WSe2, that has a exaghonal symmetry (ibrav=4 in pw input) with\n",
    "layered structure in the $z$ direction. We consider a 12x12x3 $k$-sampling with 100 bands and we compare the `data-file-schema.xml` and\n",
    "the `ns.db1` database."
   ]
  },
  {
   "cell_type": "code",
   "execution_count": 30,
   "metadata": {},
   "outputs": [],
   "source": [
    "xml = 'YamboParser_test/dftParsers_results/WSe2_12x12x3_100bands/data-file-schema.xml'\n",
    "nsdb = 'YamboParser_test/dftParsers_results/WSe2_12x12x3_100bands/ns.db1'"
   ]
  },
  {
   "cell_type": "code",
   "execution_count": 31,
   "metadata": {},
   "outputs": [
    {
     "name": "stdout",
     "output_type": "stream",
     "text": [
      "Parse file : YamboParser_test/dftParsers_results/WSe2_12x12x3_100bands/data-file-schema.xml\n",
      "Parse file : YamboParser_test/dftParsers_results/WSe2_12x12x3_100bands/ns.db1\n"
     ]
    }
   ],
   "source": [
    "pw_data = P.PwParser(xml)\n",
    "yambo_data = P.YamboDftParser(nsdb)"
   ]
  },
  {
   "cell_type": "code",
   "execution_count": 32,
   "metadata": {},
   "outputs": [
    {
     "name": "stdout",
     "output_type": "stream",
     "text": [
      "[ 6.198302   5.3678865 24.483292 ]\n",
      "[[ 6.198302   0.         0.       ]\n",
      " [-3.099151   5.3678865  0.       ]\n",
      " [ 0.         0.        24.483292 ]]\n",
      "100\n",
      "52\n",
      "1\n",
      "12\n"
     ]
    },
    {
     "data": {
      "text/plain": [
       "array([[ 1.0000001,  0.       ,  0.       ],\n",
       "       [ 0.       , -1.       ,  0.       ],\n",
       "       [ 0.       ,  0.       , -1.0000001]], dtype=float32)"
      ]
     },
     "execution_count": 32,
     "metadata": {},
     "output_type": "execute_result"
    }
   ],
   "source": [
    "print(yambo_data.alat)\n",
    "print(yambo_data.lattice)\n",
    "print(yambo_data.nbands)\n",
    "print(yambo_data.nbands_full)\n",
    "print(yambo_data.spin_degen)\n",
    "print(len(yambo_data.syms))\n",
    "yambo_data.syms[1]"
   ]
  },
  {
   "cell_type": "code",
   "execution_count": 33,
   "metadata": {},
   "outputs": [
    {
     "name": "stdout",
     "output_type": "stream",
     "text": [
      "6.198301719262\n",
      "[[ 6.19830172  0.          0.        ]\n",
      " [-3.09915086  5.36788675  0.        ]\n",
      " [ 0.          0.         24.48329179]]\n"
     ]
    }
   ],
   "source": [
    "print(pw_data.alat)\n",
    "print(pw_data.lattice)"
   ]
  },
  {
   "cell_type": "markdown",
   "metadata": {},
   "source": [
    "__Note that Yambo uses a vector alat variable. For this reason if we compare the expression of the lattice vector expressed in units of alat and the \n",
    "ones of the reciprocal axis vector expressed in units of 2$\\pi$/alat they have different components. This can be confirmed by looking in the log and\n",
    "in r_setup file in the folder `YamboParser_test/dftParsers_results/WSe2_12x12x3_100bands`.__"
   ]
  },
  {
   "cell_type": "code",
   "execution_count": 34,
   "metadata": {},
   "outputs": [
    {
     "data": {
      "text/plain": [
       "array([[ 1.       ,  0.       ,  0.       ],\n",
       "       [-0.5      ,  0.8660254,  0.       ],\n",
       "       [ 0.       ,  0.       ,  3.95     ]])"
      ]
     },
     "execution_count": 34,
     "metadata": {},
     "output_type": "execute_result"
    }
   ],
   "source": [
    "pw_data.get_lattice(rescale=True)"
   ]
  },
  {
   "cell_type": "code",
   "execution_count": 35,
   "metadata": {},
   "outputs": [
    {
     "data": {
      "text/plain": [
       "array([[ 1.       ,  0.       ,  0.       ],\n",
       "       [-0.5      ,  0.8660254,  0.       ],\n",
       "       [ 0.       ,  0.       ,  3.9499998]], dtype=float32)"
      ]
     },
     "execution_count": 35,
     "metadata": {},
     "output_type": "execute_result"
    }
   ],
   "source": [
    "yambo_data.get_lattice(rescale=True)"
   ]
  },
  {
   "cell_type": "markdown",
   "metadata": {},
   "source": [
    "Note that the get_lattice method of yambo_data rescale the lattice vectors w.r.t the first component of the vector alat parameter of yambo, so the result is equivalent to the one of the pw_data class.\n",
    "\n",
    "Due to the same approach also the reciprocal lattice are consistent in the two classes"
   ]
  },
  {
   "cell_type": "code",
   "execution_count": 36,
   "metadata": {},
   "outputs": [
    {
     "data": {
      "text/plain": [
       "array([[ 1.        ,  0.57735027, -0.        ],\n",
       "       [ 0.        ,  1.15470054,  0.        ],\n",
       "       [ 0.        , -0.        ,  0.25316456]])"
      ]
     },
     "execution_count": 36,
     "metadata": {},
     "output_type": "execute_result"
    }
   ],
   "source": [
    "pw_data.get_reciprocal_lattice(rescale=True)"
   ]
  },
  {
   "cell_type": "code",
   "execution_count": 37,
   "metadata": {},
   "outputs": [
    {
     "data": {
      "text/plain": [
       "array([[ 1.        ,  0.5773503 , -0.        ],\n",
       "       [ 0.        ,  1.1547006 ,  0.        ],\n",
       "       [ 0.        , -0.        ,  0.25316456]], dtype=float32)"
      ]
     },
     "execution_count": 37,
     "metadata": {},
     "output_type": "execute_result"
    }
   ],
   "source": [
    "yambo_data.get_reciprocal_lattice(rescale=True)"
   ]
  },
  {
   "cell_type": "markdown",
   "metadata": {},
   "source": [
    "We also compare the expressions of the k-points"
   ]
  },
  {
   "cell_type": "code",
   "execution_count": 38,
   "metadata": {},
   "outputs": [
    {
     "data": {
      "text/plain": [
       "array([[ 0.        ,  0.        ,  0.        ],\n",
       "       [ 0.        ,  0.        ,  0.08438819],\n",
       "       [ 0.        ,  0.09622504,  0.        ],\n",
       "       [ 0.        ,  0.09622504,  0.08438819],\n",
       "       [ 0.        ,  0.19245009,  0.        ],\n",
       "       [ 0.        ,  0.19245009,  0.08438819],\n",
       "       [ 0.        ,  0.28867513,  0.        ],\n",
       "       [ 0.        ,  0.28867513,  0.08438819],\n",
       "       [ 0.        ,  0.38490018,  0.        ],\n",
       "       [ 0.        ,  0.38490018,  0.08438819],\n",
       "       [ 0.        ,  0.48112522,  0.        ],\n",
       "       [ 0.        ,  0.48112522,  0.08438819],\n",
       "       [ 0.        , -0.57735027,  0.        ],\n",
       "       [ 0.        , -0.57735027,  0.08438819],\n",
       "       [ 0.08333333,  0.14433757,  0.        ],\n",
       "       [ 0.08333333,  0.14433757,  0.08438819],\n",
       "       [ 0.08333333,  0.24056261,  0.        ],\n",
       "       [ 0.08333333,  0.24056261,  0.08438819],\n",
       "       [ 0.08333333,  0.33678766,  0.        ],\n",
       "       [ 0.08333333,  0.33678766,  0.08438819]])"
      ]
     },
     "execution_count": 38,
     "metadata": {},
     "output_type": "execute_result"
    }
   ],
   "source": [
    "pw_data.kpoints[0:20]"
   ]
  },
  {
   "cell_type": "code",
   "execution_count": 39,
   "metadata": {},
   "outputs": [
    {
     "data": {
      "text/plain": [
       "array([[ 0.        ,  0.        ,  0.        ],\n",
       "       [ 0.        ,  0.        ,  0.33333334],\n",
       "       [ 0.        ,  0.08333333,  0.        ],\n",
       "       [ 0.        ,  0.08333333,  0.33333334],\n",
       "       [ 0.        ,  0.16666666,  0.        ],\n",
       "       [ 0.        ,  0.16666666,  0.33333334],\n",
       "       [ 0.        ,  0.24999999,  0.        ],\n",
       "       [ 0.        ,  0.24999999,  0.33333334],\n",
       "       [ 0.        ,  0.3333333 ,  0.        ],\n",
       "       [ 0.        ,  0.3333333 ,  0.33333334],\n",
       "       [ 0.        ,  0.41666666,  0.        ],\n",
       "       [ 0.        ,  0.41666666,  0.33333334],\n",
       "       [ 0.        , -0.49999997,  0.        ],\n",
       "       [ 0.        , -0.49999997,  0.33333334],\n",
       "       [ 0.08333334,  0.12499999,  0.        ],\n",
       "       [ 0.08333334,  0.12499999,  0.33333334],\n",
       "       [ 0.08333334,  0.20833333,  0.        ],\n",
       "       [ 0.08333334,  0.20833333,  0.33333334],\n",
       "       [ 0.08333334,  0.29166666,  0.        ],\n",
       "       [ 0.08333334,  0.29166666,  0.33333334]], dtype=float32)"
      ]
     },
     "execution_count": 39,
     "metadata": {},
     "output_type": "execute_result"
    }
   ],
   "source": [
    "yambo_data.kpoints[0:20]"
   ]
  },
  {
   "cell_type": "markdown",
   "metadata": {},
   "source": [
    "Which are different because they represent the cart. coord. in units 2pi/alat and again yambo uses a vector alat."
   ]
  },
  {
   "cell_type": "code",
   "execution_count": 40,
   "metadata": {},
   "outputs": [
    {
     "data": {
      "text/plain": [
       "array([[ 0.        ,  0.        ,  0.        ],\n",
       "       [ 0.        ,  0.        ,  0.08438819],\n",
       "       [ 0.        ,  0.09622505,  0.        ],\n",
       "       [ 0.        ,  0.09622505,  0.08438819],\n",
       "       [ 0.        ,  0.19245009,  0.        ],\n",
       "       [ 0.        ,  0.19245009,  0.08438819],\n",
       "       [ 0.        ,  0.28867513,  0.        ],\n",
       "       [ 0.        ,  0.28867513,  0.08438819],\n",
       "       [ 0.        ,  0.38490018,  0.        ],\n",
       "       [ 0.        ,  0.38490018,  0.08438819],\n",
       "       [ 0.        ,  0.48112527,  0.        ],\n",
       "       [ 0.        ,  0.48112527,  0.08438819],\n",
       "       [ 0.        , -0.57735026,  0.        ],\n",
       "       [ 0.        , -0.57735026,  0.08438819],\n",
       "       [ 0.08333334,  0.14433756,  0.        ],\n",
       "       [ 0.08333334,  0.14433756,  0.08438819],\n",
       "       [ 0.08333334,  0.24056263,  0.        ],\n",
       "       [ 0.08333334,  0.24056263,  0.08438819],\n",
       "       [ 0.08333334,  0.33678767,  0.        ],\n",
       "       [ 0.08333334,  0.33678767,  0.08438819]], dtype=float32)"
      ]
     },
     "execution_count": 40,
     "metadata": {},
     "output_type": "execute_result"
    }
   ],
   "source": [
    "yambo_data.get_kpoints(use_scalar_alat=True)[0:20]"
   ]
  },
  {
   "cell_type": "markdown",
   "metadata": {},
   "source": [
    "In this way the components are equal to the ones of the pw_data class."
   ]
  },
  {
   "cell_type": "markdown",
   "metadata": {},
   "source": [
    "The class contain also methods to compute the lattice volume"
   ]
  },
  {
   "cell_type": "code",
   "execution_count": 27,
   "metadata": {},
   "outputs": [
    {
     "data": {
      "text/plain": [
       "814.6027"
      ]
     },
     "execution_count": 27,
     "metadata": {},
     "output_type": "execute_result"
    }
   ],
   "source": [
    "yambo_data.eval_lattice_volume(rescale=False)"
   ]
  },
  {
   "cell_type": "code",
   "execution_count": 28,
   "metadata": {},
   "outputs": [
    {
     "data": {
      "text/plain": [
       "814.6027389471978"
      ]
     },
     "execution_count": 28,
     "metadata": {},
     "output_type": "execute_result"
    }
   ],
   "source": [
    "pw_data.eval_lattice_volume(rescale=False)"
   ]
  },
  {
   "cell_type": "code",
   "execution_count": 25,
   "metadata": {},
   "outputs": [
    {
     "data": {
      "text/plain": [
       "0.29232928"
      ]
     },
     "execution_count": 25,
     "metadata": {},
     "output_type": "execute_result"
    }
   ],
   "source": [
    "yambo_data.eval_reciprocal_lattice_volume(rescale=True)"
   ]
  },
  {
   "cell_type": "code",
   "execution_count": 26,
   "metadata": {},
   "outputs": [
    {
     "data": {
      "text/plain": [
       "0.2923292502226171"
      ]
     },
     "execution_count": 26,
     "metadata": {},
     "output_type": "execute_result"
    }
   ],
   "source": [
    "pw_data.eval_reciprocal_lattice_volume(rescale=True)"
   ]
  },
  {
   "cell_type": "markdown",
   "metadata": {},
   "source": [
    "Lastly, we show the kpoints distribution after a Fixsymm procedure. We use the same WSe2 calculation but we load the ndb\n",
    "obtained after the Fixsymm."
   ]
  },
  {
   "cell_type": "code",
   "execution_count": 12,
   "metadata": {},
   "outputs": [
    {
     "name": "stdout",
     "output_type": "stream",
     "text": [
      "Parse file : YamboParser_test/rt_results/ns.db1\n"
     ]
    }
   ],
   "source": [
    "dft_ndb = 'YamboParser_test/rt_results/ns.db1'\n",
    "fixsymm_data = P.YamboDftParser(dft_ndb)"
   ]
  },
  {
   "cell_type": "code",
   "execution_count": 13,
   "metadata": {},
   "outputs": [],
   "source": [
    "kpoints = fixsymm_data.get_kpoints(use_scalar_alat=True)"
   ]
  },
  {
   "cell_type": "code",
   "execution_count": 14,
   "metadata": {},
   "outputs": [],
   "source": [
    "# in cartesian coordinates\n",
    "Gamma = np.array([0.,0.,0.])\n",
    "K = np.array([1/3.,1/np.sqrt(3.),0])\n",
    "M = np.array([0.,1/np.sqrt(3.),0])"
   ]
  },
  {
   "cell_type": "code",
   "execution_count": 15,
   "metadata": {},
   "outputs": [
    {
     "data": {
      "text/plain": [
       "222"
      ]
     },
     "execution_count": 15,
     "metadata": {},
     "output_type": "execute_result"
    }
   ],
   "source": [
    "numk = kpoints.shape[0]\n",
    "numk"
   ]
  },
  {
   "cell_type": "code",
   "execution_count": 19,
   "metadata": {},
   "outputs": [
    {
     "data": {
      "text/plain": [
       "[<matplotlib.lines.Line2D at 0x7fb098acc700>]"
      ]
     },
     "execution_count": 19,
     "metadata": {},
     "output_type": "execute_result"
    },
    {
     "data": {
      "image/png": "[encoded data removed]",
      "text/plain": [
       "<Figure size 1000x800 with 1 Axes>"
      ]
     },
     "metadata": {},
     "output_type": "display_data"
    }
   ],
   "source": [
    "fig, ax = plt.subplots(figsize=(10, 8))\n",
    "\n",
    "for ind in range(numk): # limit to 50 for the non expanded grid\n",
    "    if kpoints[ind,2] == 0.: # project on the xy plane\n",
    "        plt.scatter(kpoints[ind,0],kpoints[ind,1])\n",
    "        plt.text(kpoints[ind,0]-0.01,kpoints[ind,1]+0.02,ind)\n",
    "IBZ = [Gamma[0:2],K[0:2], M[0:2],Gamma[0:2]]\n",
    "plt.plot(*np.column_stack(IBZ),color='red')"
   ]
  },
  {
   "cell_type": "code",
   "execution_count": 17,
   "metadata": {},
   "outputs": [
    {
     "data": {
      "image/png": "[encoded data removed]",
      "text/plain": [
       "<Figure size 900x900 with 1 Axes>"
      ]
     },
     "metadata": {},
     "output_type": "display_data"
    }
   ],
   "source": [
    "fig = plt.figure(figsize=(9, 9))\n",
    "ax = fig.add_subplot(projection='3d')\n",
    "ax.view_init(10, 35)\n",
    "for ind in range(numk):\n",
    "    ax.scatter3D(kpoints[ind,0],kpoints[ind,1],kpoints[ind,2])\n",
    "plt.show()"
   ]
  },
  {
   "cell_type": "markdown",
   "metadata": {},
   "source": [
    "## Analysis of the YamboQPParser class"
   ]
  },
  {
   "cell_type": "markdown",
   "metadata": {},
   "source": [
    "This database collects information about the quasi-particle correction"
   ]
  },
  {
   "cell_type": "code",
   "execution_count": 11,
   "metadata": {},
   "outputs": [
    {
     "name": "stdout",
     "output_type": "stream",
     "text": [
      "Parse file : YamboCalculator_test/qp_test1/ndb.QP\n",
      "[8, 32, 16, 0, 0, 24]\n"
     ]
    }
   ],
   "source": [
    "qp_ndb = 'YamboCalculator_test/qp_test1/ndb.QP'\n",
    "qp_data = P.YamboQPParser(qp_ndb)"
   ]
  },
  {
   "cell_type": "code",
   "execution_count": 12,
   "metadata": {},
   "outputs": [
    {
     "name": "stdout",
     "output_type": "stream",
     "text": [
      "YamboQPParser variables structure\n",
      "QP_table shape (16, 3)\n",
      "QP_kpts shape (32, 3)\n",
      "QP_E shape (16, 2)\n",
      "QP_Eo shape (16,)\n",
      "QP_Z shape (16, 2)\n"
     ]
    }
   ],
   "source": [
    "qp_data.get_info()"
   ]
  },
  {
   "cell_type": "code",
   "execution_count": 5,
   "metadata": {},
   "outputs": [
    {
     "data": {
      "text/plain": [
       "array([[1., 1., 1.],\n",
       "       [2., 2., 1.],\n",
       "       [3., 3., 1.],\n",
       "       [4., 4., 1.],\n",
       "       [5., 5., 1.],\n",
       "       [6., 6., 1.],\n",
       "       [7., 7., 1.],\n",
       "       [8., 8., 1.],\n",
       "       [1., 1., 2.],\n",
       "       [2., 2., 2.],\n",
       "       [3., 3., 2.],\n",
       "       [4., 4., 2.],\n",
       "       [5., 5., 2.],\n",
       "       [6., 6., 2.],\n",
       "       [7., 7., 2.],\n",
       "       [8., 8., 2.]], dtype=float32)"
      ]
     },
     "execution_count": 5,
     "metadata": {},
     "output_type": "execute_result"
    }
   ],
   "source": [
    "qp_data.QP_table"
   ]
  },
  {
   "cell_type": "code",
   "execution_count": 6,
   "metadata": {},
   "outputs": [
    {
     "data": {
      "text/plain": [
       "array([-1.1896851e+01, -1.2164437e-06,  0.0000000e+00,  0.0000000e+00,\n",
       "        2.5651526e+00,  2.5651526e+00,  2.5651526e+00,  3.1466532e+00,\n",
       "       -1.1538547e+01, -2.3758364e+00, -4.4534209e-01, -4.4534087e-01,\n",
       "        2.2944980e+00,  3.2054992e+00,  3.2054992e+00,  5.2848258e+00],\n",
       "      dtype=float32)"
      ]
     },
     "execution_count": 6,
     "metadata": {},
     "output_type": "execute_result"
    }
   ],
   "source": [
    "from mppi.Utilities.Constants import HaToeV\n",
    "HaToeV*qp_data.QP_Eo"
   ]
  },
  {
   "cell_type": "code",
   "execution_count": 7,
   "metadata": {},
   "outputs": [],
   "source": [
    "from netCDF4 import Dataset"
   ]
  },
  {
   "cell_type": "code",
   "execution_count": 8,
   "metadata": {},
   "outputs": [],
   "source": [
    "d = Dataset(qp_ndb)"
   ]
  },
  {
   "cell_type": "code",
   "execution_count": 10,
   "metadata": {},
   "outputs": [
    {
     "data": {
      "text/plain": [
       "[8, 32, 16, 0, 0, 24]"
      ]
     },
     "execution_count": 10,
     "metadata": {},
     "output_type": "execute_result"
    }
   ],
   "source": [
    "list(map(int,d['PARS'][:]))"
   ]
  },
  {
   "cell_type": "code",
   "execution_count": 22,
   "metadata": {},
   "outputs": [
    {
     "name": "stdout",
     "output_type": "stream",
     "text": [
      "<class 'netCDF4._netCDF4.Dimension'>: name = 'D_0000000001', size = 1\n",
      "<class 'netCDF4._netCDF4.Dimension'>: name = 'D_0000000003', size = 3\n",
      "<class 'netCDF4._netCDF4.Dimension'>: name = 'D_0000000002', size = 2\n",
      "<class 'netCDF4._netCDF4.Dimension'>: name = 'D_0000000100', size = 100\n",
      "<class 'netCDF4._netCDF4.Dimension'>: name = 'D_0000000006', size = 6\n",
      "<class 'netCDF4._netCDF4.Dimension'>: name = 'QP_desc_size', size = 24\n",
      "<class 'netCDF4._netCDF4.Dimension'>: name = 'QP_string_len', size = 100\n",
      "<class 'netCDF4._netCDF4.Dimension'>: name = 'D_0000000016', size = 16\n",
      "<class 'netCDF4._netCDF4.Dimension'>: name = 'D_0000000032', size = 32\n"
     ]
    }
   ],
   "source": [
    "for dimension in d.dimensions.values():  \n",
    "    print(dimension)  "
   ]
  },
  {
   "cell_type": "code",
   "execution_count": 26,
   "metadata": {},
   "outputs": [
    {
     "name": "stdout",
     "output_type": "stream",
     "text": [
      "<class 'netCDF4._netCDF4.Variable'>\n",
      "float32 QP_DB_kind(D_0000000001)\n",
      "unlimited dimensions: \n",
      "current shape = (1,)\n",
      "filling on, default _FillValue of 9.969209968386869e+36 used\n",
      "<class 'netCDF4._netCDF4.Variable'>\n",
      "float32 HEAD_VERSION(D_0000000003)\n",
      "unlimited dimensions: \n",
      "current shape = (3,)\n",
      "filling on, default _FillValue of 9.969209968386869e+36 used\n",
      "<class 'netCDF4._netCDF4.Variable'>\n",
      "float32 HEAD_REVISION(D_0000000001)\n",
      "unlimited dimensions: \n",
      "current shape = (1,)\n",
      "filling on, default _FillValue of 9.969209968386869e+36 used\n",
      "<class 'netCDF4._netCDF4.Variable'>\n",
      "float32 SERIAL_NUMBER(D_0000000001)\n",
      "unlimited dimensions: \n",
      "current shape = (1,)\n",
      "filling on, default _FillValue of 9.969209968386869e+36 used\n",
      "<class 'netCDF4._netCDF4.Variable'>\n",
      "float32 SPIN_VARS(D_0000000002)\n",
      "unlimited dimensions: \n",
      "current shape = (2,)\n",
      "filling on, default _FillValue of 9.969209968386869e+36 used\n",
      "<class 'netCDF4._netCDF4.Variable'>\n",
      "float32 HEAD_D_LATT(D_0000000003)\n",
      "unlimited dimensions: \n",
      "current shape = (3,)\n",
      "filling on, default _FillValue of 9.969209968386869e+36 used\n",
      "<class 'netCDF4._netCDF4.Variable'>\n",
      "|S1 CUTOFF(D_0000000001, D_0000000100)\n",
      "unlimited dimensions: \n",
      "current shape = (1, 100)\n",
      "filling on, default _FillValue of \u0000 used\n",
      "<class 'netCDF4._netCDF4.Variable'>\n",
      "float32 TEMPERATURES(D_0000000002)\n",
      "unlimited dimensions: \n",
      "current shape = (2,)\n",
      "filling on, default _FillValue of 9.969209968386869e+36 used\n",
      "<class 'netCDF4._netCDF4.Variable'>\n",
      "|S1 G_energies_xc_KIND(D_0000000001, D_0000000100)\n",
      "unlimited dimensions: \n",
      "current shape = (1, 100)\n",
      "filling on, default _FillValue of \u0000 used\n",
      "<class 'netCDF4._netCDF4.Variable'>\n",
      "|S1 G_wavefunctions_xc_KIND(D_0000000001, D_0000000100)\n",
      "unlimited dimensions: \n",
      "current shape = (1, 100)\n",
      "filling on, default _FillValue of \u0000 used\n",
      "<class 'netCDF4._netCDF4.Variable'>\n",
      "|S1 Xp_energies_xc_KIND(D_0000000001, D_0000000100)\n",
      "unlimited dimensions: \n",
      "current shape = (1, 100)\n",
      "filling on, default _FillValue of \u0000 used\n",
      "<class 'netCDF4._netCDF4.Variable'>\n",
      "|S1 Xp_wavefunctions_xc_KIND(D_0000000001, D_0000000100)\n",
      "unlimited dimensions: \n",
      "current shape = (1, 100)\n",
      "filling on, default _FillValue of \u0000 used\n",
      "<class 'netCDF4._netCDF4.Variable'>\n",
      "float32 PARS(D_0000000006)\n",
      "unlimited dimensions: \n",
      "current shape = (6,)\n",
      "filling on, default _FillValue of 9.969209968386869e+36 used\n",
      "<class 'netCDF4._netCDF4.Variable'>\n",
      "int32 QP_N_DESCRIPTORS(D_0000000001)\n",
      "unlimited dimensions: \n",
      "current shape = (1,)\n",
      "filling on, default _FillValue of -2147483647 used\n",
      "<class 'netCDF4._netCDF4.Variable'>\n",
      "int32 QP_DESCRIPTORS_SIZES(QP_desc_size)\n",
      "unlimited dimensions: \n",
      "current shape = (24,)\n",
      "filling on, default _FillValue of -2147483647 used\n",
      "<class 'netCDF4._netCDF4.Variable'>\n",
      "|S1 QP_DESCRIPTORS_NAMES(QP_desc_size, QP_string_len)\n",
      "unlimited dimensions: \n",
      "current shape = (24, 100)\n",
      "filling on, default _FillValue of \u0000 used\n",
      "<class 'netCDF4._netCDF4.Variable'>\n",
      "|S1 QP_DESCRIPTORS_KINDS(QP_desc_size, QP_string_len)\n",
      "unlimited dimensions: \n",
      "current shape = (24, 100)\n",
      "filling on, default _FillValue of \u0000 used\n",
      "<class 'netCDF4._netCDF4.Variable'>\n",
      "|S1 QP_DESCRIPTORS_TERMS(QP_desc_size, QP_string_len)\n",
      "unlimited dimensions: \n",
      "current shape = (24, 100)\n",
      "filling on, default _FillValue of \u0000 used\n",
      "<class 'netCDF4._netCDF4.Variable'>\n",
      "|S1 QP_GW_solver(D_0000000001, D_0000000100)\n",
      "unlimited dimensions: \n",
      "current shape = (1, 100)\n",
      "filling on, default _FillValue of \u0000 used\n",
      "<class 'netCDF4._netCDF4.Variable'>\n",
      "|S1 QP_GW_approximation(D_0000000001, D_0000000100)\n",
      "unlimited dimensions: \n",
      "current shape = (1, 100)\n",
      "filling on, default _FillValue of \u0000 used\n",
      "<class 'netCDF4._netCDF4.Variable'>\n",
      "float32 QP_PPA_imaginary_Energy(D_0000000001)\n",
      "unlimited dimensions: \n",
      "current shape = (1,)\n",
      "filling on, default _FillValue of 9.969209968386869e+36 used\n",
      "<class 'netCDF4._netCDF4.Variable'>\n",
      "int32 QP_GW_SC_iterations(D_0000000001)\n",
      "unlimited dimensions: \n",
      "current shape = (1,)\n",
      "filling on, default _FillValue of -2147483647 used\n",
      "<class 'netCDF4._netCDF4.Variable'>\n",
      "int32 QP_dS_dw_steps(D_0000000001)\n",
      "unlimited dimensions: \n",
      "current shape = (1,)\n",
      "filling on, default _FillValue of -2147483647 used\n",
      "<class 'netCDF4._netCDF4.Variable'>\n",
      "float32 QP_dS_dw_step(D_0000000001)\n",
      "unlimited dimensions: \n",
      "current shape = (1,)\n",
      "filling on, default _FillValue of 9.969209968386869e+36 used\n",
      "<class 'netCDF4._netCDF4.Variable'>\n",
      "int32 QP_X_Gs(D_0000000001)\n",
      "unlimited dimensions: \n",
      "current shape = (1,)\n",
      "filling on, default _FillValue of -2147483647 used\n",
      "<class 'netCDF4._netCDF4.Variable'>\n",
      "int32 QP_X_bands(D_0000000002)\n",
      "unlimited dimensions: \n",
      "current shape = (2,)\n",
      "filling on, default _FillValue of -2147483647 used\n",
      "<class 'netCDF4._netCDF4.Variable'>\n",
      "float32 QP_X_poles(D_0000000001)\n",
      "unlimited dimensions: \n",
      "current shape = (1,)\n",
      "filling on, default _FillValue of 9.969209968386869e+36 used\n",
      "<class 'netCDF4._netCDF4.Variable'>\n",
      "float32 QP_X_e_h_E_range(D_0000000002)\n",
      "unlimited dimensions: \n",
      "current shape = (2,)\n",
      "filling on, default _FillValue of 9.969209968386869e+36 used\n",
      "<class 'netCDF4._netCDF4.Variable'>\n",
      "|S1 QP_X_Hxc_Kernel(D_0000000001, D_0000000100)\n",
      "unlimited dimensions: \n",
      "current shape = (1, 100)\n",
      "filling on, default _FillValue of \u0000 used\n",
      "<class 'netCDF4._netCDF4.Variable'>\n",
      "int8 QP_X_BZ_energy_Double_Grid(D_0000000001)\n",
      "unlimited dimensions: \n",
      "current shape = (1,)\n",
      "filling on, default _FillValue of -127 ignored\n",
      "<class 'netCDF4._netCDF4.Variable'>\n",
      "int32 QP_Sc_G_bands(D_0000000002)\n",
      "unlimited dimensions: \n",
      "current shape = (2,)\n",
      "filling on, default _FillValue of -2147483647 used\n",
      "<class 'netCDF4._netCDF4.Variable'>\n",
      "float32 QP_Sc_G_damping(D_0000000001)\n",
      "unlimited dimensions: \n",
      "current shape = (1,)\n",
      "filling on, default _FillValue of 9.969209968386869e+36 used\n",
      "<class 'netCDF4._netCDF4.Variable'>\n",
      "int8 QP_Sc_bands_terminator(D_0000000001)\n",
      "unlimited dimensions: \n",
      "current shape = (1,)\n",
      "filling on, default _FillValue of -127 ignored\n",
      "<class 'netCDF4._netCDF4.Variable'>\n",
      "int32 QP_Sx_RL_components(D_0000000001)\n",
      "unlimited dimensions: \n",
      "current shape = (1,)\n",
      "filling on, default _FillValue of -2147483647 used\n",
      "<class 'netCDF4._netCDF4.Variable'>\n",
      "|S1 QP_EMPTY_STR_Nr18(D_0000000001, D_0000000100)\n",
      "unlimited dimensions: \n",
      "current shape = (1, 100)\n",
      "filling on, default _FillValue of \u0000 used\n",
      "<class 'netCDF4._netCDF4.Variable'>\n",
      "int32 QP_QP_@_state_1_K_range(D_0000000002)\n",
      "unlimited dimensions: \n",
      "current shape = (2,)\n",
      "filling on, default _FillValue of -2147483647 used\n",
      "<class 'netCDF4._netCDF4.Variable'>\n",
      "int32 QP_QP_@_state_1_b_range(D_0000000002)\n",
      "unlimited dimensions: \n",
      "current shape = (2,)\n",
      "filling on, default _FillValue of -2147483647 used\n",
      "<class 'netCDF4._netCDF4.Variable'>\n",
      "|S1 QP_GF_energies_kind(D_0000000001, D_0000000100)\n",
      "unlimited dimensions: \n",
      "current shape = (1, 100)\n",
      "filling on, default _FillValue of \u0000 used\n",
      "<class 'netCDF4._netCDF4.Variable'>\n",
      "|S1 QP_GF_WFs_kind(D_0000000001, D_0000000100)\n",
      "unlimited dimensions: \n",
      "current shape = (1, 100)\n",
      "filling on, default _FillValue of \u0000 used\n",
      "<class 'netCDF4._netCDF4.Variable'>\n",
      "|S1 QP_Xs_energies_kind(D_0000000001, D_0000000100)\n",
      "unlimited dimensions: \n",
      "current shape = (1, 100)\n",
      "filling on, default _FillValue of \u0000 used\n",
      "<class 'netCDF4._netCDF4.Variable'>\n",
      "|S1 QP_Xs_WFs_kind(D_0000000001, D_0000000100)\n",
      "unlimited dimensions: \n",
      "current shape = (1, 100)\n",
      "filling on, default _FillValue of \u0000 used\n",
      "<class 'netCDF4._netCDF4.Variable'>\n",
      "float32 QP_table(D_0000000003, D_0000000016)\n",
      "unlimited dimensions: \n",
      "current shape = (3, 16)\n",
      "filling on, default _FillValue of 9.969209968386869e+36 used\n",
      "<class 'netCDF4._netCDF4.Variable'>\n",
      "float32 QP_kpts(D_0000000003, D_0000000032)\n",
      "unlimited dimensions: \n",
      "current shape = (3, 32)\n",
      "filling on, default _FillValue of 9.969209968386869e+36 used\n",
      "<class 'netCDF4._netCDF4.Variable'>\n",
      "float32 QP_E(D_0000000016, D_0000000002)\n",
      "unlimited dimensions: \n",
      "current shape = (16, 2)\n",
      "filling on, default _FillValue of 9.969209968386869e+36 used\n",
      "<class 'netCDF4._netCDF4.Variable'>\n",
      "float32 QP_Eo(D_0000000016)\n",
      "unlimited dimensions: \n",
      "current shape = (16,)\n",
      "filling on, default _FillValue of 9.969209968386869e+36 used\n",
      "<class 'netCDF4._netCDF4.Variable'>\n",
      "float32 QP_Z(D_0000000016, D_0000000002)\n",
      "unlimited dimensions: \n",
      "current shape = (16, 2)\n",
      "filling on, default _FillValue of 9.969209968386869e+36 used\n"
     ]
    }
   ],
   "source": [
    "for variable in d.variables.values():  \n",
    "    print(variable)  "
   ]
  },
  {
   "cell_type": "code",
   "execution_count": null,
   "metadata": {},
   "outputs": [],
   "source": []
  },
  {
   "cell_type": "code",
   "execution_count": null,
   "metadata": {},
   "outputs": [],
   "source": []
  },
  {
   "cell_type": "code",
   "execution_count": null,
   "metadata": {},
   "outputs": [],
   "source": []
  },
  {
   "cell_type": "markdown",
   "metadata": {},
   "source": [
    "......"
   ]
  },
  {
   "cell_type": "markdown",
   "metadata": {
    "tags": []
   },
   "source": [
    "## Analysis of the YamboRTCarriersParser class"
   ]
  },
  {
   "cell_type": "markdown",
   "metadata": {},
   "source": [
    "This database collects information about the time, energy and $k$-points distribution of the \n",
    "real-time carriers.\n",
    "\n",
    "We consider the test case of a RT simulation performed on bulk WSe2 on a 12x12x3 k-sampling (with a Fixsymm procedure due to \n",
    "the linear external field in the $x$ direction). The ns.db1 associated built by the Fixsymm is included in the folder"
   ]
  },
  {
   "cell_type": "code",
   "execution_count": 23,
   "metadata": {},
   "outputs": [],
   "source": [
    "rt_ndb = 'YamboParser_test/rt_results/ndb.RT_carriers'\n",
    "dft_ndb = 'YamboParser_test/rt_results/ns.db1'"
   ]
  },
  {
   "cell_type": "code",
   "execution_count": 24,
   "metadata": {},
   "outputs": [
    {
     "name": "stdout",
     "output_type": "stream",
     "text": [
      "Parse file : YamboParser_test/rt_results/ndb.RT_carriers\n",
      "Parse file : YamboParser_test/rt_results/ns.db1\n"
     ]
    }
   ],
   "source": [
    "rt_data = P.YamboRTCarriersParser(rt_ndb)\n",
    "dft_data = P.YamboDftParser(dft_ndb)"
   ]
  },
  {
   "cell_type": "code",
   "execution_count": 25,
   "metadata": {},
   "outputs": [
    {
     "name": "stdout",
     "output_type": "stream",
     "text": [
      "YamboRTCarriersParser variables structure\n",
      "Bands used and number of k-points [ 49  54 222]\n",
      "kpoints shape (222, 3)\n",
      "E_bare shape (1332,)\n",
      "f_bare shape (1332,)\n",
      "delta_E shape (16, 1332)\n",
      "delta_f (16, 1332)\n"
     ]
    }
   ],
   "source": [
    "rt_data.get_info()"
   ]
  },
  {
   "cell_type": "code",
   "execution_count": 58,
   "metadata": {},
   "outputs": [],
   "source": [
    "d = rt_data.build_f_bare_dos(eta=0.05,dE=0.01)"
   ]
  },
  {
   "cell_type": "code",
   "execution_count": 59,
   "metadata": {},
   "outputs": [
    {
     "data": {
      "text/plain": [
       "222"
      ]
     },
     "execution_count": 59,
     "metadata": {},
     "output_type": "execute_result"
    }
   ],
   "source": [
    "len(d.dos)"
   ]
  },
  {
   "cell_type": "code",
   "execution_count": 60,
   "metadata": {},
   "outputs": [
    {
     "data": {
      "image/png": "[encoded data removed]",
      "text/plain": [
       "<Figure size 640x480 with 1 Axes>"
      ]
     },
     "metadata": {},
     "output_type": "display_data"
    }
   ],
   "source": [
    "d.plot(plt,legend=False)"
   ]
  }
 ],
 "metadata": {
  "kernelspec": {
   "display_name": "Python 3 (ipykernel)",
   "language": "python",
   "name": "python3"
  },
  "language_info": {
   "codemirror_mode": {
    "name": "ipython",
    "version": 3
   },
   "file_extension": ".py",
   "mimetype": "text/x-python",
   "name": "python",
   "nbconvert_exporter": "python",
   "pygments_lexer": "ipython3",
   "version": "3.10.6"
  }
 },
 "nbformat": 4,
 "nbformat_minor": 4
}
