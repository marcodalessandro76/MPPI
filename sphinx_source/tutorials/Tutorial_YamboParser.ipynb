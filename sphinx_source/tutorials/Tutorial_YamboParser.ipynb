{
 "cells": [
  {
   "cell_type": "code",
   "execution_count": 1,
   "metadata": {},
   "outputs": [],
   "source": [
    "# useful to autoreload the module without restarting the kernel\n",
    "%load_ext autoreload\n",
    "%autoreload 2"
   ]
  },
  {
   "cell_type": "code",
   "execution_count": 9,
   "metadata": {},
   "outputs": [],
   "source": [
    "from mppi import InputFiles as I, Calculators as C, Utilities as U, Parsers as P\n",
    "from mppi.Utilities import Tools\n",
    "import matplotlib.pyplot as plt\n",
    "import os"
   ]
  },
  {
   "cell_type": "code",
   "execution_count": 3,
   "metadata": {},
   "outputs": [],
   "source": [
    "omp = 1\n",
    "mpi = 4"
   ]
  },
  {
   "cell_type": "markdown",
   "metadata": {},
   "source": [
    "# Tutorial of the YamboParser class"
   ]
  },
  {
   "cell_type": "markdown",
   "metadata": {},
   "source": [
    "This tutorial describes the usage of the YamboParser class. The parser contains instances \n",
    "of several classes, namely : \n",
    "* the YamboOutputParser that deals with the o- file(s) produced by a yambo computation\n",
    "* the YamboDipolesParser that parse the dipoles database created by Yambo\n",
    "* the YamboDftParser that extract lattice and electronic information (ad the dft level) from the\n",
    "  ns.db1 database written by Yambo in the SAVE folder\n",
    "\n",
    "The class is designed to deal with the output of the run method of YamboCalculator.\n",
    "\n",
    "Here we present a first example by performing a gw calculation:"
   ]
  },
  {
   "cell_type": "code",
   "execution_count": 5,
   "metadata": {},
   "outputs": [
    {
     "name": "stdout",
     "output_type": "stream",
     "text": [
      "Initialize a Yambo calculator with scheduler direct\n"
     ]
    }
   ],
   "source": [
    "rr = C.RunRules(mpi=mpi,omp_num_threads=omp)\n",
    "code = C.YamboCalculator(rr)"
   ]
  },
  {
   "cell_type": "code",
   "execution_count": 11,
   "metadata": {},
   "outputs": [],
   "source": [
    "source_dir = 'QeCalculator_test/outdir_nscf/bands_8.save'\n",
    "run_dir = 'YamboCalculator_test'"
   ]
  },
  {
   "cell_type": "code",
   "execution_count": 12,
   "metadata": {},
   "outputs": [
    {
     "name": "stdout",
     "output_type": "stream",
     "text": [
      "SAVE folder already present in YamboCalculator_test. No operations performed.\n"
     ]
    }
   ],
   "source": [
    "Tools.build_SAVE(source_dir,run_dir)"
   ]
  },
  {
   "cell_type": "code",
   "execution_count": 13,
   "metadata": {},
   "outputs": [],
   "source": [
    "inp = I.YamboInput(args='yambo -d -k hartee -g n -p p -V qp',folder=run_dir)\n",
    "inp.set_kRange(1,2)\n",
    "#inp"
   ]
  },
  {
   "cell_type": "code",
   "execution_count": 14,
   "metadata": {},
   "outputs": [
    {
     "name": "stdout",
     "output_type": "stream",
     "text": [
      "Skip the run of qp_test1\n"
     ]
    },
    {
     "data": {
      "text/plain": [
       "{'output': {'qp': 'YamboCalculator_test/qp_test1/o-qp_test1.qp'},\n",
       " 'report': 'YamboCalculator_test/qp_test1/r-qp_test1_HF_and_locXC_gw0_dyson_em1d_ppa',\n",
       " 'dft': 'YamboCalculator_test/SAVE/ns.db1',\n",
       " 'pp': 'YamboCalculator_test/qp_test1/ndb.pp',\n",
       " 'QP': 'YamboCalculator_test/qp_test1/ndb.QP',\n",
       " 'HF_and_locXC': 'YamboCalculator_test/qp_test1/ndb.HF_and_locXC',\n",
       " 'dipoles': 'YamboCalculator_test/qp_test1/ndb.dipoles'}"
      ]
     },
     "execution_count": 14,
     "metadata": {},
     "output_type": "execute_result"
    }
   ],
   "source": [
    "results = code.run(input = inp, run_dir = run_dir, name='qp_test1')\n",
    "results"
   ]
  },
  {
   "cell_type": "markdown",
   "metadata": {},
   "source": [
    "The calculator contain the references to the o- files and database with the output data.\n",
    "The parser extract the data from the files, as follows"
   ]
  },
  {
   "cell_type": "code",
   "execution_count": 15,
   "metadata": {},
   "outputs": [
    {
     "data": {
      "text/plain": [
       "\u001b[0;31mInit signature:\u001b[0m \u001b[0mP\u001b[0m\u001b[0;34m.\u001b[0m\u001b[0mYamboParser\u001b[0m\u001b[0;34m(\u001b[0m\u001b[0mresults\u001b[0m\u001b[0;34m,\u001b[0m \u001b[0mverbose\u001b[0m\u001b[0;34m=\u001b[0m\u001b[0;32mFalse\u001b[0m\u001b[0;34m,\u001b[0m \u001b[0mextendOut\u001b[0m\u001b[0;34m=\u001b[0m\u001b[0;32mTrue\u001b[0m\u001b[0;34m)\u001b[0m\u001b[0;34m\u001b[0m\u001b[0;34m\u001b[0m\u001b[0m\n",
       "\u001b[0;31mDocstring:\u001b[0m     \n",
       "Class that perform the parsing starting from the results :py:class:`dict` built\n",
       "by the :class:`YamboCalculator` class. In the actual implementation of the class the\n",
       "parser is able to deal with the o- files, the dipoles database, the ``ndb.RT_G_PAR``\n",
       "and the ``ns.db1`` database written in the SAVE folder.\n",
       "\n",
       "Args:\n",
       "    results (:py:class:`dict`): The dictionary of the results built by the\n",
       "        :class:`YamboCalculator` class\n",
       "    verbose (:py:class:`boolean`) : Determine the amount of information provided on terminal\n",
       "    extendOut (:py:class:`boolean`) : Determine which dictionary is used as reference for the\n",
       "                    names of the variables in the :class:`YamboOutputParser`\n",
       "\n",
       "Attributes:\n",
       "    data (:class:`YamboOutputParser`) : contains the instance of the :class:`YamboOutputParser`\n",
       "        class that manage the parsing of the ``o-* files``\n",
       "    dipoles (:class:`YamboDipolesParser`) : contains the instance of the :class:`YamboDipolesParser`\n",
       "        class that manages the parsing of the ``dipoles`` database\n",
       "    dft (:class:`YamboDftParser`) : contains the instance of the :class:`YamboDftParser` that\n",
       "        manages the parsing of the ``ns.db1`` database\n",
       "    RTGreen (:class:`YamboRTGlesserParser`) : contains the instance of the\n",
       "        :class:`YamboRTGlesserParser` that manages the parsing of the `ndb.RT_G_PAR`\n",
       "        database\n",
       "\u001b[0;31mInit docstring:\u001b[0m Initialize the data member of the class.\n",
       "\u001b[0;31mFile:\u001b[0m           ~/Applications/MPPI/mppi/Parsers/YamboParser.py\n",
       "\u001b[0;31mType:\u001b[0m           type\n",
       "\u001b[0;31mSubclasses:\u001b[0m     \n"
      ]
     },
     "metadata": {},
     "output_type": "display_data"
    }
   ],
   "source": [
    "P.YamboParser?"
   ]
  },
  {
   "cell_type": "markdown",
   "metadata": {},
   "source": [
    "Note that the extendOut option has to chosen in agreement with the one the input, otherwise\n",
    "the parser atribute the name of the variables of the o- files in an erroneous way"
   ]
  },
  {
   "cell_type": "code",
   "execution_count": 16,
   "metadata": {},
   "outputs": [
    {
     "name": "stdout",
     "output_type": "stream",
     "text": [
      "Parse file YamboCalculator_test/qp_test1/o-qp_test1.qp\n",
      "Parse file : YamboCalculator_test/SAVE/ns.db1\n",
      "Parse file : YamboCalculator_test/qp_test1/ndb.dipoles\n",
      "Spin dipoles not found in the ndb.dipoles\n"
     ]
    }
   ],
   "source": [
    "data = P.YamboParser(results,extendOut=False,verbose=True)"
   ]
  },
  {
   "cell_type": "markdown",
   "metadata": {},
   "source": [
    "Some information on the parsed data can be obtained using the get_info method of the class"
   ]
  },
  {
   "cell_type": "code",
   "execution_count": 17,
   "metadata": {},
   "outputs": [
    {
     "name": "stdout",
     "output_type": "stream",
     "text": [
      "YamboOutputParser variables structure\n",
      "suffix qp with dict_keys(['kpoint', 'band', 'E0', 'EmE0', 'sce0'])\n",
      " \n",
      "YamboDipolesParser variables structure\n",
      "dip_ir shape (32, 4, 4, 3, 2)\n",
      "dip_p shape (32, 4, 4, 3, 2)\n",
      "dip_v shape (32, 4, 4, 3, 2)\n",
      "dip_spin shape (1,)\n",
      " \n",
      "YamboDftParser variables structure\n",
      "number of k points 32\n",
      "number of bands 8\n",
      "spin degeneration 1\n",
      " \n"
     ]
    }
   ],
   "source": [
    "data.get_info()"
   ]
  },
  {
   "cell_type": "markdown",
   "metadata": {},
   "source": [
    "Data are encapsulated in the attributes of the class, for instance"
   ]
  },
  {
   "cell_type": "code",
   "execution_count": 18,
   "metadata": {},
   "outputs": [
    {
     "data": {
      "text/plain": [
       "{'qp': {'kpoint': array([1., 1., 1., 1., 1., 1., 1., 1., 2., 2., 2., 2., 2., 2., 2., 2.]),\n",
       "  'band': array([1., 2., 3., 4., 5., 6., 7., 8., 1., 2., 3., 4., 5., 6., 7., 8.]),\n",
       "  'E0': array([-1.189685e+01, -1.355410e-06, -9.873900e-11,  0.000000e+00,\n",
       "          2.565152e+00,  2.565152e+00,  2.565152e+00,  3.146653e+00,\n",
       "         -1.153854e+01, -2.375836e+00, -4.453420e-01, -4.453410e-01,\n",
       "          2.294498e+00,  3.205498e+00,  3.205499e+00,  5.284825e+00]),\n",
       "  'EmE0': array([-1.564545,  0.722512,  0.741998,  0.741728,  1.867613,  1.867085,\n",
       "          1.82977 ,  2.395759, -1.427135,  0.369031,  0.648056,  0.670342,\n",
       "          1.85364 ,  1.981373,  1.95531 ,  2.672972]),\n",
       "  'sce0': array([ 4.576193,  2.008809,  2.031458,  2.031144, -2.003436, -2.00402 ,\n",
       "         -2.046771, -1.92696 ,  4.600587,  2.457893,  2.028685,  2.054818,\n",
       "         -1.999773, -2.067204, -2.096922, -1.932993])}}"
      ]
     },
     "execution_count": 18,
     "metadata": {},
     "output_type": "execute_result"
    }
   ],
   "source": [
    "data.data"
   ]
  },
  {
   "cell_type": "code",
   "execution_count": 19,
   "metadata": {},
   "outputs": [
    {
     "data": {
      "text/plain": [
       "<mppi.Parsers.YamboDftParser.YamboDftParser at 0x7f9cbc160ac0>"
      ]
     },
     "execution_count": 19,
     "metadata": {},
     "output_type": "execute_result"
    }
   ],
   "source": [
    "data.dft"
   ]
  },
  {
   "cell_type": "code",
   "execution_count": 20,
   "metadata": {},
   "outputs": [
    {
     "data": {
      "text/plain": [
       "<mppi.Parsers.YamboDipolesParser.YamboDipolesParser at 0x7f9cbc160a90>"
      ]
     },
     "execution_count": 20,
     "metadata": {},
     "output_type": "execute_result"
    }
   ],
   "source": [
    "data.dipoles"
   ]
  },
  {
   "cell_type": "markdown",
   "metadata": {},
   "source": [
    "In what follows we describe the features of the various classes using dedicated examples"
   ]
  },
  {
   "cell_type": "markdown",
   "metadata": {},
   "source": [
    "A YamboParser object can be also instanciated directly using the name of the folders that contain the\n",
    "o-* files and the databases, for instance"
   ]
  },
  {
   "cell_type": "code",
   "execution_count": 21,
   "metadata": {},
   "outputs": [],
   "source": [
    "outputPath = 'YamboCalculator_test/qp_test1'"
   ]
  },
  {
   "cell_type": "code",
   "execution_count": 22,
   "metadata": {},
   "outputs": [
    {
     "name": "stdout",
     "output_type": "stream",
     "text": [
      "Parse file YamboCalculator_test/qp_test1/o-qp_test1.qp\n",
      "Parse file : YamboCalculator_test/SAVE/ns.db1\n",
      "Parse file : YamboCalculator_test/qp_test1/ndb.dipoles\n",
      "Spin dipoles not found in the ndb.dipoles\n"
     ]
    }
   ],
   "source": [
    "data2 = P.YamboParser.from_path(run_dir=run_dir,outputPath=outputPath,verbose=True)"
   ]
  },
  {
   "cell_type": "code",
   "execution_count": 23,
   "metadata": {},
   "outputs": [
    {
     "name": "stdout",
     "output_type": "stream",
     "text": [
      "YamboOutputParser variables structure\n",
      "suffix qp with dict_keys(['kpoint', 'band', 'E0', 'E', 'EmE0'])\n",
      " \n",
      "YamboDipolesParser variables structure\n",
      "dip_ir shape (32, 4, 4, 3, 2)\n",
      "dip_p shape (32, 4, 4, 3, 2)\n",
      "dip_v shape (32, 4, 4, 3, 2)\n",
      "dip_spin shape (1,)\n",
      " \n",
      "YamboDftParser variables structure\n",
      "number of k points 32\n",
      "number of bands 8\n",
      "spin degeneration 1\n",
      " \n"
     ]
    }
   ],
   "source": [
    "data2.get_info()"
   ]
  },
  {
   "cell_type": "markdown",
   "metadata": {},
   "source": [
    "## Analysis of the YamboOutputParser class"
   ]
  },
  {
   "cell_type": "markdown",
   "metadata": {},
   "source": [
    "The class is designed to deal with the list of o- files produced by Yambo\n",
    "We present some example:"
   ]
  },
  {
   "cell_type": "code",
   "execution_count": 25,
   "metadata": {},
   "outputs": [],
   "source": [
    "qp_output = {'qp' : 'YamboParser_test/qp_results/o-qp_test1.qp'}"
   ]
  },
  {
   "cell_type": "code",
   "execution_count": 26,
   "metadata": {},
   "outputs": [],
   "source": [
    "qp_output_extendOut = {'qp' : 'YamboCalculator_test/qp_test_ExtendOut/o-qp_test_ExtendOut.qp'}"
   ]
  },
  {
   "cell_type": "code",
   "execution_count": 37,
   "metadata": {},
   "outputs": [],
   "source": [
    "rt_output = {'carriers':'YamboParser_test/rt_results/o-NETime_1000-dephase_0.01-freq_1.55-pol_circular.carriers',\n",
    "             'spin_magnetization':'YamboParser_test/rt_results/o-NETime_1000-dephase_0.01-freq_1.55-pol_circular.spin_magnetization',\n",
    "             'external_field':'YamboParser_test/rt_results/o-NETime_1000-dephase_0.01-freq_1.55-pol_circular.external_field',\n",
    "             'polarization':'YamboParser_test/rt_results/o-NETime_1000-dephase_0.01-freq_1.55-pol_circular.polarization'}"
   ]
  },
  {
   "cell_type": "markdown",
   "metadata": {},
   "source": [
    "When the list of files is passed to the parser the extendOut option used to run the computation has to be provided,\n",
    "otherwise the parser could perform a wrong assignement of the names of the variables. "
   ]
  },
  {
   "cell_type": "code",
   "execution_count": 27,
   "metadata": {},
   "outputs": [
    {
     "data": {
      "text/plain": [
       "\u001b[0;31mInit signature:\u001b[0m \u001b[0mP\u001b[0m\u001b[0;34m.\u001b[0m\u001b[0mYamboOutputParser\u001b[0m\u001b[0;34m(\u001b[0m\u001b[0moutput\u001b[0m\u001b[0;34m,\u001b[0m \u001b[0mverbose\u001b[0m\u001b[0;34m=\u001b[0m\u001b[0;32mTrue\u001b[0m\u001b[0;34m,\u001b[0m \u001b[0mextendOut\u001b[0m\u001b[0;34m=\u001b[0m\u001b[0;32mTrue\u001b[0m\u001b[0;34m)\u001b[0m\u001b[0;34m\u001b[0m\u001b[0;34m\u001b[0m\u001b[0m\n",
       "\u001b[0;31mDocstring:\u001b[0m     \n",
       "Class that performs the parsing of a Yambo o- file(s). The class ineriths from :py:class:`dict`\n",
       "and the instance of the class is a dictionary with the data. The keys correspond to the extension\n",
       "of the parsed files.\n",
       "\n",
       "Args:\n",
       "    output (:py:class:`list`): Dictionary with the structure of the output of :py:meth:`get_output_files`\n",
       "        of the `YamboCalculator` module.\n",
       "    verbose (:py:class:`boolean`) : Determine the amount of information provided on terminal\n",
       "    extendOut (:py:class:`boolean`) : Determine which dictionary is used as reference for the\n",
       "                    names of the variables\n",
       "\u001b[0;31mInit docstring:\u001b[0m Initialize the data member of the class.\n",
       "\u001b[0;31mFile:\u001b[0m           ~/Applications/MPPI/mppi/Parsers/YamboOutputParser.py\n",
       "\u001b[0;31mType:\u001b[0m           type\n",
       "\u001b[0;31mSubclasses:\u001b[0m     \n"
      ]
     },
     "metadata": {},
     "output_type": "display_data"
    }
   ],
   "source": [
    "P.YamboOutputParser?"
   ]
  },
  {
   "cell_type": "code",
   "execution_count": 29,
   "metadata": {},
   "outputs": [
    {
     "name": "stdout",
     "output_type": "stream",
     "text": [
      "Parse file YamboParser_test/qp_results/o-qp_test1.qp\n"
     ]
    }
   ],
   "source": [
    "results = P.YamboOutputParser(output=qp_output,extendOut=False)"
   ]
  },
  {
   "cell_type": "markdown",
   "metadata": {},
   "source": [
    "results is a dictionary with the structure"
   ]
  },
  {
   "cell_type": "code",
   "execution_count": 30,
   "metadata": {},
   "outputs": [
    {
     "data": {
      "text/plain": [
       "{'qp': {'kpoint': array([1., 1., 1., 1., 1., 1., 1., 1., 2., 2., 2., 2., 2., 2., 2., 2.]),\n",
       "  'band': array([1., 2., 3., 4., 5., 6., 7., 8., 1., 2., 3., 4., 5., 6., 7., 8.]),\n",
       "  'E0': array([-1.190291e+01, -1.176000e-05, -1.176000e-05,  0.000000e+00,\n",
       "          2.551225e+00,  2.551230e+00,  2.551230e+00,  3.152071e+00,\n",
       "         -1.110872e+01, -3.914389e+00, -7.552550e-01, -7.552460e-01,\n",
       "          1.962407e+00,  3.490390e+00,  3.490396e+00,  6.757975e+00]),\n",
       "  'EmE0': array([-1.50691 ,  0.7861  ,  0.7914  ,  0.7771  ,  1.884047,  1.907533,\n",
       "          1.906476,  2.349819, -1.21027 ,  0.216875,  0.676644,  0.653277,\n",
       "          1.799721,  2.065016,  2.084261,  2.726886]),\n",
       "  'sce0': array([ 4.48108 ,  2.194   ,  2.201   ,  2.184061, -2.137494, -2.110904,\n",
       "         -2.112035, -2.203245,  4.52994 ,  2.934759,  2.263484,  2.236098,\n",
       "         -2.186759, -2.20382 , -2.182057, -2.267519])}}"
      ]
     },
     "execution_count": 30,
     "metadata": {},
     "output_type": "execute_result"
    }
   ],
   "source": [
    "results"
   ]
  },
  {
   "cell_type": "markdown",
   "metadata": {},
   "source": [
    "For several usages it can be useful to access to the results with the object.attribute sintax. \n",
    "In this case it is possible to use the AttributeDict class the perform this conversion"
   ]
  },
  {
   "cell_type": "code",
   "execution_count": 33,
   "metadata": {},
   "outputs": [],
   "source": [
    "obj = U.AttributeDict(**results)"
   ]
  },
  {
   "cell_type": "markdown",
   "metadata": {},
   "source": [
    "and we can access as"
   ]
  },
  {
   "cell_type": "code",
   "execution_count": 34,
   "metadata": {},
   "outputs": [
    {
     "data": {
      "text/plain": [
       "array([-1.190291e+01, -1.176000e-05, -1.176000e-05,  0.000000e+00,\n",
       "        2.551225e+00,  2.551230e+00,  2.551230e+00,  3.152071e+00,\n",
       "       -1.110872e+01, -3.914389e+00, -7.552550e-01, -7.552460e-01,\n",
       "        1.962407e+00,  3.490390e+00,  3.490396e+00,  6.757975e+00])"
      ]
     },
     "execution_count": 34,
     "metadata": {},
     "output_type": "execute_result"
    }
   ],
   "source": [
    "obj.qp.E0"
   ]
  },
  {
   "cell_type": "markdown",
   "metadata": {},
   "source": [
    "Test of a parsing with extendOut = True"
   ]
  },
  {
   "cell_type": "code",
   "execution_count": 35,
   "metadata": {},
   "outputs": [
    {
     "name": "stdout",
     "output_type": "stream",
     "text": [
      "Parse file YamboCalculator_test/qp_test_ExtendOut/o-qp_test_ExtendOut.qp\n"
     ]
    }
   ],
   "source": [
    "results = P.YamboOutputParser(output=qp_output_extendOut,extendOut=True)"
   ]
  },
  {
   "cell_type": "markdown",
   "metadata": {},
   "source": [
    "now all the variables are available, for instance"
   ]
  },
  {
   "cell_type": "code",
   "execution_count": 36,
   "metadata": {},
   "outputs": [
    {
     "data": {
      "text/plain": [
       "array([0.724502, 0.846966, 0.847311, 0.847307, 0.839802, 0.839785,\n",
       "       0.839137, 0.853679, 0.719236, 0.823056, 0.842047, 0.842398,\n",
       "       0.844161, 0.839568, 0.839091, 0.850125])"
      ]
     },
     "execution_count": 36,
     "metadata": {},
     "output_type": "execute_result"
    }
   ],
   "source": [
    "results['qp']['z_Re']"
   ]
  },
  {
   "cell_type": "markdown",
   "metadata": {},
   "source": [
    "Let's see a further example by parsing the typical files of a real-time computation"
   ]
  },
  {
   "cell_type": "code",
   "execution_count": 38,
   "metadata": {},
   "outputs": [
    {
     "name": "stdout",
     "output_type": "stream",
     "text": [
      "Parse file YamboParser_test/rt_results/o-NETime_1000-dephase_0.01-freq_1.55-pol_circular.carriers\n",
      "Parse file YamboParser_test/rt_results/o-NETime_1000-dephase_0.01-freq_1.55-pol_circular.spin_magnetization\n",
      "Parse file YamboParser_test/rt_results/o-NETime_1000-dephase_0.01-freq_1.55-pol_circular.external_field\n",
      "Parse file YamboParser_test/rt_results/o-NETime_1000-dephase_0.01-freq_1.55-pol_circular.polarization\n"
     ]
    }
   ],
   "source": [
    "results = P.YamboOutputParser(rt_output)"
   ]
  },
  {
   "cell_type": "markdown",
   "metadata": {},
   "source": [
    "In this case we have several files, so the dictionary has more than one key"
   ]
  },
  {
   "cell_type": "code",
   "execution_count": 39,
   "metadata": {},
   "outputs": [
    {
     "data": {
      "text/plain": [
       "dict_keys(['carriers', 'spin_magnetization', 'external_field', 'polarization'])"
      ]
     },
     "execution_count": 39,
     "metadata": {},
     "output_type": "execute_result"
    }
   ],
   "source": [
    "results.keys()"
   ]
  },
  {
   "cell_type": "markdown",
   "metadata": {},
   "source": [
    "We can easily perform some plots"
   ]
  },
  {
   "cell_type": "code",
   "execution_count": 40,
   "metadata": {},
   "outputs": [
    {
     "data": {
      "image/png": "[encoded data removed]",
      "text/plain": [
       "<Figure size 432x288 with 1 Axes>"
      ]
     },
     "metadata": {
      "needs_background": "light"
     },
     "output_type": "display_data"
    },
    {
     "data": {
      "text/plain": [
       "<matplotlib.legend.Legend at 0x7f9cad0ef5b0>"
      ]
     },
     "execution_count": 40,
     "metadata": {},
     "output_type": "execute_result"
    },
    {
     "data": {
      "image/png": "[encoded data removed]",
      "text/plain": [
       "<Figure size 432x288 with 1 Axes>"
      ]
     },
     "metadata": {
      "needs_background": "light"
     },
     "output_type": "display_data"
    }
   ],
   "source": [
    "time = results['carriers']['time']\n",
    "elec = results['carriers']['dne']\n",
    "field_int = results['external_field']['Intensity']\n",
    "pol = results['polarization']['Pol_x']\n",
    "\n",
    "ratio = max(field_int)/max(elec)\n",
    "\n",
    "plt.plot(time,ratio*elec,label='dne')\n",
    "plt.plot(time,field_int,label='field_int')\n",
    "plt.legend()\n",
    "plt.show()\n",
    "\n",
    "plt.plot(time,pol,label='Pol_x')\n",
    "plt.legend()"
   ]
  },
  {
   "cell_type": "markdown",
   "metadata": {},
   "source": [
    "Again we can access to the results using the attribute syntax. For instance if we are intersted to the spin_magnetization\n",
    "part of the resutls we can set"
   ]
  },
  {
   "cell_type": "code",
   "execution_count": 41,
   "metadata": {},
   "outputs": [],
   "source": [
    "spin_results = U.AttributeDict(**results['spin_magnetization'])"
   ]
  },
  {
   "cell_type": "code",
   "execution_count": 42,
   "metadata": {},
   "outputs": [
    {
     "data": {
      "text/plain": [
       "[<matplotlib.lines.Line2D at 0x7f9cacfaedf0>]"
      ]
     },
     "execution_count": 42,
     "metadata": {},
     "output_type": "execute_result"
    },
    {
     "data": {
      "image/png": "[encoded data removed]",
      "text/plain": [
       "<Figure size 432x288 with 1 Axes>"
      ]
     },
     "metadata": {
      "needs_background": "light"
     },
     "output_type": "display_data"
    }
   ],
   "source": [
    "plt.plot(spin_results.time,spin_results.Mc_z)\n",
    "plt.plot(spin_results.time,spin_results.Mv_z)"
   ]
  },
  {
   "cell_type": "markdown",
   "metadata": {},
   "source": [
    "###  YamboOutputParser for a ypp computation"
   ]
  },
  {
   "cell_type": "markdown",
   "metadata": {},
   "source": [
    "We test the functionality of the Parser to deal with the output of a ypp -s b computation for plotting the bands structure along a path"
   ]
  },
  {
   "cell_type": "code",
   "execution_count": 43,
   "metadata": {},
   "outputs": [],
   "source": [
    "bands_output = {'bands_interpolated':'YamboCalculator_test/bands_test1/o-bands_test1.bands_interpolated'}"
   ]
  },
  {
   "cell_type": "code",
   "execution_count": 44,
   "metadata": {},
   "outputs": [
    {
     "name": "stdout",
     "output_type": "stream",
     "text": [
      "Parse file YamboCalculator_test/bands_test1/o-bands_test1.bands_interpolated\n"
     ]
    }
   ],
   "source": [
    "results = P.YamboOutputParser(bands_output)"
   ]
  },
  {
   "cell_type": "markdown",
   "metadata": {},
   "source": [
    "For instance"
   ]
  },
  {
   "cell_type": "code",
   "execution_count": 45,
   "metadata": {},
   "outputs": [
    {
     "data": {
      "text/plain": [
       "array([0.        , 0.04593836, 0.09187671, 0.13781506, 0.18375342,\n",
       "       0.22969177, 0.27563013, 0.32156848, 0.36750684, 0.41344519,\n",
       "       0.45938355, 0.5053219 , 0.55126025, 0.59719861, 0.64313696,\n",
       "       0.68907532, 0.73501367, 0.78095203, 0.82689038, 0.87282874,\n",
       "       0.91876709, 0.96470544, 1.0106438 , 1.0565822 , 1.1017687 ,\n",
       "       1.1469552 , 1.19214171, 1.23732823, 1.28251474, 1.32770126,\n",
       "       1.37288778, 1.4180743 , 1.46326081, 1.50844733, 1.55363385,\n",
       "       1.59882037, 1.64400689, 1.6891934 , 1.73437992, 1.77956644,\n",
       "       1.82475296, 1.86993948, 1.91512599, 1.96031251, 2.005499  ,\n",
       "       2.05068555, 2.09587206, 2.14105858, 2.1862451 , 2.2314316 ,\n",
       "       2.2766181 , 2.3235426 , 2.3704671 , 2.41739152, 2.46431598,\n",
       "       2.51124044, 2.5581649 , 2.60508936, 2.65201382, 2.69893828,\n",
       "       2.74586274, 2.79278721, 2.83971167, 2.88663613, 2.93210418,\n",
       "       2.97757224, 3.0230403 , 3.06850835, 3.11397641, 3.15944447,\n",
       "       3.20491252, 3.25038058, 3.29584864, 3.34131669, 3.38678475,\n",
       "       3.43225281, 3.47772086, 3.52318892, 3.56865697, 3.61412503,\n",
       "       3.65959309, 3.70506114, 3.7505292 , 3.79599726, 3.84146531,\n",
       "       3.88693337, 3.93240143, 3.97786948, 4.02333754, 4.0688056 ,\n",
       "       4.11427365, 4.1597417 , 4.2052098 , 4.2506778 ])"
      ]
     },
     "execution_count": 45,
     "metadata": {},
     "output_type": "execute_result"
    }
   ],
   "source": [
    "results['bands_interpolated']['col0'] # kpath"
   ]
  },
  {
   "cell_type": "code",
   "execution_count": 46,
   "metadata": {},
   "outputs": [
    {
     "data": {
      "text/plain": [
       "array([-1.35540660e-06, -1.35540660e-06, -2.37583629e+00, -2.37583629e+00,\n",
       "       -2.37583629e+00, -2.37583629e+00, -5.30497690e+00, -5.30497690e+00,\n",
       "       -5.30497690e+00, -5.30497690e+00, -4.42422173e+00, -4.42422173e+00,\n",
       "       -2.05464056e+00, -2.05464056e+00, -5.30497690e+00, -5.30497690e+00,\n",
       "       -5.30497690e+00, -5.30497690e+00, -2.37583629e+00, -2.37583629e+00,\n",
       "       -2.37583629e+00, -2.37583629e+00, -1.35540660e-06, -1.35540660e-06,\n",
       "       -1.35540660e-06, -1.35540660e-06, -2.05464056e+00, -2.05464056e+00,\n",
       "       -2.05464056e+00, -2.05464056e+00, -5.00667257e+00, -5.00667257e+00,\n",
       "       -5.00667257e+00, -5.00667257e+00, -5.00667257e+00, -7.78724511e+00,\n",
       "       -7.78724511e+00, -7.78724511e+00, -7.78724511e+00, -5.00667257e+00,\n",
       "       -5.00667257e+00, -5.00667257e+00, -5.00667257e+00, -5.00667257e+00,\n",
       "       -1.35540660e-06, -2.05464056e+00, -2.05464056e+00, -2.05464056e+00,\n",
       "       -1.35540660e-06, -1.35540660e-06, -1.35540660e-06, -1.35540660e-06,\n",
       "       -1.35540660e-06, -2.05464056e+00, -2.05464056e+00, -2.05464056e+00,\n",
       "       -2.05464056e+00, -5.00667257e+00, -5.00667257e+00, -5.00667257e+00,\n",
       "       -5.00667257e+00, -7.78724511e+00, -7.78724511e+00, -7.78724511e+00,\n",
       "       -7.78724511e+00, -7.78724511e+00, -7.67094267e+00, -7.67094267e+00,\n",
       "       -6.74725642e+00, -5.63143757e+00, -5.63143757e+00, -6.74725642e+00,\n",
       "       -6.74725642e+00, -6.74725642e+00, -6.74725642e+00, -6.74725567e+00,\n",
       "       -7.67094267e+00, -7.67094267e+00, -6.74725567e+00, -7.67094267e+00,\n",
       "       -7.67094267e+00, -6.54702153e+00, -5.63143688e+00, -5.63143688e+00,\n",
       "       -5.63143688e+00, -5.63143688e+00, -3.71240251e+00, -4.42422154e+00,\n",
       "       -2.05464056e+00, -2.05464056e+00, -2.05464056e+00, -1.35540660e-06,\n",
       "       -1.35540660e-06, -1.35540660e-06])"
      ]
     },
     "execution_count": 46,
     "metadata": {},
     "output_type": "execute_result"
    }
   ],
   "source": [
    "results['bands_interpolated']['col1'] # energies of the first band included in the computation"
   ]
  },
  {
   "cell_type": "markdown",
   "metadata": {},
   "source": [
    "The parser cannot determine the names of the columns because the number of colums depend on the\n",
    "number of bands considered. The meaning of the columns can be identified by knowing the input used to \n",
    "perform the post processing. "
   ]
  },
  {
   "cell_type": "code",
   "execution_count": 47,
   "metadata": {},
   "outputs": [],
   "source": [
    "r = results['bands_interpolated']\n",
    "kpath = r['col0']\n",
    "band3 = r['col1']\n",
    "band4 = r['col2']\n",
    "band5 = r['col3']\n",
    "band6 = r['col4']"
   ]
  },
  {
   "cell_type": "code",
   "execution_count": 48,
   "metadata": {},
   "outputs": [
    {
     "data": {
      "text/plain": [
       "<matplotlib.legend.Legend at 0x7f9cacf895e0>"
      ]
     },
     "execution_count": 48,
     "metadata": {},
     "output_type": "execute_result"
    },
    {
     "data": {
      "image/png": "[encoded data removed]",
      "text/plain": [
       "<Figure size 432x288 with 1 Axes>"
      ]
     },
     "metadata": {
      "needs_background": "light"
     },
     "output_type": "display_data"
    }
   ],
   "source": [
    "plt.plot(kpath,band3,label='band3')\n",
    "plt.plot(kpath,band4,label='band4')\n",
    "plt.plot(kpath,band5,label='band5')\n",
    "plt.plot(kpath,band6,label='band6')\n",
    "plt.legend()"
   ]
  },
  {
   "cell_type": "markdown",
   "metadata": {},
   "source": [
    "## Analysis of the YamboDipolesParser class"
   ]
  },
  {
   "cell_type": "markdown",
   "metadata": {},
   "source": [
    "To analyze the YamboDipolesParser we build the dipoles using Yambo. We start from a nscf\n",
    "computation on GaAs on a regular grid with 12 bands (8 full and 4 empties, since the bands\n",
    "are spin splitted)"
   ]
  },
  {
   "cell_type": "code",
   "execution_count": 53,
   "metadata": {},
   "outputs": [],
   "source": [
    "source_dir = 'Pw_bands/gaas_nscf_so.save'\n",
    "run_dir = 'YamboParser_test/DipolesParser'"
   ]
  },
  {
   "cell_type": "code",
   "execution_count": 54,
   "metadata": {},
   "outputs": [
    {
     "name": "stdout",
     "output_type": "stream",
     "text": [
      "Create folder YamboParser_test/DipolesParser\n",
      "Executing command: cd Pw_bands/gaas_nscf_so.save; p2y\n",
      "Create a symlink of /home/marco/Applications/MPPI/sphinx_source/tutorials/Pw_bands/gaas_nscf_so.save/SAVE in YamboParser_test/DipolesParser\n",
      "Executing command: cd YamboParser_test/DipolesParser;OMP_NUM_THREADS=1 mpirun -np 1 yambo\n"
     ]
    }
   ],
   "source": [
    "Tools.build_SAVE(source_dir,run_dir)"
   ]
  },
  {
   "cell_type": "code",
   "execution_count": 55,
   "metadata": {},
   "outputs": [
    {
     "data": {
      "text/plain": [
       "{'args': 'yambo -dipoles -V all',\n",
       " 'folder': 'YamboParser_test/DipolesParser',\n",
       " 'filename': 'yambo.in',\n",
       " 'arguments': ['DipBandsALL'],\n",
       " 'variables': {'StdoHash': [40.0, ''],\n",
       "  'Nelectro': [8.0, ''],\n",
       "  'ElecTemp': [0.0, 'eV'],\n",
       "  'BoseTemp': [-1.0, 'eV'],\n",
       "  'OccTresh': [1e-05, ''],\n",
       "  'NLogCPUs': [0.0, ''],\n",
       "  'MEM_tresh': [51200.0, 'Kb'],\n",
       "  'DIP_Threads': [0.0, ''],\n",
       "  'DipoleEtresh': [1e-05, 'eV'],\n",
       "  'DBsIOoff': 'none',\n",
       "  'DBsFRAGpm': 'none',\n",
       "  'PAR_def_mode': 'balanced',\n",
       "  'DipComputed': 'R P V Spin',\n",
       "  'DipBands': [[1, 12], '']}}"
      ]
     },
     "execution_count": 55,
     "metadata": {},
     "output_type": "execute_result"
    }
   ],
   "source": [
    "inp = I.YamboInput(args='yambo -dipoles -V all',folder=run_dir)\n",
    "inp['variables']['DipComputed'] = 'R P V Spin'\n",
    "inp['arguments'].append(\"DipBandsALL\")\n",
    "inp"
   ]
  },
  {
   "cell_type": "markdown",
   "metadata": {},
   "source": [
    "Note that the options ``DipBandsALL`` enables the computation of the dipoles elements among all the bands, and not\n",
    "only in for the full-empty couples"
   ]
  },
  {
   "cell_type": "code",
   "execution_count": 56,
   "metadata": {},
   "outputs": [
    {
     "name": "stdout",
     "output_type": "stream",
     "text": [
      "run command: mpirun -np 1 yambo -F dipoles.in -J dipoles -C dipoles\n",
      "computation dipoles is running...\n",
      "computation dipoles ended\n",
      "\n",
      "        There are no o-* files.\n",
      "        Maybe you have performed a ypp computation or wait_end_run and/or\n",
      "        the dry_run option are active.\n",
      "        Otherwise a possible error has occured during the computation\n",
      "        \n",
      "Run performed in 06s\n"
     ]
    },
    {
     "data": {
      "text/plain": [
       "{'output': {},\n",
       " 'report': 'YamboParser_test/DipolesParser/dipoles/r-dipoles_dipoles',\n",
       " 'dft': 'YamboParser_test/DipolesParser/SAVE/ns.db1',\n",
       " 'dipoles': 'YamboParser_test/DipolesParser/dipoles/ndb.dipoles'}"
      ]
     },
     "execution_count": 56,
     "metadata": {},
     "output_type": "execute_result"
    }
   ],
   "source": [
    "code.run(input=inp,run_dir=run_dir,name='dipoles',mpi=1,skip=False)"
   ]
  },
  {
   "cell_type": "markdown",
   "metadata": {},
   "source": [
    "Once that the computation is over, and the database is built by Yambo we parse it"
   ]
  },
  {
   "cell_type": "code",
   "execution_count": 57,
   "metadata": {},
   "outputs": [],
   "source": [
    "dipole_file = os.path.join(run_dir,'dipoles/ndb.dipoles')"
   ]
  },
  {
   "cell_type": "code",
   "execution_count": 58,
   "metadata": {},
   "outputs": [
    {
     "name": "stdout",
     "output_type": "stream",
     "text": [
      "Parse file : YamboParser_test/DipolesParser/dipoles/ndb.dipoles\n"
     ]
    }
   ],
   "source": [
    "dipoles = P.YamboDipolesParser(dipole_file)"
   ]
  },
  {
   "cell_type": "code",
   "execution_count": 59,
   "metadata": {},
   "outputs": [
    {
     "name": "stdout",
     "output_type": "stream",
     "text": [
      "YamboDipolesParser variables structure\n",
      "dip_ir shape (16, 12, 12, 3, 2)\n",
      "dip_p shape (16, 12, 12, 3, 2)\n",
      "dip_v shape (16, 12, 12, 3, 2)\n",
      "dip_spin shape (16, 12, 12, 3, 2)\n"
     ]
    }
   ],
   "source": [
    "dipoles.get_info()"
   ]
  },
  {
   "cell_type": "markdown",
   "metadata": {},
   "source": [
    "We consider the r dipole (x component) and look for the values of the valence->conduction\n",
    "elements"
   ]
  },
  {
   "cell_type": "code",
   "execution_count": 63,
   "metadata": {},
   "outputs": [
    {
     "name": "stdout",
     "output_type": "stream",
     "text": [
      "[[[ 0.00000000e+00+0.00000000e+00j -7.32989130e+00-1.04414460e+00j\n",
      "   -2.67618113e-04-2.73337086e-02j -8.31398256e-01-8.24659863e-01j\n",
      "    1.54225410e-02+5.53155198e-01j -8.47292442e-03-3.52913430e-02j\n",
      "    3.94122962e-02+4.51266933e-01j -3.50684921e-02-4.23464784e-02j\n",
      "   -3.27529949e-03+3.62501186e-03j  3.12675546e-02-8.78397798e-02j\n",
      "   -6.91983853e-03-5.34757557e-03j  5.07940800e-03-9.23038442e-02j]\n",
      "  [-7.32989130e+00+1.04414460e+00j  0.00000000e+00+0.00000000e+00j\n",
      "    8.01318921e-01+8.54408462e-01j -3.56489315e-02-9.21653706e-03j\n",
      "   -9.18567469e-03-1.86620892e-02j  5.51941446e-01+1.59714051e-03j\n",
      "   -8.44179368e-03-1.80563835e-02j -4.53646536e-01+2.62720464e-02j\n",
      "   -3.27381201e-02-8.40906364e-02j  2.53831680e-03-5.56781058e-03j\n",
      "    2.48079709e-02-9.19902074e-02j  5.51535117e-03+1.76623507e-03j]\n",
      "  [-2.67618113e-04+2.73337086e-02j  8.01318921e-01-8.54408462e-01j\n",
      "    0.00000000e+00+0.00000000e+00j  1.89030428e+00+4.66548965e-01j\n",
      "    5.79517535e-02+7.19914584e-02j  2.97413490e-01+5.37567659e-01j\n",
      "    3.39576600e-02+1.71525456e-02j  1.13901180e+00-2.80942908e-02j\n",
      "   -1.35458846e-01+8.48610027e-02j -5.79681904e-03-1.26648203e-02j\n",
      "   -8.71556302e-02-1.00831534e-01j -5.21431367e-03+1.90947218e-02j]\n",
      "  [-8.31398256e-01+8.24659863e-01j -3.56489315e-02+9.21653706e-03j\n",
      "    1.89030428e+00-4.66548965e-01j  0.00000000e+00+0.00000000e+00j\n",
      "    5.45636211e-01-3.35822521e-01j  1.14411805e-02-7.20224684e-02j\n",
      "    2.58112611e-02+1.15460258e+00j -1.03327761e-02+2.34740261e-03j\n",
      "   -9.08485260e-03+1.39249252e-02j  1.57530187e-01+1.64761717e-02j\n",
      "   -9.18993867e-03-6.50085470e-03j  1.11691402e-01+7.31907914e-02j]\n",
      "  [ 1.54225410e-02-5.53155198e-01j -9.18567469e-03+1.86620892e-02j\n",
      "    5.79517535e-02-7.19914584e-02j  5.45636211e-01+3.35822521e-01j\n",
      "    0.00000000e+00+0.00000000e+00j  2.11427743e-01-9.56134044e-01j\n",
      "    1.62831255e+00-7.55540099e-01j  6.61581637e-02+1.10979076e-01j\n",
      "   -9.25205611e-02+4.45597370e-02j  1.38243035e-01+2.87229424e-01j\n",
      "    4.08191950e-02-2.36504566e-04j  2.30604964e-01+2.95389137e-01j]\n",
      "  [-8.47292442e-03+3.52913430e-02j  5.51941446e-01-1.59714051e-03j\n",
      "    2.97413490e-01-5.37567659e-01j  1.14411805e-02+7.20224684e-02j\n",
      "    2.11427743e-01+9.56134044e-01j  0.00000000e+00+0.00000000e+00j\n",
      "   -5.85802578e-02-1.12608495e-01j -1.63776512e+00+7.00740450e-01j\n",
      "   -1.39602536e-01+3.03461916e-01j -5.13598540e-02+6.83745581e-02j\n",
      "   -3.35693039e-01+1.78584191e-01j -7.62539820e-03-1.13538619e-02j]\n",
      "  [ 3.94122962e-02-4.51266933e-01j -8.44179368e-03+1.80563835e-02j\n",
      "    3.39576600e-02-1.71525456e-02j  2.58112611e-02-1.15460258e+00j\n",
      "    1.62831255e+00+7.55540099e-01j -5.85802578e-02+1.12608495e-01j\n",
      "    0.00000000e+00+0.00000000e+00j -2.28599993e+01-4.96581405e+01j\n",
      "   -1.40120452e-03-3.13814570e-02j  3.07801000e+00-1.74927227e+00j\n",
      "   -8.07164003e-03-1.42328602e-02j -8.70404117e-01+5.57876659e-01j]\n",
      "  [-3.50684921e-02+4.23464784e-02j -4.53646536e-01-2.62720464e-02j\n",
      "    1.13901180e+00+2.80942908e-02j -1.03327761e-02-2.34740261e-03j\n",
      "    6.61581637e-02-1.10979076e-01j -1.63776512e+00-7.00740450e-01j\n",
      "   -2.28599993e+01+4.96581405e+01j  0.00000000e+00+0.00000000e+00j\n",
      "   -3.38338401e+00-1.12316434e+00j -8.75460474e-03-8.31172632e-04j\n",
      "    4.99613685e-01+9.46940754e-01j  8.01958247e-03-4.09287053e-02j]\n",
      "  [-3.27529949e-03-3.62501186e-03j -3.27381201e-02+8.40906364e-02j\n",
      "   -1.35458846e-01-8.48610027e-02j -9.08485260e-03-1.39249252e-02j\n",
      "   -9.25205611e-02-4.45597370e-02j -1.39602536e-01-3.03461916e-01j\n",
      "   -1.40120452e-03+3.13814570e-02j -3.38338401e+00+1.12316434e+00j\n",
      "    0.00000000e+00+0.00000000e+00j -1.38856218e+00-5.58888916e+00j\n",
      "   -2.31086113e+00+1.17762304e+00j -1.41328812e-01+1.49001606e-01j]\n",
      "  [ 3.12675546e-02+8.78397798e-02j  2.53831680e-03+5.56781058e-03j\n",
      "   -5.79681904e-03+1.26648203e-02j  1.57530187e-01-1.64761717e-02j\n",
      "    1.38243035e-01-2.87229424e-01j -5.13598540e-02-6.83745581e-02j\n",
      "    3.07801000e+00+1.74927227e+00j -8.75460474e-03+8.31172632e-04j\n",
      "   -1.38856218e+00+5.58888916e+00j  0.00000000e+00+0.00000000e+00j\n",
      "    2.52960030e-02-1.81659493e-01j -7.61363207e-01+2.53330306e+00j]\n",
      "  [-6.91983853e-03+5.34757557e-03j  2.48079709e-02+9.19902074e-02j\n",
      "   -8.71556302e-02+1.00831534e-01j -9.18993867e-03+6.50085470e-03j\n",
      "    4.08191950e-02+2.36504566e-04j -3.35693039e-01-1.78584191e-01j\n",
      "   -8.07164003e-03+1.42328602e-02j  4.99613685e-01-9.46940754e-01j\n",
      "   -2.31086113e+00-1.17762304e+00j  2.52960030e-02+1.81659493e-01j\n",
      "    0.00000000e+00+0.00000000e+00j -4.97362491e+00+1.64461368e+01j]\n",
      "  [ 5.07940800e-03+9.23038442e-02j  5.51535117e-03-1.76623507e-03j\n",
      "   -5.21431367e-03-1.90947218e-02j  1.11691402e-01-7.31907914e-02j\n",
      "    2.30604964e-01-2.95389137e-01j -7.62539820e-03+1.13538619e-02j\n",
      "   -8.70404117e-01-5.57876659e-01j  8.01958247e-03+4.09287053e-02j\n",
      "   -1.41328812e-01-1.49001606e-01j -7.61363207e-01-2.53330306e+00j\n",
      "   -4.97362491e+00-1.64461368e+01j  0.00000000e+00+0.00000000e+00j]]]\n",
      "[]\n"
     ]
    }
   ],
   "source": [
    "k = 0\n",
    "vb = 7\n",
    "cb = 8\n",
    "print(dipoles.r_dipole(k,vb,cb,0))\n",
    "print(dipoles.r_dipole(k,cb,vb,0))"
   ]
  },
  {
   "cell_type": "markdown",
   "metadata": {},
   "source": [
    "we observe that inverting the order of the bands changes sign to the imaginary part of the matrix\n",
    "element, as expected."
   ]
  },
  {
   "cell_type": "markdown",
   "metadata": {},
   "source": [
    "## Analysis of the YamboDftParser class"
   ]
  },
  {
   "cell_type": "markdown",
   "metadata": {},
   "source": [
    "This database collects information about the lattice and electronic properties\n",
    "of the system.\n",
    "\n",
    "The information codified in this database are usually equivalent to the ones in the QuantumESPRESSO\n",
    "data-file-schema.xml and the YamboDftParser shares many common functions with the PwParser.\n",
    "\n",
    "As a first test we consider a Pw nscf computation for GaAs and build the SAVE folder with Yambo"
   ]
  },
  {
   "cell_type": "code",
   "execution_count": 66,
   "metadata": {},
   "outputs": [],
   "source": [
    "source_dir = 'Pw_bands/gaas_nscf_so.save'\n",
    "run_dir = 'YamboParser_test/DipolesParser'"
   ]
  },
  {
   "cell_type": "markdown",
   "metadata": {},
   "source": [
    "We create the Yambo SAVE using the function of the Utilities module"
   ]
  },
  {
   "cell_type": "code",
   "execution_count": 67,
   "metadata": {},
   "outputs": [
    {
     "name": "stdout",
     "output_type": "stream",
     "text": [
      "SAVE folder already present in YamboParser_test/DipolesParser. No operations performed.\n"
     ]
    }
   ],
   "source": [
    "Tools.build_SAVE(source_dir=source_dir,run_dir=run_dir)"
   ]
  },
  {
   "cell_type": "markdown",
   "metadata": {},
   "source": [
    "We also make a fixsymm to study the content of the ns.db1 database after the fixsym procedure"
   ]
  },
  {
   "cell_type": "code",
   "execution_count": 68,
   "metadata": {},
   "outputs": [
    {
     "name": "stdout",
     "output_type": "stream",
     "text": [
      "Perform the fixSymm in the folder YamboParser_test/DipolesParser\n",
      "Initialize a Yambo calculator with scheduler direct\n"
     ]
    }
   ],
   "source": [
    "Tools.make_FixSymm(run_dir)"
   ]
  },
  {
   "cell_type": "markdown",
   "metadata": {},
   "source": [
    "We parse the ns.db1 databases in the SAVE folders, with and without fixsym procedure. \n",
    "\n",
    "We also parse the Pw data-file-schema.xml to compare the output of the two"
   ]
  },
  {
   "cell_type": "code",
   "execution_count": 69,
   "metadata": {},
   "outputs": [],
   "source": [
    "xml = os.path.join(source_dir,'data-file-schema.xml')\n",
    "nsdb = os.path.join(run_dir,'SAVE','ns.db1')\n",
    "nsdb_fixsymm = os.path.join(run_dir,'FixSymm','SAVE','ns.db1')"
   ]
  },
  {
   "cell_type": "code",
   "execution_count": 70,
   "metadata": {},
   "outputs": [
    {
     "name": "stdout",
     "output_type": "stream",
     "text": [
      "Parse file : Pw_bands/gaas_nscf_so.save/data-file-schema.xml\n",
      "Parse file : YamboParser_test/DipolesParser/SAVE/ns.db1\n",
      "Parse file : YamboParser_test/DipolesParser/FixSymm/SAVE/ns.db1\n"
     ]
    }
   ],
   "source": [
    "pw_data = P.PwParser(xml)\n",
    "yambo_data = P.YamboDftParser(nsdb)\n",
    "yambo_data_fixsym = P.YamboDftParser(nsdb_fixsymm)"
   ]
  },
  {
   "cell_type": "markdown",
   "metadata": {},
   "source": [
    "We show some of the attributes of the classes. Many attributes are equal to the ones of the `PwParser` and\n",
    "are defined in the same way"
   ]
  },
  {
   "cell_type": "code",
   "execution_count": 71,
   "metadata": {},
   "outputs": [
    {
     "name": "stdout",
     "output_type": "stream",
     "text": [
      "5.3385\n",
      "[[-5.3385  0.      5.3385]\n",
      " [ 0.      5.3385  5.3385]\n",
      " [-5.3385  5.3385  0.    ]]\n",
      "12\n",
      "8\n",
      "1\n",
      "48\n"
     ]
    },
    {
     "data": {
      "text/plain": [
       "array([[-1.,  0.,  0.],\n",
       "       [ 0., -1.,  0.],\n",
       "       [ 0.,  0.,  1.]])"
      ]
     },
     "execution_count": 71,
     "metadata": {},
     "output_type": "execute_result"
    }
   ],
   "source": [
    "print(yambo_data.alat)\n",
    "print(yambo_data.lattice)\n",
    "print(yambo_data.nbands)\n",
    "print(yambo_data.nbands_full)\n",
    "print(yambo_data.spin_degen)\n",
    "print(len(yambo_data.syms))\n",
    "yambo_data.syms[1]"
   ]
  },
  {
   "cell_type": "markdown",
   "metadata": {},
   "source": [
    "Note however that the symmetries are stored in a different order with respect to the `syms` attribute of `PwParser`.\n",
    "\n",
    "There are some methods to deal with the lattice properties"
   ]
  },
  {
   "cell_type": "code",
   "execution_count": 72,
   "metadata": {},
   "outputs": [
    {
     "data": {
      "text/plain": [
       "array([[-1.,  0.,  1.],\n",
       "       [ 0.,  1.,  1.],\n",
       "       [-1.,  1.,  0.]])"
      ]
     },
     "execution_count": 72,
     "metadata": {},
     "output_type": "execute_result"
    }
   ],
   "source": [
    "yambo_data.get_lattice(rescale=True)"
   ]
  },
  {
   "cell_type": "code",
   "execution_count": 73,
   "metadata": {},
   "outputs": [
    {
     "data": {
      "text/plain": [
       "array([[-0.5, -0.5,  0.5],\n",
       "       [ 0.5,  0.5,  0.5],\n",
       "       [-0.5,  0.5, -0.5]])"
      ]
     },
     "execution_count": 73,
     "metadata": {},
     "output_type": "execute_result"
    }
   ],
   "source": [
    "yambo_data.get_reciprocal_lattice(rescale=True)"
   ]
  },
  {
   "cell_type": "code",
   "execution_count": 74,
   "metadata": {},
   "outputs": [
    {
     "data": {
      "text/plain": [
       "304.29003968325"
      ]
     },
     "execution_count": 74,
     "metadata": {},
     "output_type": "execute_result"
    }
   ],
   "source": [
    "yambo_data.eval_lattice_volume()"
   ]
  },
  {
   "cell_type": "markdown",
   "metadata": {},
   "source": [
    "We show the number of kpoints (actually in the IBZ since they are reduced by the symmetries of the lattice). If the fixsymm is performed\n",
    "only the simmetries preserved by the external field are mantained"
   ]
  },
  {
   "cell_type": "code",
   "execution_count": 75,
   "metadata": {},
   "outputs": [
    {
     "name": "stdout",
     "output_type": "stream",
     "text": [
      "16\n",
      "16\n",
      "75\n"
     ]
    }
   ],
   "source": [
    "print(pw_data.nkpoints)\n",
    "print(yambo_data.nkpoints)\n",
    "print(yambo_data_fixsym.nkpoints)"
   ]
  },
  {
   "cell_type": "code",
   "execution_count": 76,
   "metadata": {},
   "outputs": [
    {
     "name": "stdout",
     "output_type": "stream",
     "text": [
      "48\n",
      "4\n"
     ]
    }
   ],
   "source": [
    "print(len(yambo_data.syms))\n",
    "print(len(yambo_data_fixsym.syms))"
   ]
  },
  {
   "cell_type": "markdown",
   "metadata": {},
   "source": [
    "we see that the symmetries in the last case are less and the number points in the IBZ is higher."
   ]
  },
  {
   "cell_type": "markdown",
   "metadata": {},
   "source": [
    "We compare the values of members and methods in the various cases"
   ]
  },
  {
   "cell_type": "code",
   "execution_count": 77,
   "metadata": {},
   "outputs": [
    {
     "data": {
      "text/plain": [
       "array([[ 0.00000000e+00,  0.00000000e+00,  0.00000000e+00],\n",
       "       [-1.66666667e-01,  1.66666667e-01, -1.66666667e-01],\n",
       "       [-3.33333333e-01,  3.33333333e-01, -3.33333333e-01],\n",
       "       [ 5.00000000e-01, -5.00000000e-01,  5.00000000e-01],\n",
       "       [ 0.00000000e+00,  3.33333333e-01,  0.00000000e+00],\n",
       "       [-1.66666667e-01,  5.00000000e-01, -1.66666667e-01],\n",
       "       [ 6.66666667e-01, -3.33333333e-01,  6.66666667e-01],\n",
       "       [ 5.00000000e-01, -1.66666667e-01,  5.00000000e-01],\n",
       "       [ 3.33333333e-01,  2.77555756e-17,  3.33333333e-01],\n",
       "       [ 0.00000000e+00,  6.66666667e-01,  0.00000000e+00],\n",
       "       [ 8.33333333e-01, -1.66666667e-01,  8.33333333e-01],\n",
       "       [ 6.66666667e-01, -5.55111512e-17,  6.66666667e-01],\n",
       "       [ 0.00000000e+00, -1.00000000e+00,  0.00000000e+00],\n",
       "       [ 6.66666667e-01, -3.33333333e-01,  1.00000000e+00],\n",
       "       [ 5.00000000e-01, -1.66666667e-01,  8.33333333e-01],\n",
       "       [-3.33333333e-01, -1.00000000e+00,  0.00000000e+00]])"
      ]
     },
     "execution_count": 77,
     "metadata": {},
     "output_type": "execute_result"
    }
   ],
   "source": [
    "pw_data.kpoints"
   ]
  },
  {
   "cell_type": "code",
   "execution_count": 78,
   "metadata": {},
   "outputs": [
    {
     "data": {
      "text/plain": [
       "array([[ 0.00000000e+00,  0.00000000e+00,  0.00000000e+00],\n",
       "       [-8.33333333e-02,  8.33333333e-02, -8.33333333e-02],\n",
       "       [-1.66666667e-01,  1.66666667e-01, -1.66666667e-01],\n",
       "       [ 2.50000000e-01, -2.50000000e-01,  2.50000000e-01],\n",
       "       [ 0.00000000e+00,  1.66666667e-01,  0.00000000e+00],\n",
       "       [-8.33333333e-02,  2.50000000e-01, -8.33333333e-02],\n",
       "       [ 3.33333333e-01, -1.66666667e-01,  3.33333333e-01],\n",
       "       [ 2.50000000e-01, -8.33333333e-02,  2.50000000e-01],\n",
       "       [ 1.66666667e-01,  1.38777878e-17,  1.66666667e-01],\n",
       "       [ 0.00000000e+00,  3.33333333e-01,  0.00000000e+00],\n",
       "       [ 4.16666667e-01, -8.33333333e-02,  4.16666667e-01],\n",
       "       [ 3.33333333e-01, -2.77555756e-17,  3.33333333e-01],\n",
       "       [ 0.00000000e+00, -5.00000000e-01,  0.00000000e+00],\n",
       "       [ 3.33333333e-01, -1.66666667e-01,  5.00000000e-01],\n",
       "       [ 2.50000000e-01, -8.33333333e-02,  4.16666667e-01],\n",
       "       [-1.66666667e-01, -5.00000000e-01,  0.00000000e+00]])"
      ]
     },
     "execution_count": 78,
     "metadata": {},
     "output_type": "execute_result"
    }
   ],
   "source": [
    "yambo_data.kpoints"
   ]
  },
  {
   "cell_type": "code",
   "execution_count": 79,
   "metadata": {},
   "outputs": [
    {
     "data": {
      "text/plain": [
       "array([[ 0.00000000e+00,  0.00000000e+00,  0.00000000e+00],\n",
       "       [-8.33333333e-02,  8.33333333e-02, -8.33333333e-02],\n",
       "       [-1.66666667e-01,  1.66666667e-01, -1.66666667e-01],\n",
       "       [ 2.50000000e-01, -2.50000000e-01,  2.50000000e-01],\n",
       "       [ 0.00000000e+00,  1.66666667e-01,  0.00000000e+00],\n",
       "       [-8.33333333e-02,  2.50000000e-01, -8.33333333e-02],\n",
       "       [ 3.33333333e-01, -1.66666667e-01,  3.33333333e-01],\n",
       "       [ 2.50000000e-01, -8.33333333e-02,  2.50000000e-01],\n",
       "       [ 1.66666667e-01,  1.38777878e-17,  1.66666667e-01],\n",
       "       [ 0.00000000e+00,  3.33333333e-01,  0.00000000e+00],\n",
       "       [ 4.16666667e-01, -8.33333333e-02,  4.16666667e-01],\n",
       "       [ 3.33333333e-01, -2.77555756e-17,  3.33333333e-01],\n",
       "       [ 0.00000000e+00, -5.00000000e-01,  0.00000000e+00],\n",
       "       [ 3.33333333e-01, -1.66666667e-01,  5.00000000e-01],\n",
       "       [ 2.50000000e-01, -8.33333333e-02,  4.16666667e-01],\n",
       "       [-1.66666667e-01, -5.00000000e-01,  0.00000000e+00],\n",
       "       [ 2.50000000e-01, -8.33333333e-02, -8.33333333e-02],\n",
       "       [-2.50000000e-01, -8.33333333e-02,  8.33333333e-02],\n",
       "       [ 8.33333333e-02, -2.50000000e-01,  8.33333333e-02],\n",
       "       [-8.33333333e-02,  2.50000000e-01,  8.33333333e-02],\n",
       "       [-2.50000000e-01,  8.33333333e-02,  8.33333333e-02],\n",
       "       [ 2.50000000e-01,  8.33333333e-02, -8.33333333e-02],\n",
       "       [ 1.66666667e-01, -1.66666667e-01, -1.66666667e-01],\n",
       "       [-3.33333333e-01,  1.66666667e-01,  3.33333333e-01],\n",
       "       [-1.66666667e-01,  3.33333333e-01,  3.33333333e-01]])"
      ]
     },
     "execution_count": 79,
     "metadata": {},
     "output_type": "execute_result"
    }
   ],
   "source": [
    "yambo_data_fixsym.kpoints[0:25]"
   ]
  },
  {
   "cell_type": "code",
   "execution_count": 80,
   "metadata": {},
   "outputs": [
    {
     "name": "stdout",
     "output_type": "stream",
     "text": [
      "Apply a scissor of 1.0019927808361082 eV\n"
     ]
    },
    {
     "data": {
      "text/plain": [
       "array([-1.28100839e+01, -1.28100839e+01, -3.56650776e-01, -3.56650776e-01,\n",
       "       -3.20579119e-11, -3.20579119e-11, -2.99191782e-11,  0.00000000e+00,\n",
       "        1.42000000e+00,  1.42000000e+00,  4.56612389e+00,  4.56612390e+00])"
      ]
     },
     "execution_count": 80,
     "metadata": {},
     "output_type": "execute_result"
    }
   ],
   "source": [
    "pw_data.get_evals(set_gap=1.42)[0]"
   ]
  },
  {
   "cell_type": "code",
   "execution_count": 81,
   "metadata": {},
   "outputs": [
    {
     "name": "stdout",
     "output_type": "stream",
     "text": [
      "Apply a scissor of 1.0019927808361082 eV\n"
     ]
    },
    {
     "data": {
      "text/plain": [
       "array([-1.28100839e+01, -1.28100839e+01, -3.56650776e-01, -3.56650776e-01,\n",
       "       -3.20579119e-11, -3.20579119e-11, -2.99191782e-11,  0.00000000e+00,\n",
       "        1.42000000e+00,  1.42000000e+00,  4.56612389e+00,  4.56612390e+00])"
      ]
     },
     "execution_count": 81,
     "metadata": {},
     "output_type": "execute_result"
    }
   ],
   "source": [
    "yambo_data.get_evals(set_gap=1.42)[0]"
   ]
  },
  {
   "cell_type": "code",
   "execution_count": 82,
   "metadata": {},
   "outputs": [
    {
     "name": "stdout",
     "output_type": "stream",
     "text": [
      "Direct gap system\n",
      "=================\n",
      "Gap : 0.4180072191638917 eV\n"
     ]
    },
    {
     "data": {
      "text/plain": [
       "{'gap': 0.4180072191638917,\n",
       " 'direct_gap': 0.4180072191638917,\n",
       " 'position_cbm': 0,\n",
       " 'positon_vbm': 0}"
      ]
     },
     "execution_count": 82,
     "metadata": {},
     "output_type": "execute_result"
    }
   ],
   "source": [
    "pw_data.get_gap()"
   ]
  },
  {
   "cell_type": "code",
   "execution_count": 83,
   "metadata": {},
   "outputs": [
    {
     "name": "stdout",
     "output_type": "stream",
     "text": [
      "Direct gap system\n",
      "=================\n",
      "Gap : 0.4180072191638917 eV\n"
     ]
    },
    {
     "data": {
      "text/plain": [
       "{'gap': 0.4180072191638917,\n",
       " 'direct_gap': 0.4180072191638917,\n",
       " 'position_cbm': 0,\n",
       " 'positon_vbm': 0}"
      ]
     },
     "execution_count": 83,
     "metadata": {},
     "output_type": "execute_result"
    }
   ],
   "source": [
    "yambo_data.get_gap()"
   ]
  },
  {
   "cell_type": "code",
   "execution_count": 84,
   "metadata": {},
   "outputs": [
    {
     "data": {
      "text/plain": [
       "array([0.41800722, 0.41800722, 0.41800722, 0.41800722])"
      ]
     },
     "execution_count": 84,
     "metadata": {},
     "output_type": "execute_result"
    }
   ],
   "source": [
    "pw_data.get_transitions(initial=[6,7],final=[8,9])[0]"
   ]
  },
  {
   "cell_type": "code",
   "execution_count": 85,
   "metadata": {},
   "outputs": [
    {
     "data": {
      "text/plain": [
       "array([0.41800722, 0.41800722, 0.41800722, 0.41800722])"
      ]
     },
     "execution_count": 85,
     "metadata": {},
     "output_type": "execute_result"
    }
   ],
   "source": [
    "pw_data.get_transitions(initial=[6,7],final=[8,9])[0]"
   ]
  },
  {
   "cell_type": "markdown",
   "metadata": {},
   "source": [
    "We perform the comparison also for a ``bands`` computation in which the kpoints are\n",
    "defined in QuantumESPRESSO using the `tpiba_b` option that correspond to cartesian\n",
    "coordinates in units of $2\\pi/a_{lat}$."
   ]
  },
  {
   "cell_type": "code",
   "execution_count": 86,
   "metadata": {},
   "outputs": [],
   "source": [
    "source_dir = 'Pw_bands/gaas_bands.save'\n",
    "run_dir = 'YamboParser_test/DftParser_bands'"
   ]
  },
  {
   "cell_type": "markdown",
   "metadata": {},
   "source": [
    "We create the Yambo SAVE using the function of the Utilities module"
   ]
  },
  {
   "cell_type": "code",
   "execution_count": 87,
   "metadata": {},
   "outputs": [
    {
     "name": "stdout",
     "output_type": "stream",
     "text": [
      "SAVE folder already present in YamboParser_test/DftParser_bands. No operations performed.\n"
     ]
    }
   ],
   "source": [
    "Tools.build_SAVE(source_dir=source_dir,run_dir=run_dir)"
   ]
  },
  {
   "cell_type": "code",
   "execution_count": 88,
   "metadata": {},
   "outputs": [],
   "source": [
    "xml = os.path.join(source_dir,'data-file-schema.xml')\n",
    "nsdb = os.path.join(run_dir,'SAVE','ns.db1')"
   ]
  },
  {
   "cell_type": "code",
   "execution_count": 89,
   "metadata": {},
   "outputs": [
    {
     "name": "stdout",
     "output_type": "stream",
     "text": [
      "Parse file : Pw_bands/gaas_bands.save/data-file-schema.xml\n",
      "Parse file : YamboParser_test/DftParser_bands/SAVE/ns.db1\n"
     ]
    }
   ],
   "source": [
    "pw_data = P.PwParser(xml)\n",
    "yambo_data = P.YamboDftParser(nsdb)"
   ]
  },
  {
   "cell_type": "code",
   "execution_count": 90,
   "metadata": {},
   "outputs": [
    {
     "data": {
      "text/plain": [
       "array([[0.5       , 0.5       , 0.5       ],\n",
       "       [0.48333333, 0.48333333, 0.48333333],\n",
       "       [0.46666667, 0.46666667, 0.46666667],\n",
       "       [0.45      , 0.45      , 0.45      ],\n",
       "       [0.43333333, 0.43333333, 0.43333333],\n",
       "       [0.41666667, 0.41666667, 0.41666667],\n",
       "       [0.4       , 0.4       , 0.4       ],\n",
       "       [0.38333333, 0.38333333, 0.38333333],\n",
       "       [0.36666667, 0.36666667, 0.36666667],\n",
       "       [0.35      , 0.35      , 0.35      ]])"
      ]
     },
     "execution_count": 90,
     "metadata": {},
     "output_type": "execute_result"
    }
   ],
   "source": [
    "pw_data.kpoints[0:10]"
   ]
  },
  {
   "cell_type": "code",
   "execution_count": 91,
   "metadata": {},
   "outputs": [
    {
     "data": {
      "text/plain": [
       "array([[0.5       , 0.5       , 0.5       ],\n",
       "       [0.48333333, 0.48333333, 0.48333333],\n",
       "       [0.46666667, 0.46666667, 0.46666667],\n",
       "       [0.45      , 0.45      , 0.45      ],\n",
       "       [0.43333333, 0.43333333, 0.43333333],\n",
       "       [0.41666667, 0.41666667, 0.41666667],\n",
       "       [0.4       , 0.4       , 0.4       ],\n",
       "       [0.38333333, 0.38333333, 0.38333333],\n",
       "       [0.36666667, 0.36666667, 0.36666667],\n",
       "       [0.35      , 0.35      , 0.35      ]])"
      ]
     },
     "execution_count": 91,
     "metadata": {},
     "output_type": "execute_result"
    }
   ],
   "source": [
    "yambo_data.kpoints[:10]"
   ]
  },
  {
   "cell_type": "markdown",
   "metadata": {},
   "source": [
    "We observe that the kpoints stored in the two parser are identical"
   ]
  },
  {
   "cell_type": "markdown",
   "metadata": {},
   "source": [
    "We perform a further test with random $k$ points, specified in QuantumESPRESSO\n",
    "with the `tpiba` option. We compare the xml and ns.db1 database generated with the\n",
    "usual procedure"
   ]
  },
  {
   "cell_type": "code",
   "execution_count": 92,
   "metadata": {},
   "outputs": [
    {
     "name": "stdout",
     "output_type": "stream",
     "text": [
      "Parse file : YamboParser_test/random_grids/data-file-schema.xml\n",
      "Parse file : YamboParser_test/random_grids/ns.db1\n"
     ]
    }
   ],
   "source": [
    "pw_data = P.PwParser('YamboParser_test/random_grids/data-file-schema.xml')\n",
    "yambo_data = P.YamboDftParser('YamboParser_test/random_grids/ns.db1')"
   ]
  },
  {
   "cell_type": "code",
   "execution_count": 93,
   "metadata": {},
   "outputs": [
    {
     "data": {
      "text/plain": [
       "array([[ 0.000000e+00,  0.000000e+00,  0.000000e+00],\n",
       "       [-8.464520e-03,  1.853640e-03, -7.024630e-03],\n",
       "       [ 9.818610e-03,  1.500391e-02,  1.478666e-02],\n",
       "       [-5.753930e-03,  3.050000e-06, -1.735204e-02],\n",
       "       [ 1.502407e-02,  8.102160e-03,  5.387760e-03],\n",
       "       [ 9.094310e-03,  3.194920e-03, -6.427010e-03],\n",
       "       [-8.042640e-03,  9.642650e-03, -1.917115e-02],\n",
       "       [ 7.458350e-03, -1.704125e-02, -1.992032e-02],\n",
       "       [ 1.077130e-02, -1.945781e-02, -1.781570e-03],\n",
       "       [ 1.246368e-02,  1.388959e-02,  1.070112e-02]])"
      ]
     },
     "execution_count": 93,
     "metadata": {},
     "output_type": "execute_result"
    }
   ],
   "source": [
    "pw_data.kpoints[0:10]"
   ]
  },
  {
   "cell_type": "code",
   "execution_count": 94,
   "metadata": {},
   "outputs": [
    {
     "data": {
      "text/plain": [
       "array([[ 0.000000e+00,  0.000000e+00,  0.000000e+00],\n",
       "       [-8.464520e-03,  1.853640e-03, -7.024630e-03],\n",
       "       [ 9.818610e-03,  1.500391e-02,  1.478666e-02],\n",
       "       [-5.753930e-03,  3.050000e-06, -1.735204e-02],\n",
       "       [ 1.502407e-02,  8.102160e-03,  5.387760e-03],\n",
       "       [ 9.094310e-03,  3.194920e-03, -6.427010e-03],\n",
       "       [-8.042640e-03,  9.642650e-03, -1.917115e-02],\n",
       "       [ 7.458350e-03, -1.704125e-02, -1.992032e-02],\n",
       "       [ 1.077130e-02, -1.945781e-02, -1.781570e-03],\n",
       "       [ 1.246368e-02,  1.388959e-02,  1.070112e-02]])"
      ]
     },
     "execution_count": 94,
     "metadata": {},
     "output_type": "execute_result"
    }
   ],
   "source": [
    "yambo_data.kpoints[0:10]"
   ]
  },
  {
   "cell_type": "markdown",
   "metadata": {},
   "source": [
    "Again the $k$ points are the same."
   ]
  },
  {
   "cell_type": "code",
   "execution_count": null,
   "metadata": {},
   "outputs": [],
   "source": []
  },
  {
   "cell_type": "code",
   "execution_count": null,
   "metadata": {},
   "outputs": [],
   "source": []
  },
  {
   "cell_type": "code",
   "execution_count": null,
   "metadata": {},
   "outputs": [],
   "source": []
  }
 ],
 "metadata": {
  "kernelspec": {
   "display_name": "Python 3",
   "language": "python",
   "name": "python3"
  },
  "language_info": {
   "codemirror_mode": {
    "name": "ipython",
    "version": 3
   },
   "file_extension": ".py",
   "mimetype": "text/x-python",
   "name": "python",
   "nbconvert_exporter": "python",
   "pygments_lexer": "ipython3",
   "version": "3.8.10"
  }
 },
 "nbformat": 4,
 "nbformat_minor": 4
}
