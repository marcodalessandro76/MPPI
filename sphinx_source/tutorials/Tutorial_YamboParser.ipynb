{
 "cells": [
  {
   "cell_type": "code",
   "execution_count": 1,
   "metadata": {},
   "outputs": [],
   "source": [
    "# useful to autoreload the module without restarting the kernel\n",
    "%load_ext autoreload\n",
    "%autoreload 2"
   ]
  },
  {
   "cell_type": "code",
   "execution_count": 12,
   "metadata": {},
   "outputs": [],
   "source": [
    "from mppi import Parsers as P"
   ]
  },
  {
   "cell_type": "markdown",
   "metadata": {},
   "source": [
    "# Tutorial for YamboParser class"
   ]
  },
  {
   "cell_type": "markdown",
   "metadata": {},
   "source": [
    "This tutorial describes the usage of the YamboParser class that parse the o- file produced by a yambo computation"
   ]
  },
  {
   "cell_type": "code",
   "execution_count": 3,
   "metadata": {},
   "outputs": [],
   "source": [
    "filename = 'YamboParser_test/hf_results/o-hf_test1.hf'"
   ]
  },
  {
   "cell_type": "code",
   "execution_count": 120,
   "metadata": {},
   "outputs": [],
   "source": [
    "import numpy as np\n",
    "\n",
    "reference_column_names = {\n",
    "    'hf' : ['kpoint','band','e0','ehf','dft','hf'],\n",
    "    'qp' : ['kpoint','band','e0','eme0','sce0'],\n",
    "    'carriers' : ['time','d(nhmne)','dnh','dne'],\n",
    "    'spin_magnetization' : \n",
    "        ['time','Ms_x','Ms_y','Ms_z','Mv_x','Mv_y','Mv_z','Mc_x','Mc_y','Mc_z'],\n",
    "    'external_field' : \n",
    "        ['time','E_x/Re','E_y/Re','E_z/Re','E_x/Im','E_y/Im','E_z/Im','Intensity','Fluence']\n",
    "}\n",
    "\n",
    "def file_to_list(filename,skip='#'):\n",
    "    \"\"\"\n",
    "    Read the filename and append all the lines that do not start\n",
    "    with skip to a list\n",
    "    \n",
    "    Args:\n",
    "        filename(str) : name of the file\n",
    "        skip(str) : first elements of the skipped lines\n",
    "    \"\"\"\n",
    "    lines = []\n",
    "    with open(filename) as f:\n",
    "        for l in f:\n",
    "            if not l.startswith(skip): lines.append(l)\n",
    "    return lines\n",
    "\n",
    "def get_columns(lines):\n",
    "    \"\"\"\n",
    "    Split each line into a list and convert its elements to float.\n",
    "    Then transpose the array so that each element of the array is a\n",
    "    column of the data of the file.\n",
    "    \"\"\"\n",
    "    splitted = []\n",
    "    for l in lines: # run over lines\n",
    "        splitted.append(list(map(float,l.split())))\n",
    "    \n",
    "    columns = np.array(splitted).transpose() \n",
    "    return columns \n",
    "\n",
    "def make_dict(filename,columns):\n",
    "    \"\"\"\n",
    "    Create a dictionary from the columns array\n",
    "    \"\"\"\n",
    "    suffix = filename.split('.')[-1]\n",
    "    data = {}\n",
    "    for ind,col in enumerate(columns):\n",
    "        if suffix in reference_column_names:\n",
    "            key = reference_column_names[suffix][ind]\n",
    "        else:\n",
    "            key = 'col'+str(ind+1)\n",
    "        data[key] = col\n",
    "    return data"
   ]
  },
  {
   "cell_type": "code",
   "execution_count": 107,
   "metadata": {},
   "outputs": [
    {
     "data": {
      "text/plain": [
       "['     1.00000      1.00000    -11.90291    -18.44185    -10.44030    -16.97925\\n',\n",
       " '    1.000        2.000       -.1176E-4    -1.271       -11.31       -12.58   \\n',\n",
       " '    1.000        3.000       -.1176E-4    -1.271       -11.31       -12.58   \\n',\n",
       " '     1.00000      4.00000      0.00000     -1.27144    -11.30832    -12.57977\\n',\n",
       " '    1.000000     5.000000     2.551225     6.921409    -9.992300    -5.622118\\n',\n",
       " '    1.000000     6.000000     2.551230     6.921480    -9.992361    -5.622112\\n',\n",
       " '    1.000000     7.000000     2.551230     6.921423    -9.992305    -5.622111\\n',\n",
       " '     1.00000      8.00000      3.15207      8.11371    -10.79715     -5.83551\\n',\n",
       " '     2.00000      1.00000    -11.10872    -17.31438    -10.51619    -16.72185\\n',\n",
       " '     2.00000      2.00000     -3.91439     -6.58144    -10.63681    -13.30387\\n',\n",
       " '     2.00000      3.00000     -0.75525     -2.21723    -11.07055    -12.53253\\n',\n",
       " '     2.00000      4.00000     -0.75525     -2.21727    -11.07049    -12.53252\\n',\n",
       " '     2.00000      5.00000      1.96241      6.27255    -10.02063     -5.71049\\n',\n",
       " '     2.00000      6.00000      3.49039      8.13828    -10.03632     -5.38843\\n',\n",
       " '     2.00000      7.00000      3.49040      8.13826    -10.03629     -5.38842\\n',\n",
       " '     2.00000      8.00000      6.75797     12.26880    -10.40591     -4.89509\\n']"
      ]
     },
     "execution_count": 107,
     "metadata": {},
     "output_type": "execute_result"
    }
   ],
   "source": [
    "lines = file_to_list(filename)\n",
    "lines"
   ]
  },
  {
   "cell_type": "code",
   "execution_count": 108,
   "metadata": {},
   "outputs": [
    {
     "data": {
      "text/plain": [
       "array([-1.190291e+01, -1.176000e-05, -1.176000e-05,  0.000000e+00,\n",
       "        2.551225e+00,  2.551230e+00,  2.551230e+00,  3.152070e+00,\n",
       "       -1.110872e+01, -3.914390e+00, -7.552500e-01, -7.552500e-01,\n",
       "        1.962410e+00,  3.490390e+00,  3.490400e+00,  6.757970e+00])"
      ]
     },
     "execution_count": 108,
     "metadata": {},
     "output_type": "execute_result"
    }
   ],
   "source": [
    "columns = get_columns(lines)\n",
    "columns[2]"
   ]
  },
  {
   "cell_type": "code",
   "execution_count": 110,
   "metadata": {},
   "outputs": [],
   "source": [
    "data = make_dict(filename,columns)"
   ]
  },
  {
   "cell_type": "code",
   "execution_count": 111,
   "metadata": {},
   "outputs": [
    {
     "data": {
      "text/plain": [
       "{'kpoint': array([1., 1., 1., 1., 1., 1., 1., 1., 2., 2., 2., 2., 2., 2., 2., 2.]),\n",
       " 'band': array([1., 2., 3., 4., 5., 6., 7., 8., 1., 2., 3., 4., 5., 6., 7., 8.]),\n",
       " 'e0': array([-1.190291e+01, -1.176000e-05, -1.176000e-05,  0.000000e+00,\n",
       "         2.551225e+00,  2.551230e+00,  2.551230e+00,  3.152070e+00,\n",
       "        -1.110872e+01, -3.914390e+00, -7.552500e-01, -7.552500e-01,\n",
       "         1.962410e+00,  3.490390e+00,  3.490400e+00,  6.757970e+00]),\n",
       " 'ehf': array([-18.44185 ,  -1.271   ,  -1.271   ,  -1.27144 ,   6.921409,\n",
       "          6.92148 ,   6.921423,   8.11371 , -17.31438 ,  -6.58144 ,\n",
       "         -2.21723 ,  -2.21727 ,   6.27255 ,   8.13828 ,   8.13826 ,\n",
       "         12.2688  ]),\n",
       " 'dft': array([-10.4403  , -11.31    , -11.31    , -11.30832 ,  -9.9923  ,\n",
       "         -9.992361,  -9.992305, -10.79715 , -10.51619 , -10.63681 ,\n",
       "        -11.07055 , -11.07049 , -10.02063 , -10.03632 , -10.03629 ,\n",
       "        -10.40591 ]),\n",
       " 'hf': array([-16.97925 , -12.58    , -12.58    , -12.57977 ,  -5.622118,\n",
       "         -5.622112,  -5.622111,  -5.83551 , -16.72185 , -13.30387 ,\n",
       "        -12.53253 , -12.53252 ,  -5.71049 ,  -5.38843 ,  -5.38842 ,\n",
       "         -4.89509 ])}"
      ]
     },
     "execution_count": 111,
     "metadata": {},
     "output_type": "execute_result"
    }
   ],
   "source": [
    "data"
   ]
  },
  {
   "cell_type": "markdown",
   "metadata": {},
   "source": [
    "We can convert the dictionary into an object to have the attribute"
   ]
  },
  {
   "cell_type": "code",
   "execution_count": 116,
   "metadata": {},
   "outputs": [],
   "source": [
    "from mppi.Utilities import Utils as U\n",
    "#from mppi.Utilities.Utils import Dict_to_attribute"
   ]
  },
  {
   "cell_type": "code",
   "execution_count": 117,
   "metadata": {},
   "outputs": [],
   "source": [
    "bla = U.Dict_to_attribute(**data)"
   ]
  },
  {
   "cell_type": "code",
   "execution_count": 118,
   "metadata": {},
   "outputs": [
    {
     "data": {
      "text/plain": [
       "array([1., 2., 3., 4., 5., 6., 7., 8., 1., 2., 3., 4., 5., 6., 7., 8.])"
      ]
     },
     "execution_count": 118,
     "metadata": {},
     "output_type": "execute_result"
    }
   ],
   "source": [
    "bla.band"
   ]
  },
  {
   "cell_type": "code",
   "execution_count": null,
   "metadata": {},
   "outputs": [],
   "source": []
  },
  {
   "cell_type": "code",
   "execution_count": null,
   "metadata": {},
   "outputs": [],
   "source": []
  },
  {
   "cell_type": "code",
   "execution_count": null,
   "metadata": {},
   "outputs": [],
   "source": []
  },
  {
   "cell_type": "code",
   "execution_count": null,
   "metadata": {},
   "outputs": [],
   "source": []
  },
  {
   "cell_type": "code",
   "execution_count": null,
   "metadata": {},
   "outputs": [],
   "source": []
  },
  {
   "cell_type": "code",
   "execution_count": 95,
   "metadata": {},
   "outputs": [],
   "source": [
    "import matplotlib.pyplot as plt"
   ]
  },
  {
   "cell_type": "code",
   "execution_count": 96,
   "metadata": {},
   "outputs": [
    {
     "data": {
      "text/plain": [
       "[<matplotlib.lines.Line2D at 0x7f3c2a58c198>]"
      ]
     },
     "execution_count": 96,
     "metadata": {},
     "output_type": "execute_result"
    },
    {
     "data": {
      "image/png": "[encoded data removed]",
      "text/plain": [
       "<Figure size 432x288 with 1 Axes>"
      ]
     },
     "metadata": {},
     "output_type": "display_data"
    }
   ],
   "source": [
    "plt.plot(bla.col1,bla.col3)"
   ]
  },
  {
   "cell_type": "code",
   "execution_count": null,
   "metadata": {},
   "outputs": [],
   "source": []
  },
  {
   "cell_type": "code",
   "execution_count": null,
   "metadata": {},
   "outputs": [],
   "source": []
  },
  {
   "cell_type": "code",
   "execution_count": null,
   "metadata": {},
   "outputs": [],
   "source": []
  }
 ],
 "metadata": {
  "kernelspec": {
   "display_name": "Python 3",
   "language": "python",
   "name": "python3"
  },
  "language_info": {
   "codemirror_mode": {
    "name": "ipython",
    "version": 3
   },
   "file_extension": ".py",
   "mimetype": "text/x-python",
   "name": "python",
   "nbconvert_exporter": "python",
   "pygments_lexer": "ipython3",
   "version": "3.6.9"
  }
 },
 "nbformat": 4,
 "nbformat_minor": 4
}
