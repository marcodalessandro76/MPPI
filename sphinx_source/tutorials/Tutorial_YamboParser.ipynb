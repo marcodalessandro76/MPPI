{
 "cells": [
  {
   "cell_type": "code",
   "execution_count": 1,
   "metadata": {},
   "outputs": [],
   "source": [
    "# useful to autoreload the module without restarting the kernel\n",
    "%load_ext autoreload\n",
    "%autoreload 2"
   ]
  },
  {
   "cell_type": "code",
   "execution_count": 57,
   "metadata": {},
   "outputs": [],
   "source": [
    "from mppi import InputFiles as I, Calculators as C, Utilities as U, Parsers as P\n",
    "from mppi.Calculators import Tools\n",
    "import matplotlib.pyplot as plt\n",
    "import numpy as np\n",
    "import os"
   ]
  },
  {
   "cell_type": "code",
   "execution_count": 58,
   "metadata": {},
   "outputs": [],
   "source": [
    "omp = 1\n",
    "mpi = 4"
   ]
  },
  {
   "cell_type": "markdown",
   "metadata": {},
   "source": [
    "# Tutorial of the YamboParser class"
   ]
  },
  {
   "cell_type": "markdown",
   "metadata": {},
   "source": [
    "This tutorial describes the usage of the YamboParser class. The parser contains instances \n",
    "of several classes, namely : \n",
    "* the YamboOutputParser that deals with the o- file(s) produced by a yambo computation\n",
    "* the YamboDipolesParser that parse the dipoles database created by Yambo\n",
    "* the YamboDftParser that extract lattice and electronic information (ad the dft level) from the\n",
    "  ns.db1 database written by Yambo in the SAVE folder\n",
    "\n",
    "The class is designed to deal with the output of the run method of YamboCalculator.\n",
    "\n",
    "Here we present a first example by performing a gw calculation:"
   ]
  },
  {
   "cell_type": "code",
   "execution_count": 8,
   "metadata": {},
   "outputs": [
    {
     "name": "stdout",
     "output_type": "stream",
     "text": [
      "Initialize a Yambo calculator with scheduler direct\n"
     ]
    }
   ],
   "source": [
    "rr = C.RunRules(mpi=mpi,omp_num_threads=omp)\n",
    "code = C.YamboCalculator(rr)"
   ]
  },
  {
   "cell_type": "code",
   "execution_count": 9,
   "metadata": {},
   "outputs": [
    {
     "name": "stdout",
     "output_type": "stream",
     "text": [
      "SAVE folder QeCalculator_test/outdir_nscf/bands_8.save/SAVE already present. No operations performed.\n"
     ]
    }
   ],
   "source": [
    "source_dir = 'QeCalculator_test/outdir_nscf/bands_8.save'\n",
    "save_dir = Tools.make_p2y(source_dir,overwrite_if_found=False)"
   ]
  },
  {
   "cell_type": "code",
   "execution_count": 10,
   "metadata": {},
   "outputs": [
    {
     "name": "stdout",
     "output_type": "stream",
     "text": [
      "SAVE folder already present in YamboCalculator_test. No operations performed.\n"
     ]
    }
   ],
   "source": [
    "run_dir = 'YamboCalculator_test'\n",
    "Tools.init_yambo_run_dir(save_dir,run_dir,overwrite_if_found=False,make_link=True)"
   ]
  },
  {
   "cell_type": "code",
   "execution_count": 13,
   "metadata": {},
   "outputs": [],
   "source": [
    "inp = I.YamboInput(args='yambo -d -k hartee -g n -p p -V qp',folder=run_dir)\n",
    "inp.set_kRange(1,2)\n",
    "#inp"
   ]
  },
  {
   "cell_type": "code",
   "execution_count": 14,
   "metadata": {},
   "outputs": [
    {
     "name": "stdout",
     "output_type": "stream",
     "text": [
      "Skip the run of qp_test1\n"
     ]
    },
    {
     "data": {
      "text/plain": [
       "{'output': {'qp': 'YamboCalculator_test/qp_test1/o-qp_test1.qp'},\n",
       " 'report': 'YamboCalculator_test/qp_test1/r-qp_test1_HF_and_locXC_gw0_dyson_em1d_ppa',\n",
       " 'dft': 'YamboCalculator_test/SAVE/ns.db1',\n",
       " 'pp': 'YamboCalculator_test/qp_test1/ndb.pp',\n",
       " 'QP': 'YamboCalculator_test/qp_test1/ndb.QP',\n",
       " 'HF_and_locXC': 'YamboCalculator_test/qp_test1/ndb.HF_and_locXC',\n",
       " 'dipoles': 'YamboCalculator_test/qp_test1/ndb.dipoles'}"
      ]
     },
     "execution_count": 14,
     "metadata": {},
     "output_type": "execute_result"
    }
   ],
   "source": [
    "results = code.run(input = inp, run_dir = run_dir, name='qp_test1')\n",
    "results"
   ]
  },
  {
   "cell_type": "markdown",
   "metadata": {},
   "source": [
    "The calculator contain the references to the o- files and database with the output data.\n",
    "The parser extract the data from the files, as follows"
   ]
  },
  {
   "cell_type": "code",
   "execution_count": 15,
   "metadata": {},
   "outputs": [
    {
     "data": {
      "text/plain": [
       "\u001b[0;31mInit signature:\u001b[0m \u001b[0mP\u001b[0m\u001b[0;34m.\u001b[0m\u001b[0mYamboParser\u001b[0m\u001b[0;34m(\u001b[0m\u001b[0mresults\u001b[0m\u001b[0;34m,\u001b[0m \u001b[0mverbose\u001b[0m\u001b[0;34m=\u001b[0m\u001b[0;32mFalse\u001b[0m\u001b[0;34m,\u001b[0m \u001b[0mextendOut\u001b[0m\u001b[0;34m=\u001b[0m\u001b[0;32mTrue\u001b[0m\u001b[0;34m)\u001b[0m\u001b[0;34m\u001b[0m\u001b[0;34m\u001b[0m\u001b[0m\n",
       "\u001b[0;31mDocstring:\u001b[0m     \n",
       "Class that perform the parsing starting from the results :py:class:`dict` built\n",
       "by the :class:`YamboCalculator` class. In the actual implementation of the class the\n",
       "parser is able to deal with the o- files, the dipoles database, the ``ndb.RT_G_PAR``\n",
       "and the ``ns.db1`` database written in the SAVE folder.\n",
       "\n",
       "Args:\n",
       "    results (:py:class:`dict`): The dictionary of the results built by the\n",
       "        :class:`YamboCalculator` class\n",
       "    verbose (:py:class:`boolean`) : Determine the amount of information provided on terminal\n",
       "    extendOut (:py:class:`boolean`) : Determine which dictionary is used as reference for the\n",
       "                    names of the variables in the :class:`YamboOutputParser`\n",
       "\n",
       "Attributes:\n",
       "    data (:class:`YamboOutputParser`) : contains the instance of the :class:`YamboOutputParser`\n",
       "        class that manage the parsing of the ``o-* files``\n",
       "    dipoles (:class:`YamboDipolesParser`) : contains the instance of the :class:`YamboDipolesParser`\n",
       "        class that manages the parsing of the ``dipoles`` database\n",
       "    dft (:class:`YamboDftParser`) : contains the instance of the :class:`YamboDftParser` that\n",
       "        manages the parsing of the ``ns.db1`` database\n",
       "    RTGreen (:class:`YamboRTGlesserParser`) : contains the instance of the\n",
       "        :class:`YamboRTGlesserParser` that manages the parsing of the `ndb.RT_G_PAR`\n",
       "        database\n",
       "\u001b[0;31mInit docstring:\u001b[0m Initialize the data member of the class.\n",
       "\u001b[0;31mFile:\u001b[0m           ~/Applications/MPPI/mppi/Parsers/YamboParser.py\n",
       "\u001b[0;31mType:\u001b[0m           type\n",
       "\u001b[0;31mSubclasses:\u001b[0m     \n"
      ]
     },
     "metadata": {},
     "output_type": "display_data"
    }
   ],
   "source": [
    "P.YamboParser?"
   ]
  },
  {
   "cell_type": "markdown",
   "metadata": {},
   "source": [
    "Note that the extendOut option has to chosen in agreement with the one the input, otherwise\n",
    "the parser atribute the name of the variables of the o- files in an erroneous way"
   ]
  },
  {
   "cell_type": "code",
   "execution_count": 16,
   "metadata": {},
   "outputs": [
    {
     "name": "stdout",
     "output_type": "stream",
     "text": [
      "Parse file YamboCalculator_test/qp_test1/o-qp_test1.qp\n",
      "Parse file : YamboCalculator_test/SAVE/ns.db1\n",
      "Parse file : YamboCalculator_test/qp_test1/ndb.dipoles\n",
      "Spin dipoles not found in the ndb.dipoles\n"
     ]
    }
   ],
   "source": [
    "data = P.YamboParser(results,extendOut=False,verbose=True)"
   ]
  },
  {
   "cell_type": "markdown",
   "metadata": {},
   "source": [
    "Some information on the parsed data can be obtained using the get_info method of the class"
   ]
  },
  {
   "cell_type": "code",
   "execution_count": 17,
   "metadata": {},
   "outputs": [
    {
     "name": "stdout",
     "output_type": "stream",
     "text": [
      "YamboOutputParser variables structure\n",
      "suffix qp with dict_keys(['kpoint', 'band', 'E0', 'EmE0', 'sce0'])\n",
      " \n",
      "YamboDipolesParser variables structure\n",
      "dip_ir shape (32, 4, 4, 3, 2)\n",
      "dip_p shape (32, 4, 4, 3, 2)\n",
      "dip_v shape (32, 4, 4, 3, 2)\n",
      "dip_spin shape (1,)\n",
      " \n",
      "YamboDftParser variables structure\n",
      "number of k points 32\n",
      "number of bands 8\n",
      "spin degeneration 1\n",
      " \n"
     ]
    }
   ],
   "source": [
    "data.get_info()"
   ]
  },
  {
   "cell_type": "markdown",
   "metadata": {},
   "source": [
    "Data are encapsulated in the attributes of the class, for instance"
   ]
  },
  {
   "cell_type": "code",
   "execution_count": 18,
   "metadata": {},
   "outputs": [
    {
     "data": {
      "text/plain": [
       "{'qp': {'kpoint': array([1., 1., 1., 1., 1., 1., 1., 1., 2., 2., 2., 2., 2., 2., 2., 2.]),\n",
       "  'band': array([1., 2., 3., 4., 5., 6., 7., 8., 1., 2., 3., 4., 5., 6., 7., 8.]),\n",
       "  'E0': array([-1.189685e+01, -1.355410e-06, -9.873900e-11,  0.000000e+00,\n",
       "          2.565152e+00,  2.565152e+00,  2.565152e+00,  3.146653e+00,\n",
       "         -1.153854e+01, -2.375836e+00, -4.453420e-01, -4.453410e-01,\n",
       "          2.294498e+00,  3.205498e+00,  3.205499e+00,  5.284825e+00]),\n",
       "  'EmE0': array([-1.564545,  0.722512,  0.741998,  0.741728,  1.867613,  1.867085,\n",
       "          1.82977 ,  2.395759, -1.427135,  0.369031,  0.648056,  0.670342,\n",
       "          1.85364 ,  1.981373,  1.95531 ,  2.672972]),\n",
       "  'sce0': array([ 4.576193,  2.008809,  2.031458,  2.031144, -2.003436, -2.00402 ,\n",
       "         -2.046771, -1.92696 ,  4.600587,  2.457893,  2.028685,  2.054818,\n",
       "         -1.999773, -2.067204, -2.096922, -1.932993])}}"
      ]
     },
     "execution_count": 18,
     "metadata": {},
     "output_type": "execute_result"
    }
   ],
   "source": [
    "data.data"
   ]
  },
  {
   "cell_type": "code",
   "execution_count": 19,
   "metadata": {},
   "outputs": [
    {
     "data": {
      "text/plain": [
       "<mppi.Parsers.YamboDftParser.YamboDftParser at 0x7f9cbc160ac0>"
      ]
     },
     "execution_count": 19,
     "metadata": {},
     "output_type": "execute_result"
    }
   ],
   "source": [
    "data.dft"
   ]
  },
  {
   "cell_type": "code",
   "execution_count": 20,
   "metadata": {},
   "outputs": [
    {
     "data": {
      "text/plain": [
       "<mppi.Parsers.YamboDipolesParser.YamboDipolesParser at 0x7f9cbc160a90>"
      ]
     },
     "execution_count": 20,
     "metadata": {},
     "output_type": "execute_result"
    }
   ],
   "source": [
    "data.dipoles"
   ]
  },
  {
   "cell_type": "markdown",
   "metadata": {},
   "source": [
    "In what follows we describe the features of the various classes using dedicated examples"
   ]
  },
  {
   "cell_type": "markdown",
   "metadata": {},
   "source": [
    "A YamboParser object can be also instanciated directly using the name of the folders that contain the\n",
    "o-* files and the databases, for instance"
   ]
  },
  {
   "cell_type": "code",
   "execution_count": 21,
   "metadata": {},
   "outputs": [],
   "source": [
    "outputPath = 'YamboCalculator_test/qp_test1'"
   ]
  },
  {
   "cell_type": "code",
   "execution_count": 22,
   "metadata": {},
   "outputs": [
    {
     "name": "stdout",
     "output_type": "stream",
     "text": [
      "Parse file YamboCalculator_test/qp_test1/o-qp_test1.qp\n",
      "Parse file : YamboCalculator_test/SAVE/ns.db1\n",
      "Parse file : YamboCalculator_test/qp_test1/ndb.dipoles\n",
      "Spin dipoles not found in the ndb.dipoles\n"
     ]
    }
   ],
   "source": [
    "data2 = P.YamboParser.from_path(run_dir=run_dir,outputPath=outputPath,verbose=True)"
   ]
  },
  {
   "cell_type": "code",
   "execution_count": 23,
   "metadata": {},
   "outputs": [
    {
     "name": "stdout",
     "output_type": "stream",
     "text": [
      "YamboOutputParser variables structure\n",
      "suffix qp with dict_keys(['kpoint', 'band', 'E0', 'E', 'EmE0'])\n",
      " \n",
      "YamboDipolesParser variables structure\n",
      "dip_ir shape (32, 4, 4, 3, 2)\n",
      "dip_p shape (32, 4, 4, 3, 2)\n",
      "dip_v shape (32, 4, 4, 3, 2)\n",
      "dip_spin shape (1,)\n",
      " \n",
      "YamboDftParser variables structure\n",
      "number of k points 32\n",
      "number of bands 8\n",
      "spin degeneration 1\n",
      " \n"
     ]
    }
   ],
   "source": [
    "data2.get_info()"
   ]
  },
  {
   "cell_type": "markdown",
   "metadata": {},
   "source": [
    "## Analysis of the YamboOutputParser class"
   ]
  },
  {
   "cell_type": "markdown",
   "metadata": {},
   "source": [
    "The class is designed to deal with the list of o- files produced by Yambo\n",
    "We present some example:"
   ]
  },
  {
   "cell_type": "code",
   "execution_count": 25,
   "metadata": {},
   "outputs": [],
   "source": [
    "qp_output = {'qp' : 'YamboParser_test/qp_results/o-qp_test1.qp'}"
   ]
  },
  {
   "cell_type": "code",
   "execution_count": 26,
   "metadata": {},
   "outputs": [],
   "source": [
    "qp_output_extendOut = {'qp' : 'YamboCalculator_test/qp_test_ExtendOut/o-qp_test_ExtendOut.qp'}"
   ]
  },
  {
   "cell_type": "code",
   "execution_count": 37,
   "metadata": {},
   "outputs": [],
   "source": [
    "rt_output = {'carriers':'YamboParser_test/rt_results/o-NETime_1000-dephase_0.01-freq_1.55-pol_circular.carriers',\n",
    "             'spin_magnetization':'YamboParser_test/rt_results/o-NETime_1000-dephase_0.01-freq_1.55-pol_circular.spin_magnetization',\n",
    "             'external_field':'YamboParser_test/rt_results/o-NETime_1000-dephase_0.01-freq_1.55-pol_circular.external_field',\n",
    "             'polarization':'YamboParser_test/rt_results/o-NETime_1000-dephase_0.01-freq_1.55-pol_circular.polarization'}"
   ]
  },
  {
   "cell_type": "markdown",
   "metadata": {},
   "source": [
    "When the list of files is passed to the parser the extendOut option used to run the computation has to be provided,\n",
    "otherwise the parser could perform a wrong assignement of the names of the variables. "
   ]
  },
  {
   "cell_type": "code",
   "execution_count": 27,
   "metadata": {},
   "outputs": [
    {
     "data": {
      "text/plain": [
       "\u001b[0;31mInit signature:\u001b[0m \u001b[0mP\u001b[0m\u001b[0;34m.\u001b[0m\u001b[0mYamboOutputParser\u001b[0m\u001b[0;34m(\u001b[0m\u001b[0moutput\u001b[0m\u001b[0;34m,\u001b[0m \u001b[0mverbose\u001b[0m\u001b[0;34m=\u001b[0m\u001b[0;32mTrue\u001b[0m\u001b[0;34m,\u001b[0m \u001b[0mextendOut\u001b[0m\u001b[0;34m=\u001b[0m\u001b[0;32mTrue\u001b[0m\u001b[0;34m)\u001b[0m\u001b[0;34m\u001b[0m\u001b[0;34m\u001b[0m\u001b[0m\n",
       "\u001b[0;31mDocstring:\u001b[0m     \n",
       "Class that performs the parsing of a Yambo o- file(s). The class ineriths from :py:class:`dict`\n",
       "and the instance of the class is a dictionary with the data. The keys correspond to the extension\n",
       "of the parsed files.\n",
       "\n",
       "Args:\n",
       "    output (:py:class:`list`): Dictionary with the structure of the output of :py:meth:`get_output_files`\n",
       "        of the `YamboCalculator` module.\n",
       "    verbose (:py:class:`boolean`) : Determine the amount of information provided on terminal\n",
       "    extendOut (:py:class:`boolean`) : Determine which dictionary is used as reference for the\n",
       "                    names of the variables\n",
       "\u001b[0;31mInit docstring:\u001b[0m Initialize the data member of the class.\n",
       "\u001b[0;31mFile:\u001b[0m           ~/Applications/MPPI/mppi/Parsers/YamboOutputParser.py\n",
       "\u001b[0;31mType:\u001b[0m           type\n",
       "\u001b[0;31mSubclasses:\u001b[0m     \n"
      ]
     },
     "metadata": {},
     "output_type": "display_data"
    }
   ],
   "source": [
    "P.YamboOutputParser?"
   ]
  },
  {
   "cell_type": "code",
   "execution_count": 29,
   "metadata": {},
   "outputs": [
    {
     "name": "stdout",
     "output_type": "stream",
     "text": [
      "Parse file YamboParser_test/qp_results/o-qp_test1.qp\n"
     ]
    }
   ],
   "source": [
    "results = P.YamboOutputParser(output=qp_output,extendOut=False)"
   ]
  },
  {
   "cell_type": "markdown",
   "metadata": {},
   "source": [
    "results is a dictionary with the structure"
   ]
  },
  {
   "cell_type": "code",
   "execution_count": 30,
   "metadata": {},
   "outputs": [
    {
     "data": {
      "text/plain": [
       "{'qp': {'kpoint': array([1., 1., 1., 1., 1., 1., 1., 1., 2., 2., 2., 2., 2., 2., 2., 2.]),\n",
       "  'band': array([1., 2., 3., 4., 5., 6., 7., 8., 1., 2., 3., 4., 5., 6., 7., 8.]),\n",
       "  'E0': array([-1.190291e+01, -1.176000e-05, -1.176000e-05,  0.000000e+00,\n",
       "          2.551225e+00,  2.551230e+00,  2.551230e+00,  3.152071e+00,\n",
       "         -1.110872e+01, -3.914389e+00, -7.552550e-01, -7.552460e-01,\n",
       "          1.962407e+00,  3.490390e+00,  3.490396e+00,  6.757975e+00]),\n",
       "  'EmE0': array([-1.50691 ,  0.7861  ,  0.7914  ,  0.7771  ,  1.884047,  1.907533,\n",
       "          1.906476,  2.349819, -1.21027 ,  0.216875,  0.676644,  0.653277,\n",
       "          1.799721,  2.065016,  2.084261,  2.726886]),\n",
       "  'sce0': array([ 4.48108 ,  2.194   ,  2.201   ,  2.184061, -2.137494, -2.110904,\n",
       "         -2.112035, -2.203245,  4.52994 ,  2.934759,  2.263484,  2.236098,\n",
       "         -2.186759, -2.20382 , -2.182057, -2.267519])}}"
      ]
     },
     "execution_count": 30,
     "metadata": {},
     "output_type": "execute_result"
    }
   ],
   "source": [
    "results"
   ]
  },
  {
   "cell_type": "markdown",
   "metadata": {},
   "source": [
    "For several usages it can be useful to access to the results with the object.attribute sintax. \n",
    "In this case it is possible to use the AttributeDict class the perform this conversion"
   ]
  },
  {
   "cell_type": "code",
   "execution_count": 33,
   "metadata": {},
   "outputs": [],
   "source": [
    "obj = U.AttributeDict(**results)"
   ]
  },
  {
   "cell_type": "markdown",
   "metadata": {},
   "source": [
    "and we can access as"
   ]
  },
  {
   "cell_type": "code",
   "execution_count": 34,
   "metadata": {},
   "outputs": [
    {
     "data": {
      "text/plain": [
       "array([-1.190291e+01, -1.176000e-05, -1.176000e-05,  0.000000e+00,\n",
       "        2.551225e+00,  2.551230e+00,  2.551230e+00,  3.152071e+00,\n",
       "       -1.110872e+01, -3.914389e+00, -7.552550e-01, -7.552460e-01,\n",
       "        1.962407e+00,  3.490390e+00,  3.490396e+00,  6.757975e+00])"
      ]
     },
     "execution_count": 34,
     "metadata": {},
     "output_type": "execute_result"
    }
   ],
   "source": [
    "obj.qp.E0"
   ]
  },
  {
   "cell_type": "markdown",
   "metadata": {},
   "source": [
    "Test of a parsing with extendOut = True"
   ]
  },
  {
   "cell_type": "code",
   "execution_count": 35,
   "metadata": {},
   "outputs": [
    {
     "name": "stdout",
     "output_type": "stream",
     "text": [
      "Parse file YamboCalculator_test/qp_test_ExtendOut/o-qp_test_ExtendOut.qp\n"
     ]
    }
   ],
   "source": [
    "results = P.YamboOutputParser(output=qp_output_extendOut,extendOut=True)"
   ]
  },
  {
   "cell_type": "markdown",
   "metadata": {},
   "source": [
    "now all the variables are available, for instance"
   ]
  },
  {
   "cell_type": "code",
   "execution_count": 36,
   "metadata": {},
   "outputs": [
    {
     "data": {
      "text/plain": [
       "array([0.724502, 0.846966, 0.847311, 0.847307, 0.839802, 0.839785,\n",
       "       0.839137, 0.853679, 0.719236, 0.823056, 0.842047, 0.842398,\n",
       "       0.844161, 0.839568, 0.839091, 0.850125])"
      ]
     },
     "execution_count": 36,
     "metadata": {},
     "output_type": "execute_result"
    }
   ],
   "source": [
    "results['qp']['z_Re']"
   ]
  },
  {
   "cell_type": "markdown",
   "metadata": {},
   "source": [
    "Let's see a further example by parsing the typical files of a real-time computation"
   ]
  },
  {
   "cell_type": "code",
   "execution_count": 38,
   "metadata": {},
   "outputs": [
    {
     "name": "stdout",
     "output_type": "stream",
     "text": [
      "Parse file YamboParser_test/rt_results/o-NETime_1000-dephase_0.01-freq_1.55-pol_circular.carriers\n",
      "Parse file YamboParser_test/rt_results/o-NETime_1000-dephase_0.01-freq_1.55-pol_circular.spin_magnetization\n",
      "Parse file YamboParser_test/rt_results/o-NETime_1000-dephase_0.01-freq_1.55-pol_circular.external_field\n",
      "Parse file YamboParser_test/rt_results/o-NETime_1000-dephase_0.01-freq_1.55-pol_circular.polarization\n"
     ]
    }
   ],
   "source": [
    "results = P.YamboOutputParser(rt_output)"
   ]
  },
  {
   "cell_type": "markdown",
   "metadata": {},
   "source": [
    "In this case we have several files, so the dictionary has more than one key"
   ]
  },
  {
   "cell_type": "code",
   "execution_count": 39,
   "metadata": {},
   "outputs": [
    {
     "data": {
      "text/plain": [
       "dict_keys(['carriers', 'spin_magnetization', 'external_field', 'polarization'])"
      ]
     },
     "execution_count": 39,
     "metadata": {},
     "output_type": "execute_result"
    }
   ],
   "source": [
    "results.keys()"
   ]
  },
  {
   "cell_type": "markdown",
   "metadata": {},
   "source": [
    "We can easily perform some plots"
   ]
  },
  {
   "cell_type": "code",
   "execution_count": 40,
   "metadata": {},
   "outputs": [
    {
     "data": {
      "image/png": "[encoded data removed]",
      "text/plain": [
       "<Figure size 432x288 with 1 Axes>"
      ]
     },
     "metadata": {
      "needs_background": "light"
     },
     "output_type": "display_data"
    },
    {
     "data": {
      "text/plain": [
       "<matplotlib.legend.Legend at 0x7f9cad0ef5b0>"
      ]
     },
     "execution_count": 40,
     "metadata": {},
     "output_type": "execute_result"
    },
    {
     "data": {
      "image/png": "[encoded data removed]",
      "text/plain": [
       "<Figure size 432x288 with 1 Axes>"
      ]
     },
     "metadata": {
      "needs_background": "light"
     },
     "output_type": "display_data"
    }
   ],
   "source": [
    "time = results['carriers']['time']\n",
    "elec = results['carriers']['dne']\n",
    "field_int = results['external_field']['Intensity']\n",
    "pol = results['polarization']['Pol_x']\n",
    "\n",
    "ratio = max(field_int)/max(elec)\n",
    "\n",
    "plt.plot(time,ratio*elec,label='dne')\n",
    "plt.plot(time,field_int,label='field_int')\n",
    "plt.legend()\n",
    "plt.show()\n",
    "\n",
    "plt.plot(time,pol,label='Pol_x')\n",
    "plt.legend()"
   ]
  },
  {
   "cell_type": "markdown",
   "metadata": {},
   "source": [
    "Again we can access to the results using the attribute syntax. For instance if we are intersted to the spin_magnetization\n",
    "part of the resutls we can set"
   ]
  },
  {
   "cell_type": "code",
   "execution_count": 41,
   "metadata": {},
   "outputs": [],
   "source": [
    "spin_results = U.AttributeDict(**results['spin_magnetization'])"
   ]
  },
  {
   "cell_type": "code",
   "execution_count": 42,
   "metadata": {},
   "outputs": [
    {
     "data": {
      "text/plain": [
       "[<matplotlib.lines.Line2D at 0x7f9cacfaedf0>]"
      ]
     },
     "execution_count": 42,
     "metadata": {},
     "output_type": "execute_result"
    },
    {
     "data": {
      "image/png": "[encoded data removed]",
      "text/plain": [
       "<Figure size 432x288 with 1 Axes>"
      ]
     },
     "metadata": {
      "needs_background": "light"
     },
     "output_type": "display_data"
    }
   ],
   "source": [
    "plt.plot(spin_results.time,spin_results.Mc_z)\n",
    "plt.plot(spin_results.time,spin_results.Mv_z)"
   ]
  },
  {
   "cell_type": "markdown",
   "metadata": {},
   "source": [
    "###  YamboOutputParser for a ypp computation"
   ]
  },
  {
   "cell_type": "markdown",
   "metadata": {},
   "source": [
    "We test the functionality of the Parser to deal with the output of a ypp -s b computation for plotting the bands structure along a path"
   ]
  },
  {
   "cell_type": "code",
   "execution_count": 43,
   "metadata": {},
   "outputs": [],
   "source": [
    "bands_output = {'bands_interpolated':'YamboCalculator_test/bands_test1/o-bands_test1.bands_interpolated'}"
   ]
  },
  {
   "cell_type": "code",
   "execution_count": 44,
   "metadata": {},
   "outputs": [
    {
     "name": "stdout",
     "output_type": "stream",
     "text": [
      "Parse file YamboCalculator_test/bands_test1/o-bands_test1.bands_interpolated\n"
     ]
    }
   ],
   "source": [
    "results = P.YamboOutputParser(bands_output)"
   ]
  },
  {
   "cell_type": "markdown",
   "metadata": {},
   "source": [
    "For instance"
   ]
  },
  {
   "cell_type": "code",
   "execution_count": 45,
   "metadata": {},
   "outputs": [
    {
     "data": {
      "text/plain": [
       "array([0.        , 0.04593836, 0.09187671, 0.13781506, 0.18375342,\n",
       "       0.22969177, 0.27563013, 0.32156848, 0.36750684, 0.41344519,\n",
       "       0.45938355, 0.5053219 , 0.55126025, 0.59719861, 0.64313696,\n",
       "       0.68907532, 0.73501367, 0.78095203, 0.82689038, 0.87282874,\n",
       "       0.91876709, 0.96470544, 1.0106438 , 1.0565822 , 1.1017687 ,\n",
       "       1.1469552 , 1.19214171, 1.23732823, 1.28251474, 1.32770126,\n",
       "       1.37288778, 1.4180743 , 1.46326081, 1.50844733, 1.55363385,\n",
       "       1.59882037, 1.64400689, 1.6891934 , 1.73437992, 1.77956644,\n",
       "       1.82475296, 1.86993948, 1.91512599, 1.96031251, 2.005499  ,\n",
       "       2.05068555, 2.09587206, 2.14105858, 2.1862451 , 2.2314316 ,\n",
       "       2.2766181 , 2.3235426 , 2.3704671 , 2.41739152, 2.46431598,\n",
       "       2.51124044, 2.5581649 , 2.60508936, 2.65201382, 2.69893828,\n",
       "       2.74586274, 2.79278721, 2.83971167, 2.88663613, 2.93210418,\n",
       "       2.97757224, 3.0230403 , 3.06850835, 3.11397641, 3.15944447,\n",
       "       3.20491252, 3.25038058, 3.29584864, 3.34131669, 3.38678475,\n",
       "       3.43225281, 3.47772086, 3.52318892, 3.56865697, 3.61412503,\n",
       "       3.65959309, 3.70506114, 3.7505292 , 3.79599726, 3.84146531,\n",
       "       3.88693337, 3.93240143, 3.97786948, 4.02333754, 4.0688056 ,\n",
       "       4.11427365, 4.1597417 , 4.2052098 , 4.2506778 ])"
      ]
     },
     "execution_count": 45,
     "metadata": {},
     "output_type": "execute_result"
    }
   ],
   "source": [
    "results['bands_interpolated']['col0'] # kpath"
   ]
  },
  {
   "cell_type": "code",
   "execution_count": 46,
   "metadata": {},
   "outputs": [
    {
     "data": {
      "text/plain": [
       "array([-1.35540660e-06, -1.35540660e-06, -2.37583629e+00, -2.37583629e+00,\n",
       "       -2.37583629e+00, -2.37583629e+00, -5.30497690e+00, -5.30497690e+00,\n",
       "       -5.30497690e+00, -5.30497690e+00, -4.42422173e+00, -4.42422173e+00,\n",
       "       -2.05464056e+00, -2.05464056e+00, -5.30497690e+00, -5.30497690e+00,\n",
       "       -5.30497690e+00, -5.30497690e+00, -2.37583629e+00, -2.37583629e+00,\n",
       "       -2.37583629e+00, -2.37583629e+00, -1.35540660e-06, -1.35540660e-06,\n",
       "       -1.35540660e-06, -1.35540660e-06, -2.05464056e+00, -2.05464056e+00,\n",
       "       -2.05464056e+00, -2.05464056e+00, -5.00667257e+00, -5.00667257e+00,\n",
       "       -5.00667257e+00, -5.00667257e+00, -5.00667257e+00, -7.78724511e+00,\n",
       "       -7.78724511e+00, -7.78724511e+00, -7.78724511e+00, -5.00667257e+00,\n",
       "       -5.00667257e+00, -5.00667257e+00, -5.00667257e+00, -5.00667257e+00,\n",
       "       -1.35540660e-06, -2.05464056e+00, -2.05464056e+00, -2.05464056e+00,\n",
       "       -1.35540660e-06, -1.35540660e-06, -1.35540660e-06, -1.35540660e-06,\n",
       "       -1.35540660e-06, -2.05464056e+00, -2.05464056e+00, -2.05464056e+00,\n",
       "       -2.05464056e+00, -5.00667257e+00, -5.00667257e+00, -5.00667257e+00,\n",
       "       -5.00667257e+00, -7.78724511e+00, -7.78724511e+00, -7.78724511e+00,\n",
       "       -7.78724511e+00, -7.78724511e+00, -7.67094267e+00, -7.67094267e+00,\n",
       "       -6.74725642e+00, -5.63143757e+00, -5.63143757e+00, -6.74725642e+00,\n",
       "       -6.74725642e+00, -6.74725642e+00, -6.74725642e+00, -6.74725567e+00,\n",
       "       -7.67094267e+00, -7.67094267e+00, -6.74725567e+00, -7.67094267e+00,\n",
       "       -7.67094267e+00, -6.54702153e+00, -5.63143688e+00, -5.63143688e+00,\n",
       "       -5.63143688e+00, -5.63143688e+00, -3.71240251e+00, -4.42422154e+00,\n",
       "       -2.05464056e+00, -2.05464056e+00, -2.05464056e+00, -1.35540660e-06,\n",
       "       -1.35540660e-06, -1.35540660e-06])"
      ]
     },
     "execution_count": 46,
     "metadata": {},
     "output_type": "execute_result"
    }
   ],
   "source": [
    "results['bands_interpolated']['col1'] # energies of the first band included in the computation"
   ]
  },
  {
   "cell_type": "markdown",
   "metadata": {},
   "source": [
    "The parser cannot determine the names of the columns because the number of colums depend on the\n",
    "number of bands considered. The meaning of the columns can be identified by knowing the input used to \n",
    "perform the post processing. "
   ]
  },
  {
   "cell_type": "code",
   "execution_count": 47,
   "metadata": {},
   "outputs": [],
   "source": [
    "r = results['bands_interpolated']\n",
    "kpath = r['col0']\n",
    "band3 = r['col1']\n",
    "band4 = r['col2']\n",
    "band5 = r['col3']\n",
    "band6 = r['col4']"
   ]
  },
  {
   "cell_type": "code",
   "execution_count": 48,
   "metadata": {},
   "outputs": [
    {
     "data": {
      "text/plain": [
       "<matplotlib.legend.Legend at 0x7f9cacf895e0>"
      ]
     },
     "execution_count": 48,
     "metadata": {},
     "output_type": "execute_result"
    },
    {
     "data": {
      "image/png": "[encoded data removed]",
      "text/plain": [
       "<Figure size 432x288 with 1 Axes>"
      ]
     },
     "metadata": {
      "needs_background": "light"
     },
     "output_type": "display_data"
    }
   ],
   "source": [
    "plt.plot(kpath,band3,label='band3')\n",
    "plt.plot(kpath,band4,label='band4')\n",
    "plt.plot(kpath,band5,label='band5')\n",
    "plt.plot(kpath,band6,label='band6')\n",
    "plt.legend()"
   ]
  },
  {
   "cell_type": "markdown",
   "metadata": {},
   "source": [
    "## Analysis of the YamboDipolesParser class"
   ]
  },
  {
   "cell_type": "markdown",
   "metadata": {},
   "source": [
    "To analyze the YamboDipolesParser we build the dipoles using Yambo. We start from a nscf\n",
    "computation on GaAs on a regular grid with 12 bands (8 full and 4 empties, since the bands\n",
    "are spin splitted)"
   ]
  },
  {
   "cell_type": "code",
   "execution_count": null,
   "metadata": {},
   "outputs": [],
   "source": [
    "source_dir = 'Pw_bands/gaas_nscf_so.save'\n",
    "save_dir = Tools.make_p2y(source_dir,overwrite_if_found=False)"
   ]
  },
  {
   "cell_type": "code",
   "execution_count": 54,
   "metadata": {},
   "outputs": [
    {
     "name": "stdout",
     "output_type": "stream",
     "text": [
      "Create folder YamboParser_test/DipolesParser\n",
      "Executing command: cd Pw_bands/gaas_nscf_so.save; p2y\n",
      "Create a symlink of /home/marco/Applications/MPPI/sphinx_source/tutorials/Pw_bands/gaas_nscf_so.save/SAVE in YamboParser_test/DipolesParser\n",
      "Executing command: cd YamboParser_test/DipolesParser;OMP_NUM_THREADS=1 mpirun -np 1 yambo\n"
     ]
    }
   ],
   "source": [
    "run_dir = 'YamboParser_test/DipolesParser'\n",
    "Tools.init_yambo_run_dir(save_dir,run_dir,overwrite_if_found=False,make_link=True)"
   ]
  },
  {
   "cell_type": "code",
   "execution_count": 55,
   "metadata": {},
   "outputs": [
    {
     "data": {
      "text/plain": [
       "{'args': 'yambo -dipoles -V all',\n",
       " 'folder': 'YamboParser_test/DipolesParser',\n",
       " 'filename': 'yambo.in',\n",
       " 'arguments': ['DipBandsALL'],\n",
       " 'variables': {'StdoHash': [40.0, ''],\n",
       "  'Nelectro': [8.0, ''],\n",
       "  'ElecTemp': [0.0, 'eV'],\n",
       "  'BoseTemp': [-1.0, 'eV'],\n",
       "  'OccTresh': [1e-05, ''],\n",
       "  'NLogCPUs': [0.0, ''],\n",
       "  'MEM_tresh': [51200.0, 'Kb'],\n",
       "  'DIP_Threads': [0.0, ''],\n",
       "  'DipoleEtresh': [1e-05, 'eV'],\n",
       "  'DBsIOoff': 'none',\n",
       "  'DBsFRAGpm': 'none',\n",
       "  'PAR_def_mode': 'balanced',\n",
       "  'DipComputed': 'R P V Spin',\n",
       "  'DipBands': [[1, 12], '']}}"
      ]
     },
     "execution_count": 55,
     "metadata": {},
     "output_type": "execute_result"
    }
   ],
   "source": [
    "inp = I.YamboInput(args='yambo -dipoles -V all',folder=run_dir)\n",
    "inp['variables']['DipComputed'] = 'R P V Spin'\n",
    "inp['arguments'].append(\"DipBandsALL\")\n",
    "inp"
   ]
  },
  {
   "cell_type": "markdown",
   "metadata": {},
   "source": [
    "Note that the options ``DipBandsALL`` enables the computation of the dipoles elements among all the bands, and not\n",
    "only in for the full-empty couples"
   ]
  },
  {
   "cell_type": "code",
   "execution_count": 56,
   "metadata": {},
   "outputs": [
    {
     "name": "stdout",
     "output_type": "stream",
     "text": [
      "run command: mpirun -np 1 yambo -F dipoles.in -J dipoles -C dipoles\n",
      "computation dipoles is running...\n",
      "computation dipoles ended\n",
      "\n",
      "        There are no o-* files.\n",
      "        Maybe you have performed a ypp computation or wait_end_run and/or\n",
      "        the dry_run option are active.\n",
      "        Otherwise a possible error has occured during the computation\n",
      "        \n",
      "Run performed in 06s\n"
     ]
    },
    {
     "data": {
      "text/plain": [
       "{'output': {},\n",
       " 'report': 'YamboParser_test/DipolesParser/dipoles/r-dipoles_dipoles',\n",
       " 'dft': 'YamboParser_test/DipolesParser/SAVE/ns.db1',\n",
       " 'dipoles': 'YamboParser_test/DipolesParser/dipoles/ndb.dipoles'}"
      ]
     },
     "execution_count": 56,
     "metadata": {},
     "output_type": "execute_result"
    }
   ],
   "source": [
    "code.run(input=inp,run_dir=run_dir,name='dipoles',mpi=1,skip=False)"
   ]
  },
  {
   "cell_type": "markdown",
   "metadata": {},
   "source": [
    "Once that the computation is over, and the database is built by Yambo we parse it"
   ]
  },
  {
   "cell_type": "code",
   "execution_count": 57,
   "metadata": {},
   "outputs": [],
   "source": [
    "dipole_file = os.path.join(run_dir,'dipoles/ndb.dipoles')"
   ]
  },
  {
   "cell_type": "code",
   "execution_count": 58,
   "metadata": {},
   "outputs": [
    {
     "name": "stdout",
     "output_type": "stream",
     "text": [
      "Parse file : YamboParser_test/DipolesParser/dipoles/ndb.dipoles\n"
     ]
    }
   ],
   "source": [
    "dipoles = P.YamboDipolesParser(dipole_file)"
   ]
  },
  {
   "cell_type": "code",
   "execution_count": 59,
   "metadata": {},
   "outputs": [
    {
     "name": "stdout",
     "output_type": "stream",
     "text": [
      "YamboDipolesParser variables structure\n",
      "dip_ir shape (16, 12, 12, 3, 2)\n",
      "dip_p shape (16, 12, 12, 3, 2)\n",
      "dip_v shape (16, 12, 12, 3, 2)\n",
      "dip_spin shape (16, 12, 12, 3, 2)\n"
     ]
    }
   ],
   "source": [
    "dipoles.get_info()"
   ]
  },
  {
   "cell_type": "markdown",
   "metadata": {},
   "source": [
    "We consider the r dipole (x component) and look for the values of the valence->conduction\n",
    "elements"
   ]
  },
  {
   "cell_type": "code",
   "execution_count": 63,
   "metadata": {},
   "outputs": [
    {
     "name": "stdout",
     "output_type": "stream",
     "text": [
      "[[[ 0.00000000e+00+0.00000000e+00j -7.32989130e+00-1.04414460e+00j\n",
      "   -2.67618113e-04-2.73337086e-02j -8.31398256e-01-8.24659863e-01j\n",
      "    1.54225410e-02+5.53155198e-01j -8.47292442e-03-3.52913430e-02j\n",
      "    3.94122962e-02+4.51266933e-01j -3.50684921e-02-4.23464784e-02j\n",
      "   -3.27529949e-03+3.62501186e-03j  3.12675546e-02-8.78397798e-02j\n",
      "   -6.91983853e-03-5.34757557e-03j  5.07940800e-03-9.23038442e-02j]\n",
      "  [-7.32989130e+00+1.04414460e+00j  0.00000000e+00+0.00000000e+00j\n",
      "    8.01318921e-01+8.54408462e-01j -3.56489315e-02-9.21653706e-03j\n",
      "   -9.18567469e-03-1.86620892e-02j  5.51941446e-01+1.59714051e-03j\n",
      "   -8.44179368e-03-1.80563835e-02j -4.53646536e-01+2.62720464e-02j\n",
      "   -3.27381201e-02-8.40906364e-02j  2.53831680e-03-5.56781058e-03j\n",
      "    2.48079709e-02-9.19902074e-02j  5.51535117e-03+1.76623507e-03j]\n",
      "  [-2.67618113e-04+2.73337086e-02j  8.01318921e-01-8.54408462e-01j\n",
      "    0.00000000e+00+0.00000000e+00j  1.89030428e+00+4.66548965e-01j\n",
      "    5.79517535e-02+7.19914584e-02j  2.97413490e-01+5.37567659e-01j\n",
      "    3.39576600e-02+1.71525456e-02j  1.13901180e+00-2.80942908e-02j\n",
      "   -1.35458846e-01+8.48610027e-02j -5.79681904e-03-1.26648203e-02j\n",
      "   -8.71556302e-02-1.00831534e-01j -5.21431367e-03+1.90947218e-02j]\n",
      "  [-8.31398256e-01+8.24659863e-01j -3.56489315e-02+9.21653706e-03j\n",
      "    1.89030428e+00-4.66548965e-01j  0.00000000e+00+0.00000000e+00j\n",
      "    5.45636211e-01-3.35822521e-01j  1.14411805e-02-7.20224684e-02j\n",
      "    2.58112611e-02+1.15460258e+00j -1.03327761e-02+2.34740261e-03j\n",
      "   -9.08485260e-03+1.39249252e-02j  1.57530187e-01+1.64761717e-02j\n",
      "   -9.18993867e-03-6.50085470e-03j  1.11691402e-01+7.31907914e-02j]\n",
      "  [ 1.54225410e-02-5.53155198e-01j -9.18567469e-03+1.86620892e-02j\n",
      "    5.79517535e-02-7.19914584e-02j  5.45636211e-01+3.35822521e-01j\n",
      "    0.00000000e+00+0.00000000e+00j  2.11427743e-01-9.56134044e-01j\n",
      "    1.62831255e+00-7.55540099e-01j  6.61581637e-02+1.10979076e-01j\n",
      "   -9.25205611e-02+4.45597370e-02j  1.38243035e-01+2.87229424e-01j\n",
      "    4.08191950e-02-2.36504566e-04j  2.30604964e-01+2.95389137e-01j]\n",
      "  [-8.47292442e-03+3.52913430e-02j  5.51941446e-01-1.59714051e-03j\n",
      "    2.97413490e-01-5.37567659e-01j  1.14411805e-02+7.20224684e-02j\n",
      "    2.11427743e-01+9.56134044e-01j  0.00000000e+00+0.00000000e+00j\n",
      "   -5.85802578e-02-1.12608495e-01j -1.63776512e+00+7.00740450e-01j\n",
      "   -1.39602536e-01+3.03461916e-01j -5.13598540e-02+6.83745581e-02j\n",
      "   -3.35693039e-01+1.78584191e-01j -7.62539820e-03-1.13538619e-02j]\n",
      "  [ 3.94122962e-02-4.51266933e-01j -8.44179368e-03+1.80563835e-02j\n",
      "    3.39576600e-02-1.71525456e-02j  2.58112611e-02-1.15460258e+00j\n",
      "    1.62831255e+00+7.55540099e-01j -5.85802578e-02+1.12608495e-01j\n",
      "    0.00000000e+00+0.00000000e+00j -2.28599993e+01-4.96581405e+01j\n",
      "   -1.40120452e-03-3.13814570e-02j  3.07801000e+00-1.74927227e+00j\n",
      "   -8.07164003e-03-1.42328602e-02j -8.70404117e-01+5.57876659e-01j]\n",
      "  [-3.50684921e-02+4.23464784e-02j -4.53646536e-01-2.62720464e-02j\n",
      "    1.13901180e+00+2.80942908e-02j -1.03327761e-02-2.34740261e-03j\n",
      "    6.61581637e-02-1.10979076e-01j -1.63776512e+00-7.00740450e-01j\n",
      "   -2.28599993e+01+4.96581405e+01j  0.00000000e+00+0.00000000e+00j\n",
      "   -3.38338401e+00-1.12316434e+00j -8.75460474e-03-8.31172632e-04j\n",
      "    4.99613685e-01+9.46940754e-01j  8.01958247e-03-4.09287053e-02j]\n",
      "  [-3.27529949e-03-3.62501186e-03j -3.27381201e-02+8.40906364e-02j\n",
      "   -1.35458846e-01-8.48610027e-02j -9.08485260e-03-1.39249252e-02j\n",
      "   -9.25205611e-02-4.45597370e-02j -1.39602536e-01-3.03461916e-01j\n",
      "   -1.40120452e-03+3.13814570e-02j -3.38338401e+00+1.12316434e+00j\n",
      "    0.00000000e+00+0.00000000e+00j -1.38856218e+00-5.58888916e+00j\n",
      "   -2.31086113e+00+1.17762304e+00j -1.41328812e-01+1.49001606e-01j]\n",
      "  [ 3.12675546e-02+8.78397798e-02j  2.53831680e-03+5.56781058e-03j\n",
      "   -5.79681904e-03+1.26648203e-02j  1.57530187e-01-1.64761717e-02j\n",
      "    1.38243035e-01-2.87229424e-01j -5.13598540e-02-6.83745581e-02j\n",
      "    3.07801000e+00+1.74927227e+00j -8.75460474e-03+8.31172632e-04j\n",
      "   -1.38856218e+00+5.58888916e+00j  0.00000000e+00+0.00000000e+00j\n",
      "    2.52960030e-02-1.81659493e-01j -7.61363207e-01+2.53330306e+00j]\n",
      "  [-6.91983853e-03+5.34757557e-03j  2.48079709e-02+9.19902074e-02j\n",
      "   -8.71556302e-02+1.00831534e-01j -9.18993867e-03+6.50085470e-03j\n",
      "    4.08191950e-02+2.36504566e-04j -3.35693039e-01-1.78584191e-01j\n",
      "   -8.07164003e-03+1.42328602e-02j  4.99613685e-01-9.46940754e-01j\n",
      "   -2.31086113e+00-1.17762304e+00j  2.52960030e-02+1.81659493e-01j\n",
      "    0.00000000e+00+0.00000000e+00j -4.97362491e+00+1.64461368e+01j]\n",
      "  [ 5.07940800e-03+9.23038442e-02j  5.51535117e-03-1.76623507e-03j\n",
      "   -5.21431367e-03-1.90947218e-02j  1.11691402e-01-7.31907914e-02j\n",
      "    2.30604964e-01-2.95389137e-01j -7.62539820e-03+1.13538619e-02j\n",
      "   -8.70404117e-01-5.57876659e-01j  8.01958247e-03+4.09287053e-02j\n",
      "   -1.41328812e-01-1.49001606e-01j -7.61363207e-01-2.53330306e+00j\n",
      "   -4.97362491e+00-1.64461368e+01j  0.00000000e+00+0.00000000e+00j]]]\n",
      "[]\n"
     ]
    }
   ],
   "source": [
    "k = 0\n",
    "vb = 7\n",
    "cb = 8\n",
    "print(dipoles.r_dipole(k,vb,cb,0))\n",
    "print(dipoles.r_dipole(k,cb,vb,0))"
   ]
  },
  {
   "cell_type": "markdown",
   "metadata": {},
   "source": [
    "we observe that inverting the order of the bands changes sign to the imaginary part of the matrix\n",
    "element, as expected."
   ]
  },
  {
   "cell_type": "markdown",
   "metadata": {
    "tags": []
   },
   "source": [
    "## Analysis of the YamboDftParser class"
   ]
  },
  {
   "cell_type": "markdown",
   "metadata": {},
   "source": [
    "This database collects information about the lattice and electronic properties\n",
    "of the system.\n",
    "\n",
    "The information codified in this database are usually equivalent to the ones in the QuantumESPRESSO\n",
    "data-file-schema.xml and the YamboDftParser shares many common functions with the PwParser.\n",
    "\n",
    "As a first test we consider a Pw nscf computation for GaAs and build the SAVE folder with Yambo"
   ]
  },
  {
   "cell_type": "code",
   "execution_count": 66,
   "metadata": {},
   "outputs": [],
   "source": [
    "source_dir = 'Pw_bands/gaas_nscf_so.save'\n",
    "save_dir = Tools.make_p2y(source_dir,overwrite_if_found=False)"
   ]
  },
  {
   "cell_type": "code",
   "execution_count": 67,
   "metadata": {},
   "outputs": [
    {
     "name": "stdout",
     "output_type": "stream",
     "text": [
      "SAVE folder already present in YamboParser_test/DipolesParser. No operations performed.\n"
     ]
    }
   ],
   "source": [
    "run_dir = 'YamboParser_test/DipolesParser'\n",
    "Tools.init_yambo_run_dir(save_dir,run_dir,overwrite_if_found=False,make_link=True)"
   ]
  },
  {
   "cell_type": "markdown",
   "metadata": {},
   "source": [
    "We also make a fixsymm to study the content of the ns.db1 database after the fixsym procedure"
   ]
  },
  {
   "cell_type": "code",
   "execution_count": 68,
   "metadata": {},
   "outputs": [
    {
     "name": "stdout",
     "output_type": "stream",
     "text": [
      "Perform the fixSymm in the folder YamboParser_test/DipolesParser\n",
      "Initialize a Yambo calculator with scheduler direct\n"
     ]
    }
   ],
   "source": [
    "Tools.make_FixSymm(run_dir)"
   ]
  },
  {
   "cell_type": "markdown",
   "metadata": {},
   "source": [
    "We parse the ns.db1 databases in the SAVE folders, with and without fixsym procedure. \n",
    "\n",
    "We also parse the Pw data-file-schema.xml to compare the output of the two"
   ]
  },
  {
   "cell_type": "code",
   "execution_count": 69,
   "metadata": {},
   "outputs": [],
   "source": [
    "xml = os.path.join(source_dir,'data-file-schema.xml')\n",
    "nsdb = os.path.join(run_dir,'SAVE','ns.db1')\n",
    "nsdb_fixsymm = os.path.join(run_dir,'FixSymm','SAVE','ns.db1')"
   ]
  },
  {
   "cell_type": "code",
   "execution_count": 70,
   "metadata": {},
   "outputs": [
    {
     "name": "stdout",
     "output_type": "stream",
     "text": [
      "Parse file : Pw_bands/gaas_nscf_so.save/data-file-schema.xml\n",
      "Parse file : YamboParser_test/DipolesParser/SAVE/ns.db1\n",
      "Parse file : YamboParser_test/DipolesParser/FixSymm/SAVE/ns.db1\n"
     ]
    }
   ],
   "source": [
    "pw_data = P.PwParser(xml)\n",
    "yambo_data = P.YamboDftParser(nsdb)\n",
    "yambo_data_fixsym = P.YamboDftParser(nsdb_fixsymm)"
   ]
  },
  {
   "cell_type": "markdown",
   "metadata": {},
   "source": [
    "We show some of the attributes of the classes. Many attributes are equal to the ones of the `PwParser` and\n",
    "are defined in the same way"
   ]
  },
  {
   "cell_type": "code",
   "execution_count": 71,
   "metadata": {},
   "outputs": [
    {
     "name": "stdout",
     "output_type": "stream",
     "text": [
      "5.3385\n",
      "[[-5.3385  0.      5.3385]\n",
      " [ 0.      5.3385  5.3385]\n",
      " [-5.3385  5.3385  0.    ]]\n",
      "12\n",
      "8\n",
      "1\n",
      "48\n"
     ]
    },
    {
     "data": {
      "text/plain": [
       "array([[-1.,  0.,  0.],\n",
       "       [ 0., -1.,  0.],\n",
       "       [ 0.,  0.,  1.]])"
      ]
     },
     "execution_count": 71,
     "metadata": {},
     "output_type": "execute_result"
    }
   ],
   "source": [
    "print(yambo_data.alat)\n",
    "print(yambo_data.lattice)\n",
    "print(yambo_data.nbands)\n",
    "print(yambo_data.nbands_full)\n",
    "print(yambo_data.spin_degen)\n",
    "print(len(yambo_data.syms))\n",
    "yambo_data.syms[1]"
   ]
  },
  {
   "cell_type": "markdown",
   "metadata": {},
   "source": [
    "Note however that the symmetries are stored in a different order with respect to the `syms` attribute of `PwParser`.\n",
    "\n",
    "There are some methods to deal with the lattice properties"
   ]
  },
  {
   "cell_type": "code",
   "execution_count": 72,
   "metadata": {},
   "outputs": [
    {
     "data": {
      "text/plain": [
       "array([[-1.,  0.,  1.],\n",
       "       [ 0.,  1.,  1.],\n",
       "       [-1.,  1.,  0.]])"
      ]
     },
     "execution_count": 72,
     "metadata": {},
     "output_type": "execute_result"
    }
   ],
   "source": [
    "yambo_data.get_lattice(rescale=True)"
   ]
  },
  {
   "cell_type": "code",
   "execution_count": 73,
   "metadata": {},
   "outputs": [
    {
     "data": {
      "text/plain": [
       "array([[-0.5, -0.5,  0.5],\n",
       "       [ 0.5,  0.5,  0.5],\n",
       "       [-0.5,  0.5, -0.5]])"
      ]
     },
     "execution_count": 73,
     "metadata": {},
     "output_type": "execute_result"
    }
   ],
   "source": [
    "yambo_data.get_reciprocal_lattice(rescale=True)"
   ]
  },
  {
   "cell_type": "code",
   "execution_count": 74,
   "metadata": {},
   "outputs": [
    {
     "data": {
      "text/plain": [
       "304.29003968325"
      ]
     },
     "execution_count": 74,
     "metadata": {},
     "output_type": "execute_result"
    }
   ],
   "source": [
    "yambo_data.eval_lattice_volume()"
   ]
  },
  {
   "cell_type": "markdown",
   "metadata": {},
   "source": [
    "We show the number of kpoints (actually in the IBZ since they are reduced by the symmetries of the lattice). If the fixsymm is performed\n",
    "only the simmetries preserved by the external field are mantained"
   ]
  },
  {
   "cell_type": "code",
   "execution_count": 75,
   "metadata": {},
   "outputs": [
    {
     "name": "stdout",
     "output_type": "stream",
     "text": [
      "16\n",
      "16\n",
      "75\n"
     ]
    }
   ],
   "source": [
    "print(pw_data.nkpoints)\n",
    "print(yambo_data.nkpoints)\n",
    "print(yambo_data_fixsym.nkpoints)"
   ]
  },
  {
   "cell_type": "code",
   "execution_count": 76,
   "metadata": {},
   "outputs": [
    {
     "name": "stdout",
     "output_type": "stream",
     "text": [
      "48\n",
      "4\n"
     ]
    }
   ],
   "source": [
    "print(len(yambo_data.syms))\n",
    "print(len(yambo_data_fixsym.syms))"
   ]
  },
  {
   "cell_type": "markdown",
   "metadata": {},
   "source": [
    "we see that the symmetries in the last case are less and the number points in the IBZ is higher."
   ]
  },
  {
   "cell_type": "markdown",
   "metadata": {},
   "source": [
    "We compare the values of members and methods in the various cases"
   ]
  },
  {
   "cell_type": "code",
   "execution_count": 77,
   "metadata": {},
   "outputs": [
    {
     "data": {
      "text/plain": [
       "array([[ 0.00000000e+00,  0.00000000e+00,  0.00000000e+00],\n",
       "       [-1.66666667e-01,  1.66666667e-01, -1.66666667e-01],\n",
       "       [-3.33333333e-01,  3.33333333e-01, -3.33333333e-01],\n",
       "       [ 5.00000000e-01, -5.00000000e-01,  5.00000000e-01],\n",
       "       [ 0.00000000e+00,  3.33333333e-01,  0.00000000e+00],\n",
       "       [-1.66666667e-01,  5.00000000e-01, -1.66666667e-01],\n",
       "       [ 6.66666667e-01, -3.33333333e-01,  6.66666667e-01],\n",
       "       [ 5.00000000e-01, -1.66666667e-01,  5.00000000e-01],\n",
       "       [ 3.33333333e-01,  2.77555756e-17,  3.33333333e-01],\n",
       "       [ 0.00000000e+00,  6.66666667e-01,  0.00000000e+00],\n",
       "       [ 8.33333333e-01, -1.66666667e-01,  8.33333333e-01],\n",
       "       [ 6.66666667e-01, -5.55111512e-17,  6.66666667e-01],\n",
       "       [ 0.00000000e+00, -1.00000000e+00,  0.00000000e+00],\n",
       "       [ 6.66666667e-01, -3.33333333e-01,  1.00000000e+00],\n",
       "       [ 5.00000000e-01, -1.66666667e-01,  8.33333333e-01],\n",
       "       [-3.33333333e-01, -1.00000000e+00,  0.00000000e+00]])"
      ]
     },
     "execution_count": 77,
     "metadata": {},
     "output_type": "execute_result"
    }
   ],
   "source": [
    "pw_data.kpoints"
   ]
  },
  {
   "cell_type": "code",
   "execution_count": 78,
   "metadata": {},
   "outputs": [
    {
     "data": {
      "text/plain": [
       "array([[ 0.00000000e+00,  0.00000000e+00,  0.00000000e+00],\n",
       "       [-8.33333333e-02,  8.33333333e-02, -8.33333333e-02],\n",
       "       [-1.66666667e-01,  1.66666667e-01, -1.66666667e-01],\n",
       "       [ 2.50000000e-01, -2.50000000e-01,  2.50000000e-01],\n",
       "       [ 0.00000000e+00,  1.66666667e-01,  0.00000000e+00],\n",
       "       [-8.33333333e-02,  2.50000000e-01, -8.33333333e-02],\n",
       "       [ 3.33333333e-01, -1.66666667e-01,  3.33333333e-01],\n",
       "       [ 2.50000000e-01, -8.33333333e-02,  2.50000000e-01],\n",
       "       [ 1.66666667e-01,  1.38777878e-17,  1.66666667e-01],\n",
       "       [ 0.00000000e+00,  3.33333333e-01,  0.00000000e+00],\n",
       "       [ 4.16666667e-01, -8.33333333e-02,  4.16666667e-01],\n",
       "       [ 3.33333333e-01, -2.77555756e-17,  3.33333333e-01],\n",
       "       [ 0.00000000e+00, -5.00000000e-01,  0.00000000e+00],\n",
       "       [ 3.33333333e-01, -1.66666667e-01,  5.00000000e-01],\n",
       "       [ 2.50000000e-01, -8.33333333e-02,  4.16666667e-01],\n",
       "       [-1.66666667e-01, -5.00000000e-01,  0.00000000e+00]])"
      ]
     },
     "execution_count": 78,
     "metadata": {},
     "output_type": "execute_result"
    }
   ],
   "source": [
    "yambo_data.kpoints"
   ]
  },
  {
   "cell_type": "code",
   "execution_count": 79,
   "metadata": {},
   "outputs": [
    {
     "data": {
      "text/plain": [
       "array([[ 0.00000000e+00,  0.00000000e+00,  0.00000000e+00],\n",
       "       [-8.33333333e-02,  8.33333333e-02, -8.33333333e-02],\n",
       "       [-1.66666667e-01,  1.66666667e-01, -1.66666667e-01],\n",
       "       [ 2.50000000e-01, -2.50000000e-01,  2.50000000e-01],\n",
       "       [ 0.00000000e+00,  1.66666667e-01,  0.00000000e+00],\n",
       "       [-8.33333333e-02,  2.50000000e-01, -8.33333333e-02],\n",
       "       [ 3.33333333e-01, -1.66666667e-01,  3.33333333e-01],\n",
       "       [ 2.50000000e-01, -8.33333333e-02,  2.50000000e-01],\n",
       "       [ 1.66666667e-01,  1.38777878e-17,  1.66666667e-01],\n",
       "       [ 0.00000000e+00,  3.33333333e-01,  0.00000000e+00],\n",
       "       [ 4.16666667e-01, -8.33333333e-02,  4.16666667e-01],\n",
       "       [ 3.33333333e-01, -2.77555756e-17,  3.33333333e-01],\n",
       "       [ 0.00000000e+00, -5.00000000e-01,  0.00000000e+00],\n",
       "       [ 3.33333333e-01, -1.66666667e-01,  5.00000000e-01],\n",
       "       [ 2.50000000e-01, -8.33333333e-02,  4.16666667e-01],\n",
       "       [-1.66666667e-01, -5.00000000e-01,  0.00000000e+00],\n",
       "       [ 2.50000000e-01, -8.33333333e-02, -8.33333333e-02],\n",
       "       [-2.50000000e-01, -8.33333333e-02,  8.33333333e-02],\n",
       "       [ 8.33333333e-02, -2.50000000e-01,  8.33333333e-02],\n",
       "       [-8.33333333e-02,  2.50000000e-01,  8.33333333e-02],\n",
       "       [-2.50000000e-01,  8.33333333e-02,  8.33333333e-02],\n",
       "       [ 2.50000000e-01,  8.33333333e-02, -8.33333333e-02],\n",
       "       [ 1.66666667e-01, -1.66666667e-01, -1.66666667e-01],\n",
       "       [-3.33333333e-01,  1.66666667e-01,  3.33333333e-01],\n",
       "       [-1.66666667e-01,  3.33333333e-01,  3.33333333e-01]])"
      ]
     },
     "execution_count": 79,
     "metadata": {},
     "output_type": "execute_result"
    }
   ],
   "source": [
    "yambo_data_fixsym.kpoints[0:25]"
   ]
  },
  {
   "cell_type": "code",
   "execution_count": 80,
   "metadata": {},
   "outputs": [
    {
     "name": "stdout",
     "output_type": "stream",
     "text": [
      "Apply a scissor of 1.0019927808361082 eV\n"
     ]
    },
    {
     "data": {
      "text/plain": [
       "array([-1.28100839e+01, -1.28100839e+01, -3.56650776e-01, -3.56650776e-01,\n",
       "       -3.20579119e-11, -3.20579119e-11, -2.99191782e-11,  0.00000000e+00,\n",
       "        1.42000000e+00,  1.42000000e+00,  4.56612389e+00,  4.56612390e+00])"
      ]
     },
     "execution_count": 80,
     "metadata": {},
     "output_type": "execute_result"
    }
   ],
   "source": [
    "pw_data.get_evals(set_gap=1.42)[0]"
   ]
  },
  {
   "cell_type": "code",
   "execution_count": 81,
   "metadata": {},
   "outputs": [
    {
     "name": "stdout",
     "output_type": "stream",
     "text": [
      "Apply a scissor of 1.0019927808361082 eV\n"
     ]
    },
    {
     "data": {
      "text/plain": [
       "array([-1.28100839e+01, -1.28100839e+01, -3.56650776e-01, -3.56650776e-01,\n",
       "       -3.20579119e-11, -3.20579119e-11, -2.99191782e-11,  0.00000000e+00,\n",
       "        1.42000000e+00,  1.42000000e+00,  4.56612389e+00,  4.56612390e+00])"
      ]
     },
     "execution_count": 81,
     "metadata": {},
     "output_type": "execute_result"
    }
   ],
   "source": [
    "yambo_data.get_evals(set_gap=1.42)[0]"
   ]
  },
  {
   "cell_type": "code",
   "execution_count": 82,
   "metadata": {},
   "outputs": [
    {
     "name": "stdout",
     "output_type": "stream",
     "text": [
      "Direct gap system\n",
      "=================\n",
      "Gap : 0.4180072191638917 eV\n"
     ]
    },
    {
     "data": {
      "text/plain": [
       "{'gap': 0.4180072191638917,\n",
       " 'direct_gap': 0.4180072191638917,\n",
       " 'position_cbm': 0,\n",
       " 'positon_vbm': 0}"
      ]
     },
     "execution_count": 82,
     "metadata": {},
     "output_type": "execute_result"
    }
   ],
   "source": [
    "pw_data.get_gap()"
   ]
  },
  {
   "cell_type": "code",
   "execution_count": 83,
   "metadata": {},
   "outputs": [
    {
     "name": "stdout",
     "output_type": "stream",
     "text": [
      "Direct gap system\n",
      "=================\n",
      "Gap : 0.4180072191638917 eV\n"
     ]
    },
    {
     "data": {
      "text/plain": [
       "{'gap': 0.4180072191638917,\n",
       " 'direct_gap': 0.4180072191638917,\n",
       " 'position_cbm': 0,\n",
       " 'positon_vbm': 0}"
      ]
     },
     "execution_count": 83,
     "metadata": {},
     "output_type": "execute_result"
    }
   ],
   "source": [
    "yambo_data.get_gap()"
   ]
  },
  {
   "cell_type": "code",
   "execution_count": 84,
   "metadata": {},
   "outputs": [
    {
     "data": {
      "text/plain": [
       "array([0.41800722, 0.41800722, 0.41800722, 0.41800722])"
      ]
     },
     "execution_count": 84,
     "metadata": {},
     "output_type": "execute_result"
    }
   ],
   "source": [
    "pw_data.get_transitions(initial=[6,7],final=[8,9])[0]"
   ]
  },
  {
   "cell_type": "code",
   "execution_count": 85,
   "metadata": {},
   "outputs": [
    {
     "data": {
      "text/plain": [
       "array([0.41800722, 0.41800722, 0.41800722, 0.41800722])"
      ]
     },
     "execution_count": 85,
     "metadata": {},
     "output_type": "execute_result"
    }
   ],
   "source": [
    "pw_data.get_transitions(initial=[6,7],final=[8,9])[0]"
   ]
  },
  {
   "cell_type": "markdown",
   "metadata": {},
   "source": [
    "We perform the comparison also for a ``bands`` computation in which the kpoints are\n",
    "defined in QuantumESPRESSO using the `tpiba_b` option that correspond to cartesian\n",
    "coordinates in units of $2\\pi/a_{lat}$."
   ]
  },
  {
   "cell_type": "code",
   "execution_count": 86,
   "metadata": {},
   "outputs": [],
   "source": [
    "source_dir = 'Pw_bands/gaas_bands.save'\n",
    "run_dir = 'YamboParser_test/DftParser_bands'"
   ]
  },
  {
   "cell_type": "markdown",
   "metadata": {},
   "source": [
    "We create the Yambo SAVE using the function of the Utilities module"
   ]
  },
  {
   "cell_type": "code",
   "execution_count": 87,
   "metadata": {},
   "outputs": [
    {
     "name": "stdout",
     "output_type": "stream",
     "text": [
      "SAVE folder already present in YamboParser_test/DftParser_bands. No operations performed.\n"
     ]
    }
   ],
   "source": [
    "Tools.build_SAVE(source_dir=source_dir,run_dir=run_dir)"
   ]
  },
  {
   "cell_type": "code",
   "execution_count": 88,
   "metadata": {},
   "outputs": [],
   "source": [
    "xml = os.path.join(source_dir,'data-file-schema.xml')\n",
    "nsdb = os.path.join(run_dir,'SAVE','ns.db1')"
   ]
  },
  {
   "cell_type": "code",
   "execution_count": 89,
   "metadata": {},
   "outputs": [
    {
     "name": "stdout",
     "output_type": "stream",
     "text": [
      "Parse file : Pw_bands/gaas_bands.save/data-file-schema.xml\n",
      "Parse file : YamboParser_test/DftParser_bands/SAVE/ns.db1\n"
     ]
    }
   ],
   "source": [
    "pw_data = P.PwParser(xml)\n",
    "yambo_data = P.YamboDftParser(nsdb)"
   ]
  },
  {
   "cell_type": "code",
   "execution_count": 90,
   "metadata": {},
   "outputs": [
    {
     "data": {
      "text/plain": [
       "array([[0.5       , 0.5       , 0.5       ],\n",
       "       [0.48333333, 0.48333333, 0.48333333],\n",
       "       [0.46666667, 0.46666667, 0.46666667],\n",
       "       [0.45      , 0.45      , 0.45      ],\n",
       "       [0.43333333, 0.43333333, 0.43333333],\n",
       "       [0.41666667, 0.41666667, 0.41666667],\n",
       "       [0.4       , 0.4       , 0.4       ],\n",
       "       [0.38333333, 0.38333333, 0.38333333],\n",
       "       [0.36666667, 0.36666667, 0.36666667],\n",
       "       [0.35      , 0.35      , 0.35      ]])"
      ]
     },
     "execution_count": 90,
     "metadata": {},
     "output_type": "execute_result"
    }
   ],
   "source": [
    "pw_data.kpoints[0:10]"
   ]
  },
  {
   "cell_type": "code",
   "execution_count": 91,
   "metadata": {},
   "outputs": [
    {
     "data": {
      "text/plain": [
       "array([[0.5       , 0.5       , 0.5       ],\n",
       "       [0.48333333, 0.48333333, 0.48333333],\n",
       "       [0.46666667, 0.46666667, 0.46666667],\n",
       "       [0.45      , 0.45      , 0.45      ],\n",
       "       [0.43333333, 0.43333333, 0.43333333],\n",
       "       [0.41666667, 0.41666667, 0.41666667],\n",
       "       [0.4       , 0.4       , 0.4       ],\n",
       "       [0.38333333, 0.38333333, 0.38333333],\n",
       "       [0.36666667, 0.36666667, 0.36666667],\n",
       "       [0.35      , 0.35      , 0.35      ]])"
      ]
     },
     "execution_count": 91,
     "metadata": {},
     "output_type": "execute_result"
    }
   ],
   "source": [
    "yambo_data.kpoints[:10]"
   ]
  },
  {
   "cell_type": "markdown",
   "metadata": {},
   "source": [
    "We observe that the kpoints stored in the two parser are identical"
   ]
  },
  {
   "cell_type": "markdown",
   "metadata": {},
   "source": [
    "We perform a further test with random $k$ points, specified in QuantumESPRESSO\n",
    "with the `tpiba` option. We compare the xml and ns.db1 database generated with the\n",
    "usual procedure"
   ]
  },
  {
   "cell_type": "code",
   "execution_count": 92,
   "metadata": {},
   "outputs": [
    {
     "name": "stdout",
     "output_type": "stream",
     "text": [
      "Parse file : YamboParser_test/random_grids/data-file-schema.xml\n",
      "Parse file : YamboParser_test/random_grids/ns.db1\n"
     ]
    }
   ],
   "source": [
    "pw_data = P.PwParser('YamboParser_test/random_grids/data-file-schema.xml')\n",
    "yambo_data = P.YamboDftParser('YamboParser_test/random_grids/ns.db1')"
   ]
  },
  {
   "cell_type": "code",
   "execution_count": 93,
   "metadata": {},
   "outputs": [
    {
     "data": {
      "text/plain": [
       "array([[ 0.000000e+00,  0.000000e+00,  0.000000e+00],\n",
       "       [-8.464520e-03,  1.853640e-03, -7.024630e-03],\n",
       "       [ 9.818610e-03,  1.500391e-02,  1.478666e-02],\n",
       "       [-5.753930e-03,  3.050000e-06, -1.735204e-02],\n",
       "       [ 1.502407e-02,  8.102160e-03,  5.387760e-03],\n",
       "       [ 9.094310e-03,  3.194920e-03, -6.427010e-03],\n",
       "       [-8.042640e-03,  9.642650e-03, -1.917115e-02],\n",
       "       [ 7.458350e-03, -1.704125e-02, -1.992032e-02],\n",
       "       [ 1.077130e-02, -1.945781e-02, -1.781570e-03],\n",
       "       [ 1.246368e-02,  1.388959e-02,  1.070112e-02]])"
      ]
     },
     "execution_count": 93,
     "metadata": {},
     "output_type": "execute_result"
    }
   ],
   "source": [
    "pw_data.kpoints[0:10]"
   ]
  },
  {
   "cell_type": "code",
   "execution_count": 94,
   "metadata": {},
   "outputs": [
    {
     "data": {
      "text/plain": [
       "array([[ 0.000000e+00,  0.000000e+00,  0.000000e+00],\n",
       "       [-8.464520e-03,  1.853640e-03, -7.024630e-03],\n",
       "       [ 9.818610e-03,  1.500391e-02,  1.478666e-02],\n",
       "       [-5.753930e-03,  3.050000e-06, -1.735204e-02],\n",
       "       [ 1.502407e-02,  8.102160e-03,  5.387760e-03],\n",
       "       [ 9.094310e-03,  3.194920e-03, -6.427010e-03],\n",
       "       [-8.042640e-03,  9.642650e-03, -1.917115e-02],\n",
       "       [ 7.458350e-03, -1.704125e-02, -1.992032e-02],\n",
       "       [ 1.077130e-02, -1.945781e-02, -1.781570e-03],\n",
       "       [ 1.246368e-02,  1.388959e-02,  1.070112e-02]])"
      ]
     },
     "execution_count": 94,
     "metadata": {},
     "output_type": "execute_result"
    }
   ],
   "source": [
    "yambo_data.kpoints[0:10]"
   ]
  },
  {
   "cell_type": "markdown",
   "metadata": {},
   "source": [
    "Again the $k$ points are the same."
   ]
  },
  {
   "cell_type": "markdown",
   "metadata": {
    "tags": []
   },
   "source": [
    "## Analysis of the YamboRTCarriersParser class"
   ]
  },
  {
   "cell_type": "markdown",
   "metadata": {},
   "source": [
    "This database collects information about the time, energy and $k$-points distribution of the \n",
    "real-time carriers."
   ]
  },
  {
   "cell_type": "code",
   "execution_count": 59,
   "metadata": {},
   "outputs": [],
   "source": [
    "ndb = 'YamboParser_test/rt_results/ndb.RT_carriers'"
   ]
  },
  {
   "cell_type": "code",
   "execution_count": 60,
   "metadata": {},
   "outputs": [
    {
     "name": "stdout",
     "output_type": "stream",
     "text": [
      "Parse file : YamboParser_test/rt_results/ndb.RT_carriers\n"
     ]
    }
   ],
   "source": [
    "data = P.YamboRTCarriersParser(ndb)"
   ]
  },
  {
   "cell_type": "code",
   "execution_count": 61,
   "metadata": {},
   "outputs": [
    {
     "name": "stdout",
     "output_type": "stream",
     "text": [
      "YamboRTCarriersParser variables structure\n",
      "Bands used and number of k-points [ 49  54 222]\n",
      "E_bare shape (1332,)\n",
      "f_bare shape (1332,)\n",
      "delta_E shape (16, 1332)\n",
      "delta_f (16, 1332)\n"
     ]
    }
   ],
   "source": [
    "data.get_info()"
   ]
  },
  {
   "cell_type": "code",
   "execution_count": 62,
   "metadata": {},
   "outputs": [],
   "source": [
    "d = data.build_f_bare_dos(eta=0.05,dE=0.01)"
   ]
  },
  {
   "cell_type": "code",
   "execution_count": 63,
   "metadata": {},
   "outputs": [
    {
     "data": {
      "text/plain": [
       "222"
      ]
     },
     "execution_count": 63,
     "metadata": {},
     "output_type": "execute_result"
    }
   ],
   "source": [
    "len(d.dos)"
   ]
  },
  {
   "cell_type": "code",
   "execution_count": 64,
   "metadata": {},
   "outputs": [
    {
     "data": {
      "image/png": "[encoded data removed]",
      "text/plain": [
       "<Figure size 640x480 with 1 Axes>"
      ]
     },
     "metadata": {},
     "output_type": "display_data"
    }
   ],
   "source": [
    "d.plot(plt,legend=False)"
   ]
  },
  {
   "cell_type": "code",
   "execution_count": 65,
   "metadata": {},
   "outputs": [],
   "source": [
    "# in crystal coordinates\n",
    "Gamma = np.array([0.,0.,0.])\n",
    "K = np.array([1/3.,1/3.,0])"
   ]
  },
  {
   "cell_type": "code",
   "execution_count": 66,
   "metadata": {},
   "outputs": [
    {
     "data": {
      "text/plain": [
       "array([0.        , 0.        , 0.33333337], dtype=float32)"
      ]
     },
     "execution_count": 66,
     "metadata": {},
     "output_type": "execute_result"
    }
   ],
   "source": [
    "data.kpt[:,1]"
   ]
  },
  {
   "cell_type": "code",
   "execution_count": 67,
   "metadata": {},
   "outputs": [],
   "source": [
    "from mppi.Parsers.YamboRTCarriersParser import distance_point_to_segment"
   ]
  },
  {
   "cell_type": "code",
   "execution_count": 97,
   "metadata": {},
   "outputs": [
    {
     "name": "stdout",
     "output_type": "stream",
     "text": [
      "[0.        0.3333333 0.       ]\n"
     ]
    },
    {
     "data": {
      "text/plain": [
       "(0.23570224634656634, 0.23570224634656628)"
      ]
     },
     "execution_count": 97,
     "metadata": {},
     "output_type": "execute_result"
    }
   ],
   "source": [
    "ind = 8\n",
    "print(data.kpt[:,ind])\n",
    "distance_point_to_segment(data.kpt[:,ind],Gamma,K)"
   ]
  },
  {
   "cell_type": "code",
   "execution_count": 93,
   "metadata": {},
   "outputs": [
    {
     "data": {
      "text/plain": [
       "0.17677662458595875"
      ]
     },
     "execution_count": 93,
     "metadata": {},
     "output_type": "execute_result"
    }
   ],
   "source": [
    "np.sin(np.pi/4)*0.2499999"
   ]
  },
  {
   "cell_type": "code",
   "execution_count": 94,
   "metadata": {},
   "outputs": [
    {
     "data": {
      "text/plain": [
       "0.3773073749564935"
      ]
     },
     "execution_count": 94,
     "metadata": {},
     "output_type": "execute_result"
    }
   ],
   "source": [
    "np.sqrt(0.1767766**2+0.333333**2)"
   ]
  },
  {
   "cell_type": "markdown",
   "metadata": {},
   "source": [
    "faccio un binning sulla lunghezza del path e associo ciascun punto k a un bin"
   ]
  },
  {
   "cell_type": "code",
   "execution_count": 96,
   "metadata": {},
   "outputs": [
    {
     "data": {
      "text/plain": [
       "0.4714045207910317"
      ]
     },
     "execution_count": 96,
     "metadata": {},
     "output_type": "execute_result"
    }
   ],
   "source": [
    "path_lenght = np.linalg.norm(K-Gamma)\n",
    "path_lenght"
   ]
  },
  {
   "cell_type": "code",
   "execution_count": 140,
   "metadata": {},
   "outputs": [
    {
     "data": {
      "text/plain": [
       "(0.023570226039551584, 0.4714045207910317)"
      ]
     },
     "execution_count": 140,
     "metadata": {},
     "output_type": "execute_result"
    }
   ],
   "source": [
    "numbin = 20 # must run from 0 to numbin -1\n",
    "Delta = path_lenght/numbin\n",
    "Delta,numbin*Delta"
   ]
  },
  {
   "cell_type": "code",
   "execution_count": 141,
   "metadata": {},
   "outputs": [
    {
     "data": {
      "text/plain": [
       "0"
      ]
     },
     "execution_count": 141,
     "metadata": {},
     "output_type": "execute_result"
    }
   ],
   "source": [
    "x = 0.005\n",
    "bin = int(x/Delta)\n",
    "bin"
   ]
  },
  {
   "cell_type": "code",
   "execution_count": 142,
   "metadata": {},
   "outputs": [],
   "source": [
    "k_path = [[] for ind in range(numbin)]\n",
    "for ind in range(222):\n",
    "    calc = distance_point_to_segment(data.kpt[:,ind],Gamma,K)\n",
    "    bin = int(calc[1]/Delta)\n",
    "    if bin >= numbin : bin = numbin-1\n",
    "    #print(ind,bin,data.kpt[:,ind])\n",
    "    k_path[bin].append(ind)  "
   ]
  },
  {
   "cell_type": "code",
   "execution_count": 143,
   "metadata": {},
   "outputs": [
    {
     "data": {
      "text/plain": [
       "[[0,\n",
       "  1,\n",
       "  12,\n",
       "  13,\n",
       "  50,\n",
       "  52,\n",
       "  54,\n",
       "  55,\n",
       "  56,\n",
       "  58,\n",
       "  59,\n",
       "  60,\n",
       "  62,\n",
       "  64,\n",
       "  66,\n",
       "  68,\n",
       "  70,\n",
       "  72,\n",
       "  74,\n",
       "  76,\n",
       "  77,\n",
       "  78,\n",
       "  80,\n",
       "  82,\n",
       "  84,\n",
       "  86,\n",
       "  88,\n",
       "  89,\n",
       "  90,\n",
       "  92,\n",
       "  94,\n",
       "  95,\n",
       "  96,\n",
       "  97,\n",
       "  100,\n",
       "  101,\n",
       "  102,\n",
       "  106,\n",
       "  107,\n",
       "  108,\n",
       "  111,\n",
       "  112,\n",
       "  113,\n",
       "  114,\n",
       "  118,\n",
       "  119,\n",
       "  120,\n",
       "  122,\n",
       "  123,\n",
       "  124,\n",
       "  125,\n",
       "  126,\n",
       "  128,\n",
       "  129,\n",
       "  130,\n",
       "  131,\n",
       "  134,\n",
       "  136,\n",
       "  138,\n",
       "  139,\n",
       "  140,\n",
       "  141,\n",
       "  144,\n",
       "  145,\n",
       "  146,\n",
       "  150,\n",
       "  151,\n",
       "  152,\n",
       "  156,\n",
       "  157,\n",
       "  158,\n",
       "  161,\n",
       "  162,\n",
       "  163,\n",
       "  164,\n",
       "  165,\n",
       "  166,\n",
       "  168,\n",
       "  169,\n",
       "  172,\n",
       "  174,\n",
       "  175,\n",
       "  177,\n",
       "  178,\n",
       "  180,\n",
       "  181,\n",
       "  183,\n",
       "  185,\n",
       "  186,\n",
       "  187,\n",
       "  189,\n",
       "  191,\n",
       "  193,\n",
       "  195,\n",
       "  197,\n",
       "  199,\n",
       "  201,\n",
       "  203,\n",
       "  205,\n",
       "  207,\n",
       "  209,\n",
       "  210,\n",
       "  211,\n",
       "  213,\n",
       "  215,\n",
       "  216,\n",
       "  217,\n",
       "  219,\n",
       "  221],\n",
       " [53, 61, 67, 71, 110, 116, 135, 167, 198],\n",
       " [2, 3, 38, 73, 79, 104, 105, 149, 154, 160, 170],\n",
       " [43, 65, 85, 91, 148, 173, 204],\n",
       " [4, 5, 39, 47],\n",
       " [83, 99, 171, 176, 192],\n",
       " [14, 15, 44, 49, 117, 133, 179, 182],\n",
       " [6, 7, 40, 48, 188],\n",
       " [16, 17, 45, 51, 57, 194],\n",
       " [8, 9, 41],\n",
       " [98, 103, 184, 200],\n",
       " [18, 19, 46, 206],\n",
       " [10, 11, 24, 25, 42, 63, 69, 212],\n",
       " [20, 21, 109, 115, 190],\n",
       " [26, 27],\n",
       " [142, 147],\n",
       " [22, 23, 75, 81, 208, 218],\n",
       " [28, 29, 121, 127, 196],\n",
       " [32, 33, 153, 159],\n",
       " [30, 31, 34, 35, 36, 37, 87, 93, 132, 137, 143, 155, 202, 214, 220]]"
      ]
     },
     "execution_count": 143,
     "metadata": {},
     "output_type": "execute_result"
    }
   ],
   "source": [
    "k_path"
   ]
  },
  {
   "cell_type": "code",
   "execution_count": null,
   "metadata": {},
   "outputs": [],
   "source": []
  },
  {
   "cell_type": "code",
   "execution_count": null,
   "metadata": {},
   "outputs": [],
   "source": []
  },
  {
   "cell_type": "code",
   "execution_count": 76,
   "metadata": {
    "jp-MarkdownHeadingCollapsed": true,
    "tags": []
   },
   "outputs": [
    {
     "data": {
      "text/plain": [
       "\u001b[0;31mSignature:\u001b[0m \u001b[0mdistance_point_to_segment\u001b[0m\u001b[0;34m(\u001b[0m\u001b[0mpoint\u001b[0m\u001b[0;34m,\u001b[0m \u001b[0mstart\u001b[0m\u001b[0;34m,\u001b[0m \u001b[0mend\u001b[0m\u001b[0;34m)\u001b[0m\u001b[0;34m\u001b[0m\u001b[0;34m\u001b[0m\u001b[0m\n",
       "\u001b[0;31mDocstring:\u001b[0m\n",
       "Compute the distance between a point and a segment that\n",
       "has the points `start` and `end` as edges.\n",
       "The function checks if the orthogonal projection of the point to\n",
       "the segment line belongs to the segment itself. If not, the distance\n",
       "is computed as the minum value between the distances of the `point`\n",
       "w.r.t. the start and end points of the segment.\n",
       "Note that the function uses vectors analysis so it can be used in both\n",
       "2D and 3D.\n",
       "\n",
       "Args:\n",
       "    point (:py:class:`np.array`) :\n",
       "    start (:py:class:`np.array`) :\n",
       "    end (:py:class:`np.array`) :\n",
       "\n",
       "Returns :\n",
       "    :py:class:`tuple` : the tuple (distance,ascissa_path) with the value of the distance\n",
       "    and the value of the curvilinear ascissa on the line associated to the line element closest\n",
       "    to the `point`\n",
       "\u001b[0;31mFile:\u001b[0m      ~/Applications/MPPI/mppi/Parsers/YamboRTCarriersParser.py\n",
       "\u001b[0;31mType:\u001b[0m      function\n"
      ]
     },
     "metadata": {},
     "output_type": "display_data"
    }
   ],
   "source": [
    "distance_point_to_segment?"
   ]
  },
  {
   "cell_type": "code",
   "execution_count": null,
   "metadata": {},
   "outputs": [],
   "source": []
  },
  {
   "cell_type": "code",
   "execution_count": null,
   "metadata": {},
   "outputs": [],
   "source": []
  },
  {
   "cell_type": "code",
   "execution_count": null,
   "metadata": {},
   "outputs": [],
   "source": []
  },
  {
   "cell_type": "code",
   "execution_count": null,
   "metadata": {},
   "outputs": [],
   "source": []
  },
  {
   "cell_type": "code",
   "execution_count": null,
   "metadata": {},
   "outputs": [],
   "source": []
  },
  {
   "cell_type": "code",
   "execution_count": 34,
   "metadata": {},
   "outputs": [
    {
     "data": {
      "text/plain": [
       "((1332,), (1332,), (3, 222), (3,), (222,))"
      ]
     },
     "execution_count": 34,
     "metadata": {},
     "output_type": "execute_result"
    }
   ],
   "source": [
    "data.E_bare.shape,data.f_bare.shape,data.kpt.shape,data.bands_kpts.shape,data.k_weight.shape"
   ]
  },
  {
   "cell_type": "code",
   "execution_count": 35,
   "metadata": {},
   "outputs": [
    {
     "data": {
      "text/plain": [
       "(16, 1332)"
      ]
     },
     "execution_count": 35,
     "metadata": {},
     "output_type": "execute_result"
    }
   ],
   "source": [
    "data.delta_E.shape"
   ]
  },
  {
   "cell_type": "code",
   "execution_count": 37,
   "metadata": {},
   "outputs": [
    {
     "data": {
      "text/plain": [
       "array([-0.03965539, -0.03965539,  0.        , ..., -0.01500243,\n",
       "        0.06390028,  0.06390028], dtype=float32)"
      ]
     },
     "execution_count": 37,
     "metadata": {},
     "output_type": "execute_result"
    }
   ],
   "source": [
    "E_bare = data.E_bare\n",
    "kpt = data.kpt\n",
    "E_bare"
   ]
  },
  {
   "cell_type": "code",
   "execution_count": 38,
   "metadata": {},
   "outputs": [
    {
     "data": {
      "text/plain": [
       "(3, 222)"
      ]
     },
     "execution_count": 39,
     "metadata": {},
     "output_type": "execute_result"
    }
   ],
   "source": [
    "kpt.shape"
   ]
  },
  {
   "cell_type": "code",
   "execution_count": 41,
   "metadata": {},
   "outputs": [
    {
     "data": {
      "text/plain": [
       "1.0000014156103134"
      ]
     },
     "execution_count": 41,
     "metadata": {},
     "output_type": "execute_result"
    }
   ],
   "source": [
    "sum(data.k_weight)"
   ]
  },
  {
   "cell_type": "markdown",
   "metadata": {},
   "source": [
    "Costruisco un energy range"
   ]
  },
  {
   "cell_type": "code",
   "execution_count": 52,
   "metadata": {},
   "outputs": [],
   "source": [
    "from mppi.Utilities import Constants as Const"
   ]
  },
  {
   "cell_type": "code",
   "execution_count": 61,
   "metadata": {},
   "outputs": [
    {
     "data": {
      "text/plain": [
       "array([-1.0790781, -1.0790781,  0.       , ..., -0.4082369,  1.7388153,\n",
       "        1.7388153], dtype=float32)"
      ]
     },
     "execution_count": 61,
     "metadata": {},
     "output_type": "execute_result"
    }
   ],
   "source": [
    "E_bare = Const.HaToeV*data.E_bare\n",
    "f_bare = data.f_bare\n",
    "kpt = data.kpt\n",
    "E_bare"
   ]
  },
  {
   "cell_type": "code",
   "execution_count": 58,
   "metadata": {},
   "outputs": [
    {
     "data": {
      "text/plain": [
       "(-1.5093999, 2.7021446)"
      ]
     },
     "execution_count": 58,
     "metadata": {},
     "output_type": "execute_result"
    }
   ],
   "source": [
    "Emin,Emax = min(E_bare),max(E_bare)\n",
    "Epoints = 1e2\n",
    "dE = (Emax-Emin)/Epoints\n",
    "Emin,Emax"
   ]
  },
  {
   "cell_type": "code",
   "execution_count": 59,
   "metadata": {},
   "outputs": [
    {
     "data": {
      "text/plain": [
       "2.7021446228027344"
      ]
     },
     "execution_count": 59,
     "metadata": {},
     "output_type": "execute_result"
    }
   ],
   "source": [
    "Emin+dE*Epoints"
   ]
  },
  {
   "cell_type": "code",
   "execution_count": 63,
   "metadata": {},
   "outputs": [
    {
     "data": {
      "text/plain": [
       "(array([-1.0790781, -1.0790781,  0.       ,  0.       ,  2.6944096,\n",
       "         2.6944096], dtype=float32),\n",
       " array([-0.44115305, -0.09736335, -0.09736335,  2.7021446 ,  2.7021446 ,\n",
       "        -0.92218924], dtype=float32))"
      ]
     },
     "execution_count": 63,
     "metadata": {},
     "output_type": "execute_result"
    }
   ],
   "source": [
    "E_bare[0:6],E_bare[7:13]"
   ]
  },
  {
   "cell_type": "code",
   "execution_count": 64,
   "metadata": {},
   "outputs": [
    {
     "data": {
      "text/plain": [
       "(array([1., 1., 1., 1., 0., 0.], dtype=float32),\n",
       " array([1., 1., 1., 0., 0., 1.], dtype=float32))"
      ]
     },
     "execution_count": 64,
     "metadata": {},
     "output_type": "execute_result"
    }
   ],
   "source": [
    "f_bare[0:6],f_bare[7:13]"
   ]
  },
  {
   "cell_type": "code",
   "execution_count": 5,
   "metadata": {},
   "outputs": [],
   "source": [
    "from mppi.Utilities import Dos"
   ]
  },
  {
   "cell_type": "code",
   "execution_count": 9,
   "metadata": {},
   "outputs": [
    {
     "ename": "NameError",
     "evalue": "name 'lorentzian' is not defined",
     "output_type": "error",
     "traceback": [
      "\u001b[0;31m---------------------------------------------------------------------------\u001b[0m",
      "\u001b[0;31mNameError\u001b[0m                                 Traceback (most recent call last)",
      "Cell \u001b[0;32mIn [9], line 1\u001b[0m\n\u001b[0;32m----> 1\u001b[0m dos \u001b[38;5;241m=\u001b[39m Dos(broad_kind\u001b[38;5;241m=\u001b[39m\u001b[43mlorentzian\u001b[49m)\n",
      "\u001b[0;31mNameError\u001b[0m: name 'lorentzian' is not defined"
     ]
    }
   ],
   "source": [
    "dos = Dos(broad_kind=lorentzian)"
   ]
  },
  {
   "cell_type": "code",
   "execution_count": 78,
   "metadata": {},
   "outputs": [],
   "source": [
    "nbands = 6\n",
    "nkp = 10 #222"
   ]
  },
  {
   "cell_type": "code",
   "execution_count": 79,
   "metadata": {},
   "outputs": [
    {
     "name": "stdout",
     "output_type": "stream",
     "text": [
      "0 6\n",
      "6 12\n",
      "12 18\n",
      "18 24\n",
      "24 30\n",
      "30 36\n",
      "36 42\n",
      "42 48\n",
      "48 54\n",
      "54 60\n"
     ]
    }
   ],
   "source": [
    "for kind in range(nkp):\n",
    "    print(kind*nbands,(kind+1)*nbands)\n",
    "    E_bare_k = E_bare[kind*nbands:(kind+1)*nbands]\n",
    "    f_bare_k = f_bare[kind*nbands:(kind+1)*nbands]\n",
    "    dos.append(E_bare_k,weights=f_bare_k,minVal=Emin,maxVal=Emax,\n",
    "               step=dE)"
   ]
  },
  {
   "cell_type": "code",
   "execution_count": 81,
   "metadata": {},
   "outputs": [
    {
     "data": {
      "image/png": "[encoded data removed]",
      "text/plain": [
       "<Figure size 640x480 with 1 Axes>"
      ]
     },
     "metadata": {},
     "output_type": "display_data"
    }
   ],
   "source": [
    "dos.plot(plt)"
   ]
  },
  {
   "cell_type": "code",
   "execution_count": 82,
   "metadata": {},
   "outputs": [
    {
     "data": {
      "text/plain": [
       "(array([-1.50939989, -1.46728445, -1.425169  , -1.38305356, -1.34093811,\n",
       "        -1.29882267, -1.25670722, -1.21459177, -1.17247633, -1.13036088,\n",
       "        -1.08824544, -1.04612999, -1.00401455, -0.9618991 , -0.91978366,\n",
       "        -0.87766821, -0.83555277, -0.79343732, -0.75132188, -0.70920643,\n",
       "        -0.66709099, -0.62497554, -0.5828601 , -0.54074465, -0.49862921,\n",
       "        -0.45651376, -0.41439832, -0.37228287, -0.33016743, -0.28805198,\n",
       "        -0.24593654, -0.20382109, -0.16170565, -0.1195902 , -0.07747476,\n",
       "        -0.03535931,  0.00675613,  0.04887158,  0.09098702,  0.13310247,\n",
       "         0.17521791,  0.21733336,  0.2594488 ,  0.30156425,  0.3436797 ,\n",
       "         0.38579514,  0.42791059,  0.47002603,  0.51214148,  0.55425692,\n",
       "         0.59637237,  0.63848781,  0.68060326,  0.7227187 ,  0.76483415,\n",
       "         0.80694959,  0.84906504,  0.89118048,  0.93329593,  0.97541137,\n",
       "         1.01752682,  1.05964226,  1.10175771,  1.14387315,  1.1859886 ,\n",
       "         1.22810404,  1.27021949,  1.31233493,  1.35445038,  1.39656582,\n",
       "         1.43868127,  1.48079671,  1.52291216,  1.5650276 ,  1.60714305,\n",
       "         1.64925849,  1.69137394,  1.73348938,  1.77560483,  1.81772027,\n",
       "         1.85983572,  1.90195117,  1.94406661,  1.98618206,  2.0282975 ,\n",
       "         2.07041295,  2.11252839,  2.15464384,  2.19675928,  2.23887473,\n",
       "         2.28099017,  2.32310562,  2.36522106,  2.40733651,  2.44945195,\n",
       "         2.4915674 ,  2.53368284,  2.57579829,  2.61791373,  2.66002918]),\n",
       " array([1.83561426e-01, 2.22536260e-01, 2.75967070e-01, 3.52031253e-01,\n",
       "        4.65555789e-01, 6.45587364e-01, 9.54895920e-01, 1.54718491e+00,\n",
       "        2.85928200e+00, 6.22982407e+00, 1.23451223e+01, 8.90652930e+00,\n",
       "        3.94456760e+00, 1.99544359e+00, 1.17944501e+00, 7.80311314e-01,\n",
       "        5.60457159e-01, 4.28893962e-01, 3.45713197e-01, 2.91471064e-01,\n",
       "        2.55942190e-01, 2.33489076e-01, 2.20984519e-01, 2.16833778e-01,\n",
       "        2.20530778e-01, 2.32525708e-01, 2.54342593e-01, 2.89001267e-01,\n",
       "        3.41954081e-01, 4.23074107e-01, 5.51069037e-01, 7.64140249e-01,\n",
       "        1.14879028e+00, 1.92897896e+00, 3.77544278e+00, 8.51678118e+00,\n",
       "        1.25310343e+01, 6.53646354e+00, 2.97636283e+00, 1.59614958e+00,\n",
       "        9.78927093e-01, 6.58938607e-01, 4.73683482e-01, 3.57330374e-01,\n",
       "        2.79609632e-01, 2.25147053e-01, 1.85497053e-01, 1.55719313e-01,\n",
       "        1.32771885e-01, 1.14700283e-01, 1.00202885e-01, 8.83859176e-02,\n",
       "        7.86192394e-02, 7.04482314e-02, 6.35381985e-02, 5.76382760e-02,\n",
       "        5.25573988e-02, 4.81479418e-02, 4.42943551e-02, 4.09051254e-02,\n",
       "        3.79069951e-02, 3.52407434e-02, 3.28580639e-02, 3.07192252e-02,\n",
       "        2.87912978e-02, 2.70467947e-02, 2.54626205e-02, 2.40192499e-02,\n",
       "        2.27000811e-02, 2.14909218e-02, 2.03795785e-02, 1.93555251e-02,\n",
       "        1.84096347e-02, 1.75339602e-02, 1.67215540e-02, 1.59663203e-02,\n",
       "        1.52628908e-02, 1.46065225e-02, 1.39930113e-02, 1.34186196e-02,\n",
       "        1.28800146e-02, 1.23742166e-02, 1.18985545e-02, 1.14506276e-02,\n",
       "        1.10282736e-02, 1.06295398e-02, 1.02526595e-02, 9.89603051e-03,\n",
       "        9.55819711e-03, 9.23783407e-03, 8.93373267e-03, 8.64478852e-03,\n",
       "        8.36999082e-03, 8.10841288e-03, 7.85920379e-03, 7.62158103e-03,\n",
       "        7.39482387e-03, 7.17826757e-03, 6.97129820e-03, 6.77334796e-03]))"
      ]
     },
     "execution_count": 82,
     "metadata": {},
     "output_type": "execute_result"
    }
   ],
   "source": [
    "dos.dos[0]"
   ]
  },
  {
   "cell_type": "code",
   "execution_count": null,
   "metadata": {},
   "outputs": [],
   "source": []
  },
  {
   "cell_type": "code",
   "execution_count": null,
   "metadata": {},
   "outputs": [],
   "source": []
  },
  {
   "cell_type": "code",
   "execution_count": null,
   "metadata": {},
   "outputs": [],
   "source": []
  },
  {
   "cell_type": "code",
   "execution_count": null,
   "metadata": {},
   "outputs": [],
   "source": [
    "E0 = np.array(f.variables['RT_carriers_E_bare'])\n",
    "occ0 = np.array(f.variables['RT_carriers_f_bare'])\n",
    "bk = np.array(f.variables['RT_bands_kpts'])\n",
    "kpt = np.array(f.variables['RT_kpt'])\n",
    "kweigth = np.array(f.variables['RT_k_weight'])"
   ]
  },
  {
   "cell_type": "code",
   "execution_count": null,
   "metadata": {},
   "outputs": [],
   "source": [
    "E0.shape,occ0.shape,bk.shape,kpt.shape,kweigth.shape"
   ]
  },
  {
   "cell_type": "markdown",
   "metadata": {},
   "source": [
    "1332 = 222*6 we have first k point * bands, second k point * bands,......"
   ]
  },
  {
   "cell_type": "code",
   "execution_count": null,
   "metadata": {},
   "outputs": [],
   "source": []
  },
  {
   "cell_type": "code",
   "execution_count": null,
   "metadata": {},
   "outputs": [],
   "source": []
  },
  {
   "cell_type": "code",
   "execution_count": null,
   "metadata": {},
   "outputs": [],
   "source": []
  },
  {
   "cell_type": "code",
   "execution_count": null,
   "metadata": {},
   "outputs": [],
   "source": []
  },
  {
   "cell_type": "code",
   "execution_count": null,
   "metadata": {},
   "outputs": [],
   "source": []
  },
  {
   "cell_type": "code",
   "execution_count": null,
   "metadata": {},
   "outputs": [],
   "source": []
  }
 ],
 "metadata": {
  "kernelspec": {
   "display_name": "Python 3 (ipykernel)",
   "language": "python",
   "name": "python3"
  },
  "language_info": {
   "codemirror_mode": {
    "name": "ipython",
    "version": 3
   },
   "file_extension": ".py",
   "mimetype": "text/x-python",
   "name": "python",
   "nbconvert_exporter": "python",
   "pygments_lexer": "ipython3",
   "version": "3.10.6"
  }
 },
 "nbformat": 4,
 "nbformat_minor": 4
}
