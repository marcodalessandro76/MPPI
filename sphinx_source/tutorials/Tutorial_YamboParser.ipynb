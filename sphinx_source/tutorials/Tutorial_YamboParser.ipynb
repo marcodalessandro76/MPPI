{
 "cells": [
  {
   "cell_type": "code",
   "execution_count": 1,
   "metadata": {},
   "outputs": [],
   "source": [
    "# useful to autoreload the module without restarting the kernel\n",
    "%load_ext autoreload\n",
    "%autoreload 2"
   ]
  },
  {
   "cell_type": "code",
   "execution_count": 4,
   "metadata": {},
   "outputs": [],
   "source": [
    "from mppi import InputFiles as I, Calculators as C, Utilities as U, Parsers as P\n",
    "import matplotlib.pyplot as plt\n",
    "import os"
   ]
  },
  {
   "cell_type": "code",
   "execution_count": 5,
   "metadata": {},
   "outputs": [],
   "source": [
    "omp = 1\n",
    "mpi = 4"
   ]
  },
  {
   "cell_type": "markdown",
   "metadata": {},
   "source": [
    "# Tutorial of the YamboParser class"
   ]
  },
  {
   "cell_type": "markdown",
   "metadata": {},
   "source": [
    "This tutorial describes the usage of the YamboParser class. The parser contains instances \n",
    "of several classes, namely : \n",
    "* the YamboOutputParser that deals with the o- file(s) produced by a yambo computation\n",
    "* the YamboDipolesParser that parse the dipoles database created by Yambo\n",
    "* the YamboDftParser that extract lattice and electronic information (ad the dft level) from the\n",
    "  ns.db1 database written by Yambo in the SAVE folder\n",
    "\n",
    "The class is designed to deal with the output of the run method of YamboCalculator.\n",
    "\n",
    "Here we present a first example by performing a gw calculation:"
   ]
  },
  {
   "cell_type": "code",
   "execution_count": 264,
   "metadata": {},
   "outputs": [
    {
     "name": "stdout",
     "output_type": "stream",
     "text": [
      "Initialize a Yambo calculator with scheduler direct\n"
     ]
    }
   ],
   "source": [
    "code = C.YamboCalculator(omp=omp,mpi=mpi)"
   ]
  },
  {
   "cell_type": "code",
   "execution_count": 265,
   "metadata": {},
   "outputs": [],
   "source": [
    "source_dir = 'QeCalculator_test/bands_8.save'\n",
    "run_dir = 'YamboCalculator_test'"
   ]
  },
  {
   "cell_type": "code",
   "execution_count": 266,
   "metadata": {},
   "outputs": [
    {
     "name": "stdout",
     "output_type": "stream",
     "text": [
      "SAVE folder already present in YamboCalculator_test. No operations performed.\n"
     ]
    }
   ],
   "source": [
    "U.build_SAVE(source_dir,run_dir)"
   ]
  },
  {
   "cell_type": "code",
   "execution_count": 267,
   "metadata": {},
   "outputs": [],
   "source": [
    "inp = I.YamboInput(args='yambo -d -k hartee -g n -p p -V qp',folder=run_dir)\n",
    "inp.set_kRange(1,2)\n",
    "#inp"
   ]
  },
  {
   "cell_type": "code",
   "execution_count": 268,
   "metadata": {},
   "outputs": [
    {
     "name": "stdout",
     "output_type": "stream",
     "text": [
      "Skip the run of qp_test1\n"
     ]
    },
    {
     "data": {
      "text/plain": [
       "{'output': ['YamboCalculator_test/qp_test1/o-qp_test1.qp'],\n",
       " 'dft': 'YamboCalculator_test/SAVE/ns.db1',\n",
       " 'pp': 'YamboCalculator_test/qp_test1/ndb.pp',\n",
       " 'QP': 'YamboCalculator_test/qp_test1/ndb.QP',\n",
       " 'HF_and_locXC': 'YamboCalculator_test/qp_test1/ndb.HF_and_locXC',\n",
       " 'dipoles': 'YamboCalculator_test/qp_test1/ndb.dipoles'}"
      ]
     },
     "execution_count": 268,
     "metadata": {},
     "output_type": "execute_result"
    }
   ],
   "source": [
    "results = code.run(input = inp, run_dir = run_dir, name='qp_test1')\n",
    "results"
   ]
  },
  {
   "cell_type": "markdown",
   "metadata": {},
   "source": [
    "The calculator contain the references to the o- files and database with the output data.\n",
    "The parser extract the data from the files, as follows"
   ]
  },
  {
   "cell_type": "code",
   "execution_count": 269,
   "metadata": {},
   "outputs": [
    {
     "data": {
      "text/plain": [
       "\u001b[0;31mInit signature:\u001b[0m \u001b[0mP\u001b[0m\u001b[0;34m.\u001b[0m\u001b[0mYamboParser\u001b[0m\u001b[0;34m(\u001b[0m\u001b[0mresults\u001b[0m\u001b[0;34m,\u001b[0m \u001b[0mverbose\u001b[0m\u001b[0;34m=\u001b[0m\u001b[0;32mFalse\u001b[0m\u001b[0;34m,\u001b[0m \u001b[0mextendOut\u001b[0m\u001b[0;34m=\u001b[0m\u001b[0;32mTrue\u001b[0m\u001b[0;34m)\u001b[0m\u001b[0;34m\u001b[0m\u001b[0;34m\u001b[0m\u001b[0m\n",
       "\u001b[0;31mDocstring:\u001b[0m     \n",
       "Class that perform the parsing starting from the results :py:class:`dict` built\n",
       "by the :class:`YamboCalculator` class. In the actual implementation of the class the\n",
       "parser is able to deal with the o- files, the dipoles database and the ``ns.db1``\n",
       "database written in the SAVE folder.\n",
       "\n",
       "Attributes:\n",
       "    data : contains the instance of YamboOutputParser that manage the parsing\n",
       "        of the ``o-* files``\n",
       "    dipoles : contains the instance of YamboDipolesParser that manages the parsing\n",
       "        of the ``dipoles`` database\n",
       "    dft : contains the instance of YamboDftParser that manages the parsing\n",
       "        of the ``ns.db1`` database\n",
       "\u001b[0;31mInit docstring:\u001b[0m\n",
       "Initialize the data member of the class.\n",
       "\n",
       "Args:\n",
       "    results (:py:class:`dict`): The dictionary of the results built by the\n",
       "        :class:`YamboCalculator` class\n",
       "    verbose (:py:class:`boolean`) : Determine the amount of information provided on terminal\n",
       "    extendOut (:py:class:`boolean`) : Determine which dictionary is used as reference for the\n",
       "                    names of the variables in the :class:`YamboOutputParser`\n",
       "\u001b[0;31mFile:\u001b[0m           ~/Applications/MPPI/mppi/Parsers/YamboParser.py\n",
       "\u001b[0;31mType:\u001b[0m           type\n",
       "\u001b[0;31mSubclasses:\u001b[0m     \n"
      ]
     },
     "metadata": {},
     "output_type": "display_data"
    }
   ],
   "source": [
    "P.YamboParser?"
   ]
  },
  {
   "cell_type": "markdown",
   "metadata": {},
   "source": [
    "Note that the extendOut option has to chosen in agreement with the one the input, otherwise\n",
    "the parser atribute the name of the variables of the o- files in an erroneous way"
   ]
  },
  {
   "cell_type": "code",
   "execution_count": 270,
   "metadata": {},
   "outputs": [
    {
     "name": "stdout",
     "output_type": "stream",
     "text": [
      "Parse file YamboCalculator_test/qp_test1/o-qp_test1.qp\n",
      "Parse file : YamboCalculator_test/SAVE/ns.db1\n",
      "Parse file : YamboCalculator_test/qp_test1/ndb.dipoles\n",
      "Spin dipoles not found in the ndb.dipoles\n"
     ]
    }
   ],
   "source": [
    "data = P.YamboParser(results,extendOut=False,verbose=True)"
   ]
  },
  {
   "cell_type": "markdown",
   "metadata": {},
   "source": [
    "Some information on the parsed data can be obtained using the get_info method of the class"
   ]
  },
  {
   "cell_type": "code",
   "execution_count": 276,
   "metadata": {},
   "outputs": [
    {
     "name": "stdout",
     "output_type": "stream",
     "text": [
      "YamboOutputParser variables structure\n",
      "suffix qp with dict_keys(['kpoint', 'band', 'e0', 'eme0', 'sce0'])\n",
      " \n",
      "YamboDipolesParser variables structure\n",
      "dip_r shape (32, 4, 4, 3, 2)\n",
      "dip_v shape (32, 4, 4, 3, 2)\n",
      "dip_spin shape (1,)\n",
      " \n",
      "YamboDipolesParser variables structure\n",
      "number of k points 32\n",
      "number of bands 8\n",
      "spin degeneration 1\n",
      "None\n"
     ]
    }
   ],
   "source": [
    "data.get_info()"
   ]
  },
  {
   "cell_type": "markdown",
   "metadata": {},
   "source": [
    "Data are encapsulated in the attributes of the class, for instance"
   ]
  },
  {
   "cell_type": "code",
   "execution_count": 118,
   "metadata": {},
   "outputs": [
    {
     "data": {
      "text/plain": [
       "{'qp': {'kpoint': array([1., 1., 1., 1., 1., 1., 1., 1., 2., 2., 2., 2., 2., 2., 2., 2.]),\n",
       "  'band': array([1., 2., 3., 4., 5., 6., 7., 8., 1., 2., 3., 4., 5., 6., 7., 8.]),\n",
       "  'e0': array([-1.18968461e+01, -3.77496794e-06, -2.75945330e-10,  0.00000000e+00,\n",
       "          2.56515954e+00,  2.56515954e+00,  2.56516155e+00,  3.14665103e+00,\n",
       "         -1.15385411e+01, -2.37583410e+00, -4.45342502e-01, -4.45339614e-01,\n",
       "          2.29450210e+00,  3.20550457e+00,  3.20550649e+00,  5.28482534e+00]),\n",
       "  'eme0': array([-1.56454691,  0.73540742,  0.73540876,  0.73540916,  1.85481677,\n",
       "          1.8548168 ,  1.85481806,  2.39576254, -1.42713715,  0.36903103,\n",
       "          0.65919225,  0.65919348,  1.85364039,  1.96833673,  1.96833782,\n",
       "          2.67297817]),\n",
       "  'sce0': array([ 4.57619158,  2.0238057 ,  2.0238057 ,  2.0238057 , -2.01807766,\n",
       "         -2.01807766, -2.01807766, -1.92695452,  4.60058489,  2.45789744,\n",
       "          2.04175227,  2.04175227, -1.99977404, -2.08206625, -2.08206625,\n",
       "         -1.93298601])}}"
      ]
     },
     "execution_count": 118,
     "metadata": {},
     "output_type": "execute_result"
    }
   ],
   "source": [
    "data.data"
   ]
  },
  {
   "cell_type": "code",
   "execution_count": 119,
   "metadata": {},
   "outputs": [
    {
     "data": {
      "text/plain": [
       "<mppi.Parsers.YamboDftParser.YamboDftParser at 0x7eff52c7be50>"
      ]
     },
     "execution_count": 119,
     "metadata": {},
     "output_type": "execute_result"
    }
   ],
   "source": [
    "data.dft"
   ]
  },
  {
   "cell_type": "code",
   "execution_count": 120,
   "metadata": {},
   "outputs": [
    {
     "data": {
      "text/plain": [
       "<mppi.Parsers.YamboDipolesParser.YamboDipolesParser at 0x7eff52c7b160>"
      ]
     },
     "execution_count": 120,
     "metadata": {},
     "output_type": "execute_result"
    }
   ],
   "source": [
    "data.dipoles"
   ]
  },
  {
   "cell_type": "markdown",
   "metadata": {},
   "source": [
    "In what follows we describe the features of the various classes using dedicated examples"
   ]
  },
  {
   "cell_type": "markdown",
   "metadata": {},
   "source": [
    "## Analysis of the YamboOutputParser class"
   ]
  },
  {
   "cell_type": "markdown",
   "metadata": {},
   "source": [
    "The class is designed to deal with the list of o- files produced by Yambo\n",
    "We present some example:"
   ]
  },
  {
   "cell_type": "code",
   "execution_count": 61,
   "metadata": {},
   "outputs": [],
   "source": [
    "qp_output = ['YamboParser_test/qp_results/o-qp_test1.qp']"
   ]
  },
  {
   "cell_type": "code",
   "execution_count": 62,
   "metadata": {},
   "outputs": [],
   "source": [
    "qp_output_extendOut = ['YamboCalculator_test/qp_test_ExtendOut/o-qp_test_ExtendOut.qp']"
   ]
  },
  {
   "cell_type": "code",
   "execution_count": 63,
   "metadata": {},
   "outputs": [],
   "source": [
    "rt_output = ['YamboParser_test/rt_results/o-NETime_1000-dephase_0.01-freq_1.55-pol_circular.carriers',\n",
    "        'YamboParser_test/rt_results/o-NETime_1000-dephase_0.01-freq_1.55-pol_circular.spin_magnetization',\n",
    "        'YamboParser_test/rt_results/o-NETime_1000-dephase_0.01-freq_1.55-pol_circular.external_field',\n",
    "        'YamboParser_test/rt_results/o-NETime_1000-dephase_0.01-freq_1.55-pol_circular.polarization']"
   ]
  },
  {
   "cell_type": "markdown",
   "metadata": {},
   "source": [
    "When the list of files is passed to the parser the extendOut option used to run the computation has to be provided,\n",
    "otherwise the parser could perform a wrong assignement of the names of the variables. "
   ]
  },
  {
   "cell_type": "code",
   "execution_count": 64,
   "metadata": {},
   "outputs": [
    {
     "data": {
      "text/plain": [
       "\u001b[0;31mInit signature:\u001b[0m \u001b[0mP\u001b[0m\u001b[0;34m.\u001b[0m\u001b[0mYamboOutputParser\u001b[0m\u001b[0;34m(\u001b[0m\u001b[0mfiles\u001b[0m\u001b[0;34m,\u001b[0m \u001b[0mverbose\u001b[0m\u001b[0;34m=\u001b[0m\u001b[0;32mFalse\u001b[0m\u001b[0;34m,\u001b[0m \u001b[0mextendOut\u001b[0m\u001b[0;34m=\u001b[0m\u001b[0;32mTrue\u001b[0m\u001b[0;34m)\u001b[0m\u001b[0;34m\u001b[0m\u001b[0;34m\u001b[0m\u001b[0m\n",
       "\u001b[0;31mDocstring:\u001b[0m     \n",
       "Class that performs the parsing of a Yambo o- file(s). The class ineriths from :py:class:`dict`\n",
       "and the instance of the class is a dictionary with the data. The keys correspond to the extension\n",
       "of the parsed files\n",
       "\n",
       "Args:\n",
       "    files (:py:class:`list`): The list of strings with the names of the file to be parsed\n",
       "    verbose (:py:class:`boolean`) : Determine the amount of information provided on terminal\n",
       "    extendOut (:py:class:`boolean`) : Determine which dictionary is used as reference for the\n",
       "                    names of the variables\n",
       "\u001b[0;31mInit docstring:\u001b[0m Initialize the data member of the class.\n",
       "\u001b[0;31mFile:\u001b[0m           ~/Applications/MPPI/mppi/Parsers/YamboOutputParser.py\n",
       "\u001b[0;31mType:\u001b[0m           type\n",
       "\u001b[0;31mSubclasses:\u001b[0m     \n"
      ]
     },
     "metadata": {},
     "output_type": "display_data"
    }
   ],
   "source": [
    "P.YamboOutputParser?"
   ]
  },
  {
   "cell_type": "code",
   "execution_count": 65,
   "metadata": {},
   "outputs": [],
   "source": [
    "results = P.YamboOutputParser(files=qp_output,extendOut=False)"
   ]
  },
  {
   "cell_type": "markdown",
   "metadata": {},
   "source": [
    "results is a dictionary with the structure"
   ]
  },
  {
   "cell_type": "code",
   "execution_count": 66,
   "metadata": {},
   "outputs": [
    {
     "data": {
      "text/plain": [
       "{'qp': {'kpoint': array([1., 1., 1., 1., 1., 1., 1., 1., 2., 2., 2., 2., 2., 2., 2., 2.]),\n",
       "  'band': array([1., 2., 3., 4., 5., 6., 7., 8., 1., 2., 3., 4., 5., 6., 7., 8.]),\n",
       "  'e0': array([-1.190291e+01, -1.176000e-05, -1.176000e-05,  0.000000e+00,\n",
       "          2.551225e+00,  2.551230e+00,  2.551230e+00,  3.152071e+00,\n",
       "         -1.110872e+01, -3.914389e+00, -7.552550e-01, -7.552460e-01,\n",
       "          1.962407e+00,  3.490390e+00,  3.490396e+00,  6.757975e+00]),\n",
       "  'eme0': array([-1.50691 ,  0.7861  ,  0.7914  ,  0.7771  ,  1.884047,  1.907533,\n",
       "          1.906476,  2.349819, -1.21027 ,  0.216875,  0.676644,  0.653277,\n",
       "          1.799721,  2.065016,  2.084261,  2.726886]),\n",
       "  'sce0': array([ 4.48108 ,  2.194   ,  2.201   ,  2.184061, -2.137494, -2.110904,\n",
       "         -2.112035, -2.203245,  4.52994 ,  2.934759,  2.263484,  2.236098,\n",
       "         -2.186759, -2.20382 , -2.182057, -2.267519])}}"
      ]
     },
     "execution_count": 66,
     "metadata": {},
     "output_type": "execute_result"
    }
   ],
   "source": [
    "results"
   ]
  },
  {
   "cell_type": "markdown",
   "metadata": {},
   "source": [
    "For several usages it can be useful to access to the results with the object.attribute sintax. \n",
    "In this case it is possible to use the AttributeDict class the perform this conversion"
   ]
  },
  {
   "cell_type": "code",
   "execution_count": 67,
   "metadata": {},
   "outputs": [],
   "source": [
    "obj = U.AttributeDict(**results)"
   ]
  },
  {
   "cell_type": "markdown",
   "metadata": {},
   "source": [
    "and we can access as"
   ]
  },
  {
   "cell_type": "code",
   "execution_count": 68,
   "metadata": {},
   "outputs": [
    {
     "data": {
      "text/plain": [
       "array([-1.190291e+01, -1.176000e-05, -1.176000e-05,  0.000000e+00,\n",
       "        2.551225e+00,  2.551230e+00,  2.551230e+00,  3.152071e+00,\n",
       "       -1.110872e+01, -3.914389e+00, -7.552550e-01, -7.552460e-01,\n",
       "        1.962407e+00,  3.490390e+00,  3.490396e+00,  6.757975e+00])"
      ]
     },
     "execution_count": 68,
     "metadata": {},
     "output_type": "execute_result"
    }
   ],
   "source": [
    "obj.qp.e0"
   ]
  },
  {
   "cell_type": "markdown",
   "metadata": {},
   "source": [
    "Test of a parsing with extendOut = True"
   ]
  },
  {
   "cell_type": "code",
   "execution_count": 69,
   "metadata": {},
   "outputs": [],
   "source": [
    "results = P.YamboOutputParser(files=qp_output_extendOut,extendOut=True)"
   ]
  },
  {
   "cell_type": "markdown",
   "metadata": {},
   "source": [
    "now all the variables are available, for instance"
   ]
  },
  {
   "cell_type": "code",
   "execution_count": 70,
   "metadata": {},
   "outputs": [
    {
     "data": {
      "text/plain": [
       "array([0.72450226, 0.84719464, 0.84719464, 0.84719464, 0.83957434,\n",
       "       0.83957434, 0.83957434, 0.85367947, 0.71923623, 0.8230557 ,\n",
       "       0.84222272, 0.84222272, 0.84416141, 0.83932913, 0.83932913,\n",
       "       0.85012568])"
      ]
     },
     "execution_count": 70,
     "metadata": {},
     "output_type": "execute_result"
    }
   ],
   "source": [
    "results['qp']['z_Re']"
   ]
  },
  {
   "cell_type": "markdown",
   "metadata": {},
   "source": [
    "Let's see a further example by parsing the typical files of a real-time computation"
   ]
  },
  {
   "cell_type": "code",
   "execution_count": 71,
   "metadata": {},
   "outputs": [],
   "source": [
    "results = P.YamboOutputParser(rt_output)"
   ]
  },
  {
   "cell_type": "markdown",
   "metadata": {},
   "source": [
    "In this case we have several files, so the dictionary has more than one key"
   ]
  },
  {
   "cell_type": "code",
   "execution_count": 72,
   "metadata": {},
   "outputs": [
    {
     "data": {
      "text/plain": [
       "dict_keys(['carriers', 'spin_magnetization', 'external_field', 'polarization'])"
      ]
     },
     "execution_count": 72,
     "metadata": {},
     "output_type": "execute_result"
    }
   ],
   "source": [
    "results.keys()"
   ]
  },
  {
   "cell_type": "markdown",
   "metadata": {},
   "source": [
    "We can easily perform some plots"
   ]
  },
  {
   "cell_type": "code",
   "execution_count": 46,
   "metadata": {},
   "outputs": [
    {
     "data": {
      "image/png": "[encoded data removed]",
      "text/plain": [
       "<Figure size 432x288 with 1 Axes>"
      ]
     },
     "metadata": {
      "needs_background": "light"
     },
     "output_type": "display_data"
    },
    {
     "data": {
      "text/plain": [
       "<matplotlib.legend.Legend at 0x7f2168a18fa0>"
      ]
     },
     "execution_count": 46,
     "metadata": {},
     "output_type": "execute_result"
    },
    {
     "data": {
      "image/png": "[encoded data removed]",
      "text/plain": [
       "<Figure size 432x288 with 1 Axes>"
      ]
     },
     "metadata": {
      "needs_background": "light"
     },
     "output_type": "display_data"
    }
   ],
   "source": [
    "time = results['carriers']['time']\n",
    "elec = results['carriers']['dne']\n",
    "field_int = results['external_field']['Intensity']\n",
    "pol = results['polarization']['Pol_x']\n",
    "\n",
    "ratio = max(field_int)/max(elec)\n",
    "\n",
    "plt.plot(time,ratio*elec,label='dne')\n",
    "plt.plot(time,field_int,label='field_int')\n",
    "plt.legend()\n",
    "plt.show()\n",
    "\n",
    "plt.plot(time,pol,label='Pol_x')\n",
    "plt.legend()"
   ]
  },
  {
   "cell_type": "markdown",
   "metadata": {},
   "source": [
    "Again we can access to the results using the attribute syntax. For instance if we are intersted to the spin_magnetization\n",
    "part of the resutls we can set"
   ]
  },
  {
   "cell_type": "code",
   "execution_count": 47,
   "metadata": {},
   "outputs": [],
   "source": [
    "spin_results = U.AttributeDict(**results['spin_magnetization'])"
   ]
  },
  {
   "cell_type": "code",
   "execution_count": 48,
   "metadata": {},
   "outputs": [
    {
     "data": {
      "text/plain": [
       "[<matplotlib.lines.Line2D at 0x7f2168a64c70>]"
      ]
     },
     "execution_count": 48,
     "metadata": {},
     "output_type": "execute_result"
    },
    {
     "data": {
      "image/png": "[encoded data removed]",
      "text/plain": [
       "<Figure size 432x288 with 1 Axes>"
      ]
     },
     "metadata": {
      "needs_background": "light"
     },
     "output_type": "display_data"
    }
   ],
   "source": [
    "plt.plot(spin_results.time,spin_results.Mc_z)\n",
    "plt.plot(spin_results.time,spin_results.Mv_z)"
   ]
  },
  {
   "cell_type": "markdown",
   "metadata": {},
   "source": [
    "###  YamboOutputParser for a ypp computation"
   ]
  },
  {
   "cell_type": "markdown",
   "metadata": {},
   "source": [
    "We test the functionality of the Parser to deal with the output of a ypp -s b computation for plotting the bands structure along a path"
   ]
  },
  {
   "cell_type": "code",
   "execution_count": 76,
   "metadata": {},
   "outputs": [],
   "source": [
    "bands_output = ['YamboCalculator_test/bands_test1/o-bands_test1.bands_interpolated']"
   ]
  },
  {
   "cell_type": "code",
   "execution_count": 77,
   "metadata": {},
   "outputs": [],
   "source": [
    "results = P.YamboOutputParser(bands_output)"
   ]
  },
  {
   "cell_type": "markdown",
   "metadata": {},
   "source": [
    "For instance"
   ]
  },
  {
   "cell_type": "code",
   "execution_count": 78,
   "metadata": {},
   "outputs": [
    {
     "data": {
      "text/plain": [
       "array([0.        , 0.02296918, 0.04593835, 0.06890753, 0.09187671,\n",
       "       0.11484589, 0.13781506, 0.16078424, 0.18375342, 0.2067226 ,\n",
       "       0.22969177, 0.25266095, 0.27563013, 0.2985993 , 0.32156848,\n",
       "       0.34453766, 0.36750684, 0.39047601, 0.41344519, 0.43641437,\n",
       "       0.45938355, 0.48235272, 0.5053219 , 0.52829108, 0.55088434,\n",
       "       0.57347759, 0.59607085, 0.61866411, 0.64125737, 0.66385063,\n",
       "       0.68644389, 0.70903715, 0.73163041, 0.75422367, 0.77681692,\n",
       "       0.79941018, 0.82200344, 0.8445967 , 0.86718996, 0.88978322,\n",
       "       0.91237648, 0.93496974, 0.957563  , 0.98015626, 1.00274951,\n",
       "       1.02534277, 1.04793603, 1.07052929, 1.09312255, 1.11571581,\n",
       "       1.13830907, 1.1617713 , 1.18523353, 1.20869576, 1.23215799,\n",
       "       1.25562022, 1.27908245, 1.30254468, 1.32600691, 1.34946914,\n",
       "       1.37293137, 1.3963936 , 1.41985583, 1.44331806, 1.46605209,\n",
       "       1.48878612, 1.51152015, 1.53425418, 1.5569882 , 1.57972223,\n",
       "       1.60245626, 1.62519029, 1.64792432, 1.67065835, 1.69339237,\n",
       "       1.7161264 , 1.73886043, 1.76159446, 1.78432849, 1.80706252,\n",
       "       1.82979654, 1.85253057, 1.8752646 , 1.89799863, 1.92073266,\n",
       "       1.94346669, 1.96620071, 1.98893474, 2.01166877, 2.0344028 ,\n",
       "       2.05713683, 2.07987085, 2.10260488, 2.1253389 ])"
      ]
     },
     "execution_count": 78,
     "metadata": {},
     "output_type": "execute_result"
    }
   ],
   "source": [
    "results['bands_interpolated']['col0'] # kpath"
   ]
  },
  {
   "cell_type": "code",
   "execution_count": 79,
   "metadata": {},
   "outputs": [
    {
     "data": {
      "text/plain": [
       "array([-6.92244006e+00, -6.89456750e+00, -6.80905005e+00, -6.66256275e+00,\n",
       "       -6.45506597e+00, -6.19239804e+00, -5.88499915e+00, -5.54470821e+00,\n",
       "       -5.18230107e+00, -4.80669380e+00, -4.42520939e+00, -4.04376626e+00,\n",
       "       -3.66578563e+00, -3.28979422e+00, -2.90838764e+00, -2.51212605e+00,\n",
       "       -2.09766393e+00, -1.67347735e+00, -1.25737543e+00, -8.68891659e-01,\n",
       "       -5.25931945e-01, -2.49064080e-01, -6.50615745e-02, -3.77496810e-06,\n",
       "       -6.29556139e-02, -2.36496842e-01, -4.82668963e-01, -7.58747799e-01,\n",
       "       -1.03304555e+00, -1.29174174e+00, -1.53792606e+00, -1.78627954e+00,\n",
       "       -2.05464117e+00, -2.35405922e+00, -2.68236701e+00, -3.02622904e+00,\n",
       "       -3.37018860e+00, -3.70516988e+00, -4.03055233e+00, -4.35110015e+00,\n",
       "       -4.67381504e+00, -5.00667217e+00, -5.35699357e+00, -5.72799830e+00,\n",
       "       -6.11577549e+00, -6.50923119e+00, -6.89170878e+00, -7.24099965e+00,\n",
       "       -7.52809606e+00, -7.71962799e+00, -7.78724231e+00, -7.76161105e+00,\n",
       "       -7.69613277e+00, -7.61880787e+00, -7.55998135e+00, -7.53906476e+00,\n",
       "       -7.55803649e+00, -7.60253717e+00, -7.64928779e+00, -7.67738206e+00,\n",
       "       -7.67840229e+00, -7.65942859e+00, -7.63719377e+00, -7.62764820e+00,\n",
       "       -7.59586621e+00, -7.51148300e+00, -7.37564445e+00, -7.19397685e+00,\n",
       "       -6.97479010e+00, -6.72677168e+00, -6.45876717e+00, -6.18066409e+00,\n",
       "       -5.90248556e+00, -5.63143506e+00, -5.36953797e+00, -5.11366020e+00,\n",
       "       -4.85720254e+00, -4.59237979e+00, -4.31289121e+00, -4.01633676e+00,\n",
       "       -3.70482164e+00, -3.38329315e+00, -3.05720367e+00, -2.73104398e+00,\n",
       "       -2.40754681e+00, -2.08700139e+00, -1.76735859e+00, -1.44593649e+00,\n",
       "       -1.12228105e+00, -8.01574663e-01, -4.98609168e-01, -2.40535400e-01,\n",
       "       -6.34647104e-02, -3.77496810e-06])"
      ]
     },
     "execution_count": 79,
     "metadata": {},
     "output_type": "execute_result"
    }
   ],
   "source": [
    "results['bands_interpolated']['col1'] # energies of the first band included in the computation"
   ]
  },
  {
   "cell_type": "markdown",
   "metadata": {},
   "source": [
    "The parser cannot determine the names of the columns because the number of colums depend on the\n",
    "number of bands considered. The meaning of the columns can be identified by knowing the input used to \n",
    "perform the post processing. "
   ]
  },
  {
   "cell_type": "code",
   "execution_count": 80,
   "metadata": {},
   "outputs": [],
   "source": [
    "r = results['bands_interpolated']\n",
    "kpath = r['col0']\n",
    "band3 = r['col1']\n",
    "band4 = r['col2']\n",
    "band5 = r['col3']\n",
    "band6 = r['col4']"
   ]
  },
  {
   "cell_type": "code",
   "execution_count": 81,
   "metadata": {},
   "outputs": [
    {
     "data": {
      "text/plain": [
       "<matplotlib.legend.Legend at 0x7eff531d7a90>"
      ]
     },
     "execution_count": 81,
     "metadata": {},
     "output_type": "execute_result"
    },
    {
     "data": {
      "image/png": "[encoded data removed]",
      "text/plain": [
       "<Figure size 432x288 with 1 Axes>"
      ]
     },
     "metadata": {
      "needs_background": "light"
     },
     "output_type": "display_data"
    }
   ],
   "source": [
    "plt.plot(kpath,band3,label='band3')\n",
    "plt.plot(kpath,band4,label='band4')\n",
    "plt.plot(kpath,band5,label='band5')\n",
    "plt.plot(kpath,band6,label='band6')\n",
    "plt.legend()"
   ]
  },
  {
   "cell_type": "markdown",
   "metadata": {},
   "source": [
    "## Analysis of the YamboDipolesParser class"
   ]
  },
  {
   "cell_type": "markdown",
   "metadata": {},
   "source": [
    "To analyze the YamboDipolesParser we build the dipoles using Yambo. We start from a nscf\n",
    "computation on GaAs on a regular grid with 12 bands (8 full and 4 empties, since the bands\n",
    "are spin splitted)"
   ]
  },
  {
   "cell_type": "code",
   "execution_count": 218,
   "metadata": {},
   "outputs": [],
   "source": [
    "source_dir = 'Pw_bands/gaas_nscf_so.save'\n",
    "run_dir = 'YamboParser_test/DipolesParser'"
   ]
  },
  {
   "cell_type": "code",
   "execution_count": 219,
   "metadata": {},
   "outputs": [
    {
     "name": "stdout",
     "output_type": "stream",
     "text": [
      "Create folder YamboParser_test/DipolesParser\n",
      "Executing command: cd Pw_bands/gaas_nscf_so.save; p2y -a 2\n",
      "Create a symlink of /home/marco/Applications/MPPI/sphinx_source/tutorials/Pw_bands/gaas_nscf_so.save/SAVE in YamboParser_test/DipolesParser\n",
      "Executing command: cd YamboParser_test/DipolesParser;OMP_NUM_THREADS=1 yambo\n"
     ]
    }
   ],
   "source": [
    "U.build_SAVE(source_dir,run_dir)"
   ]
  },
  {
   "cell_type": "code",
   "execution_count": 220,
   "metadata": {},
   "outputs": [
    {
     "data": {
      "text/plain": [
       "{'args': 'yambo -dipoles -V all',\n",
       " 'folder': 'YamboParser_test/DipolesParser',\n",
       " 'filename': 'yambo.in',\n",
       " 'arguments': ['DipBandsALL'],\n",
       " 'variables': {'StdoHash': [40.0, ''],\n",
       "  'Nelectro': [8.0, ''],\n",
       "  'ElecTemp': [0.0, 'eV'],\n",
       "  'BoseTemp': [-1.0, 'eV'],\n",
       "  'OccTresh': [1e-05, ''],\n",
       "  'NLogCPUs': [0.0, ''],\n",
       "  'DIP_Threads': [0.0, ''],\n",
       "  'DBsIOoff': 'none',\n",
       "  'DBsFRAGpm': 'none',\n",
       "  'PAR_def_mode': 'balanced',\n",
       "  'DipComputed': 'R P V Spin',\n",
       "  'DipBands': [[1, 12], '']}}"
      ]
     },
     "execution_count": 220,
     "metadata": {},
     "output_type": "execute_result"
    }
   ],
   "source": [
    "inp = I.YamboInput(args='yambo -dipoles -V all',folder=run_dir)\n",
    "inp['variables']['DipComputed'] = 'R P V Spin'\n",
    "inp['arguments'].append(\"DipBandsALL\")\n",
    "inp"
   ]
  },
  {
   "cell_type": "markdown",
   "metadata": {},
   "source": [
    "Note that the options ``DipBandsALL`` enables the computation of the dipoles elements among all the bands, and not\n",
    "only in for the full-empty couples"
   ]
  },
  {
   "cell_type": "code",
   "execution_count": 221,
   "metadata": {},
   "outputs": [
    {
     "name": "stdout",
     "output_type": "stream",
     "text": [
      "run command: cd YamboParser_test/DipolesParser; mpirun -np 1 yambo -F dipoles.in -J dipoles -C dipoles\n",
      "computation dipoles is running...\n",
      "computation dipoles ended\n",
      "\n",
      "            There are no o-* files.\n",
      "            Maybe you have performed a ypp computation or wait_end_run and/or\n",
      "            the dry_run option are active?\n",
      "            Otherwise a possible error has occured during the computation\n",
      "            \n"
     ]
    },
    {
     "data": {
      "text/plain": [
       "{'output': [],\n",
       " 'dft': 'YamboParser_test/DipolesParser/SAVE/ns.db1',\n",
       " 'dipoles': 'YamboParser_test/DipolesParser/dipoles/ndb.dipoles'}"
      ]
     },
     "execution_count": 221,
     "metadata": {},
     "output_type": "execute_result"
    }
   ],
   "source": [
    "code.run(input=inp,run_dir=run_dir,name='dipoles',mpi=1,skip=False)"
   ]
  },
  {
   "cell_type": "markdown",
   "metadata": {},
   "source": [
    "Once that the computation is over, and the database is built by Yambo we parse it"
   ]
  },
  {
   "cell_type": "code",
   "execution_count": 222,
   "metadata": {},
   "outputs": [],
   "source": [
    "dipole_file = os.path.join(run_dir,'dipoles/ndb.dipoles')"
   ]
  },
  {
   "cell_type": "code",
   "execution_count": 223,
   "metadata": {},
   "outputs": [
    {
     "name": "stdout",
     "output_type": "stream",
     "text": [
      "Parse file : YamboParser_test/DipolesParser/dipoles/ndb.dipoles\n",
      "Spin dipoles not found in the ndb.dipoles\n"
     ]
    }
   ],
   "source": [
    "dipoles = P.YamboDipolesParser(dipole_file)"
   ]
  },
  {
   "cell_type": "code",
   "execution_count": 224,
   "metadata": {},
   "outputs": [
    {
     "name": "stdout",
     "output_type": "stream",
     "text": [
      "YamboDipolesParser variables structure\n",
      "dip_r shape (16, 12, 12, 3, 2)\n",
      "dip_v shape (16, 12, 12, 3, 2)\n",
      "dip_spin shape (1,)\n"
     ]
    }
   ],
   "source": [
    "dipoles.get_info()"
   ]
  },
  {
   "cell_type": "markdown",
   "metadata": {},
   "source": [
    "CHECK WHY THERE ARE NO DIP_spin VARIABLES!!!!!!!!!!"
   ]
  },
  {
   "cell_type": "markdown",
   "metadata": {},
   "source": [
    "We consider the r dipole (x component) and look for the values of the valence->conduction\n",
    "elements"
   ]
  },
  {
   "cell_type": "code",
   "execution_count": 225,
   "metadata": {},
   "outputs": [],
   "source": [
    "dip_r = dipoles.dip_r"
   ]
  },
  {
   "cell_type": "code",
   "execution_count": 226,
   "metadata": {},
   "outputs": [
    {
     "name": "stdout",
     "output_type": "stream",
     "text": [
      "dipole for optical transtion at 0 [19.13476049 10.65663503]\n",
      "dipole for optical transtion at 0 [-19.13476049  10.65663503]\n",
      "dipole for optical transtion at 1 [-2.09054215 -2.24485556]\n",
      "dipole for optical transtion at 1 [ 2.09054215 -2.24485556]\n",
      "dipole for optical transtion at 2 [0.80568719 0.68118405]\n",
      "dipole for optical transtion at 2 [-0.80568719  0.68118405]\n",
      "dipole for optical transtion at 3 [3.04190316 2.05448711]\n",
      "dipole for optical transtion at 3 [-3.04190316  2.05448711]\n",
      "dipole for optical transtion at 4 [-1.81764062  0.16555573]\n",
      "dipole for optical transtion at 4 [1.81764062 0.16555573]\n",
      "dipole for optical transtion at 5 [ 1.97735684 -2.25344249]\n",
      "dipole for optical transtion at 5 [-1.97735684 -2.25344249]\n",
      "dipole for optical transtion at 6 [ 3.17351199 -0.92622537]\n",
      "dipole for optical transtion at 6 [-3.17351199 -0.92622537]\n",
      "dipole for optical transtion at 7 [ 1.12316434 -3.38338401]\n",
      "dipole for optical transtion at 7 [-1.12316434 -3.38338401]\n",
      "dipole for optical transtion at 8 [-0.38228667  4.01380015]\n",
      "dipole for optical transtion at 8 [0.38228667 4.01380015]\n",
      "dipole for optical transtion at 9 [1.1474797  0.31281172]\n",
      "dipole for optical transtion at 9 [-1.1474797   0.31281172]\n",
      "dipole for optical transtion at 10 [-1.62590125  2.98105547]\n",
      "dipole for optical transtion at 10 [1.62590125 2.98105547]\n",
      "dipole for optical transtion at 11 [3.22384723 1.2742764 ]\n",
      "dipole for optical transtion at 11 [-3.22384723  1.2742764 ]\n",
      "dipole for optical transtion at 12 [-1.72163113 -1.20446658]\n",
      "dipole for optical transtion at 12 [ 1.72163113 -1.20446658]\n",
      "dipole for optical transtion at 13 [0.30243476 0.72902209]\n",
      "dipole for optical transtion at 13 [-0.30243476  0.72902209]\n",
      "dipole for optical transtion at 14 [ 1.26920453 -0.89900526]\n",
      "dipole for optical transtion at 14 [-1.26920453 -0.89900526]\n",
      "dipole for optical transtion at 15 [ 1.19322441 -0.0466975 ]\n",
      "dipole for optical transtion at 15 [-1.19322441 -0.0466975 ]\n"
     ]
    }
   ],
   "source": [
    "for k in range(len(dip_r)):\n",
    "    print('dipole for optical transtion at',k,dip_r[k][7][8][0])\n",
    "    print('dipole for optical transtion at',k,dip_r[k][8][7][0])"
   ]
  },
  {
   "cell_type": "markdown",
   "metadata": {},
   "source": [
    "CHECK : WHICH IS THE REAL AND WHICH THE IMAGINARY PART?\n",
    "\n",
    "WHICH IS THE DEFINITION of THE iR OPERATOR?..it is antihermitian...."
   ]
  },
  {
   "cell_type": "markdown",
   "metadata": {},
   "source": [
    "We also compute the transition dipoles in the first spin-splitted conduction bands"
   ]
  },
  {
   "cell_type": "code",
   "execution_count": 227,
   "metadata": {},
   "outputs": [
    {
     "name": "stdout",
     "output_type": "stream",
     "text": [
      "dipole for optical transtion at 0 [0. 0.]\n",
      "dipole for optical transtion at 1 [0. 0.]\n",
      "dipole for optical transtion at 2 [0. 0.]\n",
      "dipole for optical transtion at 3 [0. 0.]\n",
      "dipole for optical transtion at 4 [0. 0.]\n",
      "dipole for optical transtion at 5 [ 3.19848985 -5.73704325]\n",
      "dipole for optical transtion at 6 [-2.12489731  6.41916483]\n",
      "dipole for optical transtion at 7 [ 5.58888916 -1.38856218]\n",
      "dipole for optical transtion at 8 [-1.35303055  5.16321935]\n",
      "dipole for optical transtion at 9 [0. 0.]\n",
      "dipole for optical transtion at 10 [ 11.32338459 -66.28915676]\n",
      "dipole for optical transtion at 11 [  6.09155083 -11.36427652]\n",
      "dipole for optical transtion at 12 [0. 0.]\n",
      "dipole for optical transtion at 13 [-1.58889318 -0.65063289]\n",
      "dipole for optical transtion at 14 [2.79217099 0.63322764]\n",
      "dipole for optical transtion at 15 [6.74899276e-05 2.49874911e-04]\n"
     ]
    }
   ],
   "source": [
    "for k in range(len(dip_r)):\n",
    "    print('dipole for optical transtion at',k,dip_r[k][8][9][0])"
   ]
  },
  {
   "cell_type": "markdown",
   "metadata": {},
   "source": [
    "## Analysis of the YamboDftParser class"
   ]
  },
  {
   "cell_type": "markdown",
   "metadata": {},
   "source": [
    "This database collects information about the lattice and electronic properties\n",
    "of the system.\n",
    "\n",
    "The information codified in this database are usually equivalent to the ones in the QuantumESPRESSO\n",
    "data-file-schema.xml and the YamboDftParser shares many common functions with the PwParser.\n",
    "\n",
    "As a first test we consider a Pw nscf computation for GaAs and build the SAVE folder with Yambo"
   ]
  },
  {
   "cell_type": "code",
   "execution_count": 4,
   "metadata": {},
   "outputs": [],
   "source": [
    "source_dir = 'Pw_bands/gaas_nscf_so.save'\n",
    "run_dir = 'YamboParser_test/DipolesParser'"
   ]
  },
  {
   "cell_type": "markdown",
   "metadata": {},
   "source": [
    "We create the Yambo SAVE using the function of the Utilities module"
   ]
  },
  {
   "cell_type": "code",
   "execution_count": 233,
   "metadata": {},
   "outputs": [
    {
     "name": "stdout",
     "output_type": "stream",
     "text": [
      "SAVE folder already present in YamboParser_test/DipolesParser. No operations performed.\n"
     ]
    }
   ],
   "source": [
    "U.build_SAVE(source_dir=source,run_dir=run_dir)"
   ]
  },
  {
   "cell_type": "markdown",
   "metadata": {},
   "source": [
    "We also make a fixsymm to study the content of the ns.db1 database after the fixsym procedure"
   ]
  },
  {
   "cell_type": "code",
   "execution_count": 235,
   "metadata": {},
   "outputs": [
    {
     "name": "stdout",
     "output_type": "stream",
     "text": [
      "Perform the fixSymm in the folder YamboParser_test/DipolesParser\n",
      "Initialize a Yambo calculator with scheduler direct\n",
      "run command: cd YamboParser_test/DipolesParser; mpirun -np 1 ypp -F FixSymm.in -J FixSymm -C FixSymm\n",
      "computation FixSymm is running...\n",
      "computation FixSymm ended\n",
      "\n",
      "            There are no o-* files.\n",
      "            Maybe you have performed a ypp computation or wait_end_run and/or\n",
      "            the dry_run option are active?\n",
      "            Otherwise a possible error has occured during the computation\n",
      "            \n"
     ]
    }
   ],
   "source": [
    "U.make_FixSymm(run_dir)"
   ]
  },
  {
   "cell_type": "markdown",
   "metadata": {},
   "source": [
    "We parse the ns.db1 databases in the SAVE folders, with and without fixsym procedure. \n",
    "\n",
    "We also parse the Pw data-file-schema.xml to compare the output of the two"
   ]
  },
  {
   "cell_type": "code",
   "execution_count": 7,
   "metadata": {},
   "outputs": [],
   "source": [
    "xml = os.path.join(source_dir,'data-file-schema.xml')\n",
    "nsdb = os.path.join(run_dir,'SAVE','ns.db1')\n",
    "nsdb_fixsymm = os.path.join(run_dir,'FixSymm','SAVE','ns.db1')"
   ]
  },
  {
   "cell_type": "code",
   "execution_count": 9,
   "metadata": {},
   "outputs": [
    {
     "name": "stdout",
     "output_type": "stream",
     "text": [
      "Parse file : Pw_bands/gaas_nscf_so.save/data-file-schema.xml\n",
      "Parse file : YamboParser_test/DipolesParser/SAVE/ns.db1\n",
      "Parse file : YamboParser_test/DipolesParser/FixSymm/SAVE/ns.db1\n"
     ]
    }
   ],
   "source": [
    "pw_data = P.PwParser(xml)\n",
    "yambo_data = P.YamboDftParser(nsdb)\n",
    "yambo_data_fixsym = P.YamboDftParser(nsdb_fixsymm)"
   ]
  },
  {
   "cell_type": "markdown",
   "metadata": {},
   "source": [
    "We comment on the meaning of some of the attributes of the classes "
   ]
  },
  {
   "cell_type": "markdown",
   "metadata": {},
   "source": [
    "The number of kpoints (actually in the IBZ since they are reduced by the symmetries of the lattice). If the fixsymm is performed\n",
    "only the simmetries preserved by the external field are mantained"
   ]
  },
  {
   "cell_type": "code",
   "execution_count": 238,
   "metadata": {},
   "outputs": [
    {
     "name": "stdout",
     "output_type": "stream",
     "text": [
      "16\n",
      "16\n",
      "75\n"
     ]
    }
   ],
   "source": [
    "print(pw_data.nkpoints)\n",
    "print(yambo_data.nkpoints)\n",
    "print(yambo_data_fixsym.nkpoints)"
   ]
  },
  {
   "cell_type": "code",
   "execution_count": 240,
   "metadata": {},
   "outputs": [
    {
     "name": "stdout",
     "output_type": "stream",
     "text": [
      "48\n",
      "4\n"
     ]
    }
   ],
   "source": [
    "print(len(yambo_data.sym))\n",
    "print(len(yambo_data_fixsym.sym))"
   ]
  },
  {
   "cell_type": "markdown",
   "metadata": {},
   "source": [
    "We compare the values of members and methods in the various cases"
   ]
  },
  {
   "cell_type": "code",
   "execution_count": 242,
   "metadata": {},
   "outputs": [
    {
     "data": {
      "text/plain": [
       "array([[ 0.00000000e+00,  0.00000000e+00,  0.00000000e+00],\n",
       "       [-1.66666667e-01,  1.66666667e-01, -1.66666667e-01],\n",
       "       [-3.33333333e-01,  3.33333333e-01, -3.33333333e-01],\n",
       "       [ 5.00000000e-01, -5.00000000e-01,  5.00000000e-01],\n",
       "       [ 0.00000000e+00,  3.33333333e-01,  0.00000000e+00],\n",
       "       [-1.66666667e-01,  5.00000000e-01, -1.66666667e-01],\n",
       "       [ 6.66666667e-01, -3.33333333e-01,  6.66666667e-01],\n",
       "       [ 5.00000000e-01, -1.66666667e-01,  5.00000000e-01],\n",
       "       [ 3.33333333e-01,  2.77555756e-17,  3.33333333e-01],\n",
       "       [ 0.00000000e+00,  6.66666667e-01,  0.00000000e+00],\n",
       "       [ 8.33333333e-01, -1.66666667e-01,  8.33333333e-01],\n",
       "       [ 6.66666667e-01, -5.55111512e-17,  6.66666667e-01],\n",
       "       [ 0.00000000e+00, -1.00000000e+00,  0.00000000e+00],\n",
       "       [ 6.66666667e-01, -3.33333333e-01,  1.00000000e+00],\n",
       "       [ 5.00000000e-01, -1.66666667e-01,  8.33333333e-01],\n",
       "       [-3.33333333e-01, -1.00000000e+00,  0.00000000e+00]])"
      ]
     },
     "execution_count": 242,
     "metadata": {},
     "output_type": "execute_result"
    }
   ],
   "source": [
    "pw_data.kpoints"
   ]
  },
  {
   "cell_type": "code",
   "execution_count": 243,
   "metadata": {},
   "outputs": [
    {
     "data": {
      "text/plain": [
       "array([[ 0.00000000e+00,  0.00000000e+00,  0.00000000e+00],\n",
       "       [-1.66666667e-01,  1.66666667e-01, -1.66666667e-01],\n",
       "       [-3.33333333e-01,  3.33333333e-01, -3.33333333e-01],\n",
       "       [ 5.00000000e-01, -5.00000000e-01,  5.00000000e-01],\n",
       "       [ 0.00000000e+00,  3.33333333e-01,  0.00000000e+00],\n",
       "       [-1.66666667e-01,  5.00000000e-01, -1.66666667e-01],\n",
       "       [ 6.66666667e-01, -3.33333333e-01,  6.66666667e-01],\n",
       "       [ 5.00000000e-01, -1.66666667e-01,  5.00000000e-01],\n",
       "       [ 3.33333333e-01,  2.77555756e-17,  3.33333333e-01],\n",
       "       [ 0.00000000e+00,  6.66666667e-01,  0.00000000e+00],\n",
       "       [ 8.33333333e-01, -1.66666667e-01,  8.33333333e-01],\n",
       "       [ 6.66666667e-01, -5.55111512e-17,  6.66666667e-01],\n",
       "       [ 0.00000000e+00, -1.00000000e+00,  0.00000000e+00],\n",
       "       [ 6.66666667e-01, -3.33333333e-01,  1.00000000e+00],\n",
       "       [ 5.00000000e-01, -1.66666667e-01,  8.33333333e-01],\n",
       "       [-3.33333333e-01, -1.00000000e+00,  0.00000000e+00]])"
      ]
     },
     "execution_count": 243,
     "metadata": {},
     "output_type": "execute_result"
    }
   ],
   "source": [
    "yambo_data.kpoints"
   ]
  },
  {
   "cell_type": "code",
   "execution_count": 245,
   "metadata": {},
   "outputs": [
    {
     "data": {
      "text/plain": [
       "array([[ 0.00000000e+00,  0.00000000e+00,  0.00000000e+00],\n",
       "       [-1.66666667e-01,  1.66666667e-01, -1.66666667e-01],\n",
       "       [-3.33333333e-01,  3.33333333e-01, -3.33333333e-01],\n",
       "       [ 5.00000000e-01, -5.00000000e-01,  5.00000000e-01],\n",
       "       [ 0.00000000e+00,  3.33333333e-01,  0.00000000e+00],\n",
       "       [-1.66666667e-01,  5.00000000e-01, -1.66666667e-01],\n",
       "       [ 6.66666667e-01, -3.33333333e-01,  6.66666667e-01],\n",
       "       [ 5.00000000e-01, -1.66666667e-01,  5.00000000e-01],\n",
       "       [ 3.33333333e-01,  2.77555756e-17,  3.33333333e-01],\n",
       "       [ 0.00000000e+00,  6.66666667e-01,  0.00000000e+00],\n",
       "       [ 8.33333333e-01, -1.66666667e-01,  8.33333333e-01],\n",
       "       [ 6.66666667e-01, -5.55111512e-17,  6.66666667e-01],\n",
       "       [ 0.00000000e+00, -1.00000000e+00,  0.00000000e+00],\n",
       "       [ 6.66666667e-01, -3.33333333e-01,  1.00000000e+00],\n",
       "       [ 5.00000000e-01, -1.66666667e-01,  8.33333333e-01],\n",
       "       [-3.33333333e-01, -1.00000000e+00,  0.00000000e+00],\n",
       "       [ 5.00000000e-01, -1.66666667e-01, -1.66666667e-01],\n",
       "       [-5.00000000e-01, -1.66666667e-01,  1.66666667e-01],\n",
       "       [ 1.66666667e-01, -5.00000000e-01,  1.66666667e-01],\n",
       "       [-1.66666667e-01,  5.00000000e-01,  1.66666667e-01],\n",
       "       [-5.00000000e-01,  1.66666667e-01,  1.66666667e-01],\n",
       "       [ 5.00000000e-01,  1.66666667e-01, -1.66666667e-01],\n",
       "       [ 3.33333333e-01, -3.33333333e-01, -3.33333333e-01],\n",
       "       [-6.66666667e-01,  3.33333333e-01,  6.66666667e-01],\n",
       "       [-3.33333333e-01,  6.66666667e-01,  6.66666667e-01]])"
      ]
     },
     "execution_count": 245,
     "metadata": {},
     "output_type": "execute_result"
    }
   ],
   "source": [
    "yambo_data_fixsym.kpoints[0:25]"
   ]
  },
  {
   "cell_type": "code",
   "execution_count": 246,
   "metadata": {},
   "outputs": [
    {
     "name": "stdout",
     "output_type": "stream",
     "text": [
      "Apply a scissor of 1.0019927808361082 eV\n"
     ]
    },
    {
     "data": {
      "text/plain": [
       "array([-1.28100839e+01, -1.28100839e+01, -3.56650776e-01, -3.56650776e-01,\n",
       "       -3.20579119e-11, -3.20579119e-11, -2.99191782e-11,  0.00000000e+00,\n",
       "        1.42000000e+00,  1.42000000e+00,  4.56612389e+00,  4.56612390e+00])"
      ]
     },
     "execution_count": 246,
     "metadata": {},
     "output_type": "execute_result"
    }
   ],
   "source": [
    "pw_data.get_evals(set_gap=1.42)[0]"
   ]
  },
  {
   "cell_type": "code",
   "execution_count": 247,
   "metadata": {},
   "outputs": [
    {
     "name": "stdout",
     "output_type": "stream",
     "text": [
      "Apply a scissor of 1.0019927808361082 eV\n"
     ]
    },
    {
     "data": {
      "text/plain": [
       "array([-1.28100839e+01, -1.28100839e+01, -3.56650776e-01, -3.56650776e-01,\n",
       "       -3.20579119e-11, -3.20579119e-11, -2.99191782e-11,  0.00000000e+00,\n",
       "        1.42000000e+00,  1.42000000e+00,  4.56612389e+00,  4.56612390e+00])"
      ]
     },
     "execution_count": 247,
     "metadata": {},
     "output_type": "execute_result"
    }
   ],
   "source": [
    "yambo_data.get_evals(set_gap=1.42)[0]"
   ]
  },
  {
   "cell_type": "code",
   "execution_count": 248,
   "metadata": {},
   "outputs": [
    {
     "name": "stdout",
     "output_type": "stream",
     "text": [
      "Apply a scissor of 1.19446036 eV\n"
     ]
    },
    {
     "data": {
      "text/plain": [
       "array([-12.04885542, -12.04788568,  -4.27347246,  -4.24121973,\n",
       "        -2.21835426,  -2.15893974,  -0.61692605,  -0.61296675,\n",
       "         3.62174379,   3.68750566,   5.54786061,   5.60369709])"
      ]
     },
     "execution_count": 248,
     "metadata": {},
     "output_type": "execute_result"
    }
   ],
   "source": [
    "yambo_data_fixsym.get_evals(set_scissor=1.19446036)[40]"
   ]
  },
  {
   "cell_type": "code",
   "execution_count": 249,
   "metadata": {},
   "outputs": [
    {
     "name": "stdout",
     "output_type": "stream",
     "text": [
      "Direct gap system\n",
      "=================\n",
      "Gap : 0.4180072191638917 eV\n"
     ]
    },
    {
     "data": {
      "text/plain": [
       "{'gap': 0.4180072191638917,\n",
       " 'direct_gap': 0.4180072191638917,\n",
       " 'position_cbm': 0,\n",
       " 'positon_vbm': 0}"
      ]
     },
     "execution_count": 249,
     "metadata": {},
     "output_type": "execute_result"
    }
   ],
   "source": [
    "pw_data.get_gap()"
   ]
  },
  {
   "cell_type": "code",
   "execution_count": 250,
   "metadata": {},
   "outputs": [
    {
     "name": "stdout",
     "output_type": "stream",
     "text": [
      "Direct gap system\n",
      "=================\n",
      "Gap : 0.4180072191638917 eV\n"
     ]
    },
    {
     "data": {
      "text/plain": [
       "{'gap': 0.4180072191638917,\n",
       " 'direct_gap': 0.4180072191638917,\n",
       " 'position_cbm': 0,\n",
       " 'positon_vbm': 0}"
      ]
     },
     "execution_count": 250,
     "metadata": {},
     "output_type": "execute_result"
    }
   ],
   "source": [
    "yambo_data.get_gap()"
   ]
  },
  {
   "cell_type": "code",
   "execution_count": 262,
   "metadata": {},
   "outputs": [
    {
     "data": {
      "text/plain": [
       "array([0.41800722, 0.41800722, 0.41800722, 0.41800722])"
      ]
     },
     "execution_count": 262,
     "metadata": {},
     "output_type": "execute_result"
    }
   ],
   "source": [
    "pw_data.get_transitions(initial=[6,7],final=[8,9])[0]"
   ]
  },
  {
   "cell_type": "code",
   "execution_count": 263,
   "metadata": {},
   "outputs": [
    {
     "data": {
      "text/plain": [
       "array([0.41800722, 0.41800722, 0.41800722, 0.41800722])"
      ]
     },
     "execution_count": 263,
     "metadata": {},
     "output_type": "execute_result"
    }
   ],
   "source": [
    "pw_data.get_transitions(initial=[6,7],final=[8,9])[0]"
   ]
  },
  {
   "cell_type": "markdown",
   "metadata": {},
   "source": [
    "We perform the comparison also for a ``bands`` computation in which the kpoints are\n",
    "defined in QuantumESPRESSO using the `tpiba_b` option that correspond to cartesian\n",
    "coordinates in units of $2\\pi/a_{lat}$."
   ]
  },
  {
   "cell_type": "code",
   "execution_count": 8,
   "metadata": {},
   "outputs": [],
   "source": [
    "source_dir = 'Pw_bands/gaas_bands.save'\n",
    "run_dir = 'YamboParser_test/DftParser_bands'"
   ]
  },
  {
   "cell_type": "markdown",
   "metadata": {},
   "source": [
    "We create the Yambo SAVE using the function of the Utilities module"
   ]
  },
  {
   "cell_type": "code",
   "execution_count": 14,
   "metadata": {},
   "outputs": [
    {
     "name": "stdout",
     "output_type": "stream",
     "text": [
      "Create folder YamboParser_test/DftParser_bands\n",
      "Executing command: cd Pw_bands/gaas_bands.save; p2y -a 2\n",
      "Create a symlink of /home/marco/Applications/MPPI/sphinx_source/tutorials/Pw_bands/gaas_bands.save/SAVE in YamboParser_test/DftParser_bands\n",
      "Executing command: cd YamboParser_test/DftParser_bands;OMP_NUM_THREADS=1 yambo\n"
     ]
    }
   ],
   "source": [
    "U.build_SAVE(source_dir=source_dir,run_dir=run_dir)"
   ]
  },
  {
   "cell_type": "code",
   "execution_count": 15,
   "metadata": {},
   "outputs": [],
   "source": [
    "xml = os.path.join(source_dir,'data-file-schema.xml')\n",
    "nsdb = os.path.join(run_dir,'SAVE','ns.db1')"
   ]
  },
  {
   "cell_type": "code",
   "execution_count": 16,
   "metadata": {},
   "outputs": [
    {
     "name": "stdout",
     "output_type": "stream",
     "text": [
      "Parse file : Pw_bands/gaas_bands.save/data-file-schema.xml\n",
      "Parse file : YamboParser_test/DftParser_bands/SAVE/ns.db1\n"
     ]
    }
   ],
   "source": [
    "pw_data = P.PwParser(xml)\n",
    "yambo_data = P.YamboDftParser(nsdb)"
   ]
  },
  {
   "cell_type": "code",
   "execution_count": 17,
   "metadata": {},
   "outputs": [
    {
     "data": {
      "text/plain": [
       "array([[0.5       , 0.5       , 0.5       ],\n",
       "       [0.48333333, 0.48333333, 0.48333333],\n",
       "       [0.46666667, 0.46666667, 0.46666667],\n",
       "       [0.45      , 0.45      , 0.45      ],\n",
       "       [0.43333333, 0.43333333, 0.43333333],\n",
       "       [0.41666667, 0.41666667, 0.41666667],\n",
       "       [0.4       , 0.4       , 0.4       ],\n",
       "       [0.38333333, 0.38333333, 0.38333333],\n",
       "       [0.36666667, 0.36666667, 0.36666667],\n",
       "       [0.35      , 0.35      , 0.35      ]])"
      ]
     },
     "execution_count": 17,
     "metadata": {},
     "output_type": "execute_result"
    }
   ],
   "source": [
    "pw_data.kpoints[0:10]"
   ]
  },
  {
   "cell_type": "code",
   "execution_count": 18,
   "metadata": {},
   "outputs": [
    {
     "data": {
      "text/plain": [
       "array([[0.5       , 0.5       , 0.5       ],\n",
       "       [0.48333333, 0.48333333, 0.48333333],\n",
       "       [0.46666667, 0.46666667, 0.46666667],\n",
       "       [0.45      , 0.45      , 0.45      ],\n",
       "       [0.43333333, 0.43333333, 0.43333333],\n",
       "       [0.41666667, 0.41666667, 0.41666667],\n",
       "       [0.4       , 0.4       , 0.4       ],\n",
       "       [0.38333333, 0.38333333, 0.38333333],\n",
       "       [0.36666667, 0.36666667, 0.36666667],\n",
       "       [0.35      , 0.35      , 0.35      ]])"
      ]
     },
     "execution_count": 18,
     "metadata": {},
     "output_type": "execute_result"
    }
   ],
   "source": [
    "yambo_data.kpoints[:10]"
   ]
  },
  {
   "cell_type": "markdown",
   "metadata": {},
   "source": [
    "We observe that the kpoints stored in the two parser are identical"
   ]
  },
  {
   "cell_type": "markdown",
   "metadata": {},
   "source": [
    "We perform a further test with random $k$ points, specified in QuantumESPRESSO\n",
    "with the `tpiba` option. We compare the xml and ns.db1 database generated with the\n",
    "usual procedure"
   ]
  },
  {
   "cell_type": "code",
   "execution_count": 19,
   "metadata": {},
   "outputs": [
    {
     "name": "stdout",
     "output_type": "stream",
     "text": [
      "Parse file : YamboParser_test/random_grids/data-file-schema.xml\n",
      "Parse file : YamboParser_test/random_grids/ns.db1\n"
     ]
    }
   ],
   "source": [
    "pw_data = P.PwParser('YamboParser_test/random_grids/data-file-schema.xml')\n",
    "yambo_data = P.YamboDftParser('YamboParser_test/random_grids/ns.db1')"
   ]
  },
  {
   "cell_type": "code",
   "execution_count": 20,
   "metadata": {},
   "outputs": [
    {
     "data": {
      "text/plain": [
       "array([[ 0.000000e+00,  0.000000e+00,  0.000000e+00],\n",
       "       [-8.464520e-03,  1.853640e-03, -7.024630e-03],\n",
       "       [ 9.818610e-03,  1.500391e-02,  1.478666e-02],\n",
       "       [-5.753930e-03,  3.050000e-06, -1.735204e-02],\n",
       "       [ 1.502407e-02,  8.102160e-03,  5.387760e-03],\n",
       "       [ 9.094310e-03,  3.194920e-03, -6.427010e-03],\n",
       "       [-8.042640e-03,  9.642650e-03, -1.917115e-02],\n",
       "       [ 7.458350e-03, -1.704125e-02, -1.992032e-02],\n",
       "       [ 1.077130e-02, -1.945781e-02, -1.781570e-03],\n",
       "       [ 1.246368e-02,  1.388959e-02,  1.070112e-02]])"
      ]
     },
     "execution_count": 20,
     "metadata": {},
     "output_type": "execute_result"
    }
   ],
   "source": [
    "pw_data.kpoints[0:10]"
   ]
  },
  {
   "cell_type": "code",
   "execution_count": 21,
   "metadata": {},
   "outputs": [
    {
     "data": {
      "text/plain": [
       "array([[ 0.000000e+00,  0.000000e+00,  0.000000e+00],\n",
       "       [-8.464520e-03,  1.853640e-03, -7.024630e-03],\n",
       "       [ 9.818610e-03,  1.500391e-02,  1.478666e-02],\n",
       "       [-5.753930e-03,  3.050000e-06, -1.735204e-02],\n",
       "       [ 1.502407e-02,  8.102160e-03,  5.387760e-03],\n",
       "       [ 9.094310e-03,  3.194920e-03, -6.427010e-03],\n",
       "       [-8.042640e-03,  9.642650e-03, -1.917115e-02],\n",
       "       [ 7.458350e-03, -1.704125e-02, -1.992032e-02],\n",
       "       [ 1.077130e-02, -1.945781e-02, -1.781570e-03],\n",
       "       [ 1.246368e-02,  1.388959e-02,  1.070112e-02]])"
      ]
     },
     "execution_count": 21,
     "metadata": {},
     "output_type": "execute_result"
    }
   ],
   "source": [
    "yambo_data.kpoints[0:10]"
   ]
  },
  {
   "cell_type": "markdown",
   "metadata": {},
   "source": [
    "Again the $k$ points are the same."
   ]
  },
  {
   "cell_type": "code",
   "execution_count": null,
   "metadata": {},
   "outputs": [],
   "source": []
  },
  {
   "cell_type": "code",
   "execution_count": null,
   "metadata": {},
   "outputs": [],
   "source": [
    "######################################"
   ]
  },
  {
   "cell_type": "code",
   "execution_count": 4,
   "metadata": {},
   "outputs": [],
   "source": [
    "import numpy as np\n",
    "import os"
   ]
  },
  {
   "cell_type": "code",
   "execution_count": 35,
   "metadata": {},
   "outputs": [],
   "source": [
    "source_dir = 'Pw_bands/gaas_nscf_so.save'\n",
    "run_dir = 'YamboParser_test/DipolesParser'"
   ]
  },
  {
   "cell_type": "code",
   "execution_count": 36,
   "metadata": {},
   "outputs": [],
   "source": [
    "xml = os.path.join(source_dir,'data-file-schema.xml')\n",
    "nsdb = os.path.join(run_dir,'SAVE','ns.db1')"
   ]
  },
  {
   "cell_type": "code",
   "execution_count": 49,
   "metadata": {},
   "outputs": [
    {
     "name": "stdout",
     "output_type": "stream",
     "text": [
      "Parse file : Pw_bands/gaas_nscf_so.save/data-file-schema.xml\n",
      "Parse file : YamboParser_test/DipolesParser/SAVE/ns.db1\n"
     ]
    }
   ],
   "source": [
    "pw_data = P.PwParser(xml)\n",
    "yambo_data = P.YamboDftParser(nsdb)"
   ]
  },
  {
   "cell_type": "code",
   "execution_count": 58,
   "metadata": {},
   "outputs": [
    {
     "data": {
      "text/plain": [
       "array([[ 0.00000000e+00,  0.00000000e+00,  0.00000000e+00],\n",
       "       [-1.66666667e-01,  1.66666667e-01, -1.66666667e-01],\n",
       "       [-3.33333333e-01,  3.33333333e-01, -3.33333333e-01],\n",
       "       [ 5.00000000e-01, -5.00000000e-01,  5.00000000e-01],\n",
       "       [ 0.00000000e+00,  3.33333333e-01,  0.00000000e+00],\n",
       "       [-1.66666667e-01,  5.00000000e-01, -1.66666667e-01],\n",
       "       [ 6.66666667e-01, -3.33333333e-01,  6.66666667e-01],\n",
       "       [ 5.00000000e-01, -1.66666667e-01,  5.00000000e-01],\n",
       "       [ 3.33333333e-01,  2.77555756e-17,  3.33333333e-01],\n",
       "       [ 0.00000000e+00,  6.66666667e-01,  0.00000000e+00],\n",
       "       [ 8.33333333e-01, -1.66666667e-01,  8.33333333e-01],\n",
       "       [ 6.66666667e-01, -5.55111512e-17,  6.66666667e-01],\n",
       "       [ 0.00000000e+00, -1.00000000e+00,  0.00000000e+00],\n",
       "       [ 6.66666667e-01, -3.33333333e-01,  1.00000000e+00],\n",
       "       [ 5.00000000e-01, -1.66666667e-01,  8.33333333e-01],\n",
       "       [-3.33333333e-01, -1.00000000e+00,  0.00000000e+00]])"
      ]
     },
     "execution_count": 58,
     "metadata": {},
     "output_type": "execute_result"
    }
   ],
   "source": [
    "pw_data.kpoints"
   ]
  },
  {
   "cell_type": "code",
   "execution_count": 51,
   "metadata": {},
   "outputs": [
    {
     "data": {
      "text/plain": [
       "array([[-5.3385,  0.    ,  5.3385],\n",
       "       [ 0.    ,  5.3385,  5.3385],\n",
       "       [-5.3385,  5.3385,  0.    ]])"
      ]
     },
     "execution_count": 51,
     "metadata": {},
     "output_type": "execute_result"
    }
   ],
   "source": [
    "pw_data.lattice"
   ]
  },
  {
   "cell_type": "code",
   "execution_count": 52,
   "metadata": {},
   "outputs": [
    {
     "data": {
      "text/plain": [
       "array([0.    , 5.3385, 5.3385])"
      ]
     },
     "execution_count": 52,
     "metadata": {},
     "output_type": "execute_result"
    }
   ],
   "source": [
    "a1,a2,a3 = pw_data.lattice\n",
    "a2"
   ]
  },
  {
   "cell_type": "code",
   "execution_count": 53,
   "metadata": {},
   "outputs": [
    {
     "data": {
      "text/plain": [
       "304.29003968325"
      ]
     },
     "execution_count": 53,
     "metadata": {},
     "output_type": "execute_result"
    }
   ],
   "source": [
    "pw_data.get_lattice_volume()"
   ]
  },
  {
   "cell_type": "code",
   "execution_count": null,
   "metadata": {},
   "outputs": [],
   "source": []
  },
  {
   "cell_type": "code",
   "execution_count": 54,
   "metadata": {},
   "outputs": [
    {
     "data": {
      "text/plain": [
       "[['Ga', [0.0, 0.0, 0.0]], ['As', [-2.66925, 2.66925, 2.66925]]]"
      ]
     },
     "execution_count": 54,
     "metadata": {},
     "output_type": "execute_result"
    }
   ],
   "source": [
    "pw_data.atomic_positions"
   ]
  },
  {
   "cell_type": "code",
   "execution_count": 55,
   "metadata": {},
   "outputs": [
    {
     "data": {
      "text/plain": [
       "array([10.677, 10.677, 10.677])"
      ]
     },
     "execution_count": 55,
     "metadata": {},
     "output_type": "execute_result"
    }
   ],
   "source": [
    "yambo_data.alat"
   ]
  },
  {
   "cell_type": "code",
   "execution_count": 56,
   "metadata": {},
   "outputs": [
    {
     "data": {
      "text/plain": [
       "array([[-5.3385,  0.    ,  5.3385],\n",
       "       [ 0.    ,  5.3385,  5.3385],\n",
       "       [-5.3385,  5.3385,  0.    ]])"
      ]
     },
     "execution_count": 56,
     "metadata": {},
     "output_type": "execute_result"
    }
   ],
   "source": [
    "yambo_data.lat"
   ]
  },
  {
   "cell_type": "code",
   "execution_count": 57,
   "metadata": {},
   "outputs": [
    {
     "data": {
      "text/plain": [
       "array([[ 0.00000000e+00,  0.00000000e+00,  0.00000000e+00],\n",
       "       [-1.66666667e-01,  1.66666667e-01, -1.66666667e-01],\n",
       "       [-3.33333333e-01,  3.33333333e-01, -3.33333333e-01],\n",
       "       [ 5.00000000e-01, -5.00000000e-01,  5.00000000e-01],\n",
       "       [ 0.00000000e+00,  3.33333333e-01,  0.00000000e+00],\n",
       "       [-1.66666667e-01,  5.00000000e-01, -1.66666667e-01],\n",
       "       [ 6.66666667e-01, -3.33333333e-01,  6.66666667e-01],\n",
       "       [ 5.00000000e-01, -1.66666667e-01,  5.00000000e-01],\n",
       "       [ 3.33333333e-01,  2.77555756e-17,  3.33333333e-01],\n",
       "       [ 0.00000000e+00,  6.66666667e-01,  0.00000000e+00],\n",
       "       [ 8.33333333e-01, -1.66666667e-01,  8.33333333e-01],\n",
       "       [ 6.66666667e-01, -5.55111512e-17,  6.66666667e-01],\n",
       "       [ 0.00000000e+00, -1.00000000e+00,  0.00000000e+00],\n",
       "       [ 6.66666667e-01, -3.33333333e-01,  1.00000000e+00],\n",
       "       [ 5.00000000e-01, -1.66666667e-01,  8.33333333e-01],\n",
       "       [-3.33333333e-01, -1.00000000e+00,  0.00000000e+00]])"
      ]
     },
     "execution_count": 57,
     "metadata": {},
     "output_type": "execute_result"
    }
   ],
   "source": [
    "yambo_data.kpoints"
   ]
  },
  {
   "cell_type": "code",
   "execution_count": 37,
   "metadata": {},
   "outputs": [
    {
     "data": {
      "text/plain": [
       "5.3385"
      ]
     },
     "execution_count": 37,
     "metadata": {},
     "output_type": "execute_result"
    }
   ],
   "source": [
    "10.677/2."
   ]
  },
  {
   "cell_type": "code",
   "execution_count": 65,
   "metadata": {},
   "outputs": [
    {
     "data": {
      "text/plain": [
       "0.10000000000000009"
      ]
     },
     "execution_count": 65,
     "metadata": {},
     "output_type": "execute_result"
    }
   ],
   "source": [
    "1.1%1"
   ]
  },
  {
   "cell_type": "code",
   "execution_count": 64,
   "metadata": {},
   "outputs": [
    {
     "data": {
      "text/plain": [
       "0.8999999999999999"
      ]
     },
     "execution_count": 64,
     "metadata": {},
     "output_type": "execute_result"
    }
   ],
   "source": [
    "-1.1%1"
   ]
  },
  {
   "cell_type": "code",
   "execution_count": 59,
   "metadata": {},
   "outputs": [
    {
     "data": {
      "text/plain": [
       "array([-5.3385,  0.    ,  5.3385])"
      ]
     },
     "execution_count": 59,
     "metadata": {},
     "output_type": "execute_result"
    }
   ],
   "source": [
    "a1,a2,a3 = yambo_data.lat\n",
    "a1"
   ]
  },
  {
   "cell_type": "code",
   "execution_count": 86,
   "metadata": {},
   "outputs": [
    {
     "data": {
      "text/plain": [
       "304.29003968325"
      ]
     },
     "execution_count": 86,
     "metadata": {},
     "output_type": "execute_result"
    }
   ],
   "source": [
    "v = np.dot(a1,np.cross(a2,a3))\n",
    "v"
   ]
  },
  {
   "cell_type": "code",
   "execution_count": 87,
   "metadata": {},
   "outputs": [],
   "source": [
    "b1 = 2*np.pi*np.cross(a2,a3)/v\n",
    "b2 = 2*np.pi*np.cross(a3,a1)/v\n",
    "b3 = 2*np.pi*np.cross(a1,a2)/v"
   ]
  },
  {
   "cell_type": "code",
   "execution_count": 88,
   "metadata": {},
   "outputs": [
    {
     "data": {
      "text/plain": [
       "0.815176907205395"
      ]
     },
     "execution_count": 88,
     "metadata": {},
     "output_type": "execute_result"
    }
   ],
   "source": [
    "np.dot(b1,np.cross(b2,b3))"
   ]
  },
  {
   "cell_type": "code",
   "execution_count": 89,
   "metadata": {},
   "outputs": [
    {
     "data": {
      "text/plain": [
       "0.8151769072053947"
      ]
     },
     "execution_count": 89,
     "metadata": {},
     "output_type": "execute_result"
    }
   ],
   "source": [
    "(2*np.pi)**3/v"
   ]
  },
  {
   "cell_type": "code",
   "execution_count": 76,
   "metadata": {},
   "outputs": [],
   "source": [
    "b1 = np.cross(a2,a3)/v\n",
    "b2 = np.cross(a3,a1)/v\n",
    "b3 = np.cross(a1,a2)/v"
   ]
  },
  {
   "cell_type": "code",
   "execution_count": 81,
   "metadata": {},
   "outputs": [],
   "source": [
    "R = a1+a2+27*a3"
   ]
  },
  {
   "cell_type": "code",
   "execution_count": 82,
   "metadata": {},
   "outputs": [
    {
     "data": {
      "text/plain": [
       "6.283185307179587"
      ]
     },
     "execution_count": 82,
     "metadata": {},
     "output_type": "execute_result"
    }
   ],
   "source": [
    "np.dot(R,b2)"
   ]
  },
  {
   "cell_type": "code",
   "execution_count": 83,
   "metadata": {},
   "outputs": [],
   "source": [
    "alat = yambo_data.alat[0]\n",
    "b1_red = alat/(2*np.pi)*b1\n",
    "b2_red = alat/(2*np.pi)*b2\n",
    "b3_red = alat/(2*np.pi)*b3"
   ]
  },
  {
   "cell_type": "code",
   "execution_count": 84,
   "metadata": {},
   "outputs": [
    {
     "data": {
      "text/plain": [
       "array([-1.,  1., -1.])"
      ]
     },
     "execution_count": 84,
     "metadata": {},
     "output_type": "execute_result"
    }
   ],
   "source": [
    "b3_red"
   ]
  },
  {
   "cell_type": "code",
   "execution_count": 85,
   "metadata": {},
   "outputs": [
    {
     "data": {
      "text/plain": [
       "4.000000000000003"
      ]
     },
     "execution_count": 85,
     "metadata": {},
     "output_type": "execute_result"
    }
   ],
   "source": [
    "np.dot(b1_red,np.cross(b2_red,b3_red))"
   ]
  },
  {
   "cell_type": "code",
   "execution_count": 57,
   "metadata": {},
   "outputs": [
    {
     "data": {
      "text/plain": [
       "array([[-5.3385,  0.    ,  5.3385],\n",
       "       [ 0.    ,  5.3385,  5.3385],\n",
       "       [-5.3385,  5.3385,  0.    ]])"
      ]
     },
     "execution_count": 57,
     "metadata": {},
     "output_type": "execute_result"
    }
   ],
   "source": [
    "lat = yambo_data.lat\n",
    "lat"
   ]
  },
  {
   "cell_type": "code",
   "execution_count": 62,
   "metadata": {},
   "outputs": [
    {
     "data": {
      "text/plain": [
       "array([ 1.03982675e-17,  1.87318535e-01, -1.03982675e-17])"
      ]
     },
     "execution_count": 62,
     "metadata": {},
     "output_type": "execute_result"
    }
   ],
   "source": [
    "p_cart = np.array([0,1,1])\n",
    "p_crys = np.linalg.solve(np.array(lat).T,p_cart)\n",
    "p_crys"
   ]
  },
  {
   "cell_type": "code",
   "execution_count": 63,
   "metadata": {},
   "outputs": [
    {
     "data": {
      "text/plain": [
       "array([0., 1., 1.])"
      ]
     },
     "execution_count": 63,
     "metadata": {},
     "output_type": "execute_result"
    }
   ],
   "source": [
    "p_crys[0]*lat[0]+p_crys[1]*lat[1]+p_crys[2]*lat[2]"
   ]
  },
  {
   "cell_type": "code",
   "execution_count": null,
   "metadata": {},
   "outputs": [],
   "source": []
  },
  {
   "cell_type": "code",
   "execution_count": null,
   "metadata": {},
   "outputs": [],
   "source": []
  },
  {
   "cell_type": "code",
   "execution_count": null,
   "metadata": {},
   "outputs": [],
   "source": []
  }
 ],
 "metadata": {
  "kernelspec": {
   "display_name": "Python 3",
   "language": "python",
   "name": "python3"
  },
  "language_info": {
   "codemirror_mode": {
    "name": "ipython",
    "version": 3
   },
   "file_extension": ".py",
   "mimetype": "text/x-python",
   "name": "python",
   "nbconvert_exporter": "python",
   "pygments_lexer": "ipython3",
   "version": "3.8.5"
  }
 },
 "nbformat": 4,
 "nbformat_minor": 4
}
