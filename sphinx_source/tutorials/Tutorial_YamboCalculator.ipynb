{
 "cells": [
  {
   "cell_type": "code",
   "execution_count": 1,
   "metadata": {},
   "outputs": [],
   "source": [
    "# useful to autoreload the module without restarting the kernel\n",
    "%load_ext autoreload\n",
    "%autoreload 2"
   ]
  },
  {
   "cell_type": "code",
   "execution_count": 2,
   "metadata": {},
   "outputs": [],
   "source": [
    "from mppi import InputFiles as I, Calculators as C"
   ]
  },
  {
   "cell_type": "markdown",
   "metadata": {},
   "source": [
    "# Tutorial for the YamboCalculator class"
   ]
  },
  {
   "cell_type": "markdown",
   "metadata": {},
   "source": [
    "This tutorial describes the usage of the YamboCalculator class, for performing a single calculation\n",
    "with the yambo package."
   ]
  },
  {
   "cell_type": "markdown",
   "metadata": {},
   "source": [
    "## Perform an Hartree-Fock computation for Silicon"
   ]
  },
  {
   "cell_type": "markdown",
   "metadata": {},
   "source": [
    "Follow the tutorial for the QeCalculator to produce the .save folder needed to generate the yambo SAVE.\n",
    "\n",
    "The first step needed to perform a Yambo computation is to generate the SAVE folder from a QuantumESPRESSO\n",
    "computation. \n",
    "\n",
    "The mppi.Utilities module has a function that perform this task"
   ]
  },
  {
   "cell_type": "code",
   "execution_count": 11,
   "metadata": {},
   "outputs": [],
   "source": [
    "from mppi import Utilities as U"
   ]
  },
  {
   "cell_type": "code",
   "execution_count": 12,
   "metadata": {},
   "outputs": [],
   "source": [
    "source_dir = 'QeCalculator_test/si_nscf_test1.save'\n",
    "run_dir = 'YamboCalculator_test'"
   ]
  },
  {
   "cell_type": "code",
   "execution_count": 13,
   "metadata": {},
   "outputs": [
    {
     "name": "stdout",
     "output_type": "stream",
     "text": [
      "Create folder YamboCalculator_test\n",
      "Executing command: cd QeCalculator_test/si_nscf_test1.save; p2y -a 2\n",
      "Executing command: cp -r QeCalculator_test/si_nscf_test1.save/SAVE YamboCalculator_test\n",
      "Executing command: cd YamboCalculator_test;OMP_NUM_THREADS=1 yambo\n"
     ]
    }
   ],
   "source": [
    "U.build_SAVE(source_dir,run_dir)"
   ]
  },
  {
   "cell_type": "markdown",
   "metadata": {},
   "source": [
    "Now the YamboInput class can create the yambo input object"
   ]
  },
  {
   "cell_type": "code",
   "execution_count": 14,
   "metadata": {},
   "outputs": [
    {
     "data": {
      "text/plain": [
       "{'args': 'yambo -x -V rl',\n",
       " 'folder': 'YamboCalculator_test',\n",
       " 'filename': 'yambo.in',\n",
       " 'arguments': ['HF_and_locXC'],\n",
       " 'variables': {'FFTGvecs': [1591.0, 'RL'],\n",
       "  'SE_Threads': [0.0, ''],\n",
       "  'EXXRLvcs': [9377.0, 'RL'],\n",
       "  'QPkrange': [[1, 13, 1, 8], '']}}"
      ]
     },
     "execution_count": 14,
     "metadata": {},
     "output_type": "execute_result"
    }
   ],
   "source": [
    "inp = I.YamboInput(args='yambo -x -V rl',folder=run_dir)\n",
    "inp"
   ]
  },
  {
   "cell_type": "markdown",
   "metadata": {},
   "source": [
    "We restrict the analysis to the first two kpoints"
   ]
  },
  {
   "cell_type": "code",
   "execution_count": 15,
   "metadata": {},
   "outputs": [
    {
     "data": {
      "text/plain": [
       "{'args': 'yambo -x -V rl',\n",
       " 'folder': 'YamboCalculator_test',\n",
       " 'filename': 'yambo.in',\n",
       " 'arguments': ['HF_and_locXC'],\n",
       " 'variables': {'FFTGvecs': [1591.0, 'RL'],\n",
       "  'SE_Threads': [0.0, ''],\n",
       "  'EXXRLvcs': [9377.0, 'RL'],\n",
       "  'QPkrange': [[1, 2, 1, 8], '']}}"
      ]
     },
     "execution_count": 15,
     "metadata": {},
     "output_type": "execute_result"
    }
   ],
   "source": [
    "inp['variables']['QPkrange'] = [[1,2,1,8],'']\n",
    "inp"
   ]
  },
  {
   "cell_type": "markdown",
   "metadata": {},
   "source": [
    "To run the computation we create an istance of YamboCalculator. This object behaves almost exactly as\n",
    "the QeCalculator for what concerns the user interface"
   ]
  },
  {
   "cell_type": "code",
   "execution_count": 21,
   "metadata": {},
   "outputs": [
    {
     "name": "stdout",
     "output_type": "stream",
     "text": [
      "Initialize a Yambo calculator with OMP_NUM_THREADS=1 and command mpirun -np 4 yambo\n"
     ]
    }
   ],
   "source": [
    "code = C.YamboCalculator(omp=1,mpi_run='mpirun -np 4',skip=True)"
   ]
  },
  {
   "cell_type": "code",
   "execution_count": 22,
   "metadata": {},
   "outputs": [
    {
     "data": {
      "text/plain": [
       "{'omp': 1,\n",
       " 'mpi_run': 'mpirun -np 4',\n",
       " 'executable': 'yambo',\n",
       " 'skip': True,\n",
       " 'verbose': True}"
      ]
     },
     "execution_count": 22,
     "metadata": {},
     "output_type": "execute_result"
    }
   ],
   "source": [
    "code.global_options()"
   ]
  },
  {
   "cell_type": "markdown",
   "metadata": {},
   "source": [
    "The structure of the folder in which yambo writes its results is governed by the name and jobname\n",
    "variables. It is possible to provide only the name variable. \n",
    "\n",
    "The effect of this choice can be seen\n",
    "in the command string executed by the calculator"
   ]
  },
  {
   "cell_type": "code",
   "execution_count": 25,
   "metadata": {},
   "outputs": [
    {
     "name": "stdout",
     "output_type": "stream",
     "text": [
      "delete folder: YamboCalculator_test/hf_test1\n",
      "Run directory YamboCalculator_test\n",
      "Executing command: mpirun -np 4 yambo -F hf_test1.in -J hf_test1 -C hf_test1\n"
     ]
    },
    {
     "data": {
      "text/plain": [
       "{'output': ['YamboCalculator_test/hf_test1/o-hf_test1.hf'],\n",
       " 'ndb': ['YamboCalculator_test/hf_test1/ndb.HF_and_locXC']}"
      ]
     },
     "execution_count": 25,
     "metadata": {},
     "output_type": "execute_result"
    }
   ],
   "source": [
    "result = code.run(input = inp, run_dir = run_dir,name='hf_test1)\n",
    "result"
   ]
  },
  {
   "cell_type": "markdown",
   "metadata": {},
   "source": [
    "In this case yambo create the hf_test1 folder and write all the file in this folder. Result is a dictionary with the name of the\n",
    "o- file and ndb database.\n",
    "\n",
    "Instead, if we set also set a jobname we have"
   ]
  },
  {
   "cell_type": "code",
   "execution_count": 26,
   "metadata": {},
   "outputs": [
    {
     "name": "stdout",
     "output_type": "stream",
     "text": [
      "Run directory YamboCalculator_test\n",
      "Executing command: mpirun -np 4 yambo -F hf_test2.in -J hf_job_test2 -C hf_test2\n"
     ]
    },
    {
     "data": {
      "text/plain": [
       "{'output': ['YamboCalculator_test/hf_test2/o-hf_job_test2.hf'],\n",
       " 'ndb': ['YamboCalculator_test/hf_job_test2/ndb.HF_and_locXC']}"
      ]
     },
     "execution_count": 26,
     "metadata": {},
     "output_type": "execute_result"
    }
   ],
   "source": [
    "result = code.run(input = inp, run_dir = run_dir,name='hf_test2',jobname = 'hf_job_test2')\n",
    "result"
   ]
  },
  {
   "cell_type": "markdown",
   "metadata": {},
   "source": [
    "In this case yambo creates also the folder hf_job_test2 and write the database in this folder\n",
    "\n",
    "Let's see what happens if skip is set to False but the directory with the same name of the one that yambo\n",
    "is going to create is found"
   ]
  },
  {
   "cell_type": "code",
   "execution_count": 27,
   "metadata": {},
   "outputs": [
    {
     "name": "stdout",
     "output_type": "stream",
     "text": [
      "delete folder: YamboCalculator_test/hf_test1\n",
      "Run directory YamboCalculator_test\n",
      "Executing command: mpirun -np 4 yambo -F hf_test1.in -J hf_test1 -C hf_test1\n"
     ]
    },
    {
     "data": {
      "text/plain": [
       "{'output': ['YamboCalculator_test/hf_test1/o-hf_test1.hf'],\n",
       " 'ndb': ['YamboCalculator_test/hf_test1/ndb.HF_and_locXC']}"
      ]
     },
     "execution_count": 27,
     "metadata": {},
     "output_type": "execute_result"
    }
   ],
   "source": [
    "result = code.run(input = inp, run_dir = run_dir,name='hf_test1',skip=False)\n",
    "result"
   ]
  },
  {
   "cell_type": "markdown",
   "metadata": {},
   "source": [
    "The YamboCalculator delete the hf_test1 folder before running the computation. \n",
    "\n",
    "In the same way, if also a jobname is specified, the skip = False option provides"
   ]
  },
  {
   "cell_type": "code",
   "execution_count": 28,
   "metadata": {},
   "outputs": [
    {
     "name": "stdout",
     "output_type": "stream",
     "text": [
      "delete folder: YamboCalculator_test/hf_test2\n",
      "delete folder: YamboCalculator_test/hf_job_test2\n",
      "Run directory YamboCalculator_test\n",
      "Executing command: mpirun -np 4 yambo -F hf_test2.in -J hf_job_test2 -C hf_test2\n"
     ]
    },
    {
     "data": {
      "text/plain": [
       "{'output': ['YamboCalculator_test/hf_test2/o-hf_job_test2.hf'],\n",
       " 'ndb': ['YamboCalculator_test/hf_job_test2/ndb.HF_and_locXC']}"
      ]
     },
     "execution_count": 28,
     "metadata": {},
     "output_type": "execute_result"
    }
   ],
   "source": [
    "result = code.run(input = inp, run_dir = run_dir,name='hf_test2',jobname = 'hf_job_test2',skip=False)\n",
    "result"
   ]
  },
  {
   "cell_type": "markdown",
   "metadata": {},
   "source": [
    "## Perform a GW computation for Silicon"
   ]
  },
  {
   "cell_type": "markdown",
   "metadata": {},
   "source": [
    "We make usage of the YamboCalculator to perform a different yambo computation. In this way we control\n",
    "how this class manage the output files and the ndb database in various cases."
   ]
  },
  {
   "cell_type": "code",
   "execution_count": 29,
   "metadata": {},
   "outputs": [],
   "source": [
    "inp = I.YamboInput(args='yambo -d -k hartee -g n -p p -V qp',folder=run_dir)\n",
    "inp['variables']['QPkrange'] = [[1,2,1,8],'']\n",
    "#inp"
   ]
  },
  {
   "cell_type": "code",
   "execution_count": 30,
   "metadata": {},
   "outputs": [
    {
     "name": "stdout",
     "output_type": "stream",
     "text": [
      "Run directory YamboCalculator_test\n",
      "Executing command: mpirun -np 4 yambo -F qp_test1.in -J qp_test1 -C qp_test1\n"
     ]
    },
    {
     "data": {
      "text/plain": [
       "{'output': ['YamboCalculator_test/qp_test1/o-qp_test1.qp'],\n",
       " 'ndb': ['YamboCalculator_test/qp_test1/ndb.pp_fragment_13',\n",
       "  'YamboCalculator_test/qp_test1/ndb.dip_iR_and_P_fragment_2',\n",
       "  'YamboCalculator_test/qp_test1/ndb.dip_iR_and_P_fragment_4',\n",
       "  'YamboCalculator_test/qp_test1/ndb.pp',\n",
       "  'YamboCalculator_test/qp_test1/ndb.pp_fragment_11',\n",
       "  'YamboCalculator_test/qp_test1/ndb.pp_fragment_9',\n",
       "  'YamboCalculator_test/qp_test1/ndb.dip_iR_and_P_fragment_9',\n",
       "  'YamboCalculator_test/qp_test1/ndb.dip_iR_and_P_fragment_12',\n",
       "  'YamboCalculator_test/qp_test1/ndb.dip_iR_and_P_fragment_8',\n",
       "  'YamboCalculator_test/qp_test1/ndb.QP',\n",
       "  'YamboCalculator_test/qp_test1/ndb.dip_iR_and_P_fragment_13',\n",
       "  'YamboCalculator_test/qp_test1/ndb.dip_iR_and_P_fragment_6',\n",
       "  'YamboCalculator_test/qp_test1/ndb.HF_and_locXC',\n",
       "  'YamboCalculator_test/qp_test1/ndb.pp_fragment_2',\n",
       "  'YamboCalculator_test/qp_test1/ndb.pp_fragment_4',\n",
       "  'YamboCalculator_test/qp_test1/ndb.dip_iR_and_P_fragment_1',\n",
       "  'YamboCalculator_test/qp_test1/ndb.pp_fragment_6',\n",
       "  'YamboCalculator_test/qp_test1/ndb.dip_iR_and_P_fragment_10',\n",
       "  'YamboCalculator_test/qp_test1/ndb.dip_iR_and_P_fragment_5',\n",
       "  'YamboCalculator_test/qp_test1/ndb.pp_fragment_12',\n",
       "  'YamboCalculator_test/qp_test1/ndb.pp_fragment_7',\n",
       "  'YamboCalculator_test/qp_test1/ndb.dip_iR_and_P_fragment_3',\n",
       "  'YamboCalculator_test/qp_test1/ndb.dip_iR_and_P',\n",
       "  'YamboCalculator_test/qp_test1/ndb.pp_fragment_3',\n",
       "  'YamboCalculator_test/qp_test1/ndb.dip_iR_and_P_fragment_7',\n",
       "  'YamboCalculator_test/qp_test1/ndb.pp_fragment_10',\n",
       "  'YamboCalculator_test/qp_test1/ndb.dip_iR_and_P_fragment_11',\n",
       "  'YamboCalculator_test/qp_test1/ndb.pp_fragment_5',\n",
       "  'YamboCalculator_test/qp_test1/ndb.pp_fragment_1',\n",
       "  'YamboCalculator_test/qp_test1/ndb.pp_fragment_8']}"
      ]
     },
     "execution_count": 30,
     "metadata": {},
     "output_type": "execute_result"
    }
   ],
   "source": [
    "result = code.run(input = inp, run_dir = run_dir,name='qp_test1')\n",
    "result"
   ]
  },
  {
   "cell_type": "markdown",
   "metadata": {},
   "source": [
    "Perform the same computation but specify also a jobname "
   ]
  },
  {
   "cell_type": "code",
   "execution_count": 33,
   "metadata": {},
   "outputs": [
    {
     "name": "stdout",
     "output_type": "stream",
     "text": [
      "Run directory YamboCalculator_test\n",
      "Skip the computation for input qp_test2\n"
     ]
    },
    {
     "data": {
      "text/plain": [
       "{'output': ['YamboCalculator_test/qp_test2/o-qp_job_test2.qp'],\n",
       " 'ndb': ['YamboCalculator_test/qp_job_test2/ndb.pp_fragment_13',\n",
       "  'YamboCalculator_test/qp_job_test2/ndb.dip_iR_and_P_fragment_2',\n",
       "  'YamboCalculator_test/qp_job_test2/ndb.dip_iR_and_P_fragment_4',\n",
       "  'YamboCalculator_test/qp_job_test2/ndb.pp',\n",
       "  'YamboCalculator_test/qp_job_test2/ndb.pp_fragment_11',\n",
       "  'YamboCalculator_test/qp_job_test2/ndb.pp_fragment_9',\n",
       "  'YamboCalculator_test/qp_job_test2/ndb.dip_iR_and_P_fragment_9',\n",
       "  'YamboCalculator_test/qp_job_test2/ndb.dip_iR_and_P_fragment_12',\n",
       "  'YamboCalculator_test/qp_job_test2/ndb.dip_iR_and_P_fragment_8',\n",
       "  'YamboCalculator_test/qp_job_test2/ndb.QP',\n",
       "  'YamboCalculator_test/qp_job_test2/ndb.dip_iR_and_P_fragment_13',\n",
       "  'YamboCalculator_test/qp_job_test2/ndb.dip_iR_and_P_fragment_6',\n",
       "  'YamboCalculator_test/qp_job_test2/ndb.HF_and_locXC',\n",
       "  'YamboCalculator_test/qp_job_test2/ndb.pp_fragment_2',\n",
       "  'YamboCalculator_test/qp_job_test2/ndb.pp_fragment_4',\n",
       "  'YamboCalculator_test/qp_job_test2/ndb.dip_iR_and_P_fragment_1',\n",
       "  'YamboCalculator_test/qp_job_test2/ndb.pp_fragment_6',\n",
       "  'YamboCalculator_test/qp_job_test2/ndb.dip_iR_and_P_fragment_10',\n",
       "  'YamboCalculator_test/qp_job_test2/ndb.dip_iR_and_P_fragment_5',\n",
       "  'YamboCalculator_test/qp_job_test2/ndb.pp_fragment_12',\n",
       "  'YamboCalculator_test/qp_job_test2/ndb.pp_fragment_7',\n",
       "  'YamboCalculator_test/qp_job_test2/ndb.dip_iR_and_P_fragment_3',\n",
       "  'YamboCalculator_test/qp_job_test2/ndb.dip_iR_and_P',\n",
       "  'YamboCalculator_test/qp_job_test2/ndb.pp_fragment_3',\n",
       "  'YamboCalculator_test/qp_job_test2/ndb.dip_iR_and_P_fragment_7',\n",
       "  'YamboCalculator_test/qp_job_test2/ndb.pp_fragment_10',\n",
       "  'YamboCalculator_test/qp_job_test2/ndb.dip_iR_and_P_fragment_11',\n",
       "  'YamboCalculator_test/qp_job_test2/ndb.pp_fragment_5',\n",
       "  'YamboCalculator_test/qp_job_test2/ndb.pp_fragment_1',\n",
       "  'YamboCalculator_test/qp_job_test2/ndb.pp_fragment_8']}"
      ]
     },
     "execution_count": 33,
     "metadata": {},
     "output_type": "execute_result"
    }
   ],
   "source": [
    "result = code.run(input = inp, run_dir = run_dir,name='qp_test2',jobname = 'qp_job_test2')\n",
    "result"
   ]
  },
  {
   "cell_type": "markdown",
   "metadata": {},
   "source": [
    "We need to set the _get_ndb_names() method properly to extract only the database that we need."
   ]
  },
  {
   "cell_type": "code",
   "execution_count": null,
   "metadata": {},
   "outputs": [],
   "source": []
  }
 ],
 "metadata": {
  "kernelspec": {
   "display_name": "Python 3",
   "language": "python",
   "name": "python3"
  },
  "language_info": {
   "codemirror_mode": {
    "name": "ipython",
    "version": 3
   },
   "file_extension": ".py",
   "mimetype": "text/x-python",
   "name": "python",
   "nbconvert_exporter": "python",
   "pygments_lexer": "ipython3",
   "version": "3.6.9"
  }
 },
 "nbformat": 4,
 "nbformat_minor": 4
}
