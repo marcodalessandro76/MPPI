{
 "cells": [
  {
   "cell_type": "code",
   "execution_count": 1,
   "metadata": {},
   "outputs": [],
   "source": [
    "# useful to autoreload the module without restarting the kernel\n",
    "%load_ext autoreload\n",
    "%autoreload 2"
   ]
  },
  {
   "cell_type": "code",
   "execution_count": 2,
   "metadata": {},
   "outputs": [],
   "source": [
    "from mppi import InputFiles as I, Calculators as C"
   ]
  },
  {
   "cell_type": "markdown",
   "metadata": {},
   "source": [
    "# Tutorial for the YamboCalculator class"
   ]
  },
  {
   "cell_type": "markdown",
   "metadata": {},
   "source": [
    "This tutorial describes the usage of the YamboCalculator class, for performing a single calculation\n",
    "with the yambo package."
   ]
  },
  {
   "cell_type": "markdown",
   "metadata": {},
   "source": [
    "## Perform an Hartree-Fock computation for Silicon"
   ]
  },
  {
   "cell_type": "markdown",
   "metadata": {},
   "source": [
    "__Follow the tutorial for the QeCalculator to produce the .save folder needed to generate the yambo SAVE.__\n",
    "\n",
    "The first step needed to perform a Yambo computation is to generate the SAVE folder from a QuantumESPRESSO\n",
    "computation. \n",
    "\n",
    "The mppi.Utilities module has a function that perform this task"
   ]
  },
  {
   "cell_type": "code",
   "execution_count": 3,
   "metadata": {},
   "outputs": [],
   "source": [
    "from mppi import Utilities as U"
   ]
  },
  {
   "cell_type": "code",
   "execution_count": 4,
   "metadata": {},
   "outputs": [],
   "source": [
    "source_dir = 'QeCalculator_test/si_nscf_test1.save'\n",
    "run_dir = 'YamboCalculator_test'"
   ]
  },
  {
   "cell_type": "code",
   "execution_count": 5,
   "metadata": {},
   "outputs": [
    {
     "name": "stdout",
     "output_type": "stream",
     "text": [
      "Create folder YamboCalculator_test\n",
      "Executing command: cd QeCalculator_test/si_nscf_test1.save; p2y -a 2\n",
      "Executing command: ln -s /home/marco/Applications/MPPI/sphinx_source/tutorials/QeCalculator_test/si_nscf_test1.save/SAVE /home/marco/Applications/MPPI/sphinx_source/tutorials/YamboCalculator_test\n",
      "Executing command: cd YamboCalculator_test;OMP_NUM_THREADS=1 yambo\n"
     ]
    }
   ],
   "source": [
    "U.build_SAVE(source_dir,run_dir)"
   ]
  },
  {
   "cell_type": "markdown",
   "metadata": {},
   "source": [
    "Now the YamboInput class can create the yambo input object"
   ]
  },
  {
   "cell_type": "code",
   "execution_count": 6,
   "metadata": {},
   "outputs": [
    {
     "data": {
      "text/plain": [
       "{'args': 'yambo -x -V rl',\n",
       " 'folder': 'YamboCalculator_test',\n",
       " 'filename': 'yambo.in',\n",
       " 'arguments': ['HF_and_locXC'],\n",
       " 'variables': {'FFTGvecs': [1591.0, 'RL'],\n",
       "  'SE_Threads': [0.0, ''],\n",
       "  'EXXRLvcs': [9377.0, 'RL'],\n",
       "  'VXCRLvcs': [9377.0, 'RL'],\n",
       "  'QPkrange': [[1, 13, 1, 8], '']}}"
      ]
     },
     "execution_count": 6,
     "metadata": {},
     "output_type": "execute_result"
    }
   ],
   "source": [
    "inp = I.YamboInput(args='yambo -x -V rl',folder=run_dir)\n",
    "inp"
   ]
  },
  {
   "cell_type": "markdown",
   "metadata": {},
   "source": [
    "We restrict the analysis to the first two kpoints"
   ]
  },
  {
   "cell_type": "code",
   "execution_count": 7,
   "metadata": {},
   "outputs": [
    {
     "data": {
      "text/plain": [
       "{'args': 'yambo -x -V rl',\n",
       " 'folder': 'YamboCalculator_test',\n",
       " 'filename': 'yambo.in',\n",
       " 'arguments': ['HF_and_locXC'],\n",
       " 'variables': {'FFTGvecs': [1591.0, 'RL'],\n",
       "  'SE_Threads': [0.0, ''],\n",
       "  'EXXRLvcs': [9377.0, 'RL'],\n",
       "  'VXCRLvcs': [9377.0, 'RL'],\n",
       "  'QPkrange': [[1, 2, 1, 8], '']}}"
      ]
     },
     "execution_count": 7,
     "metadata": {},
     "output_type": "execute_result"
    }
   ],
   "source": [
    "inp.set_kRange(1,2)\n",
    "inp"
   ]
  },
  {
   "cell_type": "markdown",
   "metadata": {},
   "source": [
    "To run the computation we create an istance of YamboCalculator. This object behaves almost exactly as\n",
    "the QeCalculator for what concerns the user interface"
   ]
  },
  {
   "cell_type": "code",
   "execution_count": 5,
   "metadata": {},
   "outputs": [
    {
     "name": "stdout",
     "output_type": "stream",
     "text": [
      "Initialize a Yambo calculator with OMP_NUM_THREADS=1 and command mpirun -np 4 yambo\n"
     ]
    }
   ],
   "source": [
    "code = C.YamboCalculator(omp=1,mpi_run='mpirun -np 4',skip=True)"
   ]
  },
  {
   "cell_type": "code",
   "execution_count": 9,
   "metadata": {},
   "outputs": [
    {
     "data": {
      "text/plain": [
       "{'omp': 1,\n",
       " 'mpi_run': 'mpirun -np 4',\n",
       " 'executable': 'yambo',\n",
       " 'skip': True,\n",
       " 'verbose': True}"
      ]
     },
     "execution_count": 9,
     "metadata": {},
     "output_type": "execute_result"
    }
   ],
   "source": [
    "code.global_options()"
   ]
  },
  {
   "cell_type": "markdown",
   "metadata": {},
   "source": [
    "The structure of the folder in which yambo writes its results is governed by the name and jobname\n",
    "variables. It is possible to provide only the name variable. \n",
    "\n",
    "The effect of this choice can be seen\n",
    "in the command string executed by the calculator"
   ]
  },
  {
   "cell_type": "code",
   "execution_count": 10,
   "metadata": {},
   "outputs": [
    {
     "name": "stdout",
     "output_type": "stream",
     "text": [
      "Run directory YamboCalculator_test\n",
      "Executing command: mpirun -np 4 yambo -F hf_test1.in -J hf_test1 -C hf_test1\n"
     ]
    },
    {
     "data": {
      "text/plain": [
       "{'output': ['YamboCalculator_test/hf_test1/o-hf_test1.hf'],\n",
       " 'ndb_folder': 'hf_test1'}"
      ]
     },
     "execution_count": 10,
     "metadata": {},
     "output_type": "execute_result"
    }
   ],
   "source": [
    "result = code.run(input = inp, run_dir = run_dir,name='hf_test1')\n",
    "result"
   ]
  },
  {
   "cell_type": "markdown",
   "metadata": {},
   "source": [
    "In this case yambo create the hf_test1 folder and write all the file in this folder. Result is a dictionary with the name of the\n",
    "o- file and the folder that contains the ndb database.\n",
    "\n",
    "Instead, if we set also set a jobname we have"
   ]
  },
  {
   "cell_type": "code",
   "execution_count": 11,
   "metadata": {},
   "outputs": [
    {
     "name": "stdout",
     "output_type": "stream",
     "text": [
      "Run directory YamboCalculator_test\n",
      "Executing command: mpirun -np 4 yambo -F hf_test2.in -J hf_job_test2 -C hf_test2\n"
     ]
    },
    {
     "data": {
      "text/plain": [
       "{'output': ['YamboCalculator_test/hf_test2/o-hf_job_test2.hf'],\n",
       " 'ndb_folder': 'hf_job_test2'}"
      ]
     },
     "execution_count": 11,
     "metadata": {},
     "output_type": "execute_result"
    }
   ],
   "source": [
    "result = code.run(input = inp, run_dir = run_dir,name='hf_test2',jobname = 'hf_job_test2')\n",
    "result"
   ]
  },
  {
   "cell_type": "markdown",
   "metadata": {},
   "source": [
    "In this case yambo creates also the folder hf_job_test2 and write the database in this folder\n",
    "\n",
    "Let's see what happens if skip is set to False but the directory with the same name of the one that yambo\n",
    "is going to create is found"
   ]
  },
  {
   "cell_type": "code",
   "execution_count": 12,
   "metadata": {},
   "outputs": [
    {
     "name": "stdout",
     "output_type": "stream",
     "text": [
      "delete folder: YamboCalculator_test/hf_test1\n",
      "Run directory YamboCalculator_test\n",
      "Executing command: mpirun -np 4 yambo -F hf_test1.in -J hf_test1 -C hf_test1\n"
     ]
    },
    {
     "data": {
      "text/plain": [
       "{'output': ['YamboCalculator_test/hf_test1/o-hf_test1.hf'],\n",
       " 'ndb_folder': 'hf_test1'}"
      ]
     },
     "execution_count": 12,
     "metadata": {},
     "output_type": "execute_result"
    }
   ],
   "source": [
    "result = code.run(input = inp, run_dir = run_dir,name='hf_test1',skip=False)\n",
    "result"
   ]
  },
  {
   "cell_type": "markdown",
   "metadata": {},
   "source": [
    "The YamboCalculator delete the hf_test1 folder before running the computation. \n",
    "\n",
    "In the same way, if also a jobname is specified, the skip = False option provides"
   ]
  },
  {
   "cell_type": "code",
   "execution_count": 13,
   "metadata": {},
   "outputs": [
    {
     "name": "stdout",
     "output_type": "stream",
     "text": [
      "delete folder: YamboCalculator_test/hf_test2\n",
      "delete folder: YamboCalculator_test/hf_job_test2\n",
      "Run directory YamboCalculator_test\n",
      "Executing command: mpirun -np 4 yambo -F hf_test2.in -J hf_job_test2 -C hf_test2\n"
     ]
    },
    {
     "data": {
      "text/plain": [
       "{'output': ['YamboCalculator_test/hf_test2/o-hf_job_test2.hf'],\n",
       " 'ndb_folder': 'hf_job_test2'}"
      ]
     },
     "execution_count": 13,
     "metadata": {},
     "output_type": "execute_result"
    }
   ],
   "source": [
    "result = code.run(input = inp, run_dir = run_dir,name='hf_test2',jobname = 'hf_job_test2',skip=False)\n",
    "result"
   ]
  },
  {
   "cell_type": "markdown",
   "metadata": {},
   "source": [
    "## Perform a GW computation for Silicon"
   ]
  },
  {
   "cell_type": "markdown",
   "metadata": {},
   "source": [
    "We make usage of the YamboCalculator to perform a different yambo computation. In this way we control\n",
    "how this class manage the output files and the ndb database in various cases."
   ]
  },
  {
   "cell_type": "code",
   "execution_count": 15,
   "metadata": {},
   "outputs": [],
   "source": [
    "inp = I.YamboInput(args='yambo -d -k hartee -g n -p p -V qp',folder=run_dir)\n",
    "inp.set_kRange(1,2)\n",
    "#inp"
   ]
  },
  {
   "cell_type": "code",
   "execution_count": 16,
   "metadata": {},
   "outputs": [
    {
     "name": "stdout",
     "output_type": "stream",
     "text": [
      "Run directory YamboCalculator_test\n",
      "Executing command: mpirun -np 4 yambo -F qp_test1.in -J qp_test1 -C qp_test1\n"
     ]
    },
    {
     "data": {
      "text/plain": [
       "{'output': ['YamboCalculator_test/qp_test1/o-qp_test1.qp'],\n",
       " 'ndb_folder': 'qp_test1'}"
      ]
     },
     "execution_count": 16,
     "metadata": {},
     "output_type": "execute_result"
    }
   ],
   "source": [
    "result = code.run(input = inp, run_dir = run_dir,name='qp_test1',skip=False)\n",
    "result"
   ]
  },
  {
   "cell_type": "markdown",
   "metadata": {},
   "source": [
    "Perform the same computation but specify also a jobname "
   ]
  },
  {
   "cell_type": "code",
   "execution_count": 17,
   "metadata": {},
   "outputs": [
    {
     "name": "stdout",
     "output_type": "stream",
     "text": [
      "Run directory YamboCalculator_test\n",
      "Executing command: mpirun -np 4 yambo -F qp_test2.in -J qp_job_test2 -C qp_test2\n"
     ]
    },
    {
     "data": {
      "text/plain": [
       "{'output': ['YamboCalculator_test/qp_test2/o-qp_job_test2.qp'],\n",
       " 'ndb_folder': 'qp_job_test2'}"
      ]
     },
     "execution_count": 17,
     "metadata": {},
     "output_type": "execute_result"
    }
   ],
   "source": [
    "result = code.run(input = inp, run_dir = run_dir,name='qp_test2',jobname = 'qp_job_test2')\n",
    "result"
   ]
  },
  {
   "cell_type": "markdown",
   "metadata": {},
   "source": [
    "## Test of the ExtendOut option in the input file"
   ]
  },
  {
   "cell_type": "markdown",
   "metadata": {},
   "source": [
    "The ExtendOut option enables the writing of all the variables in the output files of Yambo. \n",
    "This feature has no effect for an HF computation and we test for a QP one:"
   ]
  },
  {
   "cell_type": "code",
   "execution_count": 16,
   "metadata": {},
   "outputs": [],
   "source": [
    "inp = I.YamboInput(args='yambo -d -k hartee -g n -p p -V qp',folder=run_dir)\n",
    "inp.set_kRange(1,2)\n",
    "inp.set_extendOut()\n",
    "#inp"
   ]
  },
  {
   "cell_type": "code",
   "execution_count": 15,
   "metadata": {},
   "outputs": [
    {
     "name": "stdout",
     "output_type": "stream",
     "text": [
      "Run directory YamboCalculator_test\n",
      "Executing command: mpirun -np 4 yambo -F qp_test_ExtendOut.in -J qp_test_ExtendOut -C qp_test_ExtendOut\n"
     ]
    },
    {
     "data": {
      "text/plain": [
       "{'output': ['YamboCalculator_test/qp_test_ExtendOut/o-qp_test_ExtendOut.qp'],\n",
       " 'ndb_folder': 'qp_test_ExtendOut'}"
      ]
     },
     "execution_count": 15,
     "metadata": {},
     "output_type": "execute_result"
    }
   ],
   "source": [
    "result = code.run(input = inp, run_dir = run_dir,name='qp_test_ExtendOut')\n",
    "result"
   ]
  },
  {
   "cell_type": "markdown",
   "metadata": {},
   "source": [
    "## Perform a ypp computation"
   ]
  },
  {
   "cell_type": "markdown",
   "metadata": {},
   "source": [
    "__Follow the tutorial for the QeCalculator to produce the .save folder needed to generate the yambo SAVE.__\n",
    "\n",
    "The YamboCalculator class can manage also ypp computation.\n",
    "\n",
    "Let's see an example by performing a band calculation along a path"
   ]
  },
  {
   "cell_type": "code",
   "execution_count": 5,
   "metadata": {},
   "outputs": [
    {
     "data": {
      "text/plain": [
       "{'args': 'ypp -s b',\n",
       " 'folder': 'YamboCalculator_test',\n",
       " 'filename': 'ypp.in',\n",
       " 'arguments': [],\n",
       " 'variables': {'OutputAlat': [0.0, ''],\n",
       "  'INTERP_Shell_Fac': [20.0, ''],\n",
       "  'BANDS_steps': [10.0, ''],\n",
       "  'INTERP_mode': 'NN',\n",
       "  'cooIn': 'rlu',\n",
       "  'cooOut': 'rlu',\n",
       "  'CIRCUIT_E_DB_path': 'none',\n",
       "  'BANDS_bands': [[1, 8], ''],\n",
       "  'INTERP_Grid': [['-1', '-1', '-1'], '']}}"
      ]
     },
     "execution_count": 5,
     "metadata": {},
     "output_type": "execute_result"
    }
   ],
   "source": [
    "inp = I.YamboInput(args='ypp -s b',folder=run_dir,filename='ypp.in') \n",
    "inp"
   ]
  },
  {
   "cell_type": "markdown",
   "metadata": {},
   "source": [
    "We define a calculator for ypp. This calculation requires 1 mpirun (see yambo for further information)"
   ]
  },
  {
   "cell_type": "code",
   "execution_count": 6,
   "metadata": {},
   "outputs": [
    {
     "name": "stdout",
     "output_type": "stream",
     "text": [
      "Initialize a Yambo calculator with OMP_NUM_THREADS=1 and command mpirun -np 1 ypp\n"
     ]
    },
    {
     "data": {
      "text/plain": [
       "{'omp': 1,\n",
       " 'mpi_run': 'mpirun -np 1',\n",
       " 'executable': 'ypp',\n",
       " 'skip': False,\n",
       " 'verbose': True}"
      ]
     },
     "execution_count": 6,
     "metadata": {},
     "output_type": "execute_result"
    }
   ],
   "source": [
    "code = C.YamboCalculator(mpi_run='mpirun -np 1',executable='ypp',skip=False)\n",
    "code.global_options()"
   ]
  },
  {
   "cell_type": "markdown",
   "metadata": {},
   "source": [
    "Set the input parameter to perform the band computation along a path"
   ]
  },
  {
   "cell_type": "code",
   "execution_count": 7,
   "metadata": {},
   "outputs": [],
   "source": [
    "# in alat\n",
    "G = [0.,0.,0.]\n",
    "X = [1.,0.,0.]\n",
    "L = [0.5,0.5,0.5]\n",
    "K = [1.0,0.5,0.]\n",
    "path = [L,G,X,K,G]\n",
    "\n",
    "band_range = [2,5]\n",
    "bands_step = 30"
   ]
  },
  {
   "cell_type": "code",
   "execution_count": 8,
   "metadata": {},
   "outputs": [
    {
     "data": {
      "text/plain": [
       "{'args': 'ypp -s b',\n",
       " 'folder': 'YamboCalculator_test',\n",
       " 'filename': 'ypp.in',\n",
       " 'arguments': [],\n",
       " 'variables': {'OutputAlat': [0.0, ''],\n",
       "  'INTERP_Shell_Fac': [20.0, ''],\n",
       "  'BANDS_steps': [30, ''],\n",
       "  'INTERP_mode': 'NN',\n",
       "  'cooIn': 'alat',\n",
       "  'cooOut': 'alat',\n",
       "  'CIRCUIT_E_DB_path': 'none',\n",
       "  'BANDS_bands': [[2, 5], ''],\n",
       "  'INTERP_Grid': [['-1', '-1', '-1'], ''],\n",
       "  'BANDS_kpts': [[[0.5, 0.5, 0.5],\n",
       "    [0.0, 0.0, 0.0],\n",
       "    [1.0, 0.0, 0.0],\n",
       "    [1.0, 0.5, 0.0],\n",
       "    [0.0, 0.0, 0.0]],\n",
       "   '']}}"
      ]
     },
     "execution_count": 8,
     "metadata": {},
     "output_type": "execute_result"
    }
   ],
   "source": [
    "# scissor\n",
    "# inp['variables']['GfnQP_E'] = [1.0,1.0,1.0]\n",
    "\n",
    "# band structure\n",
    "# Some methods that perform these operation can be added in the YamboInput class\n",
    "inp['variables']['BANDS_steps'] = [bands_step,'']\n",
    "inp['variables']['BANDS_bands'] = [band_range,'']\n",
    "inp['variables']['BANDS_kpts'] = [path,'']\n",
    "inp['variables']['cooIn'] = 'alat'\n",
    "inp['variables']['cooOut'] = 'alat'\n",
    "inp"
   ]
  },
  {
   "cell_type": "code",
   "execution_count": 12,
   "metadata": {},
   "outputs": [
    {
     "name": "stdout",
     "output_type": "stream",
     "text": [
      "delete folder: YamboCalculator_test/bands_test1\n",
      "Run directory YamboCalculator_test\n",
      "Executing command: mpirun -np 1 ypp -F bands_test1.in -J bands_test1 -C bands_test1\n"
     ]
    },
    {
     "data": {
      "text/plain": [
       "{'output': ['YamboCalculator_test/bands_test1/o-bands_test1.bands_interpolated'],\n",
       " 'ndb_folder': 'bands_test1'}"
      ]
     },
     "execution_count": 12,
     "metadata": {},
     "output_type": "execute_result"
    }
   ],
   "source": [
    "result = code.run(run_dir=run_dir,input=inp,name='bands_test1')\n",
    "result"
   ]
  },
  {
   "cell_type": "markdown",
   "metadata": {},
   "source": [
    "Result can be parsed using the YamboParser class of this package or other external tools"
   ]
  },
  {
   "cell_type": "markdown",
   "metadata": {},
   "source": [
    "Test the jobname specification for this type of computation"
   ]
  },
  {
   "cell_type": "code",
   "execution_count": 13,
   "metadata": {},
   "outputs": [
    {
     "name": "stdout",
     "output_type": "stream",
     "text": [
      "delete folder: YamboCalculator_test/bands_test2\n",
      "delete folder: YamboCalculator_test/bands_job_test2\n",
      "Run directory YamboCalculator_test\n",
      "Executing command: mpirun -np 1 ypp -F bands_test2.in -J bands_job_test2 -C bands_test2\n"
     ]
    },
    {
     "data": {
      "text/plain": [
       "{'output': ['YamboCalculator_test/bands_test2/o-bands_job_test2.bands_interpolated'],\n",
       " 'ndb_folder': 'bands_job_test2'}"
      ]
     },
     "execution_count": 13,
     "metadata": {},
     "output_type": "execute_result"
    }
   ],
   "source": [
    "result = code.run(run_dir=run_dir,input=inp,name='bands_test2',jobname='bands_job_test2')\n",
    "result"
   ]
  },
  {
   "cell_type": "code",
   "execution_count": null,
   "metadata": {},
   "outputs": [],
   "source": []
  }
 ],
 "metadata": {
  "kernelspec": {
   "display_name": "Python 3",
   "language": "python",
   "name": "python3"
  },
  "language_info": {
   "codemirror_mode": {
    "name": "ipython",
    "version": 3
   },
   "file_extension": ".py",
   "mimetype": "text/x-python",
   "name": "python",
   "nbconvert_exporter": "python",
   "pygments_lexer": "ipython3",
   "version": "3.6.9"
  }
 },
 "nbformat": 4,
 "nbformat_minor": 4
}
