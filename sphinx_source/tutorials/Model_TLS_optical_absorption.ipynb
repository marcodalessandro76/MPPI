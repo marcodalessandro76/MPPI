{
 "cells": [
  {
   "cell_type": "markdown",
   "metadata": {},
   "source": [
    "# TLS description of optical absorption"
   ]
  },
  {
   "cell_type": "markdown",
   "metadata": {},
   "source": [
    "In this notebook we present a two level system (TLS) based description of optical absorption. We analyze the\n",
    "construction of the _Bloch vector_ representation of the model and we discuss the topics needed to deal with the\n",
    "photon eco mechanisms."
   ]
  },
  {
   "cell_type": "markdown",
   "metadata": {},
   "source": [
    "The Hamiltonian of the system is represented as\n",
    "$$\n",
    "H = \\frac{1}{2}\\omega_0 \\sigma_z \\, , \n",
    "$$\n",
    "where $\\sigma_z$ is the Pauli matrix. $H$ is diagonal in the chosen representation with a energy shift \n",
    "between the two levels given by  $\\omega_0$. The eigenstates are represented as\n",
    "$$\n",
    "|1\\rangle = \\left(\\begin{array}{c}\n",
    "1\\\\\n",
    "0\\\\\n",
    "\\end{array} \\right) \\, , \\quad\n",
    "|2\\rangle = \\left(\\begin{array}{c}\n",
    "0\\\\\n",
    "1\\\\\n",
    "\\end{array} \\right) \\, .\n",
    "$$\n",
    "Note that in this notation $|2\\rangle$ describe the GS of the system, while $|1\\rangle$ is the excited state."
   ]
  },
  {
   "cell_type": "markdown",
   "metadata": {},
   "source": [
    "The interaction of the optical pump with the system is described by an Hamiltonian $H^I$ that has only non-diagonal \n",
    "non vanishing matrix elements. \n",
    "\n",
    "The equation of motion (EQM) of the density matrix (DM) are expressed by the Liouville equation\n",
    "$$\n",
    "i \\dot{\\rho} = \\left[H+H^I,\\rho\\right]\n",
    "$$\n",
    "and we can explicitly write the associated equations for the matrix elements of the DM in the chosen basis using\n",
    "the structure of both the Hamitonian defined above. We obtain:\n",
    "$$\n",
    "i \\dot{\\rho}_{11} = H^I_{12}\\rho_{21} - H^I_{21}\\rho_{12} \\\\\n",
    "i \\dot{\\rho}_{22} = H^I_{21}\\rho_{12} - H^I_{12}\\rho_{21} \\\\\n",
    "i \\dot{\\rho}_{12} = \\omega_0\\rho_{12} + H^I_{12}(\\rho_{22}-\\rho_{11}) \\\\\n",
    "i \\dot{\\rho}_{21} = -\\omega_0\\rho_{21} - H^I_{21}(\\rho_{22}-\\rho_{11})\n",
    "$$\n",
    "where $H^I_{12} = \\langle 1|H^I|2\\rangle$ and $H^I_{21} = \\langle 2|H^I|1\\rangle$, furthermore\n",
    "$H^I_{12} = H^{I*}_{21}$ since $H^I$ is hermitian. These equations imply that $\\rho_{21}$ is the complex\n",
    "conjugate of $\\rho_{12}$ and that $\\rho_{11}+\\rho_{22}$ is constant, that is the conservation of the charge."
   ]
  },
  {
   "cell_type": "markdown",
   "metadata": {},
   "source": [
    "## Bloch vector representation"
   ]
  },
  {
   "cell_type": "markdown",
   "metadata": {},
   "source": [
    "The DM is an hermitian operator that satisfy the condition $Tr(\\rho)$ = 1. So it can be represented as\n",
    "$$\n",
    "\\rho = \\frac{1}{2}\\left(1+\\mathbf{u}\\cdot\\mathbf{\\sigma}\\right)\n",
    "$$\n",
    "The parameters $\\mathbf{u}$ are the Bloch vector components associated to the DM and thanks\n",
    "to the properties of the traces of the Pauli matrices can be extracted as $u_{i} = Tr(\\rho\\sigma_i)$.\n",
    "In terms of the matrix elements of the DM the Bloch components read\n",
    "$$\n",
    "u_1 = 2Re(\\rho_{12}) \\, , \\quad\n",
    "u_2 = - 2Im(\\rho_{12}) = 2Im(\\rho_{21})  \\, , \\quad\n",
    "u_3 = \\rho_{11}-\\rho_{22}\n",
    "$$"
   ]
  },
  {
   "cell_type": "markdown",
   "metadata": {},
   "source": [
    "We can derive the EQM for the $u_i$ using their definition, for instance from the equation for $\\rho_{12}$ we have\n",
    "$$\n",
    "i\\left(\\dot{u}_1- i \\dot{u}_2\\right) = \\omega_0 \\left(u_1-iu_2 \\right)\n",
    "-2 \\left( Re(H^I_{12}) + i Im(H^I_{12}) \\right) u_3\n",
    "$$\n",
    "and from the ones for $\\rho_{11}$ and $\\rho_{22}$ we have\n",
    "$$\n",
    "i\\dot{u}_3 = 2 H^I_{12}\\rho_{21} - 2H^{I}_{21}\\rho_{12} = \n",
    "H^I_{12}\\left(u_1+iu_2 \\right) - H^{I}_{21} \\left(u_1-iu_2 \\right)\n",
    "$$\n",
    "so isolating the real and the imaginary parts give the equations for the $u_i$\n",
    "$$\n",
    "\\dot{u}_1 = -\\omega_0 u_2 - 2Im(H^I_{12})u_3 \\\\\n",
    "\\dot{u}_2 = \\omega_0 u_1 - 2Re(H^I_{12})u_3 \\\\\n",
    "\\dot{u}_3 = 2Im(H^I_{12})u_1+ 2Re(H^I_{12})u_2\n",
    "$$"
   ]
  },
  {
   "cell_type": "markdown",
   "metadata": {},
   "source": [
    "## Interaction Hamiltonian and rotating wave approximation (RWA)"
   ]
  },
  {
   "cell_type": "markdown",
   "metadata": {},
   "source": [
    "We consider an interaction between the system and the optical pump described by a dipole interaction, that is\n",
    "$$\n",
    "H^I = - \\mathbf{\\mu}\\cdot\\mathbf{E}(t)\n",
    "$$\n",
    "where $\\mathbf{\\mu}$ is the dipole operator. We choose a linear polarized electric field (say along the $x$ axis).\n",
    "The time dependece of the field is described by a monocromatic wave of energy $\\omega$ times a real slow enevelope function $E_0(t)$.\n",
    "Due to this assumption the matrix element $H^I_{12}$ can be expressed as\n",
    "$$\n",
    "H^I_{12} = - \\mu^{x}_{12} E_0(t) e^{-\\frac{(t-t_0)^2}{2w^2}}sin(\\omega t) \\doteq - \\Omega(t) sin(\\omega t)\n",
    "$$\n",
    "where $\\mu^{x}_{12}$ is matrix element of the component of the dipole parallel to $\\mathbf{E}$ evaluated between the states 1 and 2 and\n",
    "we have introduced the (time-dependent) _Rabi frequency_ $\\Omega(t)$:\n",
    "$$\n",
    "\\Omega(t) = \\Omega_0e^{-\\frac{(t-t_0)^2}{2w^2}} \\, , \\, \\mathrm{where} \\,\\,\n",
    "\\Omega_0 = \\mu^{x}_{12}E_0\n",
    "$$\n",
    "here $\\Omega_0$ is the usual (constant) Rabi frequency (we have set $\\hbar=1$ in this analysis). Note that since $\\mu^{x}_{12}$ is a complex\n",
    "quantity so it is the Rabi frequency and we introduce its real and imaginary parts $\\Omega_R(t)$ and $\\Omega_I(t)$ (as well as the associated constant factors $\\Omega^0_R$ and $\\Omega^0_I$) for the susequent analysis."
   ]
  },
  {
   "cell_type": "markdown",
   "metadata": {},
   "source": [
    "The RWA can be used if we are interested in probing the system with energy of the pump not very different from the energy gap of the system, that is if we introduce the energy shift $\\delta$ as\n",
    "$$\n",
    "\\omega = \\omega_0 + \\delta\n",
    "$$\n",
    "the condition $\\delta \\ll \\omega_0$ is sastisfied. This fact allows us to introduce the rotating wave approximation. To understand this point\n",
    "consider that, for instance, the generic solution for $\\rho_{12}$ can be written as\n",
    "$$\n",
    "\\rho_{12} = Ae^{-i\\omega_0t} + e^{-i\\omega_0t}\\int_{t_0}^{t}dt'e^{i\\omega_0t'}\\Omega(t')sin(\\omega t')\n",
    "\\left(\\rho_{22}-\\rho_{11}\\right)\n",
    "$$\n",
    "Due to the presence of the factor $e^{i\\omega_0 t'}$ in the integral the sine can be splitted into complex exponentials and only the\n",
    "addend $e^{-i\\omega t'}$ gives relevant contributions since the fast oscillating terms cancel. So the interaction matrix element in the RWA\n",
    "read\n",
    "$$\n",
    "H^I_{12} = - \\frac{i}{2} \\Omega(t)e^{-i\\omega t}\n",
    "$$"
   ]
  },
  {
   "cell_type": "markdown",
   "metadata": {},
   "source": [
    "Note that this argument is usually discussed and justified for __constant__ Rabi frequency, however if the envelope function $E_0(t)$ is slow we can split the previous integral into various terms in \n",
    "which the frequency is constant and apply the same argument to all the addends."
   ]
  },
  {
   "cell_type": "markdown",
   "metadata": {},
   "source": [
    "The EQM of the Bloch vector due to the interaction hamiltonian defined above read\n",
    "$$\n",
    "\\dot{u}_1 = -\\omega_0 u_2 +2\\Omega_I(t)sin(\\omega t) u_3 \\\\\n",
    "\\dot{u}_2 = \\omega_0 u_1  +2\\Omega_R(t)sin(\\omega t) u_3 \\\\\n",
    "\\dot{u}_3 = -2\\Omega_I(t)sin(\\omega t)u_1- 2\\Omega_R(t)sin(\\omega t)u_2\n",
    "$$\n",
    "instead, if the RWA is used we have that\n",
    "$$\n",
    "2Re(H_{12}^I) = -\\Omega_R(t)sin(\\omega t) + \\Omega_I(t)cos(\\omega t) \\\\\n",
    "2Im(H_{12}^I) = -\\Omega_R(t)cos(\\omega t) - \\Omega_I(t)sin(\\omega t)\n",
    "$$\n",
    "so the EQM become\n",
    "$$\n",
    "\\dot{u}_1 = -\\omega_0 u_2 + \n",
    "\\left(\\Omega_R(t)cos(\\omega t) + \\Omega_I(t)sin(\\omega t)\\right) u_3 \\\\\n",
    "\\dot{u}_2 = \\omega_0 u_1  + \n",
    "\\left(\\Omega_r^R(t)sin(\\omega t) - \\Omega_I(t)cos(\\omega t)\\right) u_3 \\\\\n",
    "\\dot{u}_3 = -\\left( \\Omega_R(t)cos(\\omega t) + \\Omega_I(t)sin(\\omega t)\\right)u_1- \n",
    "\\left( \\Omega_R(t)sin(\\omega t) - \\Omega_I(t)cos(\\omega t)\\right)u_2\n",
    "$$"
   ]
  },
  {
   "cell_type": "markdown",
   "metadata": {},
   "source": [
    "## Formulation in the rotating frame (RF)"
   ]
  },
  {
   "cell_type": "markdown",
   "metadata": {},
   "source": [
    "The usage of the RWA allows us to express the Bloch vector into a properly chose rotating frame (RF) in which the $u_1$ and $u_2$ components\n",
    "are rotated with the frequency of the pump. In this frame the equations are simpler since the fast fluctuation of energy $\\omega_0$ disappear. \n",
    "\n",
    "The transformation that moves to the RF is\n",
    "$$\n",
    "\\mathbf{u}' = \\Theta \\cdot \\mathbf{u} \\, , \\,\\,\\, with \\quad\n",
    "\\Theta = \\left(\\begin{array}{ccc}\n",
    "cos(\\omega t) & sin(\\omega t) & 0\\\\\n",
    "-sin(\\omega t) & cos(\\omega t) & 0\\\\\n",
    "0 & 0 & 1\n",
    "\\end{array} \\right)\n",
    "$$"
   ]
  },
  {
   "cell_type": "markdown",
   "metadata": {},
   "source": [
    "With some algebra the EOM in this frame read\n",
    "$$\n",
    "\\dot{u}'_1 = \\left(\\omega-\\omega_0\\right)u'_2  + \\Omega_R(t)u_3'= \\delta u'_2 + \\Omega_R(t)u_3'\\\\\n",
    "\\dot{u}'_2 = -\\left(\\omega-\\omega_0\\right)u'_1 - \\Omega_I(t) u'_3 = -\\delta u'_1 - \\Omega_I(t) u'_3 \\\\\n",
    "\\dot{u}'_3 = -\\Omega_R(t) u'_1+\\Omega_I(t) u'_2\n",
    "$$\n",
    "and we observe that the only parameters in this frame are the detuning $\\delta$ and the Rabi frequency.\n",
    "\n",
    "Note that in this derivation of the previous equation $\\Omega_{R,I}(t)$ can be an arbitrary (slowly varying) function \n",
    "of time, so the relevant case of one or several pulse with gaussian profile can be treated within the present formalism."
   ]
  },
  {
   "cell_type": "markdown",
   "metadata": {},
   "source": [
    "It is useful to introduce a change of variables that partially decouples the EQM of the Bloch vector and that evidence the role of the \n",
    "modulus of the Rabi coupling in determining its dynamics.\n",
    "We define\n",
    "$$\n",
    "\\left\\{\\begin{array}{c}\n",
    "x = \\frac{1}{|\\Omega|}\\left(\\Omega_I u'_1 + \\Omega_R u'_2  \\right) \\\\\n",
    "y = \\frac{1}{|\\Omega|}\\left(- \\Omega_R u'_1 + \\Omega_I u'_2    \\right) \\\\\n",
    "z = u'_3\n",
    "\\end{array}\\right. \\,\\, , \\textrm{with inverse} \\quad\n",
    "\\left\\{\\begin{array}{c}\n",
    "u'_1 = \\frac{1}{|\\Omega|}\\left(\\Omega_I x - \\Omega_R y  \\right) \\\\\n",
    "u'_2 = \\frac{1}{|\\Omega|}\\left(\\Omega_R x + \\Omega_I y  \\right) \\\\\n",
    "u'_3 = z\n",
    "\\end{array}\\right.\n",
    "$$\n",
    "Note that the coefficients of the change of variables are built from the ratio between the real and imaginary\n",
    "part of the Rabi coupling with its module. So these quantities are constant also for time dependent pulse and\n",
    "can be computed from the factors $\\Omega^0_R$ and $\\Omega^0_I$ previously defined.\n",
    "\n",
    "In terms of this basis the EQM become\n",
    "$$\n",
    "\\dot{x} = \\delta y \\\\\n",
    "\\dot{y} = -\\delta x -|\\Omega| z \\\\\n",
    "\\dot{z} = |\\Omega| y\n",
    "$$"
   ]
  },
  {
   "cell_type": "markdown",
   "metadata": {},
   "source": [
    "We observe that the description in terms of the $x_i$ variables is equivalent to the one in function of the $u'_i$ if the Rabi coupling is purely imaginary."
   ]
  },
  {
   "cell_type": "markdown",
   "metadata": {},
   "source": [
    "## Analytic solution for constant field"
   ]
  },
  {
   "cell_type": "markdown",
   "metadata": {},
   "source": [
    "We seek for the general solution of the EQM in the RF for a constant field.  \n",
    "We start from a guess for $x$ of the form\n",
    "$$\n",
    "x(t) = Asin(\\Delta t) + Bcos(\\Delta t) + C \\,\\,\\, , with \\quad\n",
    "\\Delta = \\sqrt{\\delta^2+|\\Omega|^2}\n",
    "$$\n",
    "the constants $A,B,C$ will be determined imposing the boundary conditions. Plugging this guess in the EQM \n",
    "for $x$ we obtain\n",
    "$$\n",
    "y(t) = \\frac{B\\Delta}{\\delta}sin(\\Delta t) - \\frac{A\\Delta}{\\delta}cos(\\Delta t) \n",
    "$$\n",
    "and pluggin this expression in the EQM for $y$ allows us to derive the expression of $z$ \n",
    "$$\n",
    "z(t) = \\frac{A\\Omega_r}{\\delta}sin(\\Delta t) +\\frac{B|\\Omega|}{\\delta}cos(\\Delta t) -\\frac{C\\delta}{|\\Omega|}\n",
    "$$\n",
    "pluggin this expression in the EQM for $z$ we obtain $-|\\Omega| y(t)$ as expected, so the guess is correct."
   ]
  },
  {
   "cell_type": "markdown",
   "metadata": {},
   "source": [
    "The constants are determined through the boundary conditions\n",
    "$$\n",
    "x_0 = B+C \\, , \\quad\n",
    "y_0 = - \\frac{A\\Delta}{\\delta} \\, , \\quad\n",
    "z_0 = \\frac{B|\\Omega|}{\\delta} -\\frac{C\\delta}{|\\Omega|}\n",
    "$$\n",
    "and their solution reads\n",
    "$$\n",
    "A = -\\frac{\\delta}{\\Delta}y_0 \\, , \\quad\n",
    "B = \\frac{\\delta^2}{\\Delta^2}x_0 + \\frac{\\delta|\\Omega|}{\\Delta^2}z_0  \\, , \\quad\n",
    "C = \\frac{|\\Omega|^2}{\\Delta^2}x_0 - \\frac{\\delta|\\Omega|}{\\Delta^2}z_0\n",
    "$$"
   ]
  },
  {
   "cell_type": "markdown",
   "metadata": {},
   "source": [
    "The general solution reads\n",
    "$$\n",
    "x(t) = -\\frac{\\delta}{\\Delta}y_0 sin(\\Delta t) + \n",
    "\\left(\\frac{\\delta^2}{\\Delta^2}x_0 + \\frac{\\delta|\\Omega|}{\\Delta^2}z_0\\right)cos(\\Delta t) + \n",
    "\\left( \\frac{|\\Omega|^2}{\\Delta^2}x_0 - \\frac{\\delta|\\Omega|}{\\Delta^2}z_0 \\right)\\\\\n",
    "y(t) = y_0cos(\\Delta t) + \n",
    "\\left( \\frac{\\delta}{\\Delta}x_0 + \\frac{|\\Omega|}{\\Delta}z_0\\right) sin(\\Delta t) \\\\\n",
    "z(t) = - \\frac{|\\Omega|}{\\Delta}y_0sin(\\Delta t) +\n",
    "\\left( \\frac{\\delta|\\Omega|}{\\Delta^2}x_0 + \\frac{|\\Omega|^2}{\\Delta^2}z_0\\right)cos(\\Delta t) +\n",
    "\\left(  \\frac{\\delta^2}{\\Delta^2}z_0 - \\frac{\\delta|\\Omega|}{\\Delta^2}x_0 \\right)\n",
    "$$"
   ]
  },
  {
   "cell_type": "markdown",
   "metadata": {},
   "source": [
    "The solution can be expressed in terms of the Bloch vector in the rotating frame by using the linear relations between the\n",
    "$u'_i$ and the $x_i$ components defined above."
   ]
  },
  {
   "cell_type": "markdown",
   "metadata": {},
   "source": [
    "## Analytic solution for time-dependent field (at $\\delta=0)$"
   ]
  },
  {
   "cell_type": "markdown",
   "metadata": {},
   "source": [
    "For $\\delta=0$ the solution can be parametrized like in the time-dependent case. The only modification\n",
    "is that the argument of the sine and cosine function becomes \n",
    "$$\n",
    "\\theta(t) = \\int_0^t dt' |\\Omega(t')|\n",
    "$$\n",
    "We observe that $\\dot{\\theta}(t) = |\\Omega(t)|$ and so the $u_i$ written in terms of $\\theta(t)$ satisfy the correct EQM with\n",
    "a time-dependent Rabi frequency.\n",
    "\n",
    "$$\n",
    "x(t) = u_1^0 \\\\\n",
    "y(t) = y_0cos(\\theta(t))  + z_0sin(\\theta(t)) \\\\\n",
    "z(t) = - y_0sin(\\theta(t)) + z_0cos(\\theta(t))\n",
    "$$\n"
   ]
  },
  {
   "cell_type": "markdown",
   "metadata": {},
   "source": [
    "On the basis of these equations we see that the area of the pulse is the object that realizes the $\\pi/2$ or the $\\pi$ conditions:\n",
    " * $\\theta=\\pi/2$ :  the system initially in the ground state $u^0=(0,0,-1)$ reach the state with $u_2=-1$ and $u_3=0$, that correspond to an occupation level of the excited state equal to $1/2$.\n",
    " * $\\theta=\\pi$ : the Bloch vector changes sign. If the system starts from the ground state the occupation level of the excited state is maximum.\n",
    " \n",
    "Since $\\Omega(t)$ is parametrized as\n",
    "$$\n",
    "\\Omega(t) = \\Omega_0 e^{-\\frac{1}{2}\\left(\\frac{t-t_0}{w}\\right)^2}\n",
    "$$\n",
    "the $n\\pi$ condition becomes\n",
    "$$\n",
    "\\sqrt{2}w|\\Omega_0| = n\\sqrt{\\pi}\n",
    "$$"
   ]
  },
  {
   "cell_type": "markdown",
   "metadata": {},
   "source": [
    "## A numerical example"
   ]
  },
  {
   "cell_type": "code",
   "execution_count": 1,
   "metadata": {},
   "outputs": [],
   "source": [
    "# useful to autoreload the module without restarting the kernel\n",
    "%load_ext autoreload\n",
    "%autoreload 2"
   ]
  },
  {
   "cell_type": "code",
   "execution_count": 4,
   "metadata": {},
   "outputs": [],
   "source": [
    "import numpy as np\n",
    "from mppi import Utilities as U\n",
    "from mppi.Models import TwoLevelSystems as TLS\n",
    "import matplotlib.pyplot as plt"
   ]
  },
  {
   "cell_type": "code",
   "execution_count": null,
   "metadata": {},
   "outputs": [],
   "source": []
  },
  {
   "cell_type": "code",
   "execution_count": null,
   "metadata": {},
   "outputs": [],
   "source": []
  },
  {
   "cell_type": "markdown",
   "metadata": {},
   "source": [
    "We define the parameters for the numerical analysis and show the results"
   ]
  },
  {
   "cell_type": "code",
   "execution_count": 38,
   "metadata": {},
   "outputs": [],
   "source": [
    "T = 600 #fs\n",
    "tstep = int(1e4)\n",
    "dipole = 1 +1j\n",
    "time = np.linspace(0,T,tstep)\n",
    "\n",
    "fwhm =  100 # fs\n",
    "energy = 1.5 # pulse energy in eV\n",
    "omega = energy/(U.Planck_reduced_ev_ps*1e3) # angular frequency of the pulse"
   ]
  },
  {
   "cell_type": "code",
   "execution_count": 48,
   "metadata": {},
   "outputs": [
    {
     "name": "stdout",
     "output_type": "stream",
     "text": [
      "time unit: fs\n",
      "set width to 42.466090014400955 fs\n",
      "Rabi coupling (fs^-1): (0.010434524642511517+0.010434524642511517j)\n",
      "Rabi coupling (module) (fs^-1): 0.014756646266356059\n",
      "field amplitude (V/m): 129788828.49284193\n",
      "field intensity (kW/cm^2) : 4471405.517491325\n"
     ]
    },
    {
     "data": {
      "text/plain": [
       "{'Omega0': (0.010434524642511517+0.010434524642511517j),\n",
       " 'Omega0_abs': 0.014756646266356059,\n",
       " 'field_amplitude': 129788828.49284193,\n",
       " 'intensity': 4471405.517491325}"
      ]
     },
     "execution_count": 48,
     "metadata": {},
     "output_type": "execute_result"
    }
   ],
   "source": [
    "theta = 0.5*np.pi\n",
    "pars = U.pulseParametersFromTheta(dipole,theta,fwhm=fwhm)\n",
    "pars"
   ]
  },
  {
   "cell_type": "code",
   "execution_count": 40,
   "metadata": {},
   "outputs": [
    {
     "name": "stdout",
     "output_type": "stream",
     "text": [
      "time unit: fs - energy unit: eV\n",
      "period of the oscillations 2.757111798154881 fs\n",
      "width of the pulse 42.466090014400955 fs\n",
      "fwhm of the pulse 100 fs\n"
     ]
    }
   ],
   "source": [
    "pulse = U.gaussianPulse(time,energy=energy,amplitude=pars['field_amplitude'],fwhm=fwhm)"
   ]
  },
  {
   "cell_type": "code",
   "execution_count": 41,
   "metadata": {},
   "outputs": [
    {
     "data": {
      "text/plain": [
       "[<matplotlib.lines.Line2D at 0x7f4151e23070>]"
      ]
     },
     "execution_count": 41,
     "metadata": {},
     "output_type": "execute_result"
    },
    {
     "data": {
      "image/png": "[encoded data removed]",
      "text/plain": [
       "<Figure size 432x288 with 1 Axes>"
      ]
     },
     "metadata": {
      "needs_background": "light"
     },
     "output_type": "display_data"
    }
   ],
   "source": [
    "plt.plot(time,pulse)"
   ]
  },
  {
   "cell_type": "code",
   "execution_count": 42,
   "metadata": {},
   "outputs": [],
   "source": [
    "Omega = lambda t : U.gaussianPulse(t,energy=energy,amplitude=pars['Omega0_abs'],fwhm=fwhm,envelope_only=True,verbose=False)"
   ]
  },
  {
   "cell_type": "code",
   "execution_count": 43,
   "metadata": {},
   "outputs": [],
   "source": [
    "uprime0 = np.array([0.,0.,-1.])"
   ]
  },
  {
   "cell_type": "code",
   "execution_count": 44,
   "metadata": {},
   "outputs": [],
   "source": [
    "uprime = solveBlochEq(uprime0,time,Omega,Omega0 = pars['Omega0'])"
   ]
  },
  {
   "cell_type": "code",
   "execution_count": 45,
   "metadata": {},
   "outputs": [
    {
     "data": {
      "text/plain": [
       "<matplotlib.legend.Legend at 0x7f4151e4b0d0>"
      ]
     },
     "execution_count": 45,
     "metadata": {},
     "output_type": "execute_result"
    },
    {
     "data": {
      "image/png": "[encoded data removed]",
      "text/plain": [
       "<Figure size 720x504 with 1 Axes>"
      ]
     },
     "metadata": {
      "needs_background": "light"
     },
     "output_type": "display_data"
    }
   ],
   "source": [
    "plt.figure(figsize=(10,7))\n",
    "plt.plot(time,uprime[0],label=\"u'1\")\n",
    "plt.plot(time,uprime[1],label=\"u'2\")\n",
    "plt.plot(time,(1+uprime[2])/2,label='carriers')\n",
    "plt.legend()"
   ]
  },
  {
   "cell_type": "code",
   "execution_count": 46,
   "metadata": {},
   "outputs": [],
   "source": [
    "u = convertToRotatingFrame(omega,time,uprime,invert=True)"
   ]
  },
  {
   "cell_type": "code",
   "execution_count": 47,
   "metadata": {},
   "outputs": [
    {
     "data": {
      "text/plain": [
       "<matplotlib.legend.Legend at 0x7f415256a460>"
      ]
     },
     "execution_count": 47,
     "metadata": {},
     "output_type": "execute_result"
    },
    {
     "data": {
      "image/png": "[encoded data removed]",
      "text/plain": [
       "<Figure size 720x504 with 1 Axes>"
      ]
     },
     "metadata": {
      "needs_background": "light"
     },
     "output_type": "display_data"
    }
   ],
   "source": [
    "plt.figure(figsize=(10,7))\n",
    "plt.plot(time,u[0],label='u1')\n",
    "plt.plot(time,u[1],label='u2')\n",
    "plt.plot(time,(1+u[2])/2,label='carriers')\n",
    "plt.legend()"
   ]
  }
 ],
 "metadata": {
  "kernelspec": {
   "display_name": "Python 3",
   "language": "python",
   "name": "python3"
  },
  "language_info": {
   "codemirror_mode": {
    "name": "ipython",
    "version": 3
   },
   "file_extension": ".py",
   "mimetype": "text/x-python",
   "name": "python",
   "nbconvert_exporter": "python",
   "pygments_lexer": "ipython3",
   "version": "3.8.5"
  }
 },
 "nbformat": 4,
 "nbformat_minor": 4
}
