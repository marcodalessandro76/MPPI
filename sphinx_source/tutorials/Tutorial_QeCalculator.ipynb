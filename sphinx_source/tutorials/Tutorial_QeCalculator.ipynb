{
 "cells": [
  {
   "cell_type": "code",
   "execution_count": 1,
   "metadata": {},
   "outputs": [],
   "source": [
    "# useful to autoreload the module without restarting the kernel\n",
    "%load_ext autoreload\n",
    "%autoreload 2"
   ]
  },
  {
   "cell_type": "code",
   "execution_count": 2,
   "metadata": {},
   "outputs": [],
   "source": [
    "from mppi import InputFiles as I, Calculators as C"
   ]
  },
  {
   "cell_type": "markdown",
   "metadata": {},
   "source": [
    "# Tutorial for QeCalculator class"
   ]
  },
  {
   "cell_type": "markdown",
   "metadata": {},
   "source": [
    "This tutorial describes the usage of the QeCalculator class, for performing a single calculation\n",
    "with the QuantumESPRESSO."
   ]
  },
  {
   "cell_type": "code",
   "execution_count": 3,
   "metadata": {},
   "outputs": [],
   "source": [
    "run_dir = 'QeCalculator_test'"
   ]
  },
  {
   "cell_type": "markdown",
   "metadata": {},
   "source": [
    "## Perform an scf computation for silicon"
   ]
  },
  {
   "cell_type": "markdown",
   "metadata": {},
   "source": [
    "We init the PwInput object using an exsisting input file"
   ]
  },
  {
   "cell_type": "code",
   "execution_count": 4,
   "metadata": {},
   "outputs": [
    {
     "data": {
      "text/plain": [
       "{'control': {'verbosity': \"'high'\",\n",
       "  'pseudo_dir': \"'../pseudos'\",\n",
       "  'calculation': \"'scf'\",\n",
       "  'prefix': \"'si_scf'\"},\n",
       " 'system': {'force_symmorphic': '.true.',\n",
       "  'occupations': \"'fixed'\",\n",
       "  'ibrav': '2',\n",
       "  'celldm(1)': '10.3',\n",
       "  'ntyp': '1',\n",
       "  'nat': '2',\n",
       "  'ecutwfc': '40'},\n",
       " 'electrons': {'conv_thr': '1e-08'},\n",
       " 'ions': {},\n",
       " 'cell': {},\n",
       " 'atomic_species': {'Si': ['28.086', 'Si.pbe-mt_fhi.UPF']},\n",
       " 'atomic_positions': {'type': 'crystal',\n",
       "  'values': [['Si', [0.125, 0.125, 0.125]], ['Si', [-0.125, -0.125, -0.125]]]},\n",
       " 'kpoints': {'type': 'automatic',\n",
       "  'values': ([4.0, 4.0, 4.0], [0.0, 0.0, 0.0])},\n",
       " 'cell_parameters': {},\n",
       " 'file': 'IO_files/si_scf.in'}"
      ]
     },
     "execution_count": 4,
     "metadata": {},
     "output_type": "execute_result"
    }
   ],
   "source": [
    "inp = I.PwInput(file='IO_files/si_scf.in')\n",
    "inp"
   ]
  },
  {
   "cell_type": "markdown",
   "metadata": {},
   "source": [
    "To run a computation we need to instanciate the QeCalculator class, specifying the number of omp and\n",
    "the mpi command used by the calculator. For instance"
   ]
  },
  {
   "cell_type": "code",
   "execution_count": 5,
   "metadata": {},
   "outputs": [
    {
     "name": "stdout",
     "output_type": "stream",
     "text": [
      "Initialize a QuantumESPRESSO calculator with OMP_NUM_THREADS=2 and command mpirun -np 4 pw.x\n"
     ]
    }
   ],
   "source": [
    "code = C.QeCalculator(omp = 2, mpi_run='mpirun -np 4', skip = True, verbose= True)"
   ]
  },
  {
   "cell_type": "markdown",
   "metadata": {},
   "source": [
    "The global parameter of the calculator are written in the global options"
   ]
  },
  {
   "cell_type": "code",
   "execution_count": 5,
   "metadata": {},
   "outputs": [
    {
     "data": {
      "text/plain": [
       "{'omp': 2,\n",
       " 'mpi_run': 'mpirun -np 4',\n",
       " 'executable': 'pw.x',\n",
       " 'skip': True,\n",
       " 'verbose': True}"
      ]
     },
     "execution_count": 5,
     "metadata": {},
     "output_type": "execute_result"
    }
   ],
   "source": [
    "code.global_options()"
   ]
  },
  {
   "cell_type": "markdown",
   "metadata": {},
   "source": [
    "The global options can be modified as follows"
   ]
  },
  {
   "cell_type": "code",
   "execution_count": 6,
   "metadata": {},
   "outputs": [
    {
     "data": {
      "text/plain": [
       "{'omp': 1,\n",
       " 'mpi_run': 'mpirun -np 4',\n",
       " 'executable': 'pw.x',\n",
       " 'skip': True,\n",
       " 'verbose': True}"
      ]
     },
     "execution_count": 6,
     "metadata": {},
     "output_type": "execute_result"
    }
   ],
   "source": [
    "code.update_global_options(omp = 1)\n",
    "code.global_options()"
   ]
  },
  {
   "cell_type": "markdown",
   "metadata": {},
   "source": [
    "The computation is executed by the run method. In this method we need to specify the PwInput object used as input, the \n",
    "name of the folder were the computation is executed and the name of the input file that this class write on disk before\n",
    "the run. \n",
    "\n",
    "In general it is convenient to choose the prefix attribute of the input object as the name of the file, so the relation between\n",
    "the input file and the prefix folder we the associated computation is written are evident. In thi way several computations\n",
    "can be performed in the same run_dir without ambiguity, as long as each od that has a distinct prefix."
   ]
  },
  {
   "cell_type": "markdown",
   "metadata": {},
   "source": [
    "In this case we set"
   ]
  },
  {
   "cell_type": "code",
   "execution_count": 7,
   "metadata": {},
   "outputs": [],
   "source": [
    "prefix = 'si_scf_test1'\n",
    "inp.set_prefix(prefix)"
   ]
  },
  {
   "cell_type": "code",
   "execution_count": 8,
   "metadata": {},
   "outputs": [
    {
     "name": "stdout",
     "output_type": "stream",
     "text": [
      "Create the sub-directory 'QeCalculator_test'\n",
      "Run directory QeCalculator_test\n",
      "Executing command: mpirun -np 4 pw.x -inp si_scf_test1.in > si_scf_test1.log\n"
     ]
    }
   ],
   "source": [
    "result = code.run(input = inp, run_dir = run_dir,name=prefix)"
   ]
  },
  {
   "cell_type": "markdown",
   "metadata": {},
   "source": [
    "The arguments passed in the run method complement and overwrite the global options of code.\n",
    "For istance"
   ]
  },
  {
   "cell_type": "code",
   "execution_count": 10,
   "metadata": {},
   "outputs": [
    {
     "name": "stdout",
     "output_type": "stream",
     "text": [
      "delete log file: QeCalculator_test/si_scf_test1.log\n",
      "delete xml file: QeCalculator_test/si_scf_test1.xml\n",
      "delete folder: QeCalculator_test/si_scf_test1.save\n",
      "Run directory QeCalculator_test\n",
      "Executing command: mpirun -np 4 pw.x -inp si_scf_test1.in > si_scf_test1.log\n"
     ]
    }
   ],
   "source": [
    "result = code.run(input = inp, run_dir = run_dir,name=prefix,skip=False)"
   ]
  },
  {
   "cell_type": "markdown",
   "metadata": {},
   "source": [
    "so that the run is no skipped.\n",
    "\n",
    "The specific parameters of the run are written in code.run_options. This dictionary is specific of the given run so that various run with the same code \n",
    "can be performed in different way."
   ]
  },
  {
   "cell_type": "code",
   "execution_count": 11,
   "metadata": {},
   "outputs": [
    {
     "data": {
      "text/plain": [
       "{'omp': 1,\n",
       " 'mpi_run': 'mpirun -np 4',\n",
       " 'executable': 'pw.x',\n",
       " 'skip': False,\n",
       " 'verbose': True,\n",
       " 'input': {'control': {'verbosity': \"'high'\",\n",
       "   'pseudo_dir': \"'../pseudos'\",\n",
       "   'calculation': \"'scf'\",\n",
       "   'prefix': \"'si_scf_test1'\"},\n",
       "  'system': {'force_symmorphic': '.true.',\n",
       "   'occupations': \"'fixed'\",\n",
       "   'ibrav': '2',\n",
       "   'celldm(1)': '10.3',\n",
       "   'ntyp': '1',\n",
       "   'nat': '2',\n",
       "   'ecutwfc': '40'},\n",
       "  'electrons': {'conv_thr': '1e-08'},\n",
       "  'ions': {},\n",
       "  'cell': {},\n",
       "  'atomic_species': {'Si': ['28.086', 'Si.pbe-mt_fhi.UPF']},\n",
       "  'atomic_positions': {'type': 'crystal',\n",
       "   'values': [['Si', [0.125, 0.125, 0.125]],\n",
       "    ['Si', [-0.125, -0.125, -0.125]]]},\n",
       "  'kpoints': {'type': 'automatic',\n",
       "   'values': ([4.0, 4.0, 4.0], [0.0, 0.0, 0.0])},\n",
       "  'cell_parameters': {},\n",
       "  'file': 'IO_files/si_scf.in'},\n",
       " 'run_dir': 'QeCalculator_test',\n",
       " 'name': 'si_scf_test1'}"
      ]
     },
     "execution_count": 11,
     "metadata": {},
     "output_type": "execute_result"
    }
   ],
   "source": [
    "code.run_options"
   ]
  },
  {
   "cell_type": "markdown",
   "metadata": {},
   "source": [
    "If the run of the simulation does not crash the result variable the data-file-schema.xml (including its relative path) for subsequent parsing."
   ]
  },
  {
   "cell_type": "code",
   "execution_count": 12,
   "metadata": {},
   "outputs": [
    {
     "data": {
      "text/plain": [
       "'QeCalculator_test/si_scf_test1.save/data-file-schema.xml'"
      ]
     },
     "execution_count": 12,
     "metadata": {},
     "output_type": "execute_result"
    }
   ],
   "source": [
    "result"
   ]
  },
  {
   "cell_type": "markdown",
   "metadata": {},
   "source": [
    "Instead, let see what happens if the simulation fails if the simuation fails. For instance if we provide an empty input to code"
   ]
  },
  {
   "cell_type": "code",
   "execution_count": 13,
   "metadata": {},
   "outputs": [],
   "source": [
    "inp2 = I.PwInput()"
   ]
  },
  {
   "cell_type": "code",
   "execution_count": 14,
   "metadata": {},
   "outputs": [
    {
     "data": {
      "text/plain": [
       "{'control': {'prefix': \"'si_scf_test2'\"},\n",
       " 'system': {},\n",
       " 'electrons': {},\n",
       " 'ions': {},\n",
       " 'cell': {},\n",
       " 'atomic_species': {},\n",
       " 'atomic_positions': {},\n",
       " 'kpoints': {},\n",
       " 'cell_parameters': {}}"
      ]
     },
     "execution_count": 14,
     "metadata": {},
     "output_type": "execute_result"
    }
   ],
   "source": [
    "prefix = 'si_scf_test2'\n",
    "inp2.set_prefix(prefix)\n",
    "inp2"
   ]
  },
  {
   "cell_type": "code",
   "execution_count": 15,
   "metadata": {},
   "outputs": [
    {
     "name": "stdout",
     "output_type": "stream",
     "text": [
      "Run directory QeCalculator_test\n",
      "Executing command: mpirun -np 4 pw.x -inp si_scf_test2.in > si_scf_test2.log\n"
     ]
    }
   ],
   "source": [
    "result2 = code.run(input = inp2, run_dir = run_dir,name=prefix) \n",
    "result2"
   ]
  },
  {
   "cell_type": "markdown",
   "metadata": {},
   "source": [
    "In this case the output of the run method is empty"
   ]
  },
  {
   "cell_type": "code",
   "execution_count": 16,
   "metadata": {},
   "outputs": [
    {
     "name": "stdout",
     "output_type": "stream",
     "text": [
      "is None\n"
     ]
    }
   ],
   "source": [
    "if result2 is None: print('is None')"
   ]
  },
  {
   "cell_type": "markdown",
   "metadata": {},
   "source": [
    "## Perform a nscf computation for silicon. Usage of the source_dir option"
   ]
  },
  {
   "cell_type": "markdown",
   "metadata": {},
   "source": [
    "We show how to perform a pw nscf calculation using the results of the first scf run as an input.\n",
    "\n",
    "First of all we modify the inp object to set up a nscf calculation with a given number of bands"
   ]
  },
  {
   "cell_type": "code",
   "execution_count": 21,
   "metadata": {},
   "outputs": [],
   "source": [
    "inp.set_nscf(8)\n",
    "prefix = 'si_nscf_test1'\n",
    "inp.set_prefix(prefix)\n",
    "#inp"
   ]
  },
  {
   "cell_type": "markdown",
   "metadata": {},
   "source": [
    "Then, we use the code to setting up the source_dir in the run options"
   ]
  },
  {
   "cell_type": "code",
   "execution_count": 18,
   "metadata": {},
   "outputs": [
    {
     "name": "stdout",
     "output_type": "stream",
     "text": [
      "Copy source_dir QeCalculator_test/si_scf_test1.save in the QeCalculator_test/si_nscf_test1.save\n",
      "Run directory QeCalculator_test\n",
      "Executing command: mpirun -np 4 pw.x -inp si_nscf_test1.in > si_nscf_test1.log\n"
     ]
    }
   ],
   "source": [
    "result3 = code.run(input = inp, run_dir = run_dir,name=prefix,source_dir='QeCalculator_test/si_scf_test1.save',skip = True)"
   ]
  },
  {
   "cell_type": "markdown",
   "metadata": {},
   "source": [
    "In this case result3 contain the xml data of the nscf calculation"
   ]
  },
  {
   "cell_type": "code",
   "execution_count": 19,
   "metadata": {},
   "outputs": [
    {
     "data": {
      "text/plain": [
       "'QeCalculator_test/si_nscf_test1.save/data-file-schema.xml'"
      ]
     },
     "execution_count": 19,
     "metadata": {},
     "output_type": "execute_result"
    }
   ],
   "source": [
    "result3"
   ]
  },
  {
   "cell_type": "markdown",
   "metadata": {},
   "source": [
    "Instead, if skip = False the class delete the existing output files before running the computation again. "
   ]
  },
  {
   "cell_type": "code",
   "execution_count": 20,
   "metadata": {},
   "outputs": [
    {
     "name": "stdout",
     "output_type": "stream",
     "text": [
      "delete log file: QeCalculator_test/si_nscf_test1.log\n",
      "delete xml file: QeCalculator_test/si_nscf_test1.xml\n",
      "delete folder: QeCalculator_test/si_nscf_test1.save\n",
      "Copy source_dir QeCalculator_test/si_scf_test1.save in the QeCalculator_test/si_nscf_test1.save\n",
      "Run directory QeCalculator_test\n",
      "Executing command: mpirun -np 4 pw.x -inp si_nscf_test1.in > si_nscf_test1.log\n"
     ]
    }
   ],
   "source": [
    "result3 = code.run(input = inp, run_dir = run_dir,name=prefix,source_dir='QeCalculator_test/si_scf_test1.save',skip = False)"
   ]
  },
  {
   "cell_type": "code",
   "execution_count": null,
   "metadata": {},
   "outputs": [],
   "source": []
  },
  {
   "cell_type": "code",
   "execution_count": null,
   "metadata": {},
   "outputs": [],
   "source": []
  },
  {
   "cell_type": "code",
   "execution_count": null,
   "metadata": {},
   "outputs": [],
   "source": []
  },
  {
   "cell_type": "code",
   "execution_count": null,
   "metadata": {},
   "outputs": [],
   "source": []
  }
 ],
 "metadata": {
  "kernelspec": {
   "display_name": "Python 3",
   "language": "python",
   "name": "python3"
  },
  "language_info": {
   "codemirror_mode": {
    "name": "ipython",
    "version": 3
   },
   "file_extension": ".py",
   "mimetype": "text/x-python",
   "name": "python",
   "nbconvert_exporter": "python",
   "pygments_lexer": "ipython3",
   "version": "3.6.9"
  }
 },
 "nbformat": 4,
 "nbformat_minor": 4
}
