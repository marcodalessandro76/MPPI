{
 "cells": [
  {
   "cell_type": "code",
   "execution_count": 1,
   "metadata": {},
   "outputs": [],
   "source": [
    "from mppi import InputFiles as I, Calculators as C\n",
    "#from importlib import reload"
   ]
  },
  {
   "cell_type": "markdown",
   "metadata": {},
   "source": [
    "# Tutorial for QeCalculator class"
   ]
  },
  {
   "cell_type": "code",
   "execution_count": 2,
   "metadata": {},
   "outputs": [],
   "source": [
    "inp = I.QeInput(filename='IO_files/si_scf.in')"
   ]
  },
  {
   "cell_type": "code",
   "execution_count": 13,
   "metadata": {},
   "outputs": [
    {
     "data": {
      "text/plain": [
       "{'filename': 'IO_files/si_scf.in',\n",
       " 'control': {'verbosity': \"'high'\",\n",
       "  'pseudo_dir': \"'../pseudos'\",\n",
       "  'calculation': \"'scf'\",\n",
       "  'prefix': \"'ecut_10-k_3'\"},\n",
       " 'system': {'force_symmorphic': '.true.',\n",
       "  'occupations': \"'fixed'\",\n",
       "  'ibrav': '2',\n",
       "  'celldm(1)': '10.3',\n",
       "  'ntyp': '1',\n",
       "  'nat': '2',\n",
       "  'ecutwfc': '10'},\n",
       " 'electrons': {'conv_thr': '1e-08'},\n",
       " 'atomic_species': {'Si': ['28.086', 'Si.pbe-mt_fhi.UPF']},\n",
       " 'atomic_positions': [['Si', [0.125, 0.125, 0.125]],\n",
       "  ['Si', [-0.125, -0.125, -0.125]]],\n",
       " 'atomic_pos_type': 'crystal',\n",
       " 'ktype': 'automatic',\n",
       " 'kpoints': [3.0, 3.0, 3.0],\n",
       " 'shiftk': [0.0, 0.0, 0.0]}"
      ]
     },
     "execution_count": 13,
     "metadata": {},
     "output_type": "execute_result"
    }
   ],
   "source": [
    "inp"
   ]
  },
  {
   "cell_type": "code",
   "execution_count": 3,
   "metadata": {},
   "outputs": [
    {
     "name": "stdout",
     "output_type": "stream",
     "text": [
      "&control\n",
      "         calculation = 'scf'\n",
      "              prefix = 'ecut_10-k_3'\n",
      "          pseudo_dir = '../pseudos'\n",
      "           verbosity = 'high'\n",
      "/&end\n",
      "&system\n",
      "           celldm(1) = 10.3\n",
      "             ecutwfc = 10\n",
      "    force_symmorphic = .true.\n",
      "               ibrav = 2\n",
      "                 nat = 2\n",
      "                ntyp = 1\n",
      "         occupations = 'fixed'\n",
      "/&end\n",
      "&electrons\n",
      "            conv_thr = 1e-08\n",
      "/&end\n",
      "ATOMIC_SPECIES\n",
      "  Si   28.086    Si.pbe-mt_fhi.UPF\n",
      "ATOMIC_POSITIONS { crystal }\n",
      " Si   0.1250000000   0.1250000000   0.1250000000\n",
      " Si  -0.1250000000  -0.1250000000  -0.1250000000\n",
      "K_POINTS { automatic }\n",
      "  3  3  3  0  0  0\n"
     ]
    }
   ],
   "source": [
    "print(inp.convert_string())"
   ]
  },
  {
   "cell_type": "code",
   "execution_count": 4,
   "metadata": {},
   "outputs": [],
   "source": [
    "#reload(C)"
   ]
  },
  {
   "cell_type": "code",
   "execution_count": 5,
   "metadata": {},
   "outputs": [
    {
     "name": "stdout",
     "output_type": "stream",
     "text": [
      "Initialize a QuantumESPRESSO calculator with OMP_NUM_THREADS=2 and command mpirun -np 4 pw.x\n"
     ]
    }
   ],
   "source": [
    "code = C.QeCalculator(omp=2)"
   ]
  },
  {
   "cell_type": "code",
   "execution_count": 6,
   "metadata": {},
   "outputs": [
    {
     "data": {
      "text/plain": [
       "{'omp': '2',\n",
       " 'mpi_run': 'mpirun -np 4',\n",
       " 'executable': 'pw.x',\n",
       " 'skip': False,\n",
       " 'verbose': True}"
      ]
     },
     "execution_count": 6,
     "metadata": {},
     "output_type": "execute_result"
    }
   ],
   "source": [
    "code.global_options()"
   ]
  },
  {
   "cell_type": "code",
   "execution_count": 11,
   "metadata": {},
   "outputs": [
    {
     "name": "stdout",
     "output_type": "stream",
     "text": [
      "copy source_dir\n",
      "Run directory QeCalc_test\n",
      "Skip the computation for input  si_scf\n",
      "run_args {'command': 'mpirun -np 4 pw.x -inp si_scf.in > si_scf.log'} run_results {'results_name': 'QeCalc_test/ecut_10-k_3.xml'}\n",
      "run_updated, again {'command': 'mpirun -np 4 pw.x -inp si_scf.in > si_scf.log', 'results_name': 'QeCalc_test/ecut_10-k_3.xml'}\n",
      "parse file :  mpirun -np 4 pw.x -inp si_scf.in > si_scf.log\n"
     ]
    }
   ],
   "source": [
    "res = code.run(input = inp, run_dir = 'QeCalc_test',name='si_scf',source_dir='source',skip=True) "
   ]
  },
  {
   "cell_type": "code",
   "execution_count": 12,
   "metadata": {},
   "outputs": [
    {
     "data": {
      "text/plain": [
       "-7.828160394451467"
      ]
     },
     "execution_count": 12,
     "metadata": {},
     "output_type": "execute_result"
    }
   ],
   "source": [
    "res.E_tot"
   ]
  },
  {
   "cell_type": "code",
   "execution_count": 13,
   "metadata": {},
   "outputs": [
    {
     "data": {
      "text/plain": [
       "{'omp': '2',\n",
       " 'mpi_run': 'mpirun -np 4',\n",
       " 'executable': 'pw.x',\n",
       " 'skip': True,\n",
       " 'verbose': True,\n",
       " 'input': {'filename': 'IO_files/si_scf.in',\n",
       "  'control': {'verbosity': \"'high'\",\n",
       "   'pseudo_dir': \"'../pseudos'\",\n",
       "   'calculation': \"'scf'\",\n",
       "   'prefix': \"'ecut_10-k_3'\"},\n",
       "  'system': {'force_symmorphic': '.true.',\n",
       "   'occupations': \"'fixed'\",\n",
       "   'ibrav': '2',\n",
       "   'celldm(1)': '10.3',\n",
       "   'ntyp': '1',\n",
       "   'nat': '2',\n",
       "   'ecutwfc': '10'},\n",
       "  'electrons': {'conv_thr': '1e-08'},\n",
       "  'atomic_species': {'Si': ['28.086', 'Si.pbe-mt_fhi.UPF']},\n",
       "  'atomic_positions': [['Si', [0.125, 0.125, 0.125]],\n",
       "   ['Si', [-0.125, -0.125, -0.125]]],\n",
       "  'atomic_pos_type': 'crystal',\n",
       "  'ktype': 'automatic',\n",
       "  'kpoints': [3.0, 3.0, 3.0],\n",
       "  'shiftk': [0.0, 0.0, 0.0]},\n",
       " 'run_dir': 'QeCalc_test',\n",
       " 'name': 'si_scf',\n",
       " 'source_dir': 'source'}"
      ]
     },
     "execution_count": 13,
     "metadata": {},
     "output_type": "execute_result"
    }
   ],
   "source": [
    "code.run_options"
   ]
  },
  {
   "cell_type": "code",
   "execution_count": null,
   "metadata": {},
   "outputs": [],
   "source": []
  },
  {
   "cell_type": "code",
   "execution_count": null,
   "metadata": {},
   "outputs": [],
   "source": []
  },
  {
   "cell_type": "code",
   "execution_count": null,
   "metadata": {},
   "outputs": [],
   "source": []
  },
  {
   "cell_type": "code",
   "execution_count": null,
   "metadata": {},
   "outputs": [],
   "source": []
  },
  {
   "cell_type": "code",
   "execution_count": null,
   "metadata": {},
   "outputs": [],
   "source": []
  }
 ],
 "metadata": {
  "kernelspec": {
   "display_name": "Python 3",
   "language": "python",
   "name": "python3"
  },
  "language_info": {
   "codemirror_mode": {
    "name": "ipython",
    "version": 3
   },
   "file_extension": ".py",
   "mimetype": "text/x-python",
   "name": "python",
   "nbconvert_exporter": "python",
   "pygments_lexer": "ipython3",
   "version": "3.6.8"
  }
 },
 "nbformat": 4,
 "nbformat_minor": 4
}
