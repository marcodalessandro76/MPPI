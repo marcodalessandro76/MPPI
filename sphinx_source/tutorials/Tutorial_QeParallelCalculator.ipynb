{
 "cells": [
  {
   "cell_type": "code",
   "execution_count": 1,
   "metadata": {},
   "outputs": [],
   "source": [
    "# useful to autoreload the module without restarting the kernel\n",
    "%load_ext autoreload\n",
    "%autoreload 2"
   ]
  },
  {
   "cell_type": "code",
   "execution_count": 2,
   "metadata": {},
   "outputs": [],
   "source": [
    "from mppi import InputFiles as I, Calculators as C"
   ]
  },
  {
   "cell_type": "markdown",
   "metadata": {},
   "source": [
    "# Tutorial for QeParallelCalculator class"
   ]
  },
  {
   "cell_type": "markdown",
   "metadata": {},
   "source": [
    "This tutorial describes the usage of the QeParallelCalculator class, for running many calculations in\n",
    "parallel with the QuantumESPRESSO."
   ]
  },
  {
   "cell_type": "code",
   "execution_count": 3,
   "metadata": {},
   "outputs": [],
   "source": [
    "run_dir = 'QeParallelCalculator_test'"
   ]
  },
  {
   "cell_type": "markdown",
   "metadata": {},
   "source": [
    "## Perform many scf computations for silicon"
   ]
  },
  {
   "cell_type": "markdown",
   "metadata": {},
   "source": [
    "We init the PwInput object using an exsisting input file"
   ]
  },
  {
   "cell_type": "code",
   "execution_count": 4,
   "metadata": {},
   "outputs": [],
   "source": [
    "#inp = I.PwInput(file='IO_files/si_scf.in')\n",
    "#inp.set_kpoints(points = [8,8,8])\n",
    "#inp"
   ]
  },
  {
   "cell_type": "code",
   "execution_count": 5,
   "metadata": {},
   "outputs": [],
   "source": [
    "enegy_cutoffs = [40,50,60,70]"
   ]
  },
  {
   "cell_type": "code",
   "execution_count": 6,
   "metadata": {},
   "outputs": [],
   "source": [
    "inputs = []\n",
    "names = []\n",
    "\n",
    "for e in enegy_cutoffs:\n",
    "    inp = I.PwInput(file='IO_files/si_scf.in')\n",
    "    inp.set_kpoints(points = [8,8,8])\n",
    "    prefix = 'ecut_'+str(e)\n",
    "    inp.set_prefix(prefix)\n",
    "    inp.set_energy_cutoff(e)\n",
    "    inputs.append(inp)\n",
    "    names.append(prefix)"
   ]
  },
  {
   "cell_type": "code",
   "execution_count": 7,
   "metadata": {},
   "outputs": [
    {
     "name": "stdout",
     "output_type": "stream",
     "text": [
      "Initialize a parallel QuantumESPRESSO calculator with scheduler direct\n"
     ]
    }
   ],
   "source": [
    "code = C.QeParallelCalculator(skip = False)"
   ]
  },
  {
   "cell_type": "code",
   "execution_count": 8,
   "metadata": {},
   "outputs": [
    {
     "data": {
      "text/plain": [
       "{'omp': 1,\n",
       " 'mpi_run': 'mpirun -np 2',\n",
       " 'isParallel': True,\n",
       " 'scheduler': 'direct',\n",
       " 'executable': 'pw.x',\n",
       " 'skip': False,\n",
       " 'verbose': True}"
      ]
     },
     "execution_count": 8,
     "metadata": {},
     "output_type": "execute_result"
    }
   ],
   "source": [
    "code.global_options()"
   ]
  },
  {
   "cell_type": "code",
   "execution_count": 20,
   "metadata": {},
   "outputs": [
    {
     "name": "stdout",
     "output_type": "stream",
     "text": [
      "delete log file: QeParallelCalculator_test/ecut_40.log\n",
      "delete xml file: QeParallelCalculator_test/ecut_40.xml\n",
      "delete folder: QeParallelCalculator_test/ecut_40.save\n",
      "delete log file: QeParallelCalculator_test/ecut_50.log\n",
      "delete xml file: QeParallelCalculator_test/ecut_50.xml\n",
      "delete folder: QeParallelCalculator_test/ecut_50.save\n",
      "delete log file: QeParallelCalculator_test/ecut_60.log\n",
      "delete xml file: QeParallelCalculator_test/ecut_60.xml\n",
      "delete folder: QeParallelCalculator_test/ecut_60.save\n",
      "delete log file: QeParallelCalculator_test/ecut_70.log\n",
      "delete xml file: QeParallelCalculator_test/ecut_70.xml\n",
      "delete folder: QeParallelCalculator_test/ecut_70.save\n",
      "scheduler direct\n",
      "Executing command: mpirun -np 2 pw.x -inp ecut_40.in > ecut_40.log\n",
      "Executing command: mpirun -np 2 pw.x -inp ecut_50.in > ecut_50.log\n",
      "Executing command: mpirun -np 2 pw.x -inp ecut_60.in > ecut_60.log\n",
      "Executing command: mpirun -np 2 pw.x -inp ecut_70.in > ecut_70.log\n",
      "run0_is_running:True  run1_is_running:True  run2_is_running:True  run3_is_running:True  \n",
      "run0_is_running:True  run1_is_running:True  run2_is_running:True  run3_is_running:True  \n",
      "run0_is_running:True  run1_is_running:True  run2_is_running:True  run3_is_running:True  \n",
      "run0_is_running:False  run1_is_running:True  run2_is_running:True  run3_is_running:True  \n",
      "run0_is_running:False  run1_is_running:False  run2_is_running:False  run3_is_running:True  \n",
      "Job completed\n"
     ]
    },
    {
     "data": {
      "text/plain": [
       "['QeParallelCalculator_test/ecut_40.save/data-file-schema.xml',\n",
       " 'QeParallelCalculator_test/ecut_50.save/data-file-schema.xml',\n",
       " 'QeParallelCalculator_test/ecut_60.save/data-file-schema.xml',\n",
       " 'QeParallelCalculator_test/ecut_70.save/data-file-schema.xml']"
      ]
     },
     "execution_count": 20,
     "metadata": {},
     "output_type": "execute_result"
    }
   ],
   "source": [
    "r = code.run(run_dir=run_dir,inputs=inputs,names=names)\n",
    "r"
   ]
  },
  {
   "cell_type": "code",
   "execution_count": null,
   "metadata": {},
   "outputs": [],
   "source": []
  },
  {
   "cell_type": "code",
   "execution_count": null,
   "metadata": {},
   "outputs": [],
   "source": []
  },
  {
   "cell_type": "code",
   "execution_count": null,
   "metadata": {},
   "outputs": [],
   "source": []
  },
  {
   "cell_type": "code",
   "execution_count": null,
   "metadata": {},
   "outputs": [],
   "source": []
  },
  {
   "cell_type": "code",
   "execution_count": null,
   "metadata": {},
   "outputs": [],
   "source": []
  },
  {
   "cell_type": "code",
   "execution_count": null,
   "metadata": {},
   "outputs": [],
   "source": []
  },
  {
   "cell_type": "code",
   "execution_count": null,
   "metadata": {},
   "outputs": [],
   "source": []
  }
 ],
 "metadata": {
  "kernelspec": {
   "display_name": "Python 3",
   "language": "python",
   "name": "python3"
  },
  "language_info": {
   "codemirror_mode": {
    "name": "ipython",
    "version": 3
   },
   "file_extension": ".py",
   "mimetype": "text/x-python",
   "name": "python",
   "nbconvert_exporter": "python",
   "pygments_lexer": "ipython3",
   "version": "3.6.9"
  }
 },
 "nbformat": 4,
 "nbformat_minor": 4
}
