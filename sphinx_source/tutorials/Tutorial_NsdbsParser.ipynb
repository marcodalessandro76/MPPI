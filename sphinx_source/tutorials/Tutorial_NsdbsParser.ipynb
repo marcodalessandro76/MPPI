{
 "cells": [
  {
   "cell_type": "code",
   "execution_count": 1,
   "metadata": {},
   "outputs": [],
   "source": [
    "# useful to autoreload the module without restarting the kernel\n",
    "%load_ext autoreload\n",
    "%autoreload 2"
   ]
  },
  {
   "cell_type": "code",
   "execution_count": 2,
   "metadata": {},
   "outputs": [],
   "source": [
    "from mppi import Utilities as U, Parsers as P\n",
    "import os"
   ]
  },
  {
   "cell_type": "markdown",
   "metadata": {},
   "source": [
    "# Tutorial for the NsdbsParser class"
   ]
  },
  {
   "cell_type": "markdown",
   "metadata": {},
   "source": [
    "This tutorial describes the usage of the NsdbsParser class, that perform the parsing of the ns.db1 NSCF database\n",
    "created by Yambo in the SAVE folder. \n",
    "\n",
    "This database collects information about the lattice and electronic properties\n",
    "of the system."
   ]
  },
  {
   "cell_type": "markdown",
   "metadata": {},
   "source": [
    "As a first test we consider a Pw nscf computation for GaAs and build the SAVE folder with Yambo"
   ]
  },
  {
   "cell_type": "code",
   "execution_count": 3,
   "metadata": {},
   "outputs": [],
   "source": [
    "source = 'Pw_bands/gaas_nscf.save'\n",
    "yambo_path = 'Yambo_Nsdbs_gaas'"
   ]
  },
  {
   "cell_type": "markdown",
   "metadata": {},
   "source": [
    "We create the Yambo SAVE using the functio of the Utilities module"
   ]
  },
  {
   "cell_type": "code",
   "execution_count": 4,
   "metadata": {},
   "outputs": [
    {
     "name": "stdout",
     "output_type": "stream",
     "text": [
      "SAVE folder already present in Yambo_Nsdbs_gaas. No operations performed.\n"
     ]
    }
   ],
   "source": [
    "U.build_SAVE(source_dir=source,run_dir=yambo_path)"
   ]
  },
  {
   "cell_type": "markdown",
   "metadata": {},
   "source": [
    "We also make a fixsymm to study the content of the ns.db1 database after the fixsym procedure"
   ]
  },
  {
   "cell_type": "code",
   "execution_count": 5,
   "metadata": {},
   "outputs": [
    {
     "name": "stdout",
     "output_type": "stream",
     "text": [
      "FixSymm folder Yambo_Nsdbs_gaas/FixSymm already found. No operations performed.\n"
     ]
    }
   ],
   "source": [
    "U.make_FixSymm(yambo_path)"
   ]
  },
  {
   "cell_type": "markdown",
   "metadata": {},
   "source": [
    "We parse the ns.db1 database, we also parse the Pw data-file-schema.xml to compare the output of\n",
    "the two"
   ]
  },
  {
   "cell_type": "code",
   "execution_count": 6,
   "metadata": {},
   "outputs": [
    {
     "name": "stdout",
     "output_type": "stream",
     "text": [
      "Parse file : Pw_bands/gaas_nscf.save/data-file-schema.xml\n",
      "Parse file : Yambo_Nsdbs_gaas/SAVE/ns.db1\n",
      "Parse file : Yambo_Nsdbs_gaas/FixSymm/SAVE/ns.db1\n"
     ]
    }
   ],
   "source": [
    "pw_data = P.PwParser(os.path.join(source,'data-file-schema.xml'))\n",
    "yambo_data = P.NsdbsParser(save=os.path.join(yambo_path,'SAVE'))\n",
    "yambo_data_fixsym = P.NsdbsParser(save=os.path.join(yambo_path,'FixSymm','SAVE'))"
   ]
  },
  {
   "cell_type": "markdown",
   "metadata": {},
   "source": [
    "We comment on the meaning of some of the attributes of the classes "
   ]
  },
  {
   "cell_type": "markdown",
   "metadata": {},
   "source": [
    "The number of kpoints (actually in the IBZ since they are reduced by the symmetries of the lattice). If the fixsymm is performed\n",
    "only the simmetries preserved by the external field are mantained"
   ]
  },
  {
   "cell_type": "code",
   "execution_count": 7,
   "metadata": {},
   "outputs": [
    {
     "name": "stdout",
     "output_type": "stream",
     "text": [
      "29\n",
      "29\n",
      "164\n"
     ]
    }
   ],
   "source": [
    "print(pw_data.nkpoints)\n",
    "print(yambo_data.nkpoints)\n",
    "print(yambo_data_fixsym.nkpoints)"
   ]
  },
  {
   "cell_type": "code",
   "execution_count": 10,
   "metadata": {},
   "outputs": [
    {
     "name": "stdout",
     "output_type": "stream",
     "text": [
      "48\n",
      "4\n"
     ]
    }
   ],
   "source": [
    "print(len(yambo_data.sym))\n",
    "print(len(yambo_data_fixsym.sym))"
   ]
  },
  {
   "cell_type": "code",
   "execution_count": 12,
   "metadata": {},
   "outputs": [
    {
     "data": {
      "text/plain": [
       "array([2.])"
      ]
     },
     "execution_count": 12,
     "metadata": {},
     "output_type": "execute_result"
    }
   ],
   "source": [
    "sum(pw_data.weights)"
   ]
  },
  {
   "cell_type": "markdown",
   "metadata": {},
   "source": [
    "We compare the values of members and methods in the various cases"
   ]
  },
  {
   "cell_type": "code",
   "execution_count": 13,
   "metadata": {},
   "outputs": [
    {
     "data": {
      "text/plain": [
       "array([[ 0.   ,  0.   ,  0.   ],\n",
       "       [-0.125,  0.125, -0.125],\n",
       "       [-0.25 ,  0.25 , -0.25 ],\n",
       "       [-0.375,  0.375, -0.375],\n",
       "       [ 0.5  , -0.5  ,  0.5  ],\n",
       "       [ 0.   ,  0.25 ,  0.   ],\n",
       "       [-0.125,  0.375, -0.125],\n",
       "       [-0.25 ,  0.5  , -0.25 ],\n",
       "       [ 0.625, -0.375,  0.625],\n",
       "       [ 0.5  , -0.25 ,  0.5  ],\n",
       "       [ 0.375, -0.125,  0.375],\n",
       "       [ 0.25 ,  0.   ,  0.25 ],\n",
       "       [ 0.   ,  0.5  ,  0.   ],\n",
       "       [-0.125,  0.625, -0.125],\n",
       "       [ 0.75 , -0.25 ,  0.75 ],\n",
       "       [ 0.625, -0.125,  0.625],\n",
       "       [ 0.5  ,  0.   ,  0.5  ],\n",
       "       [ 0.   ,  0.75 ,  0.   ],\n",
       "       [ 0.875, -0.125,  0.875],\n",
       "       [ 0.75 ,  0.   ,  0.75 ],\n",
       "       [ 0.   , -1.   ,  0.   ],\n",
       "       [-0.25 ,  0.5  ,  0.   ],\n",
       "       [ 0.625, -0.375,  0.875],\n",
       "       [ 0.5  , -0.25 ,  0.75 ],\n",
       "       [ 0.75 , -0.25 ,  1.   ],\n",
       "       [ 0.625, -0.125,  0.875],\n",
       "       [ 0.5  ,  0.   ,  0.75 ],\n",
       "       [-0.25 , -1.   ,  0.   ],\n",
       "       [-0.5  , -1.   ,  0.   ]])"
      ]
     },
     "execution_count": 13,
     "metadata": {},
     "output_type": "execute_result"
    }
   ],
   "source": [
    "pw_data.kpoints"
   ]
  },
  {
   "cell_type": "code",
   "execution_count": 8,
   "metadata": {},
   "outputs": [
    {
     "data": {
      "text/plain": [
       "array([[ 0.   ,  0.   ,  0.   ],\n",
       "       [-0.125,  0.125, -0.125],\n",
       "       [-0.25 ,  0.25 , -0.25 ],\n",
       "       [-0.375,  0.375, -0.375],\n",
       "       [ 0.5  , -0.5  ,  0.5  ],\n",
       "       [ 0.   ,  0.25 ,  0.   ],\n",
       "       [-0.125,  0.375, -0.125],\n",
       "       [-0.25 ,  0.5  , -0.25 ],\n",
       "       [ 0.625, -0.375,  0.625],\n",
       "       [ 0.5  , -0.25 ,  0.5  ],\n",
       "       [ 0.375, -0.125,  0.375],\n",
       "       [ 0.25 ,  0.   ,  0.25 ],\n",
       "       [ 0.   ,  0.5  ,  0.   ],\n",
       "       [-0.125,  0.625, -0.125],\n",
       "       [ 0.75 , -0.25 ,  0.75 ],\n",
       "       [ 0.625, -0.125,  0.625],\n",
       "       [ 0.5  ,  0.   ,  0.5  ],\n",
       "       [ 0.   ,  0.75 ,  0.   ],\n",
       "       [ 0.875, -0.125,  0.875],\n",
       "       [ 0.75 ,  0.   ,  0.75 ],\n",
       "       [ 0.   , -1.   ,  0.   ],\n",
       "       [-0.25 ,  0.5  ,  0.   ],\n",
       "       [ 0.625, -0.375,  0.875],\n",
       "       [ 0.5  , -0.25 ,  0.75 ],\n",
       "       [ 0.75 , -0.25 ,  1.   ],\n",
       "       [ 0.625, -0.125,  0.875],\n",
       "       [ 0.5  ,  0.   ,  0.75 ],\n",
       "       [-0.25 , -1.   ,  0.   ],\n",
       "       [-0.5  , -1.   ,  0.   ]])"
      ]
     },
     "execution_count": 8,
     "metadata": {},
     "output_type": "execute_result"
    }
   ],
   "source": [
    "yambo_data.kpoints"
   ]
  },
  {
   "cell_type": "code",
   "execution_count": 9,
   "metadata": {},
   "outputs": [
    {
     "data": {
      "text/plain": [
       "array([[ 0.   ,  0.   ,  0.   ],\n",
       "       [-0.125,  0.125, -0.125],\n",
       "       [-0.25 ,  0.25 , -0.25 ],\n",
       "       [-0.375,  0.375, -0.375],\n",
       "       [ 0.5  , -0.5  ,  0.5  ],\n",
       "       [ 0.   ,  0.25 ,  0.   ],\n",
       "       [-0.125,  0.375, -0.125],\n",
       "       [-0.25 ,  0.5  , -0.25 ],\n",
       "       [ 0.625, -0.375,  0.625],\n",
       "       [ 0.5  , -0.25 ,  0.5  ],\n",
       "       [ 0.375, -0.125,  0.375],\n",
       "       [ 0.25 ,  0.   ,  0.25 ],\n",
       "       [ 0.   ,  0.5  ,  0.   ],\n",
       "       [-0.125,  0.625, -0.125],\n",
       "       [ 0.75 , -0.25 ,  0.75 ],\n",
       "       [ 0.625, -0.125,  0.625],\n",
       "       [ 0.5  ,  0.   ,  0.5  ],\n",
       "       [ 0.   ,  0.75 ,  0.   ],\n",
       "       [ 0.875, -0.125,  0.875],\n",
       "       [ 0.75 ,  0.   ,  0.75 ],\n",
       "       [ 0.   , -1.   ,  0.   ],\n",
       "       [-0.25 ,  0.5  ,  0.   ],\n",
       "       [ 0.625, -0.375,  0.875],\n",
       "       [ 0.5  , -0.25 ,  0.75 ],\n",
       "       [ 0.75 , -0.25 ,  1.   ],\n",
       "       [ 0.625, -0.125,  0.875],\n",
       "       [ 0.5  ,  0.   ,  0.75 ],\n",
       "       [-0.25 , -1.   ,  0.   ],\n",
       "       [-0.5  , -1.   ,  0.   ],\n",
       "       [-0.5  , -0.25 ,  0.25 ],\n",
       "       [ 0.25 , -0.5  ,  0.25 ],\n",
       "       [-0.25 ,  0.5  ,  0.25 ],\n",
       "       [-0.5  ,  0.25 ,  0.25 ],\n",
       "       [ 0.5  ,  0.25 , -0.25 ],\n",
       "       [-0.25 ,  0.25 ,  0.25 ],\n",
       "       [-0.625,  0.375,  0.625],\n",
       "       [-0.375,  0.625,  0.625],\n",
       "       [ 0.375,  0.625, -0.625],\n",
       "       [-0.625,  0.375, -0.625],\n",
       "       [ 0.625, -0.375, -0.625]])"
      ]
     },
     "execution_count": 9,
     "metadata": {},
     "output_type": "execute_result"
    }
   ],
   "source": [
    "yambo_data_fixsym.kpoints[0:40]"
   ]
  },
  {
   "cell_type": "code",
   "execution_count": 10,
   "metadata": {},
   "outputs": [
    {
     "name": "stdout",
     "output_type": "stream",
     "text": [
      "Apply a scissor of 1.1944603652824988 eV\n"
     ]
    },
    {
     "data": {
      "text/plain": [
       "array([-1.27408522e+01, -4.17967883e-11, -2.92121882e-11,  0.00000000e+00,\n",
       "        1.42000000e+00,  4.95251862e+00,  4.95251862e+00,  4.95251862e+00])"
      ]
     },
     "execution_count": 10,
     "metadata": {},
     "output_type": "execute_result"
    }
   ],
   "source": [
    "pw_data.get_evals(set_gap=1.42)[0]"
   ]
  },
  {
   "cell_type": "code",
   "execution_count": 11,
   "metadata": {},
   "outputs": [
    {
     "name": "stdout",
     "output_type": "stream",
     "text": [
      "Apply a scissor of 1.1944603652824988 eV\n"
     ]
    },
    {
     "data": {
      "text/plain": [
       "array([-1.27408522e+01, -4.17967883e-11, -2.92121882e-11,  0.00000000e+00,\n",
       "        1.42000000e+00,  4.95251862e+00,  4.95251862e+00,  4.95251862e+00])"
      ]
     },
     "execution_count": 11,
     "metadata": {},
     "output_type": "execute_result"
    }
   ],
   "source": [
    "yambo_data.get_evals(set_gap=1.42)[0]"
   ]
  },
  {
   "cell_type": "code",
   "execution_count": 15,
   "metadata": {},
   "outputs": [
    {
     "name": "stdout",
     "output_type": "stream",
     "text": [
      "Apply a scissor of 1.19446036 eV\n"
     ]
    },
    {
     "data": {
      "text/plain": [
       "array([-11.02871514,  -6.46343287,  -2.19792567,  -1.41642963,\n",
       "         3.13269293,   5.50126577,   6.51799126,   8.87077968])"
      ]
     },
     "execution_count": 15,
     "metadata": {},
     "output_type": "execute_result"
    }
   ],
   "source": [
    "yambo_data_fixsym.get_evals(set_scissor=1.19446036)[40]"
   ]
  },
  {
   "cell_type": "code",
   "execution_count": 16,
   "metadata": {},
   "outputs": [
    {
     "name": "stdout",
     "output_type": "stream",
     "text": [
      "Direct gap system\n",
      "=================\n",
      "Gap : 0.22553963471750116 eV\n"
     ]
    },
    {
     "data": {
      "text/plain": [
       "{'gap': 0.22553963471750116,\n",
       " 'direct_gap': 0.22553963471750116,\n",
       " 'position_cbm': 0,\n",
       " 'positon_vbm': 0}"
      ]
     },
     "execution_count": 16,
     "metadata": {},
     "output_type": "execute_result"
    }
   ],
   "source": [
    "pw_data.get_gap()"
   ]
  },
  {
   "cell_type": "code",
   "execution_count": 17,
   "metadata": {},
   "outputs": [
    {
     "name": "stdout",
     "output_type": "stream",
     "text": [
      "Direct gap system\n",
      "=================\n",
      "Gap : 0.22553963471750116 eV\n"
     ]
    },
    {
     "data": {
      "text/plain": [
       "{'gap': 0.22553963471750116,\n",
       " 'direct_gap': 0.22553963471750116,\n",
       " 'position_cbm': 0,\n",
       " 'positon_vbm': 0}"
      ]
     },
     "execution_count": 17,
     "metadata": {},
     "output_type": "execute_result"
    }
   ],
   "source": [
    "yambo_data.get_gap()"
   ]
  },
  {
   "cell_type": "code",
   "execution_count": 18,
   "metadata": {},
   "outputs": [
    {
     "data": {
      "text/plain": [
       "array([12.9663918 , 16.49891042, 16.49891042, 16.49891042,  0.22553963,\n",
       "        3.75805826,  3.75805826,  3.75805826,  0.22553963,  3.75805826,\n",
       "        3.75805826,  3.75805826,  0.22553963,  3.75805826,  3.75805826,\n",
       "        3.75805826])"
      ]
     },
     "execution_count": 18,
     "metadata": {},
     "output_type": "execute_result"
    }
   ],
   "source": [
    "pw_data.get_transitions()[0]"
   ]
  },
  {
   "cell_type": "code",
   "execution_count": 19,
   "metadata": {},
   "outputs": [
    {
     "data": {
      "text/plain": [
       "array([12.9663918 , 16.49891042, 16.49891042, 16.49891042,  0.22553963,\n",
       "        3.75805826,  3.75805826,  3.75805826,  0.22553963,  3.75805826,\n",
       "        3.75805826,  3.75805826,  0.22553963,  3.75805826,  3.75805826,\n",
       "        3.75805826])"
      ]
     },
     "execution_count": 19,
     "metadata": {},
     "output_type": "execute_result"
    }
   ],
   "source": [
    "yambo_data.get_transitions()[0]"
   ]
  },
  {
   "cell_type": "code",
   "execution_count": null,
   "metadata": {},
   "outputs": [],
   "source": []
  },
  {
   "cell_type": "code",
   "execution_count": null,
   "metadata": {},
   "outputs": [],
   "source": []
  },
  {
   "cell_type": "code",
   "execution_count": null,
   "metadata": {},
   "outputs": [],
   "source": []
  },
  {
   "cell_type": "code",
   "execution_count": null,
   "metadata": {},
   "outputs": [],
   "source": []
  }
 ],
 "metadata": {
  "kernelspec": {
   "display_name": "Python 3",
   "language": "python",
   "name": "python3"
  },
  "language_info": {
   "codemirror_mode": {
    "name": "ipython",
    "version": 3
   },
   "file_extension": ".py",
   "mimetype": "text/x-python",
   "name": "python",
   "nbconvert_exporter": "python",
   "pygments_lexer": "ipython3",
   "version": "3.8.5"
  }
 },
 "nbformat": 4,
 "nbformat_minor": 4
}
