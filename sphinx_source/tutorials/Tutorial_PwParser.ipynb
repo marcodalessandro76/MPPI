{
 "cells": [
  {
   "cell_type": "code",
   "execution_count": 1,
   "metadata": {},
   "outputs": [],
   "source": [
    "# useful to autoreload the module without restarting the kernel\n",
    "%load_ext autoreload\n",
    "%autoreload 2"
   ]
  },
  {
   "cell_type": "code",
   "execution_count": 3,
   "metadata": {},
   "outputs": [],
   "source": [
    "from mppi import Parsers as P"
   ]
  },
  {
   "cell_type": "markdown",
   "metadata": {},
   "source": [
    "# Tutorial of the PwParser class"
   ]
  },
  {
   "cell_type": "markdown",
   "metadata": {},
   "source": [
    "This tutorial describes the usage of the class PwParser of mppi used to extract information for the XML output file data-file-schema produced\n",
    "by pw."
   ]
  },
  {
   "cell_type": "markdown",
   "metadata": {},
   "source": [
    "## Parse of a output file of Silicon "
   ]
  },
  {
   "cell_type": "markdown",
   "metadata": {},
   "source": [
    "__Follow the tutorial for the QeCalculator to produce the xml file used by the PwParser.__\n",
    "\n",
    "The class is initialized by specifying the name of the xml file including its relative path "
   ]
  },
  {
   "cell_type": "code",
   "execution_count": 4,
   "metadata": {},
   "outputs": [
    {
     "name": "stdout",
     "output_type": "stream",
     "text": [
      "Parse file : QeCalculator_test/si_scf_test1.save/data-file-schema.xml\n"
     ]
    }
   ],
   "source": [
    "results = P.PwParser('QeCalculator_test/si_scf_test1.save/data-file-schema.xml')"
   ]
  },
  {
   "cell_type": "markdown",
   "metadata": {},
   "source": [
    "When the object is initialized several attributes are set, for instance"
   ]
  },
  {
   "cell_type": "code",
   "execution_count": 5,
   "metadata": {},
   "outputs": [
    {
     "data": {
      "text/plain": [
       "'Hartree atomic units'"
      ]
     },
     "execution_count": 5,
     "metadata": {},
     "output_type": "execute_result"
    }
   ],
   "source": [
    "results.units"
   ]
  },
  {
   "cell_type": "code",
   "execution_count": 6,
   "metadata": {},
   "outputs": [
    {
     "name": "stdout",
     "output_type": "stream",
     "text": [
      "2\n",
      "{'Si': ['2.808600000000000e1', 'Si.pbe-mt_fhi.UPF']}\n",
      "[['Si', [-1.2875, 1.2875, 1.2875]], ['Si', [1.2875, -1.2875, -1.2875]]]\n",
      "4\n",
      "13\n",
      "2\n"
     ]
    }
   ],
   "source": [
    "print(results.natoms)\n",
    "print(results.atomic_species)\n",
    "print(results.atomic_positions)\n",
    "print(results.nbands)\n",
    "print(results.nkpoints)\n",
    "print(results.spin_degen)"
   ]
  },
  {
   "cell_type": "markdown",
   "metadata": {},
   "source": [
    "We can print the ks energies and weight for each kpoint"
   ]
  },
  {
   "cell_type": "code",
   "execution_count": 7,
   "metadata": {},
   "outputs": [
    {
     "name": "stdout",
     "output_type": "stream",
     "text": [
      "[0.0, 0.0, 0.0] [-0.21133344  0.22609091  0.22609158  0.22609158] [0.03125]\n",
      "[-0.25, 0.25, -0.25] [-0.18214741  0.08223971  0.19833617  0.19833665] [0.1875]\n",
      "[0.5, -0.5, 0.5] [-0.12643697 -0.02857772  0.18225845  0.18225893] [0.09375]\n",
      "[0.0, 0.5, 0.0] [-0.17184867  0.09655427  0.15718577  0.15718597] [0.1875]\n",
      "[0.75, -0.25, 0.75] [-0.11225404 -0.00768499  0.09723695  0.14564839] [0.375]\n",
      "[0.5, 0.0, 0.5] [-0.13680575  0.02516734  0.08941682  0.17760265] [0.1875]\n",
      "[0.0, -1.0, 0.0] [-0.0601889  -0.06018847  0.12203533  0.1220355 ] [0.09375]\n",
      "[-0.5, -1.0, 0.0] [-0.05432256 -0.0543221   0.08587568  0.08587588] [0.1875]\n",
      "[-0.25, 0.25, 0.25] [-0.18214737  0.0822393   0.19833657  0.19833657] [0.0625]\n",
      "[0.5, -0.5, -0.5] [-0.12643666 -0.02857835  0.18225881  0.18225881] [0.03125]\n",
      "[-0.75, 0.75, -0.25] [-0.11225406 -0.00768489  0.09723659  0.1456486 ] [0.1875]\n",
      "[0.75, -0.75, -0.25] [-0.11225386 -0.00768547  0.09723703  0.14564857] [0.1875]\n",
      "[-0.5, 0.5, 0.0] [-0.13680565  0.02516691  0.08941689  0.17760293] [0.1875]\n"
     ]
    }
   ],
   "source": [
    "for k,e,w in zip(results.kpoints,results.evals,results.weights):\n",
    "    print(k,e,w)"
   ]
  },
  {
   "cell_type": "markdown",
   "metadata": {},
   "source": [
    "There are also several get methods, for instance"
   ]
  },
  {
   "cell_type": "code",
   "execution_count": 8,
   "metadata": {},
   "outputs": [
    {
     "name": "stdout",
     "output_type": "stream",
     "text": [
      "Fermi energy attribute not found in the ouput file. Maybe `fixed` occupation type is used?\n"
     ]
    }
   ],
   "source": [
    "results.get_fermi()"
   ]
  },
  {
   "cell_type": "markdown",
   "metadata": {},
   "source": [
    "The method get_evals  return an array with the ks energies for each kpoint. The energies are expressed in eV and the \n",
    "energy of VBM is used as reference. A gap, both direct or indirect, can be set. In this case the energies of the empty ks states is\n",
    "shifted. This procedure __does not__ update the occupation levels of the empty states"
   ]
  },
  {
   "cell_type": "code",
   "execution_count": 15,
   "metadata": {},
   "outputs": [
    {
     "name": "stdout",
     "output_type": "stream",
     "text": [
      "There are no empty bannds. `Set gap` has not been applied\n"
     ]
    },
    {
     "data": {
      "text/plain": [
       "array([-1.19029411e+01, -1.84464681e-05, -5.08766362e-10,  0.00000000e+00])"
      ]
     },
     "execution_count": 15,
     "metadata": {},
     "output_type": "execute_result"
    }
   ],
   "source": [
    "results.get_evals(set_gap=1.2)[0]"
   ]
  },
  {
   "cell_type": "code",
   "execution_count": 16,
   "metadata": {},
   "outputs": [
    {
     "name": "stdout",
     "output_type": "stream",
     "text": [
      "There are no empty states. Gap cannot be computed.\n"
     ]
    }
   ],
   "source": [
    "results.get_gap()"
   ]
  },
  {
   "cell_type": "markdown",
   "metadata": {},
   "source": [
    "We test the PwParser using a nscf output file, in this case empty bands are present and the gap can be computed"
   ]
  },
  {
   "cell_type": "code",
   "execution_count": 17,
   "metadata": {},
   "outputs": [
    {
     "name": "stdout",
     "output_type": "stream",
     "text": [
      "Parse file : QeCalculator_test/si_nscf_test1.save/data-file-schema.xml\n"
     ]
    }
   ],
   "source": [
    "result_nscf = P.PwParser('QeCalculator_test/si_nscf_test1.save/data-file-schema.xml')"
   ]
  },
  {
   "cell_type": "code",
   "execution_count": 18,
   "metadata": {},
   "outputs": [
    {
     "data": {
      "text/plain": [
       "array([1., 1., 1., 1., 0., 0., 0., 0.])"
      ]
     },
     "execution_count": 18,
     "metadata": {},
     "output_type": "execute_result"
    }
   ],
   "source": [
    "result_nscf.occupations[0]"
   ]
  },
  {
   "cell_type": "code",
   "execution_count": 19,
   "metadata": {},
   "outputs": [
    {
     "name": "stdout",
     "output_type": "stream",
     "text": [
      "Indirect gap system\n",
      "===================\n",
      "Gap : 0.723410090028532 eV\n",
      "Direct gap : 2.551225478562494 eV\n"
     ]
    },
    {
     "data": {
      "text/plain": [
       "{'gap': 0.723410090028532,\n",
       " 'direct_gap': 2.551225478562494,\n",
       " 'position_cbm': 6,\n",
       " 'positon_vbm': 0}"
      ]
     },
     "execution_count": 19,
     "metadata": {},
     "output_type": "execute_result"
    }
   ],
   "source": [
    "result_nscf.get_gap()"
   ]
  },
  {
   "cell_type": "code",
   "execution_count": 21,
   "metadata": {},
   "outputs": [
    {
     "name": "stdout",
     "output_type": "stream",
     "text": [
      "Apply a scissor of 0.44877452143750585 eV\n"
     ]
    },
    {
     "data": {
      "text/plain": [
       "array([-1.19029066e+01, -1.15202563e-05, -1.15202537e-05,  0.00000000e+00,\n",
       "        3.00000000e+00,  3.00000485e+00,  3.00000485e+00,  3.60084671e+00])"
      ]
     },
     "execution_count": 21,
     "metadata": {},
     "output_type": "execute_result"
    }
   ],
   "source": [
    "result_nscf.get_evals(set_direct_gap=3.0)[0]"
   ]
  },
  {
   "cell_type": "markdown",
   "metadata": {},
   "source": [
    "we see that in this case the energy of the 5-th states has been shift to 3 eV to implement the set_direct_gap requirement. "
   ]
  },
  {
   "cell_type": "markdown",
   "metadata": {},
   "source": [
    "## Parse of a Graphene output file"
   ]
  },
  {
   "cell_type": "markdown",
   "metadata": {},
   "source": [
    "__Run the Analysis_BandStructure notebook to produce the xml file used by the PwParser.__\n",
    "\n",
    "We parse a graphene output file to test if systems without a gap are correctly parsed."
   ]
  },
  {
   "cell_type": "code",
   "execution_count": 38,
   "metadata": {},
   "outputs": [
    {
     "name": "stdout",
     "output_type": "stream",
     "text": [
      "Parse file : IO_files/graphene_scf.save/data-file-schema.xml\n"
     ]
    }
   ],
   "source": [
    "results_gra = P.PwParser('IO_files/graphene_scf.save/data-file-schema.xml')"
   ]
  },
  {
   "cell_type": "code",
   "execution_count": 39,
   "metadata": {},
   "outputs": [
    {
     "data": {
      "text/plain": [
       "'smearing'"
      ]
     },
     "execution_count": 39,
     "metadata": {},
     "output_type": "execute_result"
    }
   ],
   "source": [
    "results_gra.occupations_kind"
   ]
  },
  {
   "cell_type": "code",
   "execution_count": 43,
   "metadata": {},
   "outputs": [
    {
     "data": {
      "text/plain": [
       "array([1.00000000e+00, 1.00000000e+00, 1.00000000e+00, 1.00000000e+00,\n",
       "       4.01725605e-29, 6.30572455e-37, 9.04884912e-42, 8.90138577e-58])"
      ]
     },
     "execution_count": 43,
     "metadata": {},
     "output_type": "execute_result"
    }
   ],
   "source": [
    "results_gra.occupations[0]"
   ]
  },
  {
   "cell_type": "code",
   "execution_count": 44,
   "metadata": {},
   "outputs": [
    {
     "name": "stdout",
     "output_type": "stream",
     "text": [
      "Direct gap system\n",
      "=================\n",
      "Gap : 3.110445328033673e-10 eV\n"
     ]
    },
    {
     "data": {
      "text/plain": [
       "{'gap': 3.110445328033673e-10,\n",
       " 'direct_gap': 3.110445328033673e-10,\n",
       " 'position_cbm': 18,\n",
       " 'positon_vbm': 18}"
      ]
     },
     "execution_count": 44,
     "metadata": {},
     "output_type": "execute_result"
    }
   ],
   "source": [
    "results_gra.get_gap()"
   ]
  },
  {
   "cell_type": "code",
   "execution_count": 45,
   "metadata": {},
   "outputs": [
    {
     "name": "stdout",
     "output_type": "stream",
     "text": [
      "Fermi energy attribute not found in the ouput file. Maybe `fixed` occupation type is used?\n"
     ]
    }
   ],
   "source": [
    "results_gra.get_fermi()"
   ]
  },
  {
   "cell_type": "code",
   "execution_count": null,
   "metadata": {},
   "outputs": [],
   "source": []
  },
  {
   "cell_type": "code",
   "execution_count": null,
   "metadata": {},
   "outputs": [],
   "source": []
  }
 ],
 "metadata": {
  "kernelspec": {
   "display_name": "Python 3",
   "language": "python",
   "name": "python3"
  },
  "language_info": {
   "codemirror_mode": {
    "name": "ipython",
    "version": 3
   },
   "file_extension": ".py",
   "mimetype": "text/x-python",
   "name": "python",
   "nbconvert_exporter": "python",
   "pygments_lexer": "ipython3",
   "version": "3.6.9"
  }
 },
 "nbformat": 4,
 "nbformat_minor": 4
}
