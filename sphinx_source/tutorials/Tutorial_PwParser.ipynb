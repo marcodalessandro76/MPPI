{
 "cells": [
  {
   "cell_type": "code",
   "execution_count": 1,
   "metadata": {},
   "outputs": [],
   "source": [
    "%load_ext autoreload\n",
    "%autoreload 2"
   ]
  },
  {
   "cell_type": "code",
   "execution_count": 2,
   "metadata": {},
   "outputs": [],
   "source": [
    "#from importlib import reload\n",
    "from mppi import Parsers as P"
   ]
  },
  {
   "cell_type": "markdown",
   "metadata": {},
   "source": [
    "# Tutorial of the PwParser"
   ]
  },
  {
   "cell_type": "code",
   "execution_count": 156,
   "metadata": {},
   "outputs": [
    {
     "name": "stdout",
     "output_type": "stream",
     "text": [
      "Parse file : PwParser_folder/si_scf_ecut10_k3.save/data-file-schema.xml\n"
     ]
    }
   ],
   "source": [
    "results = P.PwParser('si_scf_ecut10_k3',path='PwParser_folder')\n",
    "#results = P.PwParser('si_nscf_k6_nb100',path='PwParser_folder')"
   ]
  },
  {
   "cell_type": "code",
   "execution_count": 157,
   "metadata": {},
   "outputs": [
    {
     "data": {
      "text/plain": [
       "[['Si', [-1.2875, 1.2875, 1.2875]], ['Si', [1.2875, -1.2875, -1.2875]]]"
      ]
     },
     "execution_count": 157,
     "metadata": {},
     "output_type": "execute_result"
    }
   ],
   "source": [
    "results.atomic_positions"
   ]
  },
  {
   "cell_type": "code",
   "execution_count": 158,
   "metadata": {},
   "outputs": [
    {
     "data": {
      "text/plain": [
       "{'Si': ['2.808600000000000e1', 'Si.pbe-mt_fhi.UPF']}"
      ]
     },
     "execution_count": 158,
     "metadata": {},
     "output_type": "execute_result"
    }
   ],
   "source": [
    "results.atomic_species"
   ]
  },
  {
   "cell_type": "code",
   "execution_count": 159,
   "metadata": {},
   "outputs": [
    {
     "data": {
      "text/plain": [
       "6"
      ]
     },
     "execution_count": 159,
     "metadata": {},
     "output_type": "execute_result"
    }
   ],
   "source": [
    "results.nkpoints"
   ]
  },
  {
   "cell_type": "code",
   "execution_count": 160,
   "metadata": {},
   "outputs": [
    {
     "data": {
      "text/plain": [
       "4"
      ]
     },
     "execution_count": 160,
     "metadata": {},
     "output_type": "execute_result"
    }
   ],
   "source": [
    "results.nbands"
   ]
  },
  {
   "cell_type": "code",
   "execution_count": 161,
   "metadata": {},
   "outputs": [
    {
     "data": {
      "text/plain": [
       "[[0.0, 0.0, 0.0],\n",
       " [-0.3333333333333333, 0.3333333333333333, -0.3333333333333333],\n",
       " [0.0, 0.6666666666666666, 0.0],\n",
       " [0.6666666666666669, -5.551115123125783e-17, 0.6666666666666669],\n",
       " [-0.3333333333333333, 0.3333333333333333, 0.3333333333333333],\n",
       " [-0.6666666666666669, 0.6666666666666669, 0.0]]"
      ]
     },
     "execution_count": 161,
     "metadata": {},
     "output_type": "execute_result"
    }
   ],
   "source": [
    "results.kpoints"
   ]
  },
  {
   "cell_type": "code",
   "execution_count": 162,
   "metadata": {},
   "outputs": [
    {
     "data": {
      "text/plain": [
       "array([[-0.20362013,  0.23008746,  0.23009597,  0.23009597],\n",
       "       [-0.15364325,  0.03525018,  0.19221198,  0.19221959],\n",
       "       [-0.13371509,  0.0489887 ,  0.13980064,  0.1398055 ],\n",
       "       [-0.08408231, -0.01551476,  0.06707819,  0.15095046],\n",
       "       [-0.15364376,  0.03524954,  0.19221929,  0.19221929],\n",
       "       [-0.08408382, -0.01551278,  0.0670755 ,  0.15095544]])"
      ]
     },
     "execution_count": 162,
     "metadata": {},
     "output_type": "execute_result"
    }
   ],
   "source": [
    "results.evals"
   ]
  },
  {
   "cell_type": "code",
   "execution_count": 163,
   "metadata": {},
   "outputs": [
    {
     "data": {
      "text/plain": [
       "array([[1., 1., 1., 1.],\n",
       "       [1., 1., 1., 1.],\n",
       "       [1., 1., 1., 1.],\n",
       "       [1., 1., 1., 1.],\n",
       "       [1., 1., 1., 1.],\n",
       "       [1., 1., 1., 1.]])"
      ]
     },
     "execution_count": 163,
     "metadata": {},
     "output_type": "execute_result"
    }
   ],
   "source": [
    "results.occupations"
   ]
  },
  {
   "cell_type": "code",
   "execution_count": 164,
   "metadata": {},
   "outputs": [
    {
     "data": {
      "text/plain": [
       "0.2300959736436337"
      ]
     },
     "execution_count": 164,
     "metadata": {},
     "output_type": "execute_result"
    }
   ],
   "source": [
    "results.fermi"
   ]
  },
  {
   "cell_type": "code",
   "execution_count": 165,
   "metadata": {},
   "outputs": [
    {
     "data": {
      "text/plain": [
       "-7.828160394451467"
      ]
     },
     "execution_count": 165,
     "metadata": {},
     "output_type": "execute_result"
    }
   ],
   "source": [
    "results.energy"
   ]
  },
  {
   "cell_type": "code",
   "execution_count": 172,
   "metadata": {},
   "outputs": [],
   "source": [
    "def eval_kpath(kpoints):\n",
    "    \"\"\"\n",
    "    Assumes that list of kpoitns is given along a path. Compute the curvilinear ascissa\n",
    "    along the path.\n",
    "    \n",
    "    Args:\n",
    "        kpoint(list) : list of kpoints ordered along a path\n",
    "        \n",
    "    Returns:\n",
    "        kpath(list) : list the value of the curvilinear ascissa along the path\n",
    "    \"\"\"\n",
    "    kpoints = np.array(kpoints)\n",
    "    kpath = [0]\n",
    "    distance = 0\n",
    "    for nk in range(1,len(kpoints)):\n",
    "        distance += np.linalg.norm(kpoints[nk-1]-kpoints[nk])\n",
    "        kpath.append(distance)   \n",
    "    return kpath\n",
    "\n",
    "def eval_bands(evals):\n",
    "    \"\"\"\n",
    "    Convert the evals array of :py:class:`PwParser` in a the array bands,\n",
    "    where bands[i] gives the energies of the i-th band along the path\n",
    "    \"\"\"\n",
    "    import numpy as np\n",
    "    bands = []\n",
    "    for b in range(len(results.evals[0])): #number of bands\n",
    "        bands.append(evals[:,b])\n",
    "    return np.array(bands)\n"
   ]
  },
  {
   "cell_type": "code",
   "execution_count": 212,
   "metadata": {},
   "outputs": [
    {
     "name": "stdout",
     "output_type": "stream",
     "text": [
      "Parse file : PwParser_folder/gaas_bands.save/data-file-schema.xml\n"
     ]
    }
   ],
   "source": [
    "results = P.PwParser('gaas_bands',path='PwParser_folder')"
   ]
  },
  {
   "cell_type": "code",
   "execution_count": 213,
   "metadata": {},
   "outputs": [],
   "source": [
    "kpath = eval_kpath(results.kpoints)\n",
    "bands = eval_bands(results.evals)"
   ]
  },
  {
   "cell_type": "code",
   "execution_count": 214,
   "metadata": {},
   "outputs": [],
   "source": [
    "import matplotlib.pyplot as plt"
   ]
  },
  {
   "cell_type": "code",
   "execution_count": 221,
   "metadata": {},
   "outputs": [
    {
     "data": {
      "text/plain": [
       "(-4, 4)"
      ]
     },
     "execution_count": 221,
     "metadata": {},
     "output_type": "execute_result"
    },
    {
     "data": {
      "image/png": "[encoded data removed]",
      "text/plain": [
       "<Figure size 432x288 with 1 Axes>"
      ]
     },
     "metadata": {},
     "output_type": "display_data"
    }
   ],
   "source": [
    "HaToEv = 27.211386\n",
    "\n",
    "fermi = results.fermi*HaToEv\n",
    "\n",
    "for b in bands[1:5]:\n",
    "    plt.plot(kpath,HatoeV*b-fermi)\n",
    "plt.ylim(-4,4)"
   ]
  },
  {
   "cell_type": "code",
   "execution_count": null,
   "metadata": {},
   "outputs": [],
   "source": []
  },
  {
   "cell_type": "code",
   "execution_count": null,
   "metadata": {},
   "outputs": [],
   "source": []
  },
  {
   "cell_type": "code",
   "execution_count": null,
   "metadata": {},
   "outputs": [],
   "source": []
  },
  {
   "cell_type": "code",
   "execution_count": null,
   "metadata": {},
   "outputs": [],
   "source": []
  },
  {
   "cell_type": "code",
   "execution_count": null,
   "metadata": {},
   "outputs": [],
   "source": []
  },
  {
   "cell_type": "code",
   "execution_count": null,
   "metadata": {},
   "outputs": [],
   "source": []
  },
  {
   "cell_type": "code",
   "execution_count": 9,
   "metadata": {},
   "outputs": [],
   "source": [
    "########################################################################################"
   ]
  },
  {
   "cell_type": "code",
   "execution_count": 166,
   "metadata": {},
   "outputs": [],
   "source": [
    "import xml.etree.ElementTree as ET\n",
    "import os\n",
    "import numpy as np\n",
    "\n",
    "#from qepy.auxiliary import *\n",
    "#from .lattice import *\n",
    "\n",
    "#from yambopy.plot.plotting import add_fig_kwargs \n",
    "\n",
    "__all__ = ['PwXML']\n",
    "\n",
    "HatoeV = 27.2107\n",
    "\n",
    "def calculate_distances(kpoints):\n",
    "    \"\"\"\n",
    "    take a list of k-points and calculate the distances between all of them\n",
    "    \"\"\"\n",
    "    kpoints = np.array(kpoints)\n",
    "    distances = [0]\n",
    "    distance = 0\n",
    "    for nk in range(1,len(kpoints)):\n",
    "        distance += np.linalg.norm(kpoints[nk-1]-kpoints[nk])\n",
    "        distances.append(distance)   \n",
    "    return distances\n",
    "\n",
    "class Path(object):\n",
    "    \"\"\" Class that defines a path in the brillouin zone\n",
    "    \"\"\"\n",
    "    def __init__(self,klist,intervals):\n",
    "        \"\"\"\n",
    "        Generation of a path in reciprocal space by specifying a list of k-points\n",
    "        \"\"\"\n",
    "        self.intervals = intervals\n",
    "\n",
    "        klabels = []\n",
    "        kpoints = []\n",
    "        for kpoint, klabel in klist:\n",
    "            kpoints.append(kpoint)\n",
    "            klabels.append(klabel)\n",
    "        self.kpoints = np.array(kpoints)\n",
    "        self.klabels = klabels\n",
    "    \n",
    "    def as_dict(self):\n",
    "        d = {'kpoints':self.kpoints.tolist(),\n",
    "             'klabels':self.klabels,\n",
    "             'intervals':self.intervals}\n",
    "        return d\n",
    "\n",
    "    @classmethod\n",
    "    def from_dict(cls,d):\n",
    "        klist = zip(d['kpoints'],d['klabels'])\n",
    "        return cls(klist,d['intervals'])\n",
    "\n",
    "    @property\n",
    "    def distances(self):\n",
    "        if hasattr(self,'_distances'): return self._distances\n",
    "        k0 = np.array(self.kpoints[0])\n",
    "        dist = 0\n",
    "        distances = [0]\n",
    "        for kpt in np.array(self.kpoints[1:]):\n",
    "            dist += np.linalg.norm(kpt-k0)\n",
    "            k0 = kpt\n",
    "            distances.append(dist)\n",
    "        self._distances = distances\n",
    "        return distances\n",
    "\n",
    "    def set_xticks(self,ax):\n",
    "        ax.set_xticks(self.distances)\n",
    "        ax.set_xticklabels(self.klabels)\n",
    "\n",
    "    def __iter__(self):\n",
    "        return iter(zip(self.kpoints,self.klabels,self.distances))\n",
    "\n",
    "    def get_klist(self):\n",
    "        \"\"\" \n",
    "        Output in the format of quantum espresso == [ [kx, ky, kz, 1], ... ]\n",
    "        \"\"\"\n",
    "        kpoints = self.kpoints\n",
    "        intervals = self.intervals\n",
    "        kout  = np.zeros([sum(intervals)+1,4])\n",
    "        kout[:,3] = 1\n",
    "        io = 0\n",
    "        for ik,interval in enumerate(intervals):\n",
    "          for ip in range(interval):\n",
    "            kout[io,:3] = kpoints[ik] + float(ip)/interval*(kpoints[ik+1] - kpoints[ik])\n",
    "            io = io + 1\n",
    "        kout[io,:3] = kpoints[ik] + float(ip+1)/interval*(kpoints[ik+1] - kpoints[ik])\n",
    "\n",
    "        return kout\n",
    "\n",
    "    def get_indexes(self):\n",
    "        \"\"\" get the index of each point of the path\n",
    "        \"\"\"\n",
    "\n",
    "        indexes = []\n",
    "        index = 0\n",
    "        for n,label in enumerate(self.intervals):\n",
    "            indexes.append([index,self.klabels[n]])\n",
    "            index += self.intervals[n] \n",
    "        indexes.append([index,self.klabels[-1]])\n",
    "        return indexes\n",
    "\n",
    "def vec_in_list(veca,vec_list,atol=1e-6):\n",
    "    \"\"\" check if a vector exists in a list of vectors\n",
    "    \"\"\"\n",
    "    return np.array([ np.allclose(veca,vecb,rtol=atol,atol=atol) for vecb in vec_list ]).any()\n",
    "\n",
    "def red_car(red,lat):\n",
    "    \"\"\"\n",
    "    Convert reduced coordinates to cartesian\n",
    "    \"\"\"\n",
    "    lat = np.array(lat)\n",
    "    red = np.array(red)\n",
    "    if lat.shape != (3,3):\n",
    "        raise ValueError('Wrong lattice dimensions expected (3,3) got {}'.format(lat.shape))\n",
    "    return np.array([coord[0]*lat[0]+coord[1]*lat[1]+coord[2]*lat[2] for coord in red])\n",
    "\n",
    "def car_red(car,lat):\n",
    "    \"\"\"\n",
    "    Convert cartesian coordinates to reduced\n",
    "    \"\"\"\n",
    "    car = np.array(car)\n",
    "    lat = np.array(lat)\n",
    "    if lat.shape != (3,3):\n",
    "        raise ValueError('Wrong lattice dimensions expected (3,3) got {}'.format(lat.shape))\n",
    "    return np.array([np.linalg.solve(np.array(lat).T,coord) for coord in car])\n",
    "\n",
    "def rec_lat(lat):\n",
    "    \"\"\"\n",
    "    Calculate the reciprocal lattice vectors\n",
    "    \"\"\"\n",
    "    a1,a2,a3 = np.array(lat)\n",
    "    v = np.dot(a1,np.cross(a2,a3))\n",
    "    b1 = np.cross(a2,a3)/v\n",
    "    b2 = np.cross(a3,a1)/v\n",
    "    b3 = np.cross(a1,a2)/v\n",
    "    return np.array([b1,b2,b3])\n",
    "\n"
   ]
  },
  {
   "cell_type": "code",
   "execution_count": null,
   "metadata": {},
   "outputs": [],
   "source": []
  },
  {
   "cell_type": "code",
   "execution_count": null,
   "metadata": {},
   "outputs": [],
   "source": []
  },
  {
   "cell_type": "code",
   "execution_count": null,
   "metadata": {},
   "outputs": [],
   "source": []
  },
  {
   "cell_type": "code",
   "execution_count": null,
   "metadata": {},
   "outputs": [],
   "source": []
  },
  {
   "cell_type": "code",
   "execution_count": null,
   "metadata": {},
   "outputs": [],
   "source": []
  }
 ],
 "metadata": {
  "kernelspec": {
   "display_name": "Python 3",
   "language": "python",
   "name": "python3"
  },
  "language_info": {
   "codemirror_mode": {
    "name": "ipython",
    "version": 3
   },
   "file_extension": ".py",
   "mimetype": "text/x-python",
   "name": "python",
   "nbconvert_exporter": "python",
   "pygments_lexer": "ipython3",
   "version": "3.6.8"
  }
 },
 "nbformat": 4,
 "nbformat_minor": 4
}
