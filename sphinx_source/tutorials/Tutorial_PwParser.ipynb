{
 "cells": [
  {
   "cell_type": "code",
   "execution_count": 1,
   "metadata": {},
   "outputs": [],
   "source": [
    "# useful to autoreload the module without restarting the kernel\n",
    "%load_ext autoreload\n",
    "%autoreload 2"
   ]
  },
  {
   "cell_type": "code",
   "execution_count": 2,
   "metadata": {},
   "outputs": [],
   "source": [
    "from mppi import Parsers as P"
   ]
  },
  {
   "cell_type": "markdown",
   "metadata": {},
   "source": [
    "# Tutorial of the PwParser class"
   ]
  },
  {
   "cell_type": "markdown",
   "metadata": {},
   "source": [
    "This tutorial describes the usage of the class PwParser of mppi used to extract information for the XML output file data-file-schema produced\n",
    "by pw."
   ]
  },
  {
   "cell_type": "markdown",
   "metadata": {},
   "source": [
    "## Parse of a scf output file"
   ]
  },
  {
   "cell_type": "markdown",
   "metadata": {},
   "source": [
    "The class is initialized by specifying the name of the xml file including its relative path "
   ]
  },
  {
   "cell_type": "code",
   "execution_count": 3,
   "metadata": {},
   "outputs": [
    {
     "name": "stdout",
     "output_type": "stream",
     "text": [
      "Parse file : IO_files/si_scf.save/data-file-schema.xml\n"
     ]
    }
   ],
   "source": [
    "results = P.PwParser('IO_files/si_scf.save/data-file-schema.xml')"
   ]
  },
  {
   "cell_type": "markdown",
   "metadata": {},
   "source": [
    "When the object is initialized several attributes are set, for instance"
   ]
  },
  {
   "cell_type": "code",
   "execution_count": 4,
   "metadata": {},
   "outputs": [
    {
     "data": {
      "text/plain": [
       "'Hartree atomic units'"
      ]
     },
     "execution_count": 4,
     "metadata": {},
     "output_type": "execute_result"
    }
   ],
   "source": [
    "results.units"
   ]
  },
  {
   "cell_type": "code",
   "execution_count": 5,
   "metadata": {},
   "outputs": [
    {
     "data": {
      "text/plain": [
       "[['Si', [-1.2875, 1.2875, 1.2875]], ['Si', [1.2875, -1.2875, -1.2875]]]"
      ]
     },
     "execution_count": 5,
     "metadata": {},
     "output_type": "execute_result"
    }
   ],
   "source": [
    "results.atomic_positions"
   ]
  },
  {
   "cell_type": "code",
   "execution_count": 6,
   "metadata": {},
   "outputs": [
    {
     "data": {
      "text/plain": [
       "{'Si': ['2.808600000000000e1', 'Si.pbe-mt_fhi.UPF']}"
      ]
     },
     "execution_count": 6,
     "metadata": {},
     "output_type": "execute_result"
    }
   ],
   "source": [
    "results.atomic_species"
   ]
  },
  {
   "cell_type": "code",
   "execution_count": 7,
   "metadata": {},
   "outputs": [
    {
     "data": {
      "text/plain": [
       "6"
      ]
     },
     "execution_count": 7,
     "metadata": {},
     "output_type": "execute_result"
    }
   ],
   "source": [
    "results.nkpoints"
   ]
  },
  {
   "cell_type": "code",
   "execution_count": 8,
   "metadata": {},
   "outputs": [
    {
     "data": {
      "text/plain": [
       "4"
      ]
     },
     "execution_count": 8,
     "metadata": {},
     "output_type": "execute_result"
    }
   ],
   "source": [
    "results.nbands"
   ]
  },
  {
   "cell_type": "code",
   "execution_count": 9,
   "metadata": {},
   "outputs": [
    {
     "data": {
      "text/plain": [
       "[[0.0, 0.0, 0.0],\n",
       " [-0.3333333333333333, 0.3333333333333333, -0.3333333333333333],\n",
       " [0.0, 0.6666666666666666, 0.0],\n",
       " [0.6666666666666669, -5.551115123125783e-17, 0.6666666666666669],\n",
       " [-0.3333333333333333, 0.3333333333333333, 0.3333333333333333],\n",
       " [-0.6666666666666669, 0.6666666666666669, 0.0]]"
      ]
     },
     "execution_count": 9,
     "metadata": {},
     "output_type": "execute_result"
    }
   ],
   "source": [
    "results.kpoints"
   ]
  },
  {
   "cell_type": "markdown",
   "metadata": {},
   "source": [
    "Arrays with the energy (in Hartree) for all the kpoints and for all the bands"
   ]
  },
  {
   "cell_type": "code",
   "execution_count": 13,
   "metadata": {},
   "outputs": [
    {
     "data": {
      "text/plain": [
       "array([[-0.20362013,  0.23008746,  0.23009597,  0.23009597],\n",
       "       [-0.15364325,  0.03525018,  0.19221198,  0.19221959],\n",
       "       [-0.13371509,  0.0489887 ,  0.13980064,  0.1398055 ],\n",
       "       [-0.08408231, -0.01551476,  0.06707819,  0.15095046],\n",
       "       [-0.15364376,  0.03524954,  0.19221929,  0.19221929],\n",
       "       [-0.08408382, -0.01551278,  0.0670755 ,  0.15095544]])"
      ]
     },
     "execution_count": 13,
     "metadata": {},
     "output_type": "execute_result"
    }
   ],
   "source": [
    "results.evals"
   ]
  },
  {
   "cell_type": "code",
   "execution_count": 20,
   "metadata": {},
   "outputs": [
    {
     "data": {
      "text/plain": [
       "0.2300959736436337"
      ]
     },
     "execution_count": 20,
     "metadata": {},
     "output_type": "execute_result"
    }
   ],
   "source": [
    "results.fermi"
   ]
  },
  {
   "cell_type": "code",
   "execution_count": 13,
   "metadata": {},
   "outputs": [
    {
     "data": {
      "text/plain": [
       "-7.828160394451467"
      ]
     },
     "execution_count": 13,
     "metadata": {},
     "output_type": "execute_result"
    }
   ],
   "source": [
    "results.energy"
   ]
  },
  {
   "cell_type": "code",
   "execution_count": 14,
   "metadata": {},
   "outputs": [
    {
     "data": {
      "text/plain": [
       "[[0.07407407407407],\n",
       " [0.4444444444444],\n",
       " [0.4444444444444],\n",
       " [0.4444444444444],\n",
       " [0.1481481481481],\n",
       " [0.4444444444444]]"
      ]
     },
     "execution_count": 14,
     "metadata": {},
     "output_type": "execute_result"
    }
   ],
   "source": [
    "results.weights"
   ]
  },
  {
   "cell_type": "markdown",
   "metadata": {},
   "source": [
    "There are also some get methods to extract relevant quantities and perform simple operations, like\n",
    "the units conversion, for instance"
   ]
  },
  {
   "cell_type": "code",
   "execution_count": 15,
   "metadata": {},
   "outputs": [
    {
     "data": {
      "text/plain": [
       "6.261230355862744"
      ]
     },
     "execution_count": 15,
     "metadata": {},
     "output_type": "execute_result"
    }
   ],
   "source": [
    "results.get_fermi()"
   ]
  },
  {
   "cell_type": "markdown",
   "metadata": {},
   "source": [
    "provides the fermi energy in eV."
   ]
  },
  {
   "cell_type": "markdown",
   "metadata": {},
   "source": [
    "The class contain a methods that extract the ks dos"
   ]
  },
  {
   "cell_type": "code",
   "execution_count": 14,
   "metadata": {},
   "outputs": [],
   "source": [
    "Dos = results.Dos()\n",
    "energy = Dos[:,0]\n",
    "dos = Dos[:,1]"
   ]
  },
  {
   "cell_type": "code",
   "execution_count": 15,
   "metadata": {},
   "outputs": [],
   "source": [
    "import matplotlib.pyplot as plt"
   ]
  },
  {
   "cell_type": "code",
   "execution_count": 16,
   "metadata": {},
   "outputs": [
    {
     "data": {
      "text/plain": [
       "[<matplotlib.lines.Line2D at 0x7f32970b1208>]"
      ]
     },
     "execution_count": 16,
     "metadata": {},
     "output_type": "execute_result"
    },
    {
     "data": {
      "image/png": "[encoded data removed]",
      "text/plain": [
       "<Figure size 432x288 with 1 Axes>"
      ]
     },
     "metadata": {},
     "output_type": "display_data"
    }
   ],
   "source": [
    "plt.plot(energy,dos)"
   ]
  },
  {
   "cell_type": "markdown",
   "metadata": {},
   "source": [
    "...broad still to be tested...."
   ]
  },
  {
   "cell_type": "markdown",
   "metadata": {},
   "source": [
    "The Dos method will be removed from the parser and a more complete Dos class will be introduced."
   ]
  },
  {
   "cell_type": "markdown",
   "metadata": {},
   "source": [
    "## Parse of a nscf output file"
   ]
  },
  {
   "cell_type": "markdown",
   "metadata": {},
   "source": [
    "The parsing of the nscf (or other type) of pw calculation are performed in the same way as the scf ones.\n",
    "In these cases some attriubte are not computed by pw, for instance results.energy is equal to zero"
   ]
  },
  {
   "cell_type": "code",
   "execution_count": 37,
   "metadata": {},
   "outputs": [
    {
     "name": "stdout",
     "output_type": "stream",
     "text": [
      "Parse file : IO_files/gaas_bands.save/data-file-schema.xml\n"
     ]
    }
   ],
   "source": [
    "results = P.PwParser('IO_files/gaas_bands.save/data-file-schema.xml') # kpoints provided along a path"
   ]
  },
  {
   "cell_type": "markdown",
   "metadata": {},
   "source": [
    "In this case all the weights are equal"
   ]
  },
  {
   "cell_type": "code",
   "execution_count": 38,
   "metadata": {},
   "outputs": [
    {
     "data": {
      "text/plain": [
       "[[0.02197802197802],\n",
       " [0.02197802197802],\n",
       " [0.02197802197802],\n",
       " [0.02197802197802],\n",
       " [0.02197802197802],\n",
       " [0.02197802197802],\n",
       " [0.02197802197802],\n",
       " [0.02197802197802],\n",
       " [0.02197802197802],\n",
       " [0.02197802197802]]"
      ]
     },
     "execution_count": 38,
     "metadata": {},
     "output_type": "execute_result"
    }
   ],
   "source": [
    "results.weights[0:10]"
   ]
  },
  {
   "cell_type": "markdown",
   "metadata": {},
   "source": [
    "The presence of empty bands can be checked by looking at the occupations attribute, for instance"
   ]
  },
  {
   "cell_type": "code",
   "execution_count": 43,
   "metadata": {},
   "outputs": [
    {
     "data": {
      "text/plain": [
       "array([1., 1., 1., 1., 0., 0., 0., 0.])"
      ]
     },
     "execution_count": 43,
     "metadata": {},
     "output_type": "execute_result"
    }
   ],
   "source": [
    "results.occupations[0]"
   ]
  },
  {
   "cell_type": "code",
   "execution_count": 44,
   "metadata": {},
   "outputs": [
    {
     "data": {
      "text/plain": [
       "4"
      ]
     },
     "execution_count": 44,
     "metadata": {},
     "output_type": "execute_result"
    }
   ],
   "source": [
    "results.get_num_occupied_bands()"
   ]
  },
  {
   "cell_type": "code",
   "execution_count": 45,
   "metadata": {},
   "outputs": [
    {
     "data": {
      "text/plain": [
       "0.1729112420976524"
      ]
     },
     "execution_count": 45,
     "metadata": {},
     "output_type": "execute_result"
    }
   ],
   "source": [
    "results.fermi #*27.211386"
   ]
  },
  {
   "cell_type": "code",
   "execution_count": 46,
   "metadata": {},
   "outputs": [
    {
     "name": "stdout",
     "output_type": "stream",
     "text": [
      "Direct gap system\n",
      "=================\n",
      "Gap : 0.2255511700729025 eV\n"
     ]
    },
    {
     "data": {
      "text/plain": [
       "{'gap': 0.2255511700729025,\n",
       " 'direct_gap': 0.2255511700729025,\n",
       " 'position_cbm': 30,\n",
       " 'positon_vbm': 30}"
      ]
     },
     "execution_count": 46,
     "metadata": {},
     "output_type": "execute_result"
    }
   ],
   "source": [
    "results.get_gap()"
   ]
  },
  {
   "cell_type": "markdown",
   "metadata": {},
   "source": [
    "Test for a nscf computation of Silicon"
   ]
  },
  {
   "cell_type": "code",
   "execution_count": 50,
   "metadata": {},
   "outputs": [
    {
     "name": "stdout",
     "output_type": "stream",
     "text": [
      "Parse file : QeCalculator_test/si_nscf_test1.save/data-file-schema.xml\n"
     ]
    }
   ],
   "source": [
    "results = P.PwParser('QeCalculator_test/si_nscf_test1.save/data-file-schema.xml')"
   ]
  },
  {
   "cell_type": "code",
   "execution_count": 51,
   "metadata": {},
   "outputs": [
    {
     "name": "stdout",
     "output_type": "stream",
     "text": [
      "Indirect gap system\n",
      "===================\n",
      "Gap : 0.723410090028532 eV\n",
      "Direct gap : 2.551225478562494 eV\n"
     ]
    },
    {
     "data": {
      "text/plain": [
       "{'gap': 0.723410090028532,\n",
       " 'direct_gap': 2.551225478562494,\n",
       " 'position_cbm': 6,\n",
       " 'positon_vbm': 0}"
      ]
     },
     "execution_count": 51,
     "metadata": {},
     "output_type": "execute_result"
    }
   ],
   "source": [
    "results.get_gap()"
   ]
  },
  {
   "cell_type": "code",
   "execution_count": 52,
   "metadata": {},
   "outputs": [
    {
     "data": {
      "text/plain": [
       "[0.0, -1.0, 0.0]"
      ]
     },
     "execution_count": 52,
     "metadata": {},
     "output_type": "execute_result"
    }
   ],
   "source": [
    "results.kpoints[6]"
   ]
  },
  {
   "cell_type": "code",
   "execution_count": 64,
   "metadata": {},
   "outputs": [
    {
     "name": "stdout",
     "output_type": "stream",
     "text": [
      "Apply a scissor of 0.476589909971468 eV\n",
      "13\n",
      "8\n"
     ]
    },
    {
     "data": {
      "text/plain": [
       "array([[-1.19029066e+01, -1.15202563e-05, -1.15202537e-05,\n",
       "         0.00000000e+00,  3.02781539e+00,  3.02782024e+00,\n",
       "         3.02782024e+00,  3.62866210e+00],\n",
       "       [-1.11087187e+01, -3.91438912e+00, -7.55254677e-01,\n",
       "        -7.55246069e-01,  2.43899694e+00,  3.96697985e+00,\n",
       "         3.96698629e+00,  7.23456560e+00],\n",
       "       [-9.59277710e+00, -6.92985959e+00, -1.19275198e+00,\n",
       "        -1.19274346e+00,  1.94751203e+00,  3.81550785e+00,\n",
       "         3.81551567e+00,  8.18329730e+00],\n",
       "       [-1.08284772e+01, -3.52489435e+00, -1.87500369e+00,\n",
       "        -1.87499981e+00,  1.60868162e+00,  3.59597058e+00,\n",
       "         6.18942927e+00,  6.18942973e+00],\n",
       "       [-9.20683725e+00, -6.36137136e+00, -3.50626494e+00,\n",
       "        -2.18894813e+00,  1.99771219e+00,  4.90760667e+00,\n",
       "         6.13553231e+00,  6.36609339e+00],\n",
       "       [-9.87491703e+00, -5.46742702e+00, -3.71904713e+00,\n",
       "        -1.31943623e+00,  2.90339260e+00,  5.23463601e+00,\n",
       "         5.57391082e+00,  6.52312029e+00],\n",
       "       [-7.79007523e+00, -7.79006794e+00, -2.83149097e+00,\n",
       "        -2.83148773e+00,  1.20000000e+00,  1.20000511e+00,\n",
       "         1.04525517e+01,  1.04525529e+01],\n",
       "       [-7.63045162e+00, -7.63044384e+00, -3.81540376e+00,\n",
       "        -3.81539999e+00,  4.74673763e+00,  4.74674270e+00,\n",
       "         5.41165445e+00,  5.41165921e+00],\n",
       "       [-1.11087194e+01, -3.91438199e+00, -7.55253212e-01,\n",
       "        -7.55253212e-01,  2.43899189e+00,  3.96698073e+00,\n",
       "         3.96698073e+00,  7.23457095e+00],\n",
       "       [-9.59278222e+00, -6.92984878e+00, -1.19274985e+00,\n",
       "        -1.19274985e+00,  1.94750812e+00,  3.81550874e+00,\n",
       "         3.81550874e+00,  8.18329387e+00],\n",
       "       [-9.20683705e+00, -6.36137306e+00, -3.50625868e+00,\n",
       "        -2.18895217e+00,  1.99770600e+00,  4.90761123e+00,\n",
       "         6.13553554e+00,  6.36609686e+00],\n",
       "       [-9.20684043e+00, -6.36136315e+00, -3.50626611e+00,\n",
       "        -2.18895164e+00,  1.99770719e+00,  4.90761095e+00,\n",
       "         6.13553096e+00,  6.36609158e+00],\n",
       "       [-9.87491871e+00, -5.46741972e+00, -3.71904823e+00,\n",
       "        -1.31944114e+00,  2.90338604e+00,  5.23463905e+00,\n",
       "         5.57391314e+00,  6.52311991e+00]])"
      ]
     },
     "execution_count": 64,
     "metadata": {},
     "output_type": "execute_result"
    }
   ],
   "source": [
    "bla = results.get_evals(set_gap=1.2)\n",
    "print(len(bla))\n",
    "print(len(bla[0]))\n",
    "bla"
   ]
  },
  {
   "cell_type": "code",
   "execution_count": 65,
   "metadata": {},
   "outputs": [
    {
     "data": {
      "text/plain": [
       "8"
      ]
     },
     "execution_count": 65,
     "metadata": {},
     "output_type": "execute_result"
    }
   ],
   "source": [
    "plu =bla.T\n",
    "len(plu)"
   ]
  },
  {
   "cell_type": "code",
   "execution_count": null,
   "metadata": {},
   "outputs": [],
   "source": []
  }
 ],
 "metadata": {
  "kernelspec": {
   "display_name": "Python 3",
   "language": "python",
   "name": "python3"
  },
  "language_info": {
   "codemirror_mode": {
    "name": "ipython",
    "version": 3
   },
   "file_extension": ".py",
   "mimetype": "text/x-python",
   "name": "python",
   "nbconvert_exporter": "python",
   "pygments_lexer": "ipython3",
   "version": "3.6.9"
  }
 },
 "nbformat": 4,
 "nbformat_minor": 4
}
