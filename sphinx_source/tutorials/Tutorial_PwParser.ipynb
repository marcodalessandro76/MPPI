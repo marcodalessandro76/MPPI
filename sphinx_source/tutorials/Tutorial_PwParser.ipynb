{
 "cells": [
  {
   "cell_type": "code",
   "execution_count": 1,
   "metadata": {},
   "outputs": [],
   "source": [
    "# useful to autoreload the module without restarting the kernel\n",
    "%load_ext autoreload\n",
    "%autoreload 2"
   ]
  },
  {
   "cell_type": "code",
   "execution_count": 2,
   "metadata": {},
   "outputs": [],
   "source": [
    "from mppi import Parsers as P"
   ]
  },
  {
   "cell_type": "markdown",
   "metadata": {},
   "source": [
    "# Tutorial of the PwParser class"
   ]
  },
  {
   "cell_type": "markdown",
   "metadata": {},
   "source": [
    "This tutorial describes the usage of the class PwParser of mppi used to extract information for the XML output file data-file-schema produced\n",
    "by pw."
   ]
  },
  {
   "cell_type": "markdown",
   "metadata": {},
   "source": [
    "## Parse of a output file of Silicon "
   ]
  },
  {
   "cell_type": "markdown",
   "metadata": {},
   "source": [
    "__Follow the tutorial for the QeCalculator to produce the xml file used by the PwParser.__\n",
    "\n",
    "The class is initialized by specifying the name of the xml file including its relative path "
   ]
  },
  {
   "cell_type": "code",
   "execution_count": 34,
   "metadata": {},
   "outputs": [
    {
     "name": "stdout",
     "output_type": "stream",
     "text": [
      "Parse file : QeCalculator_test/ecut_40.save/data-file-schema.xml\n"
     ]
    }
   ],
   "source": [
    "results = P.PwParser('QeCalculator_test/ecut_40.save/data-file-schema.xml')"
   ]
  },
  {
   "cell_type": "markdown",
   "metadata": {},
   "source": [
    "When the object is initialized several attributes are set, for instance"
   ]
  },
  {
   "cell_type": "code",
   "execution_count": 35,
   "metadata": {},
   "outputs": [
    {
     "data": {
      "text/plain": [
       "'Hartree atomic units'"
      ]
     },
     "execution_count": 35,
     "metadata": {},
     "output_type": "execute_result"
    }
   ],
   "source": [
    "results.units"
   ]
  },
  {
   "cell_type": "code",
   "execution_count": 36,
   "metadata": {},
   "outputs": [
    {
     "name": "stdout",
     "output_type": "stream",
     "text": [
      "2\n",
      "{'Si': ['2.808600000000000e1', 'Si.pbe-mt_fhi.UPF']}\n",
      "[['Si', [-1.2875, 1.2875, 1.2875]], ['Si', [1.2875, -1.2875, -1.2875]]]\n",
      "4\n",
      "32\n",
      "2\n"
     ]
    }
   ],
   "source": [
    "print(results.natoms)\n",
    "print(results.atomic_species)\n",
    "print(results.atomic_positions)\n",
    "print(results.nbands)\n",
    "print(results.nkpoints)\n",
    "print(results.spin_degen)"
   ]
  },
  {
   "cell_type": "markdown",
   "metadata": {},
   "source": [
    "We can print the ks energies and weight for each kpoint"
   ]
  },
  {
   "cell_type": "code",
   "execution_count": 37,
   "metadata": {},
   "outputs": [
    {
     "name": "stdout",
     "output_type": "stream",
     "text": [
      "[0.0, 0.0, 0.0] [-0.21237912  0.22480614  0.2248063   0.22480631] [0.00925926]\n",
      "[-0.1666666666666667, 0.1666666666666667, -0.1666666666666667] [-0.19919081  0.1375121   0.20844019  0.20844032] [0.05555556]\n",
      "[-0.3333333333333333, 0.3333333333333333, -0.3333333333333333] [-0.16220055  0.02987321  0.18835681  0.18835693] [0.05555556]\n",
      "[0.5, -0.5, 0.5] [-0.12757073 -0.02957081  0.18109866  0.18109877] [0.02777778]\n",
      "[0.0, 0.3333333333333333, 0.0] [-0.1947076   0.14932703  0.18151791  0.18151797] [0.05555556]\n",
      "[-0.1666666666666667, 0.5, -0.1666666666666667] [-0.16499775  0.06224759  0.15213905  0.16134207] [0.11111111]\n",
      "[0.6666666666666666, -0.3333333333333334, 0.6666666666666666] [-0.12170123 -0.01655792  0.12356531  0.16017936] [0.11111111]\n",
      "[0.5, -0.1666666666666667, 0.5] [-0.13567106  0.00519559  0.11383639  0.17756933] [0.11111111]\n",
      "[0.3333333333333333, 2.775557561562891e-17, 0.3333333333333333] [-0.17775365  0.08840302  0.13722415  0.2041809 ] [0.05555556]\n",
      "[0.0, 0.6666666666666666, 0.0] [-0.14294831  0.04085163  0.13689103  0.13689107] [0.05555556]\n",
      "[0.8333333333333331, -0.1666666666666667, 0.8333333333333331] [-0.10058086 -0.01575635  0.09290277  0.13189433] [0.11111111]\n",
      "[0.6666666666666669, -5.551115123125783e-17, 0.6666666666666669] [-0.09353721 -0.0231098   0.06458363  0.14798162] [0.05555556]\n",
      "[0.0, -1.0, 0.0] [-0.06133218 -0.06133208  0.12103161  0.12103165] [0.02777778]\n",
      "[0.6666666666666666, -0.3333333333333334, 1.0] [-0.12894949  0.01788514  0.0951376   0.14145832] [0.11111111]\n",
      "[0.5, -0.1666666666666667, 0.8333333333333334] [-0.09319108 -0.02566625  0.07905517  0.12455994] [0.11111111]\n",
      "[-0.3333333333333333, -1.0, 0.0] [-0.05705768 -0.05705758  0.09247653  0.09247658] [0.11111111]\n",
      "[-0.1666666666666667, 0.1666666666666667, 0.1666666666666667] [-0.1991908  0.137512   0.2084403  0.2084403] [0.01851852]\n",
      "[-0.3333333333333333, 0.3333333333333333, 0.3333333333333333] [-0.16220053  0.02987311  0.1883569   0.1883569 ] [0.01851852]\n",
      "[0.5, -0.5, -0.5] [-0.12757065 -0.02957096  0.18109874  0.18109874] [0.00925926]\n",
      "[0.1666666666666666, -0.1666666666666666, 0.5] [-0.16499776  0.06224763  0.15213894  0.16134212] [0.05555556]\n",
      "[-0.1666666666666666, 0.1666666666666666, 0.5] [-0.16499774  0.0622475   0.15213908  0.16134212] [0.05555556]\n",
      "[-0.6666666666666666, 0.6666666666666666, -0.3333333333333334] [-0.12170123 -0.01655791  0.12356523  0.16017943] [0.05555556]\n",
      "[0.6666666666666666, -0.6666666666666666, -0.3333333333333334] [-0.12170117 -0.01655806  0.12356533  0.16017941] [0.05555556]\n",
      "[-0.5, 0.5, -0.1666666666666667] [-0.13567105  0.00519556  0.11383634  0.1775694 ] [0.05555556]\n",
      "[0.5, -0.5, -0.1666666666666667] [-0.13567102  0.00519546  0.11383642  0.17756939] [0.05555556]\n",
      "[-0.3333333333333333, 0.3333333333333333, 0.0] [-0.17775364  0.08840292  0.13722418  0.20418099] [0.05555556]\n",
      "[-0.8333333333333331, 0.8333333333333331, -0.1666666666666667] [-0.10058086 -0.01575633  0.0929027   0.13189438] [0.05555556]\n",
      "[0.8333333333333331, -0.8333333333333331, -0.1666666666666667] [-0.10058083 -0.01575641  0.09290276  0.13189437] [0.05555556]\n",
      "[-0.6666666666666669, 0.6666666666666669, 0.0] [-0.09353716 -0.02310991  0.06458362  0.14798167] [0.05555556]\n",
      "[-0.6666666666666665, 1.0, -0.3333333333333333] [-0.12894951  0.01788523  0.09513758  0.14145826] [0.11111111]\n",
      "[0.4999999999999999, 0.8333333333333331, 0.1666666666666667] [-0.0931911  -0.02566623  0.07905523  0.12455987] [0.05555556]\n",
      "[0.5000000000000001, -0.8333333333333334, -0.1666666666666666] [-0.09319102 -0.02566639  0.07905523  0.12455995] [0.05555556]\n"
     ]
    }
   ],
   "source": [
    "for k,e,w in zip(results.kpoints,results.evals,results.weights):\n",
    "    print(k,e,w)"
   ]
  },
  {
   "cell_type": "markdown",
   "metadata": {},
   "source": [
    "There are also several get methods, for instance"
   ]
  },
  {
   "cell_type": "code",
   "execution_count": 41,
   "metadata": {},
   "outputs": [
    {
     "name": "stdout",
     "output_type": "stream",
     "text": [
      "Fermi energy attribute not found in the ouput file. Maybe `fixed` occupation type is used?\n"
     ]
    }
   ],
   "source": [
    "results.get_fermi()"
   ]
  },
  {
   "cell_type": "markdown",
   "metadata": {},
   "source": [
    "The method get_evals  return an array with the ks energies for each kpoint. The energies are expressed in eV and the \n",
    "energy of VBM is used as reference. A gap, both direct or indirect, can be set. In this case the energies of the empty ks states is\n",
    "shifted. This procedure __does not__ update the occupation levels of the empty states"
   ]
  },
  {
   "cell_type": "code",
   "execution_count": 42,
   "metadata": {},
   "outputs": [
    {
     "name": "stdout",
     "output_type": "stream",
     "text": [
      "There are no empty bannds. `Set gap` has not been applied\n"
     ]
    },
    {
     "data": {
      "text/plain": [
       "array([-1.18964214e+01, -4.48659002e-06, -1.24152244e-09,  0.00000000e+00])"
      ]
     },
     "execution_count": 42,
     "metadata": {},
     "output_type": "execute_result"
    }
   ],
   "source": [
    "results.get_evals(set_gap=1.2)[0]"
   ]
  },
  {
   "cell_type": "code",
   "execution_count": 43,
   "metadata": {},
   "outputs": [
    {
     "name": "stdout",
     "output_type": "stream",
     "text": [
      "There are no empty states. Gap cannot be computed.\n"
     ]
    }
   ],
   "source": [
    "results.get_gap()"
   ]
  },
  {
   "cell_type": "markdown",
   "metadata": {},
   "source": [
    "We test the PwParser using a nscf output file, in this case empty bands are present and the gap can be computed"
   ]
  },
  {
   "cell_type": "code",
   "execution_count": 44,
   "metadata": {},
   "outputs": [
    {
     "name": "stdout",
     "output_type": "stream",
     "text": [
      "Parse file : QeCalculator_test/bands_12.save/data-file-schema.xml\n"
     ]
    }
   ],
   "source": [
    "result_nscf = P.PwParser('QeCalculator_test/bands_12.save/data-file-schema.xml')"
   ]
  },
  {
   "cell_type": "code",
   "execution_count": 45,
   "metadata": {},
   "outputs": [
    {
     "data": {
      "text/plain": [
       "array([1., 1., 1., 1., 0., 0., 0., 0., 0., 0., 0., 0.])"
      ]
     },
     "execution_count": 45,
     "metadata": {},
     "output_type": "execute_result"
    }
   ],
   "source": [
    "result_nscf.occupations[0]"
   ]
  },
  {
   "cell_type": "code",
   "execution_count": 46,
   "metadata": {},
   "outputs": [
    {
     "name": "stdout",
     "output_type": "stream",
     "text": [
      "Indirect gap system\n",
      "===================\n",
      "Gap : 0.7363567574170765 eV\n",
      "Direct gap : 2.5651333558109863 eV\n"
     ]
    },
    {
     "data": {
      "text/plain": [
       "{'gap': 0.7363567574170765,\n",
       " 'direct_gap': 2.5651333558109863,\n",
       " 'position_cbm': 12,\n",
       " 'positon_vbm': 0}"
      ]
     },
     "execution_count": 46,
     "metadata": {},
     "output_type": "execute_result"
    }
   ],
   "source": [
    "result_nscf.get_gap()"
   ]
  },
  {
   "cell_type": "code",
   "execution_count": 47,
   "metadata": {},
   "outputs": [
    {
     "name": "stdout",
     "output_type": "stream",
     "text": [
      "Apply a scissor of 0.43486664418901366 eV\n"
     ]
    },
    {
     "data": {
      "text/plain": [
       "array([-1.18964110e+01, -9.74240383e-07, -9.74234497e-07,  0.00000000e+00,\n",
       "        3.00000000e+00,  3.00000056e+00,  3.00000056e+00,  3.58353139e+00,\n",
       "        8.17161688e+00,  8.17161688e+00,  8.29564293e+00,  1.16527216e+01])"
      ]
     },
     "execution_count": 47,
     "metadata": {},
     "output_type": "execute_result"
    }
   ],
   "source": [
    "result_nscf.get_evals(set_direct_gap=3.0)[0]"
   ]
  },
  {
   "cell_type": "markdown",
   "metadata": {},
   "source": [
    "we see that in this case the energy of the 5-th states has been shift to 3 eV to implement the set_direct_gap requirement. "
   ]
  },
  {
   "cell_type": "markdown",
   "metadata": {},
   "source": [
    "## Parse of a Graphene output file"
   ]
  },
  {
   "cell_type": "markdown",
   "metadata": {},
   "source": [
    "__Run the Analysis_BandStructure notebook to produce the xml file used by the PwParser.__\n",
    "\n",
    "We parse a graphene output file to test if systems without a gap are correctly parsed."
   ]
  },
  {
   "cell_type": "code",
   "execution_count": 48,
   "metadata": {},
   "outputs": [
    {
     "name": "stdout",
     "output_type": "stream",
     "text": [
      "Parse file : Pw_bands/graphene_nscf.save/data-file-schema.xml\n"
     ]
    }
   ],
   "source": [
    "results_gra = P.PwParser('Pw_bands/graphene_nscf.save/data-file-schema.xml')"
   ]
  },
  {
   "cell_type": "code",
   "execution_count": 49,
   "metadata": {},
   "outputs": [
    {
     "data": {
      "text/plain": [
       "'smearing'"
      ]
     },
     "execution_count": 49,
     "metadata": {},
     "output_type": "execute_result"
    }
   ],
   "source": [
    "results_gra.occupations_kind"
   ]
  },
  {
   "cell_type": "code",
   "execution_count": 50,
   "metadata": {},
   "outputs": [
    {
     "data": {
      "text/plain": [
       "array([1.00000000e+00, 1.00000000e+00, 1.00000000e+00, 1.00000000e+00,\n",
       "       4.22181265e-29, 6.89778699e-37, 1.76721673e-41, 1.28104982e-57])"
      ]
     },
     "execution_count": 50,
     "metadata": {},
     "output_type": "execute_result"
    }
   ],
   "source": [
    "results_gra.occupations[0]"
   ]
  },
  {
   "cell_type": "code",
   "execution_count": 51,
   "metadata": {},
   "outputs": [
    {
     "data": {
      "text/plain": [
       "array([1. , 1. , 1. , 0.5, 0.5, 0. , 0. , 0. ])"
      ]
     },
     "execution_count": 51,
     "metadata": {},
     "output_type": "execute_result"
    }
   ],
   "source": [
    "results_gra.occupations[18] #the position of K"
   ]
  },
  {
   "cell_type": "code",
   "execution_count": 52,
   "metadata": {},
   "outputs": [
    {
     "name": "stdout",
     "output_type": "stream",
     "text": [
      "Direct gap system\n",
      "=================\n",
      "Gap : 2.715685792485934e-10 eV\n"
     ]
    },
    {
     "data": {
      "text/plain": [
       "{'gap': 2.715685792485934e-10,\n",
       " 'direct_gap': 2.715685792485934e-10,\n",
       " 'position_cbm': 18,\n",
       " 'positon_vbm': 18}"
      ]
     },
     "execution_count": 52,
     "metadata": {},
     "output_type": "execute_result"
    }
   ],
   "source": [
    "results_gra.get_gap()"
   ]
  },
  {
   "cell_type": "code",
   "execution_count": 53,
   "metadata": {},
   "outputs": [
    {
     "data": {
      "text/plain": [
       "-1.734315271671807"
      ]
     },
     "execution_count": 53,
     "metadata": {},
     "output_type": "execute_result"
    }
   ],
   "source": [
    "results_gra.get_fermi()"
   ]
  },
  {
   "cell_type": "code",
   "execution_count": 12,
   "metadata": {},
   "outputs": [],
   "source": [
    "import xml.etree.ElementTree as ET\n",
    "data = ET.parse('Pw_bands/graphene_nscf.save/data-file-schema.xml').getroot()"
   ]
  },
  {
   "cell_type": "code",
   "execution_count": 25,
   "metadata": {},
   "outputs": [
    {
     "data": {
      "text/plain": [
       "'-6.373491124898257e-2'"
      ]
     },
     "execution_count": 25,
     "metadata": {},
     "output_type": "execute_result"
    }
   ],
   "source": [
    "data.find('output/band_structure/fermi_energy').text"
   ]
  },
  {
   "cell_type": "code",
   "execution_count": null,
   "metadata": {},
   "outputs": [],
   "source": []
  }
 ],
 "metadata": {
  "kernelspec": {
   "display_name": "Python 3",
   "language": "python",
   "name": "python3"
  },
  "language_info": {
   "codemirror_mode": {
    "name": "ipython",
    "version": 3
   },
   "file_extension": ".py",
   "mimetype": "text/x-python",
   "name": "python",
   "nbconvert_exporter": "python",
   "pygments_lexer": "ipython3",
   "version": "3.6.9"
  }
 },
 "nbformat": 4,
 "nbformat_minor": 4
}
