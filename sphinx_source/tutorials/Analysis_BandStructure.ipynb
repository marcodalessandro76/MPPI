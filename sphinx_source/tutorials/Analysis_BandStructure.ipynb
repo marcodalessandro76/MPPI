{
 "cells": [
  {
   "cell_type": "code",
   "execution_count": 1,
   "metadata": {},
   "outputs": [],
   "source": [
    "# useful to autoreload the module without restarting the kernel\n",
    "%load_ext autoreload\n",
    "%autoreload 2"
   ]
  },
  {
   "cell_type": "code",
   "execution_count": 2,
   "metadata": {},
   "outputs": [],
   "source": [
    "from mppi import InputFiles as I, Calculators as C, Utilities as U\n",
    "import matplotlib.pyplot as plt\n",
    "import os\n",
    "import numpy as np"
   ]
  },
  {
   "cell_type": "code",
   "execution_count": 3,
   "metadata": {},
   "outputs": [],
   "source": [
    "omp = 1\n",
    "mpi_run = 'mpirun -np 8'"
   ]
  },
  {
   "cell_type": "markdown",
   "metadata": {},
   "source": [
    "# Analysis of the band structure with QuantumESPRESSO"
   ]
  },
  {
   "cell_type": "code",
   "execution_count": 4,
   "metadata": {},
   "outputs": [],
   "source": [
    "run_dir = 'Pw_bands'"
   ]
  },
  {
   "cell_type": "markdown",
   "metadata": {},
   "source": [
    "We compute the band structure of Silicon and Gallium arsenide using the tools for QuantumESPRESSO"
   ]
  },
  {
   "cell_type": "markdown",
   "metadata": {},
   "source": [
    "## Band structure of GaAs"
   ]
  },
  {
   "cell_type": "markdown",
   "metadata": {},
   "source": [
    "The first step consists in a scf computation "
   ]
  },
  {
   "cell_type": "code",
   "execution_count": 5,
   "metadata": {},
   "outputs": [],
   "source": [
    "scf_prefix = 'gaas_scf'\n",
    "bands_prefix = 'gaas_bands'"
   ]
  },
  {
   "cell_type": "code",
   "execution_count": 6,
   "metadata": {},
   "outputs": [],
   "source": [
    "inp = I.PwInput(file='IO_files/gaas_scf.in')\n",
    "inp.set_prefix(scf_prefix)\n",
    "inp.set_energy_cutoff(60)\n",
    "inp.set_kpoints(points=[6,6,6])\n",
    "#inp"
   ]
  },
  {
   "cell_type": "code",
   "execution_count": 7,
   "metadata": {},
   "outputs": [
    {
     "name": "stdout",
     "output_type": "stream",
     "text": [
      "Initialize a parallel QuantumESPRESSO calculator with scheduler direct\n"
     ]
    }
   ],
   "source": [
    "code = C.QeCalculator(omp=omp,mpi_run=mpi_run,skip=True)"
   ]
  },
  {
   "cell_type": "code",
   "execution_count": 8,
   "metadata": {},
   "outputs": [
    {
     "name": "stdout",
     "output_type": "stream",
     "text": [
      "Skip the computation for input gaas_scf\n",
      "Job completed\n"
     ]
    },
    {
     "data": {
      "text/plain": [
       "{'output': ['Pw_bands/gaas_scf.save/data-file-schema.xml']}"
      ]
     },
     "execution_count": 8,
     "metadata": {},
     "output_type": "execute_result"
    }
   ],
   "source": [
    "code.run(inputs=[inp],run_dir=run_dir,names=[scf_prefix])"
   ]
  },
  {
   "cell_type": "markdown",
   "metadata": {},
   "source": [
    "Now we perform the bands computation specifying the kpoints on a path. \n",
    "\n",
    "To define the path we write the coordinates of the high symmetry points (using the tpiba_b type of\n",
    "pw) and we make usage of the function build_kpath"
   ]
  },
  {
   "cell_type": "code",
   "execution_count": 9,
   "metadata": {},
   "outputs": [],
   "source": [
    "G = [0.,0.,0.]\n",
    "X = [0.,0.,1.]\n",
    "L = [0.5,0.5,0.5]\n",
    "W = [1.0,0.5,0.]\n",
    "K = [0.,1.,1.]\n",
    "\n",
    "# useful to label the high-sym point on the path\n",
    "high_sym = {'X':X,'L':L,'G':G,'K':K,'W':W} "
   ]
  },
  {
   "cell_type": "code",
   "execution_count": 10,
   "metadata": {},
   "outputs": [
    {
     "data": {
      "text/plain": [
       "[[0.5, 0.5, 0.5, 30],\n",
       " [0.0, 0.0, 0.0, 30],\n",
       " [0.0, 0.0, 1.0, 30],\n",
       " [0.0, 1.0, 1.0, 30],\n",
       " [0.0, 0.0, 0.0, 0]]"
      ]
     },
     "execution_count": 10,
     "metadata": {},
     "output_type": "execute_result"
    }
   ],
   "source": [
    "klist = U.build_kpath(L,G,X,K,G,numstep=30)\n",
    "klist"
   ]
  },
  {
   "cell_type": "code",
   "execution_count": 11,
   "metadata": {},
   "outputs": [],
   "source": [
    "inp.set_bands(8)\n",
    "inp.set_prefix(bands_prefix)\n",
    "inp.set_kpoints(type='tpiba_b',path=klist)\n",
    "#inp"
   ]
  },
  {
   "cell_type": "code",
   "execution_count": 12,
   "metadata": {},
   "outputs": [
    {
     "name": "stdout",
     "output_type": "stream",
     "text": [
      "The folder Pw_bands/gaas_bands.save already exsists. Source folder Pw_bands/gaas_scf.save not copied\n",
      "Skip the computation for input gaas_bands\n",
      "Job completed\n"
     ]
    },
    {
     "data": {
      "text/plain": [
       "{'output': ['Pw_bands/gaas_bands.save/data-file-schema.xml']}"
      ]
     },
     "execution_count": 12,
     "metadata": {},
     "output_type": "execute_result"
    }
   ],
   "source": [
    "results_gaas = code.run(inputs=[inp],run_dir=run_dir,names=[bands_prefix],source_dir=os.path.join(run_dir,scf_prefix)+'.save')\n",
    "results_gaas"
   ]
  },
  {
   "cell_type": "markdown",
   "metadata": {},
   "source": [
    "Once that the computation is over we can create an instance of BandStructure. The gap can be set when we init the class"
   ]
  },
  {
   "cell_type": "code",
   "execution_count": 13,
   "metadata": {},
   "outputs": [
    {
     "name": "stdout",
     "output_type": "stream",
     "text": [
      "Apply a scissor of 1.1945698886779335 eV\n"
     ]
    }
   ],
   "source": [
    "bands_gaas = U.BandStructure.from_Pw(results_gaas['output'][0],high_sym,set_gap=1.42)"
   ]
  },
  {
   "cell_type": "markdown",
   "metadata": {},
   "source": [
    "The class contains some methods that return the bands, the kpath or the position of the high symmetry points on the path"
   ]
  },
  {
   "cell_type": "markdown",
   "metadata": {},
   "source": [
    "It contains also a plot method that show the band structure"
   ]
  },
  {
   "cell_type": "code",
   "execution_count": 14,
   "metadata": {},
   "outputs": [
    {
     "data": {
      "image/png": "[encoded data removed]",
      "text/plain": [
       "<Figure size 432x288 with 1 Axes>"
      ]
     },
     "metadata": {},
     "output_type": "display_data"
    }
   ],
   "source": [
    "%matplotlib inline\n",
    "plt.title('GaAs bands')\n",
    "plt.ylim(-8,5)\n",
    "bands_gaas.plot(plt,selection=[1,2,3,4,5])"
   ]
  },
  {
   "cell_type": "markdown",
   "metadata": {},
   "source": [
    "## Band structure of GaAs with spin-orbit coupling"
   ]
  },
  {
   "cell_type": "markdown",
   "metadata": {},
   "source": [
    "We repeat the computation of the band structure of GaAs including the spin-orbit. To do so we use a full relativistic pseudopotential\n",
    "that is able to include the spin-orbit. "
   ]
  },
  {
   "cell_type": "markdown",
   "metadata": {},
   "source": [
    "The first step consists in a scf computation "
   ]
  },
  {
   "cell_type": "code",
   "execution_count": 15,
   "metadata": {},
   "outputs": [],
   "source": [
    "scf_prefix = 'gaas_scf_so'\n",
    "nscf_prefix = 'gaas_nscf_so'\n",
    "bands_prefix = 'gaas_bands_so'"
   ]
  },
  {
   "cell_type": "code",
   "execution_count": 16,
   "metadata": {},
   "outputs": [
    {
     "data": {
      "text/plain": [
       "{'control': {'verbosity': \"'high'\",\n",
       "  'pseudo_dir': \"'../pseudos'\",\n",
       "  'calculation': \"'scf'\",\n",
       "  'prefix': \"'gaas_scf_so'\"},\n",
       " 'system': {'occupations': \"'fixed'\",\n",
       "  'ibrav': '2',\n",
       "  'celldm(1)': '10.677',\n",
       "  'ntyp': '2',\n",
       "  'nat': '2',\n",
       "  'ecutwfc': 80,\n",
       "  'lspinorb': '.true.',\n",
       "  'noncolin': '.true.'},\n",
       " 'electrons': {'conv_thr': '1e-08'},\n",
       " 'ions': {},\n",
       " 'cell': {},\n",
       " 'atomic_species': {'Ga': ['1.0', 'Ga_rel.pz-rrkj3.UPF'],\n",
       "  'As': ['1.0', 'As_rel.pz-rrkj3.UPF']},\n",
       " 'atomic_positions': {'type': 'crystal',\n",
       "  'values': [['Ga', [0.0, 0.0, 0.0]], ['As', [0.25, 0.25, 0.25]]]},\n",
       " 'kpoints': {'type': 'automatic',\n",
       "  'values': ([6.0, 6.0, 6.0], [0.0, 0.0, 0.0])},\n",
       " 'cell_parameters': {},\n",
       " 'file': 'IO_files/gaas_scf.in'}"
      ]
     },
     "execution_count": 16,
     "metadata": {},
     "output_type": "execute_result"
    }
   ],
   "source": [
    "inp = I.PwInput('IO_files/gaas_scf.in')\n",
    "inp.set_prefix(scf_prefix)\n",
    "inp.set_energy_cutoff(80)\n",
    "inp.set_spinorbit()\n",
    "inp.set_kpoints(points = [6.,6.,6.])\n",
    "inp.add_atom('Ga','Ga_rel.pz-rrkj3.UPF')\n",
    "inp.add_atom('As','As_rel.pz-rrkj3.UPF')\n",
    "inp"
   ]
  },
  {
   "cell_type": "code",
   "execution_count": 17,
   "metadata": {},
   "outputs": [
    {
     "name": "stdout",
     "output_type": "stream",
     "text": [
      "Initialize a parallel QuantumESPRESSO calculator with scheduler direct\n"
     ]
    }
   ],
   "source": [
    "code = C.QeCalculator(omp=omp,mpi_run=mpi_run,skip=True)"
   ]
  },
  {
   "cell_type": "code",
   "execution_count": 18,
   "metadata": {},
   "outputs": [
    {
     "name": "stdout",
     "output_type": "stream",
     "text": [
      "Skip the computation for input gaas_scf_so\n",
      "Job completed\n"
     ]
    },
    {
     "data": {
      "text/plain": [
       "{'output': ['Pw_bands/gaas_scf_so.save/data-file-schema.xml']}"
      ]
     },
     "execution_count": 18,
     "metadata": {},
     "output_type": "execute_result"
    }
   ],
   "source": [
    "code.run(inputs=[inp],run_dir=run_dir,names=[scf_prefix])"
   ]
  },
  {
   "cell_type": "markdown",
   "metadata": {},
   "source": [
    "Before performing the bands computation we make an nscf computation on a regular kpath, this will be useful for the bands analysis \n",
    "using the ypp tools. \n",
    "\n",
    "We compute 12 bands since in this case the spin degeneracy is equal to 1 and there 8 occupied bands"
   ]
  },
  {
   "cell_type": "code",
   "execution_count": 19,
   "metadata": {},
   "outputs": [],
   "source": [
    "inp.set_nscf(12,force_symmorphic=True) #use force_symmorphic = True since this computation is used as input of a Yambo computation later\n",
    "inp.set_prefix(nscf_prefix)\n",
    "#inp"
   ]
  },
  {
   "cell_type": "code",
   "execution_count": 20,
   "metadata": {},
   "outputs": [
    {
     "name": "stdout",
     "output_type": "stream",
     "text": [
      "delete log file: Pw_bands/gaas_nscf_so.log\n",
      "delete xml file: Pw_bands/gaas_nscf_so.xml\n",
      "delete folder: Pw_bands/gaas_nscf_so.save\n",
      "Copy source_dir Pw_bands/gaas_scf_so.save in the Pw_bands/gaas_nscf_so.save\n",
      "Executing command: cd Pw_bands; mpirun -np 8 pw.x -inp gaas_nscf_so.in > gaas_nscf_so.log\n",
      "run0_is_running:True  \n",
      "run0_is_running:True  \n",
      "run0_is_running:True  \n",
      "run0_is_running:True  \n",
      "Job completed\n"
     ]
    },
    {
     "data": {
      "text/plain": [
       "{'output': ['Pw_bands/gaas_nscf_so.save/data-file-schema.xml']}"
      ]
     },
     "execution_count": 20,
     "metadata": {},
     "output_type": "execute_result"
    }
   ],
   "source": [
    "code.run(inputs=[inp],run_dir=run_dir,names=[nscf_prefix],source_dir=os.path.join(run_dir,scf_prefix)+'.save',skip=False)"
   ]
  },
  {
   "cell_type": "markdown",
   "metadata": {},
   "source": [
    "Now we perform the bands computation specifying the kpoints on a path. \n",
    "\n",
    "To define the path we write the coordinates of the high symmetry points (using the tpiba_b type of\n",
    "pw) and we make usage of the function build_kpath"
   ]
  },
  {
   "cell_type": "code",
   "execution_count": 21,
   "metadata": {},
   "outputs": [],
   "source": [
    "G = [0.,0.,0.]\n",
    "X = [0.,0.,1.]\n",
    "L = [0.5,0.5,0.5]\n",
    "W = [1.0,0.5,0.]\n",
    "K = [0.,1.,1.]\n",
    "\n",
    "# useful to label the high-sym point on the path\n",
    "high_sym = {'X':X,'L':L,'G':G,'K':K,'W':W} "
   ]
  },
  {
   "cell_type": "code",
   "execution_count": 22,
   "metadata": {},
   "outputs": [
    {
     "data": {
      "text/plain": [
       "[[0.5, 0.5, 0.5, 30],\n",
       " [0.0, 0.0, 0.0, 30],\n",
       " [0.0, 0.0, 1.0, 30],\n",
       " [0.0, 1.0, 1.0, 30],\n",
       " [0.0, 0.0, 0.0, 0]]"
      ]
     },
     "execution_count": 22,
     "metadata": {},
     "output_type": "execute_result"
    }
   ],
   "source": [
    "klist = U.build_kpath(L,G,X,K,G,numstep=30)\n",
    "klist"
   ]
  },
  {
   "cell_type": "code",
   "execution_count": 23,
   "metadata": {},
   "outputs": [],
   "source": [
    "inp.set_bands(12)\n",
    "inp.set_prefix(bands_prefix)\n",
    "inp.set_kpoints(type='tpiba_b',path=klist)\n",
    "#inp"
   ]
  },
  {
   "cell_type": "code",
   "execution_count": 24,
   "metadata": {},
   "outputs": [
    {
     "name": "stdout",
     "output_type": "stream",
     "text": [
      "The folder Pw_bands/gaas_bands_so.save already exsists. Source folder Pw_bands/gaas_scf_so.save not copied\n",
      "Skip the computation for input gaas_bands_so\n",
      "Job completed\n"
     ]
    }
   ],
   "source": [
    "results_gaas_so = code.run(inputs=[inp],run_dir=run_dir,names=[bands_prefix],source_dir=os.path.join(run_dir,scf_prefix)+'.save')"
   ]
  },
  {
   "cell_type": "markdown",
   "metadata": {},
   "source": [
    "Once that the computation is over we can create an instance of BandStructure"
   ]
  },
  {
   "cell_type": "code",
   "execution_count": 25,
   "metadata": {},
   "outputs": [
    {
     "name": "stdout",
     "output_type": "stream",
     "text": [
      "Apply a scissor of 1.0019927808099969 eV\n"
     ]
    }
   ],
   "source": [
    "bands_gaas_so = U.BandStructure.from_Pw(results_gaas_so['output'][0],high_sym,set_gap=1.42)"
   ]
  },
  {
   "cell_type": "code",
   "execution_count": 26,
   "metadata": {},
   "outputs": [
    {
     "data": {
      "image/png": "[encoded data removed]",
      "text/plain": [
       "<Figure size 432x288 with 1 Axes>"
      ]
     },
     "metadata": {},
     "output_type": "display_data"
    }
   ],
   "source": [
    "%matplotlib inline\n",
    "plt.title('GaAs bands with spin-orbit')\n",
    "plt.ylim(-8,4)\n",
    "bands_gaas_so.plot(plt,selection=[2,3,4,5,6,7,8,9,10,11])"
   ]
  },
  {
   "cell_type": "markdown",
   "metadata": {},
   "source": [
    "Note that in this case we need to display twice the bands respect to the previous example since each band accomodate only one electron in\n",
    "a specific spin state. "
   ]
  },
  {
   "cell_type": "markdown",
   "metadata": {},
   "source": [
    "## Band structure of Silicon"
   ]
  },
  {
   "cell_type": "markdown",
   "metadata": {},
   "source": [
    "The first step consists in a scf computation "
   ]
  },
  {
   "cell_type": "code",
   "execution_count": 27,
   "metadata": {},
   "outputs": [],
   "source": [
    "scf_prefix = 'si_scf'\n",
    "bands_prefix = 'si_bands'"
   ]
  },
  {
   "cell_type": "code",
   "execution_count": 28,
   "metadata": {},
   "outputs": [],
   "source": [
    "inp = I.PwInput(file='IO_files/si_scf.in')\n",
    "inp.set_prefix(scf_prefix)\n",
    "inp.set_energy_cutoff(60)\n",
    "inp.set_kpoints(points=[6,6,6])\n",
    "#inp"
   ]
  },
  {
   "cell_type": "code",
   "execution_count": 29,
   "metadata": {},
   "outputs": [
    {
     "name": "stdout",
     "output_type": "stream",
     "text": [
      "Initialize a parallel QuantumESPRESSO calculator with scheduler direct\n"
     ]
    }
   ],
   "source": [
    "code = C.QeCalculator(omp=omp,mpi_run=mpi_run,skip=True)"
   ]
  },
  {
   "cell_type": "code",
   "execution_count": 30,
   "metadata": {},
   "outputs": [
    {
     "name": "stdout",
     "output_type": "stream",
     "text": [
      "Skip the computation for input si_scf\n",
      "Job completed\n"
     ]
    },
    {
     "data": {
      "text/plain": [
       "{'output': ['Pw_bands/si_scf.save/data-file-schema.xml']}"
      ]
     },
     "execution_count": 30,
     "metadata": {},
     "output_type": "execute_result"
    }
   ],
   "source": [
    "code.run(inputs=[inp],run_dir=run_dir,names=[scf_prefix])"
   ]
  },
  {
   "cell_type": "markdown",
   "metadata": {},
   "source": [
    "Now we perform the bands computation specifying the kpoints on a path. \n",
    "\n",
    "To define the path we write the coordinates of the high symmetry points (using the tpiba_b type of\n",
    "pw) and we make usage of the function build_kpath"
   ]
  },
  {
   "cell_type": "code",
   "execution_count": 31,
   "metadata": {},
   "outputs": [],
   "source": [
    "G = [0.,0.,0.]\n",
    "X = [0.,0.,1.]\n",
    "L = [0.5,0.5,0.5]\n",
    "W = [1.0,0.5,0.]\n",
    "K = [0.,1.,1.]\n",
    "\n",
    "# useful to label the high-sym point on the path\n",
    "high_sym = {'X':X,'L':L,'G':G,'K':K,'W':W} "
   ]
  },
  {
   "cell_type": "code",
   "execution_count": 32,
   "metadata": {},
   "outputs": [],
   "source": [
    "klist = U.build_kpath(L,G,X,K,G,numstep=30)\n",
    "#klist"
   ]
  },
  {
   "cell_type": "code",
   "execution_count": 33,
   "metadata": {},
   "outputs": [],
   "source": [
    "inp.set_bands(8)\n",
    "inp.set_prefix(bands_prefix)\n",
    "inp.set_kpoints(type='tpiba_b',path=klist)\n",
    "#inp"
   ]
  },
  {
   "cell_type": "code",
   "execution_count": 34,
   "metadata": {},
   "outputs": [
    {
     "name": "stdout",
     "output_type": "stream",
     "text": [
      "The folder Pw_bands/si_bands.save already exsists. Source folder Pw_bands/si_scf.save not copied\n",
      "Skip the computation for input si_bands\n",
      "Job completed\n"
     ]
    }
   ],
   "source": [
    "results_si = code.run(inputs=[inp],run_dir=run_dir,names=[bands_prefix],source_dir=os.path.join(run_dir,scf_prefix)+'.save')"
   ]
  },
  {
   "cell_type": "markdown",
   "metadata": {},
   "source": [
    "Once that the computation is over we can create an instance of PwBands"
   ]
  },
  {
   "cell_type": "code",
   "execution_count": 35,
   "metadata": {},
   "outputs": [
    {
     "name": "stdout",
     "output_type": "stream",
     "text": [
      "Apply a scissor of 0.6044443799174577 eV\n"
     ]
    }
   ],
   "source": [
    "bands_si = U.BandStructure.from_Pw(results_si['output'][0],high_sym,set_gap=1.2)"
   ]
  },
  {
   "cell_type": "markdown",
   "metadata": {},
   "source": [
    "It contains also a plot method that show the band structure"
   ]
  },
  {
   "cell_type": "code",
   "execution_count": 36,
   "metadata": {},
   "outputs": [
    {
     "data": {
      "image/png": "[encoded data removed]",
      "text/plain": [
       "<Figure size 432x288 with 1 Axes>"
      ]
     },
     "metadata": {},
     "output_type": "display_data"
    }
   ],
   "source": [
    "%matplotlib inline\n",
    "plt.title('Si bands')\n",
    "plt.ylim(-5,4)\n",
    "bands_si.plot(plt,selection=[1,2,3,4,5])"
   ]
  },
  {
   "cell_type": "markdown",
   "metadata": {},
   "source": [
    "## Band structure of Graphene"
   ]
  },
  {
   "cell_type": "code",
   "execution_count": 37,
   "metadata": {},
   "outputs": [],
   "source": [
    "scf_prefix = 'graphene_scf'\n",
    "nscf_prefix = 'graphene_nscf'\n",
    "bands_prefix = 'graphene_bands'"
   ]
  },
  {
   "cell_type": "markdown",
   "metadata": {},
   "source": [
    "The lattice is oriented with the zig-zag along the y axis. The basis vector are chosen as:\n",
    "\n",
    "$$\n",
    "a_1 = \\frac{a}{2}(3,\\sqrt{3},0) \\, ,\\quad a_2 = \\frac{a}{2}(3,-\\sqrt{3},0) \\, ,\\quad\n",
    "a_3 = (0,0,\\delta_z)\n",
    "$$\n",
    "\n",
    "Here $a$ represents the CC nn distance. The position of the atoms in the lattice is given by:\n",
    "\n",
    "$$\n",
    "A = (0,0,0) \\, \\qquad B = \\frac{a}{2}(1,\\sqrt{3},0)\n",
    "$$\n",
    "The lattice constant is given by $a_{lat} = \\sqrt{3}a$.\n",
    "\n",
    "The position of the high symmetry points of the reciprocal lattice (in units of $2\\pi/a_{alat}$) are given by:\n",
    "\n",
    "$$\n",
    "M = (\\frac{1}{\\sqrt{3}},0) \\, \\quad\n",
    "K = (\\frac{1}{\\sqrt{3}},\\frac{1}{3}) \n",
    "$$"
   ]
  },
  {
   "cell_type": "code",
   "execution_count": 38,
   "metadata": {},
   "outputs": [],
   "source": [
    "pseudo_pbe = 'C_pbe-20082014.UPF' #pbe\n",
    "delta = 15 # Angstrom\n",
    "a0 = 1.42495 # PBE cc equilibrium distance among nearest C atoms\n",
    "engCutoff = 60 # Ry\n",
    "numKpoints = 12\n",
    "\n",
    "import numpy as np\n",
    "a1 = [a0/2.*3.,a0/2.*np.sqrt(3.),0.]\n",
    "a2 = [a0/2.*3.,-a0/2.*np.sqrt(3.),0.]\n",
    "a3 = [0.,0.,delta]\n",
    "A = [0.,0.,0.]\n",
    "B = [a0/2.,a0/2.*np.sqrt(3.),0.]"
   ]
  },
  {
   "cell_type": "code",
   "execution_count": 39,
   "metadata": {},
   "outputs": [],
   "source": [
    "inp = I.PwInput()\n",
    "inp.set_scf()\n",
    "inp.set_prefix(scf_prefix)\n",
    "inp.set_pseudo_dir()\n",
    "inp.add_atom(atom='C',pseudo_name=pseudo_pbe,mass=12.011)\n",
    "inp.set_atoms_number(2)\n",
    "inp.set_energy_cutoff(engCutoff)\n",
    "inp.set_atomic_positions([['C',A],['C',B]],type='angstrom')\n",
    "inp.set_lattice(ibrav=0,cell_vectors=[a1,a2,a3],cell_units='angstrom')\n",
    "inp.set_occupations(occupations='smearing',degauss=50.)\n",
    "inp.set_kpoints(points = [numKpoints,numKpoints,1])\n",
    "#inp"
   ]
  },
  {
   "cell_type": "code",
   "execution_count": 40,
   "metadata": {},
   "outputs": [
    {
     "name": "stdout",
     "output_type": "stream",
     "text": [
      "Initialize a parallel QuantumESPRESSO calculator with scheduler direct\n"
     ]
    }
   ],
   "source": [
    "code = C.QeCalculator(omp=omp,mpi_run=mpi_run,skip=True)"
   ]
  },
  {
   "cell_type": "code",
   "execution_count": 41,
   "metadata": {},
   "outputs": [
    {
     "name": "stdout",
     "output_type": "stream",
     "text": [
      "Skip the computation for input graphene_scf\n",
      "Job completed\n"
     ]
    },
    {
     "data": {
      "text/plain": [
       "{'output': ['Pw_bands/graphene_scf.save/data-file-schema.xml']}"
      ]
     },
     "execution_count": 41,
     "metadata": {},
     "output_type": "execute_result"
    }
   ],
   "source": [
    "code.run(inputs=[inp],run_dir=run_dir,names=[scf_prefix])"
   ]
  },
  {
   "cell_type": "markdown",
   "metadata": {},
   "source": [
    "We perfrom also a nscf computation on a regular grid of kpoint. Results of this computation are used by the\n",
    "other tutorials of the package"
   ]
  },
  {
   "cell_type": "code",
   "execution_count": 42,
   "metadata": {},
   "outputs": [
    {
     "data": {
      "text/plain": [
       "{'control': {'calculation': \"'nscf'\",\n",
       "  'verbosity': \"'high'\",\n",
       "  'prefix': \"'graphene_nscf'\",\n",
       "  'pseudo_dir': \"'../pseudos'\"},\n",
       " 'system': {'force_symmorphic': '.false.',\n",
       "  'ntyp': '1',\n",
       "  'nat': '2',\n",
       "  'ecutwfc': 60,\n",
       "  'ibrav': 0,\n",
       "  'occupations': \"'smearing'\",\n",
       "  'smearing': \"'fermi-dirac'\",\n",
       "  'degauss': 0.00367493225078649,\n",
       "  'nbnd': 8},\n",
       " 'electrons': {'conv_thr': 1e-08, 'diago_full_acc': '.false.'},\n",
       " 'ions': {},\n",
       " 'cell': {},\n",
       " 'atomic_species': {'C': [12.011, 'C_pbe-20082014.UPF']},\n",
       " 'atomic_positions': {'type': 'angstrom',\n",
       "  'values': [['C', [0.0, 0.0, 0.0]],\n",
       "   ['C', [0.712475, 1.2340428991226358, 0.0]]]},\n",
       " 'kpoints': {'type': 'automatic', 'values': ([12, 12, 1], [0.0, 0.0, 0.0])},\n",
       " 'cell_parameters': {'type': 'angstrom',\n",
       "  'values': [[2.137425, 1.2340428991226358, 0.0],\n",
       "   [2.137425, -1.2340428991226358, 0.0],\n",
       "   [0.0, 0.0, 15]]}}"
      ]
     },
     "execution_count": 42,
     "metadata": {},
     "output_type": "execute_result"
    }
   ],
   "source": [
    "inp.set_nscf(8)\n",
    "inp.set_prefix(nscf_prefix)\n",
    "inp"
   ]
  },
  {
   "cell_type": "code",
   "execution_count": 43,
   "metadata": {},
   "outputs": [
    {
     "name": "stdout",
     "output_type": "stream",
     "text": [
      "The folder Pw_bands/graphene_nscf.save already exsists. Source folder Pw_bands/graphene_scf.save not copied\n",
      "Skip the computation for input graphene_nscf\n",
      "Job completed\n"
     ]
    },
    {
     "data": {
      "text/plain": [
       "{'output': ['Pw_bands/graphene_nscf.save/data-file-schema.xml']}"
      ]
     },
     "execution_count": 43,
     "metadata": {},
     "output_type": "execute_result"
    }
   ],
   "source": [
    "code.run(inputs=[inp],run_dir=run_dir,names=[nscf_prefix],source_dir=os.path.join(run_dir,scf_prefix)+'.save')"
   ]
  },
  {
   "cell_type": "markdown",
   "metadata": {},
   "source": [
    "Now we perform the bands computation specifying the kpoints on a path. \n",
    "\n",
    "To define the path we write the coordinates of the high symmetry points (using the tpiba_b type of\n",
    "pw) and we make usage of the function build_kpath"
   ]
  },
  {
   "cell_type": "code",
   "execution_count": 44,
   "metadata": {},
   "outputs": [],
   "source": [
    "G = [0.,0.,0.]\n",
    "M = [1./np.sqrt(3.),0.,0.]\n",
    "K = [1./np.sqrt(3.),1./3.,0.]\n",
    "\n",
    "# useful to label the high-sym point on the path\n",
    "high_sym = {'G':G,'K':K,'M':M}"
   ]
  },
  {
   "cell_type": "code",
   "execution_count": 45,
   "metadata": {},
   "outputs": [],
   "source": [
    "klist = U.build_kpath(G,M,K,G,numstep=30)\n",
    "#klist"
   ]
  },
  {
   "cell_type": "code",
   "execution_count": 46,
   "metadata": {},
   "outputs": [],
   "source": [
    "inp.set_bands(8)\n",
    "inp.set_prefix(bands_prefix)\n",
    "inp.set_kpoints(type='tpiba_b',path=klist)\n",
    "#inp"
   ]
  },
  {
   "cell_type": "code",
   "execution_count": 47,
   "metadata": {},
   "outputs": [
    {
     "name": "stdout",
     "output_type": "stream",
     "text": [
      "The folder Pw_bands/graphene_bands.save already exsists. Source folder Pw_bands/graphene_scf.save not copied\n",
      "Skip the computation for input graphene_bands\n",
      "Job completed\n"
     ]
    }
   ],
   "source": [
    "results_gra = code.run(inputs=[inp],run_dir=run_dir,names=[bands_prefix],source_dir=os.path.join(run_dir,scf_prefix)+'.save')"
   ]
  },
  {
   "cell_type": "markdown",
   "metadata": {},
   "source": [
    "Once that the computation is over we can create an instance of PwBands"
   ]
  },
  {
   "cell_type": "code",
   "execution_count": 48,
   "metadata": {},
   "outputs": [],
   "source": [
    "bands_gra = U.BandStructure.from_Pw(results_gra['output'][0],high_sym)"
   ]
  },
  {
   "cell_type": "markdown",
   "metadata": {},
   "source": [
    "It contains also a plot method that show the band structure"
   ]
  },
  {
   "cell_type": "code",
   "execution_count": 49,
   "metadata": {},
   "outputs": [
    {
     "data": {
      "text/plain": [
       "(['G', 'G', 'K', 'M'],\n",
       " [0.0, 1.5773502657018026, 0.9106835999999987, 0.57735027])"
      ]
     },
     "execution_count": 49,
     "metadata": {},
     "output_type": "execute_result"
    }
   ],
   "source": [
    "bands_gra.get_high_sym_positions()"
   ]
  },
  {
   "cell_type": "code",
   "execution_count": 50,
   "metadata": {},
   "outputs": [
    {
     "data": {
      "image/png": "[encoded data removed]",
      "text/plain": [
       "<Figure size 432x288 with 1 Axes>"
      ]
     },
     "metadata": {},
     "output_type": "display_data"
    }
   ],
   "source": [
    "%matplotlib inline\n",
    "plt.title('Graphene bands',size=14)\n",
    "#plt.ylim(-6,8)\n",
    "bands_gra.plot(plt) #,selection=[0,1,2,3,4,5,6,7]"
   ]
  },
  {
   "cell_type": "markdown",
   "metadata": {},
   "source": [
    "# Analysis of the band structure with ypp"
   ]
  },
  {
   "cell_type": "code",
   "execution_count": 51,
   "metadata": {},
   "outputs": [],
   "source": [
    "run_dir = 'Ypp_bands'"
   ]
  },
  {
   "cell_type": "markdown",
   "metadata": {},
   "source": [
    "Now we analyze the band structure using the post processing tools of ypp. "
   ]
  },
  {
   "cell_type": "markdown",
   "metadata": {},
   "source": [
    "## Band structure of GaAs with spin-orbit coupling"
   ]
  },
  {
   "cell_type": "markdown",
   "metadata": {},
   "source": [
    "As an example we consider the GaAs band structure with spin-orbit coupling. \n",
    "\n",
    "We perform a yy -s b computation starting from the .save of an nscf pw computation on a regular grid"
   ]
  },
  {
   "cell_type": "code",
   "execution_count": 52,
   "metadata": {},
   "outputs": [
    {
     "name": "stdout",
     "output_type": "stream",
     "text": [
      "Executing command: cd Pw_bands/gaas_nscf_so.save; p2y -a 2\n",
      "Executing command: ln -s /home/marco/Applications/MPPI/sphinx_source/tutorials/Pw_bands/gaas_nscf_so.save/SAVE /home/marco/Applications/MPPI/sphinx_source/tutorials/Ypp_bands\n",
      "Executing command: cd Ypp_bands;OMP_NUM_THREADS=1 yambo\n"
     ]
    }
   ],
   "source": [
    "U.build_SAVE('Pw_bands/gaas_nscf_so.save',run_dir)"
   ]
  },
  {
   "cell_type": "code",
   "execution_count": 53,
   "metadata": {},
   "outputs": [],
   "source": [
    "inp = I.YamboInput(args='ypp -s b',folder=run_dir,filename='ypp.in') \n",
    "inp['variables']['OutputAlat'] = [10.677,'']\n",
    "#inp"
   ]
  },
  {
   "cell_type": "code",
   "execution_count": 54,
   "metadata": {},
   "outputs": [
    {
     "name": "stdout",
     "output_type": "stream",
     "text": [
      "Initialize a parallel Yambo calculator with scheduler direct\n"
     ]
    }
   ],
   "source": [
    "code = C.YamboCalculator(mpi_run='mpirun -np 1',executable='ypp',skip=False)"
   ]
  },
  {
   "cell_type": "markdown",
   "metadata": {},
   "source": [
    "Set the input parameter to perform the band computation along a path"
   ]
  },
  {
   "cell_type": "code",
   "execution_count": 55,
   "metadata": {},
   "outputs": [],
   "source": [
    "# set the coordinate of the high-sym points \n",
    "G = [0.,0.,0.]\n",
    "X = [0.,0.,1.]\n",
    "L = [0.5,0.5,0.5]\n",
    "W = [1.0,0.5,0.]\n",
    "K = [0.,1.,1.]\n",
    "\n",
    "# useful to label the high-sym point on the path\n",
    "high_sym = {'X':X,'L':L,'G':G,'K':K,'W':W} \n",
    "\n",
    "# set the path (use the same path of the pw computation)\n",
    "path = [L,G,X,K,G]\n",
    "# set the number of intermediate points between two high-sym ones\n",
    "bands_step = 30"
   ]
  },
  {
   "cell_type": "code",
   "execution_count": 56,
   "metadata": {},
   "outputs": [
    {
     "data": {
      "text/plain": [
       "{'args': 'ypp -s b',\n",
       " 'folder': 'Ypp_bands',\n",
       " 'filename': 'ypp.in',\n",
       " 'arguments': [],\n",
       " 'variables': {'OutputAlat': [10.677, ''],\n",
       "  'INTERP_Shell_Fac': [20.0, ''],\n",
       "  'BANDS_steps': [30, ''],\n",
       "  'INTERP_mode': 'NN',\n",
       "  'cooIn': 'alat',\n",
       "  'cooOut': 'alat',\n",
       "  'CIRCUIT_E_DB_path': 'none',\n",
       "  'BANDS_bands': [[1, 12], ''],\n",
       "  'INTERP_Grid': [['-1', '-1', '-1'], ''],\n",
       "  'BANDS_kpts': [[[0.5, 0.5, 0.5],\n",
       "    [0.0, 0.0, 0.0],\n",
       "    [0.0, 0.0, 1.0],\n",
       "    [0.0, 1.0, 1.0],\n",
       "    [0.0, 0.0, 0.0]],\n",
       "   '']}}"
      ]
     },
     "execution_count": 56,
     "metadata": {},
     "output_type": "execute_result"
    }
   ],
   "source": [
    "# scissor\n",
    "# inp['variables']['GfnQP_E'] = [1.0,1.0,1.0]\n",
    "\n",
    "# band structure\n",
    "inp['variables']['BANDS_steps'] = [bands_step,'']\n",
    "inp['variables']['BANDS_kpts'] = [path,'']\n",
    "inp['variables']['cooIn'] = 'alat'\n",
    "inp['variables']['cooOut'] = 'alat'\n",
    "inp"
   ]
  },
  {
   "cell_type": "code",
   "execution_count": 57,
   "metadata": {},
   "outputs": [
    {
     "name": "stdout",
     "output_type": "stream",
     "text": [
      "delete folder: Ypp_bands/gaas_bands_so\n",
      "Executing command: cd Ypp_bands; mpirun -np 1 ypp -F gaas_bands_so.in -J gaas_bands_so -C gaas_bands_so\n",
      "run0_is_running:True  \n",
      "Job completed\n"
     ]
    },
    {
     "data": {
      "text/plain": [
       "{'output': [['Ypp_bands/gaas_bands_so/o-gaas_bands_so.magnetization_y',\n",
       "   'Ypp_bands/gaas_bands_so/o-gaas_bands_so.magnetization_x',\n",
       "   'Ypp_bands/gaas_bands_so/o-gaas_bands_so.bands_interpolated',\n",
       "   'Ypp_bands/gaas_bands_so/o-gaas_bands_so.magnetization_z',\n",
       "   'Ypp_bands/gaas_bands_so/o-gaas_bands_so.spin_factors_DN',\n",
       "   'Ypp_bands/gaas_bands_so/o-gaas_bands_so.spin_factors_UP']],\n",
       " 'dbs': ['Ypp_bands/gaas_bands_so']}"
      ]
     },
     "execution_count": 57,
     "metadata": {},
     "output_type": "execute_result"
    }
   ],
   "source": [
    "results_ypp = code.run(run_dir=run_dir,inputs=[inp],names=['gaas_bands_so'])\n",
    "results_ypp"
   ]
  },
  {
   "cell_type": "markdown",
   "metadata": {},
   "source": [
    "Once that the computation is over we can create an instance of PwBands"
   ]
  },
  {
   "cell_type": "code",
   "execution_count": 58,
   "metadata": {},
   "outputs": [
    {
     "data": {
      "text/plain": [
       "\u001b[0;31mSignature:\u001b[0m \u001b[0mU\u001b[0m\u001b[0;34m.\u001b[0m\u001b[0mBandStructure\u001b[0m\u001b[0;34m.\u001b[0m\u001b[0mfrom_Ypp\u001b[0m\u001b[0;34m(\u001b[0m\u001b[0mresults\u001b[0m\u001b[0;34m,\u001b[0m \u001b[0mhigh_sym_points\u001b[0m\u001b[0;34m,\u001b[0m \u001b[0msuffix\u001b[0m\u001b[0;34m=\u001b[0m\u001b[0;34m'bands_interpolated'\u001b[0m\u001b[0;34m)\u001b[0m\u001b[0;34m\u001b[0m\u001b[0;34m\u001b[0m\u001b[0m\n",
       "\u001b[0;31mDocstring:\u001b[0m\n",
       "Initialize the BandStructure class from the result of a Ypp postprocessing.\n",
       "The class make usage of the YamboParser of this package.\n",
       "\n",
       "Args:\n",
       "    results (:py:class:`list`) : list that contiains the o- file provided as the output of a\n",
       "        Ypp computation. results is the key ['output'][irun] of the run method of YamboCalculator\n",
       "    high_sym_points(:py:class:`dict`) : dictionary with name and coordinates of the\n",
       "                    high_sym_points of the path\n",
       "    suffix (string) : specifies the suffix of the o- file use to build the bands\n",
       "\u001b[0;31mFile:\u001b[0m      ~/Applications/MPPI/mppi/Utilities/BandStructure.py\n",
       "\u001b[0;31mType:\u001b[0m      method\n"
      ]
     },
     "metadata": {},
     "output_type": "display_data"
    }
   ],
   "source": [
    "U.BandStructure.from_Ypp?"
   ]
  },
  {
   "cell_type": "code",
   "execution_count": 59,
   "metadata": {},
   "outputs": [],
   "source": [
    "bands_ypp = U.BandStructure.from_Ypp(results_ypp['output'][0],high_sym)"
   ]
  },
  {
   "cell_type": "code",
   "execution_count": 60,
   "metadata": {},
   "outputs": [
    {
     "data": {
      "image/png": "[encoded data removed]",
      "text/plain": [
       "<Figure size 432x288 with 1 Axes>"
      ]
     },
     "metadata": {},
     "output_type": "display_data"
    }
   ],
   "source": [
    "%matplotlib inline\n",
    "plt.title('GaAs band from Ypp with spin-orbit',size=14)\n",
    "plt.ylim(-8,3)\n",
    "bands_ypp.plot(plt,selection=[2,3,4,5,6,7,8,9,10,11])"
   ]
  },
  {
   "cell_type": "markdown",
   "metadata": {},
   "source": [
    "The desing of the plot method of the class allows us to plot bands coming from different calculations in the same plot.\n",
    "\n",
    "For instance, we can show the effect of the spin-orbit on the valence band of GaAs"
   ]
  },
  {
   "cell_type": "code",
   "execution_count": 61,
   "metadata": {},
   "outputs": [
    {
     "data": {
      "text/plain": [
       "<matplotlib.legend.Legend at 0x7f8db8b9f278>"
      ]
     },
     "execution_count": 61,
     "metadata": {},
     "output_type": "execute_result"
    },
    {
     "data": {
      "image/png": "[encoded data removed]",
      "text/plain": [
       "<Figure size 432x288 with 1 Axes>"
      ]
     },
     "metadata": {},
     "output_type": "display_data"
    }
   ],
   "source": [
    "bands_gaas.plot(plt,selection= [1,3],label='no_so',show_vertical_lines=False)\n",
    "bands_gaas_so.plot(plt,selection = [2,6],ls='--',label='so',show_vertical_lines=False)\n",
    "plt.ylim(-4,0.5)\n",
    "plt.xlim(0,2)\n",
    "plt.legend()"
   ]
  },
  {
   "cell_type": "markdown",
   "metadata": {},
   "source": [
    "The shift of the split-off band is visible."
   ]
  }
 ],
 "metadata": {
  "kernelspec": {
   "display_name": "Python 3",
   "language": "python",
   "name": "python3"
  },
  "language_info": {
   "codemirror_mode": {
    "name": "ipython",
    "version": 3
   },
   "file_extension": ".py",
   "mimetype": "text/x-python",
   "name": "python",
   "nbconvert_exporter": "python",
   "pygments_lexer": "ipython3",
   "version": "3.6.9"
  }
 },
 "nbformat": 4,
 "nbformat_minor": 4
}
