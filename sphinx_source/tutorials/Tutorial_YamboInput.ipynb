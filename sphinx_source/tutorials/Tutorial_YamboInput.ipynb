{
 "cells": [
  {
   "cell_type": "code",
   "execution_count": 1,
   "metadata": {},
   "outputs": [],
   "source": [
    "# useful to autoreload the module without restarting the kernel\n",
    "%load_ext autoreload\n",
    "%autoreload 2"
   ]
  },
  {
   "cell_type": "code",
   "execution_count": 2,
   "metadata": {},
   "outputs": [],
   "source": [
    "from mppi import InputFiles as I, Utilities as U"
   ]
  },
  {
   "cell_type": "markdown",
   "metadata": {},
   "source": [
    "# Tutorial for the YamboInput class"
   ]
  },
  {
   "cell_type": "markdown",
   "metadata": {},
   "source": [
    "__Follow the tutorial for the QeCalculator to produce the .save folder needed to generate the yambo SAVE.__\n",
    "\n",
    "This tutorial describes the  main features and the usage of the YamboInput class that enables us to create and\n",
    "manage the input files for the yambo computations"
   ]
  },
  {
   "cell_type": "markdown",
   "metadata": {},
   "source": [
    "We choose a folder that contain a yambo SAVE folder so that yambo can be executed. The generation of the SAVE folder from a pw computation is performed by a function of the Utils module in the and is described in the tutorial for the YamboCalculator class."
   ]
  },
  {
   "cell_type": "code",
   "execution_count": 3,
   "metadata": {},
   "outputs": [],
   "source": [
    "source_dir = 'QeCalculator_test/bands_12.save'\n",
    "run_dir = 'YamboCalculator_test'"
   ]
  },
  {
   "cell_type": "code",
   "execution_count": 4,
   "metadata": {},
   "outputs": [
    {
     "name": "stdout",
     "output_type": "stream",
     "text": [
      "Create folder YamboCalculator_test\n",
      "Executing command: cd QeCalculator_test/bands_12.save; p2y -a 2\n",
      "Create a symlink of /home/marco/Applications/MPPI/sphinx_source/tutorials/QeCalculator_test/bands_12.save/SAVE in YamboCalculator_test\n",
      "Executing command: cd YamboCalculator_test;OMP_NUM_THREADS=1 yambo\n"
     ]
    }
   ],
   "source": [
    "U.build_SAVE(source_dir,run_dir)"
   ]
  },
  {
   "cell_type": "markdown",
   "metadata": {},
   "source": [
    "The main usage of YamboInput is as follows"
   ]
  },
  {
   "cell_type": "code",
   "execution_count": 7,
   "metadata": {},
   "outputs": [],
   "source": [
    "inp = I.YamboInput(args='yambo -d -k hartree -g n -p p',folder=run_dir,filename='yambo_test.in') "
   ]
  },
  {
   "cell_type": "markdown",
   "metadata": {},
   "source": [
    "where the content of args specifies the selected yambo runlevel."
   ]
  },
  {
   "cell_type": "markdown",
   "metadata": {},
   "source": [
    "In this way yambo has run with the chose arguments and the file filename has been written on disk.\n",
    "The inp object is a python dictionary that contains all the elements of the file"
   ]
  },
  {
   "cell_type": "code",
   "execution_count": 8,
   "metadata": {},
   "outputs": [
    {
     "data": {
      "text/plain": [
       "{'args': 'yambo -d -k hartree -g n -p p',\n",
       " 'folder': 'YamboCalculator_test',\n",
       " 'filename': 'yambo_test.in',\n",
       " 'arguments': ['em1d', 'gw0', 'HF_and_locXC', 'ppa'],\n",
       " 'variables': {'X_Threads': [0.0, ''],\n",
       "  'DIP_Threads': [0.0, ''],\n",
       "  'SE_Threads': [0.0, ''],\n",
       "  'EXXRLvcs': [9377.0, 'RL'],\n",
       "  'VXCRLvcs': [9377.0, 'RL'],\n",
       "  'NGsBlkXp': [1.0, 'RL'],\n",
       "  'PPAPntXp': [27.21138, 'eV'],\n",
       "  'GWoIter': [0.0, ''],\n",
       "  'GWIter': [0.0, ''],\n",
       "  'Chimod': 'HARTREE',\n",
       "  'XTermKind': 'none',\n",
       "  'GTermKind': 'none',\n",
       "  'DysSolver': 'n',\n",
       "  'BndsRnXp': [[1, 12], ''],\n",
       "  'LongDrXp': [[1.0, 0.0, 0.0], ''],\n",
       "  'GbndRnge': [[1, 12], ''],\n",
       "  'QPkrange': [[1, 32, 1, 12], '']}}"
      ]
     },
     "execution_count": 8,
     "metadata": {},
     "output_type": "execute_result"
    }
   ],
   "source": [
    "inp"
   ]
  },
  {
   "cell_type": "markdown",
   "metadata": {},
   "source": [
    "Alternatively, inp can be initialized using a yambo input file. In this way yambo do not run and the presence of the SAVE folder is not needed. This options may be useful, for instance, for managing the yambo input when the SAVE folder is on a remote computer. "
   ]
  },
  {
   "cell_type": "code",
   "execution_count": 9,
   "metadata": {},
   "outputs": [
    {
     "data": {
      "text/plain": [
       "{'args': '',\n",
       " 'folder': 'YamboCalculator_test',\n",
       " 'filename': 'yambo_test.in',\n",
       " 'arguments': ['em1d', 'gw0', 'HF_and_locXC', 'ppa'],\n",
       " 'variables': {'X_Threads': [0.0, ''],\n",
       "  'DIP_Threads': [0.0, ''],\n",
       "  'SE_Threads': [0.0, ''],\n",
       "  'EXXRLvcs': [9377.0, 'RL'],\n",
       "  'VXCRLvcs': [9377.0, 'RL'],\n",
       "  'NGsBlkXp': [1.0, 'RL'],\n",
       "  'PPAPntXp': [27.21138, 'eV'],\n",
       "  'GWoIter': [0.0, ''],\n",
       "  'GWIter': [0.0, ''],\n",
       "  'Chimod': 'HARTREE',\n",
       "  'XTermKind': 'none',\n",
       "  'GTermKind': 'none',\n",
       "  'DysSolver': 'n',\n",
       "  'BndsRnXp': [[1, 12], ''],\n",
       "  'LongDrXp': [[1.0, 0.0, 0.0], ''],\n",
       "  'GbndRnge': [[1, 12], ''],\n",
       "  'QPkrange': [[1, 32, 1, 12], '']}}"
      ]
     },
     "execution_count": 9,
     "metadata": {},
     "output_type": "execute_result"
    }
   ],
   "source": [
    "inp2 = I.YamboInput(folder=run_dir,filename='yambo_test.in') \n",
    "inp2"
   ]
  },
  {
   "cell_type": "markdown",
   "metadata": {},
   "source": [
    "The input dictionary can be modified as needed, for instance"
   ]
  },
  {
   "cell_type": "code",
   "execution_count": 10,
   "metadata": {},
   "outputs": [],
   "source": [
    "updated = dict()\n",
    "updated['QPkrange'] = [[1,32,1,6],'']\n",
    "inp['variables'].update(updated)"
   ]
  },
  {
   "cell_type": "code",
   "execution_count": 11,
   "metadata": {},
   "outputs": [
    {
     "data": {
      "text/plain": [
       "{'args': 'yambo -d -k hartree -g n -p p',\n",
       " 'folder': 'YamboCalculator_test',\n",
       " 'filename': 'yambo_test.in',\n",
       " 'arguments': ['em1d', 'gw0', 'HF_and_locXC', 'ppa'],\n",
       " 'variables': {'X_Threads': [0.0, ''],\n",
       "  'DIP_Threads': [0.0, ''],\n",
       "  'SE_Threads': [0.0, ''],\n",
       "  'EXXRLvcs': [9377.0, 'RL'],\n",
       "  'VXCRLvcs': [9377.0, 'RL'],\n",
       "  'NGsBlkXp': [1.0, 'RL'],\n",
       "  'PPAPntXp': [27.21138, 'eV'],\n",
       "  'GWoIter': [0.0, ''],\n",
       "  'GWIter': [0.0, ''],\n",
       "  'Chimod': 'HARTREE',\n",
       "  'XTermKind': 'none',\n",
       "  'GTermKind': 'none',\n",
       "  'DysSolver': 'n',\n",
       "  'BndsRnXp': [[1, 12], ''],\n",
       "  'LongDrXp': [[1.0, 0.0, 0.0], ''],\n",
       "  'GbndRnge': [[1, 12], ''],\n",
       "  'QPkrange': [[1, 32, 1, 6], '']}}"
      ]
     },
     "execution_count": 11,
     "metadata": {},
     "output_type": "execute_result"
    }
   ],
   "source": [
    "inp"
   ]
  },
  {
   "cell_type": "markdown",
   "metadata": {},
   "source": [
    "Specific methods that  modify some parameteres are provided, for instance"
   ]
  },
  {
   "cell_type": "code",
   "execution_count": 12,
   "metadata": {},
   "outputs": [
    {
     "data": {
      "text/plain": [
       "{'args': 'yambo -d -k hartree -g n -p p',\n",
       " 'folder': 'YamboCalculator_test',\n",
       " 'filename': 'yambo_test.in',\n",
       " 'arguments': ['em1d', 'gw0', 'HF_and_locXC', 'ppa'],\n",
       " 'variables': {'X_Threads': [0.0, ''],\n",
       "  'DIP_Threads': [0.0, ''],\n",
       "  'SE_Threads': [0.0, ''],\n",
       "  'EXXRLvcs': [9377.0, 'RL'],\n",
       "  'VXCRLvcs': [9377.0, 'RL'],\n",
       "  'NGsBlkXp': [1.0, 'RL'],\n",
       "  'PPAPntXp': [27.21138, 'eV'],\n",
       "  'GWoIter': [0.0, ''],\n",
       "  'GWIter': [0.0, ''],\n",
       "  'Chimod': 'HARTREE',\n",
       "  'XTermKind': 'none',\n",
       "  'GTermKind': 'none',\n",
       "  'DysSolver': 'n',\n",
       "  'BndsRnXp': [[2, 8], ''],\n",
       "  'LongDrXp': [[1.0, 0.0, 0.0], ''],\n",
       "  'GbndRnge': [[4, 8], ''],\n",
       "  'QPkrange': [[1, 2, 6, 8], '']}}"
      ]
     },
     "execution_count": 12,
     "metadata": {},
     "output_type": "execute_result"
    }
   ],
   "source": [
    "inp.set_kRange(1,2)\n",
    "inp.set_bandRange(6,8)\n",
    "inp.set_GbndRange(4,8)\n",
    "inp.set_BndsRnXp(2,8)\n",
    "inp"
   ]
  },
  {
   "cell_type": "markdown",
   "metadata": {},
   "source": [
    "Lastly,the yambo input is written again on file with the write method of the class."
   ]
  },
  {
   "cell_type": "code",
   "execution_count": 13,
   "metadata": {},
   "outputs": [],
   "source": [
    "inp.write(inp['folder'],'yambo_test_modified.in',reformat=True)"
   ]
  },
  {
   "cell_type": "markdown",
   "metadata": {},
   "source": [
    "The inp written on file can be exectued by yambo but loose part of its original format.\n",
    "The reformat option, that is True by default, run yambo with the proper args to recover\n",
    "the format of the original input file. This option is only active if args is no empty."
   ]
  },
  {
   "cell_type": "markdown",
   "metadata": {},
   "source": [
    "## Generation of a ypp input file"
   ]
  },
  {
   "cell_type": "markdown",
   "metadata": {},
   "source": [
    "The same class can manage the input for a ypp computation, for instance for computing the band structure along a path"
   ]
  },
  {
   "cell_type": "code",
   "execution_count": 14,
   "metadata": {},
   "outputs": [
    {
     "data": {
      "text/plain": [
       "{'args': 'ypp -s b',\n",
       " 'folder': 'YamboCalculator_test',\n",
       " 'filename': 'ypp_test.in',\n",
       " 'arguments': [],\n",
       " 'variables': {'OutputAlat': [0.0, ''],\n",
       "  'INTERP_Shell_Fac': [20.0, ''],\n",
       "  'INTERP_NofNN': [1.0, ''],\n",
       "  'BANDS_steps': [10.0, ''],\n",
       "  'INTERP_mode': 'NN',\n",
       "  'cooIn': 'rlu',\n",
       "  'cooOut': 'rlu',\n",
       "  'CIRCUIT_E_DB_path': 'none',\n",
       "  'PROJECT_mode': 'none',\n",
       "  'BANDS_bands': [[1, 12], '']}}"
      ]
     },
     "execution_count": 14,
     "metadata": {},
     "output_type": "execute_result"
    }
   ],
   "source": [
    "inp = I.YamboInput(args='ypp -s b',folder=run_dir,filename='ypp_test.in') \n",
    "inp"
   ]
  },
  {
   "cell_type": "markdown",
   "metadata": {},
   "source": [
    "The object can be modified and written again on file"
   ]
  },
  {
   "cell_type": "code",
   "execution_count": 25,
   "metadata": {},
   "outputs": [
    {
     "data": {
      "text/plain": [
       "{'args': 'ypp -s b',\n",
       " 'folder': 'YamboCalculator_test',\n",
       " 'filename': 'ypp_test.in',\n",
       " 'arguments': [],\n",
       " 'variables': {'OutputAlat': [10.3, ''],\n",
       "  'INTERP_Shell_Fac': [20.0, ''],\n",
       "  'BANDS_steps': [10.0, ''],\n",
       "  'INTERP_mode': 'NN',\n",
       "  'cooIn': 'rlu',\n",
       "  'cooOut': 'rlu',\n",
       "  'CIRCUIT_E_DB_path': 'none',\n",
       "  'BANDS_bands': [[4, 8], ''],\n",
       "  'INTERP_Grid': [['-1', '-1', '-1'], ''],\n",
       "  'BANDS_kpts': [[''], '']}}"
      ]
     },
     "execution_count": 25,
     "metadata": {},
     "output_type": "execute_result"
    }
   ],
   "source": [
    "inp['variables']['BANDS_bands'] = [[4,8],'']\n",
    "inp"
   ]
  },
  {
   "cell_type": "code",
   "execution_count": 26,
   "metadata": {},
   "outputs": [],
   "source": [
    "inp.write(inp['folder'],'ypp_test_modified.in',reformat=True)"
   ]
  },
  {
   "cell_type": "code",
   "execution_count": null,
   "metadata": {},
   "outputs": [],
   "source": []
  }
 ],
 "metadata": {
  "kernelspec": {
   "display_name": "Python 3",
   "language": "python",
   "name": "python3"
  },
  "language_info": {
   "codemirror_mode": {
    "name": "ipython",
    "version": 3
   },
   "file_extension": ".py",
   "mimetype": "text/x-python",
   "name": "python",
   "nbconvert_exporter": "python",
   "pygments_lexer": "ipython3",
   "version": "3.8.5"
  }
 },
 "nbformat": 4,
 "nbformat_minor": 4
}
