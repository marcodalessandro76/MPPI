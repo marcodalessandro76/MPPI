{
 "cells": [
  {
   "cell_type": "code",
   "execution_count": 1,
   "metadata": {},
   "outputs": [],
   "source": [
    "# useful to autoreload the module without restarting the kernel\n",
    "%load_ext autoreload\n",
    "%autoreload 2"
   ]
  },
  {
   "cell_type": "code",
   "execution_count": 2,
   "metadata": {},
   "outputs": [],
   "source": [
    "from mppi import InputFiles as I"
   ]
  },
  {
   "cell_type": "markdown",
   "metadata": {},
   "source": [
    "# Tutorial for the YamboInput class"
   ]
  },
  {
   "cell_type": "markdown",
   "metadata": {},
   "source": [
    "This tutorial describes the  main features and the usage of the YamboInput class that enables us to create and\n",
    "manage the input files for the yambo computations"
   ]
  },
  {
   "cell_type": "markdown",
   "metadata": {},
   "source": [
    "We choose a folder that contain a yambo SAVE folder so that yambo can be executed. The generation of the SAVE folder from a pw computation is performed by a function of the Utils module in the mppi.Utilities and is described in the tutorial for the YamboCalculator class."
   ]
  },
  {
   "cell_type": "code",
   "execution_count": 3,
   "metadata": {},
   "outputs": [],
   "source": [
    "yambo_folder = 'yambo_hf'"
   ]
  },
  {
   "cell_type": "markdown",
   "metadata": {},
   "source": [
    "The main usage of YamboInput is as follows"
   ]
  },
  {
   "cell_type": "code",
   "execution_count": 4,
   "metadata": {},
   "outputs": [],
   "source": [
    "inp = I.YamboInput(args='yambo -d -k hartree -g n -p p',folder=yambo_folder,filename='yambo.in') "
   ]
  },
  {
   "cell_type": "markdown",
   "metadata": {},
   "source": [
    "where the content of args specifies the selected yambo runlevel."
   ]
  },
  {
   "cell_type": "markdown",
   "metadata": {},
   "source": [
    "In this way yambo has run with the chose arguments and the file filename has been written on disk.\n",
    "The inp object is a python dictionary that contains all the elements of the file"
   ]
  },
  {
   "cell_type": "code",
   "execution_count": 6,
   "metadata": {},
   "outputs": [
    {
     "data": {
      "text/plain": [
       "{'args': 'yambo -d -k hartree -g n -p p',\n",
       " 'folder': 'yambo_hf',\n",
       " 'filename': 'yambo.in',\n",
       " 'arguments': ['em1d', 'gw0', 'HF_and_locXC', 'ppa'],\n",
       " 'variables': {'X_Threads': [0.0, ''],\n",
       "  'DIP_Threads': [0.0, ''],\n",
       "  'SE_Threads': [0.0, ''],\n",
       "  'EXXRLvcs': [51.0, 'RL'],\n",
       "  'NGsBlkXp': [1.0, 'RL'],\n",
       "  'PPAPntXp': [27.21138, 'eV'],\n",
       "  'GDamping': [0.1, 'eV'],\n",
       "  'dScStep': [0.1, 'eV'],\n",
       "  'Chimod': 'HARTREE',\n",
       "  'DysSolver': 'n',\n",
       "  'BndsRnXp': [[1, 10], ''],\n",
       "  'LongDrXp': [[1.0, 0.0, 0.0], ''],\n",
       "  'GbndRnge': [[1, 10], ''],\n",
       "  'QPkrange': [[1, 32, 1, 10], '']}}"
      ]
     },
     "execution_count": 6,
     "metadata": {},
     "output_type": "execute_result"
    }
   ],
   "source": [
    "inp"
   ]
  },
  {
   "cell_type": "markdown",
   "metadata": {},
   "source": [
    "Alternatively, inp can be initialized using a yambo input file. In this way yambo do not run and the presence of the SAVE folder is not needed. This options may be useful, for instance, for managing the yambo input when the SAVE folder is on a remote computer. "
   ]
  },
  {
   "cell_type": "code",
   "execution_count": 9,
   "metadata": {},
   "outputs": [
    {
     "data": {
      "text/plain": [
       "{'args': '',\n",
       " 'folder': 'yambo_hf',\n",
       " 'filename': 'yambo.in',\n",
       " 'arguments': ['em1d', 'gw0', 'HF_and_locXC', 'ppa'],\n",
       " 'variables': {'X_Threads': [0.0, ''],\n",
       "  'DIP_Threads': [0.0, ''],\n",
       "  'SE_Threads': [0.0, ''],\n",
       "  'EXXRLvcs': [51.0, 'RL'],\n",
       "  'NGsBlkXp': [1.0, 'RL'],\n",
       "  'PPAPntXp': [27.21138, 'eV'],\n",
       "  'GDamping': [0.1, 'eV'],\n",
       "  'dScStep': [0.1, 'eV'],\n",
       "  'Chimod': 'HARTREE',\n",
       "  'DysSolver': 'n',\n",
       "  'BndsRnXp': [[1, 10], ''],\n",
       "  'LongDrXp': [[1.0, 0.0, 0.0], ''],\n",
       "  'GbndRnge': [[1, 10], ''],\n",
       "  'QPkrange': [[1, 32, 1, 10], '']}}"
      ]
     },
     "execution_count": 9,
     "metadata": {},
     "output_type": "execute_result"
    }
   ],
   "source": [
    "inp2 = I.YamboInput(folder=yambo_folder,filename='yambo.in') \n",
    "inp2"
   ]
  },
  {
   "cell_type": "markdown",
   "metadata": {},
   "source": [
    "The input dictionary can be modified as needed, for instance"
   ]
  },
  {
   "cell_type": "code",
   "execution_count": 7,
   "metadata": {},
   "outputs": [],
   "source": [
    "updated = dict()\n",
    "updated['QPkrange'] = [[1,32,1,6],'']\n",
    "inp['variables'].update(updated)"
   ]
  },
  {
   "cell_type": "code",
   "execution_count": 8,
   "metadata": {},
   "outputs": [
    {
     "data": {
      "text/plain": [
       "{'args': 'yambo -d -k hartree -g n -p p',\n",
       " 'folder': 'yambo_hf',\n",
       " 'filename': 'yambo.in',\n",
       " 'arguments': ['em1d', 'gw0', 'HF_and_locXC', 'ppa'],\n",
       " 'variables': {'X_Threads': [0.0, ''],\n",
       "  'DIP_Threads': [0.0, ''],\n",
       "  'SE_Threads': [0.0, ''],\n",
       "  'EXXRLvcs': [51.0, 'RL'],\n",
       "  'NGsBlkXp': [1.0, 'RL'],\n",
       "  'PPAPntXp': [27.21138, 'eV'],\n",
       "  'GDamping': [0.1, 'eV'],\n",
       "  'dScStep': [0.1, 'eV'],\n",
       "  'Chimod': 'HARTREE',\n",
       "  'DysSolver': 'n',\n",
       "  'BndsRnXp': [[1, 10], ''],\n",
       "  'LongDrXp': [[1.0, 0.0, 0.0], ''],\n",
       "  'GbndRnge': [[1, 10], ''],\n",
       "  'QPkrange': [[1, 32, 1, 6], '']}}"
      ]
     },
     "execution_count": 8,
     "metadata": {},
     "output_type": "execute_result"
    }
   ],
   "source": [
    "inp"
   ]
  },
  {
   "cell_type": "markdown",
   "metadata": {},
   "source": [
    "Specific methods that  modify some parameteres will be added."
   ]
  },
  {
   "cell_type": "markdown",
   "metadata": {},
   "source": [
    "Lastly,the yambo input is written again on file with the write method of the class."
   ]
  },
  {
   "cell_type": "code",
   "execution_count": 8,
   "metadata": {},
   "outputs": [
    {
     "name": "stdout",
     "output_type": "stream",
     "text": [
      "execute :  cd yambo_hf; yambo -d -k hartree -g n -p p -F yambo_modified.in\n"
     ]
    }
   ],
   "source": [
    "inp.write(inp['folder'],'yambo_modified.in',reformat=True)"
   ]
  },
  {
   "cell_type": "markdown",
   "metadata": {},
   "source": [
    "The inp written on file can be exectued by yambo but loose part of its original formt.\n",
    "The reformat option, that is True by default, run yambo with the proper args to recover\n",
    "the format of the original input file. This option is only active if args is no empty."
   ]
  }
 ],
 "metadata": {
  "kernelspec": {
   "display_name": "Python 3",
   "language": "python",
   "name": "python3"
  },
  "language_info": {
   "codemirror_mode": {
    "name": "ipython",
    "version": 3
   },
   "file_extension": ".py",
   "mimetype": "text/x-python",
   "name": "python",
   "nbconvert_exporter": "python",
   "pygments_lexer": "ipython3",
   "version": "3.6.9"
  }
 },
 "nbformat": 4,
 "nbformat_minor": 4
}
