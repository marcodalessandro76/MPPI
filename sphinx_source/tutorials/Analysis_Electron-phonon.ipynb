{
 "cells": [
  {
   "cell_type": "code",
   "execution_count": 1,
   "id": "89b4f78a-ba2c-4013-872c-f22d7d726126",
   "metadata": {},
   "outputs": [],
   "source": [
    "# useful to autoreload the module without restarting the kernel\n",
    "%load_ext autoreload\n",
    "%autoreload 2"
   ]
  },
  {
   "cell_type": "code",
   "execution_count": 2,
   "id": "0d23bfcf-76e0-466f-a445-6ceb60586032",
   "metadata": {},
   "outputs": [],
   "source": [
    "from mppi import InputFiles as I, Calculators as C, Datasets as D, Utilities as U, Parsers as P\n",
    "from mppi.Calculators import Tools\n",
    "from mppi.Datasets import PostProcessing as PP\n",
    "import matplotlib.pyplot as plt\n",
    "import os\n",
    "import numpy as np"
   ]
  },
  {
   "cell_type": "code",
   "execution_count": 3,
   "id": "5f09db40-b2df-4ea1-8c1f-5fe90f51fa5f",
   "metadata": {},
   "outputs": [],
   "source": [
    "omp = 1\n",
    "mpi = 4"
   ]
  },
  {
   "cell_type": "markdown",
   "id": "5a889ff5-5679-43c1-9654-f2736e22bf74",
   "metadata": {},
   "source": [
    "# Analysis of the electron-phonon coupling "
   ]
  },
  {
   "cell_type": "markdown",
   "id": "cbd61412-64c3-4daf-ae14-ead1a879cd07",
   "metadata": {},
   "source": [
    "We analyze the effects of the electron-phonon coupling in the electronic and optical properties\n",
    "of bulk Si.\n",
    "\n",
    "This analysis is base on the web page : https://www.yambo-code.eu/wiki/index.php/Electron_Phonon_Coupling\n",
    "\n",
    "\n"
   ]
  },
  {
   "cell_type": "code",
   "execution_count": 4,
   "id": "c4e2fed2-62d6-46e4-a229-5f3818034f61",
   "metadata": {},
   "outputs": [],
   "source": [
    "run_dir = 'Electron_phonon_Si'"
   ]
  },
  {
   "cell_type": "markdown",
   "id": "de06e44f-401e-4ae4-9b3c-abde112760ae",
   "metadata": {},
   "source": [
    "Due to the way in which the ph.x is implemented it is more convenient to run each step of the calculations\n",
    "in a specific folder. So the prefix of all the computations is the same but they are exectuded in differen paths. "
   ]
  },
  {
   "cell_type": "markdown",
   "id": "17d09de0-c03a-44ba-ba60-c3fcfef00088",
   "metadata": {},
   "source": [
    "## SCF and NSCF calculations"
   ]
  },
  {
   "cell_type": "code",
   "execution_count": 5,
   "id": "62b8132b-6053-42d4-a75c-ff786e9f963c",
   "metadata": {},
   "outputs": [
    {
     "name": "stdout",
     "output_type": "stream",
     "text": [
      "Initialize a QuantumESPRESSO calculator with scheduler direct\n"
     ]
    },
    {
     "data": {
      "text/plain": [
       "{'scheduler': 'direct',\n",
       " 'mpi': 4,\n",
       " 'omp_num_threads': 1,\n",
       " 'executable': 'pw.x',\n",
       " 'skip': True,\n",
       " 'clean_restart': True,\n",
       " 'dry_run': False,\n",
       " 'wait_end_run': True,\n",
       " 'activate_BeeOND': False,\n",
       " 'verbose': True}"
      ]
     },
     "execution_count": 5,
     "metadata": {},
     "output_type": "execute_result"
    }
   ],
   "source": [
    "rr = C.RunRules(mpi=mpi,omp_num_threads=omp)\n",
    "code = C.QeCalculator(rr)\n",
    "code.global_options()"
   ]
  },
  {
   "cell_type": "markdown",
   "id": "d9cf96e5-2b3d-4c99-a0df-c235345c7788",
   "metadata": {},
   "source": [
    "First we perform a scf calculation on a 8x8x8 k grid to ensure that the electronic density of the GS is converged.\n",
    "\n",
    "The convergence threshold is set to 1e-12, this value and k grid are loosend w.r.t. the paramteres used in the original\n",
    "tutorial to redcue computational time.\n",
    "\n",
    "Note that, following the Yambo tutorial, the geometry of the lattice is set using ibrav=0 with the explicit values of the cell\n",
    "parameters. This is done to avoid possible incompatibility between the PW and Yambo conventions for the FCC lattice."
   ]
  },
  {
   "cell_type": "code",
   "execution_count": 8,
   "id": "60227f7e-f279-4668-85f4-cf1d73b2eb07",
   "metadata": {},
   "outputs": [],
   "source": [
    "prefix = 'si'\n",
    "name = 'si.scf'\n",
    "inp= I.PwInput(file='IO_files/Input_for_electron_phonon_Si_tutorial/si.scf.in')\n",
    "inp.set_prefix(prefix)\n",
    "inp.set_pseudo_dir('pseudos',abs_path=True)\n",
    "#print(inp.convert_string())"
   ]
  },
  {
   "cell_type": "code",
   "execution_count": 7,
   "id": "0ad15249-6ddb-475e-92cf-5e498ab3e92d",
   "metadata": {},
   "outputs": [
    {
     "name": "stdout",
     "output_type": "stream",
     "text": [
      "create the run_dir folder : 'Electron_phonon_Si/scf'\n",
      "run command: mpirun -np 4 pw.x -inp si.scf.in > si.scf.log\n",
      "computation si.scf is running...\n",
      "computation si.scf ended\n"
     ]
    },
    {
     "name": "stderr",
     "output_type": "stream",
     "text": [
      "Note: The following floating-point exceptions are signalling: IEEE_DENORMAL\n",
      "Note: The following floating-point exceptions are signalling: IEEE_DENORMAL\n",
      "Note: The following floating-point exceptions are signalling: IEEE_DENORMAL\n",
      "Note: The following floating-point exceptions are signalling: IEEE_DENORMAL\n"
     ]
    },
    {
     "data": {
      "text/plain": [
       "'/home/marco/Applications/MPPI/sphinx_source/tutorials/Electron_phonon_Si/scf/si.save/data-file-schema.xml'"
      ]
     },
     "execution_count": 7,
     "metadata": {},
     "output_type": "execute_result"
    }
   ],
   "source": [
    "scf_run_dir = os.path.join(run_dir,'scf')\n",
    "results = code.run(input=inp,run_dir=scf_run_dir,name=name)\n",
    "results"
   ]
  },
  {
   "cell_type": "markdown",
   "id": "021a202d-1642-4e85-8a87-f6f6392d641b",
   "metadata": {},
   "source": [
    "Then we perform a nscf calculation on a smaller 4x4x4 grid with 12 bands."
   ]
  },
  {
   "cell_type": "code",
   "execution_count": 10,
   "id": "ecf97276-2b7c-4d33-a822-683fecf601fb",
   "metadata": {},
   "outputs": [],
   "source": [
    "inp.set_nscf(12,force_symmorphic=True,conv_thr=1e-12)\n",
    "inp.set_kpoints(points=[4,4,4])\n",
    "#print(inp.convert_string())"
   ]
  },
  {
   "cell_type": "code",
   "execution_count": 11,
   "id": "ec8f159c-c221-4c66-95c1-fd2b25ae11ef",
   "metadata": {},
   "outputs": [
    {
     "name": "stdout",
     "output_type": "stream",
     "text": [
      "create the run_dir folder : 'Electron_phonon_Si/nscf'\n",
      "copy source_dir Electron_phonon_Si/scf/si.save in the /home/marco/Applications/MPPI/sphinx_source/tutorials/Electron_phonon_Si/nscf/si.save\n",
      "run command: mpirun -np 4 pw.x -inp si.in > si.log\n",
      "computation si is running...\n"
     ]
    },
    {
     "name": "stderr",
     "output_type": "stream",
     "text": [
      "Note: The following floating-point exceptions are signalling: IEEE_DENORMAL\n",
      "Note: The following floating-point exceptions are signalling: IEEE_DENORMAL\n",
      "Note: The following floating-point exceptions are signalling: IEEE_DENORMAL\n",
      "Note: The following floating-point exceptions are signalling: IEEE_DENORMAL\n"
     ]
    },
    {
     "name": "stdout",
     "output_type": "stream",
     "text": [
      "computation si ended\n"
     ]
    },
    {
     "data": {
      "text/plain": [
       "'/home/marco/Applications/MPPI/sphinx_source/tutorials/Electron_phonon_Si/nscf/si.save/data-file-schema.xml'"
      ]
     },
     "execution_count": 11,
     "metadata": {},
     "output_type": "execute_result"
    }
   ],
   "source": [
    "nscf_run_dir = os.path.join(run_dir,'nscf')\n",
    "results = code.run(input=inp,run_dir=nscf_run_dir,name=prefix,source_dir=os.path.join(scf_run_dir,prefix+'.save'))\n",
    "results"
   ]
  },
  {
   "cell_type": "code",
   "execution_count": 12,
   "id": "6ac47e50-5e84-4bd1-b5db-5e079ea9840e",
   "metadata": {},
   "outputs": [
    {
     "name": "stdout",
     "output_type": "stream",
     "text": [
      "Parse file : /home/marco/Applications/MPPI/sphinx_source/tutorials/Electron_phonon_Si/nscf/si.save/data-file-schema.xml\n"
     ]
    }
   ],
   "source": [
    "data = P.PwParser(results)"
   ]
  },
  {
   "cell_type": "code",
   "execution_count": 13,
   "id": "a5233c63-d450-4584-a2d4-0de1ac124e52",
   "metadata": {},
   "outputs": [
    {
     "data": {
      "text/plain": [
       "array([[-0.   , -0.   , -0.   ],\n",
       "       [-0.125, -0.125,  0.125],\n",
       "       [ 0.25 ,  0.25 , -0.25 ],\n",
       "       [-0.25 , -0.   , -0.   ],\n",
       "       [ 0.125,  0.375, -0.375],\n",
       "       [-0.   ,  0.25 , -0.25 ],\n",
       "       [ 0.5  , -0.   , -0.   ],\n",
       "       [ 0.5  , -0.25 , -0.   ]])"
      ]
     },
     "execution_count": 13,
     "metadata": {},
     "output_type": "execute_result"
    }
   ],
   "source": [
    "kpoints=-data.kpoints\n",
    "#kpoints[4] = np.array([-0.375000000,-0.125000000,0.125000000])\n",
    "kpoints"
   ]
  },
  {
   "cell_type": "markdown",
   "id": "74a943db-4638-46ce-a7bb-4fdd1341a177",
   "metadata": {},
   "source": [
    "## Phonon calculations"
   ]
  },
  {
   "cell_type": "markdown",
   "id": "42ce8e88-d4ca-49bb-841e-b90c1209a377",
   "metadata": {},
   "source": [
    "With this calculation we can compute the dynamical matrix elements and the dvscf files, these quantities are the \n",
    "analougous of the GS density for the phonon calculations"
   ]
  },
  {
   "cell_type": "code",
   "execution_count": 139,
   "id": "ba1a585f-c7fa-4f45-ba3f-7878777e8199",
   "metadata": {},
   "outputs": [
    {
     "name": "stdout",
     "output_type": "stream",
     "text": [
      "Initialize a QuantumESPRESSO calculator with scheduler direct\n"
     ]
    }
   ],
   "source": [
    "rr = C.RunRules(mpi=mpi,omp_num_threads=omp)\n",
    "code_ph = C.QeCalculator(rr,executable='ph.x')\n",
    "#code_ph.global_options()"
   ]
  },
  {
   "cell_type": "code",
   "execution_count": 16,
   "id": "6182f23b-8f43-40da-a274-2e67c45d9d31",
   "metadata": {},
   "outputs": [],
   "source": [
    "prefix = 'si'\n",
    "name = 'si.phonon'\n",
    "inp = I.PhInput()\n",
    "inp.set_prefix(prefix)\n",
    "inp['inputph']['fildvscf'] = \"'si-dvscf'\"\n",
    "inp['inputph']['fildyn'] = \"'si.dyn'\"\n",
    "inp['inputph']['electron_phonon'] = \"'dvscf'\"\n",
    "inp['inputph']['epsil'] = '.true.'\n",
    "inp.set_kpoints(Tools.build_pw_klist(kpoints))\n",
    "#print(inp.convert_string())"
   ]
  },
  {
   "cell_type": "code",
   "execution_count": 17,
   "id": "85032ef7-0de0-473e-8cd2-01e115d3ac6d",
   "metadata": {},
   "outputs": [
    {
     "name": "stdout",
     "output_type": "stream",
     "text": [
      "create the run_dir folder : 'Electron_phonon_Si/phonon'\n",
      "copy source_dir Electron_phonon_Si/scf/si.save in the /home/marco/Applications/MPPI/sphinx_source/tutorials/Electron_phonon_Si/phonon/si.save\n",
      "run command: mpirun -np 4 ph.x -inp si.phonon.in > si.phonon.log\n",
      "computation si.phonon is running...\n"
     ]
    },
    {
     "name": "stderr",
     "output_type": "stream",
     "text": [
      "Note: The following floating-point exceptions are signalling: IEEE_DENORMAL\n",
      "Note: The following floating-point exceptions are signalling: IEEE_DENORMAL\n",
      "Note: The following floating-point exceptions are signalling: IEEE_DENORMAL\n",
      "Note: The following floating-point exceptions are signalling: IEEE_UNDERFLOW_FLAG IEEE_DENORMAL\n"
     ]
    },
    {
     "name": "stdout",
     "output_type": "stream",
     "text": [
      "computation si.phonon ended\n"
     ]
    }
   ],
   "source": [
    "ph_run_dir = os.path.join(run_dir,'phonon')\n",
    "results = code_ph.run(input=inp,run_dir=ph_run_dir,name=name,source_dir=os.path.join(scf_run_dir,prefix+'.save'))"
   ]
  },
  {
   "cell_type": "markdown",
   "id": "427735a2-07bd-484c-9259-2cd70b26b2e0",
   "metadata": {},
   "source": [
    "Once that the si.dyn* files and the dvscf files in the _ph0_ have been computed we can calculate the electron-phonon matrix elements. \n",
    "\n",
    "We copy these files in the run_dir of the dvscf computation for the evaluation of the electron-phonon matrix elements."
   ]
  },
  {
   "cell_type": "code",
   "execution_count": 18,
   "id": "83bbcef2-31e5-49b2-9d7c-5f766a73e296",
   "metadata": {},
   "outputs": [
    {
     "data": {
      "text/plain": [
       "0"
      ]
     },
     "execution_count": 18,
     "metadata": {},
     "output_type": "execute_result"
    }
   ],
   "source": [
    "dvscf_run_dir = os.path.join(run_dir,'dvscf')\n",
    "if not os.path.isdir(dvscf_run_dir) : os.mkdir(dvscf_run_dir)\n",
    "os.system('cp -r Electron_phonon_Si/phonon/_ph0/ Electron_phonon_Si/phonon/si.dyn* Electron_phonon_Si/dvscf')\n",
    "os.system('cp -r Electron_phonon_Si/nscf/si.save/ Electron_phonon_Si/dvscf/')"
   ]
  },
  {
   "cell_type": "markdown",
   "id": "befcf0db-3b5e-470f-855a-6e5848ce9ae9",
   "metadata": {},
   "source": [
    "In this case we use the nscf computations as starting point for the electronic quantities. Note that the calculator \n",
    "uses the option clean_restart=False. otherwise the dyn and ph0 files are erased."
   ]
  },
  {
   "cell_type": "code",
   "execution_count": 20,
   "id": "5847605b-9aec-45ab-b4aa-67a26cff3be7",
   "metadata": {},
   "outputs": [],
   "source": [
    "prefix = 'si'\n",
    "name = 'si.dvscf'\n",
    "inp = I.PhInput()\n",
    "inp.set_prefix(prefix)\n",
    "inp['inputph']['fildvscf'] = \"'si-dvscf'\"\n",
    "inp['inputph']['fildyn'] = \"'si.dyn'\"\n",
    "inp['inputph']['electron_phonon'] = \"'yambo'\"\n",
    "inp['inputph']['trans'] = '.false.'\n",
    "inp.set_kpoints(Tools.build_pw_klist(kpoints))\n",
    "#print(inp.convert_string())"
   ]
  },
  {
   "cell_type": "code",
   "execution_count": 21,
   "id": "7720aa30-f891-440b-9ae5-ce01a3030927",
   "metadata": {},
   "outputs": [
    {
     "name": "stdout",
     "output_type": "stream",
     "text": [
      "run performed starting from existing results\n",
      "run command: mpirun -np 4 ph.x -inp si.dvscf.in > si.dvscf.log\n",
      "computation si.dvscf is running...\n"
     ]
    },
    {
     "name": "stderr",
     "output_type": "stream",
     "text": [
      "Note: The following floating-point exceptions are signalling: IEEE_DENORMAL\n"
     ]
    },
    {
     "name": "stdout",
     "output_type": "stream",
     "text": [
      "computation si.dvscf ended\n"
     ]
    }
   ],
   "source": [
    "results = code_ph.run(input=inp,run_dir=dvscf_run_dir,name=name,clean_restart=False)"
   ]
  },
  {
   "cell_type": "markdown",
   "id": "157f8ae2-4134-404e-ba2b-780ee96bae94",
   "metadata": {},
   "source": [
    "## Import in yambo"
   ]
  },
  {
   "cell_type": "markdown",
   "id": "b00324d3-3e49-4a0d-8ad5-8f5d23f3bc45",
   "metadata": {},
   "source": [
    "We use ypp_ph to generate the electron-phonon database that can be used by yambo.\n",
    "\n",
    "This procedure convert the file written in the dvscf/elph_dir"
   ]
  },
  {
   "cell_type": "code",
   "execution_count": 22,
   "id": "0cc5dd59-3165-4e02-ad01-25923ed606d7",
   "metadata": {},
   "outputs": [
    {
     "name": "stdout",
     "output_type": "stream",
     "text": [
      "Executing command: cd Electron_phonon_Si/dvscf/si.save; p2y\n",
      "Create folder path Electron_phonon_Si/yambo\n",
      "Create a symlink of Electron_phonon_Si/dvscf/si.save/SAVE in Electron_phonon_Si/yambo\n",
      "Build the r_setup in the run_dir path Electron_phonon_Si/yambo\n"
     ]
    }
   ],
   "source": [
    "source_dir = 'Electron_phonon_Si/dvscf/si.save'\n",
    "run_dir = 'Electron_phonon_Si/yambo'\n",
    "Tools.init_yambo_run_dir(Tools.make_p2y(source_dir),run_dir=run_dir)"
   ]
  },
  {
   "cell_type": "code",
   "execution_count": 23,
   "id": "76a30545-5a2e-416a-a897-d216c0819a36",
   "metadata": {},
   "outputs": [
    {
     "data": {
      "text/plain": [
       "{'args': 'ypp_ph -g g',\n",
       " 'folder': 'Electron_phonon_Si/yambo',\n",
       " 'filename': 'yambo.in',\n",
       " 'arguments': ['gkkp'],\n",
       " 'variables': {'PHfreqF': 'none',\n",
       "  'PHmodeF': 'none',\n",
       "  'DBsPATH': '../dvscf/elph_dir/'}}"
      ]
     },
     "execution_count": 23,
     "metadata": {},
     "output_type": "execute_result"
    }
   ],
   "source": [
    "inp = I.YamboInput(args='ypp_ph -g g',folder=run_dir)\n",
    "inp.set_scalar_variables(DBsPATH='../dvscf/elph_dir/')\n",
    "inp"
   ]
  },
  {
   "cell_type": "code",
   "execution_count": 24,
   "id": "9249a91f-b544-41c6-b460-580284210d55",
   "metadata": {},
   "outputs": [
    {
     "name": "stdout",
     "output_type": "stream",
     "text": [
      "Initialize a Yambo calculator with scheduler direct\n"
     ]
    }
   ],
   "source": [
    "rr = C.RunRules(mpi=mpi,omp_num_threads=omp)\n",
    "code = C.YamboCalculator(rr,executable='ypp_ph')\n",
    "#code.global_options()"
   ]
  },
  {
   "cell_type": "code",
   "execution_count": 25,
   "id": "15dcfadb-855c-4380-9a16-47cb01953af4",
   "metadata": {},
   "outputs": [
    {
     "name": "stdout",
     "output_type": "stream",
     "text": [
      "run command: mpirun -np 4 ypp_ph -F elph_import.in -J elph_import -C elph_import\n",
      "computation elph_import is running...\n",
      "computation elph_import ended\n",
      "\n",
      "        There are no o-* files.\n",
      "        Maybe you have performed a computation that does not create any output file or wait_end_run\n",
      "        and/or the dry_run option are active.\n",
      "        Otherwise a possible error has occured during the computation\n",
      "        \n"
     ]
    },
    {
     "data": {
      "text/plain": [
       "{'output': {},\n",
       " 'report': 'Electron_phonon_Si/yambo/elph_import/r-elph_import_gkkp_gkkp_db',\n",
       " 'dft': 'Electron_phonon_Si/yambo/SAVE/ns.db1',\n",
       " 'elph_gkkp': 'Electron_phonon_Si/yambo/elph_import/ndb.elph_gkkp'}"
      ]
     },
     "execution_count": 25,
     "metadata": {},
     "output_type": "execute_result"
    }
   ],
   "source": [
    "name= 'elph_import'\n",
    "code.run(input=inp,name=name,run_dir=run_dir)"
   ]
  },
  {
   "cell_type": "markdown",
   "id": "df4d2bae-0417-4681-b654-46d9d9d46e10",
   "metadata": {},
   "source": [
    "## Quasi-particle band structure"
   ]
  },
  {
   "cell_type": "code",
   "execution_count": 41,
   "id": "73707a9a-e8b2-4ef9-b012-39a1ab74ea7b",
   "metadata": {},
   "outputs": [
    {
     "name": "stdout",
     "output_type": "stream",
     "text": [
      "Initialize a Yambo calculator with scheduler direct\n"
     ]
    }
   ],
   "source": [
    "rr = C.RunRules(mpi=mpi,omp_num_threads=omp)\n",
    "code = C.YamboCalculator(rr,executable='yambo_ph')\n",
    "#code.global_options()"
   ]
  },
  {
   "cell_type": "code",
   "execution_count": 42,
   "id": "68e7a0da-b3eb-49d8-85c7-8cd4dbb4aba9",
   "metadata": {},
   "outputs": [
    {
     "name": "stdout",
     "output_type": "stream",
     "text": [
      "SAVE folder Electron_phonon_Si/dvscf/si.save/SAVE already present. No operations performed.\n",
      "SAVE folder already present in Electron_phonon_Si/yambo. No operations performed.\n"
     ]
    }
   ],
   "source": [
    "source_dir = 'Electron_phonon_Si/dvscf/si.save'\n",
    "run_dir = 'Electron_phonon_Si/yambo'\n",
    "Tools.init_yambo_run_dir(Tools.make_p2y(source_dir),run_dir=run_dir)"
   ]
  },
  {
   "cell_type": "markdown",
   "id": "7086a347-d954-4da9-81d9-ab8ff076da00",
   "metadata": {},
   "source": [
    "We include the path of the folder with e-p matrix elements using the -J option. Alternatively we could copy the\n",
    "e-p database in the SAVE folder"
   ]
  },
  {
   "cell_type": "code",
   "execution_count": 126,
   "id": "e2b68b8b-75e9-439c-b5ee-a80b9d84b6a8",
   "metadata": {},
   "outputs": [
    {
     "data": {
      "text/plain": [
       "{'args': 'yambo_ph -g n -p fan -c ep -V gen -J elph_import',\n",
       " 'folder': 'Electron_phonon_Si/yambo',\n",
       " 'filename': 'yambo.in',\n",
       " 'arguments': ['gw0', 'el_ph_corr', 'ExtendOut'],\n",
       " 'variables': {'Nelectro': [8.0, ''],\n",
       "  'ElecTemp': [0.0, 'eV'],\n",
       "  'BoseTemp': [-1.0, 'eV'],\n",
       "  'OccTresh': [1e-05, ''],\n",
       "  'MEM_tresh': [51200.0, 'Kb'],\n",
       "  'SE_Threads': [0.0, ''],\n",
       "  'GDamping': [0.01, 'eV'],\n",
       "  'RandQpts': [0.0, ''],\n",
       "  'DysSolver': 'n',\n",
       "  'GphBRnge': [[1, 12], ''],\n",
       "  'ElPhModes': [[1, 6], ''],\n",
       "  'QPkrange': [[1, 1, 1, 12], '']}}"
      ]
     },
     "execution_count": 126,
     "metadata": {},
     "output_type": "execute_result"
    }
   ],
   "source": [
    "inp = I.YamboInput(args='yambo_ph -g n -p fan -c ep -V gen -J elph_import',folder=run_dir)\n",
    "inp.set_extendOut()\n",
    "inp.set_array_variables(units='eV',GDamping=0.01)\n",
    "inp.set_kRange(1,1)\n",
    "inp"
   ]
  },
  {
   "cell_type": "code",
   "execution_count": 138,
   "id": "f10246b6-eed5-4914-9a88-d18ccf6d656f",
   "metadata": {},
   "outputs": [
    {
     "name": "stdout",
     "output_type": "stream",
     "text": [
      "Initialize a Dataset with 2 parallel tasks\n"
     ]
    }
   ],
   "source": [
    "Temp = [0,50,100,150,200,250,300]\n",
    "\n",
    "study = D.Dataset(run_dir=run_dir,num_tasks=2,verbose=True,skip=True)\n",
    "study.set_postprocessing_function(PP.yambo_parse_data)\n",
    "\n",
    "for T in Temp:\n",
    "    inp.set_array_variables(units='K',BoseTemp=T)\n",
    "    idd = 'elph_T%s'%T\n",
    "    study.append_run(id=idd,input=inp,runner=code,jobname =[idd,'elph_import'])"
   ]
  },
  {
   "cell_type": "code",
   "execution_count": 134,
   "id": "676268d6-dbb8-4f8a-a571-8a1f1463ce15",
   "metadata": {},
   "outputs": [
    {
     "data": {
      "text/plain": [
       "{'label': 'Dataset',\n",
       " 'run_dir': 'Electron_phonon_Si/yambo',\n",
       " 'num_tasks': 2,\n",
       " 'verbose': True,\n",
       " 'skip': False,\n",
       " 'input': {'args': 'yambo_ph -g n -p fan -c ep -V gen -J elph_import',\n",
       "  'folder': 'Electron_phonon_Si/yambo',\n",
       "  'filename': 'yambo.in',\n",
       "  'arguments': ['gw0', 'el_ph_corr', 'ExtendOut'],\n",
       "  'variables': {'Nelectro': [8.0, ''],\n",
       "   'ElecTemp': [0.0, 'eV'],\n",
       "   'BoseTemp': [0, 'K'],\n",
       "   'OccTresh': [1e-05, ''],\n",
       "   'MEM_tresh': [51200.0, 'Kb'],\n",
       "   'SE_Threads': [0.0, ''],\n",
       "   'GDamping': [0.01, 'eV'],\n",
       "   'RandQpts': [0.0, ''],\n",
       "   'DysSolver': 'n',\n",
       "   'GphBRnge': [[1, 12], ''],\n",
       "   'ElPhModes': [[1, 6], ''],\n",
       "   'QPkrange': [[1, 1, 1, 12], '']}},\n",
       " 'jobname': ['elph_T0', 'elph_import'],\n",
       " 'name': 'elph_T0'}"
      ]
     },
     "execution_count": 134,
     "metadata": {},
     "output_type": "execute_result"
    }
   ],
   "source": [
    "study.runs[0]"
   ]
  },
  {
   "cell_type": "code",
   "execution_count": 135,
   "id": "c04bb3cc-7634-468b-ab41-3dba722fe457",
   "metadata": {},
   "outputs": [
    {
     "name": "stdout",
     "output_type": "stream",
     "text": [
      "Run the selection [0, 1, 2, 3, 4, 5, 6] with the parallel task_groups [[0, 1], [2, 3], [4, 5], [6]] \n",
      "\n",
      "Run the task [0, 1] \n",
      "delete folder:delete folder:  Electron_phonon_Si/yambo/elph_T50Electron_phonon_Si/yambo/elph_T0\n",
      "\n",
      "run command: mpirun -np 4 yambo_ph -F elph_T0.in -J \"elph_T0,elph_import\" -C elph_T0run command: mpirun -np 4 yambo_ph -F elph_T50.in -J \"elph_T50,elph_import\" -C elph_T50\n",
      "\n",
      "computation elph_T0 is running...computation elph_T50 is running...\n",
      "\n",
      "computation elph_T0 endedcomputation elph_T50 ended\n",
      "\n",
      "Task [0, 1] ended \n",
      " \n",
      "Run the task [2, 3] \n",
      "delete folder:delete folder:  Electron_phonon_Si/yambo/elph_T100\n",
      "Electron_phonon_Si/yambo/elph_T150\n",
      "run command: mpirun -np 4 yambo_ph -F elph_T100.in -J \"elph_T100,elph_import\" -C elph_T100\n",
      "run command: mpirun -np 4 yambo_ph -F elph_T150.in -J \"elph_T150,elph_import\" -C elph_T150\n",
      "computation elph_T100 is running...\n",
      "computation elph_T150 is running...\n",
      "computation elph_T100 ended\n",
      "computation elph_T150 ended\n",
      "Task [2, 3] ended \n",
      " \n",
      "Run the task [4, 5] \n",
      "delete folder:delete folder:  Electron_phonon_Si/yambo/elph_T200Electron_phonon_Si/yambo/elph_T250\n",
      "\n",
      "run command: mpirun -np 4 yambo_ph -F elph_T200.in -J \"elph_T200,elph_import\" -C elph_T200run command: mpirun -np 4 yambo_ph -F elph_T250.in -J \"elph_T250,elph_import\" -C elph_T250\n",
      "\n",
      "computation elph_T200 is running...computation elph_T250 is running...\n",
      "\n",
      "computation elph_T250 endedcomputation elph_T200 ended\n",
      "\n",
      "Task [4, 5] ended \n",
      " \n",
      "Run the task [6] \n",
      "delete folder: Electron_phonon_Si/yambo/elph_T300\n",
      "run command: mpirun -np 4 yambo_ph -F elph_T300.in -J \"elph_T300,elph_import\" -C elph_T300\n",
      "computation elph_T300 is running...\n",
      "computation elph_T300 ended\n",
      "Task [6] ended \n",
      " \n"
     ]
    }
   ],
   "source": [
    "results = study.run()"
   ]
  },
  {
   "cell_type": "code",
   "execution_count": 136,
   "id": "3ba2f4f8-8037-42a0-9935-2bdd4af9dbd5",
   "metadata": {},
   "outputs": [
    {
     "data": {
      "text/plain": [
       "[2.481261, 2.484257, 2.48887, 2.4916579999999997, 2.490541, 2.485434, 2.477773]"
      ]
     },
     "execution_count": 136,
     "metadata": {},
     "output_type": "execute_result"
    }
   ],
   "source": [
    "gap_G = [results[ind].data.get_gap(k_full=1,band_full=4,verbose=False) for ind in range(len(Temp))]\n",
    "gap_G"
   ]
  },
  {
   "cell_type": "code",
   "execution_count": 137,
   "id": "34dc7da5-02f7-49f1-a4e9-05155d3995f2",
   "metadata": {},
   "outputs": [
    {
     "data": {
      "text/plain": [
       "<matplotlib.collections.PathCollection at 0x7fa60ba53460>"
      ]
     },
     "execution_count": 137,
     "metadata": {},
     "output_type": "execute_result"
    },
    {
     "data": {
      "image/png": "[encoded data removed]",
      "text/plain": [
       "<Figure size 640x480 with 1 Axes>"
      ]
     },
     "metadata": {},
     "output_type": "display_data"
    }
   ],
   "source": [
    "plt.plot(Temp,gap_G)\n",
    "plt.scatter(Temp,gap_G)"
   ]
  },
  {
   "cell_type": "markdown",
   "id": "1e754b61-7ee0-48ed-b7c2-5b58dd016ee7",
   "metadata": {},
   "source": [
    "The behavior is unxpected....."
   ]
  },
  {
   "cell_type": "code",
   "execution_count": null,
   "id": "6a699455-e324-4217-a8c0-669dab7e57a5",
   "metadata": {},
   "outputs": [],
   "source": []
  },
  {
   "cell_type": "code",
   "execution_count": null,
   "id": "e26f4c13-1b93-4aa0-9f64-b85b39ccc529",
   "metadata": {},
   "outputs": [],
   "source": []
  },
  {
   "cell_type": "code",
   "execution_count": null,
   "id": "3a59e98f-44ee-4e65-843e-cb811b2131b1",
   "metadata": {},
   "outputs": [],
   "source": []
  }
 ],
 "metadata": {
  "kernelspec": {
   "display_name": "Python 3 (ipykernel)",
   "language": "python",
   "name": "python3"
  },
  "language_info": {
   "codemirror_mode": {
    "name": "ipython",
    "version": 3
   },
   "file_extension": ".py",
   "mimetype": "text/x-python",
   "name": "python",
   "nbconvert_exporter": "python",
   "pygments_lexer": "ipython3",
   "version": "3.10.6"
  }
 },
 "nbformat": 4,
 "nbformat_minor": 5
}
