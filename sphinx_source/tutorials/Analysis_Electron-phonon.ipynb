{
 "cells": [
  {
   "cell_type": "code",
   "execution_count": 1,
   "id": "89b4f78a-ba2c-4013-872c-f22d7d726126",
   "metadata": {},
   "outputs": [],
   "source": [
    "# useful to autoreload the module without restarting the kernel\n",
    "%load_ext autoreload\n",
    "%autoreload 2"
   ]
  },
  {
   "cell_type": "code",
   "execution_count": 2,
   "id": "0d23bfcf-76e0-466f-a445-6ceb60586032",
   "metadata": {},
   "outputs": [],
   "source": [
    "from mppi import InputFiles as I, Calculators as C, Utilities as U, Parsers as P\n",
    "from mppi.Calculators import Tools\n",
    "import matplotlib.pyplot as plt\n",
    "import os\n",
    "import numpy as np"
   ]
  },
  {
   "cell_type": "code",
   "execution_count": 3,
   "id": "5f09db40-b2df-4ea1-8c1f-5fe90f51fa5f",
   "metadata": {},
   "outputs": [],
   "source": [
    "omp = 1\n",
    "mpi = 4"
   ]
  },
  {
   "cell_type": "markdown",
   "id": "5a889ff5-5679-43c1-9654-f2736e22bf74",
   "metadata": {},
   "source": [
    "# Analysis of the electron-phonon coupling "
   ]
  },
  {
   "cell_type": "markdown",
   "id": "cbd61412-64c3-4daf-ae14-ead1a879cd07",
   "metadata": {},
   "source": [
    "We analyze the effects of the electron-phonon coupling in the electronic and optical properties\n",
    "of bulk Si.\n",
    "\n",
    "This analysis is base on the web page : https://www.yambo-code.eu/wiki/index.php/Electron_Phonon_Coupling\n",
    "\n",
    "\n"
   ]
  },
  {
   "cell_type": "code",
   "execution_count": 4,
   "id": "c4e2fed2-62d6-46e4-a229-5f3818034f61",
   "metadata": {},
   "outputs": [],
   "source": [
    "run_dir = 'Electron_phonon_Si'"
   ]
  },
  {
   "cell_type": "markdown",
   "id": "17d09de0-c03a-44ba-ba60-c3fcfef00088",
   "metadata": {},
   "source": [
    "## SCF and NSCF calculations"
   ]
  },
  {
   "cell_type": "code",
   "execution_count": 5,
   "id": "62b8132b-6053-42d4-a75c-ff786e9f963c",
   "metadata": {},
   "outputs": [
    {
     "name": "stdout",
     "output_type": "stream",
     "text": [
      "Initialize a QuantumESPRESSO calculator with scheduler direct\n"
     ]
    },
    {
     "data": {
      "text/plain": [
       "{'scheduler': 'direct',\n",
       " 'mpi': 4,\n",
       " 'omp_num_threads': 1,\n",
       " 'executable': 'pw.x',\n",
       " 'skip': True,\n",
       " 'clean_restart': True,\n",
       " 'dry_run': False,\n",
       " 'wait_end_run': True,\n",
       " 'activate_BeeOND': False,\n",
       " 'verbose': True}"
      ]
     },
     "execution_count": 5,
     "metadata": {},
     "output_type": "execute_result"
    }
   ],
   "source": [
    "rr = C.RunRules(mpi=mpi,omp_num_threads=omp)\n",
    "code = C.QeCalculator(rr)\n",
    "code.global_options()"
   ]
  },
  {
   "cell_type": "code",
   "execution_count": 6,
   "id": "17796a25-4228-4ee3-a53e-acc477dfc09b",
   "metadata": {},
   "outputs": [],
   "source": [
    "scf_prefix = 'si_scf'\n",
    "nscf_prefix = 'si_nscf'"
   ]
  },
  {
   "cell_type": "markdown",
   "id": "d9cf96e5-2b3d-4c99-a0df-c235345c7788",
   "metadata": {},
   "source": [
    "First we perform a scf calculation on a 8x8x8 k grid to ensure that the electronic density of the GS is converged.\n",
    "\n",
    "The convergence threshold is set to 1e-12, this value and k grid are loosend w.r.t. the paramteres used in the original\n",
    "tutorial to redcue computational time.\n",
    "\n",
    "Note that, following the Yambo tutorial, the geometry of the lattice is set using ibrav=0 with the explicit values of the cell\n",
    "parameters. This is done to avoid possible incompatibility between the PW and Yambo conventions for the FCC lattice."
   ]
  },
  {
   "cell_type": "code",
   "execution_count": 7,
   "id": "60227f7e-f279-4668-85f4-cf1d73b2eb07",
   "metadata": {},
   "outputs": [
    {
     "data": {
      "text/plain": [
       "{'control': {'calculation': \"'scf'\",\n",
       "  'verbosity': \"'high'\",\n",
       "  'prefix': \"'si_scf'\",\n",
       "  'outdir': \"'./'\",\n",
       "  'wf_collect': '.true.',\n",
       "  'pseudo_dir': \"'../pseudos'\"},\n",
       " 'system': {'force_symmorphic': '.true.',\n",
       "  'ibrav': 0,\n",
       "  'celldm(1)': 5.132,\n",
       "  'nat': 2,\n",
       "  'ntyp': 1,\n",
       "  'ecutwfc': 40.0},\n",
       " 'electrons': {'diago_full_acc': '.false.', 'conv_thr': '1.0d-15'},\n",
       " 'ions': {},\n",
       " 'cell': {},\n",
       " 'atomic_species': {'Si': [28.085, 'Si_DOJO_PBEsol.upf']},\n",
       " 'atomic_positions': {'type': 'crystal',\n",
       "  'values': [['Si', [0.0, 0.0, 0.0]], ['Si', [0.25, 0.25, 0.25]]]},\n",
       " 'kpoints': {'type': 'automatic',\n",
       "  'values': ([8.0, 8.0, 8.0], [0.0, 0.0, 0.0])},\n",
       " 'cell_parameters': {'type': 'alat',\n",
       "  'values': [[0.0, 1.0, 1.0], [1.0, 0.0, 1.0], [1.0, 1.0, 0.0]]},\n",
       " 'file': 'IO_files/Input_for_electron_phonon_Si_tutorial/si.scf.in'}"
      ]
     },
     "execution_count": 7,
     "metadata": {},
     "output_type": "execute_result"
    }
   ],
   "source": [
    "inp= I.PwInput(file='IO_files/Input_for_electron_phonon_Si_tutorial/si.scf.in')\n",
    "inp.set_prefix(scf_prefix)\n",
    "inp.set_pseudo_dir('../pseudos')\n",
    "inp"
   ]
  },
  {
   "cell_type": "code",
   "execution_count": 8,
   "id": "0ad15249-6ddb-475e-92cf-5e498ab3e92d",
   "metadata": {},
   "outputs": [
    {
     "name": "stdout",
     "output_type": "stream",
     "text": [
      "create the run_dir folder : 'Electron_phonon_Si'\n",
      "run command: mpirun -np 4 pw.x -inp si_scf.in > si_scf.log\n",
      "computation si_scf is running...\n",
      "computation si_scf ended\n"
     ]
    },
    {
     "name": "stderr",
     "output_type": "stream",
     "text": [
      "Note: The following floating-point exceptions are signalling: IEEE_DENORMAL\n",
      "Note: The following floating-point exceptions are signalling: IEEE_DENORMAL\n",
      "Note: The following floating-point exceptions are signalling: IEEE_DENORMAL\n",
      "Note: The following floating-point exceptions are signalling: IEEE_DENORMAL\n"
     ]
    },
    {
     "data": {
      "text/plain": [
       "'/home/marco/Applications/MPPI/sphinx_source/tutorials/Electron_phonon_Si/si_scf.save/data-file-schema.xml'"
      ]
     },
     "execution_count": 8,
     "metadata": {},
     "output_type": "execute_result"
    }
   ],
   "source": [
    "results = code.run(input=inp,run_dir=run_dir,name=scf_prefix)\n",
    "results"
   ]
  },
  {
   "cell_type": "markdown",
   "id": "021a202d-1642-4e85-8a87-f6f6392d641b",
   "metadata": {},
   "source": [
    "Then we perform a nscf calculation on a smaller 4x4x4 grid with 12 bands."
   ]
  },
  {
   "cell_type": "code",
   "execution_count": 9,
   "id": "ecf97276-2b7c-4d33-a822-683fecf601fb",
   "metadata": {},
   "outputs": [
    {
     "data": {
      "text/plain": [
       "{'control': {'calculation': \"'nscf'\",\n",
       "  'verbosity': \"'high'\",\n",
       "  'prefix': \"'si_nscf'\",\n",
       "  'outdir': \"'./'\",\n",
       "  'wf_collect': '.true.',\n",
       "  'pseudo_dir': \"'../pseudos'\"},\n",
       " 'system': {'force_symmorphic': '.false.',\n",
       "  'ibrav': 0,\n",
       "  'celldm(1)': 5.132,\n",
       "  'nat': 2,\n",
       "  'ntyp': 1,\n",
       "  'ecutwfc': 40.0,\n",
       "  'nbnd': 12},\n",
       " 'electrons': {'diago_full_acc': '.false.', 'conv_thr': 1e-08},\n",
       " 'ions': {},\n",
       " 'cell': {},\n",
       " 'atomic_species': {'Si': [28.085, 'Si_DOJO_PBEsol.upf']},\n",
       " 'atomic_positions': {'type': 'crystal',\n",
       "  'values': [['Si', [0.0, 0.0, 0.0]], ['Si', [0.25, 0.25, 0.25]]]},\n",
       " 'kpoints': {'type': 'automatic', 'values': ([4, 4, 4], [0.0, 0.0, 0.0])},\n",
       " 'cell_parameters': {'type': 'alat',\n",
       "  'values': [[0.0, 1.0, 1.0], [1.0, 0.0, 1.0], [1.0, 1.0, 0.0]]},\n",
       " 'file': 'IO_files/Input_for_electron_phonon_Si_tutorial/si.scf.in'}"
      ]
     },
     "execution_count": 9,
     "metadata": {},
     "output_type": "execute_result"
    }
   ],
   "source": [
    "inp.set_nscf(12)\n",
    "inp.set_prefix(nscf_prefix)\n",
    "inp.set_kpoints(points=[4,4,4])\n",
    "inp"
   ]
  },
  {
   "cell_type": "code",
   "execution_count": 10,
   "id": "ec8f159c-c221-4c66-95c1-fd2b25ae11ef",
   "metadata": {},
   "outputs": [
    {
     "name": "stdout",
     "output_type": "stream",
     "text": [
      "copy source_dir Electron_phonon_Si/si_scf.save in the /home/marco/Applications/MPPI/sphinx_source/tutorials/Electron_phonon_Si/si_nscf.save\n",
      "run command: mpirun -np 4 pw.x -inp si_nscf.in > si_nscf.log\n",
      "computation si_nscf is running...\n",
      "computation si_nscf ended\n"
     ]
    },
    {
     "name": "stderr",
     "output_type": "stream",
     "text": [
      "Note: The following floating-point exceptions are signalling: IEEE_DENORMAL\n",
      "Note: The following floating-point exceptions are signalling: IEEE_DENORMAL\n",
      "Note: The following floating-point exceptions are signalling: IEEE_DENORMAL\n",
      "Note: The following floating-point exceptions are signalling: IEEE_DENORMAL\n"
     ]
    },
    {
     "data": {
      "text/plain": [
       "'/home/marco/Applications/MPPI/sphinx_source/tutorials/Electron_phonon_Si/si_nscf.save/data-file-schema.xml'"
      ]
     },
     "execution_count": 10,
     "metadata": {},
     "output_type": "execute_result"
    }
   ],
   "source": [
    "results = code.run(input=inp,run_dir=run_dir,name=nscf_prefix,source_dir=os.path.join(run_dir,scf_prefix)+'.save')\n",
    "results"
   ]
  },
  {
   "cell_type": "code",
   "execution_count": 11,
   "id": "6ac47e50-5e84-4bd1-b5db-5e079ea9840e",
   "metadata": {},
   "outputs": [
    {
     "name": "stdout",
     "output_type": "stream",
     "text": [
      "Parse file : /home/marco/Applications/MPPI/sphinx_source/tutorials/Electron_phonon_Si/si_nscf.save/data-file-schema.xml\n"
     ]
    }
   ],
   "source": [
    "data = P.PwParser(results)"
   ]
  },
  {
   "cell_type": "code",
   "execution_count": 12,
   "id": "a5233c63-d450-4584-a2d4-0de1ac124e52",
   "metadata": {},
   "outputs": [
    {
     "data": {
      "text/plain": [
       "array([[-0.   , -0.   , -0.   ],\n",
       "       [-0.125, -0.125,  0.125],\n",
       "       [ 0.25 ,  0.25 , -0.25 ],\n",
       "       [-0.25 , -0.   , -0.   ],\n",
       "       [ 0.125,  0.375, -0.375],\n",
       "       [-0.   ,  0.25 , -0.25 ],\n",
       "       [ 0.5  , -0.   , -0.   ],\n",
       "       [ 0.5  , -0.25 , -0.   ]])"
      ]
     },
     "execution_count": 12,
     "metadata": {},
     "output_type": "execute_result"
    }
   ],
   "source": [
    "kpoints=-data.kpoints\n",
    "kpoints"
   ]
  },
  {
   "cell_type": "markdown",
   "id": "74a943db-4638-46ce-a7bb-4fdd1341a177",
   "metadata": {},
   "source": [
    "## Phonon calculations"
   ]
  },
  {
   "cell_type": "markdown",
   "id": "42ce8e88-d4ca-49bb-841e-b90c1209a377",
   "metadata": {},
   "source": [
    "With this calculation we can compute the dynamical matrix elements and the dvscf files, these quantities are the \n",
    "analougous of the GS density for the phonon calculations"
   ]
  },
  {
   "cell_type": "code",
   "execution_count": 19,
   "id": "ba1a585f-c7fa-4f45-ba3f-7878777e8199",
   "metadata": {},
   "outputs": [
    {
     "name": "stdout",
     "output_type": "stream",
     "text": [
      "Initialize a QuantumESPRESSO calculator with scheduler direct\n"
     ]
    },
    {
     "data": {
      "text/plain": [
       "{'scheduler': 'direct',\n",
       " 'mpi': 4,\n",
       " 'omp_num_threads': 1,\n",
       " 'executable': 'ph.x',\n",
       " 'skip': True,\n",
       " 'clean_restart': True,\n",
       " 'dry_run': False,\n",
       " 'wait_end_run': True,\n",
       " 'activate_BeeOND': False,\n",
       " 'verbose': True}"
      ]
     },
     "execution_count": 19,
     "metadata": {},
     "output_type": "execute_result"
    }
   ],
   "source": [
    "rr = C.RunRules(mpi=mpi,omp_num_threads=omp)\n",
    "code_ph = C.QeCalculator(rr,executable='ph.x')\n",
    "code_ph.global_options()"
   ]
  },
  {
   "cell_type": "code",
   "execution_count": 20,
   "id": "6182f23b-8f43-40da-a274-2e67c45d9d31",
   "metadata": {},
   "outputs": [
    {
     "data": {
      "text/plain": [
       "{'inputph': {'verbosity': \"'high'\",\n",
       "  'prefix': \"'si_ph'\",\n",
       "  'outdir': \"'./'\",\n",
       "  'tr2_ph': 1e-12,\n",
       "  'trans': '.true.',\n",
       "  'qplot': '.true.',\n",
       "  'ldisp': '.false.',\n",
       "  'fildvscf': \"'si-dvscf'\",\n",
       "  'fildyn': \"'si.dyn'\",\n",
       "  'electron_phonon': \"'dvscf'\"},\n",
       " 'kpoints': {'values': [[-0.0, -0.0, -0.0, 1],\n",
       "   [-0.125, -0.125, 0.125, 1],\n",
       "   [0.25, 0.25, -0.25, 1],\n",
       "   [-0.25, -0.0, -0.0, 1],\n",
       "   [0.125, 0.375, -0.375, 1],\n",
       "   [-0.0, 0.25, -0.25, 1],\n",
       "   [0.5, -0.0, -0.0, 1],\n",
       "   [0.5, -0.25, -0.0, 1]]}}"
      ]
     },
     "execution_count": 20,
     "metadata": {},
     "output_type": "execute_result"
    }
   ],
   "source": [
    "ph_prefix = 'si_ph' # We can use directly the scf prefix without the source_dir option in the calculator\n",
    "inp = I.PhInput()\n",
    "inp.set_prefix(ph_prefix)\n",
    "inp['inputph']['fildvscf'] = \"'si-dvscf'\"\n",
    "inp['inputph']['fildyn'] = \"'si.dyn'\"\n",
    "inp['inputph']['electron_phonon'] = \"'dvscf'\"\n",
    "inp.set_kpoints(Tools.build_pw_klist(kpoints))\n",
    "inp"
   ]
  },
  {
   "cell_type": "code",
   "execution_count": 21,
   "id": "85032ef7-0de0-473e-8cd2-01e115d3ac6d",
   "metadata": {},
   "outputs": [
    {
     "name": "stdout",
     "output_type": "stream",
     "text": [
      "Skip the run of si_ph\n",
      "The folder /home/marco/Applications/MPPI/sphinx_source/tutorials/Electron_phonon_Si/si_ph.save already exists. Source_dir Electron_phonon_Si/si_scf.save not copied\n"
     ]
    }
   ],
   "source": [
    "results = code_ph.run(input=inp,run_dir=run_dir,name=ph_prefix,source_dir=os.path.join(run_dir,scf_prefix)+'.save')"
   ]
  },
  {
   "cell_type": "markdown",
   "id": "427735a2-07bd-484c-9259-2cd70b26b2e0",
   "metadata": {},
   "source": [
    "Once that the si.dyn* files and the dvscf files in the _ph0_ have been computed we can calculate the electron-phonon matrix elements. \n",
    "\n",
    "In this case we use the nscf computations as starting point for the electronic quantities  "
   ]
  },
  {
   "cell_type": "markdown",
   "id": "b068b1da-0de4-4abc-9342-cb0a6873fcb6",
   "metadata": {},
   "source": [
    "I erase the folder si_ph.save build in the previous calculation and change name to si_ph.log"
   ]
  },
  {
   "cell_type": "code",
   "execution_count": 33,
   "id": "4bf9e661-1411-4d0f-94b5-cf74c2b2acd3",
   "metadata": {},
   "outputs": [
    {
     "data": {
      "text/plain": [
       "{'inputph': {'verbosity': \"'high'\",\n",
       "  'prefix': \"'si_ph'\",\n",
       "  'outdir': \"'./'\",\n",
       "  'tr2_ph': 1e-12,\n",
       "  'trans': \"'.false.'\",\n",
       "  'qplot': '.true.',\n",
       "  'ldisp': '.false.',\n",
       "  'fildvscf': \"'si-dvscf'\",\n",
       "  'fildyn': \"'si.dyn'\",\n",
       "  'electron_phonon': \"'yambo'\"},\n",
       " 'kpoints': {'values': [[-0.0, -0.0, -0.0, 1],\n",
       "   [-0.125, -0.125, 0.125, 1],\n",
       "   [0.25, 0.25, -0.25, 1],\n",
       "   [-0.25, -0.0, -0.0, 1],\n",
       "   [0.125, 0.375, -0.375, 1],\n",
       "   [-0.0, 0.25, -0.25, 1],\n",
       "   [0.5, -0.0, -0.0, 1],\n",
       "   [0.5, -0.25, -0.0, 1]]}}"
      ]
     },
     "execution_count": 33,
     "metadata": {},
     "output_type": "execute_result"
    }
   ],
   "source": [
    "ph_nscf_prefix = 'si_ph' #\n",
    "inp = I.PhInput()\n",
    "inp.set_prefix(ph_nscf_prefix)\n",
    "inp['inputph']['fildvscf'] = \"'si-dvscf'\"\n",
    "inp['inputph']['fildyn'] = \"'si.dyn'\"\n",
    "inp['inputph']['electron_phonon'] = \"'yambo'\"\n",
    "inp['inputph']['trans'] = \"'.false.'\"\n",
    "inp.set_kpoints(Tools.build_pw_klist(kpoints))\n",
    "inp"
   ]
  },
  {
   "cell_type": "code",
   "execution_count": 34,
   "id": "7b2c7b46-a873-4aea-bd79-9fbf99be5784",
   "metadata": {},
   "outputs": [
    {
     "name": "stdout",
     "output_type": "stream",
     "text": [
      "delete folder: /home/marco/Applications/MPPI/sphinx_source/tutorials/Electron_phonon_Si/si_ph.save\n",
      "copy source_dir Electron_phonon_Si/si_nscf.save in the /home/marco/Applications/MPPI/sphinx_source/tutorials/Electron_phonon_Si/si_ph.save\n",
      "run command: mpirun -np 4 ph.x -inp si_ph.in > si_ph.log\n",
      "computation si_ph is running...\n"
     ]
    },
    {
     "name": "stderr",
     "output_type": "stream",
     "text": [
      "--------------------------------------------------------------------------\n",
      "MPI_ABORT was invoked on rank 0 in communicator MPI_COMM_WORLD\n",
      "with errorcode 1.\n",
      "\n",
      "NOTE: invoking MPI_ABORT causes Open MPI to kill all MPI processes.\n",
      "You may or may not see output from other processes, depending on\n",
      "exactly when Open MPI kills them.\n",
      "--------------------------------------------------------------------------\n",
      "[dal-xps:203223] 3 more processes have sent help message help-mpi-api.txt / mpi-abort\n",
      "[dal-xps:203223] Set MCA parameter \"orte_base_help_aggregate\" to 0 to see all help / error messages\n"
     ]
    },
    {
     "name": "stdout",
     "output_type": "stream",
     "text": [
      "computation si_ph ended\n"
     ]
    }
   ],
   "source": [
    "results = code_ph.run(input=inp,run_dir=run_dir,name=ph_nscf_prefix,source_dir=os.path.join(run_dir,nscf_prefix)+'.save')"
   ]
  },
  {
   "cell_type": "code",
   "execution_count": null,
   "id": "cffa2561-6bdc-4535-97e4-e69a70b05992",
   "metadata": {},
   "outputs": [],
   "source": []
  },
  {
   "cell_type": "code",
   "execution_count": null,
   "id": "bdeda82b-2869-46cf-95d0-c5f94777ac23",
   "metadata": {},
   "outputs": [],
   "source": []
  },
  {
   "cell_type": "code",
   "execution_count": null,
   "id": "2855e12e-0504-4faf-89f7-3348a433f53f",
   "metadata": {},
   "outputs": [],
   "source": []
  },
  {
   "cell_type": "code",
   "execution_count": null,
   "id": "3e529195-76bd-48c1-b69d-b6c24b15f4b8",
   "metadata": {},
   "outputs": [],
   "source": []
  },
  {
   "cell_type": "code",
   "execution_count": null,
   "id": "f2283fe4-2558-4d87-8981-231850165a44",
   "metadata": {},
   "outputs": [],
   "source": [
    "######################################################################################################"
   ]
  },
  {
   "cell_type": "markdown",
   "id": "bca6cfd9-0c54-4f6c-8533-5f835232f778",
   "metadata": {},
   "source": [
    "## Computation of the phonon spectrum and of the electron-phonon matrix"
   ]
  },
  {
   "cell_type": "markdown",
   "id": "57b8a40e-3f16-4626-88d7-aa4fc101d73b",
   "metadata": {},
   "source": [
    "This analysis is performed using QuantumESPRESSO.\n",
    "\n",
    "First we perform a scf computation for the calculation of the electronic density of the GS"
   ]
  },
  {
   "cell_type": "code",
   "execution_count": 10,
   "id": "8703f3b3-c7fe-4b37-91b2-4a0fc328081c",
   "metadata": {},
   "outputs": [],
   "source": [
    "scf_prefix = 'si_scf'\n",
    "nscf_prefix = 'si_nscf'"
   ]
  },
  {
   "cell_type": "code",
   "execution_count": 11,
   "id": "a11ffd5c-0e0d-42c6-81e6-aa7153c04a6b",
   "metadata": {},
   "outputs": [],
   "source": [
    "inp = I.PwInput(file='IO_files/si_scf.in')\n",
    "inp.set_prefix(scf_prefix)\n",
    "inp.set_energy_cutoff(60)\n",
    "inp.set_kpoints(points=[6,6,6])\n",
    "#inp"
   ]
  },
  {
   "cell_type": "code",
   "execution_count": 12,
   "id": "a0b8da9a-0b65-4b0a-b39d-e5d7bf6a63ae",
   "metadata": {},
   "outputs": [
    {
     "name": "stdout",
     "output_type": "stream",
     "text": [
      "Initialize a QuantumESPRESSO calculator with scheduler direct\n"
     ]
    },
    {
     "data": {
      "text/plain": [
       "{'scheduler': 'direct',\n",
       " 'mpi': 4,\n",
       " 'omp_num_threads': 1,\n",
       " 'executable': 'pw.x',\n",
       " 'skip': True,\n",
       " 'clean_restart': True,\n",
       " 'dry_run': False,\n",
       " 'wait_end_run': True,\n",
       " 'activate_BeeOND': False,\n",
       " 'verbose': True}"
      ]
     },
     "execution_count": 12,
     "metadata": {},
     "output_type": "execute_result"
    }
   ],
   "source": [
    "rr = C.RunRules(mpi=mpi,omp_num_threads=omp)\n",
    "code = C.QeCalculator(rr)\n",
    "code.global_options()"
   ]
  },
  {
   "cell_type": "code",
   "execution_count": 13,
   "id": "d1e01bc1-3616-47e8-828d-70f612d4c022",
   "metadata": {},
   "outputs": [
    {
     "name": "stdout",
     "output_type": "stream",
     "text": [
      "Skip the run of si_scf\n"
     ]
    }
   ],
   "source": [
    "results = code.run(input=inp,run_dir=run_dir,name=scf_prefix)"
   ]
  },
  {
   "cell_type": "code",
   "execution_count": 14,
   "id": "052b553b-e8ed-4326-b8a1-18e647fb262b",
   "metadata": {},
   "outputs": [
    {
     "name": "stdout",
     "output_type": "stream",
     "text": [
      "Parse file : /home/marco/Applications/MPPI/sphinx_source/tutorials/Electron_phonon_Si/si_scf.save/data-file-schema.xml\n"
     ]
    },
    {
     "data": {
      "text/plain": [
       "array([[ 0.00000000e+00,  0.00000000e+00,  0.00000000e+00],\n",
       "       [-1.66666667e-01,  1.66666667e-01, -1.66666667e-01],\n",
       "       [-3.33333333e-01,  3.33333333e-01, -3.33333333e-01],\n",
       "       [ 5.00000000e-01, -5.00000000e-01,  5.00000000e-01],\n",
       "       [ 0.00000000e+00,  3.33333333e-01,  0.00000000e+00],\n",
       "       [-1.66666667e-01,  5.00000000e-01, -1.66666667e-01],\n",
       "       [ 6.66666667e-01, -3.33333333e-01,  6.66666667e-01],\n",
       "       [ 5.00000000e-01, -1.66666667e-01,  5.00000000e-01],\n",
       "       [ 3.33333333e-01,  2.77555756e-17,  3.33333333e-01],\n",
       "       [ 0.00000000e+00,  6.66666667e-01,  0.00000000e+00],\n",
       "       [ 8.33333333e-01, -1.66666667e-01,  8.33333333e-01],\n",
       "       [ 6.66666667e-01, -5.55111512e-17,  6.66666667e-01],\n",
       "       [ 0.00000000e+00, -1.00000000e+00,  0.00000000e+00],\n",
       "       [ 6.66666667e-01, -3.33333333e-01,  1.00000000e+00],\n",
       "       [ 5.00000000e-01, -1.66666667e-01,  8.33333333e-01],\n",
       "       [-3.33333333e-01, -1.00000000e+00,  0.00000000e+00],\n",
       "       [-1.66666667e-01,  1.66666667e-01,  1.66666667e-01],\n",
       "       [-3.33333333e-01,  3.33333333e-01,  3.33333333e-01],\n",
       "       [ 5.00000000e-01, -5.00000000e-01, -5.00000000e-01],\n",
       "       [ 1.66666667e-01, -1.66666667e-01,  5.00000000e-01],\n",
       "       [-1.66666667e-01,  1.66666667e-01,  5.00000000e-01],\n",
       "       [-6.66666667e-01,  6.66666667e-01, -3.33333333e-01],\n",
       "       [ 6.66666667e-01, -6.66666667e-01, -3.33333333e-01],\n",
       "       [-5.00000000e-01,  5.00000000e-01, -1.66666667e-01],\n",
       "       [ 5.00000000e-01, -5.00000000e-01, -1.66666667e-01],\n",
       "       [-3.33333333e-01,  3.33333333e-01,  0.00000000e+00],\n",
       "       [-8.33333333e-01,  8.33333333e-01, -1.66666667e-01],\n",
       "       [ 8.33333333e-01, -8.33333333e-01, -1.66666667e-01],\n",
       "       [-6.66666667e-01,  6.66666667e-01,  0.00000000e+00],\n",
       "       [-6.66666667e-01,  1.00000000e+00, -3.33333333e-01],\n",
       "       [ 5.00000000e-01,  8.33333333e-01,  1.66666667e-01],\n",
       "       [ 5.00000000e-01, -8.33333333e-01, -1.66666667e-01]])"
      ]
     },
     "execution_count": 14,
     "metadata": {},
     "output_type": "execute_result"
    }
   ],
   "source": [
    "data = P.PwParser(results)\n",
    "kpoints = data.kpoints\n",
    "kpoints"
   ]
  },
  {
   "cell_type": "markdown",
   "id": "b184b0ef-2d57-4c27-810d-70c3370289e9",
   "metadata": {},
   "source": [
    "Then we perform a nscf computations that is useful also for the construction of the\n",
    "screening function."
   ]
  },
  {
   "cell_type": "code",
   "execution_count": 15,
   "id": "a9e7c307-4938-4e5e-b518-25e499817df6",
   "metadata": {},
   "outputs": [],
   "source": [
    "numbands = 50\n",
    "\n",
    "inp.set_nscf(numbands,force_symmorphic=True)\n",
    "inp.set_prefix(nscf_prefix)\n",
    "inp.set_kpoints(points=[4,4,4])\n",
    "#inp"
   ]
  },
  {
   "cell_type": "code",
   "execution_count": 16,
   "id": "a5f301a5-de38-46a7-8d10-0a0f1080e6bd",
   "metadata": {},
   "outputs": [
    {
     "name": "stdout",
     "output_type": "stream",
     "text": [
      "Skip the run of si_nscf\n",
      "The folder /home/marco/Applications/MPPI/sphinx_source/tutorials/Electron_phonon_Si/si_nscf.save already exists. Source_dir Electron_phonon_Si/si_scf.save not copied\n"
     ]
    }
   ],
   "source": [
    "results = code.run(input=inp,run_dir=run_dir,name=nscf_prefix,source_dir=os.path.join(run_dir,scf_prefix)+'.save')"
   ]
  },
  {
   "cell_type": "code",
   "execution_count": 17,
   "id": "bbbe96d0-a638-40b5-8946-bd239f390810",
   "metadata": {},
   "outputs": [
    {
     "name": "stdout",
     "output_type": "stream",
     "text": [
      "Parse file : /home/marco/Applications/MPPI/sphinx_source/tutorials/Electron_phonon_Si/si_nscf.save/data-file-schema.xml\n"
     ]
    },
    {
     "data": {
      "text/plain": [
       "array([[ 0.  ,  0.  ,  0.  ],\n",
       "       [-0.25,  0.25, -0.25],\n",
       "       [ 0.5 , -0.5 ,  0.5 ],\n",
       "       [ 0.  ,  0.5 ,  0.  ],\n",
       "       [ 0.75, -0.25,  0.75],\n",
       "       [ 0.5 ,  0.  ,  0.5 ],\n",
       "       [ 0.  , -1.  ,  0.  ],\n",
       "       [-0.5 , -1.  ,  0.  ],\n",
       "       [-0.25,  0.25,  0.25],\n",
       "       [ 0.5 , -0.5 , -0.5 ],\n",
       "       [-0.75,  0.75, -0.25],\n",
       "       [ 0.75, -0.75, -0.25],\n",
       "       [-0.5 ,  0.5 ,  0.  ]])"
      ]
     },
     "execution_count": 17,
     "metadata": {},
     "output_type": "execute_result"
    }
   ],
   "source": [
    "data = P.PwParser(results)\n",
    "kpoints = data.kpoints\n",
    "kpoints"
   ]
  },
  {
   "cell_type": "markdown",
   "id": "dbcf02bb-7e57-4a66-8558-b55c1c00b080",
   "metadata": {},
   "source": [
    "### Run of the phonon calculation"
   ]
  },
  {
   "cell_type": "code",
   "execution_count": 18,
   "id": "4e3ad068-fbc1-4fc2-bde4-dc3fcb6fba14",
   "metadata": {},
   "outputs": [
    {
     "name": "stdout",
     "output_type": "stream",
     "text": [
      "Initialize a QuantumESPRESSO calculator with scheduler direct\n"
     ]
    },
    {
     "data": {
      "text/plain": [
       "{'scheduler': 'direct',\n",
       " 'mpi': 4,\n",
       " 'omp_num_threads': 1,\n",
       " 'executable': 'ph.x',\n",
       " 'skip': True,\n",
       " 'clean_restart': True,\n",
       " 'dry_run': False,\n",
       " 'wait_end_run': True,\n",
       " 'activate_BeeOND': False,\n",
       " 'verbose': True}"
      ]
     },
     "execution_count": 18,
     "metadata": {},
     "output_type": "execute_result"
    }
   ],
   "source": [
    "rr = C.RunRules(mpi=mpi,omp_num_threads=omp)\n",
    "code_ph = C.QeCalculator(rr,executable='ph.x')\n",
    "code_ph.global_options()"
   ]
  },
  {
   "cell_type": "code",
   "execution_count": 18,
   "id": "44bb38ca-0a19-4aaf-b8c2-f1f145f49d6f",
   "metadata": {},
   "outputs": [
    {
     "data": {
      "text/plain": [
       "{'inputph': {'verbosity': \"'high'\",\n",
       "  'prefix': \"'si_ph'\",\n",
       "  'outdir': \"'./'\",\n",
       "  'tr2_ph': 1e-12,\n",
       "  'trans': '.true.',\n",
       "  'qplot': '.true.',\n",
       "  'ldisp': '.false.',\n",
       "  'fildvscf': \"'si-dvscf'\",\n",
       "  'fildyn': \"'si.dyn'\",\n",
       "  'electron_phonon': \"'dvscf'\"},\n",
       " 'kpoints': {'values': [[-0.0, -0.0, -0.0, 1],\n",
       "   [-0.125, -0.125, 0.125, 1],\n",
       "   [0.25, 0.25, -0.25, 1],\n",
       "   [-0.25, -0.0, -0.0, 1],\n",
       "   [0.125, 0.375, -0.375, 1],\n",
       "   [-0.0, 0.25, -0.25, 1],\n",
       "   [0.5, -0.0, -0.0, 1],\n",
       "   [0.5, -0.25, -0.0, 1]]}}"
      ]
     },
     "execution_count": 18,
     "metadata": {},
     "output_type": "execute_result"
    }
   ],
   "source": [
    "ph_prefix = 'si_ph' # I can use directly the scf prefix....\n",
    "inp = I.PhInput()\n",
    "inp.set_prefix(ph_prefix)\n",
    "inp['inputph']['fildvscf'] = \"'si-dvscf'\"\n",
    "inp['inputph']['fildyn'] = \"'si.dyn'\"\n",
    "inp['inputph']['electron_phonon'] = \"'dvscf'\"\n",
    "inp.set_kpoints(Tools.build_pw_klist(kpoints))\n",
    "inp"
   ]
  },
  {
   "cell_type": "code",
   "execution_count": 17,
   "id": "fb34e3f5-d1b3-4404-9215-aab8199307d8",
   "metadata": {},
   "outputs": [
    {
     "name": "stdout",
     "output_type": "stream",
     "text": [
      "copy source_dir Electron_phonon_Si/si_scf.save in the /home/marco/Applications/MPPI/sphinx_source/tutorials/Electron_phonon_Si/si_ph.save\n",
      "run command: mpirun -np 4 ph.x -inp si_ph.in > si_ph.log\n",
      "computation si_ph is running...\n"
     ]
    },
    {
     "name": "stderr",
     "output_type": "stream",
     "text": [
      "Note: The following floating-point exceptions are signalling: IEEE_UNDERFLOW_FLAG IEEE_DENORMAL\n"
     ]
    },
    {
     "name": "stdout",
     "output_type": "stream",
     "text": [
      "computation si_ph ended\n"
     ]
    }
   ],
   "source": [
    "results = code_ph.run(input=inp,run_dir=run_dir,name=ph_prefix,source_dir=os.path.join(run_dir,scf_prefix)+'.save')"
   ]
  },
  {
   "cell_type": "code",
   "execution_count": 30,
   "id": "da06fb5d-f49a-4360-b641-1c702abe1e30",
   "metadata": {},
   "outputs": [
    {
     "data": {
      "text/plain": [
       "'/home/marco/Applications/MPPI/sphinx_source/tutorials/Electron_phonon_Si/ph_test.save/data-file-schema.xml'"
      ]
     },
     "execution_count": 30,
     "metadata": {},
     "output_type": "execute_result"
    }
   ],
   "source": [
    "results"
   ]
  },
  {
   "cell_type": "code",
   "execution_count": null,
   "id": "201e2883-bbd3-440d-8d1c-c1b40d6bfbd6",
   "metadata": {},
   "outputs": [],
   "source": []
  },
  {
   "cell_type": "code",
   "execution_count": null,
   "id": "78b1ee55-c93b-4c90-8f3f-b29195424209",
   "metadata": {},
   "outputs": [],
   "source": []
  },
  {
   "cell_type": "code",
   "execution_count": null,
   "id": "855cb212-a8e2-4b8f-89a9-d736f4c4d70b",
   "metadata": {},
   "outputs": [],
   "source": []
  },
  {
   "cell_type": "code",
   "execution_count": null,
   "id": "409141b7-28f5-4ae6-9c2f-ab4a81617b31",
   "metadata": {},
   "outputs": [],
   "source": []
  },
  {
   "cell_type": "code",
   "execution_count": null,
   "id": "41dd6bac-0744-4790-8769-faf430dafba0",
   "metadata": {},
   "outputs": [],
   "source": []
  },
  {
   "cell_type": "code",
   "execution_count": null,
   "id": "7b470f4e-03eb-4d4d-b55c-64fdbefda157",
   "metadata": {},
   "outputs": [],
   "source": []
  }
 ],
 "metadata": {
  "kernelspec": {
   "display_name": "Python 3 (ipykernel)",
   "language": "python",
   "name": "python3"
  },
  "language_info": {
   "codemirror_mode": {
    "name": "ipython",
    "version": 3
   },
   "file_extension": ".py",
   "mimetype": "text/x-python",
   "name": "python",
   "nbconvert_exporter": "python",
   "pygments_lexer": "ipython3",
   "version": "3.10.6"
  }
 },
 "nbformat": 4,
 "nbformat_minor": 5
}
