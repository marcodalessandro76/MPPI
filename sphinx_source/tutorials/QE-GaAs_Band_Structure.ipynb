{
 "cells": [
  {
   "cell_type": "code",
   "execution_count": 1,
   "metadata": {},
   "outputs": [],
   "source": [
    "import numpy as np\n",
    "import os\n",
    "import matplotlib.pyplot as plt\n",
    "from importlib import reload\n",
    "from mppi import InputFiles as I, Calculators as C, Datasets as D"
   ]
  },
  {
   "cell_type": "code",
   "execution_count": 2,
   "metadata": {},
   "outputs": [],
   "source": [
    "omp = 1\n",
    "mpi_run = 'mpirun -np 8'"
   ]
  },
  {
   "cell_type": "markdown",
   "metadata": {},
   "source": [
    "# QE band structure of GaAs (without SO interaction)"
   ]
  },
  {
   "cell_type": "markdown",
   "metadata": {},
   "source": [
    "We build the band structure og GaAs without SO interaction"
   ]
  },
  {
   "cell_type": "markdown",
   "metadata": {},
   "source": [
    "## SCF calculation : convergence of the GS energy"
   ]
  },
  {
   "cell_type": "markdown",
   "metadata": {},
   "source": [
    "As usual we perform a convergence procedure based on the total energy of the GS to fix the converged value of the cut-off energy and of the number of kpoints for the GS density"
   ]
  },
  {
   "cell_type": "code",
   "execution_count": 3,
   "metadata": {},
   "outputs": [],
   "source": [
    "input = I.PwIn()\n",
    "Ga = [0.,0.,0.]\n",
    "As = [0.25,0.25,0.25]\n",
    "\n",
    "input.set_pseudo_dir('../pseudos')\n",
    "input.set_calculation('scf')\n",
    "\n",
    "input.set_occupations('fixed')\n",
    "input.system['ibrav'] = 2\n",
    "input.system['celldm(1)'] = 10.677\n",
    "input.set_atoms_type(2)\n",
    "input.set_atoms_number(2)\n",
    "input.set_atoms_position(pos_type='crystal',pos_list=[['Ga',Ga],['As',As]])\n",
    "input.atypes = {'Ga': [69.72,'Ga_hamlu.fhi.UPF'],\\\n",
    "                'As': [74.92,'As_hamlu.fhi.UPF']}\n",
    "input.set_convergence_thr(1e-8)\n",
    "\n",
    "#print(input)"
   ]
  },
  {
   "cell_type": "code",
   "execution_count": 4,
   "metadata": {},
   "outputs": [
    {
     "name": "stdout",
     "output_type": "stream",
     "text": [
      "Initialize a qe calculator with command OMP_NUM_THREADS=1 mpirun -np 8 pw.x\n"
     ]
    }
   ],
   "source": [
    "code = C.QeCalculator(omp=omp,mpi_run=mpi_run,executable='pw.x',verbose=True,skip=True)"
   ]
  },
  {
   "cell_type": "code",
   "execution_count": 5,
   "metadata": {},
   "outputs": [],
   "source": [
    "gs_study = D.Dataset(label='gs_convergence',run_dir='GaAs_gs_convergence',pre_processing='scf')"
   ]
  },
  {
   "cell_type": "code",
   "execution_count": 6,
   "metadata": {},
   "outputs": [
    {
     "name": "stdout",
     "output_type": "stream",
     "text": [
      "Folder GaAs_gs_convergence already exists\n"
     ]
    }
   ],
   "source": [
    "gs_study.pre_processing_function()"
   ]
  },
  {
   "cell_type": "code",
   "execution_count": 7,
   "metadata": {},
   "outputs": [],
   "source": [
    "kpoints = [2,3,4,5,6] \n",
    "ecut = [10,20,30,40,50]"
   ]
  },
  {
   "cell_type": "code",
   "execution_count": 8,
   "metadata": {},
   "outputs": [],
   "source": [
    "for k in kpoints:\n",
    "    for e in ecut:\n",
    "        idd = {'k' : k, 'ecut' : e} \n",
    "        input.set_prefix(D.name_from_id(idd))\n",
    "        input.set_kpoints(ktype='automatic',kpoints=[k,k,k])\n",
    "        input.set_energy_cutoff(e)\n",
    "        gs_study.append_run(id=idd,calculator=code,input=input)"
   ]
  },
  {
   "cell_type": "code",
   "execution_count": 9,
   "metadata": {},
   "outputs": [
    {
     "name": "stdout",
     "output_type": "stream",
     "text": [
      "skip the computation for : ecut:10,k:2.log\n",
      "parse file : GaAs_gs_convergence/ecut:10,k:2.save/data-file-schema.xml\n",
      "skip the computation for : ecut:20,k:2.log\n",
      "parse file : GaAs_gs_convergence/ecut:20,k:2.save/data-file-schema.xml\n",
      "skip the computation for : ecut:30,k:2.log\n",
      "parse file : GaAs_gs_convergence/ecut:30,k:2.save/data-file-schema.xml\n",
      "skip the computation for : ecut:40,k:2.log\n",
      "parse file : GaAs_gs_convergence/ecut:40,k:2.save/data-file-schema.xml\n",
      "skip the computation for : ecut:50,k:2.log\n",
      "parse file : GaAs_gs_convergence/ecut:50,k:2.save/data-file-schema.xml\n",
      "skip the computation for : ecut:10,k:3.log\n",
      "parse file : GaAs_gs_convergence/ecut:10,k:3.save/data-file-schema.xml\n",
      "skip the computation for : ecut:20,k:3.log\n",
      "parse file : GaAs_gs_convergence/ecut:20,k:3.save/data-file-schema.xml\n",
      "skip the computation for : ecut:30,k:3.log\n",
      "parse file : GaAs_gs_convergence/ecut:30,k:3.save/data-file-schema.xml\n",
      "skip the computation for : ecut:40,k:3.log\n",
      "parse file : GaAs_gs_convergence/ecut:40,k:3.save/data-file-schema.xml\n",
      "skip the computation for : ecut:50,k:3.log\n",
      "parse file : GaAs_gs_convergence/ecut:50,k:3.save/data-file-schema.xml\n",
      "skip the computation for : ecut:10,k:4.log\n",
      "parse file : GaAs_gs_convergence/ecut:10,k:4.save/data-file-schema.xml\n",
      "skip the computation for : ecut:20,k:4.log\n",
      "parse file : GaAs_gs_convergence/ecut:20,k:4.save/data-file-schema.xml\n",
      "skip the computation for : ecut:30,k:4.log\n",
      "parse file : GaAs_gs_convergence/ecut:30,k:4.save/data-file-schema.xml\n",
      "skip the computation for : ecut:40,k:4.log\n",
      "parse file : GaAs_gs_convergence/ecut:40,k:4.save/data-file-schema.xml\n",
      "skip the computation for : ecut:50,k:4.log\n",
      "parse file : GaAs_gs_convergence/ecut:50,k:4.save/data-file-schema.xml\n",
      "skip the computation for : ecut:10,k:5.log\n",
      "parse file : GaAs_gs_convergence/ecut:10,k:5.save/data-file-schema.xml\n",
      "skip the computation for : ecut:20,k:5.log\n",
      "parse file : GaAs_gs_convergence/ecut:20,k:5.save/data-file-schema.xml\n",
      "skip the computation for : ecut:30,k:5.log\n",
      "parse file : GaAs_gs_convergence/ecut:30,k:5.save/data-file-schema.xml\n",
      "skip the computation for : ecut:40,k:5.log\n",
      "parse file : GaAs_gs_convergence/ecut:40,k:5.save/data-file-schema.xml\n",
      "skip the computation for : ecut:50,k:5.log\n",
      "parse file : GaAs_gs_convergence/ecut:50,k:5.save/data-file-schema.xml\n",
      "skip the computation for : ecut:10,k:6.log\n",
      "parse file : GaAs_gs_convergence/ecut:10,k:6.save/data-file-schema.xml\n",
      "skip the computation for : ecut:20,k:6.log\n",
      "parse file : GaAs_gs_convergence/ecut:20,k:6.save/data-file-schema.xml\n",
      "skip the computation for : ecut:30,k:6.log\n",
      "parse file : GaAs_gs_convergence/ecut:30,k:6.save/data-file-schema.xml\n",
      "skip the computation for : ecut:40,k:6.log\n",
      "parse file : GaAs_gs_convergence/ecut:40,k:6.save/data-file-schema.xml\n",
      "skip the computation for : ecut:50,k:6.log\n",
      "parse file : GaAs_gs_convergence/ecut:50,k:6.save/data-file-schema.xml\n"
     ]
    }
   ],
   "source": [
    "gs_study.run(post_processing=True)"
   ]
  },
  {
   "cell_type": "code",
   "execution_count": 10,
   "metadata": {},
   "outputs": [
    {
     "data": {
      "image/png": "[encoded data removed]",
      "text/plain": [
       "<Figure size 432x288 with 1 Axes>"
      ]
     },
     "metadata": {},
     "output_type": "display_data"
    }
   ],
   "source": [
    "for k in kpoints:\n",
    "    data=gs_study.fetch_results(id={'k': k},attribute='E_tot')\n",
    "    plt.plot(ecut,data,label='k='+str(k))\n",
    "plt.title(gs_study.label,size = 14)\n",
    "plt.xlabel('cut off energy (Ry)',size=12)\n",
    "plt.ylabel('GS energy (Ha)',size = 12)\n",
    "plt.legend()\n",
    "plt.show()"
   ]
  },
  {
   "cell_type": "markdown",
   "metadata": {},
   "source": [
    "On this basis of this analysis we choose the converged parameters"
   ]
  },
  {
   "cell_type": "code",
   "execution_count": 11,
   "metadata": {},
   "outputs": [],
   "source": [
    "k_conv = 6\n",
    "ecut_conv = 50"
   ]
  },
  {
   "cell_type": "markdown",
   "metadata": {},
   "source": [
    "## NSCF calculation : computation of the band structure"
   ]
  },
  {
   "cell_type": "markdown",
   "metadata": {},
   "source": [
    "We compute the band structure of the GaAs with the aim to determine the feature of the X, Gamma and L valleys\n",
    "that are relevant for the subsequent pump and probe analysis. "
   ]
  },
  {
   "cell_type": "markdown",
   "metadata": {},
   "source": [
    "Define a dictionary with the position of the high symmetry points of the GaAs lattice"
   ]
  },
  {
   "cell_type": "code",
   "execution_count": 12,
   "metadata": {},
   "outputs": [],
   "source": [
    "G = [0.,0.,0.]\n",
    "X = [1.,0.,0.]\n",
    "L = [0.5,0.5,0.5]\n",
    "W = [1.0,0.5,0.]\n",
    "#K = [0.75,0.75,0.]\n",
    "high_sym = {'X':X,'L':L,'G':G,'W':W}"
   ]
  },
  {
   "cell_type": "markdown",
   "metadata": {},
   "source": [
    "Bands are computed along the following path"
   ]
  },
  {
   "cell_type": "code",
   "execution_count": 13,
   "metadata": {},
   "outputs": [],
   "source": [
    "numBands = 8\n",
    "numStep = [30]\n",
    "klist = [L+numStep,G+numStep,X+numStep,W+[0]]"
   ]
  },
  {
   "cell_type": "code",
   "execution_count": 14,
   "metadata": {},
   "outputs": [],
   "source": [
    "bnds_study = D.Dataset(label='bands',run_dir='GaAs_bands',pre_processing='nscf')"
   ]
  },
  {
   "cell_type": "markdown",
   "metadata": {},
   "source": [
    "Append the chosen bands computations to the dataset. Note that in this case we are performing just one computation. We are free to choose the idd as we want since there is no need to be able to discriminate among various results. For the prefix we always need to choose D.name_from_id(idd) to have the .save folder with the correct name."
   ]
  },
  {
   "cell_type": "code",
   "execution_count": 15,
   "metadata": {},
   "outputs": [],
   "source": [
    "input.set_calculation('nscf')\n",
    "input.system['nbnd'] = numBands\n",
    "idd = {'nbnd' : numBands}\n",
    "input.set_prefix(D.name_from_id(idd))\n",
    "input.set_energy_cutoff(ecut_conv)\n",
    "input.set_kpoints(ktype='tpiba_b',klist=klist)\n",
    "\n",
    "bnds_study.append_run(id=idd,calculator=code,input=input)"
   ]
  },
  {
   "cell_type": "markdown",
   "metadata": {},
   "source": [
    "Call the pre_processing function"
   ]
  },
  {
   "cell_type": "code",
   "execution_count": 16,
   "metadata": {},
   "outputs": [
    {
     "name": "stdout",
     "output_type": "stream",
     "text": [
      "Folder GaAs_bands already exists\n",
      "nscf save folder already exsists. Source GaAs_gs_convergence/ecut:50,k:6.save NOT COPIED\n"
     ]
    }
   ],
   "source": [
    "bnds_study.pre_processing_function(source_dir='GaAs_gs_convergence/ecut:50,k:6.save')"
   ]
  },
  {
   "cell_type": "markdown",
   "metadata": {},
   "source": [
    "Run the dataset and extract the results of the (only) computation"
   ]
  },
  {
   "cell_type": "code",
   "execution_count": 17,
   "metadata": {},
   "outputs": [
    {
     "name": "stdout",
     "output_type": "stream",
     "text": [
      "execute : cd GaAs_bands ; OMP_NUM_THREADS=1 mpirun -np 8 pw.x -inp nbnd:8.in > nbnd:8.log\n",
      "parse file : GaAs_bands/nbnd:8.save/data-file-schema.xml\n"
     ]
    }
   ],
   "source": [
    "bnds_study.run(post_processing=True)"
   ]
  },
  {
   "cell_type": "markdown",
   "metadata": {},
   "source": [
    "Get the band structure"
   ]
  },
  {
   "cell_type": "code",
   "execution_count": 18,
   "metadata": {},
   "outputs": [
    {
     "name": "stderr",
     "output_type": "stream",
     "text": [
      "No handles with labels found to put in legend.\n"
     ]
    },
    {
     "data": {
      "image/png": "[encoded data removed]",
      "text/plain": [
       "<Figure size 432x288 with 1 Axes>"
      ]
     },
     "metadata": {},
     "output_type": "display_data"
    }
   ],
   "source": [
    "results = bnds_study.results[0]\n",
    "bands = results.band_structure()"
   ]
  },
  {
   "cell_type": "markdown",
   "metadata": {},
   "source": [
    "Plot the relevant band and identify the position of the high symmetry points on the path.\n",
    "\n",
    "We use kpoints_cart.tolist() to add the position on the path to the high_sym dictionary"
   ]
  },
  {
   "cell_type": "code",
   "execution_count": 19,
   "metadata": {},
   "outputs": [],
   "source": [
    "k_values = bands[:,0] # position on the path\n",
    "kpoints_cart = results.kpt_cart # cartesian position for each value on the path\n",
    "positions = []\n",
    "labels = []\n",
    "for point in high_sym:\n",
    "    index = kpoints_cart.tolist().index(high_sym[point])\n",
    "    labels.append(point)\n",
    "    positions.append(k_values[index])"
   ]
  },
  {
   "cell_type": "code",
   "execution_count": 20,
   "metadata": {},
   "outputs": [
    {
     "data": {
      "image/png": "[encoded data removed]",
      "text/plain": [
       "<Figure size 432x288 with 1 Axes>"
      ]
     },
     "metadata": {},
     "output_type": "display_data"
    }
   ],
   "source": [
    "plotted_bands = [3,4,5,6]\n",
    "for b in plotted_bands:\n",
    "    plt.plot(k_values,bands[:,b])\n",
    "\n",
    "for pos in positions:\n",
    "    plt.axvline(pos,color='black',ls='--')\n",
    "\n",
    "ax = plt.gca() # grab the current axis\n",
    "ax.set_xticks(positions) # choose which x locations to have ticks\n",
    "ax.set_xticklabels(labels) # set the labels to display at those ticks\n",
    "plt.title('GaAs without SO',size = 14)\n",
    "\n",
    "plt.show()"
   ]
  },
  {
   "cell_type": "markdown",
   "metadata": {},
   "source": [
    "We compute the values of the gap in correspondence of the high symmetry points"
   ]
  },
  {
   "cell_type": "code",
   "execution_count": 21,
   "metadata": {},
   "outputs": [
    {
     "name": "stdout",
     "output_type": "stream",
     "text": [
      "gap in X  = 3.949\n",
      "gap in L  = 1.942\n",
      "gap in G  = 0.226\n",
      "gap in W  = 7.914\n"
     ]
    }
   ],
   "source": [
    "for lb, pos in zip(labels,positions):\n",
    "    gap = bands[:,5][k_values.tolist().index(pos)]-bands[:,4][k_values.tolist().index(pos)]\n",
    "    print('gap in',lb,' = %.3f'%gap)"
   ]
  },
  {
   "cell_type": "code",
   "execution_count": null,
   "metadata": {},
   "outputs": [],
   "source": []
  }
 ],
 "metadata": {
  "kernelspec": {
   "display_name": "Python 3",
   "language": "python",
   "name": "python3"
  },
  "language_info": {
   "codemirror_mode": {
    "name": "ipython",
    "version": 3
   },
   "file_extension": ".py",
   "mimetype": "text/x-python",
   "name": "python",
   "nbconvert_exporter": "python",
   "pygments_lexer": "ipython3",
   "version": "3.6.7"
  }
 },
 "nbformat": 4,
 "nbformat_minor": 2
}
