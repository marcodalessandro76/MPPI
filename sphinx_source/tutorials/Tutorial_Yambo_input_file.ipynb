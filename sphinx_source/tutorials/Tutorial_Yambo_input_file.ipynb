{
 "cells": [
  {
   "cell_type": "code",
   "execution_count": 14,
   "metadata": {},
   "outputs": [],
   "source": [
    "import numpy as np\n",
    "import os\n",
    "import matplotlib.pyplot as plt\n",
    "from importlib import reload\n",
    "from mppi import InputFiles as I, Calculators as C, Datasets as D"
   ]
  },
  {
   "cell_type": "markdown",
   "metadata": {},
   "source": [
    "Test some features of the actual implementation of YamboIn.\n",
    "\n",
    "WE choose a folder that contain the SAVE folder.\n",
    "\n",
    "TODO : YamboIn can manage the generation of the SAVE folder from a nscf one, the building of the yambo_folder\n",
    "       and the copy of the SAVE in the yambo_folder"
   ]
  },
  {
   "cell_type": "code",
   "execution_count": 15,
   "metadata": {},
   "outputs": [],
   "source": [
    "yambo_folder = 'yambo_hf'"
   ]
  },
  {
   "cell_type": "code",
   "execution_count": 54,
   "metadata": {},
   "outputs": [],
   "source": [
    "#yambo = I.YamboIn('yambo -x -V qp',folder=yambo_folder)\n",
    "yambo = I.YamboIn('yambo -d -k hartree -g n -p p',folder=yambo_folder)"
   ]
  },
  {
   "cell_type": "code",
   "execution_count": 55,
   "metadata": {},
   "outputs": [
    {
     "name": "stdout",
     "output_type": "stream",
     "text": [
      "em1d\n",
      "gw0\n",
      "HF_and_locXC\n",
      "ppa\n",
      "X_Threads = 0.000000e+00 \n",
      "DIP_Threads = 0.000000e+00 \n",
      "SE_Threads = 0.000000e+00 \n",
      "EXXRLvcs = 51.000000 RL\n",
      "NGsBlkXp = 1.000000 RL\n",
      "PPAPntXp = 27.211380 eV\n",
      "GDamping = 0.100000 eV\n",
      "dScStep = 0.100000 eV\n",
      "Chimod =  'HARTREE'\n",
      "DysSolver =        'n'\n",
      "% BndsRnXp\n",
      " 1 | 10 |   \n",
      "%\n",
      "% LongDrXp\n",
      " 1.0 | 0.0 | 0.0 |   \n",
      "%\n",
      "% GbndRnge\n",
      " 1 | 10 |   \n",
      "%\n",
      "% QPkrange\n",
      " 1 | 32 | 1 | 10 |   \n",
      "%\n",
      "\n"
     ]
    }
   ],
   "source": [
    "print(yambo)"
   ]
  },
  {
   "cell_type": "markdown",
   "metadata": {},
   "source": [
    "The variables of the input are stored in a dictionary"
   ]
  },
  {
   "cell_type": "code",
   "execution_count": 56,
   "metadata": {},
   "outputs": [
    {
     "data": {
      "text/plain": [
       "{'X_Threads': [0.0, ''],\n",
       " 'DIP_Threads': [0.0, ''],\n",
       " 'SE_Threads': [0.0, ''],\n",
       " 'EXXRLvcs': [51.0, 'RL'],\n",
       " 'NGsBlkXp': [1.0, 'RL'],\n",
       " 'PPAPntXp': [27.21138, 'eV'],\n",
       " 'GDamping': [0.1, 'eV'],\n",
       " 'dScStep': [0.1, 'eV'],\n",
       " 'Chimod': 'HARTREE',\n",
       " 'DysSolver': 'n',\n",
       " 'BndsRnXp': [[1, 10], ''],\n",
       " 'LongDrXp': [[1.0, 0.0, 0.0], ''],\n",
       " 'GbndRnge': [[1, 10], ''],\n",
       " 'QPkrange': [[1, 32, 1, 10], '']}"
      ]
     },
     "execution_count": 56,
     "metadata": {},
     "output_type": "execute_result"
    }
   ],
   "source": [
    "yambo.variables"
   ]
  },
  {
   "cell_type": "markdown",
   "metadata": {},
   "source": [
    "and can be modified from the python"
   ]
  },
  {
   "cell_type": "code",
   "execution_count": 57,
   "metadata": {},
   "outputs": [],
   "source": [
    "yambo['QPkrange'] = [[1,32,1,6],'']"
   ]
  },
  {
   "cell_type": "code",
   "execution_count": 58,
   "metadata": {},
   "outputs": [
    {
     "data": {
      "text/plain": [
       "{'X_Threads': [0.0, ''],\n",
       " 'DIP_Threads': [0.0, ''],\n",
       " 'SE_Threads': [0.0, ''],\n",
       " 'EXXRLvcs': [51.0, 'RL'],\n",
       " 'NGsBlkXp': [1.0, 'RL'],\n",
       " 'PPAPntXp': [27.21138, 'eV'],\n",
       " 'GDamping': [0.1, 'eV'],\n",
       " 'dScStep': [0.1, 'eV'],\n",
       " 'Chimod': 'HARTREE',\n",
       " 'DysSolver': 'n',\n",
       " 'BndsRnXp': [[1, 10], ''],\n",
       " 'LongDrXp': [[1.0, 0.0, 0.0], ''],\n",
       " 'GbndRnge': [[1, 10], ''],\n",
       " 'QPkrange': [[1, 32, 1, 6], '']}"
      ]
     },
     "execution_count": 58,
     "metadata": {},
     "output_type": "execute_result"
    }
   ],
   "source": [
    "yambo.variables"
   ]
  },
  {
   "cell_type": "markdown",
   "metadata": {},
   "source": [
    "The runlevel specification are written as"
   ]
  },
  {
   "cell_type": "code",
   "execution_count": 59,
   "metadata": {},
   "outputs": [
    {
     "data": {
      "text/plain": [
       "['em1d', 'gw0', 'HF_and_locXC', 'ppa']"
      ]
     },
     "execution_count": 59,
     "metadata": {},
     "output_type": "execute_result"
    }
   ],
   "source": [
    "yambo.arguments"
   ]
  },
  {
   "cell_type": "markdown",
   "metadata": {},
   "source": [
    "The arguments passed to yambo are"
   ]
  },
  {
   "cell_type": "code",
   "execution_count": 60,
   "metadata": {},
   "outputs": [
    {
     "data": {
      "text/plain": [
       "'yambo -d -k hartree -g n -p p'"
      ]
     },
     "execution_count": 60,
     "metadata": {},
     "output_type": "execute_result"
    }
   ],
   "source": [
    "yambo.yamboargs"
   ]
  },
  {
   "cell_type": "markdown",
   "metadata": {},
   "source": [
    "The file modified by the python can be written on file as"
   ]
  },
  {
   "cell_type": "code",
   "execution_count": 61,
   "metadata": {},
   "outputs": [],
   "source": [
    "yambo.write(os.path.join(yambo_folder,'lalla.in'))"
   ]
  },
  {
   "cell_type": "markdown",
   "metadata": {},
   "source": [
    "The file can be processed again by yambo to reintroduce to original format"
   ]
  },
  {
   "cell_type": "code",
   "execution_count": 62,
   "metadata": {},
   "outputs": [],
   "source": [
    "action = 'cd %s; %s -F %s'%(yambo_folder,yambo.yamboargs,'lalla.in')"
   ]
  },
  {
   "cell_type": "code",
   "execution_count": 63,
   "metadata": {},
   "outputs": [
    {
     "name": "stdout",
     "output_type": "stream",
     "text": [
      "cd yambo_hf; yambo -d -k hartree -g n -p p -F lalla.in\n"
     ]
    }
   ],
   "source": [
    "print(action)"
   ]
  },
  {
   "cell_type": "code",
   "execution_count": 64,
   "metadata": {},
   "outputs": [
    {
     "data": {
      "text/plain": [
       "0"
      ]
     },
     "execution_count": 64,
     "metadata": {},
     "output_type": "execute_result"
    }
   ],
   "source": [
    "os.system(action)"
   ]
  },
  {
   "cell_type": "markdown",
   "metadata": {},
   "source": [
    "This operation will be added in the write method of the YamboIn class"
   ]
  },
  {
   "cell_type": "markdown",
   "metadata": {},
   "source": [
    "The yambo object can be instanciated directly from a file"
   ]
  },
  {
   "cell_type": "code",
   "execution_count": 96,
   "metadata": {},
   "outputs": [],
   "source": [
    "yambo2 = I.YamboIn(filename='yambo_hf/lalla.in')"
   ]
  },
  {
   "cell_type": "code",
   "execution_count": 97,
   "metadata": {},
   "outputs": [
    {
     "name": "stdout",
     "output_type": "stream",
     "text": [
      "em1d\n",
      "gw0\n",
      "HF_and_locXC\n",
      "ppa\n",
      "X_Threads = 0.000000e+00 \n",
      "DIP_Threads = 0.000000e+00 \n",
      "SE_Threads = 0.000000e+00 \n",
      "EXXRLvcs = 51.000000 RL\n",
      "NGsBlkXp = 1.000000 RL\n",
      "PPAPntXp = 27.211380 eV\n",
      "GDamping = 0.100000 eV\n",
      "dScStep = 0.100000 eV\n",
      "Chimod =  'HARTREE'\n",
      "DysSolver =        'n'\n",
      "% BndsRnXp\n",
      " 1 | 10 |   \n",
      "%\n",
      "% LongDrXp\n",
      " 1.0 | 0.0 | 0.0 |   \n",
      "%\n",
      "% GbndRnge\n",
      " 1 | 10 |   \n",
      "%\n",
      "% QPkrange\n",
      " 1 | 32 | 1 | 6 |   \n",
      "%\n",
      "\n"
     ]
    }
   ],
   "source": [
    "print(yambo2)"
   ]
  },
  {
   "cell_type": "code",
   "execution_count": 100,
   "metadata": {},
   "outputs": [],
   "source": [
    "#yambo2.variables['QPkrange'] = [[1,32,1,7],'']\n",
    "yambo2['QPkrange'] = [[1,32,1,8],'']"
   ]
  },
  {
   "cell_type": "code",
   "execution_count": 101,
   "metadata": {},
   "outputs": [
    {
     "name": "stdout",
     "output_type": "stream",
     "text": [
      "em1d\n",
      "gw0\n",
      "HF_and_locXC\n",
      "ppa\n",
      "X_Threads = 0.000000e+00 \n",
      "DIP_Threads = 0.000000e+00 \n",
      "SE_Threads = 0.000000e+00 \n",
      "EXXRLvcs = 51.000000 RL\n",
      "NGsBlkXp = 1.000000 RL\n",
      "PPAPntXp = 27.211380 eV\n",
      "GDamping = 0.100000 eV\n",
      "dScStep = 0.100000 eV\n",
      "Chimod =  'HARTREE'\n",
      "DysSolver =        'n'\n",
      "% BndsRnXp\n",
      " 1 | 10 |   \n",
      "%\n",
      "% LongDrXp\n",
      " 1.0 | 0.0 | 0.0 |   \n",
      "%\n",
      "% GbndRnge\n",
      " 1 | 10 |   \n",
      "%\n",
      "% QPkrange\n",
      " 1 | 32 | 1 | 8 |   \n",
      "%\n",
      "\n"
     ]
    }
   ],
   "source": [
    "print(yambo2)"
   ]
  },
  {
   "cell_type": "code",
   "execution_count": null,
   "metadata": {},
   "outputs": [],
   "source": []
  },
  {
   "cell_type": "code",
   "execution_count": null,
   "metadata": {},
   "outputs": [],
   "source": []
  },
  {
   "cell_type": "code",
   "execution_count": null,
   "metadata": {},
   "outputs": [],
   "source": []
  },
  {
   "cell_type": "markdown",
   "metadata": {},
   "source": [
    "Perform some tests to understand how the YamboIn class works"
   ]
  },
  {
   "cell_type": "code",
   "execution_count": 142,
   "metadata": {},
   "outputs": [],
   "source": [
    "########################################"
   ]
  },
  {
   "cell_type": "code",
   "execution_count": 9,
   "metadata": {},
   "outputs": [],
   "source": [
    "from subprocess import Popen, PIPE\n",
    "import os, json, re\n",
    "from sys import exit\n",
    "\n",
    "class YamboIn():\n",
    "    \n",
    "    #Regular expressions\n",
    "    _variaexp   = '([A-Za-z\\_0-9]+(?:\\_[A-Za-z]+)?)' #variables names\n",
    "    _numexp     = '([+-]?\\d+(?:\\.\\d+)?(?:[eE][-+]?\\d+)?)' #number\n",
    "    _spacexp    = '(?:[ \\t]+)?' #space\n",
    "    _stringexp  = '[\"\\']([a-zA-Z0-9_ ]+?)[\"\\']' #string\n",
    "    _arrayexp   = '%'+_spacexp+_variaexp+'\\s+(?:\\#.+)?((?:(?:\\s|\\.|[+-]?\\d)+?\\|)+)\\s+([a-zA-Z]+)?' #arrays\n",
    "    _complexexp = '\\('+_spacexp+_numexp+_spacexp+','+_spacexp+_numexp+_spacexp+'\\)' #complex numbers\n",
    "    _runexp     = '([a-zA-Z0-9_]+)' #runlevels\n",
    "    # list of available runlevels to be stored in the arguments array\n",
    "    _runlevels  = ['rim_cut','chi','em1s','bse','optics','bsk','bss','em1d','gw0','HF_and_locXC','setup',\n",
    "                   'ppa','cohsex','life','collisions','negf','el_ph_scatt','el_el_scatt','excitons',\n",
    "                   'wavefunction','fixsyms','QPDBs', 'QPDB_merge','RealTime','RT_X','RToccDos',\n",
    "                   'RToccBnd','RToccEner','RToccTime','RTlifeBnd','amplitude','bzgrids','Random_Grid',\n",
    "                   'gkkp','el_ph_corr','WRbsWF','Select_energy', 'RTDBs','photolum','kpts_map',\n",
    "                   'RTtime','RToccupations','RTfitbands']\n",
    "\n",
    "    def __init__(self,args='',folder='.',filename='yambo.in'):\n",
    "        \"\"\"\n",
    "        Initalize the class\n",
    "        \"\"\"\n",
    "        self.folder = folder\n",
    "        self.yamboargs = args\n",
    "\n",
    "        self.variables = {} #for the variables\n",
    "        self.arguments = [] #for the runlevels arguments\n",
    "\n",
    "        # if we initalize the class with arguments we call yambo to generate the input file\n",
    "        if args != '':\n",
    "            workdir = os.getcwd()\n",
    "            os.chdir(folder)\n",
    "            os.system('rm -f %s'%filename)\n",
    "            yambo = Popen(args, stdout=PIPE, stderr=PIPE, stdin=PIPE, shell=True)\n",
    "            yambo.wait()\n",
    "            os.chdir(workdir)\n",
    "            self.read_file(filename=\"%s/%s\"%(folder,filename))\n",
    "        else:\n",
    "            if filename:\n",
    "                self.read_file(filename=\"%s/%s\"%(folder,filename))\n",
    "\n",
    "    def __getitem__(self,key):\n",
    "        \"\"\" \n",
    "        Get the value of a variable in the input file\n",
    "        \"\"\"\n",
    "        return self.variables[key]\n",
    "\n",
    "    def __setitem__(self,key,value):\n",
    "        \"\"\" \n",
    "        Set the value of a variable in the input file\n",
    "        \"\"\"\n",
    "        #if the units are not specified, add them\n",
    "        if type(value) == list and str not in map(type,value):\n",
    "            value = [value,'']\n",
    "        if type(value) in [int,float,complex]:\n",
    "            value = [value,'']\n",
    "        self.variables[key] = value\n",
    "\n",
    "    #def __delitem__(self,key):\n",
    "    #    \"\"\" \n",
    "    #    Remove a keyword from the dicitonary\n",
    "    #    \"\"\"\n",
    "    #    del self.variables[key]\n",
    "\n",
    "    def read_file(self,filename='yambo.in'):\n",
    "        \"\"\" \n",
    "        Read the variables from a file\n",
    "        \"\"\"\n",
    "        try:\n",
    "            yambofile = open(filename,\"r\")\n",
    "        except IOError:\n",
    "            print('Could not read the file %s'%filename)\n",
    "            print('Something is wrong, yambo did not create the input file. Or the file you are trying to read does not exist')\n",
    "            print('command: %s'%self.yamboargs)\n",
    "            print('folder:  %s/'%self.folder)\n",
    "            exit()\n",
    "        self.read_string(yambofile.read())\n",
    "        yambofile.close()\n",
    "\n",
    "    def add_dict(self,variables):\n",
    "        \"\"\"\n",
    "        Add a dictionary containing variables to the current inputfile\n",
    "        \"\"\"\n",
    "        self.variables.update(variables)\n",
    "\n",
    "    def read_string(self,inputfile):\n",
    "        \"\"\"\n",
    "        Read the input variables from a string\n",
    "        \"\"\"\n",
    "        var_real     = re.findall(self._variaexp + self._spacexp + '='+ self._spacexp +\n",
    "                                  self._numexp + self._spacexp + '([A-Za-z]+)?',inputfile)\n",
    "        var_string   = re.findall(self._variaexp + self._spacexp + '='+ self._spacexp + self._stringexp, inputfile)\n",
    "        var_array    = re.findall(self._arrayexp,inputfile)\n",
    "        var_complex  = re.findall(self._variaexp + self._spacexp + '='+ self._spacexp + self._complexexp + self._spacexp + '([A-Za-z]+)?', inputfile)\n",
    "        var_runlevel = re.findall(self._runexp + self._spacexp, inputfile)\n",
    "\n",
    "        def clean(a):\n",
    "            \"\"\"\n",
    "            clean the variables according to the type of data\n",
    "            \"\"\"\n",
    "            a = a.strip()\n",
    "            if a.replace('.','',1).isdigit():\n",
    "                if \".\" in a: return float(a)\n",
    "                else:        return int(a)\n",
    "            return a\n",
    "\n",
    "        # Determination of the arguments\n",
    "        for key in self._runlevels:\n",
    "            if key in var_runlevel:\n",
    "                self.arguments.append(key)\n",
    "\n",
    "        #float variables\n",
    "        for var in var_real:\n",
    "            name, value, unit = var\n",
    "            self[name] = [float(value),unit]\n",
    "\n",
    "        #string variables\n",
    "        for var in var_string:\n",
    "            name, string = var\n",
    "            self[name] = string\n",
    "\n",
    "        #complex variables\n",
    "        for var in var_complex:\n",
    "            name, real, imag, unit = var\n",
    "            self[name] = [complex(float(real),float(imag)),unit]\n",
    "\n",
    "        #array variables\n",
    "        for var in var_array:\n",
    "            name, array, unit = var\n",
    "            array = [clean(val) for val in array.split('|')[:-1]]\n",
    "            self[name] = [array,unit]\n",
    "\n",
    "        return {\"arguments\": self.arguments, \"variables\": self.variables}\n",
    "\n",
    "    def write(self,filename='yambo.in'):\n",
    "        \"\"\"\n",
    "        Write a yambo input file\n",
    "        \"\"\"\n",
    "        f = open(filename,\"w\")\n",
    "        f.write(str(self))\n",
    "        f.close()\n",
    "\n",
    "    def __str__(self):\n",
    "        \"\"\"\n",
    "        Returns the input file as a string\n",
    "        \"\"\"\n",
    "        s  = \"\"\n",
    "\n",
    "        #arguments\n",
    "        s += \"\\n\".join(self.arguments)+'\\n'\n",
    "\n",
    "        for key,value in self.variables.items():\n",
    "            if type(value)==bytes or type(value)==str:\n",
    "                s+= \"%s = %10s\\n\"%(key,\"'%s'\"%value)\n",
    "                continue\n",
    "            if type(value[0])==float:\n",
    "                val, unit = value\n",
    "                if val > 1e-6:\n",
    "                    s+=\"%s = %lf %s\\n\"%(key,val,unit)\n",
    "                else:\n",
    "                    s+=\"%s = %e %s\\n\"%(key,val,unit)\n",
    "                continue\n",
    "            if type(value[0])==int:\n",
    "                val, unit = value\n",
    "                s+=\"%s = %d %s\\n\"%(key,val,unit)\n",
    "                continue\n",
    "            if type(value[0])==list:\n",
    "                array, unit = value\n",
    "                if type(array[0])==list:\n",
    "                    s+='%% %s\\n'%key\n",
    "                    for l in array:\n",
    "                        s+=\"%s \\n\"%(\" | \".join(map(str,l))+' | ')\n",
    "                    s+='%s'%unit\n",
    "                    s+='%\\n'\n",
    "                else:\n",
    "                    s+=\"%% %s\\n %s %s \\n%%\\n\"%(key,\" | \".join(map(str,array))+' | ',unit)\n",
    "                continue\n",
    "            if type(value[0])==str:\n",
    "                array = value\n",
    "                s+=\"%% %s\\n %s \\n%%\\n\"%(key,\" | \".join(map(lambda x: \"'%s'\"%x.replace(\"'\",\"\").replace(\"\\\"\",\"\"),array))+' | ')\n",
    "                continue\n",
    "            if type(value[0])==complex:\n",
    "                value, unit = value\n",
    "                s+=\"%s = (%lf,%lf) %s\\n\"%(key,value.real,value.imag,unit)\n",
    "                continue\n",
    "            raise ValueError( \"Unknown type %s for variable: %s\" %( type(value), key) )\n",
    "        return s"
   ]
  },
  {
   "cell_type": "code",
   "execution_count": 6,
   "metadata": {},
   "outputs": [],
   "source": [
    "yambo = YamboIn(filename='yambo_hf/lalla.in')"
   ]
  },
  {
   "cell_type": "code",
   "execution_count": 7,
   "metadata": {},
   "outputs": [
    {
     "data": {
      "text/plain": [
       "['em1d', 'gw0', 'HF_and_locXC', 'ppa']"
      ]
     },
     "execution_count": 7,
     "metadata": {},
     "output_type": "execute_result"
    }
   ],
   "source": [
    "yambo.arguments"
   ]
  },
  {
   "cell_type": "code",
   "execution_count": 8,
   "metadata": {},
   "outputs": [
    {
     "data": {
      "text/plain": [
       "{'X_Threads': [0.0, ''],\n",
       " 'DIP_Threads': [0.0, ''],\n",
       " 'SE_Threads': [0.0, ''],\n",
       " 'EXXRLvcs': [51.0, 'RL'],\n",
       " 'NGsBlkXp': [1.0, 'RL'],\n",
       " 'PPAPntXp': [27.21138, 'eV'],\n",
       " 'GDamping': [0.1, 'eV'],\n",
       " 'dScStep': [0.1, 'eV'],\n",
       " 'Chimod': 'HARTREE',\n",
       " 'DysSolver': 'n',\n",
       " 'BndsRnXp': [[1, 10], ''],\n",
       " 'LongDrXp': [[1.0, 0.0, 0.0], ''],\n",
       " 'GbndRnge': [[1, 10], ''],\n",
       " 'QPkrange': [[1, 32, 1, 6], '']}"
      ]
     },
     "execution_count": 8,
     "metadata": {},
     "output_type": "execute_result"
    }
   ],
   "source": [
    "yambo.variables"
   ]
  },
  {
   "cell_type": "code",
   "execution_count": 10,
   "metadata": {},
   "outputs": [
    {
     "data": {
      "text/plain": [
       "{'folder': '.',\n",
       " 'yamboargs': '',\n",
       " 'variables': {'X_Threads': [0.0, ''],\n",
       "  'DIP_Threads': [0.0, ''],\n",
       "  'SE_Threads': [0.0, ''],\n",
       "  'EXXRLvcs': [51.0, 'RL'],\n",
       "  'NGsBlkXp': [1.0, 'RL'],\n",
       "  'PPAPntXp': [27.21138, 'eV'],\n",
       "  'GDamping': [0.1, 'eV'],\n",
       "  'dScStep': [0.1, 'eV'],\n",
       "  'Chimod': 'HARTREE',\n",
       "  'DysSolver': 'n',\n",
       "  'BndsRnXp': [[1, 10], ''],\n",
       "  'LongDrXp': [[1.0, 0.0, 0.0], ''],\n",
       "  'GbndRnge': [[1, 10], ''],\n",
       "  'QPkrange': [[1, 32, 1, 6], '']},\n",
       " 'arguments': ['em1d', 'gw0', 'HF_and_locXC', 'ppa']}"
      ]
     },
     "execution_count": 10,
     "metadata": {},
     "output_type": "execute_result"
    }
   ],
   "source": [
    "yambo.__dict__"
   ]
  },
  {
   "cell_type": "code",
   "execution_count": null,
   "metadata": {},
   "outputs": [],
   "source": []
  },
  {
   "cell_type": "code",
   "execution_count": null,
   "metadata": {},
   "outputs": [],
   "source": []
  },
  {
   "cell_type": "code",
   "execution_count": null,
   "metadata": {},
   "outputs": [],
   "source": [
    "##################################################################"
   ]
  },
  {
   "cell_type": "code",
   "execution_count": 225,
   "metadata": {},
   "outputs": [],
   "source": [
    "from subprocess import Popen, PIPE\n",
    "import os, re\n",
    "from sys import exit\n",
    "\n",
    "class myYamboIn(dict):\n",
    "    \n",
    "    #Regular expressions\n",
    "    _variaexp   = '([A-Za-z\\_0-9]+(?:\\_[A-Za-z]+)?)' #variables names\n",
    "    _numexp     = '([+-]?\\d+(?:\\.\\d+)?(?:[eE][-+]?\\d+)?)' #number\n",
    "    _spacexp    = '(?:[ \\t]+)?' #space\n",
    "    _stringexp  = '[\"\\']([a-zA-Z0-9_ ]+?)[\"\\']' #string\n",
    "    _arrayexp   = '%'+_spacexp+_variaexp+'\\s+(?:\\#.+)?((?:(?:\\s|\\.|[+-]?\\d)+?\\|)+)\\s+([a-zA-Z]+)?' #arrays\n",
    "    _complexexp = '\\('+_spacexp+_numexp+_spacexp+','+_spacexp+_numexp+_spacexp+'\\)' #complex numbers\n",
    "    _runexp     = '([a-zA-Z0-9_]+)' #runlevels\n",
    "    # list of available runlevels to be stored in the arguments array\n",
    "    _runlevels  = ['rim_cut','chi','em1s','bse','optics','bsk','bss','em1d','gw0','HF_and_locXC','setup',\n",
    "                   'ppa','cohsex','life','collisions','negf','el_ph_scatt','el_el_scatt','excitons',\n",
    "                   'wavefunction','fixsyms','QPDBs', 'QPDB_merge','RealTime','RT_X','RToccDos',\n",
    "                   'RToccBnd','RToccEner','RToccTime','RTlifeBnd','amplitude','bzgrids','Random_Grid',\n",
    "                   'gkkp','el_ph_corr','WRbsWF','Select_energy', 'RTDBs','photolum','kpts_map',\n",
    "                   'RTtime','RToccupations','RTfitbands']\n",
    "\n",
    "    def __init__(self,args='',folder='.',filename='yambo.in'):\n",
    "        \"\"\"\n",
    "        Initalize the class\n",
    "        \"\"\"\n",
    "        dict.__init__(self,args=args,folder=folder,filename=filename)\n",
    "        \n",
    "        # if args is not empty call yambo to generate the filename input file\n",
    "        if args != '':\n",
    "            workdir = os.getcwd()\n",
    "            os.chdir(folder)\n",
    "            os.system('rm -f %s'%filename)\n",
    "            # add -F filename so yambo generates filename with the chosen args\n",
    "            args+= ' -F %s'%filename \n",
    "            yambo = Popen(args, stdout=PIPE, stderr=PIPE, stdin=PIPE, shell=True)\n",
    "            yambo.wait()\n",
    "            os.chdir(workdir)\n",
    "            self.read_file(filename=\"%s/%s\"%(folder,filename))\n",
    "        # otherwise directly read the filename input file\n",
    "        else:\n",
    "            if filename:\n",
    "                self.read_file(filename=\"%s/%s\"%(folder,filename))\n",
    "\n",
    "    def read_file(self,filename):\n",
    "        \"\"\" \n",
    "        Open filename and run parseInputFile to parse the input into the dictionary\n",
    "        \"\"\"\n",
    "        try:\n",
    "            yambofile = open(filename,\"r\")\n",
    "        except IOError:\n",
    "            print('Could not read the file %s'%filename)\n",
    "            print('Something is wrong, yambo did not create the input file. Or the file you are trying to read does not exist')\n",
    "            print('command: %s'%self['args'])\n",
    "            print('folder:  %s/'%self['folder'])\n",
    "            #return\n",
    "            exit()\n",
    "        self.parseInputFile(yambofile.read())\n",
    "        yambofile.close()\n",
    "\n",
    "    def parseInputFile(self,inputfile):\n",
    "        \"\"\"\n",
    "        Read the arguments and variables from the input file\n",
    "        \"\"\"\n",
    "        arguments = []\n",
    "        variables = {}\n",
    "        \n",
    "        var_real     = re.findall(self._variaexp + self._spacexp + '='+ self._spacexp +\n",
    "                                  self._numexp + self._spacexp + '([A-Za-z]+)?',inputfile)\n",
    "        var_string   = re.findall(self._variaexp + self._spacexp + '='+ self._spacexp + self._stringexp, inputfile)\n",
    "        var_array    = re.findall(self._arrayexp,inputfile)\n",
    "        var_complex  = re.findall(self._variaexp + self._spacexp + '='+ self._spacexp + self._complexexp + self._spacexp + '([A-Za-z]+)?', inputfile)\n",
    "        var_runlevel = re.findall(self._runexp + self._spacexp, inputfile)\n",
    "\n",
    "        def clean(a):\n",
    "            \"\"\"\n",
    "            clean the variables according to the type of data\n",
    "            \"\"\"\n",
    "            a = a.strip()\n",
    "            if a.replace('.','',1).isdigit():\n",
    "                if \".\" in a: return float(a)\n",
    "                else:        return int(a)\n",
    "            return a\n",
    "\n",
    "        # Determination of the arguments\n",
    "        for key in self._runlevels:\n",
    "            if key in var_runlevel:\n",
    "                arguments.append(key)\n",
    "\n",
    "        #float variables\n",
    "        for var in var_real:\n",
    "            name, value, unit = var\n",
    "            variables[name] = [float(value),unit]\n",
    "\n",
    "        #string variables\n",
    "        for var in var_string:\n",
    "            name, string = var\n",
    "            variables[name] = string\n",
    "\n",
    "        #complex variables\n",
    "        for var in var_complex:\n",
    "            name, real, imag, unit = var\n",
    "            variables[name] = [complex(float(real),float(imag)),unit]\n",
    "\n",
    "        #array variables\n",
    "        for var in var_array:\n",
    "            name, array, unit = var\n",
    "            array = [clean(val) for val in array.split('|')[:-1]]\n",
    "            variables[name] = [array,unit]\n",
    "        \n",
    "        self['arguments'] = arguments\n",
    "        self['variables'] = variables\n",
    "        \n"
   ]
  },
  {
   "cell_type": "code",
   "execution_count": 226,
   "metadata": {},
   "outputs": [
    {
     "name": "stdout",
     "output_type": "stream",
     "text": [
      "yambo -d -k hartree -g n -p p -F cuccu.in\n"
     ]
    }
   ],
   "source": [
    "yambo = myYamboIn(args='yambo -d -k hartree -g n -p p',folder='yambo_hf',filename='cuccu.in') "
   ]
  },
  {
   "cell_type": "code",
   "execution_count": 227,
   "metadata": {},
   "outputs": [
    {
     "data": {
      "text/plain": [
       "{'args': 'yambo -d -k hartree -g n -p p',\n",
       " 'folder': 'yambo_hf',\n",
       " 'filename': 'cuccu.in',\n",
       " 'arguments': ['em1d', 'gw0', 'HF_and_locXC', 'ppa'],\n",
       " 'variables': {'X_Threads': [0.0, ''],\n",
       "  'DIP_Threads': [0.0, ''],\n",
       "  'SE_Threads': [0.0, ''],\n",
       "  'EXXRLvcs': [51.0, 'RL'],\n",
       "  'NGsBlkXp': [1.0, 'RL'],\n",
       "  'PPAPntXp': [27.21138, 'eV'],\n",
       "  'GDamping': [0.1, 'eV'],\n",
       "  'dScStep': [0.1, 'eV'],\n",
       "  'Chimod': 'HARTREE',\n",
       "  'DysSolver': 'n',\n",
       "  'BndsRnXp': [[1, 10], ''],\n",
       "  'LongDrXp': [[1.0, 0.0, 0.0], ''],\n",
       "  'GbndRnge': [[1, 10], ''],\n",
       "  'QPkrange': [[1, 32, 1, 10], '']}}"
      ]
     },
     "execution_count": 227,
     "metadata": {},
     "output_type": "execute_result"
    }
   ],
   "source": [
    "yambo"
   ]
  },
  {
   "cell_type": "code",
   "execution_count": 222,
   "metadata": {},
   "outputs": [
    {
     "name": "stdout",
     "output_type": "stream",
     "text": [
      "Could not read the file ./yambo_hf/lalla2.in\n",
      "Something is wrong, yambo did not create the input file. Or the file you are trying to read does not exist\n",
      "command: \n",
      "folder:  ./\n"
     ]
    },
    {
     "ename": "SystemExit",
     "evalue": "",
     "output_type": "error",
     "traceback": [
      "An exception has occurred, use %tb to see the full traceback.\n",
      "\u001b[0;31mSystemExit\u001b[0m\n"
     ]
    },
    {
     "name": "stderr",
     "output_type": "stream",
     "text": [
      "/home/marco/.local/lib/python3.6/site-packages/IPython/core/interactiveshell.py:2971: UserWarning: To exit: use 'exit', 'quit', or Ctrl-D.\n",
      "  warn(\"To exit: use 'exit', 'quit', or Ctrl-D.\", stacklevel=1)\n"
     ]
    }
   ],
   "source": [
    "yambo = myYamboIn(filename='yambo_hf/lalla2.in') "
   ]
  },
  {
   "cell_type": "code",
   "execution_count": 201,
   "metadata": {},
   "outputs": [
    {
     "data": {
      "text/plain": [
       "{'args': '',\n",
       " 'folder': '.',\n",
       " 'filename': 'yambo_hf/lalla.in',\n",
       " 'arguments': ['em1d', 'gw0', 'HF_and_locXC', 'ppa'],\n",
       " 'variables': {'X_Threads': [0.0, ''],\n",
       "  'DIP_Threads': [0.0, ''],\n",
       "  'SE_Threads': [0.0, ''],\n",
       "  'EXXRLvcs': [51.0, 'RL'],\n",
       "  'NGsBlkXp': [1.0, 'RL'],\n",
       "  'PPAPntXp': [27.21138, 'eV'],\n",
       "  'GDamping': [0.1, 'eV'],\n",
       "  'dScStep': [0.1, 'eV'],\n",
       "  'Chimod': 'HARTREE',\n",
       "  'DysSolver': 'n',\n",
       "  'BndsRnXp': [[1, 10], ''],\n",
       "  'LongDrXp': [[1.0, 0.0, 0.0], ''],\n",
       "  'GbndRnge': [[1, 10], ''],\n",
       "  'QPkrange': [[1, 32, 1, 6], '']}}"
      ]
     },
     "execution_count": 201,
     "metadata": {},
     "output_type": "execute_result"
    }
   ],
   "source": [
    "yambo"
   ]
  },
  {
   "cell_type": "code",
   "execution_count": null,
   "metadata": {},
   "outputs": [],
   "source": []
  },
  {
   "cell_type": "code",
   "execution_count": 145,
   "metadata": {},
   "outputs": [
    {
     "data": {
      "text/plain": [
       "dict_values(['yambo -d -k hartree -g n -p p', 'yambo_hf', 'yambo.in', 4])"
      ]
     },
     "execution_count": 145,
     "metadata": {},
     "output_type": "execute_result"
    }
   ],
   "source": []
  },
  {
   "cell_type": "code",
   "execution_count": 186,
   "metadata": {},
   "outputs": [],
   "source": [
    "class pippo(dict):\n",
    "    \n",
    "    def __init__(self,a=1,b=2):\n",
    "        dict.__init__(self,a=a,b=b)\n",
    "        \n",
    "        # ora guarda le istruzioni \n",
    "        self.update({'c':3}) # questa non ha effetto su dict\n",
    "        #dict['c'] = 3 #da errore 'type' object does not support item assignment\n",
    "        \n",
    "    def upd(self,bla):\n",
    "        self.update(bla)"
   ]
  },
  {
   "cell_type": "code",
   "execution_count": 187,
   "metadata": {},
   "outputs": [],
   "source": [
    "bla = pippo(a=7)"
   ]
  },
  {
   "cell_type": "code",
   "execution_count": 188,
   "metadata": {},
   "outputs": [
    {
     "data": {
      "text/plain": [
       "{'a': 7, 'b': 2, 'c': 3}"
      ]
     },
     "execution_count": 188,
     "metadata": {},
     "output_type": "execute_result"
    }
   ],
   "source": [
    "bla"
   ]
  },
  {
   "cell_type": "code",
   "execution_count": 191,
   "metadata": {},
   "outputs": [],
   "source": [
    "bla.upd({'cc':3})"
   ]
  },
  {
   "cell_type": "code",
   "execution_count": 192,
   "metadata": {},
   "outputs": [
    {
     "data": {
      "text/plain": [
       "{'a': 7, 'b': 2, 'c': 3, 'cc': 3}"
      ]
     },
     "execution_count": 192,
     "metadata": {},
     "output_type": "execute_result"
    }
   ],
   "source": [
    "bla"
   ]
  },
  {
   "cell_type": "code",
   "execution_count": null,
   "metadata": {},
   "outputs": [],
   "source": []
  },
  {
   "cell_type": "code",
   "execution_count": null,
   "metadata": {},
   "outputs": [],
   "source": []
  }
 ],
 "metadata": {
  "kernelspec": {
   "display_name": "Python 3",
   "language": "python",
   "name": "python3"
  },
  "language_info": {
   "codemirror_mode": {
    "name": "ipython",
    "version": 3
   },
   "file_extension": ".py",
   "mimetype": "text/x-python",
   "name": "python",
   "nbconvert_exporter": "python",
   "pygments_lexer": "ipython3",
   "version": "3.6.8"
  }
 },
 "nbformat": 4,
 "nbformat_minor": 2
}
