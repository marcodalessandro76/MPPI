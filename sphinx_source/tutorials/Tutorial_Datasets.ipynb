{
 "cells": [
  {
   "cell_type": "code",
   "execution_count": 1,
   "metadata": {},
   "outputs": [],
   "source": [
    "import numpy as np\n",
    "import os\n",
    "import matplotlib.pyplot as plt\n",
    "from importlib import reload\n",
    "from mppi import InputFiles as I, Calculators as C, Datasets as D"
   ]
  },
  {
   "cell_type": "markdown",
   "metadata": {},
   "source": [
    "# Tutorial for the Dataset module"
   ]
  },
  {
   "cell_type": "markdown",
   "metadata": {},
   "source": [
    "The main object to deal with (one or several) calculations is the Dataset class. Here we discuss some explicit examples to describe the usage and the main features of the package."
   ]
  },
  {
   "cell_type": "markdown",
   "metadata": {},
   "source": [
    "## Perform a convergence analysis for the gs energy of Silicon"
   ]
  },
  {
   "cell_type": "markdown",
   "metadata": {},
   "source": [
    "We discuss how to perform a convergence analysis for the determination of the number of k-points and the cut-off energy that provides _converged_ results for the gs of Silicon using QE.\n",
    "\n",
    "Define the dataset and specify the type of pre_processing function"
   ]
  },
  {
   "cell_type": "code",
   "execution_count": 2,
   "metadata": {},
   "outputs": [],
   "source": [
    "si_gs = D.Dataset(label='Si gs convergence',run_dir='si_gs',pre_processing='scf')"
   ]
  },
  {
   "cell_type": "markdown",
   "metadata": {},
   "source": [
    "Define the calculator that will execute the computations"
   ]
  },
  {
   "cell_type": "code",
   "execution_count": 3,
   "metadata": {},
   "outputs": [
    {
     "name": "stdout",
     "output_type": "stream",
     "text": [
      "Initialize a qe calculator with command OMP_NUM_THREADS=1 mpirun -np 4 pw.x\n"
     ]
    }
   ],
   "source": [
    "code = C.QeCalculator(omp=1,mpi_run='mpirun -np 4',executable='pw.x',verbose=True,skip=True)"
   ]
  },
  {
   "cell_type": "markdown",
   "metadata": {},
   "source": [
    "Call the pre_processing function, that in this case build the run_dir if it is not already present"
   ]
  },
  {
   "cell_type": "code",
   "execution_count": 4,
   "metadata": {},
   "outputs": [
    {
     "name": "stdout",
     "output_type": "stream",
     "text": [
      "Create folder si_gs\n"
     ]
    }
   ],
   "source": [
    "si_gs.pre_processing_function()"
   ]
  },
  {
   "cell_type": "markdown",
   "metadata": {},
   "source": [
    "Append the runs to the dataset. This procedures make usage of the PwIn boject that creates the instance of the input for QE. The object are written on file only at the level of the run"
   ]
  },
  {
   "cell_type": "code",
   "execution_count": 5,
   "metadata": {},
   "outputs": [
    {
     "name": "stdout",
     "output_type": "stream",
     "text": [
      "&control\n",
      "           verbosity = 'high'\n",
      "          pseudo_dir = '../pseudos'\n",
      "         calculation = 'scf'\n",
      "/&end\n",
      "&system\n",
      "    force_symmorphic = .true.\n",
      "         occupations = 'fixed'\n",
      "               ibrav = 2\n",
      "           celldm(1) = 10.3\n",
      "                ntyp = 1\n",
      "                 nat = 2\n",
      "/&end\n",
      "&electrons\n",
      "            conv_thr = 1e-08\n",
      "/&end\n",
      "ATOMIC_SPECIES\n",
      "  Si   28.086    Si.pbe-mt_fhi.UPF\n",
      "ATOMIC_POSITIONS { crystal }\n",
      " Si   0.1250000000   0.1250000000   0.1250000000\n",
      " Si  -0.1250000000  -0.1250000000  -0.1250000000\n",
      "K_POINTS { automatic }\n",
      "  1  1  1  0  0  0\n",
      "\n"
     ]
    }
   ],
   "source": [
    "si_input = I.PwIn()\n",
    "A = [0.125,0.125,0.125]\n",
    "B = [-.125,-.125,-.125]\n",
    "\n",
    "si_input.set_pseudo_dir('../pseudos')\n",
    "si_input.set_calculation('scf')\n",
    "si_input.system['force_symmorphic'] = \".true.\"\n",
    "\n",
    "si_input.set_occupations('fixed')\n",
    "si_input.system['ibrav'] = 2\n",
    "si_input.system['celldm(1)'] = 10.3\n",
    "si_input.set_atoms_type(1)\n",
    "si_input.set_atoms_number(2)\n",
    "si_input.set_atoms_position(pos_type='crystal',pos_list=[['Si',A],['Si',B]])\n",
    "si_input.atypes = {'Si': [28.086,\"Si.pbe-mt_fhi.UPF\"]}\n",
    "si_input.set_convergence_thr(1e-8)\n",
    "\n",
    "print(si_input)"
   ]
  },
  {
   "cell_type": "markdown",
   "metadata": {},
   "source": [
    "Choose the parameters for the convergence test and append the associated runs"
   ]
  },
  {
   "cell_type": "code",
   "execution_count": 6,
   "metadata": {},
   "outputs": [],
   "source": [
    "kpoints = [2,3,4,5,6] \n",
    "ecut = [10,20,30,40,50]"
   ]
  },
  {
   "cell_type": "code",
   "execution_count": 7,
   "metadata": {},
   "outputs": [],
   "source": [
    "for k in kpoints:\n",
    "    for e in ecut:\n",
    "        idd = {'k' : k, 'ecut' : e} \n",
    "        si_input.set_prefix(D.name_from_id(idd))\n",
    "        si_input.set_kpoints(ktype='automatic',kpoints=[k,k,k])\n",
    "        si_input.set_energy_cutoff(e)\n",
    "        si_gs.append_run(id=idd,calculator=code,input=si_input)"
   ]
  },
  {
   "cell_type": "code",
   "execution_count": 8,
   "metadata": {},
   "outputs": [
    {
     "name": "stdout",
     "output_type": "stream",
     "text": [
      "&control\n",
      "           verbosity = 'high'\n",
      "          pseudo_dir = '../pseudos'\n",
      "         calculation = 'scf'\n",
      "              prefix = 'ecut_10-k_3'\n",
      "/&end\n",
      "&system\n",
      "    force_symmorphic = .true.\n",
      "         occupations = 'fixed'\n",
      "               ibrav = 2\n",
      "           celldm(1) = 10.3\n",
      "                ntyp = 1\n",
      "                 nat = 2\n",
      "             ecutwfc = 10\n",
      "/&end\n",
      "&electrons\n",
      "            conv_thr = 1e-08\n",
      "/&end\n",
      "ATOMIC_SPECIES\n",
      "  Si   28.086    Si.pbe-mt_fhi.UPF\n",
      "ATOMIC_POSITIONS { crystal }\n",
      " Si   0.1250000000   0.1250000000   0.1250000000\n",
      " Si  -0.1250000000  -0.1250000000  -0.1250000000\n",
      "K_POINTS { automatic }\n",
      "  3  3  3  0  0  0\n",
      "\n"
     ]
    }
   ],
   "source": [
    "print(si_gs.runs[5])"
   ]
  },
  {
   "cell_type": "markdown",
   "metadata": {},
   "source": [
    "Note tha the prefix associated to each run is built by means of the name_from_id method that create a string from the idd dictionary of the run. This choice is not mandatory but it is an easy way to have a clear association among the runs and the associated names.\n",
    "\n",
    "The dataset is run as follows:"
   ]
  },
  {
   "cell_type": "code",
   "execution_count": 9,
   "metadata": {},
   "outputs": [
    {
     "name": "stdout",
     "output_type": "stream",
     "text": [
      "execute : cd si_gs ; OMP_NUM_THREADS=1 mpirun -np 4 pw.x -inp ecut_10-k_2.in > ecut_10-k_2.log\n",
      "parse file : si_gs/ecut_10-k_2.save/data-file-schema.xml\n",
      "execute : cd si_gs ; OMP_NUM_THREADS=1 mpirun -np 4 pw.x -inp ecut_20-k_2.in > ecut_20-k_2.log\n",
      "parse file : si_gs/ecut_20-k_2.save/data-file-schema.xml\n",
      "execute : cd si_gs ; OMP_NUM_THREADS=1 mpirun -np 4 pw.x -inp ecut_30-k_2.in > ecut_30-k_2.log\n",
      "parse file : si_gs/ecut_30-k_2.save/data-file-schema.xml\n",
      "execute : cd si_gs ; OMP_NUM_THREADS=1 mpirun -np 4 pw.x -inp ecut_40-k_2.in > ecut_40-k_2.log\n",
      "parse file : si_gs/ecut_40-k_2.save/data-file-schema.xml\n",
      "execute : cd si_gs ; OMP_NUM_THREADS=1 mpirun -np 4 pw.x -inp ecut_50-k_2.in > ecut_50-k_2.log\n",
      "parse file : si_gs/ecut_50-k_2.save/data-file-schema.xml\n",
      "execute : cd si_gs ; OMP_NUM_THREADS=1 mpirun -np 4 pw.x -inp ecut_10-k_3.in > ecut_10-k_3.log\n",
      "parse file : si_gs/ecut_10-k_3.save/data-file-schema.xml\n",
      "execute : cd si_gs ; OMP_NUM_THREADS=1 mpirun -np 4 pw.x -inp ecut_20-k_3.in > ecut_20-k_3.log\n",
      "parse file : si_gs/ecut_20-k_3.save/data-file-schema.xml\n",
      "execute : cd si_gs ; OMP_NUM_THREADS=1 mpirun -np 4 pw.x -inp ecut_30-k_3.in > ecut_30-k_3.log\n",
      "parse file : si_gs/ecut_30-k_3.save/data-file-schema.xml\n",
      "execute : cd si_gs ; OMP_NUM_THREADS=1 mpirun -np 4 pw.x -inp ecut_40-k_3.in > ecut_40-k_3.log\n",
      "parse file : si_gs/ecut_40-k_3.save/data-file-schema.xml\n",
      "execute : cd si_gs ; OMP_NUM_THREADS=1 mpirun -np 4 pw.x -inp ecut_50-k_3.in > ecut_50-k_3.log\n",
      "parse file : si_gs/ecut_50-k_3.save/data-file-schema.xml\n",
      "execute : cd si_gs ; OMP_NUM_THREADS=1 mpirun -np 4 pw.x -inp ecut_10-k_4.in > ecut_10-k_4.log\n",
      "parse file : si_gs/ecut_10-k_4.save/data-file-schema.xml\n",
      "execute : cd si_gs ; OMP_NUM_THREADS=1 mpirun -np 4 pw.x -inp ecut_20-k_4.in > ecut_20-k_4.log\n",
      "parse file : si_gs/ecut_20-k_4.save/data-file-schema.xml\n",
      "execute : cd si_gs ; OMP_NUM_THREADS=1 mpirun -np 4 pw.x -inp ecut_30-k_4.in > ecut_30-k_4.log\n",
      "parse file : si_gs/ecut_30-k_4.save/data-file-schema.xml\n",
      "execute : cd si_gs ; OMP_NUM_THREADS=1 mpirun -np 4 pw.x -inp ecut_40-k_4.in > ecut_40-k_4.log\n",
      "parse file : si_gs/ecut_40-k_4.save/data-file-schema.xml\n",
      "execute : cd si_gs ; OMP_NUM_THREADS=1 mpirun -np 4 pw.x -inp ecut_50-k_4.in > ecut_50-k_4.log\n",
      "parse file : si_gs/ecut_50-k_4.save/data-file-schema.xml\n",
      "execute : cd si_gs ; OMP_NUM_THREADS=1 mpirun -np 4 pw.x -inp ecut_10-k_5.in > ecut_10-k_5.log\n",
      "parse file : si_gs/ecut_10-k_5.save/data-file-schema.xml\n",
      "execute : cd si_gs ; OMP_NUM_THREADS=1 mpirun -np 4 pw.x -inp ecut_20-k_5.in > ecut_20-k_5.log\n",
      "parse file : si_gs/ecut_20-k_5.save/data-file-schema.xml\n",
      "execute : cd si_gs ; OMP_NUM_THREADS=1 mpirun -np 4 pw.x -inp ecut_30-k_5.in > ecut_30-k_5.log\n",
      "parse file : si_gs/ecut_30-k_5.save/data-file-schema.xml\n",
      "execute : cd si_gs ; OMP_NUM_THREADS=1 mpirun -np 4 pw.x -inp ecut_40-k_5.in > ecut_40-k_5.log\n",
      "parse file : si_gs/ecut_40-k_5.save/data-file-schema.xml\n",
      "execute : cd si_gs ; OMP_NUM_THREADS=1 mpirun -np 4 pw.x -inp ecut_50-k_5.in > ecut_50-k_5.log\n",
      "parse file : si_gs/ecut_50-k_5.save/data-file-schema.xml\n",
      "execute : cd si_gs ; OMP_NUM_THREADS=1 mpirun -np 4 pw.x -inp ecut_10-k_6.in > ecut_10-k_6.log\n",
      "parse file : si_gs/ecut_10-k_6.save/data-file-schema.xml\n",
      "execute : cd si_gs ; OMP_NUM_THREADS=1 mpirun -np 4 pw.x -inp ecut_20-k_6.in > ecut_20-k_6.log\n",
      "parse file : si_gs/ecut_20-k_6.save/data-file-schema.xml\n",
      "execute : cd si_gs ; OMP_NUM_THREADS=1 mpirun -np 4 pw.x -inp ecut_30-k_6.in > ecut_30-k_6.log\n",
      "parse file : si_gs/ecut_30-k_6.save/data-file-schema.xml\n",
      "execute : cd si_gs ; OMP_NUM_THREADS=1 mpirun -np 4 pw.x -inp ecut_40-k_6.in > ecut_40-k_6.log\n",
      "parse file : si_gs/ecut_40-k_6.save/data-file-schema.xml\n",
      "execute : cd si_gs ; OMP_NUM_THREADS=1 mpirun -np 4 pw.x -inp ecut_50-k_6.in > ecut_50-k_6.log\n",
      "parse file : si_gs/ecut_50-k_6.save/data-file-schema.xml\n"
     ]
    }
   ],
   "source": [
    "si_gs.run(post_processing=True)"
   ]
  },
  {
   "cell_type": "markdown",
   "metadata": {},
   "source": [
    "Results can be easily estracted using the fetch_results method of the dataset"
   ]
  },
  {
   "cell_type": "code",
   "execution_count": 10,
   "metadata": {},
   "outputs": [
    {
     "data": {
      "image/png": "[encoded data removed]",
      "text/plain": [
       "<Figure size 432x288 with 1 Axes>"
      ]
     },
     "metadata": {},
     "output_type": "display_data"
    }
   ],
   "source": [
    "for k in kpoints:\n",
    "    data=si_gs.fetch_results(id={'k': k},attribute='E_tot')\n",
    "    plt.plot(ecut,data,label='k='+str(k))\n",
    "plt.title(si_gs.label,size = 14)\n",
    "plt.xlabel('cut off energy (Ry)',size=12)\n",
    "plt.ylabel('GS energy (Ha)',size = 12)\n",
    "plt.legend()\n",
    "plt.show()"
   ]
  },
  {
   "cell_type": "markdown",
   "metadata": {},
   "source": [
    "On the basis of this analysis with identify the scf converged parameters that will be used as input for nscf ones"
   ]
  },
  {
   "cell_type": "code",
   "execution_count": 11,
   "metadata": {},
   "outputs": [],
   "source": [
    "k_conv = 4\n",
    "ecut_conv = 50"
   ]
  },
  {
   "cell_type": "markdown",
   "metadata": {},
   "source": [
    "All the results are written in the .results member of the dataset. This is a dictionary in wich all the post_processing are stored, the key represent the position of the study specified in the .ids list. For instance"
   ]
  },
  {
   "cell_type": "code",
   "execution_count": 24,
   "metadata": {},
   "outputs": [
    {
     "data": {
      "text/plain": [
       "<qepppy.qe.pw_out.pw_out at 0x7fb5c76f3080>"
      ]
     },
     "execution_count": 24,
     "metadata": {},
     "output_type": "execute_result"
    }
   ],
   "source": [
    "si_gs.results[0]"
   ]
  },
  {
   "cell_type": "code",
   "execution_count": 25,
   "metadata": {},
   "outputs": [
    {
     "data": {
      "text/plain": [
       "{'k': 2, 'ecut': 10}"
      ]
     },
     "execution_count": 25,
     "metadata": {},
     "output_type": "execute_result"
    }
   ],
   "source": [
    "si_gs.ids[0]"
   ]
  },
  {
   "cell_type": "markdown",
   "metadata": {},
   "source": [
    "The method fetch_results (without attribute) gives the instance(s) of the runs that satisfy the requirement passed in the id. Otherwise we can access directly to the dictionary as si_gs.results[key]"
   ]
  },
  {
   "cell_type": "markdown",
   "metadata": {},
   "source": [
    "A lot of quantities can be extracted from results, for instance"
   ]
  },
  {
   "cell_type": "code",
   "execution_count": 26,
   "metadata": {},
   "outputs": [],
   "source": [
    "result = si_gs.results[0]"
   ]
  },
  {
   "cell_type": "code",
   "execution_count": 27,
   "metadata": {},
   "outputs": [
    {
     "data": {
      "text/plain": [
       "-7.761788836295096"
      ]
     },
     "execution_count": 27,
     "metadata": {},
     "output_type": "execute_result"
    }
   ],
   "source": [
    "result.E_tot #total energy in Hartree"
   ]
  },
  {
   "cell_type": "code",
   "execution_count": 28,
   "metadata": {},
   "outputs": [
    {
     "data": {
      "text/plain": [
       "10.3"
      ]
     },
     "execution_count": 28,
     "metadata": {},
     "output_type": "execute_result"
    }
   ],
   "source": [
    "result.alat #atomic units = angstrom/0.529177211"
   ]
  },
  {
   "cell_type": "code",
   "execution_count": 29,
   "metadata": {},
   "outputs": [
    {
     "data": {
      "text/plain": [
       "array([[-1.2875,  1.2875,  1.2875],\n",
       "       [ 1.2875, -1.2875, -1.2875]])"
      ]
     },
     "execution_count": 29,
     "metadata": {},
     "output_type": "execute_result"
    }
   ],
   "source": [
    "result.atoms_coord_cart # in which units ?????"
   ]
  },
  {
   "cell_type": "code",
   "execution_count": 30,
   "metadata": {},
   "outputs": [
    {
     "name": "stderr",
     "output_type": "stream",
     "text": [
      "No handles with labels found to put in legend.\n"
     ]
    },
    {
     "data": {
      "image/png": "[encoded data removed]",
      "text/plain": [
       "<Figure size 432x288 with 1 Axes>"
      ]
     },
     "metadata": {},
     "output_type": "display_data"
    },
    {
     "data": {
      "text/plain": [
       "array([[-20.   ,   0.   ],\n",
       "       [-19.999,   0.   ],\n",
       "       [-19.998,   0.   ],\n",
       "       ...,\n",
       "       [ 19.998,   0.   ],\n",
       "       [ 19.999,   0.   ],\n",
       "       [ 20.   ,   0.   ]])"
      ]
     },
     "execution_count": 30,
     "metadata": {},
     "output_type": "execute_result"
    }
   ],
   "source": [
    "#pFile : option to enable/disable file save\n",
    "#fname : output file name\n",
    "result.density_of_states(pFile=False)"
   ]
  },
  {
   "cell_type": "markdown",
   "metadata": {},
   "source": [
    "## Perform a sef of nscf computations for Silicon"
   ]
  },
  {
   "cell_type": "markdown",
   "metadata": {},
   "source": [
    "We illustrate the usage of the dataset class to perform nscf computations using QE. In this case the pre_processing function performs different operations since the .save folder of the scf computation used as input has to be copied in the run_dir of the nscf dataset. "
   ]
  },
  {
   "cell_type": "code",
   "execution_count": 35,
   "metadata": {},
   "outputs": [],
   "source": [
    "si_nscf = D.Dataset(label='Si nscf',run_dir='si_nscf',pre_processing='nscf')"
   ]
  },
  {
   "cell_type": "markdown",
   "metadata": {},
   "source": [
    "Define the calculator that will execute the computations"
   ]
  },
  {
   "cell_type": "code",
   "execution_count": 36,
   "metadata": {},
   "outputs": [
    {
     "name": "stdout",
     "output_type": "stream",
     "text": [
      "Initialize a qe calculator with command OMP_NUM_THREADS=1 mpirun -np 4 pw.x\n"
     ]
    }
   ],
   "source": [
    "code = C.QeCalculator(omp=1,mpi_run='mpirun -np 4',executable='pw.x',verbose=True,skip=False)"
   ]
  },
  {
   "cell_type": "markdown",
   "metadata": {},
   "source": [
    "Add some runs to the nscf dataset"
   ]
  },
  {
   "cell_type": "code",
   "execution_count": 37,
   "metadata": {},
   "outputs": [],
   "source": [
    "nscf_kpoints = [4,5,6]"
   ]
  },
  {
   "cell_type": "code",
   "execution_count": 38,
   "metadata": {},
   "outputs": [],
   "source": [
    "si_input.set_calculation('nscf')\n",
    "si_input.set_num_bands(10)\n",
    "\n",
    "for k in nscf_kpoints:\n",
    "    idd = {'k' : k} \n",
    "    si_input.set_prefix(D.name_from_id(idd))\n",
    "    si_input.set_kpoints(ktype='automatic',kpoints=[k,k,k])\n",
    "    si_input.set_energy_cutoff(ecut_conv)\n",
    "    si_nscf.append_run(id=idd,calculator=code,input=si_input)"
   ]
  },
  {
   "cell_type": "code",
   "execution_count": 39,
   "metadata": {},
   "outputs": [
    {
     "data": {
      "text/plain": [
       "[{'k': 4}, {'k': 5}, {'k': 6}]"
      ]
     },
     "execution_count": 39,
     "metadata": {},
     "output_type": "execute_result"
    }
   ],
   "source": [
    "si_nscf.ids"
   ]
  },
  {
   "cell_type": "markdown",
   "metadata": {},
   "source": [
    "Call the pre_processing function"
   ]
  },
  {
   "cell_type": "code",
   "execution_count": 40,
   "metadata": {},
   "outputs": [
    {
     "name": "stdout",
     "output_type": "stream",
     "text": [
      "Create folder si_nscf\n",
      "execute :  cp -r si_gs/ecut_50-k_4.save/ si_nscf/k_4.save\n",
      "execute :  cp -r si_gs/ecut_50-k_4.save/ si_nscf/k_5.save\n",
      "execute :  cp -r si_gs/ecut_50-k_4.save/ si_nscf/k_6.save\n"
     ]
    }
   ],
   "source": [
    "si_nscf.pre_processing_function(source_dir='si_gs/ecut_50-k_4.save/')"
   ]
  },
  {
   "cell_type": "markdown",
   "metadata": {},
   "source": [
    "Now the dataset can be run and the post_processing parse the output as in the scf case"
   ]
  },
  {
   "cell_type": "code",
   "execution_count": 41,
   "metadata": {},
   "outputs": [
    {
     "name": "stdout",
     "output_type": "stream",
     "text": [
      "execute : cd si_nscf ; OMP_NUM_THREADS=1 mpirun -np 4 pw.x -inp k_4.in > k_4.log\n",
      "parse file : si_nscf/k_4.save/data-file-schema.xml\n",
      "execute : cd si_nscf ; OMP_NUM_THREADS=1 mpirun -np 4 pw.x -inp k_5.in > k_5.log\n",
      "parse file : si_nscf/k_5.save/data-file-schema.xml\n",
      "execute : cd si_nscf ; OMP_NUM_THREADS=1 mpirun -np 4 pw.x -inp k_6.in > k_6.log\n",
      "parse file : si_nscf/k_6.save/data-file-schema.xml\n"
     ]
    }
   ],
   "source": [
    "si_nscf.run()"
   ]
  },
  {
   "cell_type": "markdown",
   "metadata": {},
   "source": [
    "## Perform a set of Hartree-Fock computations with Yambo"
   ]
  },
  {
   "cell_type": "markdown",
   "metadata": {},
   "source": [
    "Dataset can be used to organize Yambo computation in an analogous way of the QE ones. The differences are represented by the usage of YamboIn to build the input files, the usage of YamboCalculator to run the computations and by the pre_processing function."
   ]
  },
  {
   "cell_type": "code",
   "execution_count": 42,
   "metadata": {},
   "outputs": [
    {
     "name": "stdout",
     "output_type": "stream",
     "text": [
      "Initialize a Yambo calculator with command OMP_NUM_THREADS=1 mpirun -np 4 yambo\n",
      "Suffix for post_processing :  hf\n"
     ]
    }
   ],
   "source": [
    "code = C.YamboCalculator(omp=1,mpi_run='mpirun -np 4',executable='yambo',suffix='hf',verbose=True,skip=True)"
   ]
  },
  {
   "cell_type": "code",
   "execution_count": 43,
   "metadata": {},
   "outputs": [],
   "source": [
    "yambo_hf = D.Dataset(label='Hatree-Fock',run_dir='yambo_hf',pre_processing='yambo')"
   ]
  },
  {
   "cell_type": "markdown",
   "metadata": {},
   "source": [
    "In this case the pre_processing function _has to be_ called before appending the runs because the YamboIn class neeeds the SAVE folder to init the input object.\n",
    "\n",
    "The dataset make usage of __one__ nscf computation to build the SAVE folder that is used in all the runs"
   ]
  },
  {
   "cell_type": "code",
   "execution_count": 44,
   "metadata": {},
   "outputs": [],
   "source": [
    "source = 'si_nscf/k_6.save/'"
   ]
  },
  {
   "cell_type": "code",
   "execution_count": 45,
   "metadata": {},
   "outputs": [
    {
     "name": "stdout",
     "output_type": "stream",
     "text": [
      "Create folder yambo_hf\n",
      "execute :  cd si_nscf/k_6.save/;p2y -a 2\n",
      "execute :  cp -r si_nscf/k_6.save//SAVE yambo_hf\n",
      "execute :  cd yambo_hf;OMP_NUM_THREADS=1 yambo\n"
     ]
    }
   ],
   "source": [
    "yambo_hf.pre_processing_function(source_dir=source)"
   ]
  },
  {
   "cell_type": "markdown",
   "metadata": {},
   "source": [
    "Now the runs can be appended to the dataset. For instance we perform parametric runs in terms of the EXXRLvcs parameter that expresses the energy cutoff in the number of g-components of G0"
   ]
  },
  {
   "cell_type": "code",
   "execution_count": 46,
   "metadata": {},
   "outputs": [],
   "source": [
    "exx_values = [2.,3.,4.] #in Hartree"
   ]
  },
  {
   "cell_type": "code",
   "execution_count": 47,
   "metadata": {},
   "outputs": [],
   "source": [
    "yambo_in = I.YamboIn('yambo -x -V rl',folder=yambo_hf.run_dir)\n",
    "\n",
    "for ex in exx_values:\n",
    "    idd = {'EXXRLvcs' : ex} \n",
    "    yambo_in['EXXRLvcs'] = [1000.0*ex,'mHa']\n",
    "    yambo_hf.append_run(id=idd,calculator=code,input=yambo_in)  "
   ]
  },
  {
   "cell_type": "code",
   "execution_count": 48,
   "metadata": {},
   "outputs": [
    {
     "data": {
      "text/plain": [
       "[{'EXXRLvcs': 2.0}, {'EXXRLvcs': 3.0}, {'EXXRLvcs': 4.0}]"
      ]
     },
     "execution_count": 48,
     "metadata": {},
     "output_type": "execute_result"
    }
   ],
   "source": [
    "yambo_hf.ids"
   ]
  },
  {
   "cell_type": "code",
   "execution_count": 51,
   "metadata": {},
   "outputs": [
    {
     "name": "stdout",
     "output_type": "stream",
     "text": [
      "HF_and_locXC\n",
      "FFTGvecs = 2133.000000 RL\n",
      "SE_Threads = 0.000000e+00 \n",
      "EXXRLvcs = 2000.000000 mHa\n",
      "% QPkrange\n",
      " 1 | 32 | 1 | 10 |   \n",
      "%\n",
      "\n"
     ]
    }
   ],
   "source": [
    "print(yambo_hf.runs[0])"
   ]
  },
  {
   "cell_type": "code",
   "execution_count": 52,
   "metadata": {},
   "outputs": [
    {
     "name": "stdout",
     "output_type": "stream",
     "text": [
      "execute : cd yambo_hf ; OMP_NUM_THREADS=1 mpirun -np 4 yambo -F EXXRLvcs_2.0.in -J EXXRLvcs_2.0 -C EXXRLvcs_2.0\n",
      "parse file : yambo_hf/EXXRLvcs_2.0/o-EXXRLvcs_2.0.hf\n",
      "execute : cd yambo_hf ; OMP_NUM_THREADS=1 mpirun -np 4 yambo -F EXXRLvcs_3.0.in -J EXXRLvcs_3.0 -C EXXRLvcs_3.0\n",
      "parse file : yambo_hf/EXXRLvcs_3.0/o-EXXRLvcs_3.0.hf\n",
      "execute : cd yambo_hf ; OMP_NUM_THREADS=1 mpirun -np 4 yambo -F EXXRLvcs_4.0.in -J EXXRLvcs_4.0 -C EXXRLvcs_4.0\n",
      "parse file : yambo_hf/EXXRLvcs_4.0/o-EXXRLvcs_4.0.hf\n"
     ]
    }
   ],
   "source": [
    "yambo_hf.run()"
   ]
  },
  {
   "cell_type": "markdown",
   "metadata": {},
   "source": [
    "Results can be extraced in various ways, both using the fetch_results methods or by direct access to the attribute of the Yambo parser. Here we provide some examples.\n",
    "\n",
    "First of all we can see the names of the attributes for each elements of yambo_hf.results as follows"
   ]
  },
  {
   "cell_type": "code",
   "execution_count": 53,
   "metadata": {},
   "outputs": [
    {
     "name": "stdout",
     "output_type": "stream",
     "text": [
      "dict_keys(['K-point', 'Band', 'Eo', 'Ehf', 'DFT', 'HF'])\n"
     ]
    }
   ],
   "source": [
    "keys = yambo_hf.results[0].getAttributes()\n",
    "print(keys)"
   ]
  },
  {
   "cell_type": "markdown",
   "metadata": {},
   "source": [
    "Then, we can access to the values directly as"
   ]
  },
  {
   "cell_type": "code",
   "execution_count": 54,
   "metadata": {},
   "outputs": [
    {
     "data": {
      "text/plain": [
       "[-18.69873, -1.207, -1.438, -0.62819, 6.98599]"
      ]
     },
     "execution_count": 54,
     "metadata": {},
     "output_type": "execute_result"
    }
   ],
   "source": [
    "yambo_hf.results[0].Ehf[0:5]"
   ]
  },
  {
   "cell_type": "markdown",
   "metadata": {},
   "source": [
    "Or by using the fetch_results"
   ]
  },
  {
   "cell_type": "code",
   "execution_count": 55,
   "metadata": {},
   "outputs": [
    {
     "data": {
      "text/plain": [
       "[-18.69873, -1.207, -1.438, -0.62819, 6.98599]"
      ]
     },
     "execution_count": 55,
     "metadata": {},
     "output_type": "execute_result"
    }
   ],
   "source": [
    "yambo_hf.fetch_results(id={'EXXRLvcs' : 2.0},attribute='Ehf')[0][0:5]"
   ]
  },
  {
   "cell_type": "markdown",
   "metadata": {},
   "source": [
    "Also we can use fetch_results to extract the computation(s) that we need and then access directly to the attributes"
   ]
  },
  {
   "cell_type": "code",
   "execution_count": 56,
   "metadata": {},
   "outputs": [
    {
     "data": {
      "text/plain": [
       "[-18.69873, -1.207, -1.438, -0.62819, 6.98599]"
      ]
     },
     "execution_count": 56,
     "metadata": {},
     "output_type": "execute_result"
    }
   ],
   "source": [
    "yambo_hf.fetch_results(id={'EXXRLvcs' : 2.0})[0].Ehf[0:5]"
   ]
  },
  {
   "cell_type": "code",
   "execution_count": null,
   "metadata": {},
   "outputs": [],
   "source": []
  }
 ],
 "metadata": {
  "kernelspec": {
   "display_name": "Python 3",
   "language": "python",
   "name": "python3"
  },
  "language_info": {
   "codemirror_mode": {
    "name": "ipython",
    "version": 3
   },
   "file_extension": ".py",
   "mimetype": "text/x-python",
   "name": "python",
   "nbconvert_exporter": "python",
   "pygments_lexer": "ipython3",
   "version": "3.6.8"
  }
 },
 "nbformat": 4,
 "nbformat_minor": 2
}
