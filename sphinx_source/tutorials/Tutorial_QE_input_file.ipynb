{
 "cells": [
  {
   "cell_type": "code",
   "execution_count": 1,
   "metadata": {},
   "outputs": [],
   "source": [
    "from importlib import reload\n",
    "from mppi import InputFiles as I"
   ]
  },
  {
   "cell_type": "markdown",
   "metadata": {},
   "source": [
    "# Tutorial for the QeInput class"
   ]
  },
  {
   "cell_type": "markdown",
   "metadata": {},
   "source": [
    "This tutorial describes the  main features and the usage of the QeInput class that enables to create and\n",
    "manage the input files for the QuantumESPRESSO computations"
   ]
  },
  {
   "cell_type": "markdown",
   "metadata": {},
   "source": [
    "Create an empty input object from scratch"
   ]
  },
  {
   "cell_type": "code",
   "execution_count": 2,
   "metadata": {},
   "outputs": [],
   "source": [
    "#reload(I)"
   ]
  },
  {
   "cell_type": "code",
   "execution_count": 3,
   "metadata": {},
   "outputs": [
    {
     "data": {
      "text/plain": [
       "{'filename': None,\n",
       " 'control': {},\n",
       " 'system': {},\n",
       " 'electrons': {},\n",
       " 'atomic_species': {},\n",
       " 'atomic_positions': []}"
      ]
     },
     "execution_count": 3,
     "metadata": {},
     "output_type": "execute_result"
    }
   ],
   "source": [
    "inp1 = I.QeInput()\n",
    "inp1"
   ]
  },
  {
   "cell_type": "markdown",
   "metadata": {},
   "source": [
    "The attribute of the object can be updated using the standard procedure for python dictionaries or using \n",
    "specific methods (written in InputAction class???)"
   ]
  },
  {
   "cell_type": "code",
   "execution_count": 4,
   "metadata": {},
   "outputs": [],
   "source": [
    "inp1.update({'control':{'calculation':'scf'}})"
   ]
  },
  {
   "cell_type": "code",
   "execution_count": 5,
   "metadata": {},
   "outputs": [
    {
     "data": {
      "text/plain": [
       "{'filename': None,\n",
       " 'control': {'calculation': 'scf'},\n",
       " 'system': {},\n",
       " 'electrons': {},\n",
       " 'atomic_species': {},\n",
       " 'atomic_positions': []}"
      ]
     },
     "execution_count": 5,
     "metadata": {},
     "output_type": "execute_result"
    }
   ],
   "source": [
    "inp1"
   ]
  },
  {
   "cell_type": "markdown",
   "metadata": {},
   "source": [
    "Once completed the input object can be converted on string and written to file"
   ]
  },
  {
   "cell_type": "code",
   "execution_count": 6,
   "metadata": {},
   "outputs": [
    {
     "name": "stdout",
     "output_type": "stream",
     "text": [
      "Specify the ATOMIC_POSITIONS format\n",
      "Specify the K_POINTS format\n",
      "Specify the value of ibrav\n",
      "&control\n",
      "         calculation = scf\n",
      "/&end\n",
      "\n",
      "\n",
      "ATOMIC_SPECIES\n"
     ]
    }
   ],
   "source": [
    "inp_tostring = inp1.convert_string()\n",
    "print(inp_tostring)"
   ]
  },
  {
   "cell_type": "markdown",
   "metadata": {},
   "source": [
    "In this case some of the needed variables have not been specified and the some alert are provided\n",
    "\n",
    "TODO : if some variable is missing is better to have an error..."
   ]
  },
  {
   "cell_type": "markdown",
   "metadata": {},
   "source": [
    "Consider a second example in which the input is initialized from an existing input file"
   ]
  },
  {
   "cell_type": "code",
   "execution_count": 7,
   "metadata": {},
   "outputs": [
    {
     "data": {
      "text/plain": [
       "{'filename': 'IO_files/si_scf.in',\n",
       " 'control': {'verbosity': \"'high'\",\n",
       "  'pseudo_dir': \"'../pseudos'\",\n",
       "  'calculation': \"'scf'\",\n",
       "  'prefix': \"'ecut_10-k_3'\"},\n",
       " 'system': {'force_symmorphic': '.true.',\n",
       "  'occupations': \"'fixed'\",\n",
       "  'ibrav': '2',\n",
       "  'celldm(1)': '10.3',\n",
       "  'ntyp': '1',\n",
       "  'nat': '2',\n",
       "  'ecutwfc': '10'},\n",
       " 'electrons': {'conv_thr': '1e-08'},\n",
       " 'atomic_species': {'Si': ['28.086', 'Si.pbe-mt_fhi.UPF']},\n",
       " 'atomic_positions': [['Si', [0.125, 0.125, 0.125]],\n",
       "  ['Si', [-0.125, -0.125, -0.125]]],\n",
       " 'atomic_pos_type': 'crystal',\n",
       " 'ktype': 'automatic',\n",
       " 'kpoints': [3.0, 3.0, 3.0],\n",
       " 'shiftk': [0.0, 0.0, 0.0]}"
      ]
     },
     "execution_count": 7,
     "metadata": {},
     "output_type": "execute_result"
    }
   ],
   "source": [
    "inp2 = I.QeInput(filename='IO_files/si_scf.in')\n",
    "inp2"
   ]
  },
  {
   "cell_type": "markdown",
   "metadata": {},
   "source": [
    "The variables can be modified and we can display the input object on terminal in the QE format"
   ]
  },
  {
   "cell_type": "code",
   "execution_count": 8,
   "metadata": {},
   "outputs": [
    {
     "name": "stdout",
     "output_type": "stream",
     "text": [
      "&control\n",
      "         calculation = 'scf'\n",
      "              prefix = 'ecut_10-k_3'\n",
      "          pseudo_dir = '../pseudos'\n",
      "           verbosity = 'high'\n",
      "/&end\n",
      "&system\n",
      "           celldm(1) = 10.3\n",
      "             ecutwfc = 10\n",
      "    force_symmorphic = .true.\n",
      "               ibrav = 2\n",
      "                 nat = 2\n",
      "                ntyp = 1\n",
      "         occupations = 'fixed'\n",
      "/&end\n",
      "&electrons\n",
      "            conv_thr = 1e-08\n",
      "/&end\n",
      "ATOMIC_SPECIES\n",
      "  Si   28.086    Si.pbe-mt_fhi.UPF\n",
      "ATOMIC_POSITIONS { crystal }\n",
      " Si   0.1250000000   0.1250000000   0.1250000000\n",
      " Si  -0.1250000000  -0.1250000000  -0.1250000000\n",
      "K_POINTS { automatic }\n",
      "  3  3  3  0  0  0\n"
     ]
    }
   ],
   "source": [
    "inp_tostring = inp2.convert_string()\n",
    "print(inp_tostring)"
   ]
  },
  {
   "cell_type": "markdown",
   "metadata": {},
   "source": [
    "Finally, it can be writte on file"
   ]
  },
  {
   "cell_type": "code",
   "execution_count": 9,
   "metadata": {},
   "outputs": [],
   "source": [
    "inp2.write('IO_files/graphene_scf_modified.in')"
   ]
  },
  {
   "cell_type": "code",
   "execution_count": 10,
   "metadata": {},
   "outputs": [
    {
     "data": {
      "text/plain": [
       "{'filename': 'IO_files/graphene_nscf.in',\n",
       " 'control': {'verbosity': \"'high'\",\n",
       "  'calculation': \"'nscf'\",\n",
       "  'pseudo_dir': \"'../pseudos'\",\n",
       "  'prefix': \"'ecut\"},\n",
       " 'system': {'occupations': \"'smearing'\",\n",
       "  'smearing': \"'fermi-dirac'\",\n",
       "  'degauss': '0.0036749326',\n",
       "  'ibrav': '0',\n",
       "  'ntyp': '1',\n",
       "  'nat': '2',\n",
       "  'ecutwfc': '100',\n",
       "  'nbnd': '8'},\n",
       " 'electrons': {'conv_thr': '1e-08'},\n",
       " 'atomic_species': {'C': ['12.011', 'C_pbe-20082014.UPF']},\n",
       " 'atomic_positions': [['C', [0.0, 0.0, 0.0]], ['C', [0.0, 1.42, 0.0]]],\n",
       " 'atomic_pos_type': 'angstrom',\n",
       " 'cell_units': 'angstrom',\n",
       " 'cell_parameters': [[2.4595121467, 0.0, 0.0],\n",
       "  [1.2297560734, 2.13, 0.0],\n",
       "  [0.0, 0.0, 10.0]],\n",
       " 'ktype': 'tpiba_b',\n",
       " 'klist': [[0.0, 0.0, 0.0, 40.0],\n",
       "  [0.5, 0.28867513, 0.0, 40.0],\n",
       "  [0.66666667, 0.0, 0.0, 40.0],\n",
       "  [0.0, 0.0, 0.0, 0.0]]}"
      ]
     },
     "execution_count": 10,
     "metadata": {},
     "output_type": "execute_result"
    }
   ],
   "source": [
    "inp3 = I.QeInput(filename='IO_files/graphene_nscf.in')\n",
    "inp3"
   ]
  },
  {
   "cell_type": "code",
   "execution_count": 11,
   "metadata": {},
   "outputs": [
    {
     "name": "stdout",
     "output_type": "stream",
     "text": [
      "&control\n",
      "         calculation = 'nscf'\n",
      "              prefix = 'ecut\n",
      "          pseudo_dir = '../pseudos'\n",
      "           verbosity = 'high'\n",
      "/&end\n",
      "&system\n",
      "             degauss = 0.0036749326\n",
      "             ecutwfc = 100\n",
      "               ibrav = 0\n",
      "                 nat = 2\n",
      "                nbnd = 8\n",
      "                ntyp = 1\n",
      "         occupations = 'smearing'\n",
      "            smearing = 'fermi-dirac'\n",
      "/&end\n",
      "&electrons\n",
      "            conv_thr = 1e-08\n",
      "/&end\n",
      "ATOMIC_SPECIES\n",
      "   C   12.011   C_pbe-20082014.UPF\n",
      "ATOMIC_POSITIONS { angstrom }\n",
      "  C   0.0000000000   0.0000000000   0.0000000000\n",
      "  C   0.0000000000   1.4200000000   0.0000000000\n",
      "K_POINTS { tpiba_b }\n",
      "4\n",
      "  0.00000000   0.00000000   0.00000000  40.00000000 \n",
      "  0.50000000   0.28867513   0.00000000  40.00000000 \n",
      "  0.66666667   0.00000000   0.00000000  40.00000000 \n",
      "  0.00000000   0.00000000   0.00000000   0.00000000 \n",
      "CELL_PARAMETERS angstrom\n",
      "  2.4595121467   0.0000000000   0.0000000000 \n",
      "  1.2297560734   2.1300000000   0.0000000000 \n",
      "  0.0000000000   0.0000000000  10.0000000000 \n"
     ]
    }
   ],
   "source": [
    "bla = inp3.convert_string()\n",
    "print(bla)"
   ]
  },
  {
   "cell_type": "code",
   "execution_count": 12,
   "metadata": {},
   "outputs": [],
   "source": [
    "inp3.write('IO_files/graphene_nscf_mod.in')"
   ]
  },
  {
   "cell_type": "code",
   "execution_count": null,
   "metadata": {},
   "outputs": [],
   "source": []
  },
  {
   "cell_type": "code",
   "execution_count": null,
   "metadata": {},
   "outputs": [],
   "source": []
  },
  {
   "cell_type": "code",
   "execution_count": null,
   "metadata": {},
   "outputs": [],
   "source": [
    "###############################################################################"
   ]
  },
  {
   "cell_type": "code",
   "execution_count": null,
   "metadata": {},
   "outputs": [],
   "source": [
    "import os\n",
    "import re\n",
    "from math import sqrt\n",
    "\n",
    "class QeInput(dict):\n",
    "    \"\"\"\n",
    "    Class to generate an manipulate Quantum Espresso input files.\n",
    "    Can be initialized either reading from a file or starting from scratch.\n",
    "    \"\"\"\n",
    "    \n",
    "    # remove sourcefolder and move it in the calculator class?\n",
    "    \n",
    "    _basedict = {'control' : {'verbosity' : \"'high'\"},\n",
    "                 'system' : {'force_symmorphic' : '.true', 'occupations' : \"'fixed'\"}} #,\n",
    "                 #'atomic_pos_type' : 'crystal',\n",
    "                 #'cell_units' : 'bohr'}\n",
    "     \n",
    "    # Define the group variables that are possible keys of self\n",
    "    _groups = ['control','system','electrons','ions','cell']\n",
    "    \n",
    "    #self.cell_units = 'bohr'\n",
    "    #self.atomic_pos_type = 'crystal'\n",
    "    \n",
    "    def __init__(self,sourcefolder=None,filename=None):\n",
    "        \"\"\"\n",
    "        Initalize the class\n",
    "        \"\"\"\n",
    "        dict.__init__(self,sourcefolder=None,filename=filename)\n",
    "\n",
    "        # init the basic keys of self. The keys associated to the 'ions' and 'cell' group\n",
    "        # are initialized only if needed\n",
    "        self['control'] = dict()\n",
    "        self['system'] = dict()\n",
    "        self['electrons'] = dict()\n",
    "        #self['ions'] = dict()\n",
    "        #self['cell'] = dict()\n",
    "        \n",
    "        self['atomic_species'] = dict()\n",
    "        self['atomic_positions'] = []\n",
    "        \n",
    "        # These keys has to be defined before the object is written to file\n",
    "        self['atomic_pos_type'] = '' \n",
    "        self['ktype'] = ''\n",
    "        self['cell_units'] = ''\n",
    "        \n",
    "        #self['cell_parameters'] = [] #init da read_cell_parameters\n",
    "        \n",
    "        #self['klist'] = []\n",
    "        \n",
    "        # set some keys to the values of _basedict\n",
    "        #self.update(self._basedict)\n",
    "\n",
    "        #in case we start from a reference file\n",
    "        if filename:\n",
    "            self.parseInputFile(filename)\n",
    "    \n",
    "    def write(self,filename):\n",
    "        \"\"\"\n",
    "        Write the QE input on file.\n",
    "        \"\"\"\n",
    "        f = open(filename,'w')\n",
    "        \n",
    "        # check if all the needed variables have been defined!\n",
    "        \n",
    "        f.write(self.convert_string())\n",
    "        f.close()\n",
    "    \n",
    "    def parseInputFile(self,filename):\n",
    "        \"\"\"\n",
    "        Read the arguments and variables from the input file\n",
    "        \"\"\"\n",
    "        f = open(filename,\"r\")\n",
    "            \n",
    "        self.file_lines = f.readlines() #set file lines\n",
    "        self.store('control')   \n",
    "        self.store('system')   \n",
    "        self.store('electrons')   \n",
    "        self.store('ions')        \n",
    "        self.store('cell')      \n",
    "            \n",
    "        self.read_atomicspecies() \n",
    "        self.read_atoms() \n",
    "        self.read_cell_parameters()\n",
    "        self.read_kpoints()\n",
    "        \n",
    "    def slicefile(self, keyword):\n",
    "        lines = re.findall('&%s(?:.?)+\\n((?:.+\\n)+?)(?:\\s+)?\\/'%keyword,\"\".join(self.file_lines),re.MULTILINE)\n",
    "        return lines\n",
    "                \n",
    "    def store(self,group):\n",
    "        \"\"\"\n",
    "        Look for the group (control, system, electrons,...) in the file and\n",
    "        attribute the associated variables in the dictionary\n",
    "        \"\"\"\n",
    "        for file_slice in self.slicefile(group):\n",
    "            for key, value in re.findall('([a-zA-Z_0-9_\\(\\)]+)(?:\\s+)?=(?:\\s+)?([a-zA-Z/\\'\"0-9_.-]+)',file_slice):\n",
    "                self[group][key.strip()]=value.strip()\n",
    "    \n",
    "    def read_atomicspecies(self):\n",
    "        lines = iter(self.file_lines)\n",
    "        #find ATOMIC_SPECIES keyword in file and read next line\n",
    "        for line in lines:\n",
    "            if \"ATOMIC_SPECIES\" in line:\n",
    "                for i in range(int(self['system']['ntyp'])):\n",
    "                    atype, mass, psp = next(lines).split()\n",
    "                    self['atomic_species'][atype] = [mass,psp]\n",
    "\n",
    "    def read_atoms(self):\n",
    "        lines = iter(self.file_lines)\n",
    "        #find READ_ATOMS keyword in file and read next lines\n",
    "        for line in lines:\n",
    "            if \"ATOMIC_POSITIONS\" in line:\n",
    "                atomic_pos_type = line\n",
    "                self['atomic_pos_type'] = re.findall('([A-Za-z]+)',line)[-1]\n",
    "                for i in range(int(self['system']['nat'])):\n",
    "                    atype, x,y,z = next(lines).split()\n",
    "                    self['atomic_positions'].append([atype,[float(i) for i in (x,y,z)]])\n",
    "        self['atomic_pos_type'] = atomic_pos_type.replace('{','').replace('}','').strip().split()[1]\n",
    "    \n",
    "    def read_cell_parameters_old(self):\n",
    "        ibrav = int(self['system']['ibrav'])\n",
    "        if ibrav == 0:\n",
    "            if 'celldm(1)' in self['system'].keys():\n",
    "                a = float(self['system']['celldm(1)'])\n",
    "            else:\n",
    "                a = 1\n",
    "            lines = iter(self.file_lines)\n",
    "            for line in lines:\n",
    "                if \"CELL_PARAMETERS\" in line:\n",
    "                    self['cell_units'] = line.translate(str.maketrans('','','{}()')).split()[1]\n",
    "                    self['cell_parameters'] = [[1,0,0],[0,1,0],[0,0,1]]\n",
    "                    for i in range(3):\n",
    "                        self['cell_parameters'][i] = [ float(x)*a for x in next(lines).split() ]\n",
    "            if self['cell_units'] == 'angstrom' or self.cell_units == 'bohr':\n",
    "                if 'celldm(1)' in self['system']: del self['system']['celldm(1)']\n",
    "        elif ibrav == 4:\n",
    "            a = float(self['system']['celldm(1)'])\n",
    "            c = float(self['system']['celldm(3)'])\n",
    "            self['cell_parameters'] = [[   a,          0,  0],\n",
    "                                    [-a/2,sqrt(3)/2*a,  0],\n",
    "                                    [   0,          0,c*a]]\n",
    "        elif ibrav == 2:\n",
    "            a = float(self['system']['celldm(1)'])\n",
    "            self['cell_parameters'] = [[ -a/2,   0, a/2],\n",
    "                                    [    0, a/2, a/2],\n",
    "                                    [ -a/2, a/2,   0]]\n",
    "        elif ibrav == 6:\n",
    "            a = float(self['system']['celldm(1)'])\n",
    "            c = float(self['system']['celldm(3)'])\n",
    "            self['cell_parameters'] = [[  a,   0,   0],\n",
    "                                    [  0,   a,   0],\n",
    "                                    [  0,   0, c*a]]\n",
    "        else:\n",
    "            print('ibrav = %d not implemented'%ibrav)\n",
    "            exit(1)\n",
    "    \n",
    "    def read_cell_parameters(self):\n",
    "        \"\"\"\n",
    "        If ibrav = 0 read the cell parameters from the input file. \n",
    "        \"\"\"\n",
    "        import numpy as np\n",
    "        def rmchar(string,symbols): return ''.join([c for c in string if c not in symbols])\n",
    "        ibrav = int(self['system']['ibrav'])\n",
    "        if ibrav == 0:\n",
    "            if 'celldm(1)' in list(self['system'].keys()):\n",
    "                a = float(self['system']['celldm(1)'])\n",
    "            else:\n",
    "                a = 1\n",
    "            lines = iter(self.file_lines)\n",
    "            for line in lines:\n",
    "                if \"CELL_PARAMETERS\" in line:\n",
    "                    units = rmchar(line.strip(),'{}()').split()\n",
    "                    cell_parameters = [[],[],[]]\n",
    "                    if len(units) > 1:\n",
    "                        self['cell_units'] = units[1]\n",
    "                    else:\n",
    "                        self['cell_units'] = 'bohr'\n",
    "                    for i in range(3):\n",
    "                        cell_parameters[i] = [ float(x)*a for x in next(lines).split() ]\n",
    "            if self['cell_units'] == 'angstrom' or self['cell_units'] == 'bohr':\n",
    "                if 'celldm(1)' in self['system']: del self['system']['celldm(1)']\n",
    "            if 'celldm(1)' not in list(self['system'].keys()):\n",
    "                a = np.linalg.norm(cell_parameters[0])\n",
    "            self['cell_parameters'] = cell_parameters\n",
    "            \n",
    "    def read_kpoints(self):\n",
    "        lines = iter(self.file_lines)\n",
    "        #find K_POINTS keyword in file and read next line\n",
    "        for line in lines:\n",
    "            if \"K_POINTS\" in line:\n",
    "                #check if the type is automatic\n",
    "                if \"automatic\" in line:\n",
    "                    self['ktype'] = 'automatic'\n",
    "                    vals = list(map(float, next(lines).split()))\n",
    "                    self['kpoints'], self['shiftk'] = vals[0:3], vals[3:6]\n",
    "                else:\n",
    "                    nkpoints = int(lines.__next__().split()[0])\n",
    "                    self['ktype'] = line.split()[2]\n",
    "                    self['klist'] = []\n",
    "                    try:\n",
    "                        lines_list = list(lines)\n",
    "                        for n in range(nkpoints):\n",
    "                            vals = lines_list[n].split()[:4]\n",
    "                            self['klist'].append( list(map(float,vals)) )\n",
    "                    except IndexError:\n",
    "                        print('wrong k-points list format')\n",
    "                        exit()  \n",
    "                        \n",
    "    def stringify_group(self,group):\n",
    "        \"\"\"\n",
    "        Convert the elements of a group (control, system, electrons,...) in a string\n",
    "        with the proper QE input file format\n",
    "        \"\"\"\n",
    "        variables = self[group]\n",
    "        if variables != {}:\n",
    "            string='&%s\\n' %group\n",
    "            for var in sorted(variables):\n",
    "                string += \"%20s = %s\\n\" % (var, variables[var])\n",
    "            string += \"/&end\"\n",
    "            return string\n",
    "        else:\n",
    "            return ''\n",
    "        \n",
    "    def convert_string(self):\n",
    "        \"\"\"\n",
    "        Convert the input object into a string\n",
    "        \"\"\"\n",
    "        lines = []; app = lines.append\n",
    "        \n",
    "        for group in self._groups:\n",
    "            if group in self.keys():\n",
    "                app(self.stringify_group(group))\n",
    "                \n",
    "        #print atomic species\n",
    "        app( 'ATOMIC_SPECIES' )\n",
    "        for atype in self['atomic_species']:\n",
    "            app( \" %3s %8s %20s\" % (atype, self['atomic_species'][atype][0], self['atomic_species'][atype][1]) )\n",
    "        \n",
    "        #print atomic positions\n",
    "        app( 'ATOMIC_POSITIONS { %s }'%self['atomic_pos_type'] )\n",
    "        for atom in self['atomic_positions']:\n",
    "            app( '%3s %14.10lf %14.10lf %14.10lf' % (atom[0], atom[1][0], atom[1][1], atom[1][2]) )\n",
    "            \n",
    "        #print kpoints\n",
    "        app( \"K_POINTS { %s }\" % self['ktype'] )\n",
    "        if self['ktype'] == 'automatic':\n",
    "            app( (\"%3d\"*6)%(tuple(self['kpoints']) + tuple(self['shiftk'])) )\n",
    "        else:\n",
    "            app( \"%d\" % len(self['klist']) )\n",
    "            for kpt in self['klist']:\n",
    "                app( (\"%12.8lf \"*4)%tuple(kpt) )\n",
    "        \n",
    "        #print cell parameters\n",
    "        if int(self['system']['ibrav']) == 0:\n",
    "            app( \"CELL_PARAMETERS %s\"%self['cell_units'] )\n",
    "            app( (\"%14.10lf \"*3)%tuple(self['cell_parameters'][0]) )\n",
    "            app( (\"%14.10lf \"*3)%tuple(self['cell_parameters'][1]) )\n",
    "            app( (\"%14.10lf \"*3)%tuple(self['cell_parameters'][2]) )\n",
    "        \n",
    "        return '\\n'.join(lines)\n",
    "    "
   ]
  },
  {
   "cell_type": "code",
   "execution_count": null,
   "metadata": {},
   "outputs": [],
   "source": []
  },
  {
   "cell_type": "code",
   "execution_count": null,
   "metadata": {},
   "outputs": [],
   "source": []
  },
  {
   "cell_type": "code",
   "execution_count": null,
   "metadata": {},
   "outputs": [],
   "source": []
  },
  {
   "cell_type": "code",
   "execution_count": null,
   "metadata": {},
   "outputs": [],
   "source": []
  }
 ],
 "metadata": {
  "kernelspec": {
   "display_name": "Python 3",
   "language": "python",
   "name": "python3"
  },
  "language_info": {
   "codemirror_mode": {
    "name": "ipython",
    "version": 3
   },
   "file_extension": ".py",
   "mimetype": "text/x-python",
   "name": "python",
   "nbconvert_exporter": "python",
   "pygments_lexer": "ipython3",
   "version": "3.6.8"
  }
 },
 "nbformat": 4,
 "nbformat_minor": 2
}
