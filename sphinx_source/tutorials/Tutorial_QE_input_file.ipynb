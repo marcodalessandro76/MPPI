{
 "cells": [
  {
   "cell_type": "code",
   "execution_count": 1,
   "metadata": {},
   "outputs": [],
   "source": [
    "#from importlib import reload\n",
    "from mppi import InputFiles as I"
   ]
  },
  {
   "cell_type": "markdown",
   "metadata": {},
   "source": [
    "# Tutorial for the QeInput class"
   ]
  },
  {
   "cell_type": "markdown",
   "metadata": {},
   "source": [
    "This tutorial describes the  main features and the usage of the QeInput class that enables to create and\n",
    "manage the input files for the QuantumESPRESSO computations"
   ]
  },
  {
   "cell_type": "markdown",
   "metadata": {},
   "source": [
    "Create an empty input object from scratch"
   ]
  },
  {
   "cell_type": "code",
   "execution_count": 2,
   "metadata": {},
   "outputs": [],
   "source": [
    "#reload(I)"
   ]
  },
  {
   "cell_type": "code",
   "execution_count": 3,
   "metadata": {},
   "outputs": [
    {
     "data": {
      "text/plain": [
       "{'filename': None,\n",
       " 'control': {},\n",
       " 'system': {},\n",
       " 'electrons': {},\n",
       " 'atomic_species': {},\n",
       " 'atomic_positions': []}"
      ]
     },
     "execution_count": 3,
     "metadata": {},
     "output_type": "execute_result"
    }
   ],
   "source": [
    "inp1 = I.QeInput()\n",
    "inp1"
   ]
  },
  {
   "cell_type": "markdown",
   "metadata": {},
   "source": [
    "The attribute of the object can be updated using the standard procedure for python dictionaries or using \n",
    "specific methods (written in InputAction class???)"
   ]
  },
  {
   "cell_type": "code",
   "execution_count": 4,
   "metadata": {},
   "outputs": [],
   "source": [
    "inp1.update({'control':{'calculation':'scf'}})"
   ]
  },
  {
   "cell_type": "code",
   "execution_count": 5,
   "metadata": {},
   "outputs": [
    {
     "data": {
      "text/plain": [
       "{'filename': None,\n",
       " 'control': {'calculation': 'scf'},\n",
       " 'system': {},\n",
       " 'electrons': {},\n",
       " 'atomic_species': {},\n",
       " 'atomic_positions': []}"
      ]
     },
     "execution_count": 5,
     "metadata": {},
     "output_type": "execute_result"
    }
   ],
   "source": [
    "inp1"
   ]
  },
  {
   "cell_type": "markdown",
   "metadata": {},
   "source": [
    "Once completed the input object can be converted on string and written to file"
   ]
  },
  {
   "cell_type": "code",
   "execution_count": 6,
   "metadata": {},
   "outputs": [
    {
     "ename": "KeyError",
     "evalue": "'atomic_pos_type'",
     "output_type": "error",
     "traceback": [
      "\u001b[0;31m---------------------------------------------------------------------------\u001b[0m",
      "\u001b[0;31mKeyError\u001b[0m                                  Traceback (most recent call last)",
      "\u001b[0;32m<ipython-input-6-2f6b6d19b52d>\u001b[0m in \u001b[0;36m<module>\u001b[0;34m()\u001b[0m\n\u001b[0;32m----> 1\u001b[0;31m \u001b[0minp_tostring\u001b[0m \u001b[0;34m=\u001b[0m \u001b[0minp1\u001b[0m\u001b[0;34m.\u001b[0m\u001b[0mconvert_string\u001b[0m\u001b[0;34m(\u001b[0m\u001b[0;34m)\u001b[0m\u001b[0;34m\u001b[0m\u001b[0;34m\u001b[0m\u001b[0m\n\u001b[0m\u001b[1;32m      2\u001b[0m \u001b[0mprint\u001b[0m\u001b[0;34m(\u001b[0m\u001b[0minp_tostring\u001b[0m\u001b[0;34m)\u001b[0m\u001b[0;34m\u001b[0m\u001b[0;34m\u001b[0m\u001b[0m\n",
      "\u001b[0;32m~/.local/lib/python3.6/site-packages/mppi-1.1-py3.6.egg/mppi/InputFiles/QeInput.py\u001b[0m in \u001b[0;36mconvert_string\u001b[0;34m(self)\u001b[0m\n\u001b[1;32m     95\u001b[0m \u001b[0;34m\u001b[0m\u001b[0m\n\u001b[1;32m     96\u001b[0m         \u001b[0mself\u001b[0m\u001b[0;34m.\u001b[0m\u001b[0mstringify_atomic_species\u001b[0m\u001b[0;34m(\u001b[0m\u001b[0mlines\u001b[0m\u001b[0;34m)\u001b[0m\u001b[0;34m\u001b[0m\u001b[0;34m\u001b[0m\u001b[0m\n\u001b[0;32m---> 97\u001b[0;31m         \u001b[0mself\u001b[0m\u001b[0;34m.\u001b[0m\u001b[0mstringify_atomic_positions\u001b[0m\u001b[0;34m(\u001b[0m\u001b[0mlines\u001b[0m\u001b[0;34m)\u001b[0m\u001b[0;34m\u001b[0m\u001b[0;34m\u001b[0m\u001b[0m\n\u001b[0m\u001b[1;32m     98\u001b[0m         \u001b[0mself\u001b[0m\u001b[0;34m.\u001b[0m\u001b[0mstringify_kpoints\u001b[0m\u001b[0;34m(\u001b[0m\u001b[0mlines\u001b[0m\u001b[0;34m)\u001b[0m\u001b[0;34m\u001b[0m\u001b[0;34m\u001b[0m\u001b[0m\n\u001b[1;32m     99\u001b[0m         \u001b[0mself\u001b[0m\u001b[0;34m.\u001b[0m\u001b[0mstringify_cell_parameters\u001b[0m\u001b[0;34m(\u001b[0m\u001b[0mlines\u001b[0m\u001b[0;34m)\u001b[0m\u001b[0;34m\u001b[0m\u001b[0;34m\u001b[0m\u001b[0m\n",
      "\u001b[0;32m~/.local/lib/python3.6/site-packages/mppi-1.1-py3.6.egg/mppi/InputFiles/QeInput.py\u001b[0m in \u001b[0;36mstringify_atomic_positions\u001b[0;34m(self, line)\u001b[0m\n\u001b[1;32m    235\u001b[0m         \u001b[0;31m# except KeyError:\u001b[0m\u001b[0;34m\u001b[0m\u001b[0;34m\u001b[0m\u001b[0;34m\u001b[0m\u001b[0m\n\u001b[1;32m    236\u001b[0m         \u001b[0;31m#     print('Specify the ATOMIC_POSITIONS format')\u001b[0m\u001b[0;34m\u001b[0m\u001b[0;34m\u001b[0m\u001b[0;34m\u001b[0m\u001b[0m\n\u001b[0;32m--> 237\u001b[0;31m         \u001b[0mline\u001b[0m\u001b[0;34m.\u001b[0m\u001b[0mappend\u001b[0m\u001b[0;34m(\u001b[0m\u001b[0;34m'ATOMIC_POSITIONS { %s }'\u001b[0m\u001b[0;34m%\u001b[0m\u001b[0mself\u001b[0m\u001b[0;34m[\u001b[0m\u001b[0;34m'atomic_pos_type'\u001b[0m\u001b[0;34m]\u001b[0m\u001b[0;34m)\u001b[0m\u001b[0;34m\u001b[0m\u001b[0;34m\u001b[0m\u001b[0m\n\u001b[0m\u001b[1;32m    238\u001b[0m         \u001b[0;32mfor\u001b[0m \u001b[0matom\u001b[0m \u001b[0;32min\u001b[0m \u001b[0mself\u001b[0m\u001b[0;34m[\u001b[0m\u001b[0;34m'atomic_positions'\u001b[0m\u001b[0;34m]\u001b[0m\u001b[0;34m:\u001b[0m\u001b[0;34m\u001b[0m\u001b[0;34m\u001b[0m\u001b[0m\n\u001b[1;32m    239\u001b[0m             line.append('%3s %14.10lf %14.10lf %14.10lf'%\n",
      "\u001b[0;31mKeyError\u001b[0m: 'atomic_pos_type'"
     ]
    }
   ],
   "source": [
    "inp_tostring = inp1.convert_string()\n",
    "print(inp_tostring)"
   ]
  },
  {
   "cell_type": "markdown",
   "metadata": {},
   "source": [
    "Python gives a KeyError if some of the variables needed to write the file have not been defined."
   ]
  },
  {
   "cell_type": "markdown",
   "metadata": {},
   "source": [
    "Consider a second example in which the input is initialized from an existing input file"
   ]
  },
  {
   "cell_type": "code",
   "execution_count": 8,
   "metadata": {},
   "outputs": [
    {
     "data": {
      "text/plain": [
       "{'filename': 'IO_files/si_scf.in',\n",
       " 'control': {'verbosity': \"'high'\",\n",
       "  'pseudo_dir': \"'../pseudos'\",\n",
       "  'calculation': \"'scf'\",\n",
       "  'prefix': \"'ecut_10-k_3'\"},\n",
       " 'system': {'force_symmorphic': '.true.',\n",
       "  'occupations': \"'fixed'\",\n",
       "  'ibrav': '2',\n",
       "  'celldm(1)': '10.3',\n",
       "  'ntyp': '1',\n",
       "  'nat': '2',\n",
       "  'ecutwfc': '10'},\n",
       " 'electrons': {'conv_thr': '1e-08'},\n",
       " 'atomic_species': {'Si': ['28.086', 'Si.pbe-mt_fhi.UPF']},\n",
       " 'atomic_positions': [['Si', [0.125, 0.125, 0.125]],\n",
       "  ['Si', [-0.125, -0.125, -0.125]]],\n",
       " 'atomic_pos_type': 'crystal',\n",
       " 'ktype': 'automatic',\n",
       " 'kpoints': [3.0, 3.0, 3.0],\n",
       " 'shiftk': [0.0, 0.0, 0.0]}"
      ]
     },
     "execution_count": 8,
     "metadata": {},
     "output_type": "execute_result"
    }
   ],
   "source": [
    "inp2 = I.QeInput(filename='IO_files/si_scf.in')\n",
    "inp2"
   ]
  },
  {
   "cell_type": "markdown",
   "metadata": {},
   "source": [
    "The variables can be modified and we can display the input object on terminal in the QE format"
   ]
  },
  {
   "cell_type": "code",
   "execution_count": 9,
   "metadata": {},
   "outputs": [
    {
     "name": "stdout",
     "output_type": "stream",
     "text": [
      "&control\n",
      "         calculation = 'scf'\n",
      "              prefix = 'ecut_10-k_3'\n",
      "          pseudo_dir = '../pseudos'\n",
      "           verbosity = 'high'\n",
      "/&end\n",
      "&system\n",
      "           celldm(1) = 10.3\n",
      "             ecutwfc = 10\n",
      "    force_symmorphic = .true.\n",
      "               ibrav = 2\n",
      "                 nat = 2\n",
      "                ntyp = 1\n",
      "         occupations = 'fixed'\n",
      "/&end\n",
      "&electrons\n",
      "            conv_thr = 1e-08\n",
      "/&end\n",
      "ATOMIC_SPECIES\n",
      "  Si   28.086    Si.pbe-mt_fhi.UPF\n",
      "ATOMIC_POSITIONS { crystal }\n",
      " Si   0.1250000000   0.1250000000   0.1250000000\n",
      " Si  -0.1250000000  -0.1250000000  -0.1250000000\n",
      "K_POINTS { automatic }\n",
      "  3  3  3  0  0  0\n"
     ]
    }
   ],
   "source": [
    "inp_tostring = inp2.convert_string()\n",
    "print(inp_tostring)"
   ]
  },
  {
   "cell_type": "markdown",
   "metadata": {},
   "source": [
    "Finally, it can be writte on file"
   ]
  },
  {
   "cell_type": "code",
   "execution_count": 9,
   "metadata": {},
   "outputs": [],
   "source": [
    "inp2.write('IO_files/graphene_scf_modified.in')"
   ]
  },
  {
   "cell_type": "code",
   "execution_count": 10,
   "metadata": {},
   "outputs": [
    {
     "data": {
      "text/plain": [
       "{'filename': 'IO_files/graphene_nscf.in',\n",
       " 'control': {'verbosity': \"'high'\",\n",
       "  'calculation': \"'nscf'\",\n",
       "  'pseudo_dir': \"'../pseudos'\",\n",
       "  'prefix': \"'ecut\"},\n",
       " 'system': {'occupations': \"'smearing'\",\n",
       "  'smearing': \"'fermi-dirac'\",\n",
       "  'degauss': '0.0036749326',\n",
       "  'ibrav': '0',\n",
       "  'ntyp': '1',\n",
       "  'nat': '2',\n",
       "  'ecutwfc': '100',\n",
       "  'nbnd': '8'},\n",
       " 'electrons': {'conv_thr': '1e-08'},\n",
       " 'atomic_species': {'C': ['12.011', 'C_pbe-20082014.UPF']},\n",
       " 'atomic_positions': [['C', [0.0, 0.0, 0.0]], ['C', [0.0, 1.42, 0.0]]],\n",
       " 'atomic_pos_type': 'angstrom',\n",
       " 'cell_units': 'angstrom',\n",
       " 'cell_parameters': [[2.4595121467, 0.0, 0.0],\n",
       "  [1.2297560734, 2.13, 0.0],\n",
       "  [0.0, 0.0, 10.0]],\n",
       " 'ktype': 'tpiba_b',\n",
       " 'klist': [[0.0, 0.0, 0.0, 40.0],\n",
       "  [0.5, 0.28867513, 0.0, 40.0],\n",
       "  [0.66666667, 0.0, 0.0, 40.0],\n",
       "  [0.0, 0.0, 0.0, 0.0]]}"
      ]
     },
     "execution_count": 10,
     "metadata": {},
     "output_type": "execute_result"
    }
   ],
   "source": [
    "inp3 = I.QeInput(filename='IO_files/graphene_nscf.in')\n",
    "inp3"
   ]
  },
  {
   "cell_type": "code",
   "execution_count": 11,
   "metadata": {},
   "outputs": [
    {
     "name": "stdout",
     "output_type": "stream",
     "text": [
      "&control\n",
      "         calculation = 'nscf'\n",
      "              prefix = 'ecut\n",
      "          pseudo_dir = '../pseudos'\n",
      "           verbosity = 'high'\n",
      "/&end\n",
      "&system\n",
      "             degauss = 0.0036749326\n",
      "             ecutwfc = 100\n",
      "               ibrav = 0\n",
      "                 nat = 2\n",
      "                nbnd = 8\n",
      "                ntyp = 1\n",
      "         occupations = 'smearing'\n",
      "            smearing = 'fermi-dirac'\n",
      "/&end\n",
      "&electrons\n",
      "            conv_thr = 1e-08\n",
      "/&end\n",
      "ATOMIC_SPECIES\n",
      "   C   12.011   C_pbe-20082014.UPF\n",
      "ATOMIC_POSITIONS { angstrom }\n",
      "  C   0.0000000000   0.0000000000   0.0000000000\n",
      "  C   0.0000000000   1.4200000000   0.0000000000\n",
      "K_POINTS { tpiba_b }\n",
      "4\n",
      "  0.00000000   0.00000000   0.00000000  40.00000000 \n",
      "  0.50000000   0.28867513   0.00000000  40.00000000 \n",
      "  0.66666667   0.00000000   0.00000000  40.00000000 \n",
      "  0.00000000   0.00000000   0.00000000   0.00000000 \n",
      "CELL_PARAMETERS angstrom\n",
      "  2.4595121467   0.0000000000   0.0000000000 \n",
      "  1.2297560734   2.1300000000   0.0000000000 \n",
      "  0.0000000000   0.0000000000  10.0000000000 \n"
     ]
    }
   ],
   "source": [
    "bla = inp3.convert_string()\n",
    "print(bla)"
   ]
  },
  {
   "cell_type": "code",
   "execution_count": 12,
   "metadata": {},
   "outputs": [],
   "source": [
    "inp3.write('IO_files/graphene_nscf_mod.in')"
   ]
  },
  {
   "cell_type": "code",
   "execution_count": null,
   "metadata": {},
   "outputs": [],
   "source": []
  },
  {
   "cell_type": "code",
   "execution_count": 3,
   "metadata": {},
   "outputs": [],
   "source": [
    "from mppi.Utilities import Futile_utils as u"
   ]
  },
  {
   "cell_type": "code",
   "execution_count": null,
   "metadata": {},
   "outputs": [],
   "source": []
  },
  {
   "cell_type": "code",
   "execution_count": 6,
   "metadata": {},
   "outputs": [],
   "source": [
    "from mppi.Utilities import Futile_utils as f"
   ]
  },
  {
   "cell_type": "code",
   "execution_count": 2,
   "metadata": {},
   "outputs": [
    {
     "ename": "ImportError",
     "evalue": "cannot import name 'Runner'",
     "output_type": "error",
     "traceback": [
      "\u001b[0;31m---------------------------------------------------------------------------\u001b[0m",
      "\u001b[0;31mImportError\u001b[0m                               Traceback (most recent call last)",
      "\u001b[0;32m<ipython-input-2-fb44e82347bd>\u001b[0m in \u001b[0;36m<module>\u001b[0;34m()\u001b[0m\n\u001b[0;32m----> 1\u001b[0;31m \u001b[0;32mfrom\u001b[0m \u001b[0mmppi\u001b[0m \u001b[0;32mimport\u001b[0m \u001b[0mRunner\u001b[0m \u001b[0;32mas\u001b[0m \u001b[0mR\u001b[0m\u001b[0;34m\u001b[0m\u001b[0;34m\u001b[0m\u001b[0m\n\u001b[0m",
      "\u001b[0;31mImportError\u001b[0m: cannot import name 'Runner'"
     ]
    }
   ],
   "source": [
    "from mppi import Runner as R"
   ]
  },
  {
   "cell_type": "code",
   "execution_count": null,
   "metadata": {},
   "outputs": [],
   "source": []
  },
  {
   "cell_type": "code",
   "execution_count": null,
   "metadata": {},
   "outputs": [],
   "source": []
  }
 ],
 "metadata": {
  "kernelspec": {
   "display_name": "Python 3",
   "language": "python",
   "name": "python3"
  },
  "language_info": {
   "codemirror_mode": {
    "name": "ipython",
    "version": 3
   },
   "file_extension": ".py",
   "mimetype": "text/x-python",
   "name": "python",
   "nbconvert_exporter": "python",
   "pygments_lexer": "ipython3",
   "version": "3.6.8"
  }
 },
 "nbformat": 4,
 "nbformat_minor": 2
}
