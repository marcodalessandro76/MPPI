{
 "cells": [
  {
   "cell_type": "code",
   "execution_count": 1,
   "metadata": {},
   "outputs": [],
   "source": [
    "import numpy as np\n",
    "import os\n",
    "import matplotlib.pyplot as plt\n",
    "from importlib import reload\n",
    "from mppi import InputFiles as I, Calculators as C, Datasets as D"
   ]
  },
  {
   "cell_type": "markdown",
   "metadata": {},
   "source": [
    "# Analysis of the main functionality of the package"
   ]
  },
  {
   "cell_type": "markdown",
   "metadata": {},
   "source": [
    "We discuss some explicit example to describe the main features of the module"
   ]
  },
  {
   "cell_type": "markdown",
   "metadata": {},
   "source": [
    "## InputFiles module :  construction of the pw input file"
   ]
  },
  {
   "cell_type": "markdown",
   "metadata": {},
   "source": [
    "The Inputs module contains the PwIn class that allows us to built the input file of QuantumESPRESSO. \n",
    "The constructor of the class builds a the input object, the member of the class can be given and modified both using specific methods and/or by direct setting. \n",
    "\n",
    "Here we provide, as an example, the building of the input for Graphene:"
   ]
  },
  {
   "cell_type": "code",
   "execution_count": 2,
   "metadata": {},
   "outputs": [],
   "source": [
    "input = I.PwIn()"
   ]
  },
  {
   "cell_type": "code",
   "execution_count": 3,
   "metadata": {
    "scrolled": false
   },
   "outputs": [
    {
     "name": "stdout",
     "output_type": "stream",
     "text": [
      "&control\n",
      "           verbosity = 'high'\n",
      "         calculation = 'scf'\n",
      "          pseudo_dir = '../pseudos'\n",
      "              prefix = 'data'\n",
      "/&end\n",
      "&system\n",
      "               ibrav = 0\n",
      "                ntyp = 1\n",
      "                 nat = 2\n",
      "             ecutwfc = 80\n",
      "/&end\n",
      "&electrons\n",
      "            conv_thr = 1e-08\n",
      "/&end\n",
      "ATOMIC_SPECIES\n",
      "   C   12.011   C_pbe-20082014.UPF\n",
      "ATOMIC_POSITIONS { angstrom }\n",
      "  C   0.0000000000   0.0000000000   0.0000000000\n",
      "  C   0.0000000000   1.4200000000   0.0000000000\n",
      "K_POINTS { automatic }\n",
      "  6  6  1  0  0  0\n",
      "CELL_PARAMETERS angstrom\n",
      "  2.4595121467   0.0000000000   0.0000000000 \n",
      "  1.2297560734   2.1300000000   0.0000000000 \n",
      "  0.0000000000   0.0000000000  10.0000000000 \n",
      "\n"
     ]
    }
   ],
   "source": [
    "k = 6\n",
    "ecut = 80\n",
    "a0 = 1.42\n",
    "planeSep  = 10.0\n",
    "A = [0.,0.,0.]\n",
    "B = [0.,a0,0.]\n",
    "a1 = [a0*np.sqrt(3),0.,0.]\n",
    "a2 = [a0*np.sqrt(3)/2,a0*3./2,0.]\n",
    "a3 = [0.,0.,planeSep]\n",
    "\n",
    "input.set_calculation('scf')\n",
    "input.set_pseudo_dir('../pseudos')\n",
    "input.set_prefix('data')\n",
    "input.system['ibrav'] = 0\n",
    "input.cell_parameters =[a1,a2,a3]\n",
    "input.set_atoms_type(1)\n",
    "input.set_atoms_number(2)\n",
    "input.set_atoms_position(pos_type='angstrom',pos_list=[['C',A],['C',B]])\n",
    "input.atypes = {'C': [12.011,'C_pbe-20082014.UPF']}\n",
    "input.set_convergence_thr(1e-8)\n",
    "input.set_kpoints(ktype='automatic',kpoints=[k,k,1])\n",
    "input.set_energy_cutoff(ecut)\n",
    "\n",
    "print(input)"
   ]
  },
  {
   "cell_type": "markdown",
   "metadata": {},
   "source": [
    "The input object can be written on file using the write method of PwIn"
   ]
  },
  {
   "cell_type": "code",
   "execution_count": 4,
   "metadata": {},
   "outputs": [],
   "source": [
    "test_dir = 'test_dir'\n",
    "if not os.path.isdir(test_dir): os.mkdir(test_dir)"
   ]
  },
  {
   "cell_type": "code",
   "execution_count": 5,
   "metadata": {},
   "outputs": [],
   "source": [
    "input.write(test_dir+'/'+'input.in')"
   ]
  },
  {
   "cell_type": "markdown",
   "metadata": {},
   "source": [
    "This class allows us also to create an instance of PwIn starting from an existing file"
   ]
  },
  {
   "cell_type": "code",
   "execution_count": 6,
   "metadata": {},
   "outputs": [
    {
     "name": "stdout",
     "output_type": "stream",
     "text": [
      "&control\n",
      "           verbosity = 'high'\n",
      "         calculation = 'scf'\n",
      "          pseudo_dir = '../pseudos'\n",
      "              prefix = 'data'\n",
      "/&end\n",
      "&system\n",
      "               ibrav = 0\n",
      "                ntyp = 1\n",
      "                 nat = 2\n",
      "             ecutwfc = 80\n",
      "/&end\n",
      "&electrons\n",
      "            conv_thr = 1e-08\n",
      "/&end\n",
      "ATOMIC_SPECIES\n",
      "   C   12.011   C_pbe-20082014.UPF\n",
      "ATOMIC_POSITIONS { angstrom }\n",
      "  C   0.0000000000   0.0000000000   0.0000000000\n",
      "  C   0.0000000000   1.4200000000   0.0000000000\n",
      "K_POINTS { automatic }\n",
      "  6  6  1  0  0  0\n",
      "CELL_PARAMETERS angstrom\n",
      "  2.4595121467   0.0000000000   0.0000000000 \n",
      "  1.2297560734   2.1300000000   0.0000000000 \n",
      "  0.0000000000   0.0000000000  10.0000000000 \n",
      "\n"
     ]
    }
   ],
   "source": [
    "input2 = I.PwIn(test_dir+'/'+'input.in')\n",
    "print(input2)"
   ]
  },
  {
   "cell_type": "markdown",
   "metadata": {},
   "source": [
    "## InputFiles module :  construction of the Yambo input file"
   ]
  },
  {
   "cell_type": "markdown",
   "metadata": {},
   "source": [
    "To build the input file the SAVE folder is needed by Yambo, so we use the yambo_test folder where a SAVE directory has been copied.\n",
    "\n",
    "The approach used to deal with yambo input files is to call yamboIn with the specific run level. Yambo build a base input file that calls 'yambo.in'. The parameters of the input can be set and the updated file can be written on disk with its specific name."
   ]
  },
  {
   "cell_type": "code",
   "execution_count": 9,
   "metadata": {},
   "outputs": [],
   "source": [
    "fold = 'yambo_test'\n",
    "fname = 'yambo_test.in'\n",
    "\n",
    "y = I.YamboIn('yambo -x -V rl',folder=fold)\n",
    "y['EXXRLvcs'] = [1000.0*20,'mHa']\n",
    "krange = y['QPkrange'][0][:2]\n",
    "kbandrange = krange + [1,10]\n",
    "y['QPkrange'] = [kbandrange,'']\n",
    "y.write(fold+'/'+fname)"
   ]
  },
  {
   "cell_type": "code",
   "execution_count": 10,
   "metadata": {},
   "outputs": [
    {
     "name": "stdout",
     "output_type": "stream",
     "text": [
      "HF_and_locXC\n",
      "FFTGvecs = 941.000000 RL\n",
      "SE_Threads = 0.000000e+00 \n",
      "EXXRLvcs = 20000.000000 mHa\n",
      "% QPkrange\n",
      " 1 | 4 | 1 | 10 |   \n",
      "%\n",
      "\n"
     ]
    }
   ],
   "source": [
    "print(y)"
   ]
  },
  {
   "cell_type": "markdown",
   "metadata": {},
   "source": [
    "## Calculators module : a calculator object for QuantumESPRESSO"
   ]
  },
  {
   "cell_type": "markdown",
   "metadata": {},
   "source": [
    "Initialize the calculator"
   ]
  },
  {
   "cell_type": "code",
   "execution_count": 7,
   "metadata": {},
   "outputs": [
    {
     "name": "stdout",
     "output_type": "stream",
     "text": [
      "Initialize a qe calculator with command OMP_NUM_THREADS=1 mpirun -np 4 pw.x\n"
     ]
    }
   ],
   "source": [
    "code = C.QeCalculator(omp=1,mpi_run='mpirun -np 4',executable='pw.x',verbose=True,skip=False)"
   ]
  },
  {
   "cell_type": "markdown",
   "metadata": {},
   "source": [
    "Specifies the input object, the name of the file and the run_dir, if post_processing is True the .run returns an instance of the pw_out method of qepppy and contains the results of the computation"
   ]
  },
  {
   "cell_type": "code",
   "execution_count": 8,
   "metadata": {},
   "outputs": [
    {
     "name": "stdout",
     "output_type": "stream",
     "text": [
      "execute : cd pw_run ; OMP_NUM_THREADS=1 mpirun -np 4 pw.x -inp test.in > test.log\n"
     ]
    }
   ],
   "source": [
    "results = code.run(input=input,name='test',run_dir='pw_run',post_processing=True)"
   ]
  },
  {
   "cell_type": "markdown",
   "metadata": {},
   "source": [
    "Extract the total energy (in Hartree)"
   ]
  },
  {
   "cell_type": "code",
   "execution_count": 9,
   "metadata": {},
   "outputs": [
    {
     "data": {
      "text/plain": [
       "-11.40037440619968"
      ]
     },
     "execution_count": 9,
     "metadata": {},
     "output_type": "execute_result"
    }
   ],
   "source": [
    "results.E_tot"
   ]
  },
  {
   "cell_type": "markdown",
   "metadata": {},
   "source": [
    "A lot of quantities can be extracted from results, for instance"
   ]
  },
  {
   "cell_type": "code",
   "execution_count": 10,
   "metadata": {},
   "outputs": [
    {
     "data": {
      "text/plain": [
       "4.647804377769"
      ]
     },
     "execution_count": 10,
     "metadata": {},
     "output_type": "execute_result"
    }
   ],
   "source": [
    "results.alat #atomic units = angstrom/0.529177211"
   ]
  },
  {
   "cell_type": "code",
   "execution_count": 11,
   "metadata": {},
   "outputs": [
    {
     "data": {
      "text/plain": [
       "array([[0.        , 0.        , 0.        ],\n",
       "       [0.        , 2.68341111, 0.        ]])"
      ]
     },
     "execution_count": 11,
     "metadata": {},
     "output_type": "execute_result"
    }
   ],
   "source": [
    "results.atoms_coord_cart # in which units ?????"
   ]
  },
  {
   "cell_type": "code",
   "execution_count": 12,
   "metadata": {},
   "outputs": [
    {
     "name": "stderr",
     "output_type": "stream",
     "text": [
      "No handles with labels found to put in legend.\n"
     ]
    },
    {
     "data": {
      "image/png": "[encoded data removed]",
      "text/plain": [
       "<Figure size 432x288 with 1 Axes>"
      ]
     },
     "metadata": {},
     "output_type": "display_data"
    },
    {
     "data": {
      "text/plain": [
       "array([[-20.   ,   0.   ],\n",
       "       [-19.999,   0.   ],\n",
       "       [-19.998,   0.   ],\n",
       "       ...,\n",
       "       [ 19.998,   0.   ],\n",
       "       [ 19.999,   0.   ],\n",
       "       [ 20.   ,   0.   ]])"
      ]
     },
     "execution_count": 12,
     "metadata": {},
     "output_type": "execute_result"
    }
   ],
   "source": [
    "#pFile : option to enable/disable file save\n",
    "#fname : output file name\n",
    "results.density_of_states(pFile=False)"
   ]
  },
  {
   "cell_type": "markdown",
   "metadata": {},
   "source": [
    "## Dataset module : how to manage several calculations"
   ]
  },
  {
   "cell_type": "markdown",
   "metadata": {},
   "source": [
    "Show the functionality of this module by performing a convergence test for the ground state in function of the number of k-points and of the energy cutoff"
   ]
  },
  {
   "cell_type": "code",
   "execution_count": 13,
   "metadata": {},
   "outputs": [
    {
     "name": "stdout",
     "output_type": "stream",
     "text": [
      "Initialize a qe calculator with command OMP_NUM_THREADS=1 mpirun -np 4 pw.x\n"
     ]
    }
   ],
   "source": [
    "code = C.QeCalculator(omp=1,mpi_run='mpirun -np 4',executable='pw.x',verbose=True,skip=True)"
   ]
  },
  {
   "cell_type": "code",
   "execution_count": 14,
   "metadata": {},
   "outputs": [],
   "source": [
    "study = D.Dataset(label='gs_convergence',run_dir='gs_convergence')"
   ]
  },
  {
   "cell_type": "code",
   "execution_count": 15,
   "metadata": {},
   "outputs": [],
   "source": [
    "kpoints = [3,6,9,12]\n",
    "ecut = [40,60,80,100]"
   ]
  },
  {
   "cell_type": "code",
   "execution_count": 16,
   "metadata": {},
   "outputs": [],
   "source": [
    "for k in kpoints:\n",
    "    for e in ecut:\n",
    "        idd = {'k' : k, 'ecut' : e} \n",
    "        input.set_prefix(D.name_from_id(idd))\n",
    "        input.set_kpoints(ktype='automatic',kpoints=[k,k,1])\n",
    "        input.set_energy_cutoff(e)\n",
    "        study.append_run(id=idd,calculator=code,input=input)"
   ]
  },
  {
   "cell_type": "markdown",
   "metadata": {},
   "source": [
    "The paramaters of the dataset are given as follows, for instance"
   ]
  },
  {
   "cell_type": "code",
   "execution_count": 17,
   "metadata": {},
   "outputs": [
    {
     "name": "stdout",
     "output_type": "stream",
     "text": [
      "['ecut:40,k:3', 'ecut:60,k:3', 'ecut:80,k:3', 'ecut:100,k:3', 'ecut:40,k:6', 'ecut:60,k:6', 'ecut:80,k:6', 'ecut:100,k:6', 'ecut:40,k:9', 'ecut:60,k:9', 'ecut:80,k:9', 'ecut:100,k:9', 'ecut:40,k:12', 'ecut:60,k:12', 'ecut:80,k:12', 'ecut:100,k:12']\n",
      "[{'k': 3, 'ecut': 40}, {'k': 3, 'ecut': 60}, {'k': 3, 'ecut': 80}, {'k': 3, 'ecut': 100}, {'k': 6, 'ecut': 40}, {'k': 6, 'ecut': 60}, {'k': 6, 'ecut': 80}, {'k': 6, 'ecut': 100}, {'k': 9, 'ecut': 40}, {'k': 9, 'ecut': 60}, {'k': 9, 'ecut': 80}, {'k': 9, 'ecut': 100}, {'k': 12, 'ecut': 40}, {'k': 12, 'ecut': 60}, {'k': 12, 'ecut': 80}, {'k': 12, 'ecut': 100}]\n",
      "[{'calc': <mppi.Calculators.Calculators.QeCalculator object at 0x7fdae677cd68>, 'runs': [0, 1, 2, 3, 4, 5, 6, 7, 8, 9, 10, 11, 12, 13, 14, 15]}]\n",
      "&control\n",
      "           verbosity = 'high'\n",
      "         calculation = 'scf'\n",
      "          pseudo_dir = '../pseudos'\n",
      "              prefix = 'ecut:100,k:3'\n",
      "/&end\n",
      "&system\n",
      "               ibrav = 0\n",
      "                ntyp = 1\n",
      "                 nat = 2\n",
      "             ecutwfc = 100\n",
      "/&end\n",
      "&electrons\n",
      "            conv_thr = 1e-08\n",
      "/&end\n",
      "ATOMIC_SPECIES\n",
      "   C   12.011   C_pbe-20082014.UPF\n",
      "ATOMIC_POSITIONS { angstrom }\n",
      "  C   0.0000000000   0.0000000000   0.0000000000\n",
      "  C   0.0000000000   1.4200000000   0.0000000000\n",
      "K_POINTS { automatic }\n",
      "  3  3  1  0  0  0\n",
      "CELL_PARAMETERS angstrom\n",
      "  2.4595121467   0.0000000000   0.0000000000 \n",
      "  1.2297560734   2.1300000000   0.0000000000 \n",
      "  0.0000000000   0.0000000000  10.0000000000 \n",
      "\n"
     ]
    }
   ],
   "source": [
    "print(study.names)\n",
    "print(study.ids)\n",
    "print(study.calculators)\n",
    "print(study.runs[3])"
   ]
  },
  {
   "cell_type": "code",
   "execution_count": 18,
   "metadata": {},
   "outputs": [
    {
     "name": "stdout",
     "output_type": "stream",
     "text": [
      "skip the computation for : ecut:40,k:3.log\n",
      "skip the computation for : ecut:60,k:3.log\n",
      "skip the computation for : ecut:80,k:3.log\n",
      "skip the computation for : ecut:100,k:3.log\n",
      "skip the computation for : ecut:40,k:6.log\n",
      "skip the computation for : ecut:60,k:6.log\n",
      "skip the computation for : ecut:80,k:6.log\n",
      "skip the computation for : ecut:100,k:6.log\n",
      "skip the computation for : ecut:40,k:9.log\n",
      "skip the computation for : ecut:60,k:9.log\n",
      "skip the computation for : ecut:80,k:9.log\n",
      "skip the computation for : ecut:100,k:9.log\n",
      "skip the computation for : ecut:40,k:12.log\n",
      "skip the computation for : ecut:60,k:12.log\n",
      "skip the computation for : ecut:80,k:12.log\n",
      "skip the computation for : ecut:100,k:12.log\n"
     ]
    }
   ],
   "source": [
    "results = study.run(post_processing=True)"
   ]
  },
  {
   "cell_type": "markdown",
   "metadata": {},
   "source": [
    "## Dataset module : post_processing of data"
   ]
  },
  {
   "cell_type": "markdown",
   "metadata": {},
   "source": [
    "All the results of the dataset are stored in study.results as a dictionary"
   ]
  },
  {
   "cell_type": "code",
   "execution_count": 20,
   "metadata": {},
   "outputs": [
    {
     "data": {
      "text/plain": [
       "{0: <qepppy.qe.pw_out.pw_out at 0x7fdae67151d0>,\n",
       " 1: <qepppy.qe.pw_out.pw_out at 0x7fdae6670f60>,\n",
       " 2: <qepppy.qe.pw_out.pw_out at 0x7fdae66c3ef0>,\n",
       " 3: <qepppy.qe.pw_out.pw_out at 0x7fdae6670550>,\n",
       " 4: <qepppy.qe.pw_out.pw_out at 0x7fdae66e4048>,\n",
       " 5: <qepppy.qe.pw_out.pw_out at 0x7fdae66c39e8>,\n",
       " 6: <qepppy.qe.pw_out.pw_out at 0x7fdae6715208>,\n",
       " 7: <qepppy.qe.pw_out.pw_out at 0x7fdae66e4c88>,\n",
       " 8: <qepppy.qe.pw_out.pw_out at 0x7fdae679a1d0>,\n",
       " 9: <qepppy.qe.pw_out.pw_out at 0x7fdae66d2d30>,\n",
       " 10: <qepppy.qe.pw_out.pw_out at 0x7fdae6699eb8>,\n",
       " 11: <qepppy.qe.pw_out.pw_out at 0x7fdae87b3b70>,\n",
       " 12: <qepppy.qe.pw_out.pw_out at 0x7fdae66e4ba8>,\n",
       " 13: <qepppy.qe.pw_out.pw_out at 0x7fdae6670eb8>,\n",
       " 14: <qepppy.qe.pw_out.pw_out at 0x7fdae66d21d0>,\n",
       " 15: <qepppy.qe.pw_out.pw_out at 0x7fdae6641438>}"
      ]
     },
     "execution_count": 20,
     "metadata": {},
     "output_type": "execute_result"
    }
   ],
   "source": [
    "study.results"
   ]
  },
  {
   "cell_type": "markdown",
   "metadata": {},
   "source": [
    "To identify the correspondence between the element of study.results and the id, we have to look the position of the study in the ids list and select the associated element of the results dictionary"
   ]
  },
  {
   "cell_type": "code",
   "execution_count": 21,
   "metadata": {},
   "outputs": [
    {
     "data": {
      "text/plain": [
       "[{'k': 3, 'ecut': 40},\n",
       " {'k': 3, 'ecut': 60},\n",
       " {'k': 3, 'ecut': 80},\n",
       " {'k': 3, 'ecut': 100},\n",
       " {'k': 6, 'ecut': 40},\n",
       " {'k': 6, 'ecut': 60},\n",
       " {'k': 6, 'ecut': 80},\n",
       " {'k': 6, 'ecut': 100},\n",
       " {'k': 9, 'ecut': 40},\n",
       " {'k': 9, 'ecut': 60},\n",
       " {'k': 9, 'ecut': 80},\n",
       " {'k': 9, 'ecut': 100},\n",
       " {'k': 12, 'ecut': 40},\n",
       " {'k': 12, 'ecut': 60},\n",
       " {'k': 12, 'ecut': 80},\n",
       " {'k': 12, 'ecut': 100}]"
      ]
     },
     "execution_count": 21,
     "metadata": {},
     "output_type": "execute_result"
    }
   ],
   "source": [
    "study.ids"
   ]
  },
  {
   "cell_type": "code",
   "execution_count": 28,
   "metadata": {},
   "outputs": [
    {
     "name": "stdout",
     "output_type": "stream",
     "text": [
      "-22.70184777668358\n",
      "-22.80443990263086\n"
     ]
    }
   ],
   "source": [
    "# For instance extract the total energy in two cases and compare with the values in the log files\n",
    "# to check that the extraction procedure is correct\n",
    "# energy of {'k': 3, 'ecut': 40}\n",
    "print(2*study.results[0].E_tot)\n",
    "# energy of {'k': 12, 'ecut': 80}\n",
    "print(2*study.results[14].E_tot)"
   ]
  },
  {
   "cell_type": "markdown",
   "metadata": {},
   "source": [
    "The fetch_results method of Dataset can be used to extract a quantity, for instance the total energy E_tot,for a subset of the Dataset elements specified by a dictionary, as follows"
   ]
  },
  {
   "cell_type": "code",
   "execution_count": 12,
   "metadata": {},
   "outputs": [
    {
     "data": {
      "text/plain": [
       "[-11.35092388834179,\n",
       " -11.37186320611442,\n",
       " -11.37341431882221,\n",
       " -11.37382494507814]"
      ]
     },
     "execution_count": 12,
     "metadata": {},
     "output_type": "execute_result"
    }
   ],
   "source": [
    "data=study.fetch_results(id={'ecut': 40},attribute='E_tot')\n",
    "data"
   ]
  },
  {
   "cell_type": "markdown",
   "metadata": {},
   "source": [
    "It can also be used to plot the usual convergence analysis"
   ]
  },
  {
   "cell_type": "code",
   "execution_count": 13,
   "metadata": {},
   "outputs": [
    {
     "data": {
      "image/png": "[encoded data removed]",
      "text/plain": [
       "<Figure size 432x288 with 1 Axes>"
      ]
     },
     "metadata": {},
     "output_type": "display_data"
    }
   ],
   "source": [
    "for k in kpoints:\n",
    "    data=study.fetch_results(id={'k': k},attribute='E_tot')\n",
    "    plt.plot(ecut,data,label='k='+str(k))\n",
    "plt.title(study.label)\n",
    "plt.legend()\n",
    "plt.show()\n",
    "    "
   ]
  },
  {
   "cell_type": "markdown",
   "metadata": {},
   "source": [
    "## Dataset module : pre_processing function"
   ]
  },
  {
   "cell_type": "markdown",
   "metadata": {},
   "source": [
    "In some cases it is useful to perform some preliminary operations before running a computation. For instance before performing a QE nscf computation we need copy of the scf save folder in the appropriate location, we have to prepare the SAVE folder before a Yambo computation.\n",
    "\n",
    "For this reason we introduce a pre_processing function that perform the needed operations using the parameters passed to constructor of the dataset object. "
   ]
  },
  {
   "cell_type": "markdown",
   "metadata": {},
   "source": [
    "We discuss this functionality by considering a dataset of nscf computations peformed using a subset of values of kpoints and ecut previously defined. "
   ]
  },
  {
   "cell_type": "code",
   "execution_count": 40,
   "metadata": {},
   "outputs": [
    {
     "name": "stdout",
     "output_type": "stream",
     "text": [
      "Initialize a qe calculator with command OMP_NUM_THREADS=1 mpirun -np 4 pw.x\n"
     ]
    }
   ],
   "source": [
    "code = C.QeCalculator(omp=1,mpi_run='mpirun -np 4',executable='pw.x',verbose=True,skip=False)"
   ]
  },
  {
   "cell_type": "code",
   "execution_count": 41,
   "metadata": {},
   "outputs": [],
   "source": [
    "nscf_study = D.Dataset(label='nscf_analysis',run_dir='nscf',pre_processing='nscf',source_dir='gs_convergence')"
   ]
  },
  {
   "cell_type": "markdown",
   "metadata": {},
   "source": [
    "The parameters for the pre_processing are stored in the kwargs elements of the class"
   ]
  },
  {
   "cell_type": "code",
   "execution_count": 46,
   "metadata": {},
   "outputs": [
    {
     "data": {
      "text/plain": [
       "{'pre_processing': 'nscf', 'source_dir': 'gs_convergence'}"
      ]
     },
     "execution_count": 46,
     "metadata": {},
     "output_type": "execute_result"
    }
   ],
   "source": [
    "nscf_study.kwargs"
   ]
  },
  {
   "cell_type": "code",
   "execution_count": 43,
   "metadata": {},
   "outputs": [],
   "source": [
    "nscf_kpoints = [3,6,9]\n",
    "nscf_ecut = 100"
   ]
  },
  {
   "cell_type": "markdown",
   "metadata": {},
   "source": [
    "Append the chosen nscf computations to the dataset, note that the prefix of these computations have to be the same of the scf ones"
   ]
  },
  {
   "cell_type": "code",
   "execution_count": 44,
   "metadata": {},
   "outputs": [],
   "source": [
    "input.set_calculation('nscf')\n",
    "input.system['nbnd'] = 16\n",
    "\n",
    "for k in nscf_kpoints:\n",
    "    idd = {'k' : k, 'ecut' : nscf_ecut} \n",
    "    input.set_prefix(D.name_from_id(idd))\n",
    "    input.set_kpoints(ktype='automatic',kpoints=[k,k,1])\n",
    "    input.set_energy_cutoff(nscf_ecut)\n",
    "    nscf_study.append_run(id=idd,calculator=code,input=input)"
   ]
  },
  {
   "cell_type": "code",
   "execution_count": 45,
   "metadata": {},
   "outputs": [
    {
     "name": "stdout",
     "output_type": "stream",
     "text": [
      "nscf save folder already exsists. Save folder NOT COPIED\n",
      "nscf save folder already exsists. Save folder NOT COPIED\n",
      "nscf save folder already exsists. Save folder NOT COPIED\n",
      "execute : cd nscf ; OMP_NUM_THREADS=1 mpirun -np 4 pw.x -inp ecut:100,k:3.in > ecut:100,k:3.log\n",
      "execute : cd nscf ; OMP_NUM_THREADS=1 mpirun -np 4 pw.x -inp ecut:100,k:6.in > ecut:100,k:6.log\n",
      "execute : cd nscf ; OMP_NUM_THREADS=1 mpirun -np 4 pw.x -inp ecut:100,k:9.in > ecut:100,k:9.log\n"
     ]
    }
   ],
   "source": [
    "nscf_study.run()"
   ]
  },
  {
   "cell_type": "markdown",
   "metadata": {},
   "source": [
    "COMMENT : With this implementation of the pre_processing function the ids and prefix of the nscf dataset need to have the same structure of the scf ones, maybe this could be too restrictive in some cases...."
   ]
  },
  {
   "cell_type": "code",
   "execution_count": null,
   "metadata": {},
   "outputs": [],
   "source": []
  },
  {
   "cell_type": "code",
   "execution_count": null,
   "metadata": {},
   "outputs": [],
   "source": []
  },
  {
   "cell_type": "code",
   "execution_count": null,
   "metadata": {},
   "outputs": [],
   "source": []
  },
  {
   "cell_type": "code",
   "execution_count": null,
   "metadata": {},
   "outputs": [],
   "source": []
  },
  {
   "cell_type": "code",
   "execution_count": null,
   "metadata": {},
   "outputs": [],
   "source": []
  }
 ],
 "metadata": {
  "kernelspec": {
   "display_name": "Python 3",
   "language": "python",
   "name": "python3"
  },
  "language_info": {
   "codemirror_mode": {
    "name": "ipython",
    "version": 3
   },
   "file_extension": ".py",
   "mimetype": "text/x-python",
   "name": "python",
   "nbconvert_exporter": "python",
   "pygments_lexer": "ipython3",
   "version": "3.6.7"
  }
 },
 "nbformat": 4,
 "nbformat_minor": 2
}
