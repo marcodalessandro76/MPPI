{
 "cells": [
  {
   "cell_type": "code",
   "execution_count": 1,
   "metadata": {},
   "outputs": [],
   "source": [
    "import numpy as np\n",
    "import matplotlib.pyplot as plt\n",
    "from importlib import reload\n",
    "from mppi import InputFiles as I, Calculators as C, Datasets as D"
   ]
  },
  {
   "cell_type": "markdown",
   "metadata": {},
   "source": [
    "# Analysis of the main functionality of the package"
   ]
  },
  {
   "cell_type": "markdown",
   "metadata": {},
   "source": [
    "We discuss some explicit example to describe the main features of the module"
   ]
  },
  {
   "cell_type": "markdown",
   "metadata": {},
   "source": [
    "## Inputs module :  construction of the pw input file"
   ]
  },
  {
   "cell_type": "markdown",
   "metadata": {},
   "source": [
    "The Inputs module contains the PwIn class that allows us to built the input file of QuantumESPRESSO. \n",
    "The constructor of the class builds a generic input object with some 'standard' parameters that can be modified lately"
   ]
  },
  {
   "cell_type": "code",
   "execution_count": 2,
   "metadata": {},
   "outputs": [
    {
     "name": "stdout",
     "output_type": "stream",
     "text": [
      "&control\n",
      "          wf_collect = .true.\n",
      "          pseudo_dir = '../pseudos'\n",
      "        restart_mode = 'from_scratch'\n",
      "           verbosity = 'high'\n",
      "              prefix = 'out_dir'\n",
      "/&end\n",
      "&system\n",
      "               ibrav = 4\n",
      "/&end\n",
      "ATOMIC_SPECIES\n",
      "ATOMIC_POSITIONS { angstrom }\n",
      "K_POINTS { automatic }\n",
      "  1  1  1  0  0  0\n",
      "\n"
     ]
    }
   ],
   "source": [
    "input = I.PwIn()\n",
    "print(input)"
   ]
  },
  {
   "cell_type": "markdown",
   "metadata": {},
   "source": [
    "A typical input for the computation of the Graphene can be built as follows"
   ]
  },
  {
   "cell_type": "code",
   "execution_count": 3,
   "metadata": {},
   "outputs": [
    {
     "name": "stdout",
     "output_type": "stream",
     "text": [
      "&control\n",
      "          wf_collect = .true.\n",
      "          pseudo_dir = '../pseudos'\n",
      "        restart_mode = 'from_scratch'\n",
      "           verbosity = 'high'\n",
      "              prefix = 'out_dir'\n",
      "/&end\n",
      "&system\n",
      "               ibrav = 0\n",
      "                 nat = 2\n",
      "         occupations = 'smearing'\n",
      "            smearing = 'fermi-dirac'\n",
      "             degauss = 0.0036749326\n",
      "                ntyp = 1\n",
      "             ecutwfc = 60\n",
      "/&end\n",
      "&electrons\n",
      "            conv_thr = 1e-08\n",
      "/&end\n",
      "ATOMIC_SPECIES\n",
      "   C   12.011   C_pbe-20082014.UPF\n",
      "ATOMIC_POSITIONS { angstrom }\n",
      "  C   0.0000000000   0.0000000000   0.0000000000\n",
      "  C   0.0000000000   1.4200000000   0.0000000000\n",
      "K_POINTS { automatic }\n",
      "  6  6  1  0  0  0\n",
      "CELL_PARAMETERS angstrom\n",
      "  2.4595121467   0.0000000000   0.0000000000 \n",
      "  1.2297560734   2.1300000000   0.0000000000 \n",
      "  0.0000000000   0.0000000000  10.0000000000 \n",
      "\n"
     ]
    }
   ],
   "source": [
    "# set the relevant parameters\n",
    "a0 = 1.42 #angstrom\n",
    "planeSep  = 10.0\n",
    "k = 6\n",
    "e_cut = 60\n",
    "a1 = [a0*np.sqrt(3),0.,0.]\n",
    "a2 = [a0*np.sqrt(3)/2,a0*3./2,0.]\n",
    "a3 = [0.,0.,planeSep]\n",
    "A = [0.,0.,0.]\n",
    "B = [0.,a0,0.]\n",
    "\n",
    "input.atoms= [['C',A],['C',B]]\n",
    "input.atypes = {'C': [12.011,\"C_pbe-20082014.UPF\"]}\n",
    "input.system['nat'] = 2\n",
    "input.system['occupations'] = \"'smearing'\"\n",
    "input.system['smearing'] = \"'fermi-dirac'\"\n",
    "input.system['degauss'] = 0.0036749326\n",
    "input.system['ntyp'] = 1\n",
    "input.system['ibrav'] = 0\n",
    "input.electrons['conv_thr'] = 1e-8\n",
    "input.kpoints = [k,k,1]\n",
    "input.system['ecutwfc'] = e_cut\n",
    "input.cell_parameters =[a1,a2,a3]\n",
    "print(input)"
   ]
  },
  {
   "cell_type": "markdown",
   "metadata": {},
   "source": [
    "TODO : show how this module is able to open an existing file "
   ]
  },
  {
   "cell_type": "markdown",
   "metadata": {},
   "source": [
    "TODO : define a method that is able to update the input by passing the variables as a dictionary"
   ]
  },
  {
   "cell_type": "markdown",
   "metadata": {},
   "source": [
    "## Calculators module : a calculator object for QuantumESPRESSO"
   ]
  },
  {
   "cell_type": "markdown",
   "metadata": {},
   "source": [
    "Initialize the calculator"
   ]
  },
  {
   "cell_type": "code",
   "execution_count": 4,
   "metadata": {},
   "outputs": [
    {
     "name": "stdout",
     "output_type": "stream",
     "text": [
      "Initialize a qe calculator with command OMP_NUM_THREADS=1 mpirun -np 4 pw.x\n"
     ]
    }
   ],
   "source": [
    "code = C.QeCalculator(omp=1,mpi_run='mpirun -np 4',executable='pw.x',verbose=True,skip=True)"
   ]
  },
  {
   "cell_type": "markdown",
   "metadata": {},
   "source": [
    "Specifies the input object, the name of the file and the run_dir, if post_processing is True the .run returns an instance of the pw_out method of qepppy and contains the results of the computation"
   ]
  },
  {
   "cell_type": "code",
   "execution_count": 5,
   "metadata": {},
   "outputs": [
    {
     "name": "stdout",
     "output_type": "stream",
     "text": [
      "skip the computation for : test.log\n"
     ]
    }
   ],
   "source": [
    "results = code.run(input=input,name='test',run_dir='pw_run',post_processing=True)"
   ]
  },
  {
   "cell_type": "code",
   "execution_count": 6,
   "metadata": {},
   "outputs": [
    {
     "data": {
      "text/plain": [
       "-11.39932019258356"
      ]
     },
     "execution_count": 6,
     "metadata": {},
     "output_type": "execute_result"
    }
   ],
   "source": [
    "results.E_tot"
   ]
  },
  {
   "cell_type": "markdown",
   "metadata": {},
   "source": [
    "## Dataset module : how to manage several calculations"
   ]
  },
  {
   "cell_type": "markdown",
   "metadata": {},
   "source": [
    "Show the functionality of this module by performin a convergence test for the ground state in function of the number of k-points and of the energy cutoff"
   ]
  },
  {
   "cell_type": "code",
   "execution_count": 7,
   "metadata": {},
   "outputs": [
    {
     "name": "stdout",
     "output_type": "stream",
     "text": [
      "Initialize a qe calculator with command OMP_NUM_THREADS=1 mpirun -np 4 pw.x\n"
     ]
    }
   ],
   "source": [
    "code = C.QeCalculator(omp=1,mpi_run='mpirun -np 4',executable='pw.x',verbose=True,skip=True)"
   ]
  },
  {
   "cell_type": "code",
   "execution_count": 8,
   "metadata": {},
   "outputs": [],
   "source": [
    "study = D.Dataset(label='convergence_test',run_dir='gs_run_dir')"
   ]
  },
  {
   "cell_type": "code",
   "execution_count": 9,
   "metadata": {},
   "outputs": [],
   "source": [
    "kpoints = [3,6,9,12]\n",
    "ecut = [40,60,80]"
   ]
  },
  {
   "cell_type": "code",
   "execution_count": 10,
   "metadata": {},
   "outputs": [],
   "source": [
    "for k in kpoints:\n",
    "    for e in ecut:\n",
    "        idd = {'k' : k, 'ecut' : e} \n",
    "        input.kpoints = [k,k,1]\n",
    "        input.system['ecutwfc'] = e\n",
    "        input.control['prefix'] = \"'\"+D.name_from_id(idd)+\"'\"\n",
    "        study.append_run(id=idd,runner=code,input=input)"
   ]
  },
  {
   "cell_type": "markdown",
   "metadata": {},
   "source": [
    "The paramaters of the dataset are given as follows, for instance"
   ]
  },
  {
   "cell_type": "code",
   "execution_count": 11,
   "metadata": {},
   "outputs": [
    {
     "name": "stdout",
     "output_type": "stream",
     "text": [
      "[{'k': 3, 'ecut': 40}, {'k': 3, 'ecut': 60}, {'k': 3, 'ecut': 80}, {'k': 6, 'ecut': 40}, {'k': 6, 'ecut': 60}, {'k': 6, 'ecut': 80}, {'k': 9, 'ecut': 40}, {'k': 9, 'ecut': 60}, {'k': 9, 'ecut': 80}, {'k': 12, 'ecut': 40}, {'k': 12, 'ecut': 60}, {'k': 12, 'ecut': 80}]\n",
      "[{'calc': <mppi.Calculators.Calculators.QeCalculator object at 0x7f7e827d9d30>, 'runs': [0, 1, 2, 3, 4, 5, 6, 7, 8, 9, 10, 11]}]\n",
      "&control\n",
      "          wf_collect = .true.\n",
      "          pseudo_dir = '../pseudos'\n",
      "        restart_mode = 'from_scratch'\n",
      "           verbosity = 'high'\n",
      "              prefix = 'ecut:80,k:3'\n",
      "/&end\n",
      "&system\n",
      "               ibrav = 0\n",
      "                 nat = 2\n",
      "         occupations = 'smearing'\n",
      "            smearing = 'fermi-dirac'\n",
      "             degauss = 0.0036749326\n",
      "                ntyp = 1\n",
      "             ecutwfc = 80\n",
      "/&end\n",
      "&electrons\n",
      "            conv_thr = 1e-08\n",
      "/&end\n",
      "ATOMIC_SPECIES\n",
      "   C   12.011   C_pbe-20082014.UPF\n",
      "ATOMIC_POSITIONS { angstrom }\n",
      "  C   0.0000000000   0.0000000000   0.0000000000\n",
      "  C   0.0000000000   1.4200000000   0.0000000000\n",
      "K_POINTS { automatic }\n",
      "  3  3  1  0  0  0\n",
      "CELL_PARAMETERS angstrom\n",
      "  2.4595121467   0.0000000000   0.0000000000 \n",
      "  1.2297560734   2.1300000000   0.0000000000 \n",
      "  0.0000000000   0.0000000000  10.0000000000 \n",
      "\n"
     ]
    }
   ],
   "source": [
    "print(study.ids)\n",
    "print(study.calculators)\n",
    "print(study.runs[2])"
   ]
  },
  {
   "cell_type": "code",
   "execution_count": 12,
   "metadata": {},
   "outputs": [
    {
     "name": "stdout",
     "output_type": "stream",
     "text": [
      "skip the computation for : ecut:40,k:3.log\n",
      "skip the computation for : ecut:60,k:3.log\n",
      "skip the computation for : ecut:80,k:3.log\n",
      "skip the computation for : ecut:40,k:6.log\n",
      "skip the computation for : ecut:60,k:6.log\n",
      "skip the computation for : ecut:80,k:6.log\n",
      "skip the computation for : ecut:40,k:9.log\n",
      "skip the computation for : ecut:60,k:9.log\n",
      "skip the computation for : ecut:80,k:9.log\n",
      "skip the computation for : ecut:40,k:12.log\n",
      "skip the computation for : ecut:60,k:12.log\n",
      "skip the computation for : ecut:80,k:12.log\n"
     ]
    }
   ],
   "source": [
    "results = study.run(post_processing=True)"
   ]
  },
  {
   "cell_type": "markdown",
   "metadata": {},
   "source": [
    "## Dataset module : post_processing of data"
   ]
  },
  {
   "cell_type": "markdown",
   "metadata": {},
   "source": [
    "All the results of the dataset are stored in study.results as a list"
   ]
  },
  {
   "cell_type": "code",
   "execution_count": 13,
   "metadata": {},
   "outputs": [
    {
     "data": {
      "text/plain": [
       "{0: <qepppy.qe.pw_out.pw_out at 0x7f7e827d9c18>,\n",
       " 1: <qepppy.qe.pw_out.pw_out at 0x7f7e827980b8>,\n",
       " 2: <qepppy.qe.pw_out.pw_out at 0x7f7e827cbc18>,\n",
       " 3: <qepppy.qe.pw_out.pw_out at 0x7f7e827dc0f0>,\n",
       " 4: <qepppy.qe.pw_out.pw_out at 0x7f7e827c0978>,\n",
       " 5: <qepppy.qe.pw_out.pw_out at 0x7f7e82740fd0>,\n",
       " 6: <qepppy.qe.pw_out.pw_out at 0x7f7e827dc7f0>,\n",
       " 7: <qepppy.qe.pw_out.pw_out at 0x7f7e82726f60>,\n",
       " 8: <qepppy.qe.pw_out.pw_out at 0x7f7e827aecc0>,\n",
       " 9: <qepppy.qe.pw_out.pw_out at 0x7f7e827d9b70>,\n",
       " 10: <qepppy.qe.pw_out.pw_out at 0x7f7e827dc588>,\n",
       " 11: <qepppy.qe.pw_out.pw_out at 0x7f7e826e1f98>}"
      ]
     },
     "execution_count": 13,
     "metadata": {},
     "output_type": "execute_result"
    }
   ],
   "source": [
    "study.results"
   ]
  },
  {
   "cell_type": "markdown",
   "metadata": {},
   "source": [
    "And the associated parameters are written in the ids"
   ]
  },
  {
   "cell_type": "code",
   "execution_count": 14,
   "metadata": {},
   "outputs": [
    {
     "data": {
      "text/plain": [
       "[{'k': 3, 'ecut': 40},\n",
       " {'k': 3, 'ecut': 60},\n",
       " {'k': 3, 'ecut': 80},\n",
       " {'k': 6, 'ecut': 40},\n",
       " {'k': 6, 'ecut': 60},\n",
       " {'k': 6, 'ecut': 80},\n",
       " {'k': 9, 'ecut': 40},\n",
       " {'k': 9, 'ecut': 60},\n",
       " {'k': 9, 'ecut': 80},\n",
       " {'k': 12, 'ecut': 40},\n",
       " {'k': 12, 'ecut': 60},\n",
       " {'k': 12, 'ecut': 80}]"
      ]
     },
     "execution_count": 14,
     "metadata": {},
     "output_type": "execute_result"
    }
   ],
   "source": [
    "study.ids"
   ]
  },
  {
   "cell_type": "markdown",
   "metadata": {},
   "source": [
    "The fetch_results method of Dataset can be used to extract a quantity, for instance the total energy E_tot,for a subset of the Dataset elements specified by a dictionary, as follows"
   ]
  },
  {
   "cell_type": "code",
   "execution_count": 15,
   "metadata": {},
   "outputs": [
    {
     "data": {
      "text/plain": [
       "[-11.35399815533371, -11.37225721728579, -11.3735615361433, -11.37390230022683]"
      ]
     },
     "execution_count": 15,
     "metadata": {},
     "output_type": "execute_result"
    }
   ],
   "source": [
    "data=study.fetch_results(id={'ecut': 40},attribute='E_tot')\n",
    "data"
   ]
  },
  {
   "cell_type": "markdown",
   "metadata": {},
   "source": [
    "It can also be used to plot the usual convergence analysis"
   ]
  },
  {
   "cell_type": "code",
   "execution_count": 16,
   "metadata": {},
   "outputs": [
    {
     "data": {
      "image/png": "[encoded data removed]",
      "text/plain": [
       "<Figure size 432x288 with 1 Axes>"
      ]
     },
     "metadata": {},
     "output_type": "display_data"
    }
   ],
   "source": [
    "for k in kpoints:\n",
    "    data=study.fetch_results(id={'k': k},attribute='E_tot')\n",
    "    plt.plot(ecut,data,label='k='+str(k))\n",
    "plt.title(study.label)\n",
    "plt.legend()\n",
    "plt.show()\n",
    "    "
   ]
  },
  {
   "cell_type": "code",
   "execution_count": null,
   "metadata": {},
   "outputs": [],
   "source": []
  }
 ],
 "metadata": {
  "kernelspec": {
   "display_name": "Python 3",
   "language": "python",
   "name": "python3"
  },
  "language_info": {
   "codemirror_mode": {
    "name": "ipython",
    "version": 3
   },
   "file_extension": ".py",
   "mimetype": "text/x-python",
   "name": "python",
   "nbconvert_exporter": "python",
   "pygments_lexer": "ipython3",
   "version": "3.6.7"
  }
 },
 "nbformat": 4,
 "nbformat_minor": 2
}
