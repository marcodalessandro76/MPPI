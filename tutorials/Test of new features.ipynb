{
 "cells": [
  {
   "cell_type": "code",
   "execution_count": 1,
   "metadata": {},
   "outputs": [],
   "source": [
    "import numpy as np\n",
    "import matplotlib.pyplot as plt\n",
    "from importlib import reload"
   ]
  },
  {
   "cell_type": "markdown",
   "metadata": {},
   "source": [
    "# Tests of new features"
   ]
  },
  {
   "cell_type": "markdown",
   "metadata": {},
   "source": [
    "Use this notebook to test some modifications on the classes without the need to reinstall the package "
   ]
  },
  {
   "cell_type": "code",
   "execution_count": 13,
   "metadata": {},
   "outputs": [],
   "source": [
    "import sys\n",
    "sys.path.insert(0,'/home/marco/Applications/MPPI/mppi/InputFiles/')\n",
    "sys.path.insert(0,'/home/marco/Applications/MPPI/mppi/Calculators/')\n",
    "sys.path.insert(0,'/home/marco/Applications/MPPI/mppi/Datasets/')\n",
    "import InputFiles as I, Calculators as C, Datasets as D"
   ]
  },
  {
   "cell_type": "code",
   "execution_count": 14,
   "metadata": {},
   "outputs": [],
   "source": [
    "reload(I)\n",
    "input = I.PwIn()"
   ]
  },
  {
   "cell_type": "code",
   "execution_count": 16,
   "metadata": {
    "scrolled": false
   },
   "outputs": [
    {
     "name": "stdout",
     "output_type": "stream",
     "text": [
      "&control\n",
      "          wf_collect = .true.\n",
      "        restart_mode = 'from_scratch'\n",
      "           verbosity = 'high'\n",
      "          pseudo_dir = '../pseudos'\n",
      "              prefix = 'k6_ecut80'\n",
      "/&end\n",
      "&system\n",
      "               ibrav = 0\n",
      "                ntyp = 1\n",
      "                 nat = 2\n",
      "             ecutwfc = 80\n",
      "/&end\n",
      "&electrons\n",
      "            conv_thr = 1e-08\n",
      "/&end\n",
      "ATOMIC_SPECIES\n",
      "   C   12.011   C_pbe-20082014.UPF\n",
      "ATOMIC_POSITIONS { angstrom }\n",
      "  C   0.0000000000   0.0000000000   0.0000000000\n",
      "  C   0.0000000000   1.4200000000   0.0000000000\n",
      "K_POINTS { automatic }\n",
      "  6  6  1  0  0  0\n",
      "CELL_PARAMETERS angstrom\n",
      "  2.4595121467   0.0000000000   0.0000000000 \n",
      "  1.2297560734   2.1300000000   0.0000000000 \n",
      "  0.0000000000   0.0000000000  10.0000000000 \n",
      "\n"
     ]
    }
   ],
   "source": [
    "k = 6\n",
    "ecut = 80\n",
    "a0 = 1.42\n",
    "planeSep  = 10.0\n",
    "A = [0.,0.,0.]\n",
    "B = [0.,a0,0.]\n",
    "a1 = [a0*np.sqrt(3),0.,0.]\n",
    "a2 = [a0*np.sqrt(3)/2,a0*3./2,0.]\n",
    "a3 = [0.,0.,planeSep]\n",
    "\n",
    "input.set_pseudo_dir('../pseudos')\n",
    "input.system['ibrav'] = 0\n",
    "input.cell_parameters =[a1,a2,a3]\n",
    "input.set_atoms_type(1)\n",
    "input.set_atoms_number(2)\n",
    "input.set_atoms_position(pos_type='angstrom',pos_list=[['C',A],['C',B]])\n",
    "input.atypes = {'C': [12.011,'C_pbe-20082014.UPF']}\n",
    "input.set_convergence_thr(1e-8)\n",
    "prefix = 'k'+str(k)+'_ecut'+str(ecut)\n",
    "input.set_prefix(prefix)\n",
    "input.set_kpoints(ktype='automatic',kpoints=[k,k,1])\n",
    "input.set_energy_cutoff(ecut)\n",
    "\n",
    "print(input)"
   ]
  },
  {
   "cell_type": "code",
   "execution_count": null,
   "metadata": {},
   "outputs": [],
   "source": []
  },
  {
   "cell_type": "code",
   "execution_count": 17,
   "metadata": {},
   "outputs": [],
   "source": [
    "import os\n",
    "test_dir = 'test_dir'\n",
    "if not os.path.isdir(test_dir): os.mkdir(test_dir)"
   ]
  },
  {
   "cell_type": "code",
   "execution_count": 18,
   "metadata": {},
   "outputs": [],
   "source": [
    "input.write(test_dir+'/'+'input.in')"
   ]
  },
  {
   "cell_type": "markdown",
   "metadata": {},
   "source": [
    "The instance of PwIn can be created also from an existing file"
   ]
  },
  {
   "cell_type": "code",
   "execution_count": 19,
   "metadata": {},
   "outputs": [],
   "source": [
    "reload(I)\n",
    "input2 = I.PwIn(test_dir+'/'+'input.in')"
   ]
  },
  {
   "cell_type": "code",
   "execution_count": 20,
   "metadata": {},
   "outputs": [
    {
     "name": "stdout",
     "output_type": "stream",
     "text": [
      "&control\n",
      "          wf_collect = .true.\n",
      "        restart_mode = 'from_scratch'\n",
      "           verbosity = 'high'\n",
      "          pseudo_dir = '../pseudos'\n",
      "              prefix = 'k6_ecut80'\n",
      "/&end\n",
      "&system\n",
      "               ibrav = 0\n",
      "                ntyp = 1\n",
      "                 nat = 2\n",
      "             ecutwfc = 80\n",
      "/&end\n",
      "&electrons\n",
      "            conv_thr = 1e-08\n",
      "/&end\n",
      "ATOMIC_SPECIES\n",
      "   C   12.011   C_pbe-20082014.UPF\n",
      "ATOMIC_POSITIONS { angstrom }\n",
      "  C   0.0000000000   0.0000000000   0.0000000000\n",
      "  C   0.0000000000   1.4200000000   0.0000000000\n",
      "K_POINTS { automatic }\n",
      "  6  6  1  0  0  0\n",
      "CELL_PARAMETERS angstrom\n",
      "  2.4595121467   0.0000000000   0.0000000000 \n",
      "  1.2297560734   2.1300000000   0.0000000000 \n",
      "  0.0000000000   0.0000000000  10.0000000000 \n",
      "\n"
     ]
    }
   ],
   "source": [
    "print(input2)"
   ]
  },
  {
   "cell_type": "code",
   "execution_count": null,
   "metadata": {},
   "outputs": [],
   "source": []
  },
  {
   "cell_type": "code",
   "execution_count": null,
   "metadata": {},
   "outputs": [],
   "source": []
  },
  {
   "cell_type": "code",
   "execution_count": null,
   "metadata": {},
   "outputs": [],
   "source": []
  },
  {
   "cell_type": "code",
   "execution_count": null,
   "metadata": {},
   "outputs": [],
   "source": []
  },
  {
   "cell_type": "code",
   "execution_count": null,
   "metadata": {},
   "outputs": [],
   "source": []
  },
  {
   "cell_type": "code",
   "execution_count": null,
   "metadata": {},
   "outputs": [],
   "source": []
  },
  {
   "cell_type": "code",
   "execution_count": null,
   "metadata": {},
   "outputs": [],
   "source": []
  },
  {
   "cell_type": "code",
   "execution_count": null,
   "metadata": {},
   "outputs": [],
   "source": []
  },
  {
   "cell_type": "code",
   "execution_count": null,
   "metadata": {},
   "outputs": [],
   "source": []
  }
 ],
 "metadata": {
  "kernelspec": {
   "display_name": "Python 3",
   "language": "python",
   "name": "python3"
  },
  "language_info": {
   "codemirror_mode": {
    "name": "ipython",
    "version": 3
   },
   "file_extension": ".py",
   "mimetype": "text/x-python",
   "name": "python",
   "nbconvert_exporter": "python",
   "pygments_lexer": "ipython3",
   "version": "3.6.7"
  }
 },
 "nbformat": 4,
 "nbformat_minor": 2
}
