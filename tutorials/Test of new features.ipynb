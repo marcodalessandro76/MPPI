{
 "cells": [
  {
   "cell_type": "code",
   "execution_count": 4,
   "metadata": {},
   "outputs": [],
   "source": [
    "import numpy as np\n",
    "import os\n",
    "import matplotlib.pyplot as plt\n",
    "from importlib import reload"
   ]
  },
  {
   "cell_type": "markdown",
   "metadata": {},
   "source": [
    "# Tests of new features"
   ]
  },
  {
   "cell_type": "markdown",
   "metadata": {},
   "source": [
    "Use this notebook to test some modifications on the classes without the need to reinstall the package "
   ]
  },
  {
   "cell_type": "code",
   "execution_count": 5,
   "metadata": {},
   "outputs": [],
   "source": [
    "import sys\n",
    "sys.path.insert(0,'/home/marco/Applications/MPPI/mppi/InputFiles/')\n",
    "sys.path.insert(0,'/home/marco/Applications/MPPI/mppi/Calculators/')\n",
    "sys.path.insert(0,'/home/marco/Applications/MPPI/mppi/Datasets/')\n",
    "import InputFiles as I, Calculators as C, Datasets as D"
   ]
  },
  {
   "cell_type": "code",
   "execution_count": 6,
   "metadata": {},
   "outputs": [],
   "source": [
    "reload(I)\n",
    "input = I.PwIn()"
   ]
  },
  {
   "cell_type": "code",
   "execution_count": 315,
   "metadata": {
    "scrolled": false
   },
   "outputs": [
    {
     "name": "stdout",
     "output_type": "stream",
     "text": [
      "&control\n",
      "           verbosity = 'high'\n",
      "          pseudo_dir = '../pseudos'\n",
      "              prefix = 'ecut:100,k:6'\n",
      "         calculation = 'nscf'\n",
      "/&end\n",
      "&system\n",
      "               ibrav = 0\n",
      "                ntyp = 1\n",
      "                 nat = 2\n",
      "             ecutwfc = 80\n",
      "                nbnd = 12\n",
      "/&end\n",
      "&electrons\n",
      "            conv_thr = 1e-08\n",
      "/&end\n",
      "ATOMIC_SPECIES\n",
      "   C   12.011   C_pbe-20082014.UPF\n",
      "ATOMIC_POSITIONS { angstrom }\n",
      "  C   0.0000000000   0.0000000000   0.0000000000\n",
      "  C   0.0000000000   1.4200000000   0.0000000000\n",
      "K_POINTS { automatic }\n",
      "  6  6  1  0  0  0\n",
      "CELL_PARAMETERS angstrom\n",
      "  2.4595121467   0.0000000000   0.0000000000 \n",
      "  1.2297560734   2.1300000000   0.0000000000 \n",
      "  0.0000000000   0.0000000000  10.0000000000 \n",
      "\n"
     ]
    }
   ],
   "source": [
    "k = 6\n",
    "ecut = 80\n",
    "a0 = 1.42\n",
    "planeSep  = 10.0\n",
    "A = [0.,0.,0.]\n",
    "B = [0.,a0,0.]\n",
    "a1 = [a0*np.sqrt(3),0.,0.]\n",
    "a2 = [a0*np.sqrt(3)/2,a0*3./2,0.]\n",
    "a3 = [0.,0.,planeSep]\n",
    "\n",
    "input.set_calculation('nscf')\n",
    "input.system['nbnd'] = 12\n",
    "input.set_pseudo_dir('../pseudos')\n",
    "input.system['ibrav'] = 0\n",
    "input.cell_parameters =[a1,a2,a3]\n",
    "input.set_atoms_type(1)\n",
    "input.set_atoms_number(2)\n",
    "input.set_atoms_position(pos_type='angstrom',pos_list=[['C',A],['C',B]])\n",
    "input.atypes = {'C': [12.011,'C_pbe-20082014.UPF']}\n",
    "input.set_convergence_thr(1e-8)\n",
    "#prefix = 'k'+str(k)+'_ecut'+str(ecut)\n",
    "#input.set_prefix(prefix)\n",
    "input.set_kpoints(ktype='automatic',kpoints=[k,k,1])\n",
    "input.set_energy_cutoff(ecut)\n",
    "\n",
    "print(input)"
   ]
  },
  {
   "cell_type": "markdown",
   "metadata": {},
   "source": [
    "## pre_processing for dataset"
   ]
  },
  {
   "cell_type": "markdown",
   "metadata": {},
   "source": [
    "In some cases it can be useful to perform some preliminary operations before running a computation. E.g. copy of the scf save folder in the appropriate location before starting with a nscf computation or preparing the SAVE folder before a Yambo computation.\n",
    "\n",
    "For this reason we can introduce a pre_processing function "
   ]
  },
  {
   "cell_type": "code",
   "execution_count": 297,
   "metadata": {},
   "outputs": [
    {
     "data": {
      "text/plain": [
       "<module 'Datasets' from '/home/marco/Applications/MPPI/mppi/Datasets/Datasets.py'>"
      ]
     },
     "execution_count": 297,
     "metadata": {},
     "output_type": "execute_result"
    }
   ],
   "source": [
    "reload(D)"
   ]
  },
  {
   "cell_type": "code",
   "execution_count": 316,
   "metadata": {},
   "outputs": [
    {
     "name": "stdout",
     "output_type": "stream",
     "text": [
      "Initialize a qe calculator with command OMP_NUM_THREADS=1 mpirun -np 4 pw.x\n"
     ]
    }
   ],
   "source": [
    "code = C.QeCalculator(omp=1,mpi_run='mpirun -np 4',executable='pw.x',verbose=True,skip=False)"
   ]
  },
  {
   "cell_type": "code",
   "execution_count": 317,
   "metadata": {},
   "outputs": [],
   "source": [
    "study = D.Dataset(label='prova',run_dir='nscf',pre_processing='nscf',source_dir='gs_run_dir')"
   ]
  },
  {
   "cell_type": "code",
   "execution_count": 318,
   "metadata": {},
   "outputs": [
    {
     "data": {
      "text/plain": [
       "'nscf'"
      ]
     },
     "execution_count": 318,
     "metadata": {},
     "output_type": "execute_result"
    }
   ],
   "source": [
    "study.pre_processing"
   ]
  },
  {
   "cell_type": "code",
   "execution_count": 319,
   "metadata": {},
   "outputs": [
    {
     "data": {
      "text/plain": [
       "{'pre_processing': 'nscf', 'source_dir': 'gs_run_dir'}"
      ]
     },
     "execution_count": 319,
     "metadata": {},
     "output_type": "execute_result"
    }
   ],
   "source": [
    "study.kwargs"
   ]
  },
  {
   "cell_type": "code",
   "execution_count": 320,
   "metadata": {},
   "outputs": [],
   "source": [
    "kpoints = [3,6]"
   ]
  },
  {
   "cell_type": "code",
   "execution_count": 321,
   "metadata": {},
   "outputs": [],
   "source": [
    "for k in kpoints:\n",
    "    idd = {'k' : k, 'ecut' : 100} \n",
    "    input.set_prefix(D.name_from_id(idd))\n",
    "    input.set_kpoints(ktype='automatic',kpoints=[k,k,1])\n",
    "    input.set_energy_cutoff(100)\n",
    "    study.append_run(id=idd,calculator=code,input=input)"
   ]
  },
  {
   "cell_type": "code",
   "execution_count": 322,
   "metadata": {},
   "outputs": [
    {
     "name": "stdout",
     "output_type": "stream",
     "text": [
      "&control\n",
      "           verbosity = 'high'\n",
      "          pseudo_dir = '../pseudos'\n",
      "              prefix = 'ecut:100,k:6'\n",
      "         calculation = 'nscf'\n",
      "/&end\n",
      "&system\n",
      "               ibrav = 0\n",
      "                ntyp = 1\n",
      "                 nat = 2\n",
      "             ecutwfc = 100\n",
      "                nbnd = 12\n",
      "/&end\n",
      "&electrons\n",
      "            conv_thr = 1e-08\n",
      "/&end\n",
      "ATOMIC_SPECIES\n",
      "   C   12.011   C_pbe-20082014.UPF\n",
      "ATOMIC_POSITIONS { angstrom }\n",
      "  C   0.0000000000   0.0000000000   0.0000000000\n",
      "  C   0.0000000000   1.4200000000   0.0000000000\n",
      "K_POINTS { automatic }\n",
      "  6  6  1  0  0  0\n",
      "CELL_PARAMETERS angstrom\n",
      "  2.4595121467   0.0000000000   0.0000000000 \n",
      "  1.2297560734   2.1300000000   0.0000000000 \n",
      "  0.0000000000   0.0000000000  10.0000000000 \n",
      "\n"
     ]
    }
   ],
   "source": [
    "print(study.runs[1])"
   ]
  },
  {
   "cell_type": "code",
   "execution_count": 324,
   "metadata": {},
   "outputs": [
    {
     "name": "stdout",
     "output_type": "stream",
     "text": [
      "nsct save folder already exsists. Save folder NOT COPIED\n",
      "nsct save folder already exsists. Save folder NOT COPIED\n",
      "execute : cd nscf ; OMP_NUM_THREADS=1 mpirun -np 4 pw.x -inp ecut:100,k:3.in > ecut:100,k:3.log\n",
      "execute : cd nscf ; OMP_NUM_THREADS=1 mpirun -np 4 pw.x -inp ecut:100,k:6.in > ecut:100,k:6.log\n"
     ]
    }
   ],
   "source": [
    "study.run()"
   ]
  },
  {
   "cell_type": "code",
   "execution_count": null,
   "metadata": {},
   "outputs": [],
   "source": []
  },
  {
   "cell_type": "code",
   "execution_count": null,
   "metadata": {},
   "outputs": [],
   "source": []
  },
  {
   "cell_type": "code",
   "execution_count": null,
   "metadata": {},
   "outputs": [],
   "source": []
  },
  {
   "cell_type": "code",
   "execution_count": null,
   "metadata": {},
   "outputs": [],
   "source": []
  }
 ],
 "metadata": {
  "kernelspec": {
   "display_name": "Python 3",
   "language": "python",
   "name": "python3"
  },
  "language_info": {
   "codemirror_mode": {
    "name": "ipython",
    "version": 3
   },
   "file_extension": ".py",
   "mimetype": "text/x-python",
   "name": "python",
   "nbconvert_exporter": "python",
   "pygments_lexer": "ipython3",
   "version": "3.6.7"
  }
 },
 "nbformat": 4,
 "nbformat_minor": 2
}
